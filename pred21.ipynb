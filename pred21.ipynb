{
 "cells": [
  {
   "cell_type": "code",
   "execution_count": 1,
   "metadata": {
    "executionInfo": {
     "elapsed": 1253,
     "status": "ok",
     "timestamp": 1666074397125,
     "user": {
      "displayName": "Ervin Xue",
      "userId": "14119164336412865227"
     },
     "user_tz": -660
    },
    "id": "IpyC2WyY9n_8"
   },
   "outputs": [
    {
     "name": "stderr",
     "output_type": "stream",
     "text": [
      "/opt/anaconda3/lib/python3.9/site-packages/xgboost/compat.py:36: FutureWarning: pandas.Int64Index is deprecated and will be removed from pandas in a future version. Use pandas.Index with the appropriate dtype instead.\n",
      "  from pandas import MultiIndex, Int64Index\n"
     ]
    }
   ],
   "source": [
    "import numpy as np\n",
    "import pandas as pd\n",
    "\n",
    "from sklearn.metrics import f1_score\n",
    "\n",
    "from sklearn.model_selection import train_test_split\n",
    "from sklearn.preprocessing import MinMaxScaler, StandardScaler\n",
    "#guides from home page and github\n",
    "#https://catboost.ai/\n",
    "#https://github.com/catboost/catboost\n",
    "\n",
    "from catboost import Pool, CatBoostClassifier"
   ]
  },
  {
   "cell_type": "code",
   "execution_count": 3,
   "metadata": {
    "executionInfo": {
     "elapsed": 11583,
     "status": "ok",
     "timestamp": 1666074432235,
     "user": {
      "displayName": "Ervin Xue",
      "userId": "14119164336412865227"
     },
     "user_tz": -660
    },
    "id": "TnQj-Z9B-GxO"
   },
   "outputs": [],
   "source": [
    "#use the features after feature selection\n",
    "x= np.load('feature_train1.npy')\n",
    "y= np.load('labels.npy')"
   ]
  },
  {
   "cell_type": "code",
   "execution_count": 4,
   "metadata": {
    "executionInfo": {
     "elapsed": 2568,
     "status": "ok",
     "timestamp": 1666074434784,
     "user": {
      "displayName": "Ervin Xue",
      "userId": "14119164336412865227"
     },
     "user_tz": -660
    },
    "id": "f3NLA_HQiOnT"
   },
   "outputs": [],
   "source": [
    "# make scaler to reshape the size of x \n",
    "scaler = StandardScaler()\n",
    "x =scaler.fit_transform(x)"
   ]
  },
  {
   "cell_type": "code",
   "execution_count": 5,
   "metadata": {
    "colab": {
     "base_uri": "https://localhost:8080/"
    },
    "executionInfo": {
     "elapsed": 2098,
     "status": "ok",
     "timestamp": 1666074436879,
     "user": {
      "displayName": "Ervin Xue",
      "userId": "14119164336412865227"
     },
     "user_tz": -660
    },
    "id": "24Ke_IBvi-LX",
    "outputId": "e0e93441-8c1c-46d8-91c0-688dc3af89db"
   },
   "outputs": [
    {
     "data": {
      "text/plain": [
       "(40713, 101)"
      ]
     },
     "execution_count": 5,
     "metadata": {},
     "output_type": "execute_result"
    }
   ],
   "source": [
    "#reshape and tune the data\n",
    "\n",
    "pv_idx =np.where(y[:,-1]!=1.)[0]\n",
    "nv_idx =np.where(y[:,-1] ==1.)[0]\n",
    "\n",
    "#use positive and negative \n",
    "pv=x[pv_idx]\n",
    "nv=x[nv_idx]\n",
    "rp_num =int((nv.shape[0] -pv.shape[0])/pv.shape[0])\n",
    "rp_pv = np.repeat(pv,2,axis=0)\n",
    "x=np.concatenate((x,rp_pv))\n",
    "\n",
    "y_pv=y[pv_idx]\n",
    "y_nv=y[nv_idx]\n",
    "y_rp_pv = np.repeat(y_pv,2,axis=0)\n",
    "y=np.concatenate((y,y_rp_pv))\n",
    "y.shape\n"
   ]
  },
  {
   "cell_type": "code",
   "execution_count": 6,
   "metadata": {
    "colab": {
     "base_uri": "https://localhost:8080/"
    },
    "executionInfo": {
     "elapsed": 6,
     "status": "ok",
     "timestamp": 1666074436879,
     "user": {
      "displayName": "Ervin Xue",
      "userId": "14119164336412865227"
     },
     "user_tz": -660
    },
    "id": "A5Wi_eCPYN33",
    "outputId": "1fc49a4a-fcc6-4cbb-e53c-6d623d9c73f0"
   },
   "outputs": [
    {
     "data": {
      "text/plain": [
       "array([ 36,  45, 100,  97,   2, 100, 100, 100, 100,   2])"
      ]
     },
     "execution_count": 6,
     "metadata": {},
     "output_type": "execute_result"
    }
   ],
   "source": [
    "#Use the largest and possible number from 101 dimensions\n",
    "class_labels = np.argmax(y, axis=1)\n",
    "class_labels[:10]"
   ]
  },
  {
   "cell_type": "code",
   "execution_count": 7,
   "metadata": {
    "executionInfo": {
     "elapsed": 58759,
     "status": "ok",
     "timestamp": 1666074495636,
     "user": {
      "displayName": "Ervin Xue",
      "userId": "14119164336412865227"
     },
     "user_tz": -660
    },
    "id": "5LruTmLDM6Y1"
   },
   "outputs": [],
   "source": [
    "x_train,x_test, y_train, y_test = train_test_split(x, class_labels, test_size=0.3, random_state=1)"
   ]
  },
  {
   "cell_type": "code",
   "execution_count": 8,
   "metadata": {
    "executionInfo": {
     "elapsed": 23978,
     "status": "ok",
     "timestamp": 1666074520181,
     "user": {
      "displayName": "Ervin Xue",
      "userId": "14119164336412865227"
     },
     "user_tz": -660
    },
    "id": "J2I-5uZxYN37"
   },
   "outputs": [],
   "source": [
    "#the use of the pool function from CatBoost website\n",
    "#https://catboost.ai/en/docs/concepts/python-reference_pool\n",
    "train_pool = Pool(data=x_train, label=y_train)\n",
    "test_pool = Pool(data=x_test, label=y_test) "
   ]
  },
  {
   "cell_type": "code",
   "execution_count": 11,
   "metadata": {
    "executionInfo": {
     "elapsed": 22,
     "status": "ok",
     "timestamp": 1666074520182,
     "user": {
      "displayName": "Ervin Xue",
      "userId": "14119164336412865227"
     },
     "user_tz": -660
    },
    "id": "jqvkq-uMYN38"
   },
   "outputs": [],
   "source": [
    "#https://datascience.stackexchange.com/questions/67548/getting-feature-vectors-from-catboost-pool\n",
    "#use classifier after pool\n",
    "model = CatBoostClassifier(\n",
    "    #iteration test\n",
    "    iterations=2000,\n",
    "    learning_rate=0.1,\n",
    "    random_strength=0.1,\n",
    "    depth=10,\n",
    "    loss_function='MultiClass',\n",
    "    eval_metric='Accuracy',\n",
    "    leaf_estimation_method='Newton',\n",
    "    task_type=\"GPU\"\n",
    ")"
   ]
  },
  {
   "cell_type": "code",
   "execution_count": 17,
   "metadata": {
    "colab": {
     "base_uri": "https://localhost:8080/",
     "height": 1000,
     "referenced_widgets": [
      "e8864b9017b14bdd876b4ea20cfb828f"
     ]
    },
    "executionInfo": {
     "elapsed": 1365956,
     "status": "ok",
     "timestamp": 1666077602818,
     "user": {
      "displayName": "Ervin Xue",
      "userId": "14119164336412865227"
     },
     "user_tz": -660
    },
    "id": "2XI6ERVUYN38",
    "outputId": "c628b4f7-af0c-4280-b130-1176d06f35a8"
   },
   "outputs": [
    {
     "data": {
      "application/vnd.jupyter.widget-view+json": {
       "model_id": "e8864b9017b14bdd876b4ea20cfb828f",
       "version_major": 2,
       "version_minor": 0
      },
      "text/plain": [
       "MetricVisualizer(layout=Layout(align_self='stretch', height='500px'))"
      ]
     },
     "metadata": {},
     "output_type": "display_data"
    },
    {
     "name": "stdout",
     "output_type": "stream",
     "text": [
      "0:\tlearn: 0.4809642\ttest: 0.4811692\tbest: 0.4811692 (0)\ttotal: 681ms\tremaining: 22m 41s\n",
      "1:\tlearn: 0.4871048\ttest: 0.4889471\tbest: 0.4889471 (1)\ttotal: 1.33s\tremaining: 22m 5s\n",
      "2:\tlearn: 0.4918418\ttest: 0.4941051\tbest: 0.4941051 (2)\ttotal: 1.99s\tremaining: 22m 7s\n",
      "3:\tlearn: 0.4965437\ttest: 0.4983625\tbest: 0.4983625 (3)\ttotal: 2.65s\tremaining: 22m 2s\n",
      "4:\tlearn: 0.4982982\ttest: 0.5004094\tbest: 0.5004094 (4)\ttotal: 3.29s\tremaining: 21m 54s\n",
      "5:\tlearn: 0.5045089\ttest: 0.5055674\tbest: 0.5055674 (5)\ttotal: 3.94s\tremaining: 21m 50s\n",
      "6:\tlearn: 0.5086845\ttest: 0.5090879\tbest: 0.5090879 (6)\ttotal: 4.6s\tremaining: 21m 48s\n",
      "7:\tlearn: 0.5118776\ttest: 0.5117079\tbest: 0.5117079 (7)\ttotal: 5.26s\tremaining: 21m 48s\n",
      "8:\tlearn: 0.5154216\ttest: 0.5154740\tbest: 0.5154740 (8)\ttotal: 5.92s\tremaining: 21m 50s\n",
      "9:\tlearn: 0.5185796\ttest: 0.5184215\tbest: 0.5184215 (9)\ttotal: 6.58s\tremaining: 21m 49s\n",
      "10:\tlearn: 0.5227552\ttest: 0.5221877\tbest: 0.5221877 (10)\ttotal: 7.24s\tremaining: 21m 48s\n",
      "11:\tlearn: 0.5270711\ttest: 0.5266088\tbest: 0.5266088 (11)\ttotal: 7.9s\tremaining: 21m 48s\n",
      "12:\tlearn: 0.5315274\ttest: 0.5292288\tbest: 0.5292288 (12)\ttotal: 8.54s\tremaining: 21m 46s\n",
      "13:\tlearn: 0.5355977\ttest: 0.5327493\tbest: 0.5327493 (13)\ttotal: 9.2s\tremaining: 21m 45s\n",
      "14:\tlearn: 0.5365451\ttest: 0.5329949\tbest: 0.5329949 (14)\ttotal: 9.86s\tremaining: 21m 44s\n",
      "15:\tlearn: 0.5408260\ttest: 0.5372523\tbest: 0.5372523 (15)\ttotal: 10.5s\tremaining: 21m 43s\n",
      "16:\tlearn: 0.5430366\ttest: 0.5389717\tbest: 0.5389717 (16)\ttotal: 11.2s\tremaining: 21m 42s\n",
      "17:\tlearn: 0.5442647\ttest: 0.5397904\tbest: 0.5397904 (17)\ttotal: 11.8s\tremaining: 21m 42s\n",
      "18:\tlearn: 0.5450367\ttest: 0.5406910\tbest: 0.5406910 (18)\ttotal: 12.5s\tremaining: 21m 41s\n",
      "19:\tlearn: 0.5471771\ttest: 0.5425741\tbest: 0.5425741 (19)\ttotal: 13.1s\tremaining: 21m 40s\n",
      "20:\tlearn: 0.5498789\ttest: 0.5451122\tbest: 0.5451122 (20)\ttotal: 13.8s\tremaining: 21m 41s\n",
      "21:\tlearn: 0.5508263\ttest: 0.5465859\tbest: 0.5465859 (21)\ttotal: 14.5s\tremaining: 21m 40s\n",
      "22:\tlearn: 0.5531773\ttest: 0.5477321\tbest: 0.5477321 (22)\ttotal: 15.2s\tremaining: 21m 43s\n",
      "23:\tlearn: 0.5532124\ttest: 0.5481415\tbest: 0.5481415 (23)\ttotal: 15.8s\tremaining: 21m 42s\n",
      "24:\tlearn: 0.5531422\ttest: 0.5480596\tbest: 0.5481415 (23)\ttotal: 16.5s\tremaining: 21m 41s\n",
      "25:\tlearn: 0.5548967\ttest: 0.5488783\tbest: 0.5488783 (25)\ttotal: 17.1s\tremaining: 21m 40s\n",
      "26:\tlearn: 0.5553528\ttest: 0.5495333\tbest: 0.5495333 (26)\ttotal: 17.8s\tremaining: 21m 39s\n",
      "27:\tlearn: 0.5572476\ttest: 0.5519895\tbest: 0.5519895 (27)\ttotal: 18.4s\tremaining: 21m 38s\n",
      "28:\tlearn: 0.5600898\ttest: 0.5539545\tbest: 0.5539545 (28)\ttotal: 19.1s\tremaining: 21m 40s\n",
      "29:\tlearn: 0.5616337\ttest: 0.5545276\tbest: 0.5545276 (29)\ttotal: 19.8s\tremaining: 21m 42s\n",
      "30:\tlearn: 0.5629671\ttest: 0.5563288\tbest: 0.5563288 (30)\ttotal: 20.5s\tremaining: 21m 42s\n",
      "31:\tlearn: 0.5645812\ttest: 0.5577206\tbest: 0.5577206 (31)\ttotal: 21.2s\tremaining: 21m 41s\n",
      "32:\tlearn: 0.5667216\ttest: 0.5593581\tbest: 0.5593581 (32)\ttotal: 21.8s\tremaining: 21m 40s\n",
      "33:\tlearn: 0.5683357\ttest: 0.5612412\tbest: 0.5612412 (33)\ttotal: 22.5s\tremaining: 21m 40s\n",
      "34:\tlearn: 0.5698095\ttest: 0.5622237\tbest: 0.5622237 (34)\ttotal: 23.2s\tremaining: 21m 39s\n",
      "35:\tlearn: 0.5723359\ttest: 0.5654167\tbest: 0.5654167 (35)\ttotal: 23.8s\tremaining: 21m 38s\n",
      "36:\tlearn: 0.5730727\ttest: 0.5663992\tbest: 0.5663992 (36)\ttotal: 24.5s\tremaining: 21m 37s\n",
      "37:\tlearn: 0.5742307\ttest: 0.5678729\tbest: 0.5678729 (37)\ttotal: 25.1s\tremaining: 21m 36s\n",
      "38:\tlearn: 0.5748272\ttest: 0.5686917\tbest: 0.5686917 (38)\ttotal: 25.8s\tremaining: 21m 36s\n",
      "39:\tlearn: 0.5761255\ttest: 0.5703291\tbest: 0.5703291 (39)\ttotal: 26.4s\tremaining: 21m 35s\n",
      "40:\tlearn: 0.5796695\ttest: 0.5736041\tbest: 0.5736041 (40)\ttotal: 27.1s\tremaining: 21m 34s\n",
      "41:\tlearn: 0.5814239\ttest: 0.5751597\tbest: 0.5751597 (41)\ttotal: 27.7s\tremaining: 21m 33s\n",
      "42:\tlearn: 0.5841608\ttest: 0.5768790\tbest: 0.5768790 (42)\ttotal: 28.4s\tremaining: 21m 32s\n",
      "43:\tlearn: 0.5865820\ttest: 0.5788439\tbest: 0.5788439 (43)\ttotal: 29.1s\tremaining: 21m 32s\n",
      "44:\tlearn: 0.5877750\ttest: 0.5799902\tbest: 0.5799902 (44)\ttotal: 29.8s\tremaining: 21m 32s\n",
      "45:\tlearn: 0.5900207\ttest: 0.5823645\tbest: 0.5823645 (45)\ttotal: 30.4s\tremaining: 21m 31s\n",
      "46:\tlearn: 0.5916348\ttest: 0.5835107\tbest: 0.5835107 (46)\ttotal: 31.1s\tremaining: 21m 31s\n",
      "47:\tlearn: 0.5918453\ttest: 0.5835107\tbest: 0.5835107 (46)\ttotal: 31.7s\tremaining: 21m 30s\n",
      "48:\tlearn: 0.5917401\ttest: 0.5835107\tbest: 0.5835107 (46)\ttotal: 32.4s\tremaining: 21m 29s\n",
      "49:\tlearn: 0.5939858\ttest: 0.5856394\tbest: 0.5856394 (49)\ttotal: 33s\tremaining: 21m 28s\n",
      "50:\tlearn: 0.5944068\ttest: 0.5861307\tbest: 0.5861307 (50)\ttotal: 33.7s\tremaining: 21m 29s\n",
      "51:\tlearn: 0.5955998\ttest: 0.5870313\tbest: 0.5870313 (51)\ttotal: 34.4s\tremaining: 21m 28s\n",
      "52:\tlearn: 0.5959156\ttest: 0.5870313\tbest: 0.5870313 (51)\ttotal: 35.1s\tremaining: 21m 27s\n",
      "53:\tlearn: 0.5974946\ttest: 0.5877681\tbest: 0.5877681 (53)\ttotal: 35.7s\tremaining: 21m 27s\n",
      "54:\tlearn: 0.5992140\ttest: 0.5891600\tbest: 0.5891600 (54)\ttotal: 36.4s\tremaining: 21m 26s\n",
      "55:\tlearn: 0.5993895\ttest: 0.5892419\tbest: 0.5892419 (55)\ttotal: 37s\tremaining: 21m 25s\n",
      "56:\tlearn: 0.6002316\ttest: 0.5904700\tbest: 0.5904700 (56)\ttotal: 37.7s\tremaining: 21m 24s\n",
      "57:\tlearn: 0.6036001\ttest: 0.5934174\tbest: 0.5934174 (57)\ttotal: 38.4s\tremaining: 21m 25s\n",
      "58:\tlearn: 0.6035650\ttest: 0.5934993\tbest: 0.5934993 (58)\ttotal: 39s\tremaining: 21m 24s\n",
      "59:\tlearn: 0.6048282\ttest: 0.5947274\tbest: 0.5947274 (59)\ttotal: 39.7s\tremaining: 21m 23s\n",
      "60:\tlearn: 0.6065125\ttest: 0.5966923\tbest: 0.5966923 (60)\ttotal: 40.4s\tremaining: 21m 22s\n",
      "61:\tlearn: 0.6086529\ttest: 0.5978385\tbest: 0.5978385 (61)\ttotal: 41s\tremaining: 21m 21s\n",
      "62:\tlearn: 0.6095302\ttest: 0.5984935\tbest: 0.5984935 (62)\ttotal: 41.7s\tremaining: 21m 21s\n",
      "63:\tlearn: 0.6110741\ttest: 0.5998035\tbest: 0.5998035 (63)\ttotal: 42.4s\tremaining: 21m 22s\n",
      "64:\tlearn: 0.6124075\ttest: 0.6008679\tbest: 0.6008679 (64)\ttotal: 43s\tremaining: 21m 21s\n",
      "65:\tlearn: 0.6141619\ttest: 0.6016866\tbest: 0.6016866 (65)\ttotal: 43.7s\tremaining: 21m 20s\n",
      "66:\tlearn: 0.6154953\ttest: 0.6032422\tbest: 0.6032422 (66)\ttotal: 44.4s\tremaining: 21m 19s\n",
      "67:\tlearn: 0.6174954\ttest: 0.6047159\tbest: 0.6047159 (67)\ttotal: 45s\tremaining: 21m 18s\n",
      "68:\tlearn: 0.6185831\ttest: 0.6058621\tbest: 0.6058621 (68)\ttotal: 45.7s\tremaining: 21m 18s\n",
      "69:\tlearn: 0.6207937\ttest: 0.6083183\tbest: 0.6083183 (69)\ttotal: 46.3s\tremaining: 21m 17s\n",
      "70:\tlearn: 0.6225832\ttest: 0.6095464\tbest: 0.6095464 (70)\ttotal: 47s\tremaining: 21m 17s\n",
      "71:\tlearn: 0.6234956\ttest: 0.6111020\tbest: 0.6111020 (71)\ttotal: 47.7s\tremaining: 21m 16s\n",
      "72:\tlearn: 0.6250746\ttest: 0.6125757\tbest: 0.6125757 (72)\ttotal: 48.3s\tremaining: 21m 15s\n",
      "73:\tlearn: 0.6259869\ttest: 0.6133945\tbest: 0.6133945 (73)\ttotal: 49s\tremaining: 21m 14s\n",
      "74:\tlearn: 0.6274957\ttest: 0.6150319\tbest: 0.6150319 (74)\ttotal: 49.6s\tremaining: 21m 13s\n",
      "75:\tlearn: 0.6275659\ttest: 0.6153594\tbest: 0.6153594 (75)\ttotal: 50.3s\tremaining: 21m 13s\n",
      "76:\tlearn: 0.6278115\ttest: 0.6152776\tbest: 0.6153594 (75)\ttotal: 50.9s\tremaining: 21m 12s\n",
      "77:\tlearn: 0.6282677\ttest: 0.6154413\tbest: 0.6154413 (77)\ttotal: 51.6s\tremaining: 21m 11s\n",
      "78:\tlearn: 0.6289343\ttest: 0.6163419\tbest: 0.6163419 (78)\ttotal: 52.3s\tremaining: 21m 10s\n",
      "79:\tlearn: 0.6293203\ttest: 0.6161782\tbest: 0.6163419 (78)\ttotal: 52.9s\tremaining: 21m 10s\n",
      "80:\tlearn: 0.6312853\ttest: 0.6187162\tbest: 0.6187162 (80)\ttotal: 53.6s\tremaining: 21m 9s\n",
      "81:\tlearn: 0.6319520\ttest: 0.6191256\tbest: 0.6191256 (81)\ttotal: 54.3s\tremaining: 21m 9s\n",
      "82:\tlearn: 0.6324783\ttest: 0.6198625\tbest: 0.6198625 (82)\ttotal: 54.9s\tremaining: 21m 8s\n",
      "83:\tlearn: 0.6336363\ttest: 0.6205993\tbest: 0.6205993 (83)\ttotal: 55.7s\tremaining: 21m 10s\n",
      "84:\tlearn: 0.6351802\ttest: 0.6214180\tbest: 0.6214180 (84)\ttotal: 56.4s\tremaining: 21m 11s\n",
      "85:\tlearn: 0.6373908\ttest: 0.6236286\tbest: 0.6236286 (85)\ttotal: 57.1s\tremaining: 21m 11s\n",
      "86:\tlearn: 0.6380926\ttest: 0.6244474\tbest: 0.6244474 (86)\ttotal: 57.8s\tremaining: 21m 10s\n",
      "87:\tlearn: 0.6387242\ttest: 0.6251842\tbest: 0.6251842 (87)\ttotal: 58.4s\tremaining: 21m 9s\n",
      "88:\tlearn: 0.6392505\ttest: 0.6259211\tbest: 0.6259211 (88)\ttotal: 59.1s\tremaining: 21m 8s\n",
      "89:\tlearn: 0.6404786\ttest: 0.6267398\tbest: 0.6267398 (89)\ttotal: 59.8s\tremaining: 21m 8s\n",
      "90:\tlearn: 0.6408295\ttest: 0.6273948\tbest: 0.6273948 (90)\ttotal: 1m\tremaining: 21m 7s\n",
      "91:\tlearn: 0.6416716\ttest: 0.6283773\tbest: 0.6283773 (91)\ttotal: 1m 1s\tremaining: 21m 7s\n",
      "92:\tlearn: 0.6427594\ttest: 0.6292779\tbest: 0.6292779 (92)\ttotal: 1m 1s\tremaining: 21m 6s\n",
      "93:\tlearn: 0.6446893\ttest: 0.6301785\tbest: 0.6301785 (93)\ttotal: 1m 2s\tremaining: 21m 5s\n",
      "94:\tlearn: 0.6456718\ttest: 0.6315703\tbest: 0.6315703 (94)\ttotal: 1m 3s\tremaining: 21m 4s\n",
      "95:\tlearn: 0.6455665\ttest: 0.6318159\tbest: 0.6318159 (95)\ttotal: 1m 3s\tremaining: 21m 3s\n",
      "96:\tlearn: 0.6463385\ttest: 0.6329622\tbest: 0.6329622 (96)\ttotal: 1m 4s\tremaining: 21m 3s\n",
      "97:\tlearn: 0.6478122\ttest: 0.6344359\tbest: 0.6344359 (97)\ttotal: 1m 5s\tremaining: 21m 2s\n",
      "98:\tlearn: 0.6502333\ttest: 0.6361552\tbest: 0.6361552 (98)\ttotal: 1m 5s\tremaining: 21m 2s\n",
      "99:\tlearn: 0.6510404\ttest: 0.6367283\tbest: 0.6367283 (99)\ttotal: 1m 6s\tremaining: 21m 2s\n",
      "100:\tlearn: 0.6516369\ttest: 0.6370558\tbest: 0.6370558 (100)\ttotal: 1m 7s\tremaining: 21m 1s\n",
      "101:\tlearn: 0.6524790\ttest: 0.6375471\tbest: 0.6375471 (101)\ttotal: 1m 7s\tremaining: 21m\n",
      "102:\tlearn: 0.6534615\ttest: 0.6379564\tbest: 0.6379564 (102)\ttotal: 1m 8s\tremaining: 21m\n",
      "103:\tlearn: 0.6543387\ttest: 0.6388570\tbest: 0.6388570 (103)\ttotal: 1m 9s\tremaining: 20m 59s\n",
      "104:\tlearn: 0.6550054\ttest: 0.6397577\tbest: 0.6397577 (104)\ttotal: 1m 9s\tremaining: 20m 58s\n",
      "105:\tlearn: 0.6579880\ttest: 0.6426232\tbest: 0.6426232 (105)\ttotal: 1m 10s\tremaining: 20m 58s\n",
      "106:\tlearn: 0.6601635\ttest: 0.6444244\tbest: 0.6444244 (106)\ttotal: 1m 11s\tremaining: 20m 58s\n",
      "107:\tlearn: 0.6608302\ttest: 0.6448338\tbest: 0.6448338 (107)\ttotal: 1m 11s\tremaining: 20m 57s\n",
      "108:\tlearn: 0.6617074\ttest: 0.6454888\tbest: 0.6454888 (108)\ttotal: 1m 12s\tremaining: 20m 57s\n",
      "109:\tlearn: 0.6625145\ttest: 0.6458163\tbest: 0.6458163 (109)\ttotal: 1m 13s\tremaining: 20m 56s\n",
      "110:\tlearn: 0.6627952\ttest: 0.6461438\tbest: 0.6461438 (110)\ttotal: 1m 13s\tremaining: 20m 56s\n",
      "111:\tlearn: 0.6642689\ttest: 0.6471262\tbest: 0.6471262 (111)\ttotal: 1m 14s\tremaining: 20m 55s\n",
      "112:\tlearn: 0.6656023\ttest: 0.6484362\tbest: 0.6484362 (112)\ttotal: 1m 15s\tremaining: 20m 54s\n",
      "113:\tlearn: 0.6664795\ttest: 0.6493368\tbest: 0.6493368 (113)\ttotal: 1m 15s\tremaining: 20m 53s\n",
      "114:\tlearn: 0.6676024\ttest: 0.6508924\tbest: 0.6508924 (114)\ttotal: 1m 16s\tremaining: 20m 53s\n",
      "115:\tlearn: 0.6681287\ttest: 0.6513837\tbest: 0.6513837 (115)\ttotal: 1m 17s\tremaining: 20m 53s\n",
      "116:\tlearn: 0.6689708\ttest: 0.6526118\tbest: 0.6526118 (116)\ttotal: 1m 17s\tremaining: 20m 52s\n",
      "117:\tlearn: 0.6694621\ttest: 0.6531849\tbest: 0.6531849 (117)\ttotal: 1m 18s\tremaining: 20m 51s\n",
      "118:\tlearn: 0.6711464\ttest: 0.6549042\tbest: 0.6549042 (118)\ttotal: 1m 19s\tremaining: 20m 52s\n",
      "119:\tlearn: 0.6715674\ttest: 0.6556411\tbest: 0.6556411 (119)\ttotal: 1m 19s\tremaining: 20m 52s\n",
      "120:\tlearn: 0.6726201\ttest: 0.6558867\tbest: 0.6558867 (120)\ttotal: 1m 20s\tremaining: 20m 51s\n",
      "121:\tlearn: 0.6735675\ttest: 0.6566235\tbest: 0.6566235 (121)\ttotal: 1m 21s\tremaining: 20m 50s\n",
      "122:\tlearn: 0.6743044\ttest: 0.6573604\tbest: 0.6573604 (122)\ttotal: 1m 21s\tremaining: 20m 49s\n",
      "123:\tlearn: 0.6751114\ttest: 0.6579335\tbest: 0.6579335 (123)\ttotal: 1m 22s\tremaining: 20m 49s\n",
      "124:\tlearn: 0.6762693\ttest: 0.6591616\tbest: 0.6591616 (124)\ttotal: 1m 23s\tremaining: 20m 48s\n",
      "125:\tlearn: 0.6763044\ttest: 0.6593254\tbest: 0.6593254 (125)\ttotal: 1m 23s\tremaining: 20m 47s\n",
      "126:\tlearn: 0.6772518\ttest: 0.6603078\tbest: 0.6603078 (126)\ttotal: 1m 24s\tremaining: 20m 46s\n",
      "127:\tlearn: 0.6783045\ttest: 0.6615359\tbest: 0.6615359 (127)\ttotal: 1m 25s\tremaining: 20m 46s\n",
      "128:\tlearn: 0.6786203\ttest: 0.6620272\tbest: 0.6620272 (128)\ttotal: 1m 25s\tremaining: 20m 46s\n",
      "129:\tlearn: 0.6796028\ttest: 0.6624365\tbest: 0.6624365 (129)\ttotal: 1m 26s\tremaining: 20m 45s\n",
      "130:\tlearn: 0.6801993\ttest: 0.6627640\tbest: 0.6627640 (130)\ttotal: 1m 27s\tremaining: 20m 44s\n",
      "131:\tlearn: 0.6806906\ttest: 0.6630915\tbest: 0.6630915 (131)\ttotal: 1m 27s\tremaining: 20m 43s\n",
      "132:\tlearn: 0.6809362\ttest: 0.6637465\tbest: 0.6637465 (132)\ttotal: 1m 28s\tremaining: 20m 43s\n",
      "133:\tlearn: 0.6814976\ttest: 0.6646471\tbest: 0.6646471 (133)\ttotal: 1m 29s\tremaining: 20m 42s\n",
      "134:\tlearn: 0.6824801\ttest: 0.6650565\tbest: 0.6650565 (134)\ttotal: 1m 29s\tremaining: 20m 41s\n",
      "135:\tlearn: 0.6839889\ttest: 0.6657115\tbest: 0.6657115 (135)\ttotal: 1m 30s\tremaining: 20m 40s\n",
      "136:\tlearn: 0.6859890\ttest: 0.6666940\tbest: 0.6666940 (136)\ttotal: 1m 31s\tremaining: 20m 40s\n",
      "137:\tlearn: 0.6876382\ttest: 0.6675127\tbest: 0.6675127 (137)\ttotal: 1m 31s\tremaining: 20m 40s\n",
      "138:\tlearn: 0.6880592\ttest: 0.6680039\tbest: 0.6680039 (138)\ttotal: 1m 32s\tremaining: 20m 39s\n",
      "139:\tlearn: 0.6892523\ttest: 0.6689045\tbest: 0.6689045 (139)\ttotal: 1m 33s\tremaining: 20m 38s\n",
      "140:\tlearn: 0.6892172\ttest: 0.6692320\tbest: 0.6692320 (140)\ttotal: 1m 33s\tremaining: 20m 37s\n",
      "141:\tlearn: 0.6900944\ttest: 0.6698870\tbest: 0.6698870 (141)\ttotal: 1m 34s\tremaining: 20m 36s\n",
      "142:\tlearn: 0.6906207\ttest: 0.6703783\tbest: 0.6703783 (142)\ttotal: 1m 35s\tremaining: 20m 36s\n",
      "143:\tlearn: 0.6905505\ttest: 0.6702964\tbest: 0.6703783 (142)\ttotal: 1m 35s\tremaining: 20m 35s\n",
      "144:\tlearn: 0.6907260\ttest: 0.6703783\tbest: 0.6703783 (142)\ttotal: 1m 36s\tremaining: 20m 34s\n",
      "145:\tlearn: 0.6912874\ttest: 0.6712789\tbest: 0.6712789 (145)\ttotal: 1m 37s\tremaining: 20m 33s\n",
      "146:\tlearn: 0.6917436\ttest: 0.6716882\tbest: 0.6716882 (146)\ttotal: 1m 37s\tremaining: 20m 33s\n",
      "147:\tlearn: 0.6922699\ttest: 0.6719338\tbest: 0.6719338 (147)\ttotal: 1m 38s\tremaining: 20m 32s\n",
      "148:\tlearn: 0.6926559\ttest: 0.6720157\tbest: 0.6720157 (148)\ttotal: 1m 39s\tremaining: 20m 31s\n",
      "149:\tlearn: 0.6936033\ttest: 0.6722613\tbest: 0.6722613 (149)\ttotal: 1m 39s\tremaining: 20m 30s\n",
      "150:\tlearn: 0.6945156\ttest: 0.6733257\tbest: 0.6733257 (150)\ttotal: 1m 40s\tremaining: 20m 30s\n",
      "151:\tlearn: 0.6949367\ttest: 0.6738169\tbest: 0.6738169 (151)\ttotal: 1m 41s\tremaining: 20m 29s\n",
      "152:\tlearn: 0.6951121\ttest: 0.6736532\tbest: 0.6738169 (151)\ttotal: 1m 41s\tremaining: 20m 28s\n",
      "153:\tlearn: 0.6950068\ttest: 0.6736532\tbest: 0.6738169 (151)\ttotal: 1m 42s\tremaining: 20m 27s\n",
      "154:\tlearn: 0.6956384\ttest: 0.6743900\tbest: 0.6743900 (154)\ttotal: 1m 43s\tremaining: 20m 27s\n",
      "155:\tlearn: 0.6963753\ttest: 0.6753725\tbest: 0.6753725 (155)\ttotal: 1m 43s\tremaining: 20m 26s\n",
      "156:\tlearn: 0.6968666\ttest: 0.6761913\tbest: 0.6761913 (156)\ttotal: 1m 44s\tremaining: 20m 25s\n",
      "157:\tlearn: 0.6973227\ttest: 0.6763550\tbest: 0.6763550 (157)\ttotal: 1m 45s\tremaining: 20m 25s\n",
      "158:\tlearn: 0.6973929\ttest: 0.6761913\tbest: 0.6763550 (157)\ttotal: 1m 45s\tremaining: 20m 24s\n",
      "159:\tlearn: 0.6990772\ttest: 0.6784018\tbest: 0.6784018 (159)\ttotal: 1m 46s\tremaining: 20m 23s\n",
      "160:\tlearn: 0.6994631\ttest: 0.6789749\tbest: 0.6789749 (160)\ttotal: 1m 47s\tremaining: 20m 23s\n",
      "161:\tlearn: 0.7005509\ttest: 0.6801212\tbest: 0.6801212 (161)\ttotal: 1m 47s\tremaining: 20m 23s\n",
      "162:\tlearn: 0.7010772\ttest: 0.6808580\tbest: 0.6808580 (162)\ttotal: 1m 48s\tremaining: 20m 22s\n",
      "163:\tlearn: 0.7024106\ttest: 0.6831505\tbest: 0.6831505 (163)\ttotal: 1m 49s\tremaining: 20m 21s\n",
      "164:\tlearn: 0.7024808\ttest: 0.6829867\tbest: 0.6831505 (163)\ttotal: 1m 49s\tremaining: 20m 21s\n",
      "165:\tlearn: 0.7035685\ttest: 0.6843786\tbest: 0.6843786 (165)\ttotal: 1m 50s\tremaining: 20m 20s\n",
      "166:\tlearn: 0.7043405\ttest: 0.6852792\tbest: 0.6852792 (166)\ttotal: 1m 51s\tremaining: 20m 19s\n",
      "167:\tlearn: 0.7049721\ttest: 0.6857704\tbest: 0.6857704 (167)\ttotal: 1m 51s\tremaining: 20m 19s\n",
      "168:\tlearn: 0.7051475\ttest: 0.6858523\tbest: 0.6858523 (168)\ttotal: 1m 52s\tremaining: 20m 18s\n",
      "169:\tlearn: 0.7054633\ttest: 0.6863435\tbest: 0.6863435 (169)\ttotal: 1m 53s\tremaining: 20m 17s\n",
      "170:\tlearn: 0.7059195\ttest: 0.6860160\tbest: 0.6863435 (169)\ttotal: 1m 53s\tremaining: 20m 17s\n",
      "171:\tlearn: 0.7067967\ttest: 0.6869167\tbest: 0.6869167 (171)\ttotal: 1m 54s\tremaining: 20m 16s\n",
      "172:\tlearn: 0.7072529\ttest: 0.6875716\tbest: 0.6875716 (172)\ttotal: 1m 55s\tremaining: 20m 15s\n",
      "173:\tlearn: 0.7079196\ttest: 0.6882266\tbest: 0.6882266 (173)\ttotal: 1m 55s\tremaining: 20m 15s\n",
      "174:\tlearn: 0.7094284\ttest: 0.6896185\tbest: 0.6896185 (174)\ttotal: 1m 56s\tremaining: 20m 14s\n",
      "175:\tlearn: 0.7099898\ttest: 0.6905191\tbest: 0.6905191 (175)\ttotal: 1m 57s\tremaining: 20m 14s\n",
      "176:\tlearn: 0.7105863\ttest: 0.6908466\tbest: 0.6908466 (176)\ttotal: 1m 57s\tremaining: 20m 14s\n",
      "177:\tlearn: 0.7112881\ttest: 0.6909284\tbest: 0.6909284 (177)\ttotal: 1m 58s\tremaining: 20m 14s\n",
      "178:\tlearn: 0.7120601\ttest: 0.6908466\tbest: 0.6909284 (177)\ttotal: 1m 59s\tremaining: 20m 15s\n",
      "179:\tlearn: 0.7130426\ttest: 0.6910103\tbest: 0.6910103 (179)\ttotal: 2m\tremaining: 20m 14s\n",
      "180:\tlearn: 0.7129724\ttest: 0.6906828\tbest: 0.6910103 (179)\ttotal: 2m\tremaining: 20m 13s\n",
      "181:\tlearn: 0.7130426\ttest: 0.6910103\tbest: 0.6910103 (179)\ttotal: 2m 1s\tremaining: 20m 12s\n",
      "182:\tlearn: 0.7135689\ttest: 0.6917472\tbest: 0.6917472 (182)\ttotal: 2m 2s\tremaining: 20m 12s\n",
      "183:\tlearn: 0.7142005\ttest: 0.6922384\tbest: 0.6922384 (183)\ttotal: 2m 2s\tremaining: 20m 11s\n",
      "184:\tlearn: 0.7149725\ttest: 0.6933846\tbest: 0.6933846 (184)\ttotal: 2m 3s\tremaining: 20m 11s\n",
      "185:\tlearn: 0.7161304\ttest: 0.6943671\tbest: 0.6943671 (185)\ttotal: 2m 4s\tremaining: 20m 10s\n",
      "186:\tlearn: 0.7160953\ttest: 0.6944490\tbest: 0.6944490 (186)\ttotal: 2m 4s\tremaining: 20m 9s\n",
      "187:\tlearn: 0.7171129\ttest: 0.6947765\tbest: 0.6947765 (187)\ttotal: 2m 5s\tremaining: 20m 9s\n",
      "188:\tlearn: 0.7173936\ttest: 0.6953496\tbest: 0.6953496 (188)\ttotal: 2m 6s\tremaining: 20m 8s\n",
      "189:\tlearn: 0.7180252\ttest: 0.6958408\tbest: 0.6958408 (189)\ttotal: 2m 6s\tremaining: 20m 7s\n",
      "190:\tlearn: 0.7184463\ttest: 0.6960865\tbest: 0.6960865 (190)\ttotal: 2m 7s\tremaining: 20m 7s\n",
      "191:\tlearn: 0.7188322\ttest: 0.6961683\tbest: 0.6961683 (191)\ttotal: 2m 8s\tremaining: 20m 6s\n",
      "192:\tlearn: 0.7189024\ttest: 0.6964958\tbest: 0.6964958 (192)\ttotal: 2m 8s\tremaining: 20m 5s\n",
      "193:\tlearn: 0.7196042\ttest: 0.6968233\tbest: 0.6968233 (193)\ttotal: 2m 9s\tremaining: 20m 4s\n",
      "194:\tlearn: 0.7202358\ttest: 0.6973146\tbest: 0.6973146 (194)\ttotal: 2m 10s\tremaining: 20m 4s\n",
      "195:\tlearn: 0.7203762\ttest: 0.6974783\tbest: 0.6974783 (195)\ttotal: 2m 10s\tremaining: 20m 3s\n",
      "196:\tlearn: 0.7210779\ttest: 0.6982970\tbest: 0.6982970 (196)\ttotal: 2m 11s\tremaining: 20m 3s\n",
      "197:\tlearn: 0.7221306\ttest: 0.6995251\tbest: 0.6995251 (197)\ttotal: 2m 12s\tremaining: 20m 2s\n",
      "198:\tlearn: 0.7222008\ttest: 0.6993614\tbest: 0.6995251 (197)\ttotal: 2m 12s\tremaining: 20m 1s\n",
      "199:\tlearn: 0.7227973\ttest: 0.6999345\tbest: 0.6999345 (199)\ttotal: 2m 13s\tremaining: 20m\n",
      "200:\tlearn: 0.7231482\ttest: 0.7010807\tbest: 0.7010807 (200)\ttotal: 2m 14s\tremaining: 20m\n",
      "201:\tlearn: 0.7236394\ttest: 0.7014082\tbest: 0.7014082 (201)\ttotal: 2m 14s\tremaining: 19m 59s\n",
      "202:\tlearn: 0.7252886\ttest: 0.7019813\tbest: 0.7019813 (202)\ttotal: 2m 15s\tremaining: 19m 59s\n",
      "203:\tlearn: 0.7258500\ttest: 0.7026363\tbest: 0.7026363 (203)\ttotal: 2m 16s\tremaining: 19m 58s\n",
      "204:\tlearn: 0.7272536\ttest: 0.7028001\tbest: 0.7028001 (204)\ttotal: 2m 16s\tremaining: 19m 59s\n",
      "205:\tlearn: 0.7279554\ttest: 0.7038644\tbest: 0.7038644 (205)\ttotal: 2m 17s\tremaining: 19m 58s\n",
      "206:\tlearn: 0.7285168\ttest: 0.7040282\tbest: 0.7040282 (206)\ttotal: 2m 18s\tremaining: 19m 57s\n",
      "207:\tlearn: 0.7279554\ttest: 0.7046013\tbest: 0.7046013 (207)\ttotal: 2m 19s\tremaining: 19m 57s\n",
      "208:\tlearn: 0.7285168\ttest: 0.7047650\tbest: 0.7047650 (208)\ttotal: 2m 19s\tremaining: 19m 56s\n",
      "209:\tlearn: 0.7311485\ttest: 0.7064844\tbest: 0.7064844 (209)\ttotal: 2m 20s\tremaining: 19m 56s\n",
      "210:\tlearn: 0.7318502\ttest: 0.7080400\tbest: 0.7080400 (210)\ttotal: 2m 21s\tremaining: 19m 55s\n",
      "211:\tlearn: 0.7326222\ttest: 0.7089406\tbest: 0.7089406 (211)\ttotal: 2m 21s\tremaining: 19m 55s\n",
      "212:\tlearn: 0.7334643\ttest: 0.7094318\tbest: 0.7094318 (212)\ttotal: 2m 22s\tremaining: 19m 54s\n",
      "213:\tlearn: 0.7344117\ttest: 0.7094318\tbest: 0.7094318 (212)\ttotal: 2m 23s\tremaining: 19m 54s\n",
      "214:\tlearn: 0.7346924\ttest: 0.7097593\tbest: 0.7097593 (214)\ttotal: 2m 23s\tremaining: 19m 53s\n",
      "215:\tlearn: 0.7349381\ttest: 0.7101687\tbest: 0.7101687 (215)\ttotal: 2m 24s\tremaining: 19m 52s\n",
      "216:\tlearn: 0.7352188\ttest: 0.7104962\tbest: 0.7104962 (216)\ttotal: 2m 25s\tremaining: 19m 51s\n",
      "217:\tlearn: 0.7356398\ttest: 0.7109874\tbest: 0.7109874 (217)\ttotal: 2m 25s\tremaining: 19m 51s\n",
      "218:\tlearn: 0.7360960\ttest: 0.7113968\tbest: 0.7113968 (218)\ttotal: 2m 26s\tremaining: 19m 50s\n",
      "219:\tlearn: 0.7363416\ttest: 0.7108236\tbest: 0.7113968 (218)\ttotal: 2m 27s\tremaining: 19m 49s\n",
      "220:\tlearn: 0.7376048\ttest: 0.7120517\tbest: 0.7120517 (220)\ttotal: 2m 27s\tremaining: 19m 49s\n",
      "221:\tlearn: 0.7380961\ttest: 0.7126249\tbest: 0.7126249 (221)\ttotal: 2m 28s\tremaining: 19m 48s\n",
      "222:\tlearn: 0.7386575\ttest: 0.7132798\tbest: 0.7132798 (222)\ttotal: 2m 29s\tremaining: 19m 47s\n",
      "223:\tlearn: 0.7396400\ttest: 0.7134436\tbest: 0.7134436 (223)\ttotal: 2m 29s\tremaining: 19m 47s\n",
      "224:\tlearn: 0.7397453\ttest: 0.7136892\tbest: 0.7136892 (224)\ttotal: 2m 30s\tremaining: 19m 46s\n",
      "225:\tlearn: 0.7407277\ttest: 0.7140986\tbest: 0.7140986 (225)\ttotal: 2m 31s\tremaining: 19m 46s\n",
      "226:\tlearn: 0.7407277\ttest: 0.7138530\tbest: 0.7140986 (225)\ttotal: 2m 31s\tremaining: 19m 45s\n",
      "227:\tlearn: 0.7416050\ttest: 0.7152448\tbest: 0.7152448 (227)\ttotal: 2m 32s\tremaining: 19m 44s\n",
      "228:\tlearn: 0.7427980\ttest: 0.7163910\tbest: 0.7163910 (228)\ttotal: 2m 33s\tremaining: 19m 43s\n",
      "229:\tlearn: 0.7438507\ttest: 0.7171279\tbest: 0.7171279 (229)\ttotal: 2m 33s\tremaining: 19m 43s\n",
      "230:\tlearn: 0.7439559\ttest: 0.7176191\tbest: 0.7176191 (230)\ttotal: 2m 34s\tremaining: 19m 42s\n",
      "231:\tlearn: 0.7444472\ttest: 0.7179466\tbest: 0.7179466 (231)\ttotal: 2m 35s\tremaining: 19m 41s\n",
      "232:\tlearn: 0.7454648\ttest: 0.7185197\tbest: 0.7185197 (232)\ttotal: 2m 35s\tremaining: 19m 41s\n",
      "233:\tlearn: 0.7452542\ttest: 0.7185197\tbest: 0.7185197 (232)\ttotal: 2m 36s\tremaining: 19m 40s\n",
      "234:\tlearn: 0.7457104\ttest: 0.7186835\tbest: 0.7186835 (234)\ttotal: 2m 37s\tremaining: 19m 39s\n",
      "235:\tlearn: 0.7459911\ttest: 0.7190110\tbest: 0.7190110 (235)\ttotal: 2m 37s\tremaining: 19m 39s\n",
      "236:\tlearn: 0.7473596\ttest: 0.7207303\tbest: 0.7207303 (236)\ttotal: 2m 38s\tremaining: 19m 38s\n",
      "237:\tlearn: 0.7473946\ttest: 0.7206484\tbest: 0.7207303 (236)\ttotal: 2m 39s\tremaining: 19m 38s\n",
      "238:\tlearn: 0.7477104\ttest: 0.7204028\tbest: 0.7207303 (236)\ttotal: 2m 39s\tremaining: 19m 37s\n",
      "239:\tlearn: 0.7489035\ttest: 0.7220403\tbest: 0.7220403 (239)\ttotal: 2m 40s\tremaining: 19m 37s\n",
      "240:\tlearn: 0.7490789\ttest: 0.7223678\tbest: 0.7223678 (240)\ttotal: 2m 41s\tremaining: 19m 36s\n",
      "241:\tlearn: 0.7493596\ttest: 0.7222040\tbest: 0.7223678 (240)\ttotal: 2m 41s\tremaining: 19m 35s\n",
      "242:\tlearn: 0.7497105\ttest: 0.7228590\tbest: 0.7228590 (242)\ttotal: 2m 42s\tremaining: 19m 35s\n",
      "243:\tlearn: 0.7499912\ttest: 0.7226953\tbest: 0.7228590 (242)\ttotal: 2m 43s\tremaining: 19m 34s\n",
      "244:\tlearn: 0.7503070\ttest: 0.7226953\tbest: 0.7228590 (242)\ttotal: 2m 43s\tremaining: 19m 33s\n",
      "245:\tlearn: 0.7507983\ttest: 0.7227771\tbest: 0.7228590 (242)\ttotal: 2m 44s\tremaining: 19m 32s\n",
      "246:\tlearn: 0.7513948\ttest: 0.7233503\tbest: 0.7233503 (246)\ttotal: 2m 45s\tremaining: 19m 32s\n",
      "247:\tlearn: 0.7518860\ttest: 0.7239234\tbest: 0.7239234 (247)\ttotal: 2m 45s\tremaining: 19m 31s\n",
      "248:\tlearn: 0.7539563\ttest: 0.7249877\tbest: 0.7249877 (248)\ttotal: 2m 46s\tremaining: 19m 31s\n",
      "249:\tlearn: 0.7548335\ttest: 0.7258883\tbest: 0.7258883 (249)\ttotal: 2m 47s\tremaining: 19m 30s\n",
      "250:\tlearn: 0.7550791\ttest: 0.7262977\tbest: 0.7262977 (250)\ttotal: 2m 47s\tremaining: 19m 30s\n",
      "251:\tlearn: 0.7552897\ttest: 0.7265433\tbest: 0.7265433 (251)\ttotal: 2m 48s\tremaining: 19m 29s\n",
      "252:\tlearn: 0.7558160\ttest: 0.7275258\tbest: 0.7275258 (252)\ttotal: 2m 49s\tremaining: 19m 28s\n",
      "253:\tlearn: 0.7559563\ttest: 0.7274439\tbest: 0.7275258 (252)\ttotal: 2m 49s\tremaining: 19m 28s\n",
      "254:\tlearn: 0.7568336\ttest: 0.7273620\tbest: 0.7275258 (252)\ttotal: 2m 50s\tremaining: 19m 27s\n",
      "255:\tlearn: 0.7571494\ttest: 0.7278533\tbest: 0.7278533 (255)\ttotal: 2m 51s\tremaining: 19m 26s\n",
      "256:\tlearn: 0.7573599\ttest: 0.7278533\tbest: 0.7278533 (255)\ttotal: 2m 51s\tremaining: 19m 26s\n",
      "257:\tlearn: 0.7577459\ttest: 0.7279352\tbest: 0.7279352 (257)\ttotal: 2m 52s\tremaining: 19m 25s\n",
      "258:\tlearn: 0.7577459\ttest: 0.7279352\tbest: 0.7279352 (257)\ttotal: 2m 53s\tremaining: 19m 24s\n",
      "259:\tlearn: 0.7584828\ttest: 0.7281808\tbest: 0.7281808 (259)\ttotal: 2m 53s\tremaining: 19m 23s\n",
      "260:\tlearn: 0.7601319\ttest: 0.7289995\tbest: 0.7289995 (260)\ttotal: 2m 54s\tremaining: 19m 23s\n",
      "261:\tlearn: 0.7604126\ttest: 0.7290814\tbest: 0.7290814 (261)\ttotal: 2m 55s\tremaining: 19m 22s\n",
      "262:\tlearn: 0.7604126\ttest: 0.7290814\tbest: 0.7290814 (261)\ttotal: 2m 55s\tremaining: 19m 22s\n",
      "263:\tlearn: 0.7615706\ttest: 0.7305551\tbest: 0.7305551 (263)\ttotal: 2m 56s\tremaining: 19m 21s\n",
      "264:\tlearn: 0.7619916\ttest: 0.7303095\tbest: 0.7305551 (263)\ttotal: 2m 57s\tremaining: 19m 20s\n",
      "265:\tlearn: 0.7625180\ttest: 0.7310463\tbest: 0.7310463 (265)\ttotal: 2m 57s\tremaining: 19m 20s\n",
      "266:\tlearn: 0.7633250\ttest: 0.7316195\tbest: 0.7316195 (266)\ttotal: 2m 58s\tremaining: 19m 19s\n",
      "267:\tlearn: 0.7636759\ttest: 0.7322744\tbest: 0.7322744 (267)\ttotal: 2m 59s\tremaining: 19m 19s\n",
      "268:\tlearn: 0.7641672\ttest: 0.7335844\tbest: 0.7335844 (268)\ttotal: 3m\tremaining: 19m 18s\n",
      "269:\tlearn: 0.7655707\ttest: 0.7339938\tbest: 0.7339938 (269)\ttotal: 3m\tremaining: 19m 18s\n",
      "270:\tlearn: 0.7656058\ttest: 0.7344031\tbest: 0.7344031 (270)\ttotal: 3m 1s\tremaining: 19m 17s\n",
      "271:\tlearn: 0.7662725\ttest: 0.7350581\tbest: 0.7350581 (271)\ttotal: 3m 2s\tremaining: 19m 16s\n",
      "272:\tlearn: 0.7686235\ttest: 0.7359587\tbest: 0.7359587 (272)\ttotal: 3m 2s\tremaining: 19m 16s\n",
      "273:\tlearn: 0.7678515\ttest: 0.7355494\tbest: 0.7359587 (272)\ttotal: 3m 3s\tremaining: 19m 16s\n",
      "274:\tlearn: 0.7717113\ttest: 0.7366137\tbest: 0.7366137 (274)\ttotal: 3m 4s\tremaining: 19m 16s\n",
      "275:\tlearn: 0.7718516\ttest: 0.7365318\tbest: 0.7366137 (274)\ttotal: 3m 4s\tremaining: 19m 15s\n",
      "276:\tlearn: 0.7718867\ttest: 0.7364500\tbest: 0.7366137 (274)\ttotal: 3m 5s\tremaining: 19m 14s\n",
      "277:\tlearn: 0.7732201\ttest: 0.7377599\tbest: 0.7377599 (277)\ttotal: 3m 6s\tremaining: 19m 14s\n",
      "278:\tlearn: 0.7737815\ttest: 0.7379237\tbest: 0.7379237 (278)\ttotal: 3m 7s\tremaining: 19m 13s\n",
      "279:\tlearn: 0.7744482\ttest: 0.7385787\tbest: 0.7385787 (279)\ttotal: 3m 7s\tremaining: 19m 12s\n",
      "280:\tlearn: 0.7750447\ttest: 0.7384149\tbest: 0.7385787 (279)\ttotal: 3m 8s\tremaining: 19m 12s\n",
      "281:\tlearn: 0.7761325\ttest: 0.7395612\tbest: 0.7395612 (281)\ttotal: 3m 9s\tremaining: 19m 12s\n",
      "282:\tlearn: 0.7764132\ttest: 0.7401343\tbest: 0.7401343 (282)\ttotal: 3m 9s\tremaining: 19m 11s\n",
      "283:\tlearn: 0.7766939\ttest: 0.7404618\tbest: 0.7404618 (283)\ttotal: 3m 10s\tremaining: 19m 10s\n",
      "284:\tlearn: 0.7770097\ttest: 0.7407074\tbest: 0.7407074 (284)\ttotal: 3m 11s\tremaining: 19m 9s\n",
      "285:\tlearn: 0.7771852\ttest: 0.7405436\tbest: 0.7407074 (284)\ttotal: 3m 11s\tremaining: 19m 9s\n",
      "286:\tlearn: 0.7772203\ttest: 0.7404618\tbest: 0.7407074 (284)\ttotal: 3m 12s\tremaining: 19m 8s\n",
      "287:\tlearn: 0.7783080\ttest: 0.7416080\tbest: 0.7416080 (287)\ttotal: 3m 13s\tremaining: 19m 7s\n",
      "288:\tlearn: 0.7783782\ttest: 0.7416899\tbest: 0.7416899 (288)\ttotal: 3m 13s\tremaining: 19m 7s\n",
      "289:\tlearn: 0.7785887\ttest: 0.7416899\tbest: 0.7416899 (288)\ttotal: 3m 14s\tremaining: 19m 6s\n",
      "290:\tlearn: 0.7793256\ttest: 0.7421811\tbest: 0.7421811 (290)\ttotal: 3m 15s\tremaining: 19m 5s\n",
      "291:\tlearn: 0.7795361\ttest: 0.7426723\tbest: 0.7426723 (291)\ttotal: 3m 15s\tremaining: 19m 4s\n",
      "292:\tlearn: 0.7791852\ttest: 0.7429998\tbest: 0.7429998 (292)\ttotal: 3m 16s\tremaining: 19m 4s\n",
      "293:\tlearn: 0.7795361\ttest: 0.7429180\tbest: 0.7429998 (292)\ttotal: 3m 17s\tremaining: 19m 4s\n",
      "294:\tlearn: 0.7804484\ttest: 0.7439823\tbest: 0.7439823 (294)\ttotal: 3m 17s\tremaining: 19m 3s\n",
      "295:\tlearn: 0.7803432\ttest: 0.7442279\tbest: 0.7442279 (295)\ttotal: 3m 18s\tremaining: 19m 2s\n",
      "296:\tlearn: 0.7801677\ttest: 0.7439004\tbest: 0.7442279 (295)\ttotal: 3m 19s\tremaining: 19m 2s\n",
      "297:\tlearn: 0.7806239\ttest: 0.7448010\tbest: 0.7448010 (297)\ttotal: 3m 19s\tremaining: 19m 1s\n",
      "298:\tlearn: 0.7822380\ttest: 0.7464385\tbest: 0.7464385 (298)\ttotal: 3m 20s\tremaining: 19m 1s\n",
      "299:\tlearn: 0.7827292\ttest: 0.7462748\tbest: 0.7464385 (298)\ttotal: 3m 21s\tremaining: 19m\n",
      "300:\tlearn: 0.7829047\ttest: 0.7468479\tbest: 0.7468479 (300)\ttotal: 3m 21s\tremaining: 18m 59s\n",
      "301:\tlearn: 0.7830099\ttest: 0.7468479\tbest: 0.7468479 (300)\ttotal: 3m 22s\tremaining: 18m 58s\n",
      "302:\tlearn: 0.7831854\ttest: 0.7469298\tbest: 0.7469298 (302)\ttotal: 3m 23s\tremaining: 18m 58s\n",
      "303:\tlearn: 0.7840275\ttest: 0.7469298\tbest: 0.7469298 (302)\ttotal: 3m 23s\tremaining: 18m 57s\n",
      "304:\tlearn: 0.7847293\ttest: 0.7472572\tbest: 0.7472572 (304)\ttotal: 3m 24s\tremaining: 18m 57s\n",
      "305:\tlearn: 0.7853609\ttest: 0.7475029\tbest: 0.7475029 (305)\ttotal: 3m 25s\tremaining: 18m 56s\n",
      "306:\tlearn: 0.7865188\ttest: 0.7475029\tbest: 0.7475029 (305)\ttotal: 3m 25s\tremaining: 18m 56s\n",
      "307:\tlearn: 0.7882031\ttest: 0.7497134\tbest: 0.7497134 (307)\ttotal: 3m 26s\tremaining: 18m 55s\n",
      "308:\tlearn: 0.7888698\ttest: 0.7501228\tbest: 0.7501228 (308)\ttotal: 3m 27s\tremaining: 18m 54s\n",
      "309:\tlearn: 0.7886242\ttest: 0.7499591\tbest: 0.7501228 (308)\ttotal: 3m 28s\tremaining: 18m 54s\n",
      "310:\tlearn: 0.7886593\ttest: 0.7503684\tbest: 0.7503684 (310)\ttotal: 3m 28s\tremaining: 18m 53s\n",
      "311:\tlearn: 0.7902032\ttest: 0.7511872\tbest: 0.7511872 (311)\ttotal: 3m 29s\tremaining: 18m 53s\n",
      "312:\tlearn: 0.7900628\ttest: 0.7512690\tbest: 0.7512690 (312)\ttotal: 3m 30s\tremaining: 18m 52s\n",
      "313:\tlearn: 0.7927997\ttest: 0.7529884\tbest: 0.7529884 (313)\ttotal: 3m 30s\tremaining: 18m 52s\n",
      "314:\tlearn: 0.7943437\ttest: 0.7538071\tbest: 0.7538071 (314)\ttotal: 3m 31s\tremaining: 18m 52s\n",
      "315:\tlearn: 0.7943437\ttest: 0.7540527\tbest: 0.7540527 (315)\ttotal: 3m 32s\tremaining: 18m 51s\n",
      "316:\tlearn: 0.7945542\ttest: 0.7540527\tbest: 0.7540527 (315)\ttotal: 3m 33s\tremaining: 18m 51s\n",
      "317:\tlearn: 0.7952560\ttest: 0.7548715\tbest: 0.7548715 (317)\ttotal: 3m 33s\tremaining: 18m 50s\n",
      "318:\tlearn: 0.7955367\ttest: 0.7551990\tbest: 0.7551990 (318)\ttotal: 3m 34s\tremaining: 18m 49s\n",
      "319:\tlearn: 0.7957823\ttest: 0.7553627\tbest: 0.7553627 (319)\ttotal: 3m 35s\tremaining: 18m 48s\n",
      "320:\tlearn: 0.7967999\ttest: 0.7559358\tbest: 0.7559358 (320)\ttotal: 3m 35s\tremaining: 18m 48s\n",
      "321:\tlearn: 0.7967999\ttest: 0.7556902\tbest: 0.7559358 (320)\ttotal: 3m 36s\tremaining: 18m 47s\n",
      "322:\tlearn: 0.7967297\ttest: 0.7563452\tbest: 0.7563452 (322)\ttotal: 3m 37s\tremaining: 18m 46s\n",
      "323:\tlearn: 0.7974315\ttest: 0.7569183\tbest: 0.7569183 (323)\ttotal: 3m 37s\tremaining: 18m 46s\n",
      "324:\tlearn: 0.7978175\ttest: 0.7570002\tbest: 0.7570002 (324)\ttotal: 3m 38s\tremaining: 18m 45s\n",
      "325:\tlearn: 0.7980631\ttest: 0.7576551\tbest: 0.7576551 (325)\ttotal: 3m 39s\tremaining: 18m 44s\n",
      "326:\tlearn: 0.7985543\ttest: 0.7577370\tbest: 0.7577370 (326)\ttotal: 3m 39s\tremaining: 18m 44s\n",
      "327:\tlearn: 0.7985192\ttest: 0.7575733\tbest: 0.7577370 (326)\ttotal: 3m 40s\tremaining: 18m 43s\n",
      "328:\tlearn: 0.7987298\ttest: 0.7580645\tbest: 0.7580645 (328)\ttotal: 3m 41s\tremaining: 18m 42s\n",
      "329:\tlearn: 0.8012211\ttest: 0.7601113\tbest: 0.7601113 (329)\ttotal: 3m 41s\tremaining: 18m 42s\n",
      "330:\tlearn: 0.8017123\ttest: 0.7604388\tbest: 0.7604388 (330)\ttotal: 3m 42s\tremaining: 18m 41s\n",
      "331:\tlearn: 0.8016773\ttest: 0.7602751\tbest: 0.7604388 (330)\ttotal: 3m 43s\tremaining: 18m 41s\n",
      "332:\tlearn: 0.8018878\ttest: 0.7605207\tbest: 0.7605207 (332)\ttotal: 3m 43s\tremaining: 18m 40s\n",
      "333:\tlearn: 0.8019931\ttest: 0.7605207\tbest: 0.7605207 (332)\ttotal: 3m 44s\tremaining: 18m 39s\n",
      "334:\tlearn: 0.8019580\ttest: 0.7606026\tbest: 0.7606026 (334)\ttotal: 3m 45s\tremaining: 18m 39s\n",
      "335:\tlearn: 0.8022387\ttest: 0.7606845\tbest: 0.7606845 (335)\ttotal: 3m 45s\tremaining: 18m 38s\n",
      "336:\tlearn: 0.8035721\ttest: 0.7612576\tbest: 0.7612576 (336)\ttotal: 3m 46s\tremaining: 18m 38s\n",
      "337:\tlearn: 0.8042387\ttest: 0.7609301\tbest: 0.7612576 (336)\ttotal: 3m 47s\tremaining: 18m 37s\n",
      "338:\tlearn: 0.8050809\ttest: 0.7616669\tbest: 0.7616669 (338)\ttotal: 3m 47s\tremaining: 18m 36s\n",
      "339:\tlearn: 0.8053616\ttest: 0.7617488\tbest: 0.7617488 (339)\ttotal: 3m 48s\tremaining: 18m 36s\n",
      "340:\tlearn: 0.8065195\ttest: 0.7627313\tbest: 0.7627313 (340)\ttotal: 3m 49s\tremaining: 18m 35s\n",
      "341:\tlearn: 0.8064493\ttest: 0.7628950\tbest: 0.7628950 (341)\ttotal: 3m 49s\tremaining: 18m 34s\n",
      "342:\tlearn: 0.8067301\ttest: 0.7627313\tbest: 0.7628950 (341)\ttotal: 3m 50s\tremaining: 18m 34s\n",
      "343:\tlearn: 0.8069055\ttest: 0.7633044\tbest: 0.7633044 (343)\ttotal: 3m 51s\tremaining: 18m 33s\n",
      "344:\tlearn: 0.8072564\ttest: 0.7642050\tbest: 0.7642050 (344)\ttotal: 3m 51s\tremaining: 18m 32s\n",
      "345:\tlearn: 0.8082038\ttest: 0.7649419\tbest: 0.7649419 (345)\ttotal: 3m 52s\tremaining: 18m 32s\n",
      "346:\tlearn: 0.8085898\ttest: 0.7652694\tbest: 0.7652694 (346)\ttotal: 3m 53s\tremaining: 18m 31s\n",
      "347:\tlearn: 0.8090459\ttest: 0.7656787\tbest: 0.7656787 (347)\ttotal: 3m 53s\tremaining: 18m 30s\n",
      "348:\tlearn: 0.8093968\ttest: 0.7655969\tbest: 0.7656787 (347)\ttotal: 3m 54s\tremaining: 18m 29s\n",
      "349:\tlearn: 0.8097126\ttest: 0.7668250\tbest: 0.7668250 (349)\ttotal: 3m 55s\tremaining: 18m 29s\n",
      "350:\tlearn: 0.8099582\ttest: 0.7669887\tbest: 0.7669887 (350)\ttotal: 3m 55s\tremaining: 18m 28s\n",
      "351:\tlearn: 0.8104495\ttest: 0.7668250\tbest: 0.7669887 (350)\ttotal: 3m 56s\tremaining: 18m 27s\n",
      "352:\tlearn: 0.8113267\ttest: 0.7669887\tbest: 0.7669887 (350)\ttotal: 3m 57s\tremaining: 18m 27s\n",
      "353:\tlearn: 0.8114671\ttest: 0.7671524\tbest: 0.7671524 (353)\ttotal: 3m 57s\tremaining: 18m 26s\n",
      "354:\tlearn: 0.8117829\ttest: 0.7681349\tbest: 0.7681349 (354)\ttotal: 3m 58s\tremaining: 18m 25s\n",
      "355:\tlearn: 0.8125899\ttest: 0.7682168\tbest: 0.7682168 (355)\ttotal: 3m 59s\tremaining: 18m 25s\n",
      "356:\tlearn: 0.8132215\ttest: 0.7687080\tbest: 0.7687080 (356)\ttotal: 4m\tremaining: 18m 24s\n",
      "357:\tlearn: 0.8145198\ttest: 0.7691174\tbest: 0.7691174 (357)\ttotal: 4m\tremaining: 18m 24s\n",
      "358:\tlearn: 0.8147303\ttest: 0.7696086\tbest: 0.7696086 (358)\ttotal: 4m 1s\tremaining: 18m 23s\n",
      "359:\tlearn: 0.8153970\ttest: 0.7702636\tbest: 0.7702636 (359)\ttotal: 4m 2s\tremaining: 18m 22s\n",
      "360:\tlearn: 0.8157479\ttest: 0.7704274\tbest: 0.7704274 (360)\ttotal: 4m 2s\tremaining: 18m 22s\n",
      "361:\tlearn: 0.8154321\ttest: 0.7699361\tbest: 0.7704274 (360)\ttotal: 4m 3s\tremaining: 18m 21s\n",
      "362:\tlearn: 0.8156427\ttest: 0.7704274\tbest: 0.7704274 (360)\ttotal: 4m 4s\tremaining: 18m 20s\n",
      "363:\tlearn: 0.8168357\ttest: 0.7715736\tbest: 0.7715736 (363)\ttotal: 4m 4s\tremaining: 18m 20s\n",
      "364:\tlearn: 0.8168357\ttest: 0.7713280\tbest: 0.7715736 (363)\ttotal: 4m 5s\tremaining: 18m 19s\n",
      "365:\tlearn: 0.8169409\ttest: 0.7713280\tbest: 0.7715736 (363)\ttotal: 4m 6s\tremaining: 18m 18s\n",
      "366:\tlearn: 0.8171515\ttest: 0.7715736\tbest: 0.7715736 (363)\ttotal: 4m 6s\tremaining: 18m 17s\n",
      "367:\tlearn: 0.8175725\ttest: 0.7718192\tbest: 0.7718192 (367)\ttotal: 4m 7s\tremaining: 18m 17s\n",
      "368:\tlearn: 0.8177129\ttest: 0.7719830\tbest: 0.7719830 (368)\ttotal: 4m 8s\tremaining: 18m 16s\n",
      "369:\tlearn: 0.8177129\ttest: 0.7722286\tbest: 0.7722286 (369)\ttotal: 4m 8s\tremaining: 18m 15s\n",
      "370:\tlearn: 0.8180287\ttest: 0.7727198\tbest: 0.7727198 (370)\ttotal: 4m 9s\tremaining: 18m 15s\n",
      "371:\tlearn: 0.8183796\ttest: 0.7731292\tbest: 0.7731292 (371)\ttotal: 4m 10s\tremaining: 18m 14s\n",
      "372:\tlearn: 0.8185901\ttest: 0.7736204\tbest: 0.7736204 (372)\ttotal: 4m 10s\tremaining: 18m 13s\n",
      "373:\tlearn: 0.8186954\ttest: 0.7736204\tbest: 0.7736204 (372)\ttotal: 4m 11s\tremaining: 18m 13s\n",
      "374:\tlearn: 0.8189410\ttest: 0.7737842\tbest: 0.7737842 (374)\ttotal: 4m 12s\tremaining: 18m 12s\n",
      "375:\tlearn: 0.8192217\ttest: 0.7741117\tbest: 0.7741117 (375)\ttotal: 4m 12s\tremaining: 18m 11s\n",
      "376:\tlearn: 0.8191515\ttest: 0.7740298\tbest: 0.7741117 (375)\ttotal: 4m 13s\tremaining: 18m 10s\n",
      "377:\tlearn: 0.8198533\ttest: 0.7738661\tbest: 0.7741117 (375)\ttotal: 4m 14s\tremaining: 18m 10s\n",
      "378:\tlearn: 0.8201340\ttest: 0.7741935\tbest: 0.7741935 (378)\ttotal: 4m 14s\tremaining: 18m 9s\n",
      "379:\tlearn: 0.8206604\ttest: 0.7749304\tbest: 0.7749304 (379)\ttotal: 4m 15s\tremaining: 18m 8s\n",
      "380:\tlearn: 0.8203797\ttest: 0.7743573\tbest: 0.7749304 (379)\ttotal: 4m 16s\tremaining: 18m 8s\n",
      "381:\tlearn: 0.8211165\ttest: 0.7755854\tbest: 0.7755854 (381)\ttotal: 4m 16s\tremaining: 18m 7s\n",
      "382:\tlearn: 0.8211867\ttest: 0.7756673\tbest: 0.7756673 (382)\ttotal: 4m 17s\tremaining: 18m 6s\n",
      "383:\tlearn: 0.8214674\ttest: 0.7759948\tbest: 0.7759948 (383)\ttotal: 4m 18s\tremaining: 18m 6s\n",
      "384:\tlearn: 0.8218183\ttest: 0.7761585\tbest: 0.7761585 (384)\ttotal: 4m 18s\tremaining: 18m 5s\n",
      "385:\tlearn: 0.8224148\ttest: 0.7767316\tbest: 0.7767316 (385)\ttotal: 4m 19s\tremaining: 18m 4s\n",
      "386:\tlearn: 0.8230113\ttest: 0.7763223\tbest: 0.7767316 (385)\ttotal: 4m 20s\tremaining: 18m 4s\n",
      "387:\tlearn: 0.8228710\ttest: 0.7771410\tbest: 0.7771410 (387)\ttotal: 4m 20s\tremaining: 18m 3s\n",
      "388:\tlearn: 0.8230464\ttest: 0.7769772\tbest: 0.7771410 (387)\ttotal: 4m 21s\tremaining: 18m 2s\n",
      "389:\tlearn: 0.8236780\ttest: 0.7777141\tbest: 0.7777141 (389)\ttotal: 4m 22s\tremaining: 18m 2s\n",
      "390:\tlearn: 0.8237833\ttest: 0.7769772\tbest: 0.7777141 (389)\ttotal: 4m 22s\tremaining: 18m 1s\n",
      "391:\tlearn: 0.8238886\ttest: 0.7769772\tbest: 0.7777141 (389)\ttotal: 4m 23s\tremaining: 18m\n",
      "392:\tlearn: 0.8244500\ttest: 0.7778778\tbest: 0.7778778 (392)\ttotal: 4m 24s\tremaining: 18m\n",
      "393:\tlearn: 0.8245552\ttest: 0.7781235\tbest: 0.7781235 (393)\ttotal: 4m 24s\tremaining: 17m 59s\n",
      "394:\tlearn: 0.8251167\ttest: 0.7782872\tbest: 0.7782872 (394)\ttotal: 4m 25s\tremaining: 17m 59s\n",
      "395:\tlearn: 0.8248710\ttest: 0.7783691\tbest: 0.7783691 (395)\ttotal: 4m 26s\tremaining: 17m 58s\n",
      "396:\tlearn: 0.8248710\ttest: 0.7786147\tbest: 0.7786147 (396)\ttotal: 4m 26s\tremaining: 17m 57s\n",
      "397:\tlearn: 0.8249412\ttest: 0.7791878\tbest: 0.7791878 (397)\ttotal: 4m 27s\tremaining: 17m 57s\n",
      "398:\tlearn: 0.8261343\ttest: 0.7798428\tbest: 0.7798428 (398)\ttotal: 4m 28s\tremaining: 17m 57s\n",
      "399:\tlearn: 0.8259588\ttest: 0.7797609\tbest: 0.7798428 (398)\ttotal: 4m 29s\tremaining: 17m 56s\n",
      "400:\tlearn: 0.8262395\ttest: 0.7800884\tbest: 0.7800884 (400)\ttotal: 4m 29s\tremaining: 17m 56s\n",
      "401:\tlearn: 0.8270115\ttest: 0.7802522\tbest: 0.7802522 (401)\ttotal: 4m 30s\tremaining: 17m 55s\n",
      "402:\tlearn: 0.8272220\ttest: 0.7804978\tbest: 0.7804978 (402)\ttotal: 4m 31s\tremaining: 17m 54s\n",
      "403:\tlearn: 0.8273624\ttest: 0.7806615\tbest: 0.7806615 (403)\ttotal: 4m 31s\tremaining: 17m 54s\n",
      "404:\tlearn: 0.8276782\ttest: 0.7806615\tbest: 0.7806615 (403)\ttotal: 4m 32s\tremaining: 17m 53s\n",
      "405:\tlearn: 0.8278536\ttest: 0.7807434\tbest: 0.7807434 (405)\ttotal: 4m 33s\tremaining: 17m 52s\n",
      "406:\tlearn: 0.8280992\ttest: 0.7811528\tbest: 0.7811528 (406)\ttotal: 4m 33s\tremaining: 17m 51s\n",
      "407:\tlearn: 0.8292572\ttest: 0.7816440\tbest: 0.7816440 (407)\ttotal: 4m 34s\tremaining: 17m 51s\n",
      "408:\tlearn: 0.8297835\ttest: 0.7818896\tbest: 0.7818896 (408)\ttotal: 4m 35s\tremaining: 17m 51s\n",
      "409:\tlearn: 0.8296431\ttest: 0.7822171\tbest: 0.7822171 (409)\ttotal: 4m 36s\tremaining: 17m 50s\n",
      "410:\tlearn: 0.8299239\ttest: 0.7818078\tbest: 0.7822171 (409)\ttotal: 4m 36s\tremaining: 17m 49s\n",
      "411:\tlearn: 0.8296431\ttest: 0.7814803\tbest: 0.7822171 (409)\ttotal: 4m 37s\tremaining: 17m 49s\n",
      "412:\tlearn: 0.8298888\ttest: 0.7818896\tbest: 0.7822171 (409)\ttotal: 4m 38s\tremaining: 17m 48s\n",
      "413:\tlearn: 0.8301344\ttest: 0.7818078\tbest: 0.7822171 (409)\ttotal: 4m 38s\tremaining: 17m 47s\n",
      "414:\tlearn: 0.8305555\ttest: 0.7822990\tbest: 0.7822990 (414)\ttotal: 4m 39s\tremaining: 17m 47s\n",
      "415:\tlearn: 0.8312572\ttest: 0.7836090\tbest: 0.7836090 (415)\ttotal: 4m 40s\tremaining: 17m 46s\n",
      "416:\tlearn: 0.8315379\ttest: 0.7836908\tbest: 0.7836908 (416)\ttotal: 4m 40s\tremaining: 17m 45s\n",
      "417:\tlearn: 0.8318187\ttest: 0.7840183\tbest: 0.7840183 (417)\ttotal: 4m 41s\tremaining: 17m 44s\n",
      "418:\tlearn: 0.8323801\ttest: 0.7839365\tbest: 0.7840183 (417)\ttotal: 4m 42s\tremaining: 17m 44s\n",
      "419:\tlearn: 0.8330468\ttest: 0.7843458\tbest: 0.7843458 (419)\ttotal: 4m 42s\tremaining: 17m 43s\n",
      "420:\tlearn: 0.8329766\ttest: 0.7845096\tbest: 0.7845096 (420)\ttotal: 4m 43s\tremaining: 17m 43s\n",
      "421:\tlearn: 0.8337486\ttest: 0.7846733\tbest: 0.7846733 (421)\ttotal: 4m 44s\tremaining: 17m 42s\n",
      "422:\tlearn: 0.8342398\ttest: 0.7842640\tbest: 0.7846733 (421)\ttotal: 4m 44s\tremaining: 17m 41s\n",
      "423:\tlearn: 0.8358890\ttest: 0.7853283\tbest: 0.7853283 (423)\ttotal: 4m 45s\tremaining: 17m 41s\n",
      "424:\tlearn: 0.8360293\ttest: 0.7854921\tbest: 0.7854921 (424)\ttotal: 4m 46s\tremaining: 17m 40s\n",
      "425:\tlearn: 0.8365206\ttest: 0.7858196\tbest: 0.7858196 (425)\ttotal: 4m 46s\tremaining: 17m 40s\n",
      "426:\tlearn: 0.8361697\ttest: 0.7854102\tbest: 0.7858196 (425)\ttotal: 4m 47s\tremaining: 17m 39s\n",
      "427:\tlearn: 0.8363802\ttest: 0.7859014\tbest: 0.7859014 (427)\ttotal: 4m 48s\tremaining: 17m 38s\n",
      "428:\tlearn: 0.8362048\ttest: 0.7863108\tbest: 0.7863108 (428)\ttotal: 4m 48s\tremaining: 17m 38s\n",
      "429:\tlearn: 0.8373627\ttest: 0.7872933\tbest: 0.7872933 (429)\ttotal: 4m 49s\tremaining: 17m 37s\n",
      "430:\tlearn: 0.8373627\ttest: 0.7872933\tbest: 0.7872933 (429)\ttotal: 4m 50s\tremaining: 17m 37s\n",
      "431:\tlearn: 0.8375031\ttest: 0.7874570\tbest: 0.7874570 (431)\ttotal: 4m 51s\tremaining: 17m 36s\n",
      "432:\tlearn: 0.8389768\ttest: 0.7872114\tbest: 0.7874570 (431)\ttotal: 4m 51s\tremaining: 17m 35s\n",
      "433:\tlearn: 0.8401347\ttest: 0.7886851\tbest: 0.7886851 (433)\ttotal: 4m 52s\tremaining: 17m 35s\n",
      "434:\tlearn: 0.8406260\ttest: 0.7892582\tbest: 0.7892582 (434)\ttotal: 4m 53s\tremaining: 17m 34s\n",
      "435:\tlearn: 0.8410471\ttest: 0.7895038\tbest: 0.7895038 (435)\ttotal: 4m 53s\tremaining: 17m 34s\n",
      "436:\tlearn: 0.8411874\ttest: 0.7896676\tbest: 0.7896676 (436)\ttotal: 4m 54s\tremaining: 17m 33s\n",
      "437:\tlearn: 0.8410821\ttest: 0.7896676\tbest: 0.7896676 (436)\ttotal: 4m 55s\tremaining: 17m 32s\n",
      "438:\tlearn: 0.8425208\ttest: 0.7907319\tbest: 0.7907319 (438)\ttotal: 4m 55s\tremaining: 17m 32s\n",
      "439:\tlearn: 0.8421699\ttest: 0.7900770\tbest: 0.7907319 (438)\ttotal: 4m 56s\tremaining: 17m 31s\n",
      "440:\tlearn: 0.8431524\ttest: 0.7907319\tbest: 0.7907319 (438)\ttotal: 4m 57s\tremaining: 17m 30s\n",
      "441:\tlearn: 0.8452577\ttest: 0.7919600\tbest: 0.7919600 (441)\ttotal: 4m 58s\tremaining: 17m 30s\n",
      "442:\tlearn: 0.8456437\ttest: 0.7920419\tbest: 0.7920419 (442)\ttotal: 4m 58s\tremaining: 17m 29s\n",
      "443:\tlearn: 0.8469771\ttest: 0.7923694\tbest: 0.7923694 (443)\ttotal: 4m 59s\tremaining: 17m 29s\n",
      "444:\tlearn: 0.8473631\ttest: 0.7924513\tbest: 0.7924513 (444)\ttotal: 5m\tremaining: 17m 28s\n",
      "445:\tlearn: 0.8474332\ttest: 0.7927788\tbest: 0.7927788 (445)\ttotal: 5m\tremaining: 17m 27s\n",
      "446:\tlearn: 0.8479245\ttest: 0.7933519\tbest: 0.7933519 (446)\ttotal: 5m 1s\tremaining: 17m 27s\n",
      "447:\tlearn: 0.8479245\ttest: 0.7935975\tbest: 0.7935975 (447)\ttotal: 5m 2s\tremaining: 17m 26s\n",
      "448:\tlearn: 0.8478894\ttest: 0.7936794\tbest: 0.7936794 (448)\ttotal: 5m 2s\tremaining: 17m 25s\n",
      "449:\tlearn: 0.8488368\ttest: 0.7941706\tbest: 0.7941706 (449)\ttotal: 5m 3s\tremaining: 17m 25s\n",
      "450:\tlearn: 0.8485210\ttest: 0.7931881\tbest: 0.7941706 (449)\ttotal: 5m 4s\tremaining: 17m 24s\n",
      "451:\tlearn: 0.8487666\ttest: 0.7935975\tbest: 0.7941706 (449)\ttotal: 5m 4s\tremaining: 17m 24s\n",
      "452:\tlearn: 0.8489421\ttest: 0.7936794\tbest: 0.7941706 (449)\ttotal: 5m 5s\tremaining: 17m 23s\n",
      "453:\tlearn: 0.8491526\ttest: 0.7939250\tbest: 0.7941706 (449)\ttotal: 5m 6s\tremaining: 17m 22s\n",
      "454:\tlearn: 0.8491526\ttest: 0.7939250\tbest: 0.7941706 (449)\ttotal: 5m 6s\tremaining: 17m 22s\n",
      "455:\tlearn: 0.8492228\ttest: 0.7940069\tbest: 0.7941706 (449)\ttotal: 5m 7s\tremaining: 17m 21s\n",
      "456:\tlearn: 0.8500298\ttest: 0.7948256\tbest: 0.7948256 (456)\ttotal: 5m 8s\tremaining: 17m 21s\n",
      "457:\tlearn: 0.8500298\ttest: 0.7948256\tbest: 0.7948256 (456)\ttotal: 5m 9s\tremaining: 17m 20s\n",
      "458:\tlearn: 0.8504158\ttest: 0.7951531\tbest: 0.7951531 (458)\ttotal: 5m 9s\tremaining: 17m 19s\n",
      "459:\tlearn: 0.8508720\ttest: 0.7955625\tbest: 0.7955625 (459)\ttotal: 5m 10s\tremaining: 17m 18s\n",
      "460:\tlearn: 0.8515737\ttest: 0.7951531\tbest: 0.7955625 (459)\ttotal: 5m 11s\tremaining: 17m 18s\n",
      "461:\tlearn: 0.8525913\ttest: 0.7971999\tbest: 0.7971999 (461)\ttotal: 5m 11s\tremaining: 17m 17s\n",
      "462:\tlearn: 0.8533633\ttest: 0.7976093\tbest: 0.7976093 (462)\ttotal: 5m 12s\tremaining: 17m 17s\n",
      "463:\tlearn: 0.8536089\ttest: 0.7977730\tbest: 0.7977730 (463)\ttotal: 5m 13s\tremaining: 17m 16s\n",
      "464:\tlearn: 0.8538194\ttest: 0.7977730\tbest: 0.7977730 (463)\ttotal: 5m 13s\tremaining: 17m 15s\n",
      "465:\tlearn: 0.8538896\ttest: 0.7978549\tbest: 0.7978549 (465)\ttotal: 5m 14s\tremaining: 17m 15s\n",
      "466:\tlearn: 0.8540651\ttest: 0.7981824\tbest: 0.7981824 (466)\ttotal: 5m 15s\tremaining: 17m 14s\n",
      "467:\tlearn: 0.8541352\ttest: 0.7985099\tbest: 0.7985099 (467)\ttotal: 5m 15s\tremaining: 17m 13s\n",
      "468:\tlearn: 0.8547317\ttest: 0.7985918\tbest: 0.7985918 (468)\ttotal: 5m 16s\tremaining: 17m 13s\n",
      "469:\tlearn: 0.8545914\ttest: 0.7986737\tbest: 0.7986737 (469)\ttotal: 5m 17s\tremaining: 17m 12s\n",
      "470:\tlearn: 0.8548019\ttest: 0.7984280\tbest: 0.7986737 (469)\ttotal: 5m 17s\tremaining: 17m 11s\n",
      "471:\tlearn: 0.8562406\ttest: 0.8002292\tbest: 0.8002292 (471)\ttotal: 5m 18s\tremaining: 17m 11s\n",
      "472:\tlearn: 0.8563107\ttest: 0.8003111\tbest: 0.8003111 (472)\ttotal: 5m 19s\tremaining: 17m 10s\n",
      "473:\tlearn: 0.8563458\ttest: 0.8002292\tbest: 0.8003111 (472)\ttotal: 5m 19s\tremaining: 17m 9s\n",
      "474:\tlearn: 0.8563107\ttest: 0.8005567\tbest: 0.8005567 (474)\ttotal: 5m 20s\tremaining: 17m 8s\n",
      "475:\tlearn: 0.8575739\ttest: 0.8015392\tbest: 0.8015392 (475)\ttotal: 5m 21s\tremaining: 17m 8s\n",
      "476:\tlearn: 0.8580652\ttest: 0.8021123\tbest: 0.8021123 (476)\ttotal: 5m 21s\tremaining: 17m 7s\n",
      "477:\tlearn: 0.8582056\ttest: 0.8027673\tbest: 0.8027673 (477)\ttotal: 5m 22s\tremaining: 17m 7s\n",
      "478:\tlearn: 0.8583108\ttest: 0.8030129\tbest: 0.8030129 (478)\ttotal: 5m 23s\tremaining: 17m 6s\n",
      "479:\tlearn: 0.8589775\ttest: 0.8034223\tbest: 0.8034223 (479)\ttotal: 5m 23s\tremaining: 17m 5s\n",
      "480:\tlearn: 0.8586617\ttest: 0.8034223\tbest: 0.8034223 (479)\ttotal: 5m 24s\tremaining: 17m 5s\n",
      "481:\tlearn: 0.8588722\ttest: 0.8036679\tbest: 0.8036679 (481)\ttotal: 5m 25s\tremaining: 17m 4s\n",
      "482:\tlearn: 0.8592933\ttest: 0.8039135\tbest: 0.8039135 (482)\ttotal: 5m 25s\tremaining: 17m 3s\n",
      "483:\tlearn: 0.8594688\ttest: 0.8042410\tbest: 0.8042410 (483)\ttotal: 5m 26s\tremaining: 17m 3s\n",
      "484:\tlearn: 0.8597495\ttest: 0.8043229\tbest: 0.8043229 (484)\ttotal: 5m 27s\tremaining: 17m 2s\n",
      "485:\tlearn: 0.8605565\ttest: 0.8051416\tbest: 0.8051416 (485)\ttotal: 5m 27s\tremaining: 17m 1s\n",
      "486:\tlearn: 0.8605916\ttest: 0.8045685\tbest: 0.8051416 (485)\ttotal: 5m 28s\tremaining: 17m 1s\n",
      "487:\tlearn: 0.8611179\ttest: 0.8048141\tbest: 0.8051416 (485)\ttotal: 5m 29s\tremaining: 17m\n",
      "488:\tlearn: 0.8612232\ttest: 0.8048141\tbest: 0.8051416 (485)\ttotal: 5m 30s\tremaining: 16m 59s\n",
      "489:\tlearn: 0.8615741\ttest: 0.8042410\tbest: 0.8051416 (485)\ttotal: 5m 30s\tremaining: 16m 59s\n",
      "490:\tlearn: 0.8611179\ttest: 0.8048141\tbest: 0.8051416 (485)\ttotal: 5m 31s\tremaining: 16m 58s\n",
      "491:\tlearn: 0.8610828\ttest: 0.8048960\tbest: 0.8051416 (485)\ttotal: 5m 32s\tremaining: 16m 58s\n",
      "492:\tlearn: 0.8612232\ttest: 0.8053054\tbest: 0.8053054 (492)\ttotal: 5m 32s\tremaining: 16m 57s\n",
      "493:\tlearn: 0.8612232\ttest: 0.8053054\tbest: 0.8053054 (492)\ttotal: 5m 33s\tremaining: 16m 56s\n",
      "494:\tlearn: 0.8612934\ttest: 0.8053873\tbest: 0.8053873 (494)\ttotal: 5m 34s\tremaining: 16m 55s\n",
      "495:\tlearn: 0.8617846\ttest: 0.8052235\tbest: 0.8053873 (494)\ttotal: 5m 34s\tremaining: 16m 55s\n",
      "496:\tlearn: 0.8621706\ttest: 0.8055510\tbest: 0.8055510 (496)\ttotal: 5m 35s\tremaining: 16m 54s\n",
      "497:\tlearn: 0.8624864\ttest: 0.8062879\tbest: 0.8062879 (497)\ttotal: 5m 36s\tremaining: 16m 54s\n",
      "498:\tlearn: 0.8632233\ttest: 0.8062879\tbest: 0.8062879 (497)\ttotal: 5m 36s\tremaining: 16m 53s\n",
      "499:\tlearn: 0.8632233\ttest: 0.8062879\tbest: 0.8062879 (497)\ttotal: 5m 37s\tremaining: 16m 52s\n",
      "500:\tlearn: 0.8635040\ttest: 0.8066154\tbest: 0.8066154 (500)\ttotal: 5m 38s\tremaining: 16m 51s\n",
      "501:\tlearn: 0.8636443\ttest: 0.8067791\tbest: 0.8067791 (501)\ttotal: 5m 38s\tremaining: 16m 51s\n",
      "502:\tlearn: 0.8638900\ttest: 0.8069429\tbest: 0.8069429 (502)\ttotal: 5m 39s\tremaining: 16m 50s\n",
      "503:\tlearn: 0.8639251\ttest: 0.8071066\tbest: 0.8071066 (503)\ttotal: 5m 40s\tremaining: 16m 49s\n",
      "504:\tlearn: 0.8648374\ttest: 0.8074341\tbest: 0.8074341 (504)\ttotal: 5m 40s\tremaining: 16m 49s\n",
      "505:\tlearn: 0.8649426\ttest: 0.8074341\tbest: 0.8074341 (504)\ttotal: 5m 41s\tremaining: 16m 48s\n",
      "506:\tlearn: 0.8648023\ttest: 0.8075160\tbest: 0.8075160 (506)\ttotal: 5m 42s\tremaining: 16m 48s\n",
      "507:\tlearn: 0.8649777\ttest: 0.8078435\tbest: 0.8078435 (507)\ttotal: 5m 42s\tremaining: 16m 47s\n",
      "508:\tlearn: 0.8650479\ttest: 0.8079253\tbest: 0.8079253 (508)\ttotal: 5m 43s\tremaining: 16m 46s\n",
      "509:\tlearn: 0.8653988\ttest: 0.8078435\tbest: 0.8079253 (508)\ttotal: 5m 44s\tremaining: 16m 45s\n",
      "510:\tlearn: 0.8656444\ttest: 0.8084984\tbest: 0.8084984 (510)\ttotal: 5m 44s\tremaining: 16m 45s\n",
      "511:\tlearn: 0.8656093\ttest: 0.8080891\tbest: 0.8084984 (510)\ttotal: 5m 45s\tremaining: 16m 44s\n",
      "512:\tlearn: 0.8661707\ttest: 0.8084984\tbest: 0.8084984 (510)\ttotal: 5m 46s\tremaining: 16m 43s\n",
      "513:\tlearn: 0.8663111\ttest: 0.8089078\tbest: 0.8089078 (513)\ttotal: 5m 47s\tremaining: 16m 43s\n",
      "514:\tlearn: 0.8665567\ttest: 0.8088259\tbest: 0.8089078 (513)\ttotal: 5m 47s\tremaining: 16m 42s\n",
      "515:\tlearn: 0.8665567\ttest: 0.8083347\tbest: 0.8089078 (513)\ttotal: 5m 48s\tremaining: 16m 41s\n",
      "516:\tlearn: 0.8666971\ttest: 0.8084984\tbest: 0.8089078 (513)\ttotal: 5m 49s\tremaining: 16m 41s\n",
      "517:\tlearn: 0.8666269\ttest: 0.8084166\tbest: 0.8089078 (513)\ttotal: 5m 49s\tremaining: 16m 40s\n",
      "518:\tlearn: 0.8664164\ttest: 0.8084166\tbest: 0.8089078 (513)\ttotal: 5m 50s\tremaining: 16m 39s\n",
      "519:\tlearn: 0.8663111\ttest: 0.8086622\tbest: 0.8089078 (513)\ttotal: 5m 51s\tremaining: 16m 39s\n",
      "520:\tlearn: 0.8668725\ttest: 0.8088259\tbest: 0.8089078 (513)\ttotal: 5m 51s\tremaining: 16m 38s\n",
      "521:\tlearn: 0.8666971\ttest: 0.8089897\tbest: 0.8089897 (521)\ttotal: 5m 52s\tremaining: 16m 37s\n",
      "522:\tlearn: 0.8672585\ttest: 0.8093991\tbest: 0.8093991 (522)\ttotal: 5m 53s\tremaining: 16m 37s\n",
      "523:\tlearn: 0.8678901\ttest: 0.8098903\tbest: 0.8098903 (523)\ttotal: 5m 53s\tremaining: 16m 36s\n",
      "524:\tlearn: 0.8679954\ttest: 0.8098903\tbest: 0.8098903 (523)\ttotal: 5m 54s\tremaining: 16m 35s\n",
      "525:\tlearn: 0.8679252\ttest: 0.8098084\tbest: 0.8098903 (523)\ttotal: 5m 55s\tremaining: 16m 35s\n",
      "526:\tlearn: 0.8677497\ttest: 0.8097265\tbest: 0.8098903 (523)\ttotal: 5m 55s\tremaining: 16m 34s\n",
      "527:\tlearn: 0.8709779\ttest: 0.8122646\tbest: 0.8122646 (527)\ttotal: 5m 56s\tremaining: 16m 34s\n",
      "528:\tlearn: 0.8710130\ttest: 0.8124284\tbest: 0.8124284 (528)\ttotal: 5m 57s\tremaining: 16m 33s\n",
      "529:\tlearn: 0.8713288\ttest: 0.8124284\tbest: 0.8124284 (528)\ttotal: 5m 58s\tremaining: 16m 33s\n",
      "530:\tlearn: 0.8712937\ttest: 0.8127559\tbest: 0.8127559 (530)\ttotal: 5m 58s\tremaining: 16m 32s\n",
      "531:\tlearn: 0.8713990\ttest: 0.8130015\tbest: 0.8130015 (531)\ttotal: 5m 59s\tremaining: 16m 31s\n",
      "532:\tlearn: 0.8714692\ttest: 0.8128377\tbest: 0.8130015 (531)\ttotal: 6m\tremaining: 16m 30s\n",
      "533:\tlearn: 0.8718552\ttest: 0.8126740\tbest: 0.8130015 (531)\ttotal: 6m\tremaining: 16m 30s\n",
      "534:\tlearn: 0.8712586\ttest: 0.8128377\tbest: 0.8130015 (531)\ttotal: 6m 1s\tremaining: 16m 29s\n",
      "535:\tlearn: 0.8717148\ttest: 0.8125102\tbest: 0.8130015 (531)\ttotal: 6m 2s\tremaining: 16m 28s\n",
      "536:\tlearn: 0.8724517\ttest: 0.8125102\tbest: 0.8130015 (531)\ttotal: 6m 2s\tremaining: 16m 28s\n",
      "537:\tlearn: 0.8723815\ttest: 0.8134108\tbest: 0.8134108 (537)\ttotal: 6m 3s\tremaining: 16m 27s\n",
      "538:\tlearn: 0.8719604\ttest: 0.8129196\tbest: 0.8134108 (537)\ttotal: 6m 4s\tremaining: 16m 26s\n",
      "539:\tlearn: 0.8720657\ttest: 0.8129196\tbest: 0.8134108 (537)\ttotal: 6m 4s\tremaining: 16m 26s\n",
      "540:\tlearn: 0.8722762\ttest: 0.8129196\tbest: 0.8134108 (537)\ttotal: 6m 5s\tremaining: 16m 25s\n",
      "541:\tlearn: 0.8725920\ttest: 0.8131652\tbest: 0.8134108 (537)\ttotal: 6m 6s\tremaining: 16m 24s\n",
      "542:\tlearn: 0.8726973\ttest: 0.8131652\tbest: 0.8134108 (537)\ttotal: 6m 6s\tremaining: 16m 24s\n",
      "543:\tlearn: 0.8729780\ttest: 0.8134927\tbest: 0.8134927 (543)\ttotal: 6m 7s\tremaining: 16m 23s\n",
      "544:\tlearn: 0.8730833\ttest: 0.8134927\tbest: 0.8134927 (543)\ttotal: 6m 8s\tremaining: 16m 22s\n",
      "545:\tlearn: 0.8731184\ttest: 0.8134108\tbest: 0.8134927 (543)\ttotal: 6m 8s\tremaining: 16m 21s\n",
      "546:\tlearn: 0.8734342\ttest: 0.8136565\tbest: 0.8136565 (546)\ttotal: 6m 9s\tremaining: 16m 21s\n",
      "547:\tlearn: 0.8741359\ttest: 0.8137383\tbest: 0.8137383 (547)\ttotal: 6m 10s\tremaining: 16m 20s\n",
      "548:\tlearn: 0.8737149\ttest: 0.8134927\tbest: 0.8137383 (547)\ttotal: 6m 10s\tremaining: 16m 19s\n",
      "549:\tlearn: 0.8746623\ttest: 0.8132471\tbest: 0.8137383 (547)\ttotal: 6m 11s\tremaining: 16m 19s\n",
      "550:\tlearn: 0.8748026\ttest: 0.8134108\tbest: 0.8137383 (547)\ttotal: 6m 12s\tremaining: 16m 18s\n",
      "551:\tlearn: 0.8753640\ttest: 0.8148027\tbest: 0.8148027 (551)\ttotal: 6m 12s\tremaining: 16m 17s\n",
      "552:\tlearn: 0.8751535\ttest: 0.8150483\tbest: 0.8150483 (552)\ttotal: 6m 13s\tremaining: 16m 17s\n",
      "553:\tlearn: 0.8749430\ttest: 0.8145571\tbest: 0.8150483 (552)\ttotal: 6m 14s\tremaining: 16m 16s\n",
      "554:\tlearn: 0.8751886\ttest: 0.8147208\tbest: 0.8150483 (552)\ttotal: 6m 14s\tremaining: 16m 15s\n",
      "555:\tlearn: 0.8755395\ttest: 0.8148846\tbest: 0.8150483 (552)\ttotal: 6m 15s\tremaining: 16m 15s\n",
      "556:\tlearn: 0.8759255\ttest: 0.8154577\tbest: 0.8154577 (556)\ttotal: 6m 16s\tremaining: 16m 14s\n",
      "557:\tlearn: 0.8759956\ttest: 0.8155395\tbest: 0.8155395 (557)\ttotal: 6m 16s\tremaining: 16m 13s\n",
      "558:\tlearn: 0.8763816\ttest: 0.8156214\tbest: 0.8156214 (558)\ttotal: 6m 17s\tremaining: 16m 13s\n",
      "559:\tlearn: 0.8771185\ttest: 0.8168495\tbest: 0.8168495 (559)\ttotal: 6m 18s\tremaining: 16m 12s\n",
      "560:\tlearn: 0.8769431\ttest: 0.8167676\tbest: 0.8168495 (559)\ttotal: 6m 18s\tremaining: 16m 11s\n",
      "561:\tlearn: 0.8779606\ttest: 0.8170951\tbest: 0.8170951 (561)\ttotal: 6m 19s\tremaining: 16m 11s\n",
      "562:\tlearn: 0.8783115\ttest: 0.8172589\tbest: 0.8172589 (562)\ttotal: 6m 20s\tremaining: 16m 10s\n",
      "563:\tlearn: 0.8786624\ttest: 0.8176682\tbest: 0.8176682 (563)\ttotal: 6m 20s\tremaining: 16m 9s\n",
      "564:\tlearn: 0.8786975\ttest: 0.8178320\tbest: 0.8178320 (564)\ttotal: 6m 21s\tremaining: 16m 9s\n",
      "565:\tlearn: 0.8786273\ttest: 0.8179957\tbest: 0.8179957 (565)\ttotal: 6m 22s\tremaining: 16m 8s\n",
      "566:\tlearn: 0.8789080\ttest: 0.8185689\tbest: 0.8185689 (566)\ttotal: 6m 22s\tremaining: 16m 7s\n",
      "567:\tlearn: 0.8790484\ttest: 0.8187326\tbest: 0.8187326 (567)\ttotal: 6m 23s\tremaining: 16m 7s\n",
      "568:\tlearn: 0.8792589\ttest: 0.8189782\tbest: 0.8189782 (568)\ttotal: 6m 24s\tremaining: 16m 6s\n",
      "569:\tlearn: 0.8792238\ttest: 0.8190601\tbest: 0.8190601 (569)\ttotal: 6m 24s\tremaining: 16m 5s\n",
      "570:\tlearn: 0.8796098\ttest: 0.8191420\tbest: 0.8191420 (570)\ttotal: 6m 25s\tremaining: 16m 4s\n",
      "571:\tlearn: 0.8806274\ttest: 0.8194695\tbest: 0.8194695 (571)\ttotal: 6m 26s\tremaining: 16m 4s\n",
      "572:\tlearn: 0.8808028\ttest: 0.8195513\tbest: 0.8195513 (572)\ttotal: 6m 26s\tremaining: 16m 3s\n",
      "573:\tlearn: 0.8809432\ttest: 0.8197151\tbest: 0.8197151 (573)\ttotal: 6m 27s\tremaining: 16m 3s\n",
      "574:\tlearn: 0.8810485\ttest: 0.8199607\tbest: 0.8199607 (574)\ttotal: 6m 28s\tremaining: 16m 2s\n",
      "575:\tlearn: 0.8811186\ttest: 0.8200426\tbest: 0.8200426 (575)\ttotal: 6m 28s\tremaining: 16m 1s\n",
      "576:\tlearn: 0.8815397\ttest: 0.8205338\tbest: 0.8205338 (576)\ttotal: 6m 29s\tremaining: 16m\n",
      "577:\tlearn: 0.8820309\ttest: 0.8206157\tbest: 0.8206157 (577)\ttotal: 6m 30s\tremaining: 16m\n",
      "578:\tlearn: 0.8820309\ttest: 0.8208613\tbest: 0.8208613 (578)\ttotal: 6m 31s\tremaining: 15m 59s\n",
      "579:\tlearn: 0.8819959\ttest: 0.8209432\tbest: 0.8209432 (579)\ttotal: 6m 31s\tremaining: 15m 58s\n",
      "580:\tlearn: 0.8821362\ttest: 0.8206157\tbest: 0.8209432 (579)\ttotal: 6m 32s\tremaining: 15m 58s\n",
      "581:\tlearn: 0.8829784\ttest: 0.8215982\tbest: 0.8215982 (581)\ttotal: 6m 33s\tremaining: 15m 57s\n",
      "582:\tlearn: 0.8830485\ttest: 0.8216800\tbest: 0.8216800 (582)\ttotal: 6m 33s\tremaining: 15m 57s\n",
      "583:\tlearn: 0.8830485\ttest: 0.8214344\tbest: 0.8216800 (582)\ttotal: 6m 34s\tremaining: 15m 56s\n",
      "584:\tlearn: 0.8837152\ttest: 0.8225806\tbest: 0.8225806 (584)\ttotal: 6m 35s\tremaining: 15m 55s\n",
      "585:\tlearn: 0.8837854\ttest: 0.8226625\tbest: 0.8226625 (585)\ttotal: 6m 35s\tremaining: 15m 54s\n",
      "586:\tlearn: 0.8835398\ttest: 0.8224988\tbest: 0.8226625 (585)\ttotal: 6m 36s\tremaining: 15m 54s\n",
      "587:\tlearn: 0.8841363\ttest: 0.8230719\tbest: 0.8230719 (587)\ttotal: 6m 37s\tremaining: 15m 53s\n",
      "588:\tlearn: 0.8843468\ttest: 0.8233175\tbest: 0.8233175 (588)\ttotal: 6m 37s\tremaining: 15m 52s\n",
      "589:\tlearn: 0.8846275\ttest: 0.8236450\tbest: 0.8236450 (589)\ttotal: 6m 38s\tremaining: 15m 52s\n",
      "590:\tlearn: 0.8848732\ttest: 0.8238087\tbest: 0.8238087 (590)\ttotal: 6m 39s\tremaining: 15m 51s\n",
      "591:\tlearn: 0.8856802\ttest: 0.8241362\tbest: 0.8241362 (591)\ttotal: 6m 39s\tremaining: 15m 50s\n",
      "592:\tlearn: 0.8845924\ttest: 0.8239725\tbest: 0.8241362 (591)\ttotal: 6m 40s\tremaining: 15m 50s\n",
      "593:\tlearn: 0.8848030\ttest: 0.8242181\tbest: 0.8242181 (593)\ttotal: 6m 41s\tremaining: 15m 49s\n",
      "594:\tlearn: 0.8848030\ttest: 0.8242181\tbest: 0.8242181 (593)\ttotal: 6m 41s\tremaining: 15m 48s\n",
      "595:\tlearn: 0.8849784\ttest: 0.8247912\tbest: 0.8247912 (595)\ttotal: 6m 42s\tremaining: 15m 48s\n",
      "596:\tlearn: 0.8860662\ttest: 0.8252006\tbest: 0.8252006 (596)\ttotal: 6m 43s\tremaining: 15m 47s\n",
      "597:\tlearn: 0.8861714\ttest: 0.8254462\tbest: 0.8254462 (597)\ttotal: 6m 43s\tremaining: 15m 46s\n",
      "598:\tlearn: 0.8861013\ttest: 0.8253643\tbest: 0.8254462 (597)\ttotal: 6m 44s\tremaining: 15m 46s\n",
      "599:\tlearn: 0.8861364\ttest: 0.8255281\tbest: 0.8255281 (599)\ttotal: 6m 45s\tremaining: 15m 45s\n",
      "600:\tlearn: 0.8864872\ttest: 0.8256918\tbest: 0.8256918 (600)\ttotal: 6m 45s\tremaining: 15m 44s\n",
      "601:\tlearn: 0.8864872\ttest: 0.8254462\tbest: 0.8256918 (600)\ttotal: 6m 46s\tremaining: 15m 44s\n",
      "602:\tlearn: 0.8864171\ttest: 0.8256100\tbest: 0.8256918 (600)\ttotal: 6m 47s\tremaining: 15m 43s\n",
      "603:\tlearn: 0.8868030\ttest: 0.8261831\tbest: 0.8261831 (603)\ttotal: 6m 47s\tremaining: 15m 42s\n",
      "604:\tlearn: 0.8868381\ttest: 0.8263468\tbest: 0.8263468 (604)\ttotal: 6m 48s\tremaining: 15m 41s\n",
      "605:\tlearn: 0.8867680\ttest: 0.8265106\tbest: 0.8265106 (605)\ttotal: 6m 49s\tremaining: 15m 41s\n",
      "606:\tlearn: 0.8868381\ttest: 0.8265924\tbest: 0.8265924 (606)\ttotal: 6m 49s\tremaining: 15m 40s\n",
      "607:\tlearn: 0.8868381\ttest: 0.8265924\tbest: 0.8265924 (606)\ttotal: 6m 50s\tremaining: 15m 39s\n",
      "608:\tlearn: 0.8870136\ttest: 0.8269199\tbest: 0.8269199 (608)\ttotal: 6m 51s\tremaining: 15m 39s\n",
      "609:\tlearn: 0.8870136\ttest: 0.8269199\tbest: 0.8269199 (608)\ttotal: 6m 51s\tremaining: 15m 38s\n",
      "610:\tlearn: 0.8872943\ttest: 0.8272474\tbest: 0.8272474 (610)\ttotal: 6m 52s\tremaining: 15m 37s\n",
      "611:\tlearn: 0.8876101\ttest: 0.8277387\tbest: 0.8277387 (611)\ttotal: 6m 53s\tremaining: 15m 37s\n",
      "612:\tlearn: 0.8877154\ttest: 0.8274930\tbest: 0.8277387 (611)\ttotal: 6m 53s\tremaining: 15m 36s\n",
      "613:\tlearn: 0.8875048\ttest: 0.8272474\tbest: 0.8277387 (611)\ttotal: 6m 54s\tremaining: 15m 35s\n",
      "614:\tlearn: 0.8878908\ttest: 0.8280662\tbest: 0.8280662 (614)\ttotal: 6m 55s\tremaining: 15m 35s\n",
      "615:\tlearn: 0.8879961\ttest: 0.8283118\tbest: 0.8283118 (615)\ttotal: 6m 55s\tremaining: 15m 34s\n",
      "616:\tlearn: 0.8889084\ttest: 0.8288849\tbest: 0.8288849 (616)\ttotal: 6m 56s\tremaining: 15m 33s\n",
      "617:\tlearn: 0.8891891\ttest: 0.8294580\tbest: 0.8294580 (617)\ttotal: 6m 57s\tremaining: 15m 33s\n",
      "618:\tlearn: 0.8896102\ttest: 0.8289668\tbest: 0.8294580 (617)\ttotal: 6m 57s\tremaining: 15m 32s\n",
      "619:\tlearn: 0.8894698\ttest: 0.8292943\tbest: 0.8294580 (617)\ttotal: 6m 58s\tremaining: 15m 31s\n",
      "620:\tlearn: 0.8895400\ttest: 0.8286393\tbest: 0.8294580 (617)\ttotal: 6m 59s\tremaining: 15m 31s\n",
      "621:\tlearn: 0.8894347\ttest: 0.8291305\tbest: 0.8294580 (617)\ttotal: 6m 59s\tremaining: 15m 30s\n",
      "622:\tlearn: 0.8897154\ttest: 0.8294580\tbest: 0.8294580 (617)\ttotal: 7m\tremaining: 15m 29s\n",
      "623:\tlearn: 0.8899260\ttest: 0.8297036\tbest: 0.8297036 (623)\ttotal: 7m 1s\tremaining: 15m 29s\n",
      "624:\tlearn: 0.8900663\ttest: 0.8298674\tbest: 0.8298674 (624)\ttotal: 7m 1s\tremaining: 15m 28s\n",
      "625:\tlearn: 0.8902067\ttest: 0.8297855\tbest: 0.8298674 (624)\ttotal: 7m 2s\tremaining: 15m 27s\n",
      "626:\tlearn: 0.8902418\ttest: 0.8299492\tbest: 0.8299492 (626)\ttotal: 7m 3s\tremaining: 15m 26s\n",
      "627:\tlearn: 0.8903470\ttest: 0.8299492\tbest: 0.8299492 (626)\ttotal: 7m 3s\tremaining: 15m 26s\n",
      "628:\tlearn: 0.8906628\ttest: 0.8301949\tbest: 0.8301949 (628)\ttotal: 7m 4s\tremaining: 15m 25s\n",
      "629:\tlearn: 0.8906277\ttest: 0.8305224\tbest: 0.8305224 (629)\ttotal: 7m 5s\tremaining: 15m 24s\n",
      "630:\tlearn: 0.8905927\ttest: 0.8306042\tbest: 0.8306042 (630)\ttotal: 7m 5s\tremaining: 15m 24s\n",
      "631:\tlearn: 0.8905927\ttest: 0.8306042\tbest: 0.8306042 (630)\ttotal: 7m 6s\tremaining: 15m 23s\n",
      "632:\tlearn: 0.8906979\ttest: 0.8308498\tbest: 0.8308498 (632)\ttotal: 7m 7s\tremaining: 15m 22s\n",
      "633:\tlearn: 0.8909435\ttest: 0.8310136\tbest: 0.8310136 (633)\ttotal: 7m 7s\tremaining: 15m 22s\n",
      "634:\tlearn: 0.8909786\ttest: 0.8309317\tbest: 0.8310136 (633)\ttotal: 7m 8s\tremaining: 15m 21s\n",
      "635:\tlearn: 0.8910137\ttest: 0.8310955\tbest: 0.8310955 (635)\ttotal: 7m 9s\tremaining: 15m 20s\n",
      "636:\tlearn: 0.8915050\ttest: 0.8314230\tbest: 0.8314230 (636)\ttotal: 7m 9s\tremaining: 15m 19s\n",
      "637:\tlearn: 0.8917506\ttest: 0.8318323\tbest: 0.8318323 (637)\ttotal: 7m 10s\tremaining: 15m 19s\n",
      "638:\tlearn: 0.8918208\ttest: 0.8319142\tbest: 0.8319142 (638)\ttotal: 7m 11s\tremaining: 15m 18s\n",
      "639:\tlearn: 0.8919611\ttest: 0.8320779\tbest: 0.8320779 (639)\ttotal: 7m 11s\tremaining: 15m 17s\n",
      "640:\tlearn: 0.8925225\ttest: 0.8327329\tbest: 0.8327329 (640)\ttotal: 7m 12s\tremaining: 15m 17s\n",
      "641:\tlearn: 0.8925927\ttest: 0.8328148\tbest: 0.8328148 (641)\ttotal: 7m 13s\tremaining: 15m 16s\n",
      "642:\tlearn: 0.8925225\ttest: 0.8324873\tbest: 0.8328148 (641)\ttotal: 7m 14s\tremaining: 15m 16s\n",
      "643:\tlearn: 0.8928383\ttest: 0.8329785\tbest: 0.8329785 (643)\ttotal: 7m 14s\tremaining: 15m 15s\n",
      "644:\tlearn: 0.8929787\ttest: 0.8331423\tbest: 0.8331423 (644)\ttotal: 7m 15s\tremaining: 15m 14s\n",
      "645:\tlearn: 0.8928383\ttest: 0.8327329\tbest: 0.8331423 (644)\ttotal: 7m 16s\tremaining: 15m 13s\n",
      "646:\tlearn: 0.8927682\ttest: 0.8326511\tbest: 0.8331423 (644)\ttotal: 7m 16s\tremaining: 15m 13s\n",
      "647:\tlearn: 0.8929436\ttest: 0.8329785\tbest: 0.8331423 (644)\ttotal: 7m 17s\tremaining: 15m 12s\n",
      "648:\tlearn: 0.8949086\ttest: 0.8345341\tbest: 0.8345341 (648)\ttotal: 7m 18s\tremaining: 15m 12s\n",
      "649:\tlearn: 0.8949437\ttest: 0.8346979\tbest: 0.8346979 (649)\ttotal: 7m 18s\tremaining: 15m 11s\n",
      "650:\tlearn: 0.8950489\ttest: 0.8349435\tbest: 0.8349435 (650)\ttotal: 7m 19s\tremaining: 15m 10s\n",
      "651:\tlearn: 0.8952595\ttest: 0.8351891\tbest: 0.8351891 (651)\ttotal: 7m 20s\tremaining: 15m 9s\n",
      "652:\tlearn: 0.8953297\ttest: 0.8350254\tbest: 0.8351891 (651)\ttotal: 7m 20s\tremaining: 15m 9s\n",
      "653:\tlearn: 0.8953297\ttest: 0.8350254\tbest: 0.8351891 (651)\ttotal: 7m 21s\tremaining: 15m 8s\n",
      "654:\tlearn: 0.8955402\ttest: 0.8355166\tbest: 0.8355166 (654)\ttotal: 7m 22s\tremaining: 15m 7s\n",
      "655:\tlearn: 0.8955753\ttest: 0.8356804\tbest: 0.8356804 (655)\ttotal: 7m 22s\tremaining: 15m 7s\n",
      "656:\tlearn: 0.8953647\ttest: 0.8354347\tbest: 0.8356804 (655)\ttotal: 7m 23s\tremaining: 15m 6s\n",
      "657:\tlearn: 0.8957507\ttest: 0.8360079\tbest: 0.8360079 (657)\ttotal: 7m 24s\tremaining: 15m 5s\n",
      "658:\tlearn: 0.8956806\ttest: 0.8359260\tbest: 0.8360079 (657)\ttotal: 7m 24s\tremaining: 15m 5s\n",
      "659:\tlearn: 0.8959262\ttest: 0.8363354\tbest: 0.8363354 (659)\ttotal: 7m 25s\tremaining: 15m 4s\n",
      "660:\tlearn: 0.8961016\ttest: 0.8369085\tbest: 0.8369085 (660)\ttotal: 7m 26s\tremaining: 15m 3s\n",
      "661:\tlearn: 0.8962420\ttest: 0.8368266\tbest: 0.8369085 (660)\ttotal: 7m 26s\tremaining: 15m 3s\n",
      "662:\tlearn: 0.8969087\ttest: 0.8367447\tbest: 0.8369085 (660)\ttotal: 7m 27s\tremaining: 15m 2s\n",
      "663:\tlearn: 0.8969087\ttest: 0.8367447\tbest: 0.8369085 (660)\ttotal: 7m 28s\tremaining: 15m 1s\n",
      "664:\tlearn: 0.8969087\ttest: 0.8367447\tbest: 0.8369085 (660)\ttotal: 7m 28s\tremaining: 15m\n",
      "665:\tlearn: 0.8969438\ttest: 0.8369085\tbest: 0.8369085 (660)\ttotal: 7m 29s\tremaining: 15m\n",
      "666:\tlearn: 0.8969087\ttest: 0.8372360\tbest: 0.8372360 (666)\ttotal: 7m 30s\tremaining: 14m 59s\n",
      "667:\tlearn: 0.8973297\ttest: 0.8377272\tbest: 0.8377272 (667)\ttotal: 7m 30s\tremaining: 14m 58s\n",
      "668:\tlearn: 0.8972245\ttest: 0.8374816\tbest: 0.8377272 (667)\ttotal: 7m 31s\tremaining: 14m 58s\n",
      "669:\tlearn: 0.8972245\ttest: 0.8374816\tbest: 0.8377272 (667)\ttotal: 7m 32s\tremaining: 14m 57s\n",
      "670:\tlearn: 0.8971894\ttest: 0.8375635\tbest: 0.8377272 (667)\ttotal: 7m 32s\tremaining: 14m 56s\n",
      "671:\tlearn: 0.8977508\ttest: 0.8374816\tbest: 0.8377272 (667)\ttotal: 7m 33s\tremaining: 14m 56s\n",
      "672:\tlearn: 0.8976104\ttest: 0.8378091\tbest: 0.8378091 (672)\ttotal: 7m 34s\tremaining: 14m 55s\n",
      "673:\tlearn: 0.8977859\ttest: 0.8378909\tbest: 0.8378909 (673)\ttotal: 7m 34s\tremaining: 14m 54s\n",
      "674:\tlearn: 0.8975754\ttest: 0.8381366\tbest: 0.8381366 (674)\ttotal: 7m 35s\tremaining: 14m 54s\n",
      "675:\tlearn: 0.8975754\ttest: 0.8381366\tbest: 0.8381366 (674)\ttotal: 7m 36s\tremaining: 14m 53s\n",
      "676:\tlearn: 0.8979262\ttest: 0.8383003\tbest: 0.8383003 (676)\ttotal: 7m 36s\tremaining: 14m 52s\n",
      "677:\tlearn: 0.8976104\ttest: 0.8380547\tbest: 0.8383003 (676)\ttotal: 7m 37s\tremaining: 14m 52s\n",
      "678:\tlearn: 0.8977508\ttest: 0.8382184\tbest: 0.8383003 (676)\ttotal: 7m 38s\tremaining: 14m 51s\n",
      "679:\tlearn: 0.8979613\ttest: 0.8382184\tbest: 0.8383003 (676)\ttotal: 7m 38s\tremaining: 14m 50s\n",
      "680:\tlearn: 0.8988035\ttest: 0.8392009\tbest: 0.8392009 (680)\ttotal: 7m 39s\tremaining: 14m 50s\n",
      "681:\tlearn: 0.8988035\ttest: 0.8394465\tbest: 0.8394465 (681)\ttotal: 7m 40s\tremaining: 14m 49s\n",
      "682:\tlearn: 0.8988736\ttest: 0.8395284\tbest: 0.8395284 (682)\ttotal: 7m 40s\tremaining: 14m 48s\n",
      "683:\tlearn: 0.8993298\ttest: 0.8399378\tbest: 0.8399378 (683)\ttotal: 7m 41s\tremaining: 14m 47s\n",
      "684:\tlearn: 0.8996807\ttest: 0.8403471\tbest: 0.8403471 (684)\ttotal: 7m 42s\tremaining: 14m 47s\n",
      "685:\tlearn: 0.9022422\ttest: 0.8427215\tbest: 0.8427215 (685)\ttotal: 7m 43s\tremaining: 14m 46s\n",
      "686:\tlearn: 0.9023124\ttest: 0.8428033\tbest: 0.8428033 (686)\ttotal: 7m 43s\tremaining: 14m 46s\n",
      "687:\tlearn: 0.9023475\ttest: 0.8429671\tbest: 0.8429671 (687)\ttotal: 7m 44s\tremaining: 14m 45s\n",
      "688:\tlearn: 0.9022773\ttest: 0.8428852\tbest: 0.8429671 (687)\ttotal: 7m 45s\tremaining: 14m 44s\n",
      "689:\tlearn: 0.9024176\ttest: 0.8430490\tbest: 0.8430490 (689)\ttotal: 7m 45s\tremaining: 14m 44s\n",
      "690:\tlearn: 0.9025931\ttest: 0.8431308\tbest: 0.8431308 (690)\ttotal: 7m 46s\tremaining: 14m 43s\n",
      "691:\tlearn: 0.9026633\ttest: 0.8432127\tbest: 0.8432127 (691)\ttotal: 7m 47s\tremaining: 14m 42s\n",
      "692:\tlearn: 0.9030492\ttest: 0.8437858\tbest: 0.8437858 (692)\ttotal: 7m 47s\tremaining: 14m 42s\n",
      "693:\tlearn: 0.9032598\ttest: 0.8440314\tbest: 0.8440314 (693)\ttotal: 7m 48s\tremaining: 14m 41s\n",
      "694:\tlearn: 0.9034352\ttest: 0.8438677\tbest: 0.8440314 (693)\ttotal: 7m 49s\tremaining: 14m 40s\n",
      "695:\tlearn: 0.9032247\ttest: 0.8438677\tbest: 0.8440314 (693)\ttotal: 7m 49s\tremaining: 14m 40s\n",
      "696:\tlearn: 0.9035405\ttest: 0.8441133\tbest: 0.8441133 (696)\ttotal: 7m 50s\tremaining: 14m 39s\n",
      "697:\tlearn: 0.9034703\ttest: 0.8440314\tbest: 0.8441133 (696)\ttotal: 7m 51s\tremaining: 14m 38s\n",
      "698:\tlearn: 0.9036107\ttest: 0.8439496\tbest: 0.8441133 (696)\ttotal: 7m 51s\tremaining: 14m 38s\n",
      "699:\tlearn: 0.9036107\ttest: 0.8437039\tbest: 0.8441133 (696)\ttotal: 7m 52s\tremaining: 14m 37s\n",
      "700:\tlearn: 0.9039966\ttest: 0.8440314\tbest: 0.8441133 (696)\ttotal: 7m 53s\tremaining: 14m 36s\n",
      "701:\tlearn: 0.9049440\ttest: 0.8450139\tbest: 0.8450139 (701)\ttotal: 7m 53s\tremaining: 14m 36s\n",
      "702:\tlearn: 0.9051195\ttest: 0.8450958\tbest: 0.8450958 (702)\ttotal: 7m 54s\tremaining: 14m 35s\n",
      "703:\tlearn: 0.9058213\ttest: 0.8454233\tbest: 0.8454233 (703)\ttotal: 7m 55s\tremaining: 14m 34s\n",
      "704:\tlearn: 0.9058914\ttest: 0.8459964\tbest: 0.8459964 (704)\ttotal: 7m 55s\tremaining: 14m 34s\n",
      "705:\tlearn: 0.9059265\ttest: 0.8461601\tbest: 0.8461601 (705)\ttotal: 7m 56s\tremaining: 14m 33s\n",
      "706:\tlearn: 0.9059967\ttest: 0.8462420\tbest: 0.8462420 (706)\ttotal: 7m 57s\tremaining: 14m 32s\n",
      "707:\tlearn: 0.9063476\ttest: 0.8461601\tbest: 0.8462420 (706)\ttotal: 7m 57s\tremaining: 14m 32s\n",
      "708:\tlearn: 0.9063476\ttest: 0.8454233\tbest: 0.8462420 (706)\ttotal: 7m 58s\tremaining: 14m 31s\n",
      "709:\tlearn: 0.9066634\ttest: 0.8456689\tbest: 0.8462420 (706)\ttotal: 7m 59s\tremaining: 14m 30s\n",
      "710:\tlearn: 0.9065932\ttest: 0.8455870\tbest: 0.8462420 (706)\ttotal: 7m 59s\tremaining: 14m 30s\n",
      "711:\tlearn: 0.9065230\ttest: 0.8455052\tbest: 0.8462420 (706)\ttotal: 8m\tremaining: 14m 29s\n",
      "712:\tlearn: 0.9064529\ttest: 0.8454233\tbest: 0.8462420 (706)\ttotal: 8m 1s\tremaining: 14m 28s\n",
      "713:\tlearn: 0.9065230\ttest: 0.8455052\tbest: 0.8462420 (706)\ttotal: 8m 1s\tremaining: 14m 27s\n",
      "714:\tlearn: 0.9065581\ttest: 0.8456689\tbest: 0.8462420 (706)\ttotal: 8m 2s\tremaining: 14m 27s\n",
      "715:\tlearn: 0.9064529\ttest: 0.8456689\tbest: 0.8462420 (706)\ttotal: 8m 3s\tremaining: 14m 26s\n",
      "716:\tlearn: 0.9064879\ttest: 0.8458327\tbest: 0.8462420 (706)\ttotal: 8m 3s\tremaining: 14m 25s\n",
      "717:\tlearn: 0.9075406\ttest: 0.8460783\tbest: 0.8462420 (706)\ttotal: 8m 4s\tremaining: 14m 25s\n",
      "718:\tlearn: 0.9076108\ttest: 0.8461601\tbest: 0.8462420 (706)\ttotal: 8m 5s\tremaining: 14m 24s\n",
      "719:\tlearn: 0.9077511\ttest: 0.8463239\tbest: 0.8463239 (719)\ttotal: 8m 5s\tremaining: 14m 23s\n",
      "720:\tlearn: 0.9076459\ttest: 0.8463239\tbest: 0.8463239 (719)\ttotal: 8m 6s\tremaining: 14m 23s\n",
      "721:\tlearn: 0.9076459\ttest: 0.8463239\tbest: 0.8463239 (719)\ttotal: 8m 7s\tremaining: 14m 22s\n",
      "722:\tlearn: 0.9076108\ttest: 0.8464058\tbest: 0.8464058 (722)\ttotal: 8m 7s\tremaining: 14m 21s\n",
      "723:\tlearn: 0.9077161\ttest: 0.8466514\tbest: 0.8466514 (723)\ttotal: 8m 8s\tremaining: 14m 21s\n",
      "724:\tlearn: 0.9076459\ttest: 0.8465695\tbest: 0.8466514 (723)\ttotal: 8m 9s\tremaining: 14m 20s\n",
      "725:\tlearn: 0.9077862\ttest: 0.8467333\tbest: 0.8467333 (725)\ttotal: 8m 9s\tremaining: 14m 19s\n",
      "726:\tlearn: 0.9077862\ttest: 0.8467333\tbest: 0.8467333 (725)\ttotal: 8m 10s\tremaining: 14m 19s\n",
      "727:\tlearn: 0.9085582\ttest: 0.8468970\tbest: 0.8468970 (727)\ttotal: 8m 11s\tremaining: 14m 18s\n",
      "728:\tlearn: 0.9084178\ttest: 0.8469789\tbest: 0.8469789 (728)\ttotal: 8m 11s\tremaining: 14m 17s\n",
      "729:\tlearn: 0.9083477\ttest: 0.8468970\tbest: 0.8469789 (728)\ttotal: 8m 12s\tremaining: 14m 17s\n",
      "730:\tlearn: 0.9086635\ttest: 0.8468970\tbest: 0.8469789 (728)\ttotal: 8m 13s\tremaining: 14m 16s\n",
      "731:\tlearn: 0.9090845\ttest: 0.8476339\tbest: 0.8476339 (731)\ttotal: 8m 13s\tremaining: 14m 15s\n",
      "732:\tlearn: 0.9090845\ttest: 0.8476339\tbest: 0.8476339 (731)\ttotal: 8m 14s\tremaining: 14m 14s\n",
      "733:\tlearn: 0.9090494\ttest: 0.8477157\tbest: 0.8477157 (733)\ttotal: 8m 15s\tremaining: 14m 14s\n",
      "734:\tlearn: 0.9090845\ttest: 0.8478795\tbest: 0.8478795 (734)\ttotal: 8m 15s\tremaining: 14m 13s\n",
      "735:\tlearn: 0.9090494\ttest: 0.8479614\tbest: 0.8479614 (735)\ttotal: 8m 16s\tremaining: 14m 12s\n",
      "736:\tlearn: 0.9092600\ttest: 0.8477157\tbest: 0.8479614 (735)\ttotal: 8m 17s\tremaining: 14m 12s\n",
      "737:\tlearn: 0.9094705\ttest: 0.8482070\tbest: 0.8482070 (737)\ttotal: 8m 18s\tremaining: 14m 11s\n",
      "738:\tlearn: 0.9096109\ttest: 0.8481251\tbest: 0.8482070 (737)\ttotal: 8m 18s\tremaining: 14m 11s\n",
      "739:\tlearn: 0.9096109\ttest: 0.8486163\tbest: 0.8486163 (739)\ttotal: 8m 19s\tremaining: 14m 10s\n",
      "740:\tlearn: 0.9098214\ttest: 0.8488620\tbest: 0.8488620 (740)\ttotal: 8m 20s\tremaining: 14m 9s\n",
      "741:\tlearn: 0.9099618\ttest: 0.8490257\tbest: 0.8490257 (741)\ttotal: 8m 20s\tremaining: 14m 9s\n",
      "742:\tlearn: 0.9099618\ttest: 0.8492713\tbest: 0.8492713 (742)\ttotal: 8m 21s\tremaining: 14m 8s\n",
      "743:\tlearn: 0.9104179\ttest: 0.8486982\tbest: 0.8492713 (742)\ttotal: 8m 22s\tremaining: 14m 7s\n",
      "744:\tlearn: 0.9104179\ttest: 0.8491895\tbest: 0.8492713 (742)\ttotal: 8m 22s\tremaining: 14m 6s\n",
      "745:\tlearn: 0.9105934\ttest: 0.8492713\tbest: 0.8492713 (742)\ttotal: 8m 23s\tremaining: 14m 6s\n",
      "746:\tlearn: 0.9107688\ttest: 0.8493532\tbest: 0.8493532 (746)\ttotal: 8m 24s\tremaining: 14m 5s\n",
      "747:\tlearn: 0.9108741\ttest: 0.8495988\tbest: 0.8495988 (747)\ttotal: 8m 24s\tremaining: 14m 4s\n",
      "748:\tlearn: 0.9106635\ttest: 0.8505813\tbest: 0.8505813 (748)\ttotal: 8m 25s\tremaining: 14m 4s\n",
      "749:\tlearn: 0.9121373\ttest: 0.8508269\tbest: 0.8508269 (749)\ttotal: 8m 26s\tremaining: 14m 3s\n",
      "750:\tlearn: 0.9124180\ttest: 0.8511544\tbest: 0.8511544 (750)\ttotal: 8m 26s\tremaining: 14m 2s\n",
      "751:\tlearn: 0.9124180\ttest: 0.8509088\tbest: 0.8511544 (750)\ttotal: 8m 27s\tremaining: 14m 2s\n",
      "752:\tlearn: 0.9124531\ttest: 0.8510725\tbest: 0.8511544 (750)\ttotal: 8m 28s\tremaining: 14m 1s\n",
      "753:\tlearn: 0.9125934\ttest: 0.8509907\tbest: 0.8511544 (750)\ttotal: 8m 28s\tremaining: 14m\n",
      "754:\tlearn: 0.9126987\ttest: 0.8514819\tbest: 0.8514819 (754)\ttotal: 8m 29s\tremaining: 14m\n",
      "755:\tlearn: 0.9132601\ttest: 0.8518913\tbest: 0.8518913 (755)\ttotal: 8m 30s\tremaining: 13m 59s\n",
      "756:\tlearn: 0.9134356\ttest: 0.8519731\tbest: 0.8519731 (756)\ttotal: 8m 30s\tremaining: 13m 58s\n",
      "757:\tlearn: 0.9135057\ttest: 0.8520550\tbest: 0.8520550 (757)\ttotal: 8m 31s\tremaining: 13m 58s\n",
      "758:\tlearn: 0.9136110\ttest: 0.8523006\tbest: 0.8523006 (758)\ttotal: 8m 32s\tremaining: 13m 57s\n",
      "759:\tlearn: 0.9136110\ttest: 0.8523006\tbest: 0.8523006 (758)\ttotal: 8m 32s\tremaining: 13m 56s\n",
      "760:\tlearn: 0.9141022\ttest: 0.8523825\tbest: 0.8523825 (760)\ttotal: 8m 33s\tremaining: 13m 56s\n",
      "761:\tlearn: 0.9143479\ttest: 0.8525463\tbest: 0.8525463 (761)\ttotal: 8m 34s\tremaining: 13m 55s\n",
      "762:\tlearn: 0.9139970\ttest: 0.8518913\tbest: 0.8525463 (761)\ttotal: 8m 34s\tremaining: 13m 54s\n",
      "763:\tlearn: 0.9142075\ttest: 0.8521369\tbest: 0.8525463 (761)\ttotal: 8m 35s\tremaining: 13m 54s\n",
      "764:\tlearn: 0.9141022\ttest: 0.8521369\tbest: 0.8525463 (761)\ttotal: 8m 36s\tremaining: 13m 53s\n",
      "765:\tlearn: 0.9142777\ttest: 0.8522188\tbest: 0.8525463 (761)\ttotal: 8m 37s\tremaining: 13m 52s\n",
      "766:\tlearn: 0.9144531\ttest: 0.8523006\tbest: 0.8525463 (761)\ttotal: 8m 37s\tremaining: 13m 52s\n",
      "767:\tlearn: 0.9143479\ttest: 0.8523006\tbest: 0.8525463 (761)\ttotal: 8m 38s\tremaining: 13m 51s\n",
      "768:\tlearn: 0.9142426\ttest: 0.8520550\tbest: 0.8525463 (761)\ttotal: 8m 39s\tremaining: 13m 50s\n",
      "769:\tlearn: 0.9141022\ttest: 0.8518913\tbest: 0.8525463 (761)\ttotal: 8m 39s\tremaining: 13m 50s\n",
      "770:\tlearn: 0.9142075\ttest: 0.8521369\tbest: 0.8525463 (761)\ttotal: 8m 40s\tremaining: 13m 49s\n",
      "771:\tlearn: 0.9142075\ttest: 0.8521369\tbest: 0.8525463 (761)\ttotal: 8m 41s\tremaining: 13m 48s\n",
      "772:\tlearn: 0.9145233\ttest: 0.8518913\tbest: 0.8525463 (761)\ttotal: 8m 41s\tremaining: 13m 48s\n",
      "773:\tlearn: 0.9146637\ttest: 0.8520550\tbest: 0.8525463 (761)\ttotal: 8m 42s\tremaining: 13m 47s\n",
      "774:\tlearn: 0.9148391\ttest: 0.8526281\tbest: 0.8526281 (774)\ttotal: 8m 43s\tremaining: 13m 46s\n",
      "775:\tlearn: 0.9148040\ttest: 0.8529556\tbest: 0.8529556 (775)\ttotal: 8m 43s\tremaining: 13m 46s\n",
      "776:\tlearn: 0.9148040\ttest: 0.8529556\tbest: 0.8529556 (775)\ttotal: 8m 44s\tremaining: 13m 45s\n",
      "777:\tlearn: 0.9151198\ttest: 0.8529556\tbest: 0.8529556 (775)\ttotal: 8m 45s\tremaining: 13m 44s\n",
      "778:\tlearn: 0.9151198\ttest: 0.8529556\tbest: 0.8529556 (775)\ttotal: 8m 45s\tremaining: 13m 44s\n",
      "779:\tlearn: 0.9150847\ttest: 0.8530375\tbest: 0.8530375 (779)\ttotal: 8m 46s\tremaining: 13m 43s\n",
      "780:\tlearn: 0.9156813\ttest: 0.8536106\tbest: 0.8536106 (780)\ttotal: 8m 47s\tremaining: 13m 42s\n",
      "781:\tlearn: 0.9157163\ttest: 0.8537744\tbest: 0.8537744 (781)\ttotal: 8m 47s\tremaining: 13m 41s\n",
      "782:\tlearn: 0.9155409\ttest: 0.8534469\tbest: 0.8537744 (781)\ttotal: 8m 48s\tremaining: 13m 41s\n",
      "783:\tlearn: 0.9157163\ttest: 0.8535287\tbest: 0.8537744 (781)\ttotal: 8m 49s\tremaining: 13m 40s\n",
      "784:\tlearn: 0.9155760\ttest: 0.8533650\tbest: 0.8537744 (781)\ttotal: 8m 49s\tremaining: 13m 39s\n",
      "785:\tlearn: 0.9157865\ttest: 0.8536106\tbest: 0.8537744 (781)\ttotal: 8m 50s\tremaining: 13m 39s\n",
      "786:\tlearn: 0.9158918\ttest: 0.8536106\tbest: 0.8537744 (781)\ttotal: 8m 51s\tremaining: 13m 38s\n",
      "787:\tlearn: 0.9159620\ttest: 0.8536925\tbest: 0.8537744 (781)\ttotal: 8m 51s\tremaining: 13m 37s\n",
      "788:\tlearn: 0.9160321\ttest: 0.8537744\tbest: 0.8537744 (781)\ttotal: 8m 52s\tremaining: 13m 37s\n",
      "789:\tlearn: 0.9161374\ttest: 0.8537744\tbest: 0.8537744 (781)\ttotal: 8m 53s\tremaining: 13m 36s\n",
      "790:\tlearn: 0.9166287\ttest: 0.8538562\tbest: 0.8538562 (790)\ttotal: 8m 53s\tremaining: 13m 35s\n",
      "791:\tlearn: 0.9168392\ttest: 0.8538562\tbest: 0.8538562 (790)\ttotal: 8m 54s\tremaining: 13m 35s\n",
      "792:\tlearn: 0.9168392\ttest: 0.8538562\tbest: 0.8538562 (790)\ttotal: 8m 55s\tremaining: 13m 34s\n",
      "793:\tlearn: 0.9169795\ttest: 0.8540200\tbest: 0.8540200 (793)\ttotal: 8m 55s\tremaining: 13m 33s\n",
      "794:\tlearn: 0.9168743\ttest: 0.8542656\tbest: 0.8542656 (794)\ttotal: 8m 56s\tremaining: 13m 32s\n",
      "795:\tlearn: 0.9170497\ttest: 0.8545931\tbest: 0.8545931 (795)\ttotal: 8m 57s\tremaining: 13m 32s\n",
      "796:\tlearn: 0.9170848\ttest: 0.8545112\tbest: 0.8545931 (795)\ttotal: 8m 57s\tremaining: 13m 31s\n",
      "797:\tlearn: 0.9171901\ttest: 0.8547568\tbest: 0.8547568 (797)\ttotal: 8m 58s\tremaining: 13m 31s\n",
      "798:\tlearn: 0.9173655\ttest: 0.8548387\tbest: 0.8548387 (798)\ttotal: 8m 59s\tremaining: 13m 30s\n",
      "799:\tlearn: 0.9174357\ttest: 0.8549206\tbest: 0.8549206 (799)\ttotal: 8m 59s\tremaining: 13m 29s\n",
      "800:\tlearn: 0.9174357\ttest: 0.8549206\tbest: 0.8549206 (799)\ttotal: 9m\tremaining: 13m 29s\n",
      "801:\tlearn: 0.9174357\ttest: 0.8549206\tbest: 0.8549206 (799)\ttotal: 9m 1s\tremaining: 13m 28s\n",
      "802:\tlearn: 0.9175761\ttest: 0.8550843\tbest: 0.8550843 (802)\ttotal: 9m 1s\tremaining: 13m 27s\n",
      "803:\tlearn: 0.9174357\ttest: 0.8549206\tbest: 0.8550843 (802)\ttotal: 9m 2s\tremaining: 13m 27s\n",
      "804:\tlearn: 0.9175761\ttest: 0.8550843\tbest: 0.8550843 (802)\ttotal: 9m 3s\tremaining: 13m 26s\n",
      "805:\tlearn: 0.9176813\ttest: 0.8553299\tbest: 0.8553299 (805)\ttotal: 9m 4s\tremaining: 13m 25s\n",
      "806:\tlearn: 0.9177164\ttest: 0.8554937\tbest: 0.8554937 (806)\ttotal: 9m 4s\tremaining: 13m 25s\n",
      "807:\tlearn: 0.9178217\ttest: 0.8557393\tbest: 0.8557393 (807)\ttotal: 9m 5s\tremaining: 13m 24s\n",
      "808:\tlearn: 0.9177164\ttest: 0.8554937\tbest: 0.8557393 (807)\ttotal: 9m 6s\tremaining: 13m 23s\n",
      "809:\tlearn: 0.9177515\ttest: 0.8559031\tbest: 0.8559031 (809)\ttotal: 9m 6s\tremaining: 13m 23s\n",
      "810:\tlearn: 0.9178568\ttest: 0.8559031\tbest: 0.8559031 (809)\ttotal: 9m 7s\tremaining: 13m 22s\n",
      "811:\tlearn: 0.9178568\ttest: 0.8559031\tbest: 0.8559031 (809)\ttotal: 9m 8s\tremaining: 13m 21s\n",
      "812:\tlearn: 0.9178217\ttest: 0.8559849\tbest: 0.8559849 (812)\ttotal: 9m 8s\tremaining: 13m 21s\n",
      "813:\tlearn: 0.9177515\ttest: 0.8559031\tbest: 0.8559849 (812)\ttotal: 9m 9s\tremaining: 13m 20s\n",
      "814:\tlearn: 0.9179971\ttest: 0.8560668\tbest: 0.8560668 (814)\ttotal: 9m 10s\tremaining: 13m 19s\n",
      "815:\tlearn: 0.9184182\ttest: 0.8568037\tbest: 0.8568037 (815)\ttotal: 9m 10s\tremaining: 13m 19s\n",
      "816:\tlearn: 0.9181726\ttest: 0.8561487\tbest: 0.8568037 (815)\ttotal: 9m 11s\tremaining: 13m 18s\n",
      "817:\tlearn: 0.9182427\ttest: 0.8562306\tbest: 0.8568037 (815)\ttotal: 9m 12s\tremaining: 13m 17s\n",
      "818:\tlearn: 0.9182427\ttest: 0.8562306\tbest: 0.8568037 (815)\ttotal: 9m 12s\tremaining: 13m 17s\n",
      "819:\tlearn: 0.9182427\ttest: 0.8562306\tbest: 0.8568037 (815)\ttotal: 9m 13s\tremaining: 13m 16s\n",
      "820:\tlearn: 0.9187340\ttest: 0.8568037\tbest: 0.8568037 (815)\ttotal: 9m 14s\tremaining: 13m 15s\n",
      "821:\tlearn: 0.9187340\ttest: 0.8568037\tbest: 0.8568037 (815)\ttotal: 9m 14s\tremaining: 13m 14s\n",
      "822:\tlearn: 0.9188042\ttest: 0.8568855\tbest: 0.8568855 (822)\ttotal: 9m 15s\tremaining: 13m 14s\n",
      "823:\tlearn: 0.9183480\ttest: 0.8567218\tbest: 0.8568855 (822)\ttotal: 9m 16s\tremaining: 13m 13s\n",
      "824:\tlearn: 0.9182778\ttest: 0.8568855\tbest: 0.8568855 (822)\ttotal: 9m 16s\tremaining: 13m 12s\n",
      "825:\tlearn: 0.9183831\ttest: 0.8571312\tbest: 0.8571312 (825)\ttotal: 9m 17s\tremaining: 13m 12s\n",
      "826:\tlearn: 0.9185235\ttest: 0.8575405\tbest: 0.8575405 (826)\ttotal: 9m 18s\tremaining: 13m 11s\n",
      "827:\tlearn: 0.9187340\ttest: 0.8580318\tbest: 0.8580318 (827)\ttotal: 9m 18s\tremaining: 13m 10s\n",
      "828:\tlearn: 0.9188042\ttest: 0.8578680\tbest: 0.8580318 (827)\ttotal: 9m 19s\tremaining: 13m 10s\n",
      "829:\tlearn: 0.9192252\ttest: 0.8581136\tbest: 0.8581136 (829)\ttotal: 9m 20s\tremaining: 13m 9s\n",
      "830:\tlearn: 0.9194709\ttest: 0.8582774\tbest: 0.8582774 (830)\ttotal: 9m 20s\tremaining: 13m 8s\n",
      "831:\tlearn: 0.9194709\ttest: 0.8582774\tbest: 0.8582774 (830)\ttotal: 9m 21s\tremaining: 13m 8s\n",
      "832:\tlearn: 0.9195059\ttest: 0.8581955\tbest: 0.8582774 (830)\ttotal: 9m 22s\tremaining: 13m 7s\n",
      "833:\tlearn: 0.9194709\ttest: 0.8582774\tbest: 0.8582774 (830)\ttotal: 9m 22s\tremaining: 13m 6s\n",
      "834:\tlearn: 0.9195059\ttest: 0.8581955\tbest: 0.8582774 (830)\ttotal: 9m 23s\tremaining: 13m 6s\n",
      "835:\tlearn: 0.9195761\ttest: 0.8580318\tbest: 0.8582774 (830)\ttotal: 9m 24s\tremaining: 13m 5s\n",
      "836:\tlearn: 0.9194358\ttest: 0.8576224\tbest: 0.8582774 (830)\ttotal: 9m 24s\tremaining: 13m 4s\n",
      "837:\tlearn: 0.9194358\ttest: 0.8576224\tbest: 0.8582774 (830)\ttotal: 9m 25s\tremaining: 13m 4s\n",
      "838:\tlearn: 0.9194358\ttest: 0.8581136\tbest: 0.8582774 (830)\ttotal: 9m 26s\tremaining: 13m 3s\n",
      "839:\tlearn: 0.9201375\ttest: 0.8584411\tbest: 0.8584411 (839)\ttotal: 9m 26s\tremaining: 13m 2s\n",
      "840:\tlearn: 0.9204533\ttest: 0.8589324\tbest: 0.8589324 (840)\ttotal: 9m 27s\tremaining: 13m 2s\n",
      "841:\tlearn: 0.9205586\ttest: 0.8586868\tbest: 0.8589324 (840)\ttotal: 9m 28s\tremaining: 13m 1s\n",
      "842:\tlearn: 0.9210850\ttest: 0.8589324\tbest: 0.8589324 (840)\ttotal: 9m 29s\tremaining: 13m\n",
      "843:\tlearn: 0.9210850\ttest: 0.8589324\tbest: 0.8589324 (840)\ttotal: 9m 29s\tremaining: 13m\n",
      "844:\tlearn: 0.9217166\ttest: 0.8596692\tbest: 0.8596692 (844)\ttotal: 9m 30s\tremaining: 12m 59s\n",
      "845:\tlearn: 0.9226640\ttest: 0.8604061\tbest: 0.8604061 (845)\ttotal: 9m 31s\tremaining: 12m 59s\n",
      "846:\tlearn: 0.9225587\ttest: 0.8604061\tbest: 0.8604061 (845)\ttotal: 9m 31s\tremaining: 12m 58s\n",
      "847:\tlearn: 0.9230850\ttest: 0.8604061\tbest: 0.8604061 (845)\ttotal: 9m 32s\tremaining: 12m 57s\n",
      "848:\tlearn: 0.9230148\ttest: 0.8605698\tbest: 0.8605698 (848)\ttotal: 9m 33s\tremaining: 12m 57s\n",
      "849:\tlearn: 0.9229447\ttest: 0.8609792\tbest: 0.8609792 (849)\ttotal: 9m 33s\tremaining: 12m 56s\n",
      "850:\tlearn: 0.9229447\ttest: 0.8609792\tbest: 0.8609792 (849)\ttotal: 9m 34s\tremaining: 12m 55s\n",
      "851:\tlearn: 0.9229798\ttest: 0.8608973\tbest: 0.8609792 (849)\ttotal: 9m 35s\tremaining: 12m 55s\n",
      "852:\tlearn: 0.9241026\ttest: 0.8617161\tbest: 0.8617161 (852)\ttotal: 9m 35s\tremaining: 12m 54s\n",
      "853:\tlearn: 0.9244886\ttest: 0.8625348\tbest: 0.8625348 (853)\ttotal: 9m 36s\tremaining: 12m 53s\n",
      "854:\tlearn: 0.9246640\ttest: 0.8626167\tbest: 0.8626167 (854)\ttotal: 9m 37s\tremaining: 12m 53s\n",
      "855:\tlearn: 0.9246991\ttest: 0.8625348\tbest: 0.8626167 (854)\ttotal: 9m 37s\tremaining: 12m 52s\n",
      "856:\tlearn: 0.9245237\ttest: 0.8624529\tbest: 0.8626167 (854)\ttotal: 9m 38s\tremaining: 12m 51s\n",
      "857:\tlearn: 0.9246991\ttest: 0.8627804\tbest: 0.8627804 (857)\ttotal: 9m 39s\tremaining: 12m 51s\n",
      "858:\tlearn: 0.9247693\ttest: 0.8631079\tbest: 0.8631079 (858)\ttotal: 9m 39s\tremaining: 12m 50s\n",
      "859:\tlearn: 0.9251202\ttest: 0.8632717\tbest: 0.8632717 (859)\ttotal: 9m 40s\tremaining: 12m 49s\n",
      "860:\tlearn: 0.9251904\ttest: 0.8631079\tbest: 0.8632717 (859)\ttotal: 9m 41s\tremaining: 12m 48s\n",
      "861:\tlearn: 0.9254009\ttest: 0.8638448\tbest: 0.8638448 (861)\ttotal: 9m 41s\tremaining: 12m 48s\n",
      "862:\tlearn: 0.9253307\ttest: 0.8637629\tbest: 0.8638448 (861)\ttotal: 9m 42s\tremaining: 12m 47s\n",
      "863:\tlearn: 0.9253658\ttest: 0.8639266\tbest: 0.8639266 (863)\ttotal: 9m 43s\tremaining: 12m 46s\n",
      "864:\tlearn: 0.9252956\ttest: 0.8635991\tbest: 0.8639266 (863)\ttotal: 9m 43s\tremaining: 12m 46s\n",
      "865:\tlearn: 0.9252956\ttest: 0.8635991\tbest: 0.8639266 (863)\ttotal: 9m 44s\tremaining: 12m 45s\n",
      "866:\tlearn: 0.9254360\ttest: 0.8637629\tbest: 0.8639266 (863)\ttotal: 9m 45s\tremaining: 12m 44s\n",
      "867:\tlearn: 0.9255062\ttest: 0.8638448\tbest: 0.8639266 (863)\ttotal: 9m 45s\tremaining: 12m 44s\n",
      "868:\tlearn: 0.9255412\ttest: 0.8637629\tbest: 0.8639266 (863)\ttotal: 9m 46s\tremaining: 12m 43s\n",
      "869:\tlearn: 0.9256114\ttest: 0.8638448\tbest: 0.8639266 (863)\ttotal: 9m 47s\tremaining: 12m 42s\n",
      "870:\tlearn: 0.9256465\ttest: 0.8640085\tbest: 0.8640085 (870)\ttotal: 9m 47s\tremaining: 12m 42s\n",
      "871:\tlearn: 0.9258570\ttest: 0.8640085\tbest: 0.8640085 (870)\ttotal: 9m 48s\tremaining: 12m 41s\n",
      "872:\tlearn: 0.9262079\ttest: 0.8644179\tbest: 0.8644179 (872)\ttotal: 9m 49s\tremaining: 12m 40s\n",
      "873:\tlearn: 0.9264185\ttest: 0.8644179\tbest: 0.8644179 (872)\ttotal: 9m 49s\tremaining: 12m 40s\n",
      "874:\tlearn: 0.9263483\ttest: 0.8643360\tbest: 0.8644179 (872)\ttotal: 9m 50s\tremaining: 12m 39s\n",
      "875:\tlearn: 0.9262781\ttest: 0.8644998\tbest: 0.8644998 (875)\ttotal: 9m 51s\tremaining: 12m 38s\n",
      "876:\tlearn: 0.9266992\ttest: 0.8647454\tbest: 0.8647454 (876)\ttotal: 9m 51s\tremaining: 12m 37s\n",
      "877:\tlearn: 0.9265939\ttest: 0.8647454\tbest: 0.8647454 (876)\ttotal: 9m 52s\tremaining: 12m 37s\n",
      "878:\tlearn: 0.9260676\ttest: 0.8642541\tbest: 0.8647454 (876)\ttotal: 9m 53s\tremaining: 12m 36s\n",
      "879:\tlearn: 0.9262079\ttest: 0.8644179\tbest: 0.8647454 (876)\ttotal: 9m 53s\tremaining: 12m 35s\n",
      "880:\tlearn: 0.9263132\ttest: 0.8644179\tbest: 0.8647454 (876)\ttotal: 9m 54s\tremaining: 12m 35s\n",
      "881:\tlearn: 0.9268044\ttest: 0.8649910\tbest: 0.8649910 (881)\ttotal: 9m 55s\tremaining: 12m 34s\n",
      "882:\tlearn: 0.9270150\ttest: 0.8647454\tbest: 0.8649910 (881)\ttotal: 9m 55s\tremaining: 12m 33s\n",
      "883:\tlearn: 0.9269097\ttest: 0.8647454\tbest: 0.8649910 (881)\ttotal: 9m 56s\tremaining: 12m 33s\n",
      "884:\tlearn: 0.9265939\ttest: 0.8644998\tbest: 0.8649910 (881)\ttotal: 9m 57s\tremaining: 12m 32s\n",
      "885:\tlearn: 0.9270150\ttest: 0.8644998\tbest: 0.8649910 (881)\ttotal: 9m 58s\tremaining: 12m 31s\n",
      "886:\tlearn: 0.9268044\ttest: 0.8644998\tbest: 0.8649910 (881)\ttotal: 9m 58s\tremaining: 12m 31s\n",
      "887:\tlearn: 0.9268395\ttest: 0.8646635\tbest: 0.8649910 (881)\ttotal: 9m 59s\tremaining: 12m 30s\n",
      "888:\tlearn: 0.9269799\ttest: 0.8648272\tbest: 0.8649910 (881)\ttotal: 10m\tremaining: 12m 29s\n",
      "889:\tlearn: 0.9269799\ttest: 0.8648272\tbest: 0.8649910 (881)\ttotal: 10m\tremaining: 12m 29s\n",
      "890:\tlearn: 0.9270501\ttest: 0.8649091\tbest: 0.8649910 (881)\ttotal: 10m 1s\tremaining: 12m 28s\n",
      "891:\tlearn: 0.9271202\ttest: 0.8649910\tbest: 0.8649910 (881)\ttotal: 10m 2s\tremaining: 12m 27s\n",
      "892:\tlearn: 0.9274010\ttest: 0.8650729\tbest: 0.8650729 (892)\ttotal: 10m 2s\tremaining: 12m 27s\n",
      "893:\tlearn: 0.9273659\ttest: 0.8651547\tbest: 0.8651547 (893)\ttotal: 10m 3s\tremaining: 12m 26s\n",
      "894:\tlearn: 0.9272606\ttest: 0.8651547\tbest: 0.8651547 (893)\ttotal: 10m 4s\tremaining: 12m 25s\n",
      "895:\tlearn: 0.9275764\ttest: 0.8651547\tbest: 0.8651547 (893)\ttotal: 10m 4s\tremaining: 12m 25s\n",
      "896:\tlearn: 0.9277869\ttest: 0.8654004\tbest: 0.8654004 (896)\ttotal: 10m 5s\tremaining: 12m 24s\n",
      "897:\tlearn: 0.9279624\ttest: 0.8659735\tbest: 0.8659735 (897)\ttotal: 10m 6s\tremaining: 12m 23s\n",
      "898:\tlearn: 0.9282080\ttest: 0.8663828\tbest: 0.8663828 (898)\ttotal: 10m 6s\tremaining: 12m 23s\n",
      "899:\tlearn: 0.9281729\ttest: 0.8662191\tbest: 0.8663828 (898)\ttotal: 10m 7s\tremaining: 12m 22s\n",
      "900:\tlearn: 0.9281729\ttest: 0.8664647\tbest: 0.8664647 (900)\ttotal: 10m 8s\tremaining: 12m 21s\n",
      "901:\tlearn: 0.9282080\ttest: 0.8666285\tbest: 0.8666285 (901)\ttotal: 10m 8s\tremaining: 12m 21s\n",
      "902:\tlearn: 0.9286291\ttest: 0.8666285\tbest: 0.8666285 (901)\ttotal: 10m 9s\tremaining: 12m 20s\n",
      "903:\tlearn: 0.9289449\ttest: 0.8663828\tbest: 0.8666285 (901)\ttotal: 10m 10s\tremaining: 12m 19s\n",
      "904:\tlearn: 0.9287343\ttest: 0.8661372\tbest: 0.8666285 (901)\ttotal: 10m 10s\tremaining: 12m 19s\n",
      "905:\tlearn: 0.9293309\ttest: 0.8667103\tbest: 0.8667103 (905)\ttotal: 10m 11s\tremaining: 12m 18s\n",
      "906:\tlearn: 0.9297870\ttest: 0.8685934\tbest: 0.8685934 (906)\ttotal: 10m 12s\tremaining: 12m 17s\n",
      "907:\tlearn: 0.9297870\ttest: 0.8685934\tbest: 0.8685934 (906)\ttotal: 10m 12s\tremaining: 12m 17s\n",
      "908:\tlearn: 0.9297870\ttest: 0.8685934\tbest: 0.8685934 (906)\ttotal: 10m 13s\tremaining: 12m 16s\n",
      "909:\tlearn: 0.9299274\ttest: 0.8685115\tbest: 0.8685934 (906)\ttotal: 10m 14s\tremaining: 12m 15s\n",
      "910:\tlearn: 0.9297168\ttest: 0.8682659\tbest: 0.8685934 (906)\ttotal: 10m 15s\tremaining: 12m 15s\n",
      "911:\tlearn: 0.9297870\ttest: 0.8683478\tbest: 0.8685934 (906)\ttotal: 10m 15s\tremaining: 12m 14s\n",
      "912:\tlearn: 0.9297870\ttest: 0.8683478\tbest: 0.8685934 (906)\ttotal: 10m 16s\tremaining: 12m 13s\n",
      "913:\tlearn: 0.9297870\ttest: 0.8683478\tbest: 0.8685934 (906)\ttotal: 10m 16s\tremaining: 12m 13s\n",
      "914:\tlearn: 0.9298221\ttest: 0.8685115\tbest: 0.8685934 (906)\ttotal: 10m 17s\tremaining: 12m 12s\n",
      "915:\tlearn: 0.9298572\ttest: 0.8684297\tbest: 0.8685934 (906)\ttotal: 10m 18s\tremaining: 12m 11s\n",
      "916:\tlearn: 0.9299274\ttest: 0.8685115\tbest: 0.8685934 (906)\ttotal: 10m 18s\tremaining: 12m 11s\n",
      "917:\tlearn: 0.9301379\ttest: 0.8687572\tbest: 0.8687572 (917)\ttotal: 10m 19s\tremaining: 12m 10s\n",
      "918:\tlearn: 0.9301028\ttest: 0.8688390\tbest: 0.8688390 (918)\ttotal: 10m 20s\tremaining: 12m 9s\n",
      "919:\tlearn: 0.9298572\ttest: 0.8686753\tbest: 0.8688390 (918)\ttotal: 10m 20s\tremaining: 12m 8s\n",
      "920:\tlearn: 0.9301379\ttest: 0.8690028\tbest: 0.8690028 (920)\ttotal: 10m 21s\tremaining: 12m 8s\n",
      "921:\tlearn: 0.9301379\ttest: 0.8690028\tbest: 0.8690028 (920)\ttotal: 10m 22s\tremaining: 12m 7s\n",
      "922:\tlearn: 0.9303133\ttest: 0.8690847\tbest: 0.8690847 (922)\ttotal: 10m 22s\tremaining: 12m 6s\n",
      "923:\tlearn: 0.9303133\ttest: 0.8690847\tbest: 0.8690847 (922)\ttotal: 10m 23s\tremaining: 12m 6s\n",
      "924:\tlearn: 0.9304186\ttest: 0.8698215\tbest: 0.8698215 (924)\ttotal: 10m 24s\tremaining: 12m 5s\n",
      "925:\tlearn: 0.9304888\ttest: 0.8699034\tbest: 0.8699034 (925)\ttotal: 10m 24s\tremaining: 12m 4s\n",
      "926:\tlearn: 0.9304537\ttest: 0.8697396\tbest: 0.8699034 (925)\ttotal: 10m 25s\tremaining: 12m 4s\n",
      "927:\tlearn: 0.9306291\ttest: 0.8698215\tbest: 0.8699034 (925)\ttotal: 10m 26s\tremaining: 12m 3s\n",
      "928:\tlearn: 0.9306291\ttest: 0.8698215\tbest: 0.8699034 (925)\ttotal: 10m 26s\tremaining: 12m 2s\n",
      "929:\tlearn: 0.9306291\ttest: 0.8698215\tbest: 0.8699034 (925)\ttotal: 10m 27s\tremaining: 12m 2s\n",
      "930:\tlearn: 0.9306291\ttest: 0.8698215\tbest: 0.8699034 (925)\ttotal: 10m 28s\tremaining: 12m 1s\n",
      "931:\tlearn: 0.9308397\ttest: 0.8700671\tbest: 0.8700671 (931)\ttotal: 10m 28s\tremaining: 12m\n",
      "932:\tlearn: 0.9310502\ttest: 0.8700671\tbest: 0.8700671 (931)\ttotal: 10m 29s\tremaining: 12m\n",
      "933:\tlearn: 0.9311906\ttest: 0.8702309\tbest: 0.8702309 (933)\ttotal: 10m 30s\tremaining: 11m 59s\n",
      "934:\tlearn: 0.9309449\ttest: 0.8695759\tbest: 0.8702309 (933)\ttotal: 10m 30s\tremaining: 11m 58s\n",
      "935:\tlearn: 0.9310502\ttest: 0.8695759\tbest: 0.8702309 (933)\ttotal: 10m 31s\tremaining: 11m 57s\n",
      "936:\tlearn: 0.9312257\ttest: 0.8699034\tbest: 0.8702309 (933)\ttotal: 10m 32s\tremaining: 11m 57s\n",
      "937:\tlearn: 0.9314713\ttest: 0.8700671\tbest: 0.8702309 (933)\ttotal: 10m 32s\tremaining: 11m 56s\n",
      "938:\tlearn: 0.9312958\ttest: 0.8699853\tbest: 0.8702309 (933)\ttotal: 10m 33s\tremaining: 11m 55s\n",
      "939:\tlearn: 0.9313660\ttest: 0.8703128\tbest: 0.8703128 (939)\ttotal: 10m 34s\tremaining: 11m 55s\n",
      "940:\tlearn: 0.9314011\ttest: 0.8707221\tbest: 0.8707221 (940)\ttotal: 10m 35s\tremaining: 11m 54s\n",
      "941:\tlearn: 0.9320327\ttest: 0.8707221\tbest: 0.8707221 (940)\ttotal: 10m 35s\tremaining: 11m 54s\n",
      "942:\tlearn: 0.9320327\ttest: 0.8709677\tbest: 0.8709677 (942)\ttotal: 10m 36s\tremaining: 11m 53s\n",
      "943:\tlearn: 0.9322081\ttest: 0.8710496\tbest: 0.8710496 (943)\ttotal: 10m 37s\tremaining: 11m 52s\n",
      "944:\tlearn: 0.9323836\ttest: 0.8711315\tbest: 0.8711315 (944)\ttotal: 10m 37s\tremaining: 11m 51s\n",
      "945:\tlearn: 0.9324538\ttest: 0.8717046\tbest: 0.8717046 (945)\ttotal: 10m 38s\tremaining: 11m 51s\n",
      "946:\tlearn: 0.9325239\ttest: 0.8717865\tbest: 0.8717865 (946)\ttotal: 10m 39s\tremaining: 11m 50s\n",
      "947:\tlearn: 0.9324538\ttest: 0.8717046\tbest: 0.8717865 (946)\ttotal: 10m 39s\tremaining: 11m 49s\n",
      "948:\tlearn: 0.9342082\ttest: 0.8732602\tbest: 0.8732602 (948)\ttotal: 10m 40s\tremaining: 11m 49s\n",
      "949:\tlearn: 0.9346644\ttest: 0.8734239\tbest: 0.8734239 (949)\ttotal: 10m 41s\tremaining: 11m 48s\n",
      "950:\tlearn: 0.9345240\ttest: 0.8732602\tbest: 0.8734239 (949)\ttotal: 10m 41s\tremaining: 11m 48s\n",
      "951:\tlearn: 0.9344889\ttest: 0.8728508\tbest: 0.8734239 (949)\ttotal: 10m 42s\tremaining: 11m 47s\n",
      "952:\tlearn: 0.9346995\ttest: 0.8733421\tbest: 0.8734239 (949)\ttotal: 10m 43s\tremaining: 11m 46s\n",
      "953:\tlearn: 0.9348047\ttest: 0.8733421\tbest: 0.8734239 (949)\ttotal: 10m 43s\tremaining: 11m 46s\n",
      "954:\tlearn: 0.9348749\ttest: 0.8734239\tbest: 0.8734239 (949)\ttotal: 10m 44s\tremaining: 11m 45s\n",
      "955:\tlearn: 0.9349100\ttest: 0.8735877\tbest: 0.8735877 (955)\ttotal: 10m 45s\tremaining: 11m 44s\n",
      "956:\tlearn: 0.9350153\ttest: 0.8735877\tbest: 0.8735877 (955)\ttotal: 10m 45s\tremaining: 11m 43s\n",
      "957:\tlearn: 0.9351907\ttest: 0.8734239\tbest: 0.8735877 (955)\ttotal: 10m 46s\tremaining: 11m 43s\n",
      "958:\tlearn: 0.9351907\ttest: 0.8734239\tbest: 0.8735877 (955)\ttotal: 10m 47s\tremaining: 11m 42s\n",
      "959:\tlearn: 0.9350854\ttest: 0.8734239\tbest: 0.8735877 (955)\ttotal: 10m 47s\tremaining: 11m 41s\n",
      "960:\tlearn: 0.9348398\ttest: 0.8730146\tbest: 0.8735877 (955)\ttotal: 10m 48s\tremaining: 11m 41s\n",
      "961:\tlearn: 0.9349802\ttest: 0.8734239\tbest: 0.8735877 (955)\ttotal: 10m 49s\tremaining: 11m 40s\n",
      "962:\tlearn: 0.9352609\ttest: 0.8737514\tbest: 0.8737514 (962)\ttotal: 10m 49s\tremaining: 11m 39s\n",
      "963:\tlearn: 0.9350153\ttest: 0.8735877\tbest: 0.8737514 (962)\ttotal: 10m 50s\tremaining: 11m 39s\n",
      "964:\tlearn: 0.9351205\ttest: 0.8735877\tbest: 0.8737514 (962)\ttotal: 10m 51s\tremaining: 11m 38s\n",
      "965:\tlearn: 0.9351205\ttest: 0.8733421\tbest: 0.8737514 (962)\ttotal: 10m 51s\tremaining: 11m 37s\n",
      "966:\tlearn: 0.9350854\ttest: 0.8734239\tbest: 0.8737514 (962)\ttotal: 10m 52s\tremaining: 11m 37s\n",
      "967:\tlearn: 0.9357521\ttest: 0.8743245\tbest: 0.8743245 (967)\ttotal: 10m 53s\tremaining: 11m 36s\n",
      "968:\tlearn: 0.9357170\ttest: 0.8744064\tbest: 0.8744064 (968)\ttotal: 10m 53s\tremaining: 11m 35s\n",
      "969:\tlearn: 0.9358574\ttest: 0.8740789\tbest: 0.8744064 (968)\ttotal: 10m 54s\tremaining: 11m 35s\n",
      "970:\tlearn: 0.9359627\ttest: 0.8743245\tbest: 0.8744064 (968)\ttotal: 10m 55s\tremaining: 11m 34s\n",
      "971:\tlearn: 0.9360328\ttest: 0.8748977\tbest: 0.8748977 (971)\ttotal: 10m 56s\tremaining: 11m 33s\n",
      "972:\tlearn: 0.9360328\ttest: 0.8748977\tbest: 0.8748977 (971)\ttotal: 10m 56s\tremaining: 11m 33s\n",
      "973:\tlearn: 0.9360679\ttest: 0.8750614\tbest: 0.8750614 (973)\ttotal: 10m 57s\tremaining: 11m 32s\n",
      "974:\tlearn: 0.9361030\ttest: 0.8752252\tbest: 0.8752252 (974)\ttotal: 10m 58s\tremaining: 11m 31s\n",
      "975:\tlearn: 0.9362083\ttest: 0.8752252\tbest: 0.8752252 (974)\ttotal: 10m 58s\tremaining: 11m 31s\n",
      "976:\tlearn: 0.9359627\ttest: 0.8750614\tbest: 0.8752252 (974)\ttotal: 10m 59s\tremaining: 11m 30s\n",
      "977:\tlearn: 0.9361381\ttest: 0.8751433\tbest: 0.8752252 (974)\ttotal: 11m\tremaining: 11m 29s\n",
      "978:\tlearn: 0.9356820\ttest: 0.8742427\tbest: 0.8752252 (974)\ttotal: 11m\tremaining: 11m 29s\n",
      "979:\tlearn: 0.9357872\ttest: 0.8742427\tbest: 0.8752252 (974)\ttotal: 11m 1s\tremaining: 11m 28s\n",
      "980:\tlearn: 0.9360679\ttest: 0.8743245\tbest: 0.8752252 (974)\ttotal: 11m 2s\tremaining: 11m 27s\n",
      "981:\tlearn: 0.9361381\ttest: 0.8744064\tbest: 0.8752252 (974)\ttotal: 11m 2s\tremaining: 11m 27s\n",
      "982:\tlearn: 0.9360679\ttest: 0.8748158\tbest: 0.8752252 (974)\ttotal: 11m 3s\tremaining: 11m 26s\n",
      "983:\tlearn: 0.9362083\ttest: 0.8749795\tbest: 0.8752252 (974)\ttotal: 11m 4s\tremaining: 11m 25s\n",
      "984:\tlearn: 0.9366995\ttest: 0.8755526\tbest: 0.8755526 (984)\ttotal: 11m 4s\tremaining: 11m 25s\n",
      "985:\tlearn: 0.9367697\ttest: 0.8756345\tbest: 0.8756345 (985)\ttotal: 11m 5s\tremaining: 11m 24s\n",
      "986:\tlearn: 0.9368750\ttest: 0.8756345\tbest: 0.8756345 (985)\ttotal: 11m 6s\tremaining: 11m 23s\n",
      "987:\tlearn: 0.9370504\ttest: 0.8757164\tbest: 0.8757164 (987)\ttotal: 11m 6s\tremaining: 11m 23s\n",
      "988:\tlearn: 0.9371557\ttest: 0.8759620\tbest: 0.8759620 (988)\ttotal: 11m 7s\tremaining: 11m 22s\n",
      "989:\tlearn: 0.9371557\ttest: 0.8759620\tbest: 0.8759620 (988)\ttotal: 11m 8s\tremaining: 11m 21s\n",
      "990:\tlearn: 0.9372259\ttest: 0.8760439\tbest: 0.8760439 (990)\ttotal: 11m 8s\tremaining: 11m 21s\n",
      "991:\tlearn: 0.9373311\ttest: 0.8762895\tbest: 0.8762895 (991)\ttotal: 11m 9s\tremaining: 11m 20s\n",
      "992:\tlearn: 0.9374364\ttest: 0.8765351\tbest: 0.8765351 (992)\ttotal: 11m 10s\tremaining: 11m 19s\n",
      "993:\tlearn: 0.9375417\ttest: 0.8762895\tbest: 0.8765351 (992)\ttotal: 11m 10s\tremaining: 11m 19s\n",
      "994:\tlearn: 0.9375417\ttest: 0.8762895\tbest: 0.8765351 (992)\ttotal: 11m 11s\tremaining: 11m 18s\n",
      "995:\tlearn: 0.9376820\ttest: 0.8764533\tbest: 0.8765351 (992)\ttotal: 11m 12s\tremaining: 11m 17s\n",
      "996:\tlearn: 0.9377171\ttest: 0.8768626\tbest: 0.8768626 (996)\ttotal: 11m 12s\tremaining: 11m 16s\n",
      "997:\tlearn: 0.9378224\ttest: 0.8768626\tbest: 0.8768626 (996)\ttotal: 11m 13s\tremaining: 11m 16s\n",
      "998:\tlearn: 0.9379276\ttest: 0.8768626\tbest: 0.8768626 (996)\ttotal: 11m 14s\tremaining: 11m 15s\n",
      "999:\tlearn: 0.9379276\ttest: 0.8771082\tbest: 0.8771082 (999)\ttotal: 11m 14s\tremaining: 11m 14s\n",
      "1000:\tlearn: 0.9379276\ttest: 0.8771082\tbest: 0.8771082 (999)\ttotal: 11m 15s\tremaining: 11m 14s\n",
      "1001:\tlearn: 0.9379627\ttest: 0.8770264\tbest: 0.8771082 (999)\ttotal: 11m 16s\tremaining: 11m 13s\n",
      "1002:\tlearn: 0.9381733\ttest: 0.8770264\tbest: 0.8771082 (999)\ttotal: 11m 16s\tremaining: 11m 12s\n",
      "1003:\tlearn: 0.9382434\ttest: 0.8771082\tbest: 0.8771082 (999)\ttotal: 11m 17s\tremaining: 11m 12s\n",
      "1004:\tlearn: 0.9385943\ttest: 0.8780088\tbest: 0.8780088 (1004)\ttotal: 11m 18s\tremaining: 11m 11s\n",
      "1005:\tlearn: 0.9385592\ttest: 0.8778451\tbest: 0.8780088 (1004)\ttotal: 11m 18s\tremaining: 11m 10s\n",
      "1006:\tlearn: 0.9386645\ttest: 0.8778451\tbest: 0.8780088 (1004)\ttotal: 11m 19s\tremaining: 11m 10s\n",
      "1007:\tlearn: 0.9387347\ttest: 0.8779270\tbest: 0.8780088 (1004)\ttotal: 11m 20s\tremaining: 11m 9s\n",
      "1008:\tlearn: 0.9387698\ttest: 0.8778451\tbest: 0.8780088 (1004)\ttotal: 11m 20s\tremaining: 11m 8s\n",
      "1009:\tlearn: 0.9388750\ttest: 0.8780907\tbest: 0.8780907 (1009)\ttotal: 11m 21s\tremaining: 11m 8s\n",
      "1010:\tlearn: 0.9396470\ttest: 0.8797282\tbest: 0.8797282 (1010)\ttotal: 11m 22s\tremaining: 11m 7s\n",
      "1011:\tlearn: 0.9395768\ttest: 0.8796463\tbest: 0.8797282 (1010)\ttotal: 11m 22s\tremaining: 11m 6s\n",
      "1012:\tlearn: 0.9395768\ttest: 0.8796463\tbest: 0.8797282 (1010)\ttotal: 11m 23s\tremaining: 11m 6s\n",
      "1013:\tlearn: 0.9393663\ttest: 0.8791551\tbest: 0.8797282 (1010)\ttotal: 11m 24s\tremaining: 11m 5s\n",
      "1014:\tlearn: 0.9395417\ttest: 0.8794826\tbest: 0.8797282 (1010)\ttotal: 11m 24s\tremaining: 11m 4s\n",
      "1015:\tlearn: 0.9394365\ttest: 0.8794826\tbest: 0.8797282 (1010)\ttotal: 11m 25s\tremaining: 11m 4s\n",
      "1016:\tlearn: 0.9394014\ttest: 0.8788276\tbest: 0.8797282 (1010)\ttotal: 11m 26s\tremaining: 11m 3s\n",
      "1017:\tlearn: 0.9392961\ttest: 0.8788276\tbest: 0.8797282 (1010)\ttotal: 11m 27s\tremaining: 11m 2s\n",
      "1018:\tlearn: 0.9393312\ttest: 0.8787457\tbest: 0.8797282 (1010)\ttotal: 11m 27s\tremaining: 11m 2s\n",
      "1019:\tlearn: 0.9394365\ttest: 0.8789913\tbest: 0.8797282 (1010)\ttotal: 11m 28s\tremaining: 11m 1s\n",
      "1020:\tlearn: 0.9395417\ttest: 0.8789913\tbest: 0.8797282 (1010)\ttotal: 11m 28s\tremaining: 11m\n",
      "1021:\tlearn: 0.9396821\ttest: 0.8791551\tbest: 0.8797282 (1010)\ttotal: 11m 29s\tremaining: 10m 59s\n",
      "1022:\tlearn: 0.9396821\ttest: 0.8791551\tbest: 0.8797282 (1010)\ttotal: 11m 30s\tremaining: 10m 59s\n",
      "1023:\tlearn: 0.9396470\ttest: 0.8792369\tbest: 0.8797282 (1010)\ttotal: 11m 31s\tremaining: 10m 58s\n",
      "1024:\tlearn: 0.9396470\ttest: 0.8792369\tbest: 0.8797282 (1010)\ttotal: 11m 31s\tremaining: 10m 58s\n",
      "1025:\tlearn: 0.9396470\ttest: 0.8792369\tbest: 0.8797282 (1010)\ttotal: 11m 32s\tremaining: 10m 57s\n",
      "1026:\tlearn: 0.9396470\ttest: 0.8792369\tbest: 0.8797282 (1010)\ttotal: 11m 33s\tremaining: 10m 56s\n",
      "1027:\tlearn: 0.9395768\ttest: 0.8791551\tbest: 0.8797282 (1010)\ttotal: 11m 33s\tremaining: 10m 55s\n",
      "1028:\tlearn: 0.9397172\ttest: 0.8788276\tbest: 0.8797282 (1010)\ttotal: 11m 34s\tremaining: 10m 55s\n",
      "1029:\tlearn: 0.9399277\ttest: 0.8793188\tbest: 0.8797282 (1010)\ttotal: 11m 35s\tremaining: 10m 54s\n",
      "1030:\tlearn: 0.9398575\ttest: 0.8794826\tbest: 0.8797282 (1010)\ttotal: 11m 35s\tremaining: 10m 53s\n",
      "1031:\tlearn: 0.9402084\ttest: 0.8801375\tbest: 0.8801375 (1031)\ttotal: 11m 36s\tremaining: 10m 53s\n",
      "1032:\tlearn: 0.9402084\ttest: 0.8801375\tbest: 0.8801375 (1031)\ttotal: 11m 37s\tremaining: 10m 52s\n",
      "1033:\tlearn: 0.9400681\ttest: 0.8799738\tbest: 0.8801375 (1031)\ttotal: 11m 37s\tremaining: 10m 51s\n",
      "1034:\tlearn: 0.9401383\ttest: 0.8800557\tbest: 0.8801375 (1031)\ttotal: 11m 38s\tremaining: 10m 51s\n",
      "1035:\tlearn: 0.9402084\ttest: 0.8803832\tbest: 0.8803832 (1035)\ttotal: 11m 39s\tremaining: 10m 50s\n",
      "1036:\tlearn: 0.9402786\ttest: 0.8804650\tbest: 0.8804650 (1036)\ttotal: 11m 39s\tremaining: 10m 49s\n",
      "1037:\tlearn: 0.9404190\ttest: 0.8803832\tbest: 0.8804650 (1036)\ttotal: 11m 40s\tremaining: 10m 49s\n",
      "1038:\tlearn: 0.9403488\ttest: 0.8803013\tbest: 0.8804650 (1036)\ttotal: 11m 41s\tremaining: 10m 48s\n",
      "1039:\tlearn: 0.9404190\ttest: 0.8803832\tbest: 0.8804650 (1036)\ttotal: 11m 41s\tremaining: 10m 47s\n",
      "1040:\tlearn: 0.9404891\ttest: 0.8804650\tbest: 0.8804650 (1036)\ttotal: 11m 42s\tremaining: 10m 47s\n",
      "1041:\tlearn: 0.9405242\ttest: 0.8806288\tbest: 0.8806288 (1041)\ttotal: 11m 43s\tremaining: 10m 46s\n",
      "1042:\tlearn: 0.9406295\ttest: 0.8808744\tbest: 0.8808744 (1042)\ttotal: 11m 43s\tremaining: 10m 45s\n",
      "1043:\tlearn: 0.9408400\ttest: 0.8811200\tbest: 0.8811200 (1043)\ttotal: 11m 44s\tremaining: 10m 45s\n",
      "1044:\tlearn: 0.9410857\ttest: 0.8815294\tbest: 0.8815294 (1044)\ttotal: 11m 45s\tremaining: 10m 44s\n",
      "1045:\tlearn: 0.9410857\ttest: 0.8815294\tbest: 0.8815294 (1044)\ttotal: 11m 45s\tremaining: 10m 43s\n",
      "1046:\tlearn: 0.9413664\ttest: 0.8821025\tbest: 0.8821025 (1046)\ttotal: 11m 46s\tremaining: 10m 43s\n",
      "1047:\tlearn: 0.9414716\ttest: 0.8821025\tbest: 0.8821025 (1046)\ttotal: 11m 47s\tremaining: 10m 42s\n",
      "1048:\tlearn: 0.9416471\ttest: 0.8821844\tbest: 0.8821844 (1048)\ttotal: 11m 47s\tremaining: 10m 41s\n",
      "1049:\tlearn: 0.9415769\ttest: 0.8823481\tbest: 0.8823481 (1049)\ttotal: 11m 48s\tremaining: 10m 41s\n",
      "1050:\tlearn: 0.9415418\ttest: 0.8821844\tbest: 0.8823481 (1049)\ttotal: 11m 49s\tremaining: 10m 40s\n",
      "1051:\tlearn: 0.9418225\ttest: 0.8822663\tbest: 0.8823481 (1049)\ttotal: 11m 49s\tremaining: 10m 39s\n",
      "1052:\tlearn: 0.9419980\ttest: 0.8823481\tbest: 0.8823481 (1049)\ttotal: 11m 50s\tremaining: 10m 39s\n",
      "1053:\tlearn: 0.9419980\ttest: 0.8823481\tbest: 0.8823481 (1049)\ttotal: 11m 51s\tremaining: 10m 38s\n",
      "1054:\tlearn: 0.9422085\ttest: 0.8825937\tbest: 0.8825937 (1054)\ttotal: 11m 51s\tremaining: 10m 37s\n",
      "1055:\tlearn: 0.9421383\ttest: 0.8827575\tbest: 0.8827575 (1055)\ttotal: 11m 52s\tremaining: 10m 36s\n",
      "1056:\tlearn: 0.9421734\ttest: 0.8826756\tbest: 0.8827575 (1055)\ttotal: 11m 53s\tremaining: 10m 36s\n",
      "1057:\tlearn: 0.9422436\ttest: 0.8827575\tbest: 0.8827575 (1055)\ttotal: 11m 53s\tremaining: 10m 35s\n",
      "1058:\tlearn: 0.9421734\ttest: 0.8826756\tbest: 0.8827575 (1055)\ttotal: 11m 54s\tremaining: 10m 34s\n",
      "1059:\tlearn: 0.9424541\ttest: 0.8834944\tbest: 0.8834944 (1059)\ttotal: 11m 55s\tremaining: 10m 34s\n",
      "1060:\tlearn: 0.9424541\ttest: 0.8834944\tbest: 0.8834944 (1059)\ttotal: 11m 55s\tremaining: 10m 33s\n",
      "1061:\tlearn: 0.9425945\ttest: 0.8836581\tbest: 0.8836581 (1061)\ttotal: 11m 56s\tremaining: 10m 32s\n",
      "1062:\tlearn: 0.9425945\ttest: 0.8836581\tbest: 0.8836581 (1061)\ttotal: 11m 57s\tremaining: 10m 32s\n",
      "1063:\tlearn: 0.9425945\ttest: 0.8836581\tbest: 0.8836581 (1061)\ttotal: 11m 57s\tremaining: 10m 31s\n",
      "1064:\tlearn: 0.9429454\ttest: 0.8840675\tbest: 0.8840675 (1064)\ttotal: 11m 58s\tremaining: 10m 30s\n",
      "1065:\tlearn: 0.9431208\ttest: 0.8846406\tbest: 0.8846406 (1065)\ttotal: 11m 59s\tremaining: 10m 30s\n",
      "1066:\tlearn: 0.9431208\ttest: 0.8846406\tbest: 0.8846406 (1065)\ttotal: 11m 59s\tremaining: 10m 29s\n",
      "1067:\tlearn: 0.9428050\ttest: 0.8843950\tbest: 0.8846406 (1065)\ttotal: 12m\tremaining: 10m 28s\n",
      "1068:\tlearn: 0.9429805\ttest: 0.8842312\tbest: 0.8846406 (1065)\ttotal: 12m 1s\tremaining: 10m 28s\n",
      "1069:\tlearn: 0.9430506\ttest: 0.8843131\tbest: 0.8846406 (1065)\ttotal: 12m 1s\tremaining: 10m 27s\n",
      "1070:\tlearn: 0.9431559\ttest: 0.8843131\tbest: 0.8846406 (1065)\ttotal: 12m 2s\tremaining: 10m 26s\n",
      "1071:\tlearn: 0.9431559\ttest: 0.8843131\tbest: 0.8846406 (1065)\ttotal: 12m 3s\tremaining: 10m 26s\n",
      "1072:\tlearn: 0.9431208\ttest: 0.8843950\tbest: 0.8846406 (1065)\ttotal: 12m 3s\tremaining: 10m 25s\n",
      "1073:\tlearn: 0.9429454\ttest: 0.8843131\tbest: 0.8846406 (1065)\ttotal: 12m 4s\tremaining: 10m 24s\n",
      "1074:\tlearn: 0.9429805\ttest: 0.8839856\tbest: 0.8846406 (1065)\ttotal: 12m 5s\tremaining: 10m 24s\n",
      "1075:\tlearn: 0.9428050\ttest: 0.8841493\tbest: 0.8846406 (1065)\ttotal: 12m 5s\tremaining: 10m 23s\n",
      "1076:\tlearn: 0.9430155\ttest: 0.8841493\tbest: 0.8846406 (1065)\ttotal: 12m 6s\tremaining: 10m 22s\n",
      "1077:\tlearn: 0.9431208\ttest: 0.8843950\tbest: 0.8846406 (1065)\ttotal: 12m 7s\tremaining: 10m 22s\n",
      "1078:\tlearn: 0.9430857\ttest: 0.8842312\tbest: 0.8846406 (1065)\ttotal: 12m 7s\tremaining: 10m 21s\n",
      "1079:\tlearn: 0.9431910\ttest: 0.8844768\tbest: 0.8846406 (1065)\ttotal: 12m 8s\tremaining: 10m 20s\n",
      "1080:\tlearn: 0.9432612\ttest: 0.8845587\tbest: 0.8846406 (1065)\ttotal: 12m 9s\tremaining: 10m 19s\n",
      "1081:\tlearn: 0.9437875\ttest: 0.8848043\tbest: 0.8848043 (1081)\ttotal: 12m 9s\tremaining: 10m 19s\n",
      "1082:\tlearn: 0.9439629\ttest: 0.8851318\tbest: 0.8851318 (1082)\ttotal: 12m 10s\tremaining: 10m 18s\n",
      "1083:\tlearn: 0.9436822\ttest: 0.8848043\tbest: 0.8851318 (1082)\ttotal: 12m 11s\tremaining: 10m 17s\n",
      "1084:\tlearn: 0.9437173\ttest: 0.8849681\tbest: 0.8851318 (1082)\ttotal: 12m 11s\tremaining: 10m 17s\n",
      "1085:\tlearn: 0.9436471\ttest: 0.8848862\tbest: 0.8851318 (1082)\ttotal: 12m 12s\tremaining: 10m 16s\n",
      "1086:\tlearn: 0.9437524\ttest: 0.8848862\tbest: 0.8851318 (1082)\ttotal: 12m 13s\tremaining: 10m 15s\n",
      "1087:\tlearn: 0.9436471\ttest: 0.8848862\tbest: 0.8851318 (1082)\ttotal: 12m 13s\tremaining: 10m 15s\n",
      "1088:\tlearn: 0.9437875\ttest: 0.8850499\tbest: 0.8851318 (1082)\ttotal: 12m 14s\tremaining: 10m 14s\n",
      "1089:\tlearn: 0.9442086\ttest: 0.8852956\tbest: 0.8852956 (1089)\ttotal: 12m 15s\tremaining: 10m 13s\n",
      "1090:\tlearn: 0.9441384\ttest: 0.8852137\tbest: 0.8852956 (1089)\ttotal: 12m 16s\tremaining: 10m 13s\n",
      "1091:\tlearn: 0.9443138\ttest: 0.8852956\tbest: 0.8852956 (1089)\ttotal: 12m 16s\tremaining: 10m 12s\n",
      "1092:\tlearn: 0.9447700\ttest: 0.8854593\tbest: 0.8854593 (1092)\ttotal: 12m 17s\tremaining: 10m 11s\n",
      "1093:\tlearn: 0.9450858\ttest: 0.8866874\tbest: 0.8866874 (1093)\ttotal: 12m 18s\tremaining: 10m 11s\n",
      "1094:\tlearn: 0.9450858\ttest: 0.8866874\tbest: 0.8866874 (1093)\ttotal: 12m 18s\tremaining: 10m 10s\n",
      "1095:\tlearn: 0.9449805\ttest: 0.8866874\tbest: 0.8866874 (1093)\ttotal: 12m 19s\tremaining: 10m 9s\n",
      "1096:\tlearn: 0.9450156\ttest: 0.8868512\tbest: 0.8868512 (1096)\ttotal: 12m 20s\tremaining: 10m 9s\n",
      "1097:\tlearn: 0.9450156\ttest: 0.8868512\tbest: 0.8868512 (1096)\ttotal: 12m 20s\tremaining: 10m 8s\n",
      "1098:\tlearn: 0.9449805\ttest: 0.8866874\tbest: 0.8868512 (1096)\ttotal: 12m 21s\tremaining: 10m 7s\n",
      "1099:\tlearn: 0.9452261\ttest: 0.8870968\tbest: 0.8870968 (1099)\ttotal: 12m 22s\tremaining: 10m 7s\n",
      "1100:\tlearn: 0.9458577\ttest: 0.8870968\tbest: 0.8870968 (1099)\ttotal: 12m 22s\tremaining: 10m 6s\n",
      "1101:\tlearn: 0.9457525\ttest: 0.8870968\tbest: 0.8870968 (1099)\ttotal: 12m 23s\tremaining: 10m 5s\n",
      "1102:\tlearn: 0.9461735\ttest: 0.8878336\tbest: 0.8878336 (1102)\ttotal: 12m 24s\tremaining: 10m 5s\n",
      "1103:\tlearn: 0.9462788\ttest: 0.8878336\tbest: 0.8878336 (1102)\ttotal: 12m 24s\tremaining: 10m 4s\n",
      "1104:\tlearn: 0.9463139\ttest: 0.8879974\tbest: 0.8879974 (1104)\ttotal: 12m 25s\tremaining: 10m 3s\n",
      "1105:\tlearn: 0.9462437\ttest: 0.8879155\tbest: 0.8879974 (1104)\ttotal: 12m 26s\tremaining: 10m 3s\n",
      "1106:\tlearn: 0.9463841\ttest: 0.8880793\tbest: 0.8880793 (1106)\ttotal: 12m 26s\tremaining: 10m 2s\n",
      "1107:\tlearn: 0.9465244\ttest: 0.8882430\tbest: 0.8882430 (1107)\ttotal: 12m 27s\tremaining: 10m 1s\n",
      "1108:\tlearn: 0.9465595\ttest: 0.8884067\tbest: 0.8884067 (1108)\ttotal: 12m 28s\tremaining: 10m 1s\n",
      "1109:\tlearn: 0.9465595\ttest: 0.8884067\tbest: 0.8884067 (1108)\ttotal: 12m 28s\tremaining: 10m\n",
      "1110:\tlearn: 0.9464894\ttest: 0.8883249\tbest: 0.8884067 (1108)\ttotal: 12m 29s\tremaining: 9m 59s\n",
      "1111:\tlearn: 0.9463841\ttest: 0.8883249\tbest: 0.8884067 (1108)\ttotal: 12m 30s\tremaining: 9m 59s\n",
      "1112:\tlearn: 0.9465595\ttest: 0.8881611\tbest: 0.8884067 (1108)\ttotal: 12m 30s\tremaining: 9m 58s\n",
      "1113:\tlearn: 0.9464543\ttest: 0.8881611\tbest: 0.8884067 (1108)\ttotal: 12m 31s\tremaining: 9m 57s\n",
      "1114:\tlearn: 0.9465244\ttest: 0.8882430\tbest: 0.8884067 (1108)\ttotal: 12m 32s\tremaining: 9m 57s\n",
      "1115:\tlearn: 0.9464894\ttest: 0.8883249\tbest: 0.8884067 (1108)\ttotal: 12m 32s\tremaining: 9m 56s\n",
      "1116:\tlearn: 0.9466648\ttest: 0.8884067\tbest: 0.8884067 (1108)\ttotal: 12m 33s\tremaining: 9m 55s\n",
      "1117:\tlearn: 0.9467350\ttest: 0.8884886\tbest: 0.8884886 (1117)\ttotal: 12m 34s\tremaining: 9m 55s\n",
      "1118:\tlearn: 0.9467350\ttest: 0.8884886\tbest: 0.8884886 (1117)\ttotal: 12m 34s\tremaining: 9m 54s\n",
      "1119:\tlearn: 0.9466648\ttest: 0.8881611\tbest: 0.8884886 (1117)\ttotal: 12m 35s\tremaining: 9m 53s\n",
      "1120:\tlearn: 0.9465244\ttest: 0.8877518\tbest: 0.8884886 (1117)\ttotal: 12m 36s\tremaining: 9m 53s\n",
      "1121:\tlearn: 0.9468753\ttest: 0.8881611\tbest: 0.8884886 (1117)\ttotal: 12m 37s\tremaining: 9m 52s\n",
      "1122:\tlearn: 0.9469104\ttest: 0.8883249\tbest: 0.8884886 (1117)\ttotal: 12m 37s\tremaining: 9m 51s\n",
      "1123:\tlearn: 0.9468402\ttest: 0.8882430\tbest: 0.8884886 (1117)\ttotal: 12m 38s\tremaining: 9m 51s\n",
      "1124:\tlearn: 0.9470157\ttest: 0.8885705\tbest: 0.8885705 (1124)\ttotal: 12m 39s\tremaining: 9m 50s\n",
      "1125:\tlearn: 0.9471911\ttest: 0.8884067\tbest: 0.8885705 (1124)\ttotal: 12m 39s\tremaining: 9m 49s\n",
      "1126:\tlearn: 0.9471560\ttest: 0.8884886\tbest: 0.8885705 (1124)\ttotal: 12m 40s\tremaining: 9m 49s\n",
      "1127:\tlearn: 0.9471560\ttest: 0.8884886\tbest: 0.8885705 (1124)\ttotal: 12m 41s\tremaining: 9m 48s\n",
      "1128:\tlearn: 0.9475420\ttest: 0.8885705\tbest: 0.8885705 (1124)\ttotal: 12m 41s\tremaining: 9m 47s\n",
      "1129:\tlearn: 0.9476122\ttest: 0.8886524\tbest: 0.8886524 (1129)\ttotal: 12m 42s\tremaining: 9m 47s\n",
      "1130:\tlearn: 0.9471210\ttest: 0.8885705\tbest: 0.8886524 (1129)\ttotal: 12m 43s\tremaining: 9m 46s\n",
      "1131:\tlearn: 0.9469806\ttest: 0.8881611\tbest: 0.8886524 (1129)\ttotal: 12m 43s\tremaining: 9m 45s\n",
      "1132:\tlearn: 0.9470508\ttest: 0.8882430\tbest: 0.8886524 (1129)\ttotal: 12m 44s\tremaining: 9m 44s\n",
      "1133:\tlearn: 0.9470859\ttest: 0.8884067\tbest: 0.8886524 (1129)\ttotal: 12m 45s\tremaining: 9m 44s\n",
      "1134:\tlearn: 0.9474718\ttest: 0.8889799\tbest: 0.8889799 (1134)\ttotal: 12m 45s\tremaining: 9m 43s\n",
      "1135:\tlearn: 0.9475420\ttest: 0.8888161\tbest: 0.8889799 (1134)\ttotal: 12m 46s\tremaining: 9m 42s\n",
      "1136:\tlearn: 0.9474718\ttest: 0.8887342\tbest: 0.8889799 (1134)\ttotal: 12m 47s\tremaining: 9m 42s\n",
      "1137:\tlearn: 0.9476122\ttest: 0.8888980\tbest: 0.8889799 (1134)\ttotal: 12m 47s\tremaining: 9m 41s\n",
      "1138:\tlearn: 0.9478929\ttest: 0.8892255\tbest: 0.8892255 (1138)\ttotal: 12m 48s\tremaining: 9m 40s\n",
      "1139:\tlearn: 0.9478929\ttest: 0.8894711\tbest: 0.8894711 (1139)\ttotal: 12m 49s\tremaining: 9m 40s\n",
      "1140:\tlearn: 0.9481385\ttest: 0.8896348\tbest: 0.8896348 (1140)\ttotal: 12m 49s\tremaining: 9m 39s\n",
      "1141:\tlearn: 0.9481736\ttest: 0.8897986\tbest: 0.8897986 (1141)\ttotal: 12m 50s\tremaining: 9m 38s\n",
      "1142:\tlearn: 0.9482438\ttest: 0.8896348\tbest: 0.8897986 (1141)\ttotal: 12m 51s\tremaining: 9m 38s\n",
      "1143:\tlearn: 0.9482087\ttest: 0.8897167\tbest: 0.8897986 (1141)\ttotal: 12m 51s\tremaining: 9m 37s\n",
      "1144:\tlearn: 0.9489807\ttest: 0.8906173\tbest: 0.8906173 (1144)\ttotal: 12m 52s\tremaining: 9m 36s\n",
      "1145:\tlearn: 0.9488754\ttest: 0.8906173\tbest: 0.8906173 (1144)\ttotal: 12m 53s\tremaining: 9m 36s\n",
      "1146:\tlearn: 0.9490158\ttest: 0.8907811\tbest: 0.8907811 (1146)\ttotal: 12m 53s\tremaining: 9m 35s\n",
      "1147:\tlearn: 0.9490508\ttest: 0.8906992\tbest: 0.8907811 (1146)\ttotal: 12m 54s\tremaining: 9m 34s\n",
      "1148:\tlearn: 0.9491210\ttest: 0.8907811\tbest: 0.8907811 (1146)\ttotal: 12m 55s\tremaining: 9m 34s\n",
      "1149:\tlearn: 0.9492614\ttest: 0.8909448\tbest: 0.8909448 (1149)\ttotal: 12m 55s\tremaining: 9m 33s\n",
      "1150:\tlearn: 0.9492614\ttest: 0.8909448\tbest: 0.8909448 (1149)\ttotal: 12m 56s\tremaining: 9m 32s\n",
      "1151:\tlearn: 0.9492965\ttest: 0.8908629\tbest: 0.8909448 (1149)\ttotal: 12m 57s\tremaining: 9m 32s\n",
      "1152:\tlearn: 0.9496123\ttest: 0.8908629\tbest: 0.8909448 (1149)\ttotal: 12m 57s\tremaining: 9m 31s\n",
      "1153:\tlearn: 0.9495421\ttest: 0.8902898\tbest: 0.8909448 (1149)\ttotal: 12m 58s\tremaining: 9m 30s\n",
      "1154:\tlearn: 0.9493316\ttest: 0.8902898\tbest: 0.8909448 (1149)\ttotal: 12m 59s\tremaining: 9m 30s\n",
      "1155:\tlearn: 0.9494719\ttest: 0.8904536\tbest: 0.8909448 (1149)\ttotal: 12m 59s\tremaining: 9m 29s\n",
      "1156:\tlearn: 0.9494719\ttest: 0.8904536\tbest: 0.8909448 (1149)\ttotal: 13m\tremaining: 9m 28s\n",
      "1157:\tlearn: 0.9495070\ttest: 0.8903717\tbest: 0.8909448 (1149)\ttotal: 13m 1s\tremaining: 9m 28s\n",
      "1158:\tlearn: 0.9496123\ttest: 0.8906173\tbest: 0.8909448 (1149)\ttotal: 13m 1s\tremaining: 9m 27s\n",
      "1159:\tlearn: 0.9495421\ttest: 0.8905355\tbest: 0.8909448 (1149)\ttotal: 13m 2s\tremaining: 9m 26s\n",
      "1160:\tlearn: 0.9499982\ttest: 0.8909448\tbest: 0.8909448 (1149)\ttotal: 13m 3s\tremaining: 9m 26s\n",
      "1161:\tlearn: 0.9503491\ttest: 0.8918454\tbest: 0.8918454 (1161)\ttotal: 13m 3s\tremaining: 9m 25s\n",
      "1162:\tlearn: 0.9503842\ttest: 0.8917636\tbest: 0.8918454 (1161)\ttotal: 13m 4s\tremaining: 9m 24s\n",
      "1163:\tlearn: 0.9504544\ttest: 0.8915998\tbest: 0.8918454 (1161)\ttotal: 13m 5s\tremaining: 9m 24s\n",
      "1164:\tlearn: 0.9505246\ttest: 0.8921729\tbest: 0.8921729 (1164)\ttotal: 13m 5s\tremaining: 9m 23s\n",
      "1165:\tlearn: 0.9508053\ttest: 0.8925004\tbest: 0.8925004 (1165)\ttotal: 13m 6s\tremaining: 9m 22s\n",
      "1166:\tlearn: 0.9507000\ttest: 0.8920092\tbest: 0.8925004 (1165)\ttotal: 13m 7s\tremaining: 9m 22s\n",
      "1167:\tlearn: 0.9507000\ttest: 0.8920092\tbest: 0.8925004 (1165)\ttotal: 13m 8s\tremaining: 9m 21s\n",
      "1168:\tlearn: 0.9507702\ttest: 0.8920910\tbest: 0.8925004 (1165)\ttotal: 13m 8s\tremaining: 9m 20s\n",
      "1169:\tlearn: 0.9509807\ttest: 0.8925823\tbest: 0.8925823 (1169)\ttotal: 13m 9s\tremaining: 9m 19s\n",
      "1170:\tlearn: 0.9510509\ttest: 0.8924185\tbest: 0.8925823 (1169)\ttotal: 13m 10s\tremaining: 9m 19s\n",
      "1171:\tlearn: 0.9510509\ttest: 0.8924185\tbest: 0.8925823 (1169)\ttotal: 13m 10s\tremaining: 9m 18s\n",
      "1172:\tlearn: 0.9511211\ttest: 0.8925004\tbest: 0.8925823 (1169)\ttotal: 13m 11s\tremaining: 9m 17s\n",
      "1173:\tlearn: 0.9512614\ttest: 0.8924185\tbest: 0.8925823 (1169)\ttotal: 13m 12s\tremaining: 9m 17s\n",
      "1174:\tlearn: 0.9513316\ttest: 0.8925004\tbest: 0.8925823 (1169)\ttotal: 13m 12s\tremaining: 9m 16s\n",
      "1175:\tlearn: 0.9513316\ttest: 0.8925004\tbest: 0.8925823 (1169)\ttotal: 13m 13s\tremaining: 9m 15s\n",
      "1176:\tlearn: 0.9511913\ttest: 0.8923367\tbest: 0.8925823 (1169)\ttotal: 13m 14s\tremaining: 9m 15s\n",
      "1177:\tlearn: 0.9512614\ttest: 0.8924185\tbest: 0.8925823 (1169)\ttotal: 13m 14s\tremaining: 9m 14s\n",
      "1178:\tlearn: 0.9511913\ttest: 0.8923367\tbest: 0.8925823 (1169)\ttotal: 13m 15s\tremaining: 9m 13s\n",
      "1179:\tlearn: 0.9512614\ttest: 0.8924185\tbest: 0.8925823 (1169)\ttotal: 13m 16s\tremaining: 9m 13s\n",
      "1180:\tlearn: 0.9511562\ttest: 0.8924185\tbest: 0.8925823 (1169)\ttotal: 13m 16s\tremaining: 9m 12s\n",
      "1181:\tlearn: 0.9512614\ttest: 0.8926642\tbest: 0.8926642 (1181)\ttotal: 13m 17s\tremaining: 9m 11s\n",
      "1182:\tlearn: 0.9512614\ttest: 0.8926642\tbest: 0.8926642 (1181)\ttotal: 13m 18s\tremaining: 9m 11s\n",
      "1183:\tlearn: 0.9511913\ttest: 0.8925823\tbest: 0.8926642 (1181)\ttotal: 13m 18s\tremaining: 9m 10s\n",
      "1184:\tlearn: 0.9511211\ttest: 0.8925004\tbest: 0.8926642 (1181)\ttotal: 13m 19s\tremaining: 9m 9s\n",
      "1185:\tlearn: 0.9513667\ttest: 0.8931554\tbest: 0.8931554 (1185)\ttotal: 13m 20s\tremaining: 9m 9s\n",
      "1186:\tlearn: 0.9514369\ttest: 0.8932373\tbest: 0.8932373 (1186)\ttotal: 13m 20s\tremaining: 9m 8s\n",
      "1187:\tlearn: 0.9515071\ttest: 0.8933191\tbest: 0.8933191 (1187)\ttotal: 13m 21s\tremaining: 9m 7s\n",
      "1188:\tlearn: 0.9515772\ttest: 0.8934010\tbest: 0.8934010 (1188)\ttotal: 13m 22s\tremaining: 9m 7s\n",
      "1189:\tlearn: 0.9523843\ttest: 0.8939741\tbest: 0.8939741 (1189)\ttotal: 13m 22s\tremaining: 9m 6s\n",
      "1190:\tlearn: 0.9523843\ttest: 0.8939741\tbest: 0.8939741 (1189)\ttotal: 13m 23s\tremaining: 9m 5s\n",
      "1191:\tlearn: 0.9523141\ttest: 0.8938923\tbest: 0.8939741 (1189)\ttotal: 13m 24s\tremaining: 9m 5s\n",
      "1192:\tlearn: 0.9523843\ttest: 0.8939741\tbest: 0.8939741 (1189)\ttotal: 13m 24s\tremaining: 9m 4s\n",
      "1193:\tlearn: 0.9523843\ttest: 0.8939741\tbest: 0.8939741 (1189)\ttotal: 13m 25s\tremaining: 9m 3s\n",
      "1194:\tlearn: 0.9525246\ttest: 0.8941379\tbest: 0.8941379 (1194)\ttotal: 13m 26s\tremaining: 9m 3s\n",
      "1195:\tlearn: 0.9525246\ttest: 0.8941379\tbest: 0.8941379 (1194)\ttotal: 13m 26s\tremaining: 9m 2s\n",
      "1196:\tlearn: 0.9525246\ttest: 0.8941379\tbest: 0.8941379 (1194)\ttotal: 13m 27s\tremaining: 9m 1s\n",
      "1197:\tlearn: 0.9527001\ttest: 0.8944654\tbest: 0.8944654 (1197)\ttotal: 13m 28s\tremaining: 9m 1s\n",
      "1198:\tlearn: 0.9527001\ttest: 0.8944654\tbest: 0.8944654 (1197)\ttotal: 13m 28s\tremaining: 9m\n",
      "1199:\tlearn: 0.9527001\ttest: 0.8944654\tbest: 0.8944654 (1197)\ttotal: 13m 29s\tremaining: 8m 59s\n",
      "1200:\tlearn: 0.9527703\ttest: 0.8945472\tbest: 0.8945472 (1200)\ttotal: 13m 30s\tremaining: 8m 58s\n",
      "1201:\tlearn: 0.9528054\ttest: 0.8944654\tbest: 0.8945472 (1200)\ttotal: 13m 30s\tremaining: 8m 58s\n",
      "1202:\tlearn: 0.9527703\ttest: 0.8945472\tbest: 0.8945472 (1200)\ttotal: 13m 31s\tremaining: 8m 57s\n",
      "1203:\tlearn: 0.9526299\ttest: 0.8943835\tbest: 0.8945472 (1200)\ttotal: 13m 32s\tremaining: 8m 56s\n",
      "1204:\tlearn: 0.9526299\ttest: 0.8943835\tbest: 0.8945472 (1200)\ttotal: 13m 32s\tremaining: 8m 56s\n",
      "1205:\tlearn: 0.9527001\ttest: 0.8944654\tbest: 0.8945472 (1200)\ttotal: 13m 33s\tremaining: 8m 55s\n",
      "1206:\tlearn: 0.9538229\ttest: 0.8950385\tbest: 0.8950385 (1206)\ttotal: 13m 34s\tremaining: 8m 54s\n",
      "1207:\tlearn: 0.9541037\ttest: 0.8953660\tbest: 0.8953660 (1207)\ttotal: 13m 34s\tremaining: 8m 54s\n",
      "1208:\tlearn: 0.9540335\ttest: 0.8952841\tbest: 0.8953660 (1207)\ttotal: 13m 35s\tremaining: 8m 53s\n",
      "1209:\tlearn: 0.9544545\ttest: 0.8957753\tbest: 0.8957753 (1209)\ttotal: 13m 36s\tremaining: 8m 52s\n",
      "1210:\tlearn: 0.9544545\ttest: 0.8957753\tbest: 0.8957753 (1209)\ttotal: 13m 37s\tremaining: 8m 52s\n",
      "1211:\tlearn: 0.9544195\ttest: 0.8958572\tbest: 0.8958572 (1211)\ttotal: 13m 37s\tremaining: 8m 51s\n",
      "1212:\tlearn: 0.9547703\ttest: 0.8960210\tbest: 0.8960210 (1212)\ttotal: 13m 38s\tremaining: 8m 50s\n",
      "1213:\tlearn: 0.9548756\ttest: 0.8960210\tbest: 0.8960210 (1212)\ttotal: 13m 39s\tremaining: 8m 50s\n",
      "1214:\tlearn: 0.9549458\ttest: 0.8961028\tbest: 0.8961028 (1214)\ttotal: 13m 39s\tremaining: 8m 49s\n",
      "1215:\tlearn: 0.9547002\ttest: 0.8959391\tbest: 0.8961028 (1214)\ttotal: 13m 40s\tremaining: 8m 48s\n",
      "1216:\tlearn: 0.9549809\ttest: 0.8962666\tbest: 0.8962666 (1216)\ttotal: 13m 41s\tremaining: 8m 48s\n",
      "1217:\tlearn: 0.9549809\ttest: 0.8962666\tbest: 0.8962666 (1216)\ttotal: 13m 41s\tremaining: 8m 47s\n",
      "1218:\tlearn: 0.9548756\ttest: 0.8965122\tbest: 0.8965122 (1218)\ttotal: 13m 42s\tremaining: 8m 46s\n",
      "1219:\tlearn: 0.9549107\ttest: 0.8964303\tbest: 0.8965122 (1218)\ttotal: 13m 43s\tremaining: 8m 46s\n",
      "1220:\tlearn: 0.9553318\ttest: 0.8969216\tbest: 0.8969216 (1220)\ttotal: 13m 43s\tremaining: 8m 45s\n",
      "1221:\tlearn: 0.9555072\ttest: 0.8970034\tbest: 0.8970034 (1221)\ttotal: 13m 44s\tremaining: 8m 44s\n",
      "1222:\tlearn: 0.9554370\ttest: 0.8966759\tbest: 0.8970034 (1221)\ttotal: 13m 45s\tremaining: 8m 44s\n",
      "1223:\tlearn: 0.9552967\ttest: 0.8967578\tbest: 0.8970034 (1221)\ttotal: 13m 45s\tremaining: 8m 43s\n",
      "1224:\tlearn: 0.9553669\ttest: 0.8968397\tbest: 0.8970034 (1221)\ttotal: 13m 46s\tremaining: 8m 42s\n",
      "1225:\tlearn: 0.9554019\ttest: 0.8967578\tbest: 0.8970034 (1221)\ttotal: 13m 47s\tremaining: 8m 42s\n",
      "1226:\tlearn: 0.9554721\ttest: 0.8970853\tbest: 0.8970853 (1226)\ttotal: 13m 47s\tremaining: 8m 41s\n",
      "1227:\tlearn: 0.9554721\ttest: 0.8970853\tbest: 0.8970853 (1226)\ttotal: 13m 48s\tremaining: 8m 40s\n",
      "1228:\tlearn: 0.9555774\ttest: 0.8970853\tbest: 0.8970853 (1226)\ttotal: 13m 49s\tremaining: 8m 40s\n",
      "1229:\tlearn: 0.9555774\ttest: 0.8970853\tbest: 0.8970853 (1226)\ttotal: 13m 49s\tremaining: 8m 39s\n",
      "1230:\tlearn: 0.9557177\ttest: 0.8972491\tbest: 0.8972491 (1230)\ttotal: 13m 50s\tremaining: 8m 38s\n",
      "1231:\tlearn: 0.9558581\ttest: 0.8974128\tbest: 0.8974128 (1231)\ttotal: 13m 51s\tremaining: 8m 38s\n",
      "1232:\tlearn: 0.9558581\ttest: 0.8979040\tbest: 0.8979040 (1232)\ttotal: 13m 51s\tremaining: 8m 37s\n",
      "1233:\tlearn: 0.9558932\ttest: 0.8978222\tbest: 0.8979040 (1232)\ttotal: 13m 52s\tremaining: 8m 36s\n",
      "1234:\tlearn: 0.9560335\ttest: 0.8979859\tbest: 0.8979859 (1234)\ttotal: 13m 53s\tremaining: 8m 36s\n",
      "1235:\tlearn: 0.9561037\ttest: 0.8980678\tbest: 0.8980678 (1235)\ttotal: 13m 53s\tremaining: 8m 35s\n",
      "1236:\tlearn: 0.9561739\ttest: 0.8981497\tbest: 0.8981497 (1236)\ttotal: 13m 54s\tremaining: 8m 34s\n",
      "1237:\tlearn: 0.9561739\ttest: 0.8981497\tbest: 0.8981497 (1236)\ttotal: 13m 55s\tremaining: 8m 34s\n",
      "1238:\tlearn: 0.9561388\ttest: 0.8979859\tbest: 0.8981497 (1236)\ttotal: 13m 55s\tremaining: 8m 33s\n",
      "1239:\tlearn: 0.9561388\ttest: 0.8979859\tbest: 0.8981497 (1236)\ttotal: 13m 56s\tremaining: 8m 32s\n",
      "1240:\tlearn: 0.9561388\ttest: 0.8979859\tbest: 0.8981497 (1236)\ttotal: 13m 57s\tremaining: 8m 32s\n",
      "1241:\tlearn: 0.9562090\ttest: 0.8983134\tbest: 0.8983134 (1241)\ttotal: 13m 57s\tremaining: 8m 31s\n",
      "1242:\tlearn: 0.9570160\ttest: 0.8991321\tbest: 0.8991321 (1242)\ttotal: 13m 58s\tremaining: 8m 30s\n",
      "1243:\tlearn: 0.9567353\ttest: 0.8985590\tbest: 0.8991321 (1242)\ttotal: 13m 59s\tremaining: 8m 30s\n",
      "1244:\tlearn: 0.9568055\ttest: 0.8986409\tbest: 0.8991321 (1242)\ttotal: 14m\tremaining: 8m 29s\n",
      "1245:\tlearn: 0.9569459\ttest: 0.8988047\tbest: 0.8991321 (1242)\ttotal: 14m\tremaining: 8m 28s\n",
      "1246:\tlearn: 0.9568757\ttest: 0.8987228\tbest: 0.8991321 (1242)\ttotal: 14m 1s\tremaining: 8m 28s\n",
      "1247:\tlearn: 0.9568406\ttest: 0.8983134\tbest: 0.8991321 (1242)\ttotal: 14m 2s\tremaining: 8m 27s\n",
      "1248:\tlearn: 0.9568406\ttest: 0.8983134\tbest: 0.8991321 (1242)\ttotal: 14m 2s\tremaining: 8m 26s\n",
      "1249:\tlearn: 0.9568757\ttest: 0.8984772\tbest: 0.8991321 (1242)\ttotal: 14m 3s\tremaining: 8m 26s\n",
      "1250:\tlearn: 0.9570862\ttest: 0.8987228\tbest: 0.8991321 (1242)\ttotal: 14m 4s\tremaining: 8m 25s\n",
      "1251:\tlearn: 0.9569809\ttest: 0.8984772\tbest: 0.8991321 (1242)\ttotal: 14m 4s\tremaining: 8m 24s\n",
      "1252:\tlearn: 0.9569809\ttest: 0.8984772\tbest: 0.8991321 (1242)\ttotal: 14m 5s\tremaining: 8m 24s\n",
      "1253:\tlearn: 0.9569809\ttest: 0.8984772\tbest: 0.8991321 (1242)\ttotal: 14m 6s\tremaining: 8m 23s\n",
      "1254:\tlearn: 0.9573318\ttest: 0.8988865\tbest: 0.8991321 (1242)\ttotal: 14m 6s\tremaining: 8m 22s\n",
      "1255:\tlearn: 0.9572967\ttest: 0.8987228\tbest: 0.8991321 (1242)\ttotal: 14m 7s\tremaining: 8m 21s\n",
      "1256:\tlearn: 0.9572967\ttest: 0.8987228\tbest: 0.8991321 (1242)\ttotal: 14m 8s\tremaining: 8m 21s\n",
      "1257:\tlearn: 0.9572266\ttest: 0.8986409\tbest: 0.8991321 (1242)\ttotal: 14m 8s\tremaining: 8m 20s\n",
      "1258:\tlearn: 0.9570160\ttest: 0.8981497\tbest: 0.8991321 (1242)\ttotal: 14m 9s\tremaining: 8m 19s\n",
      "1259:\tlearn: 0.9570862\ttest: 0.8982315\tbest: 0.8991321 (1242)\ttotal: 14m 10s\tremaining: 8m 19s\n",
      "1260:\tlearn: 0.9568055\ttest: 0.8981497\tbest: 0.8991321 (1242)\ttotal: 14m 10s\tremaining: 8m 18s\n",
      "1261:\tlearn: 0.9568406\ttest: 0.8980678\tbest: 0.8991321 (1242)\ttotal: 14m 11s\tremaining: 8m 17s\n",
      "1262:\tlearn: 0.9568757\ttest: 0.8982315\tbest: 0.8991321 (1242)\ttotal: 14m 12s\tremaining: 8m 17s\n",
      "1263:\tlearn: 0.9569809\ttest: 0.8984772\tbest: 0.8991321 (1242)\ttotal: 14m 12s\tremaining: 8m 16s\n",
      "1264:\tlearn: 0.9569809\ttest: 0.8984772\tbest: 0.8991321 (1242)\ttotal: 14m 13s\tremaining: 8m 15s\n",
      "1265:\tlearn: 0.9569809\ttest: 0.8984772\tbest: 0.8991321 (1242)\ttotal: 14m 14s\tremaining: 8m 15s\n",
      "1266:\tlearn: 0.9573318\ttest: 0.8986409\tbest: 0.8991321 (1242)\ttotal: 14m 14s\tremaining: 8m 14s\n",
      "1267:\tlearn: 0.9572617\ttest: 0.8985590\tbest: 0.8991321 (1242)\ttotal: 14m 15s\tremaining: 8m 13s\n",
      "1268:\tlearn: 0.9572617\ttest: 0.8985590\tbest: 0.8991321 (1242)\ttotal: 14m 16s\tremaining: 8m 13s\n",
      "1269:\tlearn: 0.9575775\ttest: 0.8990503\tbest: 0.8991321 (1242)\ttotal: 14m 16s\tremaining: 8m 12s\n",
      "1270:\tlearn: 0.9579634\ttest: 0.8991321\tbest: 0.8991321 (1242)\ttotal: 14m 17s\tremaining: 8m 11s\n",
      "1271:\tlearn: 0.9575775\ttest: 0.8988047\tbest: 0.8991321 (1242)\ttotal: 14m 18s\tremaining: 8m 11s\n",
      "1272:\tlearn: 0.9576827\ttest: 0.8990503\tbest: 0.8991321 (1242)\ttotal: 14m 18s\tremaining: 8m 10s\n",
      "1273:\tlearn: 0.9581389\ttest: 0.8992140\tbest: 0.8992140 (1273)\ttotal: 14m 19s\tremaining: 8m 9s\n",
      "1274:\tlearn: 0.9581389\ttest: 0.8992140\tbest: 0.8992140 (1273)\ttotal: 14m 20s\tremaining: 8m 9s\n",
      "1275:\tlearn: 0.9581389\ttest: 0.8992140\tbest: 0.8992140 (1273)\ttotal: 14m 20s\tremaining: 8m 8s\n",
      "1276:\tlearn: 0.9582091\ttest: 0.8992959\tbest: 0.8992959 (1276)\ttotal: 14m 21s\tremaining: 8m 7s\n",
      "1277:\tlearn: 0.9582091\ttest: 0.8992959\tbest: 0.8992959 (1276)\ttotal: 14m 22s\tremaining: 8m 7s\n",
      "1278:\tlearn: 0.9582091\ttest: 0.8992959\tbest: 0.8992959 (1276)\ttotal: 14m 22s\tremaining: 8m 6s\n",
      "1279:\tlearn: 0.9582091\ttest: 0.8992959\tbest: 0.8992959 (1276)\ttotal: 14m 23s\tremaining: 8m 5s\n",
      "1280:\tlearn: 0.9582091\ttest: 0.8992959\tbest: 0.8992959 (1276)\ttotal: 14m 24s\tremaining: 8m 5s\n",
      "1281:\tlearn: 0.9583143\ttest: 0.8992959\tbest: 0.8992959 (1276)\ttotal: 14m 24s\tremaining: 8m 4s\n",
      "1282:\tlearn: 0.9582792\ttest: 0.8993778\tbest: 0.8993778 (1282)\ttotal: 14m 25s\tremaining: 8m 3s\n",
      "1283:\tlearn: 0.9582792\ttest: 0.8993778\tbest: 0.8993778 (1282)\ttotal: 14m 26s\tremaining: 8m 3s\n",
      "1284:\tlearn: 0.9584898\ttest: 0.8996234\tbest: 0.8996234 (1284)\ttotal: 14m 26s\tremaining: 8m 2s\n",
      "1285:\tlearn: 0.9583494\ttest: 0.8994596\tbest: 0.8996234 (1284)\ttotal: 14m 27s\tremaining: 8m 1s\n",
      "1286:\tlearn: 0.9583494\ttest: 0.8992140\tbest: 0.8996234 (1284)\ttotal: 14m 28s\tremaining: 8m 1s\n",
      "1287:\tlearn: 0.9583845\ttest: 0.8996234\tbest: 0.8996234 (1284)\ttotal: 14m 28s\tremaining: 8m\n",
      "1288:\tlearn: 0.9582091\ttest: 0.8997871\tbest: 0.8997871 (1288)\ttotal: 14m 29s\tremaining: 7m 59s\n",
      "1289:\tlearn: 0.9582792\ttest: 0.8998690\tbest: 0.8998690 (1289)\ttotal: 14m 30s\tremaining: 7m 59s\n",
      "1290:\tlearn: 0.9584898\ttest: 0.9001146\tbest: 0.9001146 (1290)\ttotal: 14m 30s\tremaining: 7m 58s\n",
      "1291:\tlearn: 0.9585599\ttest: 0.9001965\tbest: 0.9001965 (1291)\ttotal: 14m 31s\tremaining: 7m 57s\n",
      "1292:\tlearn: 0.9587003\ttest: 0.9006059\tbest: 0.9006059 (1292)\ttotal: 14m 32s\tremaining: 7m 56s\n",
      "1293:\tlearn: 0.9588056\ttest: 0.9006059\tbest: 0.9006059 (1292)\ttotal: 14m 33s\tremaining: 7m 56s\n",
      "1294:\tlearn: 0.9589108\ttest: 0.9006059\tbest: 0.9006059 (1292)\ttotal: 14m 33s\tremaining: 7m 55s\n",
      "1295:\tlearn: 0.9589108\ttest: 0.9006059\tbest: 0.9006059 (1292)\ttotal: 14m 34s\tremaining: 7m 54s\n",
      "1296:\tlearn: 0.9589108\ttest: 0.9006059\tbest: 0.9006059 (1292)\ttotal: 14m 34s\tremaining: 7m 54s\n",
      "1297:\tlearn: 0.9589810\ttest: 0.9006877\tbest: 0.9006877 (1297)\ttotal: 14m 35s\tremaining: 7m 53s\n",
      "1298:\tlearn: 0.9589810\ttest: 0.9006877\tbest: 0.9006877 (1297)\ttotal: 14m 36s\tremaining: 7m 52s\n",
      "1299:\tlearn: 0.9590863\ttest: 0.9006877\tbest: 0.9006877 (1297)\ttotal: 14m 36s\tremaining: 7m 52s\n",
      "1300:\tlearn: 0.9590863\ttest: 0.9006877\tbest: 0.9006877 (1297)\ttotal: 14m 37s\tremaining: 7m 51s\n",
      "1301:\tlearn: 0.9591565\ttest: 0.9007696\tbest: 0.9007696 (1301)\ttotal: 14m 38s\tremaining: 7m 50s\n",
      "1302:\tlearn: 0.9591565\ttest: 0.9007696\tbest: 0.9007696 (1301)\ttotal: 14m 38s\tremaining: 7m 50s\n",
      "1303:\tlearn: 0.9591565\ttest: 0.9007696\tbest: 0.9007696 (1301)\ttotal: 14m 39s\tremaining: 7m 49s\n",
      "1304:\tlearn: 0.9594372\ttest: 0.9006059\tbest: 0.9007696 (1301)\ttotal: 14m 40s\tremaining: 7m 48s\n",
      "1305:\tlearn: 0.9595775\ttest: 0.9007696\tbest: 0.9007696 (1301)\ttotal: 14m 40s\tremaining: 7m 48s\n",
      "1306:\tlearn: 0.9596477\ttest: 0.9008515\tbest: 0.9008515 (1306)\ttotal: 14m 41s\tremaining: 7m 47s\n",
      "1307:\tlearn: 0.9596477\ttest: 0.9008515\tbest: 0.9008515 (1306)\ttotal: 14m 42s\tremaining: 7m 46s\n",
      "1308:\tlearn: 0.9598582\ttest: 0.9010971\tbest: 0.9010971 (1308)\ttotal: 14m 43s\tremaining: 7m 46s\n",
      "1309:\tlearn: 0.9598582\ttest: 0.9010971\tbest: 0.9010971 (1308)\ttotal: 14m 43s\tremaining: 7m 45s\n",
      "1310:\tlearn: 0.9598582\ttest: 0.9010971\tbest: 0.9010971 (1308)\ttotal: 14m 44s\tremaining: 7m 44s\n",
      "1311:\tlearn: 0.9599986\ttest: 0.9012608\tbest: 0.9012608 (1311)\ttotal: 14m 45s\tremaining: 7m 44s\n",
      "1312:\tlearn: 0.9601039\ttest: 0.9015065\tbest: 0.9015065 (1312)\ttotal: 14m 45s\tremaining: 7m 43s\n",
      "1313:\tlearn: 0.9601390\ttest: 0.9014246\tbest: 0.9015065 (1312)\ttotal: 14m 46s\tremaining: 7m 42s\n",
      "1314:\tlearn: 0.9600688\ttest: 0.9013427\tbest: 0.9015065 (1312)\ttotal: 14m 47s\tremaining: 7m 42s\n",
      "1315:\tlearn: 0.9601390\ttest: 0.9014246\tbest: 0.9015065 (1312)\ttotal: 14m 47s\tremaining: 7m 41s\n",
      "1316:\tlearn: 0.9601039\ttest: 0.9012608\tbest: 0.9015065 (1312)\ttotal: 14m 48s\tremaining: 7m 40s\n",
      "1317:\tlearn: 0.9599635\ttest: 0.9008515\tbest: 0.9015065 (1312)\ttotal: 14m 49s\tremaining: 7m 40s\n",
      "1318:\tlearn: 0.9599635\ttest: 0.9008515\tbest: 0.9015065 (1312)\ttotal: 14m 49s\tremaining: 7m 39s\n",
      "1319:\tlearn: 0.9599635\ttest: 0.9008515\tbest: 0.9015065 (1312)\ttotal: 14m 50s\tremaining: 7m 38s\n",
      "1320:\tlearn: 0.9601390\ttest: 0.9011790\tbest: 0.9015065 (1312)\ttotal: 14m 51s\tremaining: 7m 38s\n",
      "1321:\tlearn: 0.9602091\ttest: 0.9012608\tbest: 0.9015065 (1312)\ttotal: 14m 51s\tremaining: 7m 37s\n",
      "1322:\tlearn: 0.9599986\ttest: 0.9012608\tbest: 0.9015065 (1312)\ttotal: 14m 52s\tremaining: 7m 36s\n",
      "1323:\tlearn: 0.9600337\ttest: 0.9011790\tbest: 0.9015065 (1312)\ttotal: 14m 53s\tremaining: 7m 35s\n",
      "1324:\tlearn: 0.9600337\ttest: 0.9009334\tbest: 0.9015065 (1312)\ttotal: 14m 53s\tremaining: 7m 35s\n",
      "1325:\tlearn: 0.9600688\ttest: 0.9010971\tbest: 0.9015065 (1312)\ttotal: 14m 54s\tremaining: 7m 34s\n",
      "1326:\tlearn: 0.9601740\ttest: 0.9013427\tbest: 0.9015065 (1312)\ttotal: 14m 55s\tremaining: 7m 33s\n",
      "1327:\tlearn: 0.9602091\ttest: 0.9012608\tbest: 0.9015065 (1312)\ttotal: 14m 55s\tremaining: 7m 33s\n",
      "1328:\tlearn: 0.9603144\ttest: 0.9015065\tbest: 0.9015065 (1312)\ttotal: 14m 56s\tremaining: 7m 32s\n",
      "1329:\tlearn: 0.9603144\ttest: 0.9015065\tbest: 0.9015065 (1312)\ttotal: 14m 57s\tremaining: 7m 31s\n",
      "1330:\tlearn: 0.9604197\ttest: 0.9015065\tbest: 0.9015065 (1312)\ttotal: 14m 57s\tremaining: 7m 31s\n",
      "1331:\tlearn: 0.9604197\ttest: 0.9015065\tbest: 0.9015065 (1312)\ttotal: 14m 58s\tremaining: 7m 30s\n",
      "1332:\tlearn: 0.9604197\ttest: 0.9015065\tbest: 0.9015065 (1312)\ttotal: 14m 59s\tremaining: 7m 29s\n",
      "1333:\tlearn: 0.9604197\ttest: 0.9015065\tbest: 0.9015065 (1312)\ttotal: 14m 59s\tremaining: 7m 29s\n",
      "1334:\tlearn: 0.9603495\ttest: 0.9014246\tbest: 0.9015065 (1312)\ttotal: 15m\tremaining: 7m 28s\n",
      "1335:\tlearn: 0.9603495\ttest: 0.9016702\tbest: 0.9016702 (1335)\ttotal: 15m 1s\tremaining: 7m 27s\n",
      "1336:\tlearn: 0.9604197\ttest: 0.9017521\tbest: 0.9017521 (1336)\ttotal: 15m 1s\tremaining: 7m 27s\n",
      "1337:\tlearn: 0.9603846\ttest: 0.9018340\tbest: 0.9018340 (1337)\ttotal: 15m 2s\tremaining: 7m 26s\n",
      "1338:\tlearn: 0.9603495\ttest: 0.9016702\tbest: 0.9018340 (1337)\ttotal: 15m 3s\tremaining: 7m 25s\n",
      "1339:\tlearn: 0.9604548\ttest: 0.9019158\tbest: 0.9019158 (1339)\ttotal: 15m 3s\tremaining: 7m 25s\n",
      "1340:\tlearn: 0.9606302\ttest: 0.9019977\tbest: 0.9019977 (1340)\ttotal: 15m 4s\tremaining: 7m 24s\n",
      "1341:\tlearn: 0.9605600\ttest: 0.9019158\tbest: 0.9019977 (1340)\ttotal: 15m 5s\tremaining: 7m 23s\n",
      "1342:\tlearn: 0.9605600\ttest: 0.9019158\tbest: 0.9019977 (1340)\ttotal: 15m 5s\tremaining: 7m 23s\n",
      "1343:\tlearn: 0.9604548\ttest: 0.9014246\tbest: 0.9019977 (1340)\ttotal: 15m 6s\tremaining: 7m 22s\n",
      "1344:\tlearn: 0.9607004\ttest: 0.9018340\tbest: 0.9019977 (1340)\ttotal: 15m 7s\tremaining: 7m 21s\n",
      "1345:\tlearn: 0.9602091\ttest: 0.9017521\tbest: 0.9019977 (1340)\ttotal: 15m 7s\tremaining: 7m 21s\n",
      "1346:\tlearn: 0.9602091\ttest: 0.9017521\tbest: 0.9019977 (1340)\ttotal: 15m 8s\tremaining: 7m 20s\n",
      "1347:\tlearn: 0.9602793\ttest: 0.9018340\tbest: 0.9019977 (1340)\ttotal: 15m 9s\tremaining: 7m 19s\n",
      "1348:\tlearn: 0.9603846\ttest: 0.9015883\tbest: 0.9019977 (1340)\ttotal: 15m 9s\tremaining: 7m 19s\n",
      "1349:\tlearn: 0.9603846\ttest: 0.9015883\tbest: 0.9019977 (1340)\ttotal: 15m 10s\tremaining: 7m 18s\n",
      "1350:\tlearn: 0.9603846\ttest: 0.9015883\tbest: 0.9019977 (1340)\ttotal: 15m 11s\tremaining: 7m 17s\n",
      "1351:\tlearn: 0.9606653\ttest: 0.9019158\tbest: 0.9019977 (1340)\ttotal: 15m 11s\tremaining: 7m 17s\n",
      "1352:\tlearn: 0.9606302\ttest: 0.9024889\tbest: 0.9024889 (1352)\ttotal: 15m 12s\tremaining: 7m 16s\n",
      "1353:\tlearn: 0.9606302\ttest: 0.9024889\tbest: 0.9024889 (1352)\ttotal: 15m 13s\tremaining: 7m 15s\n",
      "1354:\tlearn: 0.9606653\ttest: 0.9026527\tbest: 0.9026527 (1354)\ttotal: 15m 13s\tremaining: 7m 15s\n",
      "1355:\tlearn: 0.9605951\ttest: 0.9023252\tbest: 0.9026527 (1354)\ttotal: 15m 14s\tremaining: 7m 14s\n",
      "1356:\tlearn: 0.9606653\ttest: 0.9026527\tbest: 0.9026527 (1354)\ttotal: 15m 15s\tremaining: 7m 13s\n",
      "1357:\tlearn: 0.9607706\ttest: 0.9024071\tbest: 0.9026527 (1354)\ttotal: 15m 15s\tremaining: 7m 13s\n",
      "1358:\tlearn: 0.9609460\ttest: 0.9029802\tbest: 0.9029802 (1358)\ttotal: 15m 16s\tremaining: 7m 12s\n",
      "1359:\tlearn: 0.9609811\ttest: 0.9028983\tbest: 0.9029802 (1358)\ttotal: 15m 17s\tremaining: 7m 11s\n",
      "1360:\tlearn: 0.9610864\ttest: 0.9028983\tbest: 0.9029802 (1358)\ttotal: 15m 18s\tremaining: 7m 11s\n",
      "1361:\tlearn: 0.9610162\ttest: 0.9030621\tbest: 0.9030621 (1361)\ttotal: 15m 18s\tremaining: 7m 10s\n",
      "1362:\tlearn: 0.9609811\ttest: 0.9028983\tbest: 0.9030621 (1361)\ttotal: 15m 19s\tremaining: 7m 9s\n",
      "1363:\tlearn: 0.9609811\ttest: 0.9028983\tbest: 0.9030621 (1361)\ttotal: 15m 19s\tremaining: 7m 8s\n",
      "1364:\tlearn: 0.9610513\ttest: 0.9029802\tbest: 0.9030621 (1361)\ttotal: 15m 20s\tremaining: 7m 8s\n",
      "1365:\tlearn: 0.9614723\ttest: 0.9039627\tbest: 0.9039627 (1365)\ttotal: 15m 21s\tremaining: 7m 7s\n",
      "1366:\tlearn: 0.9614723\ttest: 0.9039627\tbest: 0.9039627 (1365)\ttotal: 15m 22s\tremaining: 7m 6s\n",
      "1367:\tlearn: 0.9614723\ttest: 0.9039627\tbest: 0.9039627 (1365)\ttotal: 15m 22s\tremaining: 7m 6s\n",
      "1368:\tlearn: 0.9615425\ttest: 0.9040445\tbest: 0.9040445 (1368)\ttotal: 15m 23s\tremaining: 7m 5s\n",
      "1369:\tlearn: 0.9616829\ttest: 0.9039627\tbest: 0.9040445 (1368)\ttotal: 15m 24s\tremaining: 7m 4s\n",
      "1370:\tlearn: 0.9615776\ttest: 0.9039627\tbest: 0.9040445 (1368)\ttotal: 15m 24s\tremaining: 7m 4s\n",
      "1371:\tlearn: 0.9615776\ttest: 0.9039627\tbest: 0.9040445 (1368)\ttotal: 15m 25s\tremaining: 7m 3s\n",
      "1372:\tlearn: 0.9616829\ttest: 0.9044539\tbest: 0.9044539 (1372)\ttotal: 15m 26s\tremaining: 7m 2s\n",
      "1373:\tlearn: 0.9616127\ttest: 0.9043720\tbest: 0.9044539 (1372)\ttotal: 15m 26s\tremaining: 7m 2s\n",
      "1374:\tlearn: 0.9616829\ttest: 0.9044539\tbest: 0.9044539 (1372)\ttotal: 15m 27s\tremaining: 7m 1s\n",
      "1375:\tlearn: 0.9616478\ttest: 0.9042902\tbest: 0.9044539 (1372)\ttotal: 15m 28s\tremaining: 7m\n",
      "1376:\tlearn: 0.9617530\ttest: 0.9045358\tbest: 0.9045358 (1376)\ttotal: 15m 28s\tremaining: 7m\n",
      "1377:\tlearn: 0.9617530\ttest: 0.9042902\tbest: 0.9045358 (1376)\ttotal: 15m 29s\tremaining: 6m 59s\n",
      "1378:\tlearn: 0.9617530\ttest: 0.9042902\tbest: 0.9045358 (1376)\ttotal: 15m 30s\tremaining: 6m 58s\n",
      "1379:\tlearn: 0.9617881\ttest: 0.9044539\tbest: 0.9045358 (1376)\ttotal: 15m 30s\tremaining: 6m 58s\n",
      "1380:\tlearn: 0.9618934\ttest: 0.9044539\tbest: 0.9045358 (1376)\ttotal: 15m 31s\tremaining: 6m 57s\n",
      "1381:\tlearn: 0.9620338\ttest: 0.9048633\tbest: 0.9048633 (1381)\ttotal: 15m 32s\tremaining: 6m 56s\n",
      "1382:\tlearn: 0.9620338\ttest: 0.9048633\tbest: 0.9048633 (1381)\ttotal: 15m 32s\tremaining: 6m 56s\n",
      "1383:\tlearn: 0.9619987\ttest: 0.9046995\tbest: 0.9048633 (1381)\ttotal: 15m 33s\tremaining: 6m 55s\n",
      "1384:\tlearn: 0.9620338\ttest: 0.9046177\tbest: 0.9048633 (1381)\ttotal: 15m 34s\tremaining: 6m 54s\n",
      "1385:\tlearn: 0.9620688\ttest: 0.9047814\tbest: 0.9048633 (1381)\ttotal: 15m 34s\tremaining: 6m 54s\n",
      "1386:\tlearn: 0.9620688\ttest: 0.9047814\tbest: 0.9048633 (1381)\ttotal: 15m 35s\tremaining: 6m 53s\n",
      "1387:\tlearn: 0.9621039\ttest: 0.9049451\tbest: 0.9049451 (1387)\ttotal: 15m 36s\tremaining: 6m 52s\n",
      "1388:\tlearn: 0.9622092\ttest: 0.9049451\tbest: 0.9049451 (1387)\ttotal: 15m 36s\tremaining: 6m 52s\n",
      "1389:\tlearn: 0.9625601\ttest: 0.9046177\tbest: 0.9049451 (1387)\ttotal: 15m 37s\tremaining: 6m 51s\n",
      "1390:\tlearn: 0.9625601\ttest: 0.9046177\tbest: 0.9049451 (1387)\ttotal: 15m 38s\tremaining: 6m 50s\n",
      "1391:\tlearn: 0.9625952\ttest: 0.9050270\tbest: 0.9050270 (1391)\ttotal: 15m 38s\tremaining: 6m 50s\n",
      "1392:\tlearn: 0.9626654\ttest: 0.9051089\tbest: 0.9051089 (1392)\ttotal: 15m 39s\tremaining: 6m 49s\n",
      "1393:\tlearn: 0.9627004\ttest: 0.9052726\tbest: 0.9052726 (1393)\ttotal: 15m 40s\tremaining: 6m 48s\n",
      "1394:\tlearn: 0.9627355\ttest: 0.9054364\tbest: 0.9054364 (1394)\ttotal: 15m 40s\tremaining: 6m 48s\n",
      "1395:\tlearn: 0.9627355\ttest: 0.9046995\tbest: 0.9054364 (1394)\ttotal: 15m 41s\tremaining: 6m 47s\n",
      "1396:\tlearn: 0.9629461\ttest: 0.9056820\tbest: 0.9056820 (1396)\ttotal: 15m 42s\tremaining: 6m 46s\n",
      "1397:\tlearn: 0.9629461\ttest: 0.9056820\tbest: 0.9056820 (1396)\ttotal: 15m 42s\tremaining: 6m 46s\n",
      "1398:\tlearn: 0.9631566\ttest: 0.9061732\tbest: 0.9061732 (1398)\ttotal: 15m 43s\tremaining: 6m 45s\n",
      "1399:\tlearn: 0.9632619\ttest: 0.9064189\tbest: 0.9064189 (1399)\ttotal: 15m 44s\tremaining: 6m 44s\n",
      "1400:\tlearn: 0.9633320\ttest: 0.9065007\tbest: 0.9065007 (1400)\ttotal: 15m 44s\tremaining: 6m 44s\n",
      "1401:\tlearn: 0.9632970\ttest: 0.9063370\tbest: 0.9065007 (1400)\ttotal: 15m 45s\tremaining: 6m 43s\n",
      "1402:\tlearn: 0.9632619\ttest: 0.9064189\tbest: 0.9065007 (1400)\ttotal: 15m 46s\tremaining: 6m 42s\n",
      "1403:\tlearn: 0.9633320\ttest: 0.9065007\tbest: 0.9065007 (1400)\ttotal: 15m 46s\tremaining: 6m 41s\n",
      "1404:\tlearn: 0.9635777\ttest: 0.9059276\tbest: 0.9065007 (1400)\ttotal: 15m 47s\tremaining: 6m 41s\n",
      "1405:\tlearn: 0.9636478\ttest: 0.9060095\tbest: 0.9065007 (1400)\ttotal: 15m 48s\tremaining: 6m 40s\n",
      "1406:\tlearn: 0.9637180\ttest: 0.9060914\tbest: 0.9065007 (1400)\ttotal: 15m 48s\tremaining: 6m 39s\n",
      "1407:\tlearn: 0.9637180\ttest: 0.9060914\tbest: 0.9065007 (1400)\ttotal: 15m 49s\tremaining: 6m 39s\n",
      "1408:\tlearn: 0.9638233\ttest: 0.9060914\tbest: 0.9065007 (1400)\ttotal: 15m 50s\tremaining: 6m 38s\n",
      "1409:\tlearn: 0.9638233\ttest: 0.9060914\tbest: 0.9065007 (1400)\ttotal: 15m 50s\tremaining: 6m 37s\n",
      "1410:\tlearn: 0.9639987\ttest: 0.9066645\tbest: 0.9066645 (1410)\ttotal: 15m 51s\tremaining: 6m 37s\n",
      "1411:\tlearn: 0.9642093\ttest: 0.9066645\tbest: 0.9066645 (1410)\ttotal: 15m 52s\tremaining: 6m 36s\n",
      "1412:\tlearn: 0.9642794\ttest: 0.9067464\tbest: 0.9067464 (1412)\ttotal: 15m 53s\tremaining: 6m 35s\n",
      "1413:\tlearn: 0.9642794\ttest: 0.9067464\tbest: 0.9067464 (1412)\ttotal: 15m 53s\tremaining: 6m 35s\n",
      "1414:\tlearn: 0.9641040\ttest: 0.9064189\tbest: 0.9067464 (1412)\ttotal: 15m 54s\tremaining: 6m 34s\n",
      "1415:\tlearn: 0.9639987\ttest: 0.9064189\tbest: 0.9067464 (1412)\ttotal: 15m 55s\tremaining: 6m 33s\n",
      "1416:\tlearn: 0.9641391\ttest: 0.9063370\tbest: 0.9067464 (1412)\ttotal: 15m 55s\tremaining: 6m 33s\n",
      "1417:\tlearn: 0.9641742\ttest: 0.9065007\tbest: 0.9067464 (1412)\ttotal: 15m 56s\tremaining: 6m 32s\n",
      "1418:\tlearn: 0.9641742\ttest: 0.9065007\tbest: 0.9067464 (1412)\ttotal: 15m 57s\tremaining: 6m 31s\n",
      "1419:\tlearn: 0.9641742\ttest: 0.9065007\tbest: 0.9067464 (1412)\ttotal: 15m 57s\tremaining: 6m 31s\n",
      "1420:\tlearn: 0.9642794\ttest: 0.9065007\tbest: 0.9067464 (1412)\ttotal: 15m 58s\tremaining: 6m 30s\n",
      "1421:\tlearn: 0.9641391\ttest: 0.9065826\tbest: 0.9067464 (1412)\ttotal: 15m 59s\tremaining: 6m 29s\n",
      "1422:\tlearn: 0.9641391\ttest: 0.9065826\tbest: 0.9067464 (1412)\ttotal: 15m 59s\tremaining: 6m 29s\n",
      "1423:\tlearn: 0.9641391\ttest: 0.9065826\tbest: 0.9067464 (1412)\ttotal: 16m\tremaining: 6m 28s\n",
      "1424:\tlearn: 0.9641391\ttest: 0.9065826\tbest: 0.9067464 (1412)\ttotal: 16m 1s\tremaining: 6m 27s\n",
      "1425:\tlearn: 0.9643847\ttest: 0.9067464\tbest: 0.9067464 (1412)\ttotal: 16m 1s\tremaining: 6m 27s\n",
      "1426:\tlearn: 0.9643145\ttest: 0.9066645\tbest: 0.9067464 (1412)\ttotal: 16m 2s\tremaining: 6m 26s\n",
      "1427:\tlearn: 0.9645602\ttest: 0.9070738\tbest: 0.9070738 (1427)\ttotal: 16m 3s\tremaining: 6m 25s\n",
      "1428:\tlearn: 0.9645602\ttest: 0.9073195\tbest: 0.9073195 (1428)\ttotal: 16m 3s\tremaining: 6m 25s\n",
      "1429:\tlearn: 0.9644900\ttest: 0.9072376\tbest: 0.9073195 (1428)\ttotal: 16m 4s\tremaining: 6m 24s\n",
      "1430:\tlearn: 0.9644900\ttest: 0.9072376\tbest: 0.9073195 (1428)\ttotal: 16m 5s\tremaining: 6m 23s\n",
      "1431:\tlearn: 0.9643847\ttest: 0.9072376\tbest: 0.9073195 (1428)\ttotal: 16m 5s\tremaining: 6m 23s\n",
      "1432:\tlearn: 0.9643847\ttest: 0.9072376\tbest: 0.9073195 (1428)\ttotal: 16m 6s\tremaining: 6m 22s\n",
      "1433:\tlearn: 0.9643496\ttest: 0.9070738\tbest: 0.9073195 (1428)\ttotal: 16m 7s\tremaining: 6m 21s\n",
      "1434:\tlearn: 0.9643496\ttest: 0.9070738\tbest: 0.9073195 (1428)\ttotal: 16m 7s\tremaining: 6m 21s\n",
      "1435:\tlearn: 0.9643847\ttest: 0.9072376\tbest: 0.9073195 (1428)\ttotal: 16m 8s\tremaining: 6m 20s\n",
      "1436:\tlearn: 0.9643847\ttest: 0.9072376\tbest: 0.9073195 (1428)\ttotal: 16m 9s\tremaining: 6m 19s\n",
      "1437:\tlearn: 0.9643847\ttest: 0.9072376\tbest: 0.9073195 (1428)\ttotal: 16m 9s\tremaining: 6m 19s\n",
      "1438:\tlearn: 0.9643847\ttest: 0.9072376\tbest: 0.9073195 (1428)\ttotal: 16m 10s\tremaining: 6m 18s\n",
      "1439:\tlearn: 0.9645251\ttest: 0.9074013\tbest: 0.9074013 (1439)\ttotal: 16m 11s\tremaining: 6m 17s\n",
      "1440:\tlearn: 0.9645251\ttest: 0.9074013\tbest: 0.9074013 (1439)\ttotal: 16m 11s\tremaining: 6m 17s\n",
      "1441:\tlearn: 0.9645251\ttest: 0.9074013\tbest: 0.9074013 (1439)\ttotal: 16m 12s\tremaining: 6m 16s\n",
      "1442:\tlearn: 0.9644900\ttest: 0.9072376\tbest: 0.9074013 (1439)\ttotal: 16m 13s\tremaining: 6m 15s\n",
      "1443:\tlearn: 0.9645251\ttest: 0.9071557\tbest: 0.9074013 (1439)\ttotal: 16m 14s\tremaining: 6m 15s\n",
      "1444:\tlearn: 0.9645251\ttest: 0.9071557\tbest: 0.9074013 (1439)\ttotal: 16m 14s\tremaining: 6m 14s\n",
      "1445:\tlearn: 0.9645251\ttest: 0.9071557\tbest: 0.9074013 (1439)\ttotal: 16m 15s\tremaining: 6m 13s\n",
      "1446:\tlearn: 0.9645952\ttest: 0.9074832\tbest: 0.9074832 (1446)\ttotal: 16m 16s\tremaining: 6m 13s\n",
      "1447:\tlearn: 0.9648409\ttest: 0.9076470\tbest: 0.9076470 (1447)\ttotal: 16m 16s\tremaining: 6m 12s\n",
      "1448:\tlearn: 0.9647356\ttest: 0.9074013\tbest: 0.9076470 (1447)\ttotal: 16m 17s\tremaining: 6m 11s\n",
      "1449:\tlearn: 0.9648058\ttest: 0.9074832\tbest: 0.9076470 (1447)\ttotal: 16m 18s\tremaining: 6m 10s\n",
      "1450:\tlearn: 0.9648058\ttest: 0.9074832\tbest: 0.9076470 (1447)\ttotal: 16m 18s\tremaining: 6m 10s\n",
      "1451:\tlearn: 0.9648058\ttest: 0.9074832\tbest: 0.9076470 (1447)\ttotal: 16m 19s\tremaining: 6m 9s\n",
      "1452:\tlearn: 0.9646654\ttest: 0.9073195\tbest: 0.9076470 (1447)\ttotal: 16m 20s\tremaining: 6m 8s\n",
      "1453:\tlearn: 0.9647356\ttest: 0.9074013\tbest: 0.9076470 (1447)\ttotal: 16m 20s\tremaining: 6m 8s\n",
      "1454:\tlearn: 0.9649812\ttest: 0.9073195\tbest: 0.9076470 (1447)\ttotal: 16m 21s\tremaining: 6m 7s\n",
      "1455:\tlearn: 0.9649812\ttest: 0.9073195\tbest: 0.9076470 (1447)\ttotal: 16m 22s\tremaining: 6m 6s\n",
      "1456:\tlearn: 0.9649812\ttest: 0.9073195\tbest: 0.9076470 (1447)\ttotal: 16m 22s\tremaining: 6m 6s\n",
      "1457:\tlearn: 0.9649812\ttest: 0.9073195\tbest: 0.9076470 (1447)\ttotal: 16m 23s\tremaining: 6m 5s\n",
      "1458:\tlearn: 0.9649812\ttest: 0.9073195\tbest: 0.9076470 (1447)\ttotal: 16m 24s\tremaining: 6m 4s\n",
      "1459:\tlearn: 0.9650514\ttest: 0.9074013\tbest: 0.9076470 (1447)\ttotal: 16m 24s\tremaining: 6m 4s\n",
      "1460:\tlearn: 0.9654023\ttest: 0.9083019\tbest: 0.9083019 (1460)\ttotal: 16m 25s\tremaining: 6m 3s\n",
      "1461:\tlearn: 0.9654023\ttest: 0.9078107\tbest: 0.9083019 (1460)\ttotal: 16m 26s\tremaining: 6m 2s\n",
      "1462:\tlearn: 0.9655076\ttest: 0.9080563\tbest: 0.9083019 (1460)\ttotal: 16m 26s\tremaining: 6m 2s\n",
      "1463:\tlearn: 0.9655076\ttest: 0.9080563\tbest: 0.9083019 (1460)\ttotal: 16m 27s\tremaining: 6m 1s\n",
      "1464:\tlearn: 0.9654725\ttest: 0.9078926\tbest: 0.9083019 (1460)\ttotal: 16m 28s\tremaining: 6m\n",
      "1465:\tlearn: 0.9654725\ttest: 0.9074013\tbest: 0.9083019 (1460)\ttotal: 16m 28s\tremaining: 6m\n",
      "1466:\tlearn: 0.9655076\ttest: 0.9075651\tbest: 0.9083019 (1460)\ttotal: 16m 29s\tremaining: 5m 59s\n",
      "1467:\tlearn: 0.9655076\ttest: 0.9075651\tbest: 0.9083019 (1460)\ttotal: 16m 30s\tremaining: 5m 58s\n",
      "1468:\tlearn: 0.9656479\ttest: 0.9077288\tbest: 0.9083019 (1460)\ttotal: 16m 30s\tremaining: 5m 58s\n",
      "1469:\tlearn: 0.9656128\ttest: 0.9078107\tbest: 0.9083019 (1460)\ttotal: 16m 31s\tremaining: 5m 57s\n",
      "1470:\tlearn: 0.9656128\ttest: 0.9078107\tbest: 0.9083019 (1460)\ttotal: 16m 32s\tremaining: 5m 56s\n",
      "1471:\tlearn: 0.9659988\ttest: 0.9081382\tbest: 0.9083019 (1460)\ttotal: 16m 32s\tremaining: 5m 56s\n",
      "1472:\tlearn: 0.9660339\ttest: 0.9083019\tbest: 0.9083019 (1460)\ttotal: 16m 33s\tremaining: 5m 55s\n",
      "1473:\tlearn: 0.9659637\ttest: 0.9084657\tbest: 0.9084657 (1473)\ttotal: 16m 34s\tremaining: 5m 54s\n",
      "1474:\tlearn: 0.9660339\ttest: 0.9085476\tbest: 0.9085476 (1474)\ttotal: 16m 34s\tremaining: 5m 54s\n",
      "1475:\tlearn: 0.9660339\ttest: 0.9085476\tbest: 0.9085476 (1474)\ttotal: 16m 35s\tremaining: 5m 53s\n",
      "1476:\tlearn: 0.9657883\ttest: 0.9081382\tbest: 0.9085476 (1474)\ttotal: 16m 36s\tremaining: 5m 52s\n",
      "1477:\tlearn: 0.9657883\ttest: 0.9086294\tbest: 0.9086294 (1477)\ttotal: 16m 36s\tremaining: 5m 52s\n",
      "1478:\tlearn: 0.9657883\ttest: 0.9086294\tbest: 0.9086294 (1477)\ttotal: 16m 37s\tremaining: 5m 51s\n",
      "1479:\tlearn: 0.9658234\ttest: 0.9087932\tbest: 0.9087932 (1479)\ttotal: 16m 38s\tremaining: 5m 50s\n",
      "1480:\tlearn: 0.9665251\ttest: 0.9101032\tbest: 0.9101032 (1480)\ttotal: 16m 38s\tremaining: 5m 50s\n",
      "1481:\tlearn: 0.9667357\ttest: 0.9098575\tbest: 0.9101032 (1480)\ttotal: 16m 39s\tremaining: 5m 49s\n",
      "1482:\tlearn: 0.9667357\ttest: 0.9098575\tbest: 0.9101032 (1480)\ttotal: 16m 40s\tremaining: 5m 48s\n",
      "1483:\tlearn: 0.9666655\ttest: 0.9097757\tbest: 0.9101032 (1480)\ttotal: 16m 41s\tremaining: 5m 48s\n",
      "1484:\tlearn: 0.9666655\ttest: 0.9097757\tbest: 0.9101032 (1480)\ttotal: 16m 41s\tremaining: 5m 47s\n",
      "1485:\tlearn: 0.9665953\ttest: 0.9096938\tbest: 0.9101032 (1480)\ttotal: 16m 42s\tremaining: 5m 46s\n",
      "1486:\tlearn: 0.9664901\ttest: 0.9094482\tbest: 0.9101032 (1480)\ttotal: 16m 43s\tremaining: 5m 46s\n",
      "1487:\tlearn: 0.9665602\ttest: 0.9095300\tbest: 0.9101032 (1480)\ttotal: 16m 43s\tremaining: 5m 45s\n",
      "1488:\tlearn: 0.9666304\ttest: 0.9096119\tbest: 0.9101032 (1480)\ttotal: 16m 44s\tremaining: 5m 44s\n",
      "1489:\tlearn: 0.9667708\ttest: 0.9097757\tbest: 0.9101032 (1480)\ttotal: 16m 45s\tremaining: 5m 44s\n",
      "1490:\tlearn: 0.9668059\ttest: 0.9099394\tbest: 0.9101032 (1480)\ttotal: 16m 45s\tremaining: 5m 43s\n",
      "1491:\tlearn: 0.9668409\ttest: 0.9101032\tbest: 0.9101032 (1480)\ttotal: 16m 46s\tremaining: 5m 42s\n",
      "1492:\tlearn: 0.9669111\ttest: 0.9101850\tbest: 0.9101850 (1492)\ttotal: 16m 47s\tremaining: 5m 41s\n",
      "1493:\tlearn: 0.9669462\ttest: 0.9103488\tbest: 0.9103488 (1493)\ttotal: 16m 47s\tremaining: 5m 41s\n",
      "1494:\tlearn: 0.9669462\ttest: 0.9103488\tbest: 0.9103488 (1493)\ttotal: 16m 48s\tremaining: 5m 40s\n",
      "1495:\tlearn: 0.9668059\ttest: 0.9104307\tbest: 0.9104307 (1495)\ttotal: 16m 49s\tremaining: 5m 39s\n",
      "1496:\tlearn: 0.9668059\ttest: 0.9104307\tbest: 0.9104307 (1495)\ttotal: 16m 49s\tremaining: 5m 39s\n",
      "1497:\tlearn: 0.9673322\ttest: 0.9106763\tbest: 0.9106763 (1497)\ttotal: 16m 50s\tremaining: 5m 38s\n",
      "1498:\tlearn: 0.9672971\ttest: 0.9105125\tbest: 0.9106763 (1497)\ttotal: 16m 51s\tremaining: 5m 37s\n",
      "1499:\tlearn: 0.9676831\ttest: 0.9110856\tbest: 0.9110856 (1499)\ttotal: 16m 51s\tremaining: 5m 37s\n",
      "1500:\tlearn: 0.9676831\ttest: 0.9110856\tbest: 0.9110856 (1499)\ttotal: 16m 52s\tremaining: 5m 36s\n",
      "1501:\tlearn: 0.9676480\ttest: 0.9109219\tbest: 0.9110856 (1499)\ttotal: 16m 53s\tremaining: 5m 35s\n",
      "1502:\tlearn: 0.9676831\ttest: 0.9110856\tbest: 0.9110856 (1499)\ttotal: 16m 53s\tremaining: 5m 35s\n",
      "1503:\tlearn: 0.9676831\ttest: 0.9110856\tbest: 0.9110856 (1499)\ttotal: 16m 54s\tremaining: 5m 34s\n",
      "1504:\tlearn: 0.9676129\ttest: 0.9112494\tbest: 0.9112494 (1504)\ttotal: 16m 55s\tremaining: 5m 33s\n",
      "1505:\tlearn: 0.9677533\ttest: 0.9114131\tbest: 0.9114131 (1505)\ttotal: 16m 55s\tremaining: 5m 33s\n",
      "1506:\tlearn: 0.9677533\ttest: 0.9114131\tbest: 0.9114131 (1505)\ttotal: 16m 56s\tremaining: 5m 32s\n",
      "1507:\tlearn: 0.9681041\ttest: 0.9118225\tbest: 0.9118225 (1507)\ttotal: 16m 57s\tremaining: 5m 31s\n",
      "1508:\tlearn: 0.9679638\ttest: 0.9116588\tbest: 0.9118225 (1507)\ttotal: 16m 57s\tremaining: 5m 31s\n",
      "1509:\tlearn: 0.9679989\ttest: 0.9118225\tbest: 0.9118225 (1507)\ttotal: 16m 58s\tremaining: 5m 30s\n",
      "1510:\tlearn: 0.9679638\ttest: 0.9116588\tbest: 0.9118225 (1507)\ttotal: 16m 59s\tremaining: 5m 29s\n",
      "1511:\tlearn: 0.9679638\ttest: 0.9116588\tbest: 0.9118225 (1507)\ttotal: 16m 59s\tremaining: 5m 29s\n",
      "1512:\tlearn: 0.9679638\ttest: 0.9116588\tbest: 0.9118225 (1507)\ttotal: 17m\tremaining: 5m 28s\n",
      "1513:\tlearn: 0.9678936\ttest: 0.9118225\tbest: 0.9118225 (1507)\ttotal: 17m 1s\tremaining: 5m 27s\n",
      "1514:\tlearn: 0.9681392\ttest: 0.9119862\tbest: 0.9119862 (1514)\ttotal: 17m 1s\tremaining: 5m 27s\n",
      "1515:\tlearn: 0.9684199\ttest: 0.9123137\tbest: 0.9123137 (1515)\ttotal: 17m 2s\tremaining: 5m 26s\n",
      "1516:\tlearn: 0.9682796\ttest: 0.9121500\tbest: 0.9123137 (1515)\ttotal: 17m 3s\tremaining: 5m 25s\n",
      "1517:\tlearn: 0.9682094\ttest: 0.9120681\tbest: 0.9123137 (1515)\ttotal: 17m 3s\tremaining: 5m 25s\n",
      "1518:\tlearn: 0.9681392\ttest: 0.9119862\tbest: 0.9123137 (1515)\ttotal: 17m 4s\tremaining: 5m 24s\n",
      "1519:\tlearn: 0.9682445\ttest: 0.9119862\tbest: 0.9123137 (1515)\ttotal: 17m 5s\tremaining: 5m 23s\n",
      "1520:\tlearn: 0.9682796\ttest: 0.9121500\tbest: 0.9123137 (1515)\ttotal: 17m 5s\tremaining: 5m 23s\n",
      "1521:\tlearn: 0.9683498\ttest: 0.9124775\tbest: 0.9124775 (1521)\ttotal: 17m 6s\tremaining: 5m 22s\n",
      "1522:\tlearn: 0.9684199\ttest: 0.9123137\tbest: 0.9124775 (1521)\ttotal: 17m 7s\tremaining: 5m 21s\n",
      "1523:\tlearn: 0.9684199\ttest: 0.9123137\tbest: 0.9124775 (1521)\ttotal: 17m 7s\tremaining: 5m 21s\n",
      "1524:\tlearn: 0.9682796\ttest: 0.9119044\tbest: 0.9124775 (1521)\ttotal: 17m 8s\tremaining: 5m 20s\n",
      "1525:\tlearn: 0.9682094\ttest: 0.9118225\tbest: 0.9124775 (1521)\ttotal: 17m 9s\tremaining: 5m 19s\n",
      "1526:\tlearn: 0.9682796\ttest: 0.9119044\tbest: 0.9124775 (1521)\ttotal: 17m 9s\tremaining: 5m 19s\n",
      "1527:\tlearn: 0.9682094\ttest: 0.9118225\tbest: 0.9124775 (1521)\ttotal: 17m 10s\tremaining: 5m 18s\n",
      "1528:\tlearn: 0.9681743\ttest: 0.9119044\tbest: 0.9124775 (1521)\ttotal: 17m 11s\tremaining: 5m 17s\n",
      "1529:\tlearn: 0.9681743\ttest: 0.9119044\tbest: 0.9124775 (1521)\ttotal: 17m 11s\tremaining: 5m 16s\n",
      "1530:\tlearn: 0.9681041\ttest: 0.9118225\tbest: 0.9124775 (1521)\ttotal: 17m 12s\tremaining: 5m 16s\n",
      "1531:\tlearn: 0.9680691\ttest: 0.9119044\tbest: 0.9124775 (1521)\ttotal: 17m 13s\tremaining: 5m 15s\n",
      "1532:\tlearn: 0.9681041\ttest: 0.9120681\tbest: 0.9124775 (1521)\ttotal: 17m 13s\tremaining: 5m 14s\n",
      "1533:\tlearn: 0.9681392\ttest: 0.9117406\tbest: 0.9124775 (1521)\ttotal: 17m 14s\tremaining: 5m 14s\n",
      "1534:\tlearn: 0.9681392\ttest: 0.9117406\tbest: 0.9124775 (1521)\ttotal: 17m 15s\tremaining: 5m 13s\n",
      "1535:\tlearn: 0.9681392\ttest: 0.9117406\tbest: 0.9124775 (1521)\ttotal: 17m 15s\tremaining: 5m 12s\n",
      "1536:\tlearn: 0.9681392\ttest: 0.9117406\tbest: 0.9124775 (1521)\ttotal: 17m 16s\tremaining: 5m 12s\n",
      "1537:\tlearn: 0.9682094\ttest: 0.9120681\tbest: 0.9124775 (1521)\ttotal: 17m 17s\tremaining: 5m 11s\n",
      "1538:\tlearn: 0.9684199\ttest: 0.9123137\tbest: 0.9124775 (1521)\ttotal: 17m 17s\tremaining: 5m 10s\n",
      "1539:\tlearn: 0.9684901\ttest: 0.9121500\tbest: 0.9124775 (1521)\ttotal: 17m 18s\tremaining: 5m 10s\n",
      "1540:\tlearn: 0.9685954\ttest: 0.9123956\tbest: 0.9124775 (1521)\ttotal: 17m 19s\tremaining: 5m 9s\n",
      "1541:\tlearn: 0.9685954\ttest: 0.9123956\tbest: 0.9124775 (1521)\ttotal: 17m 19s\tremaining: 5m 8s\n",
      "1542:\tlearn: 0.9687708\ttest: 0.9124775\tbest: 0.9124775 (1521)\ttotal: 17m 20s\tremaining: 5m 8s\n",
      "1543:\tlearn: 0.9687357\ttest: 0.9123137\tbest: 0.9124775 (1521)\ttotal: 17m 21s\tremaining: 5m 7s\n",
      "1544:\tlearn: 0.9687708\ttest: 0.9127231\tbest: 0.9127231 (1544)\ttotal: 17m 21s\tremaining: 5m 6s\n",
      "1545:\tlearn: 0.9688059\ttest: 0.9126412\tbest: 0.9127231 (1544)\ttotal: 17m 22s\tremaining: 5m 6s\n",
      "1546:\tlearn: 0.9687357\ttest: 0.9128050\tbest: 0.9128050 (1546)\ttotal: 17m 23s\tremaining: 5m 5s\n",
      "1547:\tlearn: 0.9688059\ttest: 0.9128869\tbest: 0.9128869 (1547)\ttotal: 17m 24s\tremaining: 5m 4s\n",
      "1548:\tlearn: 0.9688410\ttest: 0.9130506\tbest: 0.9130506 (1548)\ttotal: 17m 24s\tremaining: 5m 4s\n",
      "1549:\tlearn: 0.9688059\ttest: 0.9131325\tbest: 0.9131325 (1549)\ttotal: 17m 25s\tremaining: 5m 3s\n",
      "1550:\tlearn: 0.9688059\ttest: 0.9131325\tbest: 0.9131325 (1549)\ttotal: 17m 26s\tremaining: 5m 2s\n",
      "1551:\tlearn: 0.9688410\ttest: 0.9132962\tbest: 0.9132962 (1551)\ttotal: 17m 26s\tremaining: 5m 2s\n",
      "1552:\tlearn: 0.9687708\ttest: 0.9132143\tbest: 0.9132962 (1551)\ttotal: 17m 27s\tremaining: 5m 1s\n",
      "1553:\tlearn: 0.9687708\ttest: 0.9132143\tbest: 0.9132962 (1551)\ttotal: 17m 28s\tremaining: 5m\n",
      "1554:\tlearn: 0.9688410\ttest: 0.9132962\tbest: 0.9132962 (1551)\ttotal: 17m 28s\tremaining: 5m\n",
      "1555:\tlearn: 0.9688410\ttest: 0.9132962\tbest: 0.9132962 (1551)\ttotal: 17m 29s\tremaining: 4m 59s\n",
      "1556:\tlearn: 0.9689112\ttest: 0.9133781\tbest: 0.9133781 (1556)\ttotal: 17m 29s\tremaining: 4m 58s\n",
      "1557:\tlearn: 0.9690515\ttest: 0.9135418\tbest: 0.9135418 (1557)\ttotal: 17m 30s\tremaining: 4m 58s\n",
      "1558:\tlearn: 0.9690515\ttest: 0.9135418\tbest: 0.9135418 (1557)\ttotal: 17m 31s\tremaining: 4m 57s\n",
      "1559:\tlearn: 0.9690515\ttest: 0.9135418\tbest: 0.9135418 (1557)\ttotal: 17m 31s\tremaining: 4m 56s\n",
      "1560:\tlearn: 0.9691217\ttest: 0.9136237\tbest: 0.9136237 (1560)\ttotal: 17m 32s\tremaining: 4m 56s\n",
      "1561:\tlearn: 0.9691217\ttest: 0.9136237\tbest: 0.9136237 (1560)\ttotal: 17m 33s\tremaining: 4m 55s\n",
      "1562:\tlearn: 0.9692621\ttest: 0.9137875\tbest: 0.9137875 (1562)\ttotal: 17m 34s\tremaining: 4m 54s\n",
      "1563:\tlearn: 0.9692621\ttest: 0.9137875\tbest: 0.9137875 (1562)\ttotal: 17m 34s\tremaining: 4m 54s\n",
      "1564:\tlearn: 0.9692621\ttest: 0.9137875\tbest: 0.9137875 (1562)\ttotal: 17m 35s\tremaining: 4m 53s\n",
      "1565:\tlearn: 0.9692621\ttest: 0.9137875\tbest: 0.9137875 (1562)\ttotal: 17m 35s\tremaining: 4m 52s\n",
      "1566:\tlearn: 0.9691919\ttest: 0.9137056\tbest: 0.9137875 (1562)\ttotal: 17m 36s\tremaining: 4m 51s\n",
      "1567:\tlearn: 0.9692621\ttest: 0.9137875\tbest: 0.9137875 (1562)\ttotal: 17m 37s\tremaining: 4m 51s\n",
      "1568:\tlearn: 0.9692621\ttest: 0.9137875\tbest: 0.9137875 (1562)\ttotal: 17m 37s\tremaining: 4m 50s\n",
      "1569:\tlearn: 0.9692270\ttest: 0.9136237\tbest: 0.9137875 (1562)\ttotal: 17m 38s\tremaining: 4m 49s\n",
      "1570:\tlearn: 0.9692621\ttest: 0.9137875\tbest: 0.9137875 (1562)\ttotal: 17m 39s\tremaining: 4m 49s\n",
      "1571:\tlearn: 0.9692270\ttest: 0.9136237\tbest: 0.9137875 (1562)\ttotal: 17m 39s\tremaining: 4m 48s\n",
      "1572:\tlearn: 0.9693323\ttest: 0.9138693\tbest: 0.9138693 (1572)\ttotal: 17m 40s\tremaining: 4m 47s\n",
      "1573:\tlearn: 0.9693323\ttest: 0.9138693\tbest: 0.9138693 (1572)\ttotal: 17m 41s\tremaining: 4m 47s\n",
      "1574:\tlearn: 0.9694726\ttest: 0.9140331\tbest: 0.9140331 (1574)\ttotal: 17m 42s\tremaining: 4m 46s\n",
      "1575:\tlearn: 0.9695428\ttest: 0.9141150\tbest: 0.9141150 (1575)\ttotal: 17m 42s\tremaining: 4m 45s\n",
      "1576:\tlearn: 0.9696130\ttest: 0.9141968\tbest: 0.9141968 (1576)\ttotal: 17m 43s\tremaining: 4m 45s\n",
      "1577:\tlearn: 0.9696130\ttest: 0.9141968\tbest: 0.9141968 (1576)\ttotal: 17m 44s\tremaining: 4m 44s\n",
      "1578:\tlearn: 0.9695077\ttest: 0.9139512\tbest: 0.9141968 (1576)\ttotal: 17m 44s\tremaining: 4m 43s\n",
      "1579:\tlearn: 0.9695077\ttest: 0.9139512\tbest: 0.9141968 (1576)\ttotal: 17m 45s\tremaining: 4m 43s\n",
      "1580:\tlearn: 0.9695077\ttest: 0.9139512\tbest: 0.9141968 (1576)\ttotal: 17m 46s\tremaining: 4m 42s\n",
      "1581:\tlearn: 0.9695077\ttest: 0.9139512\tbest: 0.9141968 (1576)\ttotal: 17m 46s\tremaining: 4m 41s\n",
      "1582:\tlearn: 0.9695077\ttest: 0.9139512\tbest: 0.9141968 (1576)\ttotal: 17m 47s\tremaining: 4m 41s\n",
      "1583:\tlearn: 0.9695077\ttest: 0.9139512\tbest: 0.9141968 (1576)\ttotal: 17m 48s\tremaining: 4m 40s\n",
      "1584:\tlearn: 0.9697533\ttest: 0.9141150\tbest: 0.9141968 (1576)\ttotal: 17m 48s\tremaining: 4m 39s\n",
      "1585:\tlearn: 0.9697533\ttest: 0.9141150\tbest: 0.9141968 (1576)\ttotal: 17m 49s\tremaining: 4m 39s\n",
      "1586:\tlearn: 0.9697182\ttest: 0.9139512\tbest: 0.9141968 (1576)\ttotal: 17m 49s\tremaining: 4m 38s\n",
      "1587:\tlearn: 0.9697182\ttest: 0.9139512\tbest: 0.9141968 (1576)\ttotal: 17m 50s\tremaining: 4m 37s\n",
      "1588:\tlearn: 0.9697182\ttest: 0.9139512\tbest: 0.9141968 (1576)\ttotal: 17m 51s\tremaining: 4m 37s\n",
      "1589:\tlearn: 0.9697884\ttest: 0.9140331\tbest: 0.9141968 (1576)\ttotal: 17m 52s\tremaining: 4m 36s\n",
      "1590:\tlearn: 0.9697884\ttest: 0.9140331\tbest: 0.9141968 (1576)\ttotal: 17m 52s\tremaining: 4m 35s\n",
      "1591:\tlearn: 0.9697182\ttest: 0.9141968\tbest: 0.9141968 (1576)\ttotal: 17m 53s\tremaining: 4m 35s\n",
      "1592:\tlearn: 0.9698586\ttest: 0.9138693\tbest: 0.9141968 (1576)\ttotal: 17m 54s\tremaining: 4m 34s\n",
      "1593:\tlearn: 0.9699288\ttest: 0.9139512\tbest: 0.9141968 (1576)\ttotal: 17m 54s\tremaining: 4m 33s\n",
      "1594:\tlearn: 0.9699288\ttest: 0.9139512\tbest: 0.9141968 (1576)\ttotal: 17m 55s\tremaining: 4m 33s\n",
      "1595:\tlearn: 0.9699639\ttest: 0.9141150\tbest: 0.9141968 (1576)\ttotal: 17m 56s\tremaining: 4m 32s\n",
      "1596:\tlearn: 0.9700340\ttest: 0.9141968\tbest: 0.9141968 (1576)\ttotal: 17m 56s\tremaining: 4m 31s\n",
      "1597:\tlearn: 0.9700340\ttest: 0.9141968\tbest: 0.9141968 (1576)\ttotal: 17m 57s\tremaining: 4m 31s\n",
      "1598:\tlearn: 0.9700340\ttest: 0.9141968\tbest: 0.9141968 (1576)\ttotal: 17m 58s\tremaining: 4m 30s\n",
      "1599:\tlearn: 0.9701042\ttest: 0.9145243\tbest: 0.9145243 (1599)\ttotal: 17m 58s\tremaining: 4m 29s\n",
      "1600:\tlearn: 0.9701042\ttest: 0.9145243\tbest: 0.9145243 (1599)\ttotal: 17m 59s\tremaining: 4m 29s\n",
      "1601:\tlearn: 0.9701042\ttest: 0.9145243\tbest: 0.9145243 (1599)\ttotal: 18m\tremaining: 4m 28s\n",
      "1602:\tlearn: 0.9701042\ttest: 0.9145243\tbest: 0.9145243 (1599)\ttotal: 18m\tremaining: 4m 27s\n",
      "1603:\tlearn: 0.9701042\ttest: 0.9145243\tbest: 0.9145243 (1599)\ttotal: 18m 1s\tremaining: 4m 27s\n",
      "1604:\tlearn: 0.9701042\ttest: 0.9145243\tbest: 0.9145243 (1599)\ttotal: 18m 2s\tremaining: 4m 26s\n",
      "1605:\tlearn: 0.9700340\ttest: 0.9144424\tbest: 0.9145243 (1599)\ttotal: 18m 3s\tremaining: 4m 25s\n",
      "1606:\tlearn: 0.9701042\ttest: 0.9145243\tbest: 0.9145243 (1599)\ttotal: 18m 3s\tremaining: 4m 25s\n",
      "1607:\tlearn: 0.9701042\ttest: 0.9145243\tbest: 0.9145243 (1599)\ttotal: 18m 4s\tremaining: 4m 24s\n",
      "1608:\tlearn: 0.9701042\ttest: 0.9145243\tbest: 0.9145243 (1599)\ttotal: 18m 5s\tremaining: 4m 23s\n",
      "1609:\tlearn: 0.9701042\ttest: 0.9145243\tbest: 0.9145243 (1599)\ttotal: 18m 5s\tremaining: 4m 23s\n",
      "1610:\tlearn: 0.9702095\ttest: 0.9145243\tbest: 0.9145243 (1599)\ttotal: 18m 6s\tremaining: 4m 22s\n",
      "1611:\tlearn: 0.9702797\ttest: 0.9146062\tbest: 0.9146062 (1611)\ttotal: 18m 7s\tremaining: 4m 21s\n",
      "1612:\tlearn: 0.9702797\ttest: 0.9146062\tbest: 0.9146062 (1611)\ttotal: 18m 7s\tremaining: 4m 21s\n",
      "1613:\tlearn: 0.9702797\ttest: 0.9146062\tbest: 0.9146062 (1611)\ttotal: 18m 8s\tremaining: 4m 20s\n",
      "1614:\tlearn: 0.9702797\ttest: 0.9148518\tbest: 0.9148518 (1614)\ttotal: 18m 9s\tremaining: 4m 19s\n",
      "1615:\tlearn: 0.9705253\ttest: 0.9150156\tbest: 0.9150156 (1615)\ttotal: 18m 9s\tremaining: 4m 19s\n",
      "1616:\tlearn: 0.9704902\ttest: 0.9148518\tbest: 0.9150156 (1615)\ttotal: 18m 10s\tremaining: 4m 18s\n",
      "1617:\tlearn: 0.9704902\ttest: 0.9148518\tbest: 0.9150156 (1615)\ttotal: 18m 11s\tremaining: 4m 17s\n",
      "1618:\tlearn: 0.9704902\ttest: 0.9148518\tbest: 0.9150156 (1615)\ttotal: 18m 12s\tremaining: 4m 16s\n",
      "1619:\tlearn: 0.9704902\ttest: 0.9148518\tbest: 0.9150156 (1615)\ttotal: 18m 12s\tremaining: 4m 16s\n",
      "1620:\tlearn: 0.9705604\ttest: 0.9151793\tbest: 0.9151793 (1620)\ttotal: 18m 13s\tremaining: 4m 15s\n",
      "1621:\tlearn: 0.9706656\ttest: 0.9154249\tbest: 0.9154249 (1621)\ttotal: 18m 14s\tremaining: 4m 14s\n",
      "1622:\tlearn: 0.9706656\ttest: 0.9154249\tbest: 0.9154249 (1621)\ttotal: 18m 14s\tremaining: 4m 14s\n",
      "1623:\tlearn: 0.9706656\ttest: 0.9154249\tbest: 0.9154249 (1621)\ttotal: 18m 15s\tremaining: 4m 13s\n",
      "1624:\tlearn: 0.9706656\ttest: 0.9154249\tbest: 0.9154249 (1621)\ttotal: 18m 16s\tremaining: 4m 12s\n",
      "1625:\tlearn: 0.9707007\ttest: 0.9155887\tbest: 0.9155887 (1625)\ttotal: 18m 16s\tremaining: 4m 12s\n",
      "1626:\tlearn: 0.9708411\ttest: 0.9157524\tbest: 0.9157524 (1626)\ttotal: 18m 17s\tremaining: 4m 11s\n",
      "1627:\tlearn: 0.9707709\ttest: 0.9156705\tbest: 0.9157524 (1626)\ttotal: 18m 18s\tremaining: 4m 10s\n",
      "1628:\tlearn: 0.9708411\ttest: 0.9157524\tbest: 0.9157524 (1626)\ttotal: 18m 18s\tremaining: 4m 10s\n",
      "1629:\tlearn: 0.9709463\ttest: 0.9159980\tbest: 0.9159980 (1629)\ttotal: 18m 19s\tremaining: 4m 9s\n",
      "1630:\tlearn: 0.9709814\ttest: 0.9159162\tbest: 0.9159980 (1629)\ttotal: 18m 20s\tremaining: 4m 8s\n",
      "1631:\tlearn: 0.9708060\ttest: 0.9155887\tbest: 0.9159980 (1629)\ttotal: 18m 20s\tremaining: 4m 8s\n",
      "1632:\tlearn: 0.9708060\ttest: 0.9155887\tbest: 0.9159980 (1629)\ttotal: 18m 21s\tremaining: 4m 7s\n",
      "1633:\tlearn: 0.9708060\ttest: 0.9155887\tbest: 0.9159980 (1629)\ttotal: 18m 22s\tremaining: 4m 6s\n",
      "1634:\tlearn: 0.9708060\ttest: 0.9155887\tbest: 0.9159980 (1629)\ttotal: 18m 22s\tremaining: 4m 6s\n",
      "1635:\tlearn: 0.9708060\ttest: 0.9155887\tbest: 0.9159980 (1629)\ttotal: 18m 23s\tremaining: 4m 5s\n",
      "1636:\tlearn: 0.9708060\ttest: 0.9155887\tbest: 0.9159980 (1629)\ttotal: 18m 24s\tremaining: 4m 4s\n",
      "1637:\tlearn: 0.9708060\ttest: 0.9155887\tbest: 0.9159980 (1629)\ttotal: 18m 24s\tremaining: 4m 4s\n",
      "1638:\tlearn: 0.9708762\ttest: 0.9156705\tbest: 0.9159980 (1629)\ttotal: 18m 25s\tremaining: 4m 3s\n",
      "1639:\tlearn: 0.9708762\ttest: 0.9156705\tbest: 0.9159980 (1629)\ttotal: 18m 26s\tremaining: 4m 2s\n",
      "1640:\tlearn: 0.9708762\ttest: 0.9156705\tbest: 0.9159980 (1629)\ttotal: 18m 26s\tremaining: 4m 2s\n",
      "1641:\tlearn: 0.9709463\ttest: 0.9157524\tbest: 0.9159980 (1629)\ttotal: 18m 27s\tremaining: 4m 1s\n",
      "1642:\tlearn: 0.9711218\ttest: 0.9160799\tbest: 0.9160799 (1642)\ttotal: 18m 27s\tremaining: 4m\n",
      "1643:\tlearn: 0.9709113\ttest: 0.9155887\tbest: 0.9160799 (1642)\ttotal: 18m 28s\tremaining: 4m\n",
      "1644:\tlearn: 0.9712972\ttest: 0.9159162\tbest: 0.9160799 (1642)\ttotal: 18m 29s\tremaining: 3m 59s\n",
      "1645:\tlearn: 0.9712972\ttest: 0.9159162\tbest: 0.9160799 (1642)\ttotal: 18m 29s\tremaining: 3m 58s\n",
      "1646:\tlearn: 0.9712972\ttest: 0.9159162\tbest: 0.9160799 (1642)\ttotal: 18m 30s\tremaining: 3m 58s\n",
      "1647:\tlearn: 0.9712972\ttest: 0.9159162\tbest: 0.9160799 (1642)\ttotal: 18m 31s\tremaining: 3m 57s\n",
      "1648:\tlearn: 0.9712271\ttest: 0.9158343\tbest: 0.9160799 (1642)\ttotal: 18m 31s\tremaining: 3m 56s\n",
      "1649:\tlearn: 0.9712271\ttest: 0.9158343\tbest: 0.9160799 (1642)\ttotal: 18m 32s\tremaining: 3m 56s\n",
      "1650:\tlearn: 0.9712271\ttest: 0.9158343\tbest: 0.9160799 (1642)\ttotal: 18m 33s\tremaining: 3m 55s\n",
      "1651:\tlearn: 0.9715078\ttest: 0.9161618\tbest: 0.9161618 (1651)\ttotal: 18m 34s\tremaining: 3m 54s\n",
      "1652:\tlearn: 0.9714727\ttest: 0.9162437\tbest: 0.9162437 (1652)\ttotal: 18m 34s\tremaining: 3m 53s\n",
      "1653:\tlearn: 0.9716130\ttest: 0.9164074\tbest: 0.9164074 (1653)\ttotal: 18m 35s\tremaining: 3m 53s\n",
      "1654:\tlearn: 0.9716832\ttest: 0.9164893\tbest: 0.9164893 (1654)\ttotal: 18m 36s\tremaining: 3m 52s\n",
      "1655:\tlearn: 0.9716832\ttest: 0.9164893\tbest: 0.9164893 (1654)\ttotal: 18m 36s\tremaining: 3m 51s\n",
      "1656:\tlearn: 0.9717885\ttest: 0.9164893\tbest: 0.9164893 (1654)\ttotal: 18m 37s\tremaining: 3m 51s\n",
      "1657:\tlearn: 0.9718587\ttest: 0.9165711\tbest: 0.9165711 (1657)\ttotal: 18m 38s\tremaining: 3m 50s\n",
      "1658:\tlearn: 0.9714727\ttest: 0.9162437\tbest: 0.9165711 (1657)\ttotal: 18m 38s\tremaining: 3m 49s\n",
      "1659:\tlearn: 0.9715429\ttest: 0.9163255\tbest: 0.9165711 (1657)\ttotal: 18m 39s\tremaining: 3m 49s\n",
      "1660:\tlearn: 0.9715780\ttest: 0.9162437\tbest: 0.9165711 (1657)\ttotal: 18m 40s\tremaining: 3m 48s\n",
      "1661:\tlearn: 0.9715780\ttest: 0.9162437\tbest: 0.9165711 (1657)\ttotal: 18m 40s\tremaining: 3m 47s\n",
      "1662:\tlearn: 0.9717183\ttest: 0.9164074\tbest: 0.9165711 (1657)\ttotal: 18m 41s\tremaining: 3m 47s\n",
      "1663:\tlearn: 0.9717183\ttest: 0.9166530\tbest: 0.9166530 (1663)\ttotal: 18m 42s\tremaining: 3m 46s\n",
      "1664:\tlearn: 0.9717183\ttest: 0.9164074\tbest: 0.9166530 (1663)\ttotal: 18m 42s\tremaining: 3m 45s\n",
      "1665:\tlearn: 0.9715780\ttest: 0.9164893\tbest: 0.9166530 (1663)\ttotal: 18m 43s\tremaining: 3m 45s\n",
      "1666:\tlearn: 0.9715780\ttest: 0.9164893\tbest: 0.9166530 (1663)\ttotal: 18m 44s\tremaining: 3m 44s\n",
      "1667:\tlearn: 0.9716481\ttest: 0.9165711\tbest: 0.9166530 (1663)\ttotal: 18m 44s\tremaining: 3m 43s\n",
      "1668:\tlearn: 0.9717885\ttest: 0.9167349\tbest: 0.9167349 (1668)\ttotal: 18m 45s\tremaining: 3m 43s\n",
      "1669:\tlearn: 0.9718236\ttest: 0.9166530\tbest: 0.9167349 (1668)\ttotal: 18m 46s\tremaining: 3m 42s\n",
      "1670:\tlearn: 0.9718938\ttest: 0.9167349\tbest: 0.9167349 (1668)\ttotal: 18m 46s\tremaining: 3m 41s\n",
      "1671:\tlearn: 0.9718938\ttest: 0.9167349\tbest: 0.9167349 (1668)\ttotal: 18m 47s\tremaining: 3m 41s\n",
      "1672:\tlearn: 0.9719639\ttest: 0.9168168\tbest: 0.9168168 (1672)\ttotal: 18m 48s\tremaining: 3m 40s\n",
      "1673:\tlearn: 0.9719639\ttest: 0.9165711\tbest: 0.9168168 (1672)\ttotal: 18m 48s\tremaining: 3m 39s\n",
      "1674:\tlearn: 0.9719639\ttest: 0.9165711\tbest: 0.9168168 (1672)\ttotal: 18m 49s\tremaining: 3m 39s\n",
      "1675:\tlearn: 0.9720341\ttest: 0.9168986\tbest: 0.9168986 (1675)\ttotal: 18m 50s\tremaining: 3m 38s\n",
      "1676:\tlearn: 0.9720341\ttest: 0.9166530\tbest: 0.9168986 (1675)\ttotal: 18m 50s\tremaining: 3m 37s\n",
      "1677:\tlearn: 0.9720341\ttest: 0.9166530\tbest: 0.9168986 (1675)\ttotal: 18m 51s\tremaining: 3m 37s\n",
      "1678:\tlearn: 0.9720341\ttest: 0.9168986\tbest: 0.9168986 (1675)\ttotal: 18m 52s\tremaining: 3m 36s\n",
      "1679:\tlearn: 0.9720341\ttest: 0.9168986\tbest: 0.9168986 (1675)\ttotal: 18m 52s\tremaining: 3m 35s\n",
      "1680:\tlearn: 0.9720341\ttest: 0.9168986\tbest: 0.9168986 (1675)\ttotal: 18m 53s\tremaining: 3m 35s\n",
      "1681:\tlearn: 0.9720341\ttest: 0.9168986\tbest: 0.9168986 (1675)\ttotal: 18m 54s\tremaining: 3m 34s\n",
      "1682:\tlearn: 0.9720341\ttest: 0.9168986\tbest: 0.9168986 (1675)\ttotal: 18m 54s\tremaining: 3m 33s\n",
      "1683:\tlearn: 0.9721043\ttest: 0.9169805\tbest: 0.9169805 (1683)\ttotal: 18m 55s\tremaining: 3m 33s\n",
      "1684:\tlearn: 0.9720692\ttest: 0.9168168\tbest: 0.9169805 (1683)\ttotal: 18m 56s\tremaining: 3m 32s\n",
      "1685:\tlearn: 0.9720692\ttest: 0.9168168\tbest: 0.9169805 (1683)\ttotal: 18m 56s\tremaining: 3m 31s\n",
      "1686:\tlearn: 0.9720692\ttest: 0.9168168\tbest: 0.9169805 (1683)\ttotal: 18m 57s\tremaining: 3m 31s\n",
      "1687:\tlearn: 0.9720692\ttest: 0.9168168\tbest: 0.9169805 (1683)\ttotal: 18m 58s\tremaining: 3m 30s\n",
      "1688:\tlearn: 0.9722446\ttest: 0.9168986\tbest: 0.9169805 (1683)\ttotal: 18m 59s\tremaining: 3m 29s\n",
      "1689:\tlearn: 0.9722446\ttest: 0.9168986\tbest: 0.9169805 (1683)\ttotal: 18m 59s\tremaining: 3m 29s\n",
      "1690:\tlearn: 0.9723148\ttest: 0.9169805\tbest: 0.9169805 (1683)\ttotal: 19m\tremaining: 3m 28s\n",
      "1691:\tlearn: 0.9723850\ttest: 0.9175536\tbest: 0.9175536 (1691)\ttotal: 19m 1s\tremaining: 3m 27s\n",
      "1692:\tlearn: 0.9723850\ttest: 0.9175536\tbest: 0.9175536 (1691)\ttotal: 19m 1s\tremaining: 3m 27s\n",
      "1693:\tlearn: 0.9723850\ttest: 0.9175536\tbest: 0.9175536 (1691)\ttotal: 19m 2s\tremaining: 3m 26s\n",
      "1694:\tlearn: 0.9723148\ttest: 0.9174718\tbest: 0.9175536 (1691)\ttotal: 19m 3s\tremaining: 3m 25s\n",
      "1695:\tlearn: 0.9724201\ttest: 0.9177174\tbest: 0.9177174 (1695)\ttotal: 19m 3s\tremaining: 3m 25s\n",
      "1696:\tlearn: 0.9723850\ttest: 0.9175536\tbest: 0.9177174 (1695)\ttotal: 19m 4s\tremaining: 3m 24s\n",
      "1697:\tlearn: 0.9724552\ttest: 0.9173899\tbest: 0.9177174 (1695)\ttotal: 19m 5s\tremaining: 3m 23s\n",
      "1698:\tlearn: 0.9725254\ttest: 0.9174718\tbest: 0.9177174 (1695)\ttotal: 19m 5s\tremaining: 3m 22s\n",
      "1699:\tlearn: 0.9724552\ttest: 0.9171443\tbest: 0.9177174 (1695)\ttotal: 19m 6s\tremaining: 3m 22s\n",
      "1700:\tlearn: 0.9724552\ttest: 0.9171443\tbest: 0.9177174 (1695)\ttotal: 19m 7s\tremaining: 3m 21s\n",
      "1701:\tlearn: 0.9729464\ttest: 0.9179630\tbest: 0.9179630 (1701)\ttotal: 19m 7s\tremaining: 3m 20s\n",
      "1702:\tlearn: 0.9728412\ttest: 0.9179630\tbest: 0.9179630 (1701)\ttotal: 19m 8s\tremaining: 3m 20s\n",
      "1703:\tlearn: 0.9728412\ttest: 0.9179630\tbest: 0.9179630 (1701)\ttotal: 19m 9s\tremaining: 3m 19s\n",
      "1704:\tlearn: 0.9729464\ttest: 0.9179630\tbest: 0.9179630 (1701)\ttotal: 19m 9s\tremaining: 3m 18s\n",
      "1705:\tlearn: 0.9729113\ttest: 0.9180449\tbest: 0.9180449 (1705)\ttotal: 19m 10s\tremaining: 3m 18s\n",
      "1706:\tlearn: 0.9727710\ttest: 0.9178811\tbest: 0.9180449 (1705)\ttotal: 19m 11s\tremaining: 3m 17s\n",
      "1707:\tlearn: 0.9728412\ttest: 0.9179630\tbest: 0.9180449 (1705)\ttotal: 19m 11s\tremaining: 3m 16s\n",
      "1708:\tlearn: 0.9728412\ttest: 0.9179630\tbest: 0.9180449 (1705)\ttotal: 19m 12s\tremaining: 3m 16s\n",
      "1709:\tlearn: 0.9728412\ttest: 0.9179630\tbest: 0.9180449 (1705)\ttotal: 19m 13s\tremaining: 3m 15s\n",
      "1710:\tlearn: 0.9729113\ttest: 0.9180449\tbest: 0.9180449 (1705)\ttotal: 19m 13s\tremaining: 3m 14s\n",
      "1711:\tlearn: 0.9729113\ttest: 0.9180449\tbest: 0.9180449 (1705)\ttotal: 19m 14s\tremaining: 3m 14s\n",
      "1712:\tlearn: 0.9729113\ttest: 0.9180449\tbest: 0.9180449 (1705)\ttotal: 19m 15s\tremaining: 3m 13s\n",
      "1713:\tlearn: 0.9728412\ttest: 0.9179630\tbest: 0.9180449 (1705)\ttotal: 19m 15s\tremaining: 3m 12s\n",
      "1714:\tlearn: 0.9728412\ttest: 0.9179630\tbest: 0.9180449 (1705)\ttotal: 19m 16s\tremaining: 3m 12s\n",
      "1715:\tlearn: 0.9731570\ttest: 0.9182086\tbest: 0.9182086 (1715)\ttotal: 19m 17s\tremaining: 3m 11s\n",
      "1716:\tlearn: 0.9730517\ttest: 0.9182086\tbest: 0.9182086 (1715)\ttotal: 19m 17s\tremaining: 3m 10s\n",
      "1717:\tlearn: 0.9731219\ttest: 0.9182905\tbest: 0.9182905 (1717)\ttotal: 19m 18s\tremaining: 3m 10s\n",
      "1718:\tlearn: 0.9731219\ttest: 0.9182905\tbest: 0.9182905 (1717)\ttotal: 19m 19s\tremaining: 3m 9s\n",
      "1719:\tlearn: 0.9734728\ttest: 0.9182086\tbest: 0.9182905 (1717)\ttotal: 19m 19s\tremaining: 3m 8s\n",
      "1720:\tlearn: 0.9735078\ttest: 0.9181267\tbest: 0.9182905 (1717)\ttotal: 19m 20s\tremaining: 3m 8s\n",
      "1721:\tlearn: 0.9734728\ttest: 0.9184542\tbest: 0.9184542 (1721)\ttotal: 19m 21s\tremaining: 3m 7s\n",
      "1722:\tlearn: 0.9734728\ttest: 0.9184542\tbest: 0.9184542 (1721)\ttotal: 19m 21s\tremaining: 3m 6s\n",
      "1723:\tlearn: 0.9734728\ttest: 0.9184542\tbest: 0.9184542 (1721)\ttotal: 19m 22s\tremaining: 3m 6s\n",
      "1724:\tlearn: 0.9734728\ttest: 0.9184542\tbest: 0.9184542 (1721)\ttotal: 19m 23s\tremaining: 3m 5s\n",
      "1725:\tlearn: 0.9734728\ttest: 0.9184542\tbest: 0.9184542 (1721)\ttotal: 19m 24s\tremaining: 3m 4s\n",
      "1726:\tlearn: 0.9734728\ttest: 0.9184542\tbest: 0.9184542 (1721)\ttotal: 19m 24s\tremaining: 3m 4s\n",
      "1727:\tlearn: 0.9734377\ttest: 0.9185361\tbest: 0.9185361 (1727)\ttotal: 19m 25s\tremaining: 3m 3s\n",
      "1728:\tlearn: 0.9735078\ttest: 0.9186180\tbest: 0.9186180 (1728)\ttotal: 19m 26s\tremaining: 3m 2s\n",
      "1729:\tlearn: 0.9736131\ttest: 0.9186180\tbest: 0.9186180 (1728)\ttotal: 19m 26s\tremaining: 3m 2s\n",
      "1730:\tlearn: 0.9736833\ttest: 0.9186999\tbest: 0.9186999 (1730)\ttotal: 19m 27s\tremaining: 3m 1s\n",
      "1731:\tlearn: 0.9736482\ttest: 0.9187817\tbest: 0.9187817 (1731)\ttotal: 19m 28s\tremaining: 3m\n",
      "1732:\tlearn: 0.9736482\ttest: 0.9187817\tbest: 0.9187817 (1731)\ttotal: 19m 28s\tremaining: 3m\n",
      "1733:\tlearn: 0.9736833\ttest: 0.9189455\tbest: 0.9189455 (1733)\ttotal: 19m 29s\tremaining: 2m 59s\n",
      "1734:\tlearn: 0.9737184\ttest: 0.9191092\tbest: 0.9191092 (1734)\ttotal: 19m 30s\tremaining: 2m 58s\n",
      "1735:\tlearn: 0.9737184\ttest: 0.9191092\tbest: 0.9191092 (1734)\ttotal: 19m 30s\tremaining: 2m 58s\n",
      "1736:\tlearn: 0.9737535\ttest: 0.9192730\tbest: 0.9192730 (1736)\ttotal: 19m 31s\tremaining: 2m 57s\n",
      "1737:\tlearn: 0.9737886\ttest: 0.9191911\tbest: 0.9192730 (1736)\ttotal: 19m 32s\tremaining: 2m 56s\n",
      "1738:\tlearn: 0.9738587\ttest: 0.9192730\tbest: 0.9192730 (1736)\ttotal: 19m 32s\tremaining: 2m 56s\n",
      "1739:\tlearn: 0.9738587\ttest: 0.9192730\tbest: 0.9192730 (1736)\ttotal: 19m 33s\tremaining: 2m 55s\n",
      "1740:\tlearn: 0.9738587\ttest: 0.9192730\tbest: 0.9192730 (1736)\ttotal: 19m 34s\tremaining: 2m 54s\n",
      "1741:\tlearn: 0.9738236\ttest: 0.9193548\tbest: 0.9193548 (1741)\ttotal: 19m 34s\tremaining: 2m 54s\n",
      "1742:\tlearn: 0.9739640\ttest: 0.9195186\tbest: 0.9195186 (1742)\ttotal: 19m 35s\tremaining: 2m 53s\n",
      "1743:\tlearn: 0.9739640\ttest: 0.9195186\tbest: 0.9195186 (1742)\ttotal: 19m 36s\tremaining: 2m 52s\n",
      "1744:\tlearn: 0.9739640\ttest: 0.9195186\tbest: 0.9195186 (1742)\ttotal: 19m 36s\tremaining: 2m 51s\n",
      "1745:\tlearn: 0.9738938\ttest: 0.9194367\tbest: 0.9195186 (1742)\ttotal: 19m 37s\tremaining: 2m 51s\n",
      "1746:\tlearn: 0.9739289\ttest: 0.9196005\tbest: 0.9196005 (1746)\ttotal: 19m 38s\tremaining: 2m 50s\n",
      "1747:\tlearn: 0.9739289\ttest: 0.9196005\tbest: 0.9196005 (1746)\ttotal: 19m 38s\tremaining: 2m 49s\n",
      "1748:\tlearn: 0.9739289\ttest: 0.9196005\tbest: 0.9196005 (1746)\ttotal: 19m 39s\tremaining: 2m 49s\n",
      "1749:\tlearn: 0.9739289\ttest: 0.9196005\tbest: 0.9196005 (1746)\ttotal: 19m 40s\tremaining: 2m 48s\n",
      "1750:\tlearn: 0.9739289\ttest: 0.9196005\tbest: 0.9196005 (1746)\ttotal: 19m 40s\tremaining: 2m 47s\n",
      "1751:\tlearn: 0.9739289\ttest: 0.9196005\tbest: 0.9196005 (1746)\ttotal: 19m 41s\tremaining: 2m 47s\n",
      "1752:\tlearn: 0.9739289\ttest: 0.9196005\tbest: 0.9196005 (1746)\ttotal: 19m 42s\tremaining: 2m 46s\n",
      "1753:\tlearn: 0.9741044\ttest: 0.9199280\tbest: 0.9199280 (1753)\ttotal: 19m 42s\tremaining: 2m 45s\n",
      "1754:\tlearn: 0.9742447\ttest: 0.9200917\tbest: 0.9200917 (1754)\ttotal: 19m 43s\tremaining: 2m 45s\n",
      "1755:\tlearn: 0.9742447\ttest: 0.9200917\tbest: 0.9200917 (1754)\ttotal: 19m 44s\tremaining: 2m 44s\n",
      "1756:\tlearn: 0.9740693\ttest: 0.9195186\tbest: 0.9200917 (1754)\ttotal: 19m 44s\tremaining: 2m 43s\n",
      "1757:\tlearn: 0.9741745\ttest: 0.9197642\tbest: 0.9200917 (1754)\ttotal: 19m 45s\tremaining: 2m 43s\n",
      "1758:\tlearn: 0.9741745\ttest: 0.9197642\tbest: 0.9200917 (1754)\ttotal: 19m 46s\tremaining: 2m 42s\n",
      "1759:\tlearn: 0.9740693\ttest: 0.9197642\tbest: 0.9200917 (1754)\ttotal: 19m 47s\tremaining: 2m 41s\n",
      "1760:\tlearn: 0.9740342\ttest: 0.9196005\tbest: 0.9200917 (1754)\ttotal: 19m 47s\tremaining: 2m 41s\n",
      "1761:\tlearn: 0.9741745\ttest: 0.9197642\tbest: 0.9200917 (1754)\ttotal: 19m 48s\tremaining: 2m 40s\n",
      "1762:\tlearn: 0.9741745\ttest: 0.9197642\tbest: 0.9200917 (1754)\ttotal: 19m 49s\tremaining: 2m 39s\n",
      "1763:\tlearn: 0.9744202\ttest: 0.9204192\tbest: 0.9204192 (1763)\ttotal: 19m 49s\tremaining: 2m 39s\n",
      "1764:\tlearn: 0.9744202\ttest: 0.9204192\tbest: 0.9204192 (1763)\ttotal: 19m 50s\tremaining: 2m 38s\n",
      "1765:\tlearn: 0.9744202\ttest: 0.9204192\tbest: 0.9204192 (1763)\ttotal: 19m 51s\tremaining: 2m 37s\n",
      "1766:\tlearn: 0.9744202\ttest: 0.9204192\tbest: 0.9204192 (1763)\ttotal: 19m 51s\tremaining: 2m 37s\n",
      "1767:\tlearn: 0.9743851\ttest: 0.9200098\tbest: 0.9204192 (1763)\ttotal: 19m 52s\tremaining: 2m 36s\n",
      "1768:\tlearn: 0.9743851\ttest: 0.9200098\tbest: 0.9204192 (1763)\ttotal: 19m 53s\tremaining: 2m 35s\n",
      "1769:\tlearn: 0.9744202\ttest: 0.9201736\tbest: 0.9204192 (1763)\ttotal: 19m 53s\tremaining: 2m 35s\n",
      "1770:\tlearn: 0.9744202\ttest: 0.9201736\tbest: 0.9204192 (1763)\ttotal: 19m 54s\tremaining: 2m 34s\n",
      "1771:\tlearn: 0.9744903\ttest: 0.9202554\tbest: 0.9204192 (1763)\ttotal: 19m 55s\tremaining: 2m 33s\n",
      "1772:\tlearn: 0.9744903\ttest: 0.9202554\tbest: 0.9204192 (1763)\ttotal: 19m 55s\tremaining: 2m 33s\n",
      "1773:\tlearn: 0.9744903\ttest: 0.9202554\tbest: 0.9204192 (1763)\ttotal: 19m 56s\tremaining: 2m 32s\n",
      "1774:\tlearn: 0.9746658\ttest: 0.9205829\tbest: 0.9205829 (1774)\ttotal: 19m 57s\tremaining: 2m 31s\n",
      "1775:\tlearn: 0.9748412\ttest: 0.9206648\tbest: 0.9206648 (1775)\ttotal: 19m 57s\tremaining: 2m 31s\n",
      "1776:\tlearn: 0.9748061\ttest: 0.9205011\tbest: 0.9206648 (1775)\ttotal: 19m 58s\tremaining: 2m 30s\n",
      "1777:\tlearn: 0.9748061\ttest: 0.9205011\tbest: 0.9206648 (1775)\ttotal: 19m 59s\tremaining: 2m 29s\n",
      "1778:\tlearn: 0.9748412\ttest: 0.9206648\tbest: 0.9206648 (1775)\ttotal: 19m 59s\tremaining: 2m 29s\n",
      "1779:\tlearn: 0.9748763\ttest: 0.9205829\tbest: 0.9206648 (1775)\ttotal: 20m\tremaining: 2m 28s\n",
      "1780:\tlearn: 0.9749465\ttest: 0.9206648\tbest: 0.9206648 (1775)\ttotal: 20m 1s\tremaining: 2m 27s\n",
      "1781:\tlearn: 0.9748412\ttest: 0.9206648\tbest: 0.9206648 (1775)\ttotal: 20m 1s\tremaining: 2m 27s\n",
      "1782:\tlearn: 0.9748412\ttest: 0.9206648\tbest: 0.9206648 (1775)\ttotal: 20m 2s\tremaining: 2m 26s\n",
      "1783:\tlearn: 0.9748412\ttest: 0.9206648\tbest: 0.9206648 (1775)\ttotal: 20m 3s\tremaining: 2m 25s\n",
      "1784:\tlearn: 0.9749816\ttest: 0.9208286\tbest: 0.9208286 (1784)\ttotal: 20m 3s\tremaining: 2m 25s\n",
      "1785:\tlearn: 0.9749816\ttest: 0.9208286\tbest: 0.9208286 (1784)\ttotal: 20m 4s\tremaining: 2m 24s\n",
      "1786:\tlearn: 0.9749816\ttest: 0.9208286\tbest: 0.9208286 (1784)\ttotal: 20m 5s\tremaining: 2m 23s\n",
      "1787:\tlearn: 0.9750868\ttest: 0.9210742\tbest: 0.9210742 (1787)\ttotal: 20m 6s\tremaining: 2m 22s\n",
      "1788:\tlearn: 0.9751570\ttest: 0.9206648\tbest: 0.9210742 (1787)\ttotal: 20m 6s\tremaining: 2m 22s\n",
      "1789:\tlearn: 0.9753676\ttest: 0.9218929\tbest: 0.9218929 (1789)\ttotal: 20m 7s\tremaining: 2m 21s\n",
      "1790:\tlearn: 0.9753676\ttest: 0.9218929\tbest: 0.9218929 (1789)\ttotal: 20m 8s\tremaining: 2m 20s\n",
      "1791:\tlearn: 0.9754026\ttest: 0.9218110\tbest: 0.9218929 (1789)\ttotal: 20m 8s\tremaining: 2m 20s\n",
      "1792:\tlearn: 0.9754026\ttest: 0.9218110\tbest: 0.9218929 (1789)\ttotal: 20m 9s\tremaining: 2m 19s\n",
      "1793:\tlearn: 0.9753325\ttest: 0.9217292\tbest: 0.9218929 (1789)\ttotal: 20m 10s\tremaining: 2m 18s\n",
      "1794:\tlearn: 0.9753325\ttest: 0.9217292\tbest: 0.9218929 (1789)\ttotal: 20m 10s\tremaining: 2m 18s\n",
      "1795:\tlearn: 0.9753325\ttest: 0.9217292\tbest: 0.9218929 (1789)\ttotal: 20m 11s\tremaining: 2m 17s\n",
      "1796:\tlearn: 0.9753325\ttest: 0.9217292\tbest: 0.9218929 (1789)\ttotal: 20m 12s\tremaining: 2m 16s\n",
      "1797:\tlearn: 0.9753325\ttest: 0.9217292\tbest: 0.9218929 (1789)\ttotal: 20m 12s\tremaining: 2m 16s\n",
      "1798:\tlearn: 0.9754026\ttest: 0.9218110\tbest: 0.9218929 (1789)\ttotal: 20m 13s\tremaining: 2m 15s\n",
      "1799:\tlearn: 0.9758588\ttest: 0.9222204\tbest: 0.9222204 (1799)\ttotal: 20m 14s\tremaining: 2m 14s\n",
      "1800:\tlearn: 0.9758588\ttest: 0.9222204\tbest: 0.9222204 (1799)\ttotal: 20m 14s\tremaining: 2m 14s\n",
      "1801:\tlearn: 0.9758588\ttest: 0.9224660\tbest: 0.9224660 (1801)\ttotal: 20m 15s\tremaining: 2m 13s\n",
      "1802:\tlearn: 0.9759290\ttest: 0.9225479\tbest: 0.9225479 (1802)\ttotal: 20m 16s\tremaining: 2m 12s\n",
      "1803:\tlearn: 0.9759290\ttest: 0.9223023\tbest: 0.9225479 (1802)\ttotal: 20m 16s\tremaining: 2m 12s\n",
      "1804:\tlearn: 0.9758939\ttest: 0.9221385\tbest: 0.9225479 (1802)\ttotal: 20m 17s\tremaining: 2m 11s\n",
      "1805:\tlearn: 0.9759641\ttest: 0.9224660\tbest: 0.9225479 (1802)\ttotal: 20m 18s\tremaining: 2m 10s\n",
      "1806:\tlearn: 0.9759641\ttest: 0.9227116\tbest: 0.9227116 (1806)\ttotal: 20m 18s\tremaining: 2m 10s\n",
      "1807:\tlearn: 0.9759290\ttest: 0.9225479\tbest: 0.9227116 (1806)\ttotal: 20m 19s\tremaining: 2m 9s\n",
      "1808:\tlearn: 0.9759290\ttest: 0.9225479\tbest: 0.9227116 (1806)\ttotal: 20m 20s\tremaining: 2m 8s\n",
      "1809:\tlearn: 0.9760342\ttest: 0.9223023\tbest: 0.9227116 (1806)\ttotal: 20m 20s\tremaining: 2m 8s\n",
      "1810:\tlearn: 0.9760342\ttest: 0.9223023\tbest: 0.9227116 (1806)\ttotal: 20m 21s\tremaining: 2m 7s\n",
      "1811:\tlearn: 0.9760693\ttest: 0.9224660\tbest: 0.9227116 (1806)\ttotal: 20m 22s\tremaining: 2m 6s\n",
      "1812:\tlearn: 0.9760342\ttest: 0.9223023\tbest: 0.9227116 (1806)\ttotal: 20m 22s\tremaining: 2m 6s\n",
      "1813:\tlearn: 0.9759992\ttest: 0.9221385\tbest: 0.9227116 (1806)\ttotal: 20m 23s\tremaining: 2m 5s\n",
      "1814:\tlearn: 0.9760342\ttest: 0.9225479\tbest: 0.9227116 (1806)\ttotal: 20m 24s\tremaining: 2m 4s\n",
      "1815:\tlearn: 0.9760342\ttest: 0.9225479\tbest: 0.9227116 (1806)\ttotal: 20m 24s\tremaining: 2m 4s\n",
      "1816:\tlearn: 0.9759290\ttest: 0.9223023\tbest: 0.9227116 (1806)\ttotal: 20m 25s\tremaining: 2m 3s\n",
      "1817:\tlearn: 0.9759641\ttest: 0.9224660\tbest: 0.9227116 (1806)\ttotal: 20m 26s\tremaining: 2m 2s\n",
      "1818:\tlearn: 0.9760693\ttest: 0.9227116\tbest: 0.9227116 (1806)\ttotal: 20m 26s\tremaining: 2m 2s\n",
      "1819:\tlearn: 0.9764553\ttest: 0.9227935\tbest: 0.9227935 (1819)\ttotal: 20m 27s\tremaining: 2m 1s\n",
      "1820:\tlearn: 0.9763150\ttest: 0.9223841\tbest: 0.9227935 (1819)\ttotal: 20m 28s\tremaining: 2m\n",
      "1821:\tlearn: 0.9762448\ttest: 0.9223023\tbest: 0.9227935 (1819)\ttotal: 20m 28s\tremaining: 2m\n",
      "1822:\tlearn: 0.9762448\ttest: 0.9223023\tbest: 0.9227935 (1819)\ttotal: 20m 29s\tremaining: 1m 59s\n",
      "1823:\tlearn: 0.9762448\ttest: 0.9223023\tbest: 0.9227935 (1819)\ttotal: 20m 30s\tremaining: 1m 58s\n",
      "1824:\tlearn: 0.9762448\ttest: 0.9223023\tbest: 0.9227935 (1819)\ttotal: 20m 30s\tremaining: 1m 58s\n",
      "1825:\tlearn: 0.9764904\ttest: 0.9227116\tbest: 0.9227935 (1819)\ttotal: 20m 31s\tremaining: 1m 57s\n",
      "1826:\tlearn: 0.9765255\ttest: 0.9228754\tbest: 0.9228754 (1826)\ttotal: 20m 32s\tremaining: 1m 56s\n",
      "1827:\tlearn: 0.9764202\ttest: 0.9226298\tbest: 0.9228754 (1826)\ttotal: 20m 32s\tremaining: 1m 56s\n",
      "1828:\tlearn: 0.9764202\ttest: 0.9226298\tbest: 0.9228754 (1826)\ttotal: 20m 33s\tremaining: 1m 55s\n",
      "1829:\tlearn: 0.9764904\ttest: 0.9227116\tbest: 0.9228754 (1826)\ttotal: 20m 34s\tremaining: 1m 54s\n",
      "1830:\tlearn: 0.9764904\ttest: 0.9227116\tbest: 0.9228754 (1826)\ttotal: 20m 35s\tremaining: 1m 53s\n",
      "1831:\tlearn: 0.9765606\ttest: 0.9227935\tbest: 0.9228754 (1826)\ttotal: 20m 35s\tremaining: 1m 53s\n",
      "1832:\tlearn: 0.9767009\ttest: 0.9229573\tbest: 0.9229573 (1832)\ttotal: 20m 36s\tremaining: 1m 52s\n",
      "1833:\tlearn: 0.9767009\ttest: 0.9229573\tbest: 0.9229573 (1832)\ttotal: 20m 37s\tremaining: 1m 51s\n",
      "1834:\tlearn: 0.9766658\ttest: 0.9227935\tbest: 0.9229573 (1832)\ttotal: 20m 37s\tremaining: 1m 51s\n",
      "1835:\tlearn: 0.9766658\ttest: 0.9227935\tbest: 0.9229573 (1832)\ttotal: 20m 38s\tremaining: 1m 50s\n",
      "1836:\tlearn: 0.9766658\ttest: 0.9227935\tbest: 0.9229573 (1832)\ttotal: 20m 39s\tremaining: 1m 49s\n",
      "1837:\tlearn: 0.9768062\ttest: 0.9229573\tbest: 0.9229573 (1832)\ttotal: 20m 39s\tremaining: 1m 49s\n",
      "1838:\tlearn: 0.9768062\ttest: 0.9229573\tbest: 0.9229573 (1832)\ttotal: 20m 40s\tremaining: 1m 48s\n",
      "1839:\tlearn: 0.9768062\ttest: 0.9232029\tbest: 0.9232029 (1839)\ttotal: 20m 41s\tremaining: 1m 47s\n",
      "1840:\tlearn: 0.9768062\ttest: 0.9232029\tbest: 0.9232029 (1839)\ttotal: 20m 41s\tremaining: 1m 47s\n",
      "1841:\tlearn: 0.9768062\ttest: 0.9232029\tbest: 0.9232029 (1839)\ttotal: 20m 42s\tremaining: 1m 46s\n",
      "1842:\tlearn: 0.9768413\ttest: 0.9233666\tbest: 0.9233666 (1842)\ttotal: 20m 43s\tremaining: 1m 45s\n",
      "1843:\tlearn: 0.9768413\ttest: 0.9233666\tbest: 0.9233666 (1842)\ttotal: 20m 43s\tremaining: 1m 45s\n",
      "1844:\tlearn: 0.9768413\ttest: 0.9231210\tbest: 0.9233666 (1842)\ttotal: 20m 44s\tremaining: 1m 44s\n",
      "1845:\tlearn: 0.9768764\ttest: 0.9232848\tbest: 0.9233666 (1842)\ttotal: 20m 45s\tremaining: 1m 43s\n",
      "1846:\tlearn: 0.9768413\ttest: 0.9231210\tbest: 0.9233666 (1842)\ttotal: 20m 45s\tremaining: 1m 43s\n",
      "1847:\tlearn: 0.9768413\ttest: 0.9231210\tbest: 0.9233666 (1842)\ttotal: 20m 46s\tremaining: 1m 42s\n",
      "1848:\tlearn: 0.9768413\ttest: 0.9231210\tbest: 0.9233666 (1842)\ttotal: 20m 47s\tremaining: 1m 41s\n",
      "1849:\tlearn: 0.9768413\ttest: 0.9231210\tbest: 0.9233666 (1842)\ttotal: 20m 47s\tremaining: 1m 41s\n",
      "1850:\tlearn: 0.9768413\ttest: 0.9231210\tbest: 0.9233666 (1842)\ttotal: 20m 48s\tremaining: 1m 40s\n",
      "1851:\tlearn: 0.9768413\ttest: 0.9231210\tbest: 0.9233666 (1842)\ttotal: 20m 49s\tremaining: 1m 39s\n",
      "1852:\tlearn: 0.9768413\ttest: 0.9231210\tbest: 0.9233666 (1842)\ttotal: 20m 49s\tremaining: 1m 39s\n",
      "1853:\tlearn: 0.9768413\ttest: 0.9233666\tbest: 0.9233666 (1842)\ttotal: 20m 50s\tremaining: 1m 38s\n",
      "1854:\tlearn: 0.9768413\ttest: 0.9233666\tbest: 0.9233666 (1842)\ttotal: 20m 51s\tremaining: 1m 37s\n",
      "1855:\tlearn: 0.9768413\ttest: 0.9233666\tbest: 0.9233666 (1842)\ttotal: 20m 51s\tremaining: 1m 37s\n",
      "1856:\tlearn: 0.9769816\ttest: 0.9235304\tbest: 0.9235304 (1856)\ttotal: 20m 52s\tremaining: 1m 36s\n",
      "1857:\tlearn: 0.9769816\ttest: 0.9235304\tbest: 0.9235304 (1856)\ttotal: 20m 53s\tremaining: 1m 35s\n",
      "1858:\tlearn: 0.9770518\ttest: 0.9236122\tbest: 0.9236122 (1858)\ttotal: 20m 53s\tremaining: 1m 35s\n",
      "1859:\tlearn: 0.9772273\ttest: 0.9236941\tbest: 0.9236941 (1859)\ttotal: 20m 54s\tremaining: 1m 34s\n",
      "1860:\tlearn: 0.9772273\ttest: 0.9236941\tbest: 0.9236941 (1859)\ttotal: 20m 55s\tremaining: 1m 33s\n",
      "1861:\tlearn: 0.9772974\ttest: 0.9240216\tbest: 0.9240216 (1861)\ttotal: 20m 55s\tremaining: 1m 33s\n",
      "1862:\tlearn: 0.9772974\ttest: 0.9240216\tbest: 0.9240216 (1861)\ttotal: 20m 56s\tremaining: 1m 32s\n",
      "1863:\tlearn: 0.9772974\ttest: 0.9240216\tbest: 0.9240216 (1861)\ttotal: 20m 57s\tremaining: 1m 31s\n",
      "1864:\tlearn: 0.9772974\ttest: 0.9240216\tbest: 0.9240216 (1861)\ttotal: 20m 57s\tremaining: 1m 31s\n",
      "1865:\tlearn: 0.9773325\ttest: 0.9241854\tbest: 0.9241854 (1865)\ttotal: 20m 58s\tremaining: 1m 30s\n",
      "1866:\tlearn: 0.9774378\ttest: 0.9246766\tbest: 0.9246766 (1866)\ttotal: 20m 59s\tremaining: 1m 29s\n",
      "1867:\tlearn: 0.9774378\ttest: 0.9246766\tbest: 0.9246766 (1866)\ttotal: 20m 59s\tremaining: 1m 29s\n",
      "1868:\tlearn: 0.9774378\ttest: 0.9246766\tbest: 0.9246766 (1866)\ttotal: 21m\tremaining: 1m 28s\n",
      "1869:\tlearn: 0.9775431\ttest: 0.9246766\tbest: 0.9246766 (1866)\ttotal: 21m 1s\tremaining: 1m 27s\n",
      "1870:\tlearn: 0.9775782\ttest: 0.9248403\tbest: 0.9248403 (1870)\ttotal: 21m 1s\tremaining: 1m 26s\n",
      "1871:\tlearn: 0.9775782\ttest: 0.9248403\tbest: 0.9248403 (1870)\ttotal: 21m 2s\tremaining: 1m 26s\n",
      "1872:\tlearn: 0.9775782\ttest: 0.9248403\tbest: 0.9248403 (1870)\ttotal: 21m 3s\tremaining: 1m 25s\n",
      "1873:\tlearn: 0.9775431\ttest: 0.9244310\tbest: 0.9248403 (1870)\ttotal: 21m 3s\tremaining: 1m 24s\n",
      "1874:\tlearn: 0.9776834\ttest: 0.9245947\tbest: 0.9248403 (1870)\ttotal: 21m 4s\tremaining: 1m 24s\n",
      "1875:\tlearn: 0.9776834\ttest: 0.9245947\tbest: 0.9248403 (1870)\ttotal: 21m 5s\tremaining: 1m 23s\n",
      "1876:\tlearn: 0.9776132\ttest: 0.9245129\tbest: 0.9248403 (1870)\ttotal: 21m 5s\tremaining: 1m 22s\n",
      "1877:\tlearn: 0.9776834\ttest: 0.9248403\tbest: 0.9248403 (1870)\ttotal: 21m 6s\tremaining: 1m 22s\n",
      "1878:\tlearn: 0.9775431\ttest: 0.9249222\tbest: 0.9249222 (1878)\ttotal: 21m 7s\tremaining: 1m 21s\n",
      "1879:\tlearn: 0.9775782\ttest: 0.9250860\tbest: 0.9250860 (1879)\ttotal: 21m 7s\tremaining: 1m 20s\n",
      "1880:\tlearn: 0.9777887\ttest: 0.9250860\tbest: 0.9250860 (1879)\ttotal: 21m 8s\tremaining: 1m 20s\n",
      "1881:\tlearn: 0.9778589\ttest: 0.9251678\tbest: 0.9251678 (1881)\ttotal: 21m 9s\tremaining: 1m 19s\n",
      "1882:\tlearn: 0.9778238\ttest: 0.9259866\tbest: 0.9259866 (1882)\ttotal: 21m 9s\tremaining: 1m 18s\n",
      "1883:\tlearn: 0.9778238\ttest: 0.9259866\tbest: 0.9259866 (1882)\ttotal: 21m 10s\tremaining: 1m 18s\n",
      "1884:\tlearn: 0.9777887\ttest: 0.9253316\tbest: 0.9259866 (1882)\ttotal: 21m 11s\tremaining: 1m 17s\n",
      "1885:\tlearn: 0.9777887\ttest: 0.9253316\tbest: 0.9259866 (1882)\ttotal: 21m 11s\tremaining: 1m 16s\n",
      "1886:\tlearn: 0.9777887\ttest: 0.9253316\tbest: 0.9259866 (1882)\ttotal: 21m 12s\tremaining: 1m 16s\n",
      "1887:\tlearn: 0.9777887\ttest: 0.9253316\tbest: 0.9259866 (1882)\ttotal: 21m 13s\tremaining: 1m 15s\n",
      "1888:\tlearn: 0.9778238\ttest: 0.9254953\tbest: 0.9259866 (1882)\ttotal: 21m 13s\tremaining: 1m 14s\n",
      "1889:\tlearn: 0.9778238\ttest: 0.9254953\tbest: 0.9259866 (1882)\ttotal: 21m 14s\tremaining: 1m 14s\n",
      "1890:\tlearn: 0.9777536\ttest: 0.9254135\tbest: 0.9259866 (1882)\ttotal: 21m 15s\tremaining: 1m 13s\n",
      "1891:\tlearn: 0.9777536\ttest: 0.9256591\tbest: 0.9259866 (1882)\ttotal: 21m 15s\tremaining: 1m 12s\n",
      "1892:\tlearn: 0.9777887\ttest: 0.9258228\tbest: 0.9259866 (1882)\ttotal: 21m 16s\tremaining: 1m 12s\n",
      "1893:\tlearn: 0.9777536\ttest: 0.9256591\tbest: 0.9259866 (1882)\ttotal: 21m 17s\tremaining: 1m 11s\n",
      "1894:\tlearn: 0.9778589\ttest: 0.9259047\tbest: 0.9259866 (1882)\ttotal: 21m 17s\tremaining: 1m 10s\n",
      "1895:\tlearn: 0.9779992\ttest: 0.9258228\tbest: 0.9259866 (1882)\ttotal: 21m 18s\tremaining: 1m 10s\n",
      "1896:\tlearn: 0.9779291\ttest: 0.9257410\tbest: 0.9259866 (1882)\ttotal: 21m 19s\tremaining: 1m 9s\n",
      "1897:\tlearn: 0.9779291\ttest: 0.9257410\tbest: 0.9259866 (1882)\ttotal: 21m 19s\tremaining: 1m 8s\n",
      "1898:\tlearn: 0.9779291\ttest: 0.9257410\tbest: 0.9259866 (1882)\ttotal: 21m 20s\tremaining: 1m 8s\n",
      "1899:\tlearn: 0.9779291\ttest: 0.9257410\tbest: 0.9259866 (1882)\ttotal: 21m 21s\tremaining: 1m 7s\n",
      "1900:\tlearn: 0.9782449\ttest: 0.9257410\tbest: 0.9259866 (1882)\ttotal: 21m 21s\tremaining: 1m 6s\n",
      "1901:\tlearn: 0.9782449\ttest: 0.9257410\tbest: 0.9259866 (1882)\ttotal: 21m 22s\tremaining: 1m 6s\n",
      "1902:\tlearn: 0.9782449\ttest: 0.9257410\tbest: 0.9259866 (1882)\ttotal: 21m 23s\tremaining: 1m 5s\n",
      "1903:\tlearn: 0.9782799\ttest: 0.9259047\tbest: 0.9259866 (1882)\ttotal: 21m 23s\tremaining: 1m 4s\n",
      "1904:\tlearn: 0.9781747\ttest: 0.9259047\tbest: 0.9259866 (1882)\ttotal: 21m 24s\tremaining: 1m 4s\n",
      "1905:\tlearn: 0.9781747\ttest: 0.9259047\tbest: 0.9259866 (1882)\ttotal: 21m 25s\tremaining: 1m 3s\n",
      "1906:\tlearn: 0.9782799\ttest: 0.9259047\tbest: 0.9259866 (1882)\ttotal: 21m 25s\tremaining: 1m 2s\n",
      "1907:\tlearn: 0.9783150\ttest: 0.9260684\tbest: 0.9260684 (1907)\ttotal: 21m 26s\tremaining: 1m 2s\n",
      "1908:\tlearn: 0.9783501\ttest: 0.9262322\tbest: 0.9262322 (1908)\ttotal: 21m 27s\tremaining: 1m 1s\n",
      "1909:\tlearn: 0.9784905\ttest: 0.9261503\tbest: 0.9262322 (1908)\ttotal: 21m 27s\tremaining: 1m\n",
      "1910:\tlearn: 0.9784554\ttest: 0.9259866\tbest: 0.9262322 (1908)\ttotal: 21m 28s\tremaining: 1m\n",
      "1911:\tlearn: 0.9784554\ttest: 0.9259866\tbest: 0.9262322 (1908)\ttotal: 21m 29s\tremaining: 59.3s\n",
      "1912:\tlearn: 0.9784554\ttest: 0.9259866\tbest: 0.9262322 (1908)\ttotal: 21m 29s\tremaining: 58.7s\n",
      "1913:\tlearn: 0.9784554\ttest: 0.9264778\tbest: 0.9264778 (1913)\ttotal: 21m 30s\tremaining: 58s\n",
      "1914:\tlearn: 0.9785256\ttest: 0.9265597\tbest: 0.9265597 (1914)\ttotal: 21m 31s\tremaining: 57.3s\n",
      "1915:\tlearn: 0.9785256\ttest: 0.9265597\tbest: 0.9265597 (1914)\ttotal: 21m 31s\tremaining: 56.6s\n",
      "1916:\tlearn: 0.9785256\ttest: 0.9265597\tbest: 0.9265597 (1914)\ttotal: 21m 32s\tremaining: 56s\n",
      "1917:\tlearn: 0.9785256\ttest: 0.9265597\tbest: 0.9265597 (1914)\ttotal: 21m 33s\tremaining: 55.3s\n",
      "1918:\tlearn: 0.9789466\ttest: 0.9275422\tbest: 0.9275422 (1918)\ttotal: 21m 33s\tremaining: 54.6s\n",
      "1919:\tlearn: 0.9791221\ttest: 0.9276240\tbest: 0.9276240 (1919)\ttotal: 21m 34s\tremaining: 53.9s\n",
      "1920:\tlearn: 0.9789817\ttest: 0.9279515\tbest: 0.9279515 (1920)\ttotal: 21m 35s\tremaining: 53.3s\n",
      "1921:\tlearn: 0.9789817\ttest: 0.9279515\tbest: 0.9279515 (1920)\ttotal: 21m 35s\tremaining: 52.6s\n",
      "1922:\tlearn: 0.9791923\ttest: 0.9281972\tbest: 0.9281972 (1922)\ttotal: 21m 36s\tremaining: 51.9s\n",
      "1923:\tlearn: 0.9790870\ttest: 0.9277059\tbest: 0.9281972 (1922)\ttotal: 21m 37s\tremaining: 51.2s\n",
      "1924:\tlearn: 0.9790870\ttest: 0.9274603\tbest: 0.9281972 (1922)\ttotal: 21m 37s\tremaining: 50.6s\n",
      "1925:\tlearn: 0.9789817\ttest: 0.9272147\tbest: 0.9281972 (1922)\ttotal: 21m 38s\tremaining: 49.9s\n",
      "1926:\tlearn: 0.9789466\ttest: 0.9270509\tbest: 0.9281972 (1922)\ttotal: 21m 39s\tremaining: 49.2s\n",
      "1927:\tlearn: 0.9789466\ttest: 0.9270509\tbest: 0.9281972 (1922)\ttotal: 21m 40s\tremaining: 48.5s\n",
      "1928:\tlearn: 0.9789817\ttest: 0.9272147\tbest: 0.9281972 (1922)\ttotal: 21m 40s\tremaining: 47.9s\n",
      "1929:\tlearn: 0.9791923\ttest: 0.9279515\tbest: 0.9281972 (1922)\ttotal: 21m 41s\tremaining: 47.2s\n",
      "1930:\tlearn: 0.9791923\ttest: 0.9279515\tbest: 0.9281972 (1922)\ttotal: 21m 42s\tremaining: 46.5s\n",
      "1931:\tlearn: 0.9792273\ttest: 0.9281153\tbest: 0.9281972 (1922)\ttotal: 21m 42s\tremaining: 45.9s\n",
      "1932:\tlearn: 0.9792273\ttest: 0.9281153\tbest: 0.9281972 (1922)\ttotal: 21m 43s\tremaining: 45.2s\n",
      "1933:\tlearn: 0.9793326\ttest: 0.9281153\tbest: 0.9281972 (1922)\ttotal: 21m 44s\tremaining: 44.5s\n",
      "1934:\tlearn: 0.9793677\ttest: 0.9282790\tbest: 0.9282790 (1934)\ttotal: 21m 44s\tremaining: 43.8s\n",
      "1935:\tlearn: 0.9793677\ttest: 0.9282790\tbest: 0.9282790 (1934)\ttotal: 21m 45s\tremaining: 43.2s\n",
      "1936:\tlearn: 0.9793326\ttest: 0.9281153\tbest: 0.9282790 (1934)\ttotal: 21m 46s\tremaining: 42.5s\n",
      "1937:\tlearn: 0.9793326\ttest: 0.9281153\tbest: 0.9282790 (1934)\ttotal: 21m 46s\tremaining: 41.8s\n",
      "1938:\tlearn: 0.9794028\ttest: 0.9281972\tbest: 0.9282790 (1934)\ttotal: 21m 47s\tremaining: 41.1s\n",
      "1939:\tlearn: 0.9794379\ttest: 0.9283609\tbest: 0.9283609 (1939)\ttotal: 21m 48s\tremaining: 40.5s\n",
      "1940:\tlearn: 0.9795081\ttest: 0.9284428\tbest: 0.9284428 (1940)\ttotal: 21m 48s\tremaining: 39.8s\n",
      "1941:\tlearn: 0.9795431\ttest: 0.9283609\tbest: 0.9284428 (1940)\ttotal: 21m 49s\tremaining: 39.1s\n",
      "1942:\tlearn: 0.9795431\ttest: 0.9283609\tbest: 0.9284428 (1940)\ttotal: 21m 50s\tremaining: 38.4s\n",
      "1943:\tlearn: 0.9795431\ttest: 0.9283609\tbest: 0.9284428 (1940)\ttotal: 21m 50s\tremaining: 37.8s\n",
      "1944:\tlearn: 0.9795431\ttest: 0.9283609\tbest: 0.9284428 (1940)\ttotal: 21m 51s\tremaining: 37.1s\n",
      "1945:\tlearn: 0.9796133\ttest: 0.9284428\tbest: 0.9284428 (1940)\ttotal: 21m 52s\tremaining: 36.4s\n",
      "1946:\tlearn: 0.9796133\ttest: 0.9284428\tbest: 0.9284428 (1940)\ttotal: 21m 52s\tremaining: 35.7s\n",
      "1947:\tlearn: 0.9796133\ttest: 0.9284428\tbest: 0.9284428 (1940)\ttotal: 21m 53s\tremaining: 35.1s\n",
      "1948:\tlearn: 0.9796484\ttest: 0.9286065\tbest: 0.9286065 (1948)\ttotal: 21m 54s\tremaining: 34.4s\n",
      "1949:\tlearn: 0.9797186\ttest: 0.9284428\tbest: 0.9286065 (1948)\ttotal: 21m 54s\tremaining: 33.7s\n",
      "1950:\tlearn: 0.9797888\ttest: 0.9285246\tbest: 0.9286065 (1948)\ttotal: 21m 55s\tremaining: 33s\n",
      "1951:\tlearn: 0.9797888\ttest: 0.9285246\tbest: 0.9286065 (1948)\ttotal: 21m 56s\tremaining: 32.4s\n",
      "1952:\tlearn: 0.9797888\ttest: 0.9285246\tbest: 0.9286065 (1948)\ttotal: 21m 56s\tremaining: 31.7s\n",
      "1953:\tlearn: 0.9797888\ttest: 0.9285246\tbest: 0.9286065 (1948)\ttotal: 21m 57s\tremaining: 31s\n",
      "1954:\tlearn: 0.9797186\ttest: 0.9284428\tbest: 0.9286065 (1948)\ttotal: 21m 58s\tremaining: 30.3s\n",
      "1955:\tlearn: 0.9797186\ttest: 0.9286884\tbest: 0.9286884 (1955)\ttotal: 21m 58s\tremaining: 29.7s\n",
      "1956:\tlearn: 0.9797537\ttest: 0.9288521\tbest: 0.9288521 (1956)\ttotal: 21m 59s\tremaining: 29s\n",
      "1957:\tlearn: 0.9797186\ttest: 0.9286884\tbest: 0.9288521 (1956)\ttotal: 22m\tremaining: 28.3s\n",
      "1958:\tlearn: 0.9797186\ttest: 0.9286884\tbest: 0.9288521 (1956)\ttotal: 22m\tremaining: 27.6s\n",
      "1959:\tlearn: 0.9798940\ttest: 0.9287703\tbest: 0.9288521 (1956)\ttotal: 22m 1s\tremaining: 27s\n",
      "1960:\tlearn: 0.9799642\ttest: 0.9290978\tbest: 0.9290978 (1960)\ttotal: 22m 2s\tremaining: 26.3s\n",
      "1961:\tlearn: 0.9799993\ttest: 0.9292615\tbest: 0.9292615 (1961)\ttotal: 22m 3s\tremaining: 25.6s\n",
      "1962:\tlearn: 0.9799993\ttest: 0.9292615\tbest: 0.9292615 (1961)\ttotal: 22m 3s\tremaining: 25s\n",
      "1963:\tlearn: 0.9799993\ttest: 0.9292615\tbest: 0.9292615 (1961)\ttotal: 22m 4s\tremaining: 24.3s\n",
      "1964:\tlearn: 0.9799993\ttest: 0.9292615\tbest: 0.9292615 (1961)\ttotal: 22m 5s\tremaining: 23.6s\n",
      "1965:\tlearn: 0.9800344\ttest: 0.9289340\tbest: 0.9292615 (1961)\ttotal: 22m 5s\tremaining: 22.9s\n",
      "1966:\tlearn: 0.9801747\ttest: 0.9293434\tbest: 0.9293434 (1966)\ttotal: 22m 6s\tremaining: 22.3s\n",
      "1967:\tlearn: 0.9802449\ttest: 0.9294252\tbest: 0.9294252 (1967)\ttotal: 22m 7s\tremaining: 21.6s\n",
      "1968:\tlearn: 0.9802449\ttest: 0.9294252\tbest: 0.9294252 (1967)\ttotal: 22m 7s\tremaining: 20.9s\n",
      "1969:\tlearn: 0.9803151\ttest: 0.9295071\tbest: 0.9295071 (1969)\ttotal: 22m 8s\tremaining: 20.2s\n",
      "1970:\tlearn: 0.9803151\ttest: 0.9295071\tbest: 0.9295071 (1969)\ttotal: 22m 9s\tremaining: 19.6s\n",
      "1971:\tlearn: 0.9803151\ttest: 0.9295071\tbest: 0.9295071 (1969)\ttotal: 22m 9s\tremaining: 18.9s\n",
      "1972:\tlearn: 0.9803151\ttest: 0.9295071\tbest: 0.9295071 (1969)\ttotal: 22m 10s\tremaining: 18.2s\n",
      "1973:\tlearn: 0.9803151\ttest: 0.9295071\tbest: 0.9295071 (1969)\ttotal: 22m 11s\tremaining: 17.5s\n",
      "1974:\tlearn: 0.9803853\ttest: 0.9293434\tbest: 0.9295071 (1969)\ttotal: 22m 11s\tremaining: 16.9s\n",
      "1975:\tlearn: 0.9805607\ttest: 0.9294252\tbest: 0.9295071 (1969)\ttotal: 22m 12s\tremaining: 16.2s\n",
      "1976:\tlearn: 0.9805607\ttest: 0.9296709\tbest: 0.9296709 (1976)\ttotal: 22m 13s\tremaining: 15.5s\n",
      "1977:\tlearn: 0.9805607\ttest: 0.9296709\tbest: 0.9296709 (1976)\ttotal: 22m 13s\tremaining: 14.8s\n",
      "1978:\tlearn: 0.9804905\ttest: 0.9295890\tbest: 0.9296709 (1976)\ttotal: 22m 14s\tremaining: 14.2s\n",
      "1979:\tlearn: 0.9805607\ttest: 0.9296709\tbest: 0.9296709 (1976)\ttotal: 22m 15s\tremaining: 13.5s\n",
      "1980:\tlearn: 0.9805607\ttest: 0.9296709\tbest: 0.9296709 (1976)\ttotal: 22m 15s\tremaining: 12.8s\n",
      "1981:\tlearn: 0.9805607\ttest: 0.9296709\tbest: 0.9296709 (1976)\ttotal: 22m 16s\tremaining: 12.1s\n",
      "1982:\tlearn: 0.9803502\ttest: 0.9294252\tbest: 0.9296709 (1976)\ttotal: 22m 17s\tremaining: 11.5s\n",
      "1983:\tlearn: 0.9803151\ttest: 0.9292615\tbest: 0.9296709 (1976)\ttotal: 22m 17s\tremaining: 10.8s\n",
      "1984:\tlearn: 0.9803151\ttest: 0.9292615\tbest: 0.9296709 (1976)\ttotal: 22m 18s\tremaining: 10.1s\n",
      "1985:\tlearn: 0.9804905\ttest: 0.9298346\tbest: 0.9298346 (1985)\ttotal: 22m 19s\tremaining: 9.44s\n",
      "1986:\tlearn: 0.9804905\ttest: 0.9298346\tbest: 0.9298346 (1985)\ttotal: 22m 19s\tremaining: 8.77s\n",
      "1987:\tlearn: 0.9804555\ttest: 0.9296709\tbest: 0.9298346 (1985)\ttotal: 22m 20s\tremaining: 8.09s\n",
      "1988:\tlearn: 0.9804555\ttest: 0.9296709\tbest: 0.9298346 (1985)\ttotal: 22m 21s\tremaining: 7.42s\n",
      "1989:\tlearn: 0.9805958\ttest: 0.9300802\tbest: 0.9300802 (1989)\ttotal: 22m 21s\tremaining: 6.74s\n",
      "1990:\tlearn: 0.9806660\ttest: 0.9304077\tbest: 0.9304077 (1990)\ttotal: 22m 22s\tremaining: 6.07s\n",
      "1991:\tlearn: 0.9807713\ttest: 0.9306533\tbest: 0.9306533 (1991)\ttotal: 22m 23s\tremaining: 5.39s\n",
      "1992:\tlearn: 0.9807713\ttest: 0.9306533\tbest: 0.9306533 (1991)\ttotal: 22m 23s\tremaining: 4.72s\n",
      "1993:\tlearn: 0.9808063\ttest: 0.9308171\tbest: 0.9308171 (1993)\ttotal: 22m 24s\tremaining: 4.04s\n",
      "1994:\tlearn: 0.9809818\ttest: 0.9308990\tbest: 0.9308990 (1994)\ttotal: 22m 25s\tremaining: 3.37s\n",
      "1995:\tlearn: 0.9809818\ttest: 0.9308990\tbest: 0.9308990 (1994)\ttotal: 22m 25s\tremaining: 2.7s\n",
      "1996:\tlearn: 0.9809467\ttest: 0.9309808\tbest: 0.9309808 (1996)\ttotal: 22m 26s\tremaining: 2.02s\n",
      "1997:\tlearn: 0.9809467\ttest: 0.9309808\tbest: 0.9309808 (1996)\ttotal: 22m 27s\tremaining: 1.35s\n",
      "1998:\tlearn: 0.9809116\ttest: 0.9308171\tbest: 0.9309808 (1996)\ttotal: 22m 27s\tremaining: 674ms\n",
      "1999:\tlearn: 0.9809116\ttest: 0.9308171\tbest: 0.9309808 (1996)\ttotal: 22m 28s\tremaining: 0us\n",
      "bestTest = 0.9309808417\n",
      "bestIteration = 1996\n",
      "Shrink model to first 1997 iterations.\n"
     ]
    },
    {
     "data": {
      "text/plain": [
       "<catboost.core.CatBoostClassifier at 0x7f09e8dd0b10>"
      ]
     },
     "execution_count": 17,
     "metadata": {},
     "output_type": "execute_result"
    }
   ],
   "source": [
    "model.fit(train_pool,plot=True,eval_set=test_pool)"
   ]
  },
  {
   "cell_type": "code",
   "execution_count": 15,
   "metadata": {
    "colab": {
     "base_uri": "https://localhost:8080/"
    },
    "executionInfo": {
     "elapsed": 24868,
     "status": "ok",
     "timestamp": 1666076170188,
     "user": {
      "displayName": "Ervin Xue",
      "userId": "14119164336412865227"
     },
     "user_tz": -660
    },
    "id": "60QvUBPzYN38",
    "outputId": "845d3d13-6f74-466f-ce64-ebaafedeb9f9"
   },
   "outputs": [
    {
     "data": {
      "text/plain": [
       "0.9307865071190632"
      ]
     },
     "execution_count": 15,
     "metadata": {},
     "output_type": "execute_result"
    }
   ],
   "source": [
    "test_pred=model.predict(x_test)\n",
    "#reshape to make y_pred in the same shape\n",
    "y_pred = test_pred.reshape(-1)\n",
    "#https://scikit-learn.org/stable/modules/generated/sklearn.metrics.f1_score.html\n",
    "f1_score(y_true=y_test,y_pred=y_pred, average='weighted')"
   ]
  },
  {
   "cell_type": "code",
   "execution_count": 19,
   "metadata": {
    "colab": {
     "base_uri": "https://localhost:8080/"
    },
    "executionInfo": {
     "elapsed": 59489,
     "status": "ok",
     "timestamp": 1666077916136,
     "user": {
      "displayName": "Ervin Xue",
      "userId": "14119164336412865227"
     },
     "user_tz": -660
    },
    "id": "Y3rOEu_RQlOh",
    "outputId": "deca0f53-7f3a-44e5-da44-d55bef97cca1"
   },
   "outputs": [
    {
     "data": {
      "text/plain": [
       "0.9809752152919542"
      ]
     },
     "execution_count": 19,
     "metadata": {},
     "output_type": "execute_result"
    }
   ],
   "source": [
    "pred =model.predict(x_train)\n",
    "f1_score(y_true=y_train,y_pred=pred,average='weighted')"
   ]
  },
  {
   "cell_type": "code",
   "execution_count": 22,
   "metadata": {
    "executionInfo": {
     "elapsed": 3154,
     "status": "ok",
     "timestamp": 1666078260719,
     "user": {
      "displayName": "Ervin Xue",
      "userId": "14119164336412865227"
     },
     "user_tz": -660
    },
    "id": "-NskEKr1diTT"
   },
   "outputs": [],
   "source": [
    "test_data = np.load('feature_test1.npy')\n",
    "test_data = scaler.transform(test_data)\n",
    "predd =model.predict(test_data)\n",
    "#put the result in list form and directly and create a csvs object\n",
    "predd=predd.tolist()\n"
   ]
  },
  {
   "cell_type": "code",
   "execution_count": 23,
   "metadata": {
    "colab": {
     "base_uri": "https://localhost:8080/",
     "height": 424
    },
    "executionInfo": {
     "elapsed": 642,
     "status": "ok",
     "timestamp": 1666078264939,
     "user": {
      "displayName": "Ervin Xue",
      "userId": "14119164336412865227"
     },
     "user_tz": -660
    },
    "id": "8M7p6DMhdxdF",
    "outputId": "4c1d1fbb-7e69-4687-f9a5-6374a0c29c9f"
   },
   "outputs": [
    {
     "data": {
      "text/html": [
       "\n",
       "  <div id=\"df-350639e6-081f-470c-b4b4-5f1d7602b26a\">\n",
       "    <div class=\"colab-df-container\">\n",
       "      <div>\n",
       "<style scoped>\n",
       "    .dataframe tbody tr th:only-of-type {\n",
       "        vertical-align: middle;\n",
       "    }\n",
       "\n",
       "    .dataframe tbody tr th {\n",
       "        vertical-align: top;\n",
       "    }\n",
       "\n",
       "    .dataframe thead th {\n",
       "        text-align: right;\n",
       "    }\n",
       "</style>\n",
       "<table border=\"1\" class=\"dataframe\">\n",
       "  <thead>\n",
       "    <tr style=\"text-align: right;\">\n",
       "      <th></th>\n",
       "      <th>0</th>\n",
       "    </tr>\n",
       "  </thead>\n",
       "  <tbody>\n",
       "    <tr>\n",
       "      <th>0</th>\n",
       "      <td>4</td>\n",
       "    </tr>\n",
       "    <tr>\n",
       "      <th>1</th>\n",
       "      <td>26</td>\n",
       "    </tr>\n",
       "    <tr>\n",
       "      <th>2</th>\n",
       "      <td>31</td>\n",
       "    </tr>\n",
       "    <tr>\n",
       "      <th>3</th>\n",
       "      <td>38</td>\n",
       "    </tr>\n",
       "    <tr>\n",
       "      <th>4</th>\n",
       "      <td>32</td>\n",
       "    </tr>\n",
       "    <tr>\n",
       "      <th>...</th>\n",
       "      <td>...</td>\n",
       "    </tr>\n",
       "    <tr>\n",
       "      <th>795</th>\n",
       "      <td>64</td>\n",
       "    </tr>\n",
       "    <tr>\n",
       "      <th>796</th>\n",
       "      <td>83</td>\n",
       "    </tr>\n",
       "    <tr>\n",
       "      <th>797</th>\n",
       "      <td>67</td>\n",
       "    </tr>\n",
       "    <tr>\n",
       "      <th>798</th>\n",
       "      <td>32</td>\n",
       "    </tr>\n",
       "    <tr>\n",
       "      <th>799</th>\n",
       "      <td>52</td>\n",
       "    </tr>\n",
       "  </tbody>\n",
       "</table>\n",
       "<p>800 rows × 1 columns</p>\n",
       "</div>\n",
       "      <button class=\"colab-df-convert\" onclick=\"convertToInteractive('df-350639e6-081f-470c-b4b4-5f1d7602b26a')\"\n",
       "              title=\"Convert this dataframe to an interactive table.\"\n",
       "              style=\"display:none;\">\n",
       "        \n",
       "  <svg xmlns=\"http://www.w3.org/2000/svg\" height=\"24px\"viewBox=\"0 0 24 24\"\n",
       "       width=\"24px\">\n",
       "    <path d=\"M0 0h24v24H0V0z\" fill=\"none\"/>\n",
       "    <path d=\"M18.56 5.44l.94 2.06.94-2.06 2.06-.94-2.06-.94-.94-2.06-.94 2.06-2.06.94zm-11 1L8.5 8.5l.94-2.06 2.06-.94-2.06-.94L8.5 2.5l-.94 2.06-2.06.94zm10 10l.94 2.06.94-2.06 2.06-.94-2.06-.94-.94-2.06-.94 2.06-2.06.94z\"/><path d=\"M17.41 7.96l-1.37-1.37c-.4-.4-.92-.59-1.43-.59-.52 0-1.04.2-1.43.59L10.3 9.45l-7.72 7.72c-.78.78-.78 2.05 0 2.83L4 21.41c.39.39.9.59 1.41.59.51 0 1.02-.2 1.41-.59l7.78-7.78 2.81-2.81c.8-.78.8-2.07 0-2.86zM5.41 20L4 18.59l7.72-7.72 1.47 1.35L5.41 20z\"/>\n",
       "  </svg>\n",
       "      </button>\n",
       "      \n",
       "  <style>\n",
       "    .colab-df-container {\n",
       "      display:flex;\n",
       "      flex-wrap:wrap;\n",
       "      gap: 12px;\n",
       "    }\n",
       "\n",
       "    .colab-df-convert {\n",
       "      background-color: #E8F0FE;\n",
       "      border: none;\n",
       "      border-radius: 50%;\n",
       "      cursor: pointer;\n",
       "      display: none;\n",
       "      fill: #1967D2;\n",
       "      height: 32px;\n",
       "      padding: 0 0 0 0;\n",
       "      width: 32px;\n",
       "    }\n",
       "\n",
       "    .colab-df-convert:hover {\n",
       "      background-color: #E2EBFA;\n",
       "      box-shadow: 0px 1px 2px rgba(60, 64, 67, 0.3), 0px 1px 3px 1px rgba(60, 64, 67, 0.15);\n",
       "      fill: #174EA6;\n",
       "    }\n",
       "\n",
       "    [theme=dark] .colab-df-convert {\n",
       "      background-color: #3B4455;\n",
       "      fill: #D2E3FC;\n",
       "    }\n",
       "\n",
       "    [theme=dark] .colab-df-convert:hover {\n",
       "      background-color: #434B5C;\n",
       "      box-shadow: 0px 1px 3px 1px rgba(0, 0, 0, 0.15);\n",
       "      filter: drop-shadow(0px 1px 2px rgba(0, 0, 0, 0.3));\n",
       "      fill: #FFFFFF;\n",
       "    }\n",
       "  </style>\n",
       "\n",
       "      <script>\n",
       "        const buttonEl =\n",
       "          document.querySelector('#df-350639e6-081f-470c-b4b4-5f1d7602b26a button.colab-df-convert');\n",
       "        buttonEl.style.display =\n",
       "          google.colab.kernel.accessAllowed ? 'block' : 'none';\n",
       "\n",
       "        async function convertToInteractive(key) {\n",
       "          const element = document.querySelector('#df-350639e6-081f-470c-b4b4-5f1d7602b26a');\n",
       "          const dataTable =\n",
       "            await google.colab.kernel.invokeFunction('convertToInteractive',\n",
       "                                                     [key], {});\n",
       "          if (!dataTable) return;\n",
       "\n",
       "          const docLinkHtml = 'Like what you see? Visit the ' +\n",
       "            '<a target=\"_blank\" href=https://colab.research.google.com/notebooks/data_table.ipynb>data table notebook</a>'\n",
       "            + ' to learn more about interactive tables.';\n",
       "          element.innerHTML = '';\n",
       "          dataTable['output_type'] = 'display_data';\n",
       "          await google.colab.output.renderOutput(dataTable, element);\n",
       "          const docLink = document.createElement('div');\n",
       "          docLink.innerHTML = docLinkHtml;\n",
       "          element.appendChild(docLink);\n",
       "        }\n",
       "      </script>\n",
       "    </div>\n",
       "  </div>\n",
       "  "
      ],
      "text/plain": [
       "      0\n",
       "0     4\n",
       "1    26\n",
       "2    31\n",
       "3    38\n",
       "4    32\n",
       "..   ..\n",
       "795  64\n",
       "796  83\n",
       "797  67\n",
       "798  32\n",
       "799  52\n",
       "\n",
       "[800 rows x 1 columns]"
      ]
     },
     "execution_count": 23,
     "metadata": {},
     "output_type": "execute_result"
    }
   ],
   "source": [
    "df= pd.DataFrame(predd)\n",
    "df"
   ]
  },
  {
   "cell_type": "code",
   "execution_count": 24,
   "metadata": {
    "executionInfo": {
     "elapsed": 536,
     "status": "ok",
     "timestamp": 1666078269791,
     "user": {
      "displayName": "Ervin Xue",
      "userId": "14119164336412865227"
     },
     "user_tz": -660
    },
    "id": "DUi5egpZfBum"
   },
   "outputs": [],
   "source": [
    "df.to_csv('predict.csv')"
   ]
  }
 ],
 "metadata": {
  "accelerator": "GPU",
  "colab": {
   "collapsed_sections": [],
   "machine_shape": "hm",
   "provenance": []
  },
  "gpuClass": "premium",
  "kernelspec": {
   "display_name": "Python 3 (ipykernel)",
   "language": "python",
   "name": "python3"
  },
  "language_info": {
   "codemirror_mode": {
    "name": "ipython",
    "version": 3
   },
   "file_extension": ".py",
   "mimetype": "text/x-python",
   "name": "python",
   "nbconvert_exporter": "python",
   "pygments_lexer": "ipython3",
   "version": "3.9.12"
  },
  "widgets": {
   "application/vnd.jupyter.widget-state+json": {
    "e8864b9017b14bdd876b4ea20cfb828f": {
     "model_module": "catboost-widget",
     "model_module_version": "^1.0.0",
     "model_name": "CatboostWidgetModel",
     "state": {
      "_dom_classes": [],
      "_model_module": "catboost-widget",
      "_model_module_version": "^1.0.0",
      "_model_name": "CatboostWidgetModel",
      "_view_count": null,
      "_view_module": "catboost-widget",
      "_view_module_version": "^1.0.0",
      "_view_name": "CatboostWidgetView",
      "data": {
       "catboost_info": {
        "content": {
         "data": {
          "iterations": [
           {
            "iteration": 0,
            "learn": [
             0.4809642444,
             2.504300041
            ],
            "passed_time": 0.681304661,
            "remaining_time": 1361.928017,
            "test": [
             0.4811691502,
             2.489747613
            ]
           },
           {
            "iteration": 1,
            "learn": [
             0.4871048107,
             2.474859589
            ],
            "passed_time": 1.326692519,
            "remaining_time": 1325.365827,
            "test": [
             0.4889471099,
             2.460541406
            ]
           },
           {
            "iteration": 2,
            "learn": [
             0.491841819,
             2.452004621
            ],
            "passed_time": 1.993699867,
            "remaining_time": 1327.139545,
            "test": [
             0.4941051253,
             2.437320263
            ]
           },
           {
            "iteration": 3,
            "learn": [
             0.4965437384,
             2.433010533
            ],
            "passed_time": 2.649911325,
            "remaining_time": 1322.305751,
            "test": [
             0.4983625348,
             2.418299281
            ]
           },
           {
            "iteration": 4,
            "learn": [
             0.4982981859,
             2.419957992
            ],
            "passed_time": 3.295413459,
            "remaining_time": 1314.86997,
            "test": [
             0.5004093663,
             2.404686573
            ]
           },
           {
            "iteration": 5,
            "learn": [
             0.5045089301,
             2.405390321
            ],
            "passed_time": 3.9443914,
            "remaining_time": 1310.852742,
            "test": [
             0.5055673817,
             2.391130312
            ]
           },
           {
            "iteration": 6,
            "learn": [
             0.5086845152,
             2.393969416
            ],
            "passed_time": 4.596446714,
            "remaining_time": 1308.674043,
            "test": [
             0.5090879319,
             2.380801968
            ]
           },
           {
            "iteration": 7,
            "learn": [
             0.5118776097,
             2.383172162
            ],
            "passed_time": 5.256050312,
            "remaining_time": 1308.756528,
            "test": [
             0.5117078762,
             2.370643287
            ]
           },
           {
            "iteration": 8,
            "learn": [
             0.5154215937,
             2.37159226
            ],
            "passed_time": 5.924147947,
            "remaining_time": 1310.553174,
            "test": [
             0.5154740462,
             2.359362047
            ]
           },
           {
            "iteration": 9,
            "learn": [
             0.5185795993,
             2.361134108
            ],
            "passed_time": 6.581186608,
            "remaining_time": 1309.656135,
            "test": [
             0.5184214835,
             2.350244053
            ]
           },
           {
            "iteration": 10,
            "learn": [
             0.5227551844,
             2.351472036
            ],
            "passed_time": 7.236284968,
            "remaining_time": 1308.451891,
            "test": [
             0.5221876535,
             2.340034521
            ]
           },
           {
            "iteration": 11,
            "learn": [
             0.5270711253,
             2.341804756
            ],
            "passed_time": 7.899534588,
            "remaining_time": 1308.689563,
            "test": [
             0.5266088096,
             2.330320547
            ]
           },
           {
            "iteration": 12,
            "learn": [
             0.531527422,
             2.332901758
            ],
            "passed_time": 8.545467084,
            "remaining_time": 1306.141777,
            "test": [
             0.5292287539,
             2.322540508
            ]
           },
           {
            "iteration": 13,
            "learn": [
             0.5355977403,
             2.32441544
            ],
            "passed_time": 9.201251731,
            "remaining_time": 1305.263281,
            "test": [
             0.5327493041,
             2.315161201
            ]
           },
           {
            "iteration": 14,
            "learn": [
             0.5365451419,
             2.317700018
            ],
            "passed_time": 9.855939972,
            "remaining_time": 1304.26939,
            "test": [
             0.5329949239,
             2.309455978
            ]
           },
           {
            "iteration": 15,
            "learn": [
             0.5408259939,
             2.308722181
            ],
            "passed_time": 10.51050077,
            "remaining_time": 1303.302096,
            "test": [
             0.5372523334,
             2.300559936
            ]
           },
           {
            "iteration": 16,
            "learn": [
             0.5430365978,
             2.301412166
            ],
            "passed_time": 11.16653098,
            "remaining_time": 1302.542996,
            "test": [
             0.5389716719,
             2.293675387
            ]
           },
           {
            "iteration": 17,
            "learn": [
             0.544264711,
             2.293844329
            ],
            "passed_time": 11.82659253,
            "remaining_time": 1302.239245,
            "test": [
             0.5397904045,
             2.287063801
            ]
           },
           {
            "iteration": 18,
            "learn": [
             0.545036668,
             2.287208954
            ],
            "passed_time": 12.47915577,
            "remaining_time": 1301.116188,
            "test": [
             0.5406910103,
             2.279741741
            ]
           },
           {
            "iteration": 19,
            "learn": [
             0.5471770939,
             2.282150388
            ],
            "passed_time": 13.13523211,
            "remaining_time": 1300.387978,
            "test": [
             0.5425740953,
             2.275335936
            ]
           },
           {
            "iteration": 20,
            "learn": [
             0.5498789431,
             2.273916546
            ],
            "passed_time": 13.81323252,
            "remaining_time": 1301.732722,
            "test": [
             0.5451121664,
             2.268214242
            ]
           },
           {
            "iteration": 21,
            "learn": [
             0.5508263448,
             2.267890704
            ],
            "passed_time": 14.46852143,
            "remaining_time": 1300.851609,
            "test": [
             0.546585885,
             2.261891611
            ]
           },
           {
            "iteration": 22,
            "learn": [
             0.5531773045,
             2.260731599
            ],
            "passed_time": 15.16425309,
            "remaining_time": 1303.46645,
            "test": [
             0.5477321107,
             2.256418096
            ]
           },
           {
            "iteration": 23,
            "learn": [
             0.5532123934,
             2.254540181
            ],
            "passed_time": 15.81596679,
            "remaining_time": 1302.181266,
            "test": [
             0.548141477,
             2.25143646
            ]
           },
           {
            "iteration": 24,
            "learn": [
             0.5531422155,
             2.249178151
            ],
            "passed_time": 16.47423684,
            "remaining_time": 1301.464711,
            "test": [
             0.5480596037,
             2.246640798
            ]
           },
           {
            "iteration": 25,
            "learn": [
             0.554896663,
             2.243761568
            ],
            "passed_time": 17.12352751,
            "remaining_time": 1300.070896,
            "test": [
             0.5488783363,
             2.242370436
            ]
           },
           {
            "iteration": 26,
            "learn": [
             0.5553528194,
             2.238870909
            ],
            "passed_time": 17.77816898,
            "remaining_time": 1299.123237,
            "test": [
             0.5495333224,
             2.238541741
            ]
           },
           {
            "iteration": 27,
            "learn": [
             0.5572476227,
             2.233645808
            ],
            "passed_time": 18.44291161,
            "remaining_time": 1298.907918,
            "test": [
             0.5519895202,
             2.233531961
            ]
           },
           {
            "iteration": 28,
            "learn": [
             0.5600898277,
             2.227916303
            ],
            "passed_time": 19.13728505,
            "remaining_time": 1300.675477,
            "test": [
             0.5539544785,
             2.229235694
            ]
           },
           {
            "iteration": 29,
            "learn": [
             0.5616337415,
             2.221934048
            ],
            "passed_time": 19.83698231,
            "remaining_time": 1302.628505,
            "test": [
             0.5545275913,
             2.224307148
            ]
           },
           {
            "iteration": 30,
            "learn": [
             0.5629671217,
             2.21705175
            ],
            "passed_time": 20.50240016,
            "remaining_time": 1302.233094,
            "test": [
             0.556328803,
             2.219794844
            ]
           },
           {
            "iteration": 31,
            "learn": [
             0.5645812134,
             2.212374502
            ],
            "passed_time": 21.16206622,
            "remaining_time": 1301.467073,
            "test": [
             0.5577206484,
             2.215478907
            ]
           },
           {
            "iteration": 32,
            "learn": [
             0.5667216394,
             2.207503306
            ],
            "passed_time": 21.8187233,
            "remaining_time": 1300.528144,
            "test": [
             0.5593581136,
             2.211328797
            ]
           },
           {
            "iteration": 33,
            "learn": [
             0.5683357311,
             2.20297738
            ],
            "passed_time": 22.48855301,
            "remaining_time": 1300.367506,
            "test": [
             0.5612411986,
             2.207069468
            ]
           },
           {
            "iteration": 34,
            "learn": [
             0.569809467,
             2.198046149
            ],
            "passed_time": 23.15128553,
            "remaining_time": 1299.779316,
            "test": [
             0.5622236777,
             2.202382384
            ]
           },
           {
            "iteration": 35,
            "learn": [
             0.5723358714,
             2.193069137
            ],
            "passed_time": 23.80269852,
            "remaining_time": 1298.569441,
            "test": [
             0.5654167349,
             2.197544986
            ]
           },
           {
            "iteration": 36,
            "learn": [
             0.5730727394,
             2.188279084
            ],
            "passed_time": 24.453683,
            "remaining_time": 1297.36702,
            "test": [
             0.566399214,
             2.192936097
            ]
           },
           {
            "iteration": 37,
            "learn": [
             0.5742306748,
             2.183770428
            ],
            "passed_time": 25.11869624,
            "remaining_time": 1296.917948,
            "test": [
             0.5678729327,
             2.188502148
            ]
           },
           {
            "iteration": 38,
            "learn": [
             0.5748271869,
             2.179745068
            ],
            "passed_time": 25.77984131,
            "remaining_time": 1296.263303,
            "test": [
             0.5686916653,
             2.184441906
            ]
           },
           {
            "iteration": 39,
            "learn": [
             0.5761254781,
             2.175921195
            ],
            "passed_time": 26.43264287,
            "remaining_time": 1295.199501,
            "test": [
             0.5703291305,
             2.180986119
            ]
           },
           {
            "iteration": 40,
            "learn": [
             0.5796694621,
             2.171612244
            ],
            "passed_time": 27.09195614,
            "remaining_time": 1294.46688,
            "test": [
             0.5736040609,
             2.176469177
            ]
           },
           {
            "iteration": 41,
            "learn": [
             0.5814239096,
             2.167331255
            ],
            "passed_time": 27.74594484,
            "remaining_time": 1293.489523,
            "test": [
             0.5751596529,
             2.172633287
            ]
           },
           {
            "iteration": 42,
            "learn": [
             0.5841608477,
             2.162614121
            ],
            "passed_time": 28.39383283,
            "remaining_time": 1292.249555,
            "test": [
             0.5768789913,
             2.168676986
            ]
           },
           {
            "iteration": 43,
            "learn": [
             0.5865819853,
             2.158499119
            ],
            "passed_time": 29.06514885,
            "remaining_time": 1292.077981,
            "test": [
             0.5788439496,
             2.164771535
            ]
           },
           {
            "iteration": 44,
            "learn": [
             0.5877750096,
             2.150390556
            ],
            "passed_time": 29.75305833,
            "remaining_time": 1292.60509,
            "test": [
             0.5799901752,
             2.157862519
            ]
           },
           {
            "iteration": 45,
            "learn": [
             0.5900207025,
             2.146387264
            ],
            "passed_time": 30.40828543,
            "remaining_time": 1291.691081,
            "test": [
             0.5823644998,
             2.153877914
            ]
           },
           {
            "iteration": 46,
            "learn": [
             0.5916347942,
             2.141559792
            ],
            "passed_time": 31.07474503,
            "remaining_time": 1291.254831,
            "test": [
             0.5835107254,
             2.150086798
            ]
           },
           {
            "iteration": 47,
            "learn": [
             0.5918453279,
             2.137368718
            ],
            "passed_time": 31.72748356,
            "remaining_time": 1290.250998,
            "test": [
             0.5835107254,
             2.146974495
            ]
           },
           {
            "iteration": 48,
            "learn": [
             0.5917400611,
             2.133976329
            ],
            "passed_time": 32.38269867,
            "remaining_time": 1289.360104,
            "test": [
             0.5835107254,
             2.14405824
            ]
           },
           {
            "iteration": 49,
            "learn": [
             0.5939857539,
             2.129693832
            ],
            "passed_time": 33.03585395,
            "remaining_time": 1288.398304,
            "test": [
             0.5856394302,
             2.139853281
            ]
           },
           {
            "iteration": 50,
            "learn": [
             0.5944068213,
             2.123335057
            ],
            "passed_time": 33.73331794,
            "remaining_time": 1289.141895,
            "test": [
             0.5861306697,
             2.134860131
            ]
           },
           {
            "iteration": 51,
            "learn": [
             0.5955998456,
             2.119573549
            ],
            "passed_time": 34.38917442,
            "remaining_time": 1288.27138,
            "test": [
             0.5870312756,
             2.131352374
            ]
           },
           {
            "iteration": 52,
            "learn": [
             0.5959156462,
             2.115336147
            ],
            "passed_time": 35.05716425,
            "remaining_time": 1287.854694,
            "test": [
             0.5870312756,
             2.127494256
            ]
           },
           {
            "iteration": 53,
            "learn": [
             0.5974946489,
             2.11198337
            ],
            "passed_time": 35.72334198,
            "remaining_time": 1287.363398,
            "test": [
             0.5877681349,
             2.124268098
            ]
           },
           {
            "iteration": 54,
            "learn": [
             0.5992140075,
             2.108604962
            ],
            "passed_time": 36.38037743,
            "remaining_time": 1286.542438,
            "test": [
             0.5891599804,
             2.121745538
            ]
           },
           {
            "iteration": 55,
            "learn": [
             0.5993894523,
             2.104887452
            ],
            "passed_time": 37.03654797,
            "remaining_time": 1285.697308,
            "test": [
             0.5892418536,
             2.118194445
            ]
           },
           {
            "iteration": 56,
            "learn": [
             0.6002315871,
             2.101671056
            ],
            "passed_time": 37.69195214,
            "remaining_time": 1284.832684,
            "test": [
             0.5904699525,
             2.114747133
            ]
           },
           {
            "iteration": 57,
            "learn": [
             0.6036001263,
             2.095220583
            ],
            "passed_time": 38.38330692,
            "remaining_time": 1285.179001,
            "test": [
             0.5934173899,
             2.109551059
            ]
           },
           {
            "iteration": 58,
            "learn": [
             0.6035650374,
             2.091609574
            ],
            "passed_time": 39.04458226,
            "remaining_time": 1284.500579,
            "test": [
             0.5934992631,
             2.10623887
            ]
           },
           {
            "iteration": 59,
            "learn": [
             0.6048282396,
             2.088529285
            ],
            "passed_time": 39.69774052,
            "remaining_time": 1283.560277,
            "test": [
             0.594727362,
             2.103380662
            ]
           },
           {
            "iteration": 60,
            "learn": [
             0.6065125092,
             2.084935272
            ],
            "passed_time": 40.35287851,
            "remaining_time": 1282.692319,
            "test": [
             0.5966923203,
             2.099895292
            ]
           },
           {
            "iteration": 61,
            "learn": [
             0.6086529352,
             2.081464892
            ],
            "passed_time": 41.00740851,
            "remaining_time": 1281.812221,
            "test": [
             0.5978385459,
             2.097442292
            ]
           },
           {
            "iteration": 62,
            "learn": [
             0.609530159,
             2.078360069
            ],
            "passed_time": 41.66649479,
            "remaining_time": 1281.079372,
            "test": [
             0.598493532,
             2.094967545
            ]
           },
           {
            "iteration": 63,
            "learn": [
             0.6110740728,
             2.070175297
            ],
            "passed_time": 42.38341069,
            "remaining_time": 1282.098173,
            "test": [
             0.5998035042,
             2.088434315
            ]
           },
           {
            "iteration": 64,
            "learn": [
             0.6124074529,
             2.06629646
            ],
            "passed_time": 43.04578375,
            "remaining_time": 1281.43987,
            "test": [
             0.6008678566,
             2.08502714
            ]
           },
           {
            "iteration": 65,
            "learn": [
             0.6141619004,
             2.063419029
            ],
            "passed_time": 43.69843001,
            "remaining_time": 1280.496419,
            "test": [
             0.6016865892,
             2.082479314
            ]
           },
           {
            "iteration": 66,
            "learn": [
             0.6154952805,
             2.059977845
            ],
            "passed_time": 44.35727396,
            "remaining_time": 1279.740456,
            "test": [
             0.6032421811,
             2.079553305
            ]
           },
           {
            "iteration": 67,
            "learn": [
             0.6174953507,
             2.056711968
            ],
            "passed_time": 45.01513202,
            "remaining_time": 1278.959339,
            "test": [
             0.6047158998,
             2.076366644
            ]
           },
           {
            "iteration": 68,
            "learn": [
             0.6185831082,
             2.053549713
            ],
            "passed_time": 45.66894207,
            "remaining_time": 1278.068509,
            "test": [
             0.6058621254,
             2.073131531
            ]
           },
           {
            "iteration": 69,
            "learn": [
             0.6207937121,
             2.050202145
            ],
            "passed_time": 46.32100109,
            "remaining_time": 1277.136173,
            "test": [
             0.6083183232,
             2.06968198
            ]
           },
           {
            "iteration": 70,
            "learn": [
             0.6225832485,
             2.045985303
            ],
            "passed_time": 47.00545913,
            "remaining_time": 1277.091981,
            "test": [
             0.6095464221,
             2.066175981
            ]
           },
           {
            "iteration": 71,
            "learn": [
             0.6234955612,
             2.043122127
            ],
            "passed_time": 47.65931012,
            "remaining_time": 1276.210415,
            "test": [
             0.6111020141,
             2.063275237
            ]
           },
           {
            "iteration": 72,
            "learn": [
             0.625074564,
             2.040100914
            ],
            "passed_time": 48.31656286,
            "remaining_time": 1275.424885,
            "test": [
             0.6125757328,
             2.060244967
            ]
           },
           {
            "iteration": 73,
            "learn": [
             0.6259868767,
             2.037289686
            ],
            "passed_time": 48.98319412,
            "remaining_time": 1274.886917,
            "test": [
             0.6133944654,
             2.057894469
            ]
           },
           {
            "iteration": 74,
            "learn": [
             0.6274957016,
             2.034499292
            ],
            "passed_time": 49.62821721,
            "remaining_time": 1273.790908,
            "test": [
             0.6150319306,
             2.055014993
            ]
           },
           {
            "iteration": 75,
            "learn": [
             0.6275658795,
             2.031235197
            ],
            "passed_time": 50.29227108,
            "remaining_time": 1273.188547,
            "test": [
             0.6153594236,
             2.052656979
            ]
           },
           {
            "iteration": 76,
            "learn": [
             0.6278115022,
             2.028477151
            ],
            "passed_time": 50.94563653,
            "remaining_time": 1272.31765,
            "test": [
             0.6152775504,
             2.050053346
            ]
           },
           {
            "iteration": 77,
            "learn": [
             0.6282676585,
             2.025711566
            ],
            "passed_time": 51.59064123,
            "remaining_time": 1271.246313,
            "test": [
             0.6154412969,
             2.047338256
            ]
           },
           {
            "iteration": 78,
            "learn": [
             0.6289343486,
             2.022900612
            ],
            "passed_time": 52.25119373,
            "remaining_time": 1270.563837,
            "test": [
             0.6163419027,
             2.044558083
            ]
           },
           {
            "iteration": 79,
            "learn": [
             0.629320327,
             2.01845391
            ],
            "passed_time": 52.93045397,
            "remaining_time": 1270.330895,
            "test": [
             0.6161781562,
             2.040659668
            ]
           },
           {
            "iteration": 80,
            "learn": [
             0.6312853083,
             2.01421267
            ],
            "passed_time": 53.59319883,
            "remaining_time": 1269.695661,
            "test": [
             0.6187162273,
             2.03715255
            ]
           },
           {
            "iteration": 81,
            "learn": [
             0.6319519983,
             2.011479707
            ],
            "passed_time": 54.27761399,
            "remaining_time": 1269.56663,
            "test": [
             0.6191255936,
             2.035042555
            ]
           },
           {
            "iteration": 82,
            "learn": [
             0.6324783326,
             2.008526341
            ],
            "passed_time": 54.9349723,
            "remaining_time": 1268.7993,
            "test": [
             0.6198624529,
             2.032344095
            ]
           },
           {
            "iteration": 83,
            "learn": [
             0.6336362679,
             2.005601348
            ],
            "passed_time": 55.70606504,
            "remaining_time": 1270.628817,
            "test": [
             0.6205993123,
             2.029475653
            ]
           },
           {
            "iteration": 84,
            "learn": [
             0.6351801818,
             1.996217932
            ],
            "passed_time": 56.43950544,
            "remaining_time": 1271.548858,
            "test": [
             0.6214180449,
             2.022180138
            ]
           },
           {
            "iteration": 85,
            "learn": [
             0.6373907856,
             1.993186576
            ],
            "passed_time": 57.11701439,
            "remaining_time": 1271.185646,
            "test": [
             0.6236286229,
             2.019154985
            ]
           },
           {
            "iteration": 86,
            "learn": [
             0.6380925647,
             1.990208949
            ],
            "passed_time": 57.77861707,
            "remaining_time": 1270.465454,
            "test": [
             0.6244473555,
             2.015874937
            ]
           },
           {
            "iteration": 87,
            "learn": [
             0.6387241658,
             1.987296703
            ],
            "passed_time": 58.43116184,
            "remaining_time": 1269.549789,
            "test": [
             0.6251842148,
             2.01353995
            ]
           },
           {
            "iteration": 88,
            "learn": [
             0.6392505,
             1.984956161
            ],
            "passed_time": 59.08416779,
            "remaining_time": 1268.64994,
            "test": [
             0.6259210742,
             2.011405809
            ]
           },
           {
            "iteration": 89,
            "learn": [
             0.6404786133,
             1.98114243
            ],
            "passed_time": 59.77393999,
            "remaining_time": 1268.535838,
            "test": [
             0.6267398068,
             2.00833796
            ]
           },
           {
            "iteration": 90,
            "learn": [
             0.6408295028,
             1.977257289
            ],
            "passed_time": 60.43627353,
            "remaining_time": 1267.833474,
            "test": [
             0.6273947929,
             2.004639591
            ]
           },
           {
            "iteration": 91,
            "learn": [
             0.6416716376,
             1.974675509
            ],
            "passed_time": 61.09501795,
            "remaining_time": 1267.057546,
            "test": [
             0.628377272,
             2.002240001
            ]
           },
           {
            "iteration": 92,
            "learn": [
             0.6427593951,
             1.971280516
            ],
            "passed_time": 61.76189962,
            "remaining_time": 1266.450996,
            "test": [
             0.6292778778,
             1.998393717
            ]
           },
           {
            "iteration": 93,
            "learn": [
             0.6446892873,
             1.968750137
            ],
            "passed_time": 62.42281529,
            "remaining_time": 1265.722191,
            "test": [
             0.6301784837,
             1.996490803
            ]
           },
           {
            "iteration": 94,
            "learn": [
             0.645671778,
             1.966072549
            ],
            "passed_time": 63.07496963,
            "remaining_time": 1264.819128,
            "test": [
             0.6315703291,
             1.994152938
            ]
           },
           {
            "iteration": 95,
            "learn": [
             0.6455665111,
             1.963185386
            ],
            "passed_time": 63.7268072,
            "remaining_time": 1263.915009,
            "test": [
             0.6318159489,
             1.991622543
            ]
           },
           {
            "iteration": 96,
            "learn": [
             0.646338468,
             1.960441046
            ],
            "passed_time": 64.37988861,
            "remaining_time": 1263.040495,
            "test": [
             0.6329621746,
             1.989029783
            ]
           },
           {
            "iteration": 97,
            "learn": [
             0.6478122039,
             1.956791521
            ],
            "passed_time": 65.05440423,
            "remaining_time": 1262.586498,
            "test": [
             0.6344358932,
             1.985875423
            ]
           },
           {
            "iteration": 98,
            "learn": [
             0.6502333415,
             1.9505339
            ],
            "passed_time": 65.76353264,
            "remaining_time": 1262.792682,
            "test": [
             0.6361552317,
             1.980698859
            ]
           },
           {
            "iteration": 99,
            "learn": [
             0.6510403874,
             1.947965417
            ],
            "passed_time": 66.42353309,
            "remaining_time": 1262.047129,
            "test": [
             0.6367283445,
             1.977968098
            ]
           },
           {
            "iteration": 100,
            "learn": [
             0.6516368995,
             1.945590744
            ],
            "passed_time": 67.07713808,
            "remaining_time": 1261.183022,
            "test": [
             0.6370558376,
             1.97551206
            ]
           },
           {
            "iteration": 101,
            "learn": [
             0.6524790344,
             1.942212062
            ],
            "passed_time": 67.73513356,
            "remaining_time": 1260.40474,
            "test": [
             0.6375470771,
             1.973206656
            ]
           },
           {
            "iteration": 102,
            "learn": [
             0.653461525,
             1.938391479
            ],
            "passed_time": 68.42698983,
            "remaining_time": 1260.252424,
            "test": [
             0.6379564434,
             1.96987064
            ]
           },
           {
            "iteration": 103,
            "learn": [
             0.6543387487,
             1.935785576
            ],
            "passed_time": 69.07358011,
            "remaining_time": 1259.264499,
            "test": [
             0.6388570493,
             1.967467692
            ]
           },
           {
            "iteration": 104,
            "learn": [
             0.6550054388,
             1.930596112
            ],
            "passed_time": 69.75311128,
            "remaining_time": 1258.87758,
            "test": [
             0.6397576551,
             1.9631452
            ]
           },
           {
            "iteration": 105,
            "learn": [
             0.6579879996,
             1.925480664
            ],
            "passed_time": 70.42753344,
            "remaining_time": 1258.393852,
            "test": [
             0.6426232193,
             1.957818321
            ]
           },
           {
            "iteration": 106,
            "learn": [
             0.6601635145,
             1.917104822
            ],
            "passed_time": 71.14634363,
            "remaining_time": 1258.691855,
            "test": [
             0.644424431,
             1.951570527
            ]
           },
           {
            "iteration": 107,
            "learn": [
             0.6608302046,
             1.914717951
            ],
            "passed_time": 71.80185007,
            "remaining_time": 1257.86204,
            "test": [
             0.6448337973,
             1.949146951
            ]
           },
           {
            "iteration": 108,
            "learn": [
             0.6617074283,
             1.912130552
            ],
            "passed_time": 72.46571531,
            "remaining_time": 1257.180437,
            "test": [
             0.6454887834,
             1.946352226
            ]
           },
           {
            "iteration": 109,
            "learn": [
             0.6625144742,
             1.908416743
            ],
            "passed_time": 73.14949057,
            "remaining_time": 1256.841247,
            "test": [
             0.6458162764,
             1.942954486
            ]
           },
           {
            "iteration": 110,
            "learn": [
             0.6627951858,
             1.906149805
            ],
            "passed_time": 73.8086856,
            "remaining_time": 1256.077541,
            "test": [
             0.6461437694,
             1.94075878
            ]
           },
           {
            "iteration": 111,
            "learn": [
             0.6642689217,
             1.903711945
            ],
            "passed_time": 74.4663358,
            "remaining_time": 1255.289661,
            "test": [
             0.6471262486,
             1.938907836
            ]
           },
           {
            "iteration": 112,
            "learn": [
             0.6656023018,
             1.901598658
            ],
            "passed_time": 75.11638763,
            "remaining_time": 1254.377199,
            "test": [
             0.6484362207,
             1.936700776
            ]
           },
           {
            "iteration": 113,
            "learn": [
             0.6664795256,
             1.899200411
            ],
            "passed_time": 75.77140431,
            "remaining_time": 1253.551478,
            "test": [
             0.6493368266,
             1.934543128
            ]
           },
           {
            "iteration": 114,
            "learn": [
             0.667602372,
             1.894896806
            ],
            "passed_time": 76.44574255,
            "remaining_time": 1253.045432,
            "test": [
             0.6508924185,
             1.930989317
            ]
           },
           {
            "iteration": 115,
            "learn": [
             0.6681287063,
             1.886204203
            ],
            "passed_time": 77.16437921,
            "remaining_time": 1253.255952,
            "test": [
             0.6513836581,
             1.923228467
            ]
           },
           {
            "iteration": 116,
            "learn": [
             0.6689708411,
             1.880369158
            ],
            "passed_time": 77.84472577,
            "remaining_time": 1252.834347,
            "test": [
             0.652611757,
             1.918129138
            ]
           },
           {
            "iteration": 117,
            "learn": [
             0.6694620864,
             1.87839047
            ],
            "passed_time": 78.4959522,
            "remaining_time": 1251.943916,
            "test": [
             0.6531848698,
             1.916491194
            ]
           },
           {
            "iteration": 118,
            "learn": [
             0.671146356,
             1.871035086
            ],
            "passed_time": 79.26688673,
            "remaining_time": 1252.949697,
            "test": [
             0.6549042083,
             1.911125617
            ]
           },
           {
            "iteration": 119,
            "learn": [
             0.6715674234,
             1.868538425
            ],
            "passed_time": 79.92833798,
            "remaining_time": 1252.210628,
            "test": [
             0.6556410676,
             1.908576512
            ]
           },
           {
            "iteration": 120,
            "learn": [
             0.6726200919,
             1.86626806
            ],
            "passed_time": 80.58326681,
            "remaining_time": 1251.371557,
            "test": [
             0.6558866874,
             1.90679241
            ]
           },
           {
            "iteration": 121,
            "learn": [
             0.6735674936,
             1.863714105
            ],
            "passed_time": 81.23414082,
            "remaining_time": 1250.473086,
            "test": [
             0.6566235467,
             1.904421444
            ]
           },
           {
            "iteration": 122,
            "learn": [
             0.6743043616,
             1.860001256
            ],
            "passed_time": 81.90906296,
            "remaining_time": 1249.945619,
            "test": [
             0.6573604061,
             1.901501031
            ]
           },
           {
            "iteration": 123,
            "learn": [
             0.6751114074,
             1.857492533
            ],
            "passed_time": 82.57379978,
            "remaining_time": 1249.261681,
            "test": [
             0.6579335189,
             1.898848305
            ]
           },
           {
            "iteration": 124,
            "learn": [
             0.6762693428,
             1.855356082
            ],
            "passed_time": 83.23140814,
            "remaining_time": 1248.471122,
            "test": [
             0.6591616178,
             1.896933878
            ]
           },
           {
            "iteration": 125,
            "learn": [
             0.6763044317,
             1.853472929
            ],
            "passed_time": 83.88397225,
            "remaining_time": 1247.607651,
            "test": [
             0.6593253643,
             1.89528522
            ]
           },
           {
            "iteration": 126,
            "learn": [
             0.6772518334,
             1.85146066
            ],
            "passed_time": 84.5505101,
            "remaining_time": 1246.953586,
            "test": [
             0.6603078435,
             1.893595464
            ]
           },
           {
            "iteration": 127,
            "learn": [
             0.6783045019,
             1.848460966
            ],
            "passed_time": 85.23830195,
            "remaining_time": 1246.610166,
            "test": [
             0.6615359424,
             1.89066018
            ]
           },
           {
            "iteration": 128,
            "learn": [
             0.6786203025,
             1.846389895
            ],
            "passed_time": 85.90936641,
            "remaining_time": 1246.018795,
            "test": [
             0.6620271819,
             1.888774217
            ]
           },
           {
            "iteration": 129,
            "learn": [
             0.6796027931,
             1.84443163
            ],
            "passed_time": 86.58010268,
            "remaining_time": 1245.421477,
            "test": [
             0.6624365482,
             1.886904564
            ]
           },
           {
            "iteration": 130,
            "learn": [
             0.6801993052,
             1.84231245
            ],
            "passed_time": 87.2389044,
            "remaining_time": 1244.652766,
            "test": [
             0.6627640413,
             1.885313152
            ]
           },
           {
            "iteration": 131,
            "learn": [
             0.6806905505,
             1.840041811
            ],
            "passed_time": 87.900243,
            "remaining_time": 1243.921621,
            "test": [
             0.6630915343,
             1.883336841
            ]
           },
           {
            "iteration": 132,
            "learn": [
             0.6809361732,
             1.834961314
            ],
            "passed_time": 88.58308306,
            "remaining_time": 1243.493354,
            "test": [
             0.6637465204,
             1.878273971
            ]
           },
           {
            "iteration": 133,
            "learn": [
             0.6814975964,
             1.832846794
            ],
            "passed_time": 89.23028948,
            "remaining_time": 1242.565076,
            "test": [
             0.6646471262,
             1.875603176
            ]
           },
           {
            "iteration": 134,
            "learn": [
             0.682480087,
             1.830795324
            ],
            "passed_time": 89.88127563,
            "remaining_time": 1241.693178,
            "test": [
             0.6650564925,
             1.874057178
            ]
           },
           {
            "iteration": 135,
            "learn": [
             0.6839889119,
             1.828873107
            ],
            "passed_time": 90.53046593,
            "remaining_time": 1240.799915,
            "test": [
             0.6657114786,
             1.872420033
            ]
           },
           {
            "iteration": 136,
            "learn": [
             0.6859889821,
             1.823232147
            ],
            "passed_time": 91.24065781,
            "remaining_time": 1240.739748,
            "test": [
             0.6666939578,
             1.868043491
            ]
           },
           {
            "iteration": 137,
            "learn": [
             0.6876381627,
             1.820293722
            ],
            "passed_time": 91.91675845,
            "remaining_time": 1240.210176,
            "test": [
             0.6675126904,
             1.86557626
            ]
           },
           {
            "iteration": 138,
            "learn": [
             0.6880592301,
             1.818239099
            ],
            "passed_time": 92.56774647,
            "remaining_time": 1239.342275,
            "test": [
             0.6680039299,
             1.86357836
            ]
           },
           {
            "iteration": 139,
            "learn": [
             0.6892522545,
             1.816376918
            ],
            "passed_time": 93.21130385,
            "remaining_time": 1238.378751,
            "test": [
             0.6689045358,
             1.861895801
            ]
           },
           {
            "iteration": 140,
            "learn": [
             0.6892171655,
             1.81429872
            ],
            "passed_time": 93.87127913,
            "remaining_time": 1237.636226,
            "test": [
             0.6692320288,
             1.859958987
            ]
           },
           {
            "iteration": 141,
            "learn": [
             0.6900943893,
             1.812336206
            ],
            "passed_time": 94.5358907,
            "remaining_time": 1236.955528,
            "test": [
             0.6698870149,
             1.858213903
            ]
           },
           {
            "iteration": 142,
            "learn": [
             0.6906207235,
             1.809962767
            ],
            "passed_time": 95.1871122,
            "remaining_time": 1236.10117,
            "test": [
             0.6703782545,
             1.856302034
            ]
           },
           {
            "iteration": 143,
            "learn": [
             0.6905505456,
             1.808176246
            ],
            "passed_time": 95.84595565,
            "remaining_time": 1235.347873,
            "test": [
             0.6702963812,
             1.854903793
            ]
           },
           {
            "iteration": 144,
            "learn": [
             0.6907259904,
             1.806343808
            ],
            "passed_time": 96.50870229,
            "remaining_time": 1234.645812,
            "test": [
             0.6703782545,
             1.853184294
            ]
           },
           {
            "iteration": 145,
            "learn": [
             0.6912874136,
             1.80451466
            ],
            "passed_time": 97.17066753,
            "remaining_time": 1233.934367,
            "test": [
             0.6712788603,
             1.850961243
            ]
           },
           {
            "iteration": 146,
            "learn": [
             0.6917435699,
             1.802767065
            ],
            "passed_time": 97.82910939,
            "remaining_time": 1233.179182,
            "test": [
             0.6716882266,
             1.849505594
            ]
           },
           {
            "iteration": 147,
            "learn": [
             0.6922699042,
             1.801050311
            ],
            "passed_time": 98.47582068,
            "remaining_time": 1232.278513,
            "test": [
             0.6719338464,
             1.84788396
            ]
           },
           {
            "iteration": 148,
            "learn": [
             0.6926558827,
             1.799242682
            ],
            "passed_time": 99.14240218,
            "remaining_time": 1231.628097,
            "test": [
             0.6720157197,
             1.846344039
            ]
           },
           {
            "iteration": 149,
            "learn": [
             0.6936032843,
             1.797446292
            ],
            "passed_time": 99.80019151,
            "remaining_time": 1230.869029,
            "test": [
             0.6722613394,
             1.844884392
            ]
           },
           {
            "iteration": 150,
            "learn": [
             0.694515597,
             1.794964845
            ],
            "passed_time": 100.4722939,
            "remaining_time": 1230.286565,
            "test": [
             0.6733256918,
             1.842227989
            ]
           },
           {
            "iteration": 151,
            "learn": [
             0.6949366644,
             1.792912005
            ],
            "passed_time": 101.1330841,
            "remaining_time": 1229.565391,
            "test": [
             0.6738169314,
             1.840797765
            ]
           },
           {
            "iteration": 152,
            "learn": [
             0.6951121092,
             1.790969091
            ],
            "passed_time": 101.7875873,
            "remaining_time": 1228.769109,
            "test": [
             0.6736531849,
             1.839417114
            ]
           },
           {
            "iteration": 153,
            "learn": [
             0.6950068423,
             1.788946542
            ],
            "passed_time": 102.4434697,
            "remaining_time": 1227.991202,
            "test": [
             0.6736531849,
             1.837483178
            ]
           },
           {
            "iteration": 154,
            "learn": [
             0.6956384435,
             1.787017472
            ],
            "passed_time": 103.1070647,
            "remaining_time": 1227.306674,
            "test": [
             0.6743900442,
             1.835945815
            ]
           },
           {
            "iteration": 155,
            "learn": [
             0.6963753114,
             1.785186816
            ],
            "passed_time": 103.7751328,
            "remaining_time": 1226.675288,
            "test": [
             0.6753725233,
             1.834234792
            ]
           },
           {
            "iteration": 156,
            "learn": [
             0.6968665567,
             1.783400706
            ],
            "passed_time": 104.4287517,
            "remaining_time": 1225.873818,
            "test": [
             0.6761912559,
             1.832450691
            ]
           },
           {
            "iteration": 157,
            "learn": [
             0.6973227131,
             1.78165928
            ],
            "passed_time": 105.0919674,
            "remaining_time": 1225.1861,
            "test": [
             0.6763550025,
             1.831139279
            ]
           },
           {
            "iteration": 158,
            "learn": [
             0.697392891,
             1.779860286
            ],
            "passed_time": 105.7400699,
            "remaining_time": 1224.323703,
            "test": [
             0.6761912559,
             1.829831866
            ]
           },
           {
            "iteration": 159,
            "learn": [
             0.6990771606,
             1.777856926
            ],
            "passed_time": 106.3990555,
            "remaining_time": 1223.589138,
            "test": [
             0.678401834,
             1.827596502
            ]
           },
           {
            "iteration": 160,
            "learn": [
             0.6994631391,
             1.774330349
            ],
            "passed_time": 107.0953575,
            "remaining_time": 1223.281754,
            "test": [
             0.6789749468,
             1.824670172
            ]
           },
           {
            "iteration": 161,
            "learn": [
             0.7005508965,
             1.769129235
            ],
            "passed_time": 107.8272507,
            "remaining_time": 1223.373376,
            "test": [
             0.6801211724,
             1.820552683
            ]
           },
           {
            "iteration": 162,
            "learn": [
             0.7010772308,
             1.767136292
            ],
            "passed_time": 108.4850207,
            "remaining_time": 1222.619527,
            "test": [
             0.6808580318,
             1.81889411
            ]
           },
           {
            "iteration": 163,
            "learn": [
             0.7024106109,
             1.765279867
            ],
            "passed_time": 109.1428322,
            "remaining_time": 1221.867317,
            "test": [
             0.6831504831,
             1.8166685
            ]
           },
           {
            "iteration": 164,
            "learn": [
             0.7024807888,
             1.763501844
            ],
            "passed_time": 109.8187969,
            "remaining_time": 1221.318135,
            "test": [
             0.6829867365,
             1.815559693
            ]
           },
           {
            "iteration": 165,
            "learn": [
             0.7035685463,
             1.761721491
            ],
            "passed_time": 110.4809726,
            "remaining_time": 1220.615083,
            "test": [
             0.684378582,
             1.81430409
            ]
           },
           {
            "iteration": 166,
            "learn": [
             0.7043405032,
             1.759919345
            ],
            "passed_time": 111.139502,
            "remaining_time": 1219.872498,
            "test": [
             0.6852791878,
             1.812817899
            ]
           },
           {
            "iteration": 167,
            "learn": [
             0.7049721043,
             1.758392016
            ],
            "passed_time": 111.8048562,
            "remaining_time": 1219.205337,
            "test": [
             0.6857704274,
             1.811289651
            ]
           },
           {
            "iteration": 168,
            "learn": [
             0.705147549,
             1.756747907
            ],
            "passed_time": 112.4649286,
            "remaining_time": 1218.480972,
            "test": [
             0.6858523006,
             1.809612209
            ]
           },
           {
            "iteration": 169,
            "learn": [
             0.7054633496,
             1.755085705
            ],
            "passed_time": 113.1208023,
            "remaining_time": 1217.712165,
            "test": [
             0.6863435402,
             1.808056457
            ]
           },
           {
            "iteration": 170,
            "learn": [
             0.7059195059,
             1.752120963
            ],
            "passed_time": 113.8137226,
            "remaining_time": 1217.340928,
            "test": [
             0.6860160472,
             1.80573922
            ]
           },
           {
            "iteration": 171,
            "learn": [
             0.7067967297,
             1.750225337
            ],
            "passed_time": 114.4656844,
            "remaining_time": 1216.530646,
            "test": [
             0.686916653,
             1.803769464
            ]
           },
           {
            "iteration": 172,
            "learn": [
             0.7072528861,
             1.747681388
            ],
            "passed_time": 115.1427934,
            "remaining_time": 1215.987766,
            "test": [
             0.6875716391,
             1.801914843
            ]
           },
           {
            "iteration": 173,
            "learn": [
             0.7079195761,
             1.74597135
            ],
            "passed_time": 115.7898605,
            "remaining_time": 1215.128076,
            "test": [
             0.6882266252,
             1.800257549
            ]
           },
           {
            "iteration": 174,
            "learn": [
             0.709428401,
             1.744359725
            ],
            "passed_time": 116.4476176,
            "remaining_time": 1214.382298,
            "test": [
             0.6896184706,
             1.798814373
            ]
           },
           {
            "iteration": 175,
            "learn": [
             0.7099898242,
             1.742816634
            ],
            "passed_time": 117.1636818,
            "remaining_time": 1214.241793,
            "test": [
             0.6905190765,
             1.797621934
            ]
           },
           {
            "iteration": 176,
            "learn": [
             0.7105863364,
             1.741393338
            ],
            "passed_time": 117.8749307,
            "remaining_time": 1214.04519,
            "test": [
             0.6908465695,
             1.796480825
            ]
           },
           {
            "iteration": 177,
            "learn": [
             0.7112881154,
             1.737459264
            ],
            "passed_time": 118.6748271,
            "remaining_time": 1214.750196,
            "test": [
             0.6909284428,
             1.793604867
            ]
           },
           {
            "iteration": 178,
            "learn": [
             0.7120600723,
             1.732708823
            ],
            "passed_time": 119.432253,
            "remaining_time": 1215.006328,
            "test": [
             0.6908465695,
             1.790064808
            ]
           },
           {
            "iteration": 179,
            "learn": [
             0.7130425629,
             1.731053612
            ],
            "passed_time": 120.1274882,
            "remaining_time": 1214.622381,
            "test": [
             0.691010316,
             1.788912985
            ]
           },
           {
            "iteration": 180,
            "learn": [
             0.712972385,
             1.729525597
            ],
            "passed_time": 120.7780894,
            "remaining_time": 1213.786434,
            "test": [
             0.690682823,
             1.787384258
            ]
           },
           {
            "iteration": 181,
            "learn": [
             0.7130425629,
             1.728097505
            ],
            "passed_time": 121.4301796,
            "remaining_time": 1212.967399,
            "test": [
             0.691010316,
             1.785768221
            ]
           },
           {
            "iteration": 182,
            "learn": [
             0.7135688972,
             1.725288332
            ],
            "passed_time": 122.1178336,
            "remaining_time": 1212.503298,
            "test": [
             0.6917471754,
             1.783425558
            ]
           },
           {
            "iteration": 183,
            "learn": [
             0.7142004983,
             1.723698639
            ],
            "passed_time": 122.7720474,
            "remaining_time": 1211.706729,
            "test": [
             0.6922384149,
             1.782209292
            ]
           },
           {
            "iteration": 184,
            "learn": [
             0.7149724552,
             1.718756716
            ],
            "passed_time": 123.4563071,
            "remaining_time": 1211.206472,
            "test": [
             0.6933846406,
             1.778019364
            ]
           },
           {
            "iteration": 185,
            "learn": [
             0.7161303905,
             1.717015701
            ],
            "passed_time": 124.132087,
            "remaining_time": 1210.621537,
            "test": [
             0.6943671197,
             1.776664618
            ]
           },
           {
            "iteration": 186,
            "learn": [
             0.7160953016,
             1.715429708
            ],
            "passed_time": 124.795192,
            "remaining_time": 1209.912744,
            "test": [
             0.694448993,
             1.775088877
            ]
           },
           {
            "iteration": 187,
            "learn": [
             0.7171128812,
             1.71264836
            ],
            "passed_time": 125.4734614,
            "remaining_time": 1209.350596,
            "test": [
             0.694776486,
             1.772643713
            ]
           },
           {
            "iteration": 188,
            "learn": [
             0.7173935928,
             1.71110102
            ],
            "passed_time": 126.1325367,
            "remaining_time": 1208.603302,
            "test": [
             0.6953495988,
             1.770859931
            ]
           },
           {
            "iteration": 189,
            "learn": [
             0.7180251939,
             1.709706645
            ],
            "passed_time": 126.7873391,
            "remaining_time": 1207.81623,
            "test": [
             0.6958408384,
             1.769647504
            ]
           },
           {
            "iteration": 190,
            "learn": [
             0.7184462613,
             1.708184388
            ],
            "passed_time": 127.44506,
            "remaining_time": 1207.058187,
            "test": [
             0.6960864582,
             1.768429159
            ]
           },
           {
            "iteration": 191,
            "learn": [
             0.7188322397,
             1.706685706
            ],
            "passed_time": 128.1089322,
            "remaining_time": 1206.359111,
            "test": [
             0.6961683314,
             1.767206817
            ]
           },
           {
            "iteration": 192,
            "learn": [
             0.7189024176,
             1.705144122
            ],
            "passed_time": 128.7667059,
            "remaining_time": 1205.603303,
            "test": [
             0.6964958245,
             1.765602773
            ]
           },
           {
            "iteration": 193,
            "learn": [
             0.7196041966,
             1.702412941
            ],
            "passed_time": 129.423041,
            "remaining_time": 1204.835114,
            "test": [
             0.6968233175,
             1.763333508
            ]
           },
           {
            "iteration": 194,
            "learn": [
             0.7202357977,
             1.701092719
            ],
            "passed_time": 130.0738759,
            "remaining_time": 1204.017159,
            "test": [
             0.6973145571,
             1.762423148
            ]
           },
           {
            "iteration": 195,
            "learn": [
             0.7203761535,
             1.699760984
            ],
            "passed_time": 130.7288204,
            "remaining_time": 1203.238735,
            "test": [
             0.6974783036,
             1.760875551
            ]
           },
           {
            "iteration": 196,
            "learn": [
             0.7210779326,
             1.694741071
            ],
            "passed_time": 131.4628981,
            "remaining_time": 1203.185814,
            "test": [
             0.6982970362,
             1.756917971
            ]
           },
           {
            "iteration": 197,
            "learn": [
             0.7221306011,
             1.693190167
            ],
            "passed_time": 132.1195325,
            "remaining_time": 1202.4212,
            "test": [
             0.6995251351,
             1.755501499
            ]
           },
           {
            "iteration": 198,
            "learn": [
             0.722200779,
             1.69164872
            ],
            "passed_time": 132.7764839,
            "remaining_time": 1201.660541,
            "test": [
             0.6993613886,
             1.75378296
            ]
           },
           {
            "iteration": 199,
            "learn": [
             0.7227972911,
             1.690057381
            ],
            "passed_time": 133.4365136,
            "remaining_time": 1200.928622,
            "test": [
             0.6999345014,
             1.752086009
            ]
           },
           {
            "iteration": 200,
            "learn": [
             0.7231481806,
             1.68744065
            ],
            "passed_time": 134.1056151,
            "remaining_time": 1200.278615,
            "test": [
             0.701080727,
             1.749976493
            ]
           },
           {
            "iteration": 201,
            "learn": [
             0.7236394259,
             1.686058338
            ],
            "passed_time": 134.7693395,
            "remaining_time": 1199.580556,
            "test": [
             0.7014082201,
             1.748895511
            ]
           },
           {
            "iteration": 202,
            "learn": [
             0.7252886066,
             1.681615336
            ],
            "passed_time": 135.496326,
            "remaining_time": 1199.442847,
            "test": [
             0.7019813329,
             1.745399107
            ]
           },
           {
            "iteration": 203,
            "learn": [
             0.7258500298,
             1.67890636
            ],
            "passed_time": 136.1650896,
            "remaining_time": 1198.786769,
            "test": [
             0.702636319,
             1.742959379
            ]
           },
           {
            "iteration": 204,
            "learn": [
             0.7272535878,
             1.671756849
            ],
            "passed_time": 136.9337502,
            "remaining_time": 1199.005276,
            "test": [
             0.7028000655,
             1.737950079
            ]
           },
           {
            "iteration": 205,
            "learn": [
             0.7279553669,
             1.668703425
            ],
            "passed_time": 137.6307024,
            "remaining_time": 1198.58971,
            "test": [
             0.7038644179,
             1.735231631
            ]
           },
           {
            "iteration": 206,
            "learn": [
             0.7285167901,
             1.666049823
            ],
            "passed_time": 138.2856349,
            "remaining_time": 1197.807456,
            "test": [
             0.7040281644,
             1.732765999
            ]
           },
           {
            "iteration": 207,
            "learn": [
             0.7279553669,
             1.661223585
            ],
            "passed_time": 139.0005881,
            "remaining_time": 1197.543528,
            "test": [
             0.7046012772,
             1.729301097
            ]
           },
           {
            "iteration": 208,
            "learn": [
             0.7285167901,
             1.659869645
            ],
            "passed_time": 139.6592676,
            "remaining_time": 1196.793054,
            "test": [
             0.7047650237,
             1.727596949
            ]
           },
           {
            "iteration": 209,
            "learn": [
             0.7311484613,
             1.657420134
            ],
            "passed_time": 140.3455031,
            "remaining_time": 1196.278336,
            "test": [
             0.7064843622,
             1.72531905
            ]
           },
           {
            "iteration": 210,
            "learn": [
             0.7318502404,
             1.653719072
            ],
            "passed_time": 141.0438731,
            "remaining_time": 1195.864877,
            "test": [
             0.7080399542,
             1.722430299
            ]
           },
           {
            "iteration": 211,
            "learn": [
             0.7326221973,
             1.652507818
            ],
            "passed_time": 141.7016754,
            "remaining_time": 1195.106583,
            "test": [
             0.70894056,
             1.721118248
            ]
           },
           {
            "iteration": 212,
            "learn": [
             0.7334643321,
             1.651218848
            ],
            "passed_time": 142.3590622,
            "remaining_time": 1194.345747,
            "test": [
             0.7094317996,
             1.720058213
            ]
           },
           {
            "iteration": 213,
            "learn": [
             0.7344117337,
             1.646381096
            ],
            "passed_time": 143.0712909,
            "remaining_time": 1194.043577,
            "test": [
             0.7094317996,
             1.716113265
            ]
           },
           {
            "iteration": 214,
            "learn": [
             0.7346924453,
             1.645061559
            ],
            "passed_time": 143.7333099,
            "remaining_time": 1193.320736,
            "test": [
             0.7097592926,
             1.714601808
            ]
           },
           {
            "iteration": 215,
            "learn": [
             0.734938068,
             1.643748328
            ],
            "passed_time": 144.3908032,
            "remaining_time": 1192.561079,
            "test": [
             0.7101686589,
             1.713574235
            ]
           },
           {
            "iteration": 216,
            "learn": [
             0.7352187796,
             1.642473749
            ],
            "passed_time": 145.0479494,
            "remaining_time": 1191.79951,
            "test": [
             0.710496152,
             1.712785085
            ]
           },
           {
            "iteration": 217,
            "learn": [
             0.735639847,
             1.64117724
            ],
            "passed_time": 145.7042574,
            "remaining_time": 1191.032049,
            "test": [
             0.7109873915,
             1.711898871
            ]
           },
           {
            "iteration": 218,
            "learn": [
             0.7360960034,
             1.639732288
            ],
            "passed_time": 146.3626071,
            "remaining_time": 1190.282206,
            "test": [
             0.7113967578,
             1.71056955
            ]
           },
           {
            "iteration": 219,
            "learn": [
             0.736341626,
             1.635755312
            ],
            "passed_time": 147.0474573,
            "remaining_time": 1189.747609,
            "test": [
             0.710823645,
             1.707986225
            ]
           },
           {
            "iteration": 220,
            "learn": [
             0.7376048282,
             1.633268108
            ],
            "passed_time": 147.7290713,
            "remaining_time": 1189.185601,
            "test": [
             0.7120517439,
             1.705574961
            ]
           },
           {
            "iteration": 221,
            "learn": [
             0.7380960735,
             1.632042462
            ],
            "passed_time": 148.3783395,
            "remaining_time": 1188.363458,
            "test": [
             0.7126248567,
             1.704556343
            ]
           },
           {
            "iteration": 222,
            "learn": [
             0.7386574968,
             1.630727997
            ],
            "passed_time": 149.0433142,
            "remaining_time": 1187.668024,
            "test": [
             0.7132798428,
             1.703430586
            ]
           },
           {
            "iteration": 223,
            "learn": [
             0.7396399874,
             1.624080834
            ],
            "passed_time": 149.7693501,
            "remaining_time": 1187.45699,
            "test": [
             0.7134435893,
             1.69837811
            ]
           },
           {
            "iteration": 224,
            "learn": [
             0.7397452542,
             1.622757597
            ],
            "passed_time": 150.4230184,
            "remaining_time": 1186.670478,
            "test": [
             0.7136892091,
             1.696996019
            ]
           },
           {
            "iteration": 225,
            "learn": [
             0.7407277448,
             1.620287252
            ],
            "passed_time": 151.0964792,
            "remaining_time": 1186.040505,
            "test": [
             0.7140985754,
             1.694844607
            ]
           },
           {
            "iteration": 226,
            "learn": [
             0.7407277448,
             1.619075039
            ],
            "passed_time": 151.7511686,
            "remaining_time": 1185.263533,
            "test": [
             0.7138529556,
             1.693838302
            ]
           },
           {
            "iteration": 227,
            "learn": [
             0.7416049686,
             1.617789084
            ],
            "passed_time": 152.413103,
            "remaining_time": 1184.543941,
            "test": [
             0.715244801,
             1.692662973
            ]
           },
           {
            "iteration": 228,
            "learn": [
             0.7427979929,
             1.61645447
            ],
            "passed_time": 153.0707427,
            "remaining_time": 1183.791639,
            "test": [
             0.7163910267,
             1.691420322
            ]
           },
           {
            "iteration": 229,
            "learn": [
             0.7438506614,
             1.613922035
            ],
            "passed_time": 153.7608776,
            "remaining_time": 1183.290232,
            "test": [
             0.717127886,
             1.689476791
            ]
           },
           {
            "iteration": 230,
            "learn": [
             0.7439559283,
             1.612526152
            ],
            "passed_time": 154.4172854,
            "remaining_time": 1182.528909,
            "test": [
             0.7176191256,
             1.687870189
            ]
           },
           {
            "iteration": 231,
            "learn": [
             0.7444471736,
             1.611261853
            ],
            "passed_time": 155.0682683,
            "remaining_time": 1181.727148,
            "test": [
             0.7179466186,
             1.686972461
            ]
           },
           {
            "iteration": 232,
            "learn": [
             0.7454647531,
             1.607130678
            ],
            "passed_time": 155.7931861,
            "remaining_time": 1181.487381,
            "test": [
             0.7185197315,
             1.683974653
            ]
           },
           {
            "iteration": 233,
            "learn": [
             0.7452542194,
             1.605791267
            ],
            "passed_time": 156.4453554,
            "remaining_time": 1180.694434,
            "test": [
             0.7185197315,
             1.682923573
            ]
           },
           {
            "iteration": 234,
            "learn": [
             0.7457103758,
             1.604388668
            ],
            "passed_time": 157.1084932,
            "remaining_time": 1179.985066,
            "test": [
             0.718683478,
             1.681863698
            ]
           },
           {
            "iteration": 235,
            "learn": [
             0.7459910874,
             1.603001969
            ],
            "passed_time": 157.798932,
            "remaining_time": 1179.480153,
            "test": [
             0.719010971,
             1.680730105
            ]
           },
           {
            "iteration": 236,
            "learn": [
             0.7473595565,
             1.600196772
            ],
            "passed_time": 158.4787206,
            "remaining_time": 1178.894449,
            "test": [
             0.7207303095,
             1.678184038
            ]
           },
           {
            "iteration": 237,
            "learn": [
             0.7473946454,
             1.598960298
            ],
            "passed_time": 159.1365489,
            "remaining_time": 1178.145375,
            "test": [
             0.7206484362,
             1.676700245
            ]
           },
           {
            "iteration": 238,
            "learn": [
             0.747710446,
             1.597976163
            ],
            "passed_time": 159.801227,
            "remaining_time": 1177.447535,
            "test": [
             0.7204028164,
             1.675577047
            ]
           },
           {
            "iteration": 239,
            "learn": [
             0.7489034703,
             1.594210817
            ],
            "passed_time": 160.5265367,
            "remaining_time": 1177.194602,
            "test": [
             0.7220402816,
             1.672447313
            ]
           },
           {
            "iteration": 240,
            "learn": [
             0.749078915,
             1.592729816
            ],
            "passed_time": 161.1769518,
            "remaining_time": 1176.391113,
            "test": [
             0.7223677747,
             1.671084571
            ]
           },
           {
            "iteration": 241,
            "learn": [
             0.7493596267,
             1.590532234
            ],
            "passed_time": 161.8547112,
            "remaining_time": 1175.78753,
            "test": [
             0.7222040282,
             1.6693171
            ]
           },
           {
            "iteration": 242,
            "learn": [
             0.7497105162,
             1.589340169
            ],
            "passed_time": 162.5071084,
            "remaining_time": 1174.999956,
            "test": [
             0.7228590142,
             1.668105632
            ]
           },
           {
            "iteration": 243,
            "learn": [
             0.7499912278,
             1.587999113
            ],
            "passed_time": 163.1660208,
            "remaining_time": 1174.260379,
            "test": [
             0.7226952677,
             1.667231411
            ]
           },
           {
            "iteration": 244,
            "learn": [
             0.7503070283,
             1.586677109
            ],
            "passed_time": 163.8262235,
            "remaining_time": 1173.530703,
            "test": [
             0.7226952677,
             1.665966213
            ]
           },
           {
            "iteration": 245,
            "learn": [
             0.7507982736,
             1.585360588
            ],
            "passed_time": 164.4787096,
            "remaining_time": 1172.746572,
            "test": [
             0.722777141,
             1.664608588
            ]
           },
           {
            "iteration": 246,
            "learn": [
             0.7513947858,
             1.581606071
            ],
            "passed_time": 165.199914,
            "remaining_time": 1172.451211,
            "test": [
             0.7233502538,
             1.661317027
            ]
           },
           {
            "iteration": 247,
            "learn": [
             0.7518860311,
             1.580295992
            ],
            "passed_time": 165.8570136,
            "remaining_time": 1171.699548,
            "test": [
             0.7239233666,
             1.660110036
            ]
           },
           {
            "iteration": 248,
            "learn": [
             0.7539562792,
             1.574367604
            ],
            "passed_time": 166.596753,
            "remaining_time": 1171.529777,
            "test": [
             0.724987719,
             1.655714786
            ]
           },
           {
            "iteration": 249,
            "learn": [
             0.7548335029,
             1.57301106
            ],
            "passed_time": 167.2597093,
            "remaining_time": 1170.817965,
            "test": [
             0.7258883249,
             1.654443831
            ]
           },
           {
            "iteration": 250,
            "learn": [
             0.7550791256,
             1.57165054
            ],
            "passed_time": 167.921185,
            "remaining_time": 1170.096225,
            "test": [
             0.7262976912,
             1.65316744
            ]
           },
           {
            "iteration": 251,
            "learn": [
             0.7552896593,
             1.570003553
            ],
            "passed_time": 168.5786546,
            "remaining_time": 1169.347176,
            "test": [
             0.726543311,
             1.651891048
            ]
           },
           {
            "iteration": 252,
            "learn": [
             0.7558159935,
             1.567702211
            ],
            "passed_time": 169.2693437,
            "remaining_time": 1168.828235,
            "test": [
             0.7275257901,
             1.649887232
            ]
           },
           {
            "iteration": 253,
            "learn": [
             0.7559563493,
             1.566720543
            ],
            "passed_time": 169.9295342,
            "remaining_time": 1168.098294,
            "test": [
             0.7274439168,
             1.649187792
            ]
           },
           {
            "iteration": 254,
            "learn": [
             0.7568335731,
             1.562832248
            ],
            "passed_time": 170.6139493,
            "remaining_time": 1167.534673,
            "test": [
             0.7273620436,
             1.646291205
            ]
           },
           {
            "iteration": 255,
            "learn": [
             0.7571493737,
             1.561217609
            ],
            "passed_time": 171.2765008,
            "remaining_time": 1166.821162,
            "test": [
             0.7278532831,
             1.6445143
            ]
           },
           {
            "iteration": 256,
            "learn": [
             0.7573599074,
             1.5600117
            ],
            "passed_time": 171.9607156,
            "remaining_time": 1166.25497,
            "test": [
             0.7278532831,
             1.643290039
            ]
           },
           {
            "iteration": 257,
            "learn": [
             0.7577458858,
             1.558439962
            ],
            "passed_time": 172.6173689,
            "remaining_time": 1165.50177,
            "test": [
             0.7279351564,
             1.641891317
            ]
           },
           {
            "iteration": 258,
            "learn": [
             0.7577458858,
             1.557325888
            ],
            "passed_time": 173.2783292,
            "remaining_time": 1164.778267,
            "test": [
             0.7279351564,
             1.640901642
            ]
           },
           {
            "iteration": 259,
            "learn": [
             0.7584827538,
             1.556135056
            ],
            "passed_time": 173.9287285,
            "remaining_time": 1163.984567,
            "test": [
             0.7281807762,
             1.639822098
            ]
           },
           {
            "iteration": 260,
            "learn": [
             0.7601319345,
             1.550200775
            ],
            "passed_time": 174.6458007,
            "remaining_time": 1163.636197,
            "test": [
             0.7289995088,
             1.635261822
            ]
           },
           {
            "iteration": 261,
            "learn": [
             0.7604126461,
             1.549171544
            ],
            "passed_time": 175.304998,
            "remaining_time": 1162.901094,
            "test": [
             0.729081382,
             1.634409988
            ]
           },
           {
            "iteration": 262,
            "learn": [
             0.7604126461,
             1.548070903
            ],
            "passed_time": 175.9617885,
            "remaining_time": 1162.150671,
            "test": [
             0.729081382,
             1.633646584
            ]
           },
           {
            "iteration": 263,
            "learn": [
             0.7615705814,
             1.545701302
            ],
            "passed_time": 176.6382544,
            "remaining_time": 1161.530339,
            "test": [
             0.7305551007,
             1.631559455
            ]
           },
           {
            "iteration": 264,
            "learn": [
             0.7619916488,
             1.544249223
            ],
            "passed_time": 177.3093852,
            "remaining_time": 1160.874654,
            "test": [
             0.7303094809,
             1.630354063
            ]
           },
           {
            "iteration": 265,
            "learn": [
             0.7625179831,
             1.542965186
            ],
            "passed_time": 177.9668787,
            "remaining_time": 1160.129954,
            "test": [
             0.7310463403,
             1.629235502
            ]
           },
           {
            "iteration": 266,
            "learn": [
             0.7633250289,
             1.541741733
            ],
            "passed_time": 178.6256841,
            "remaining_time": 1159.394421,
            "test": [
             0.7316194531,
             1.628018597
            ]
           },
           {
            "iteration": 267,
            "learn": [
             0.7636759185,
             1.537946918
            ],
            "passed_time": 179.3511152,
            "remaining_time": 1159.090043,
            "test": [
             0.7322744392,
             1.624887104
            ]
           },
           {
            "iteration": 268,
            "learn": [
             0.7641671638,
             1.535895174
            ],
            "passed_time": 180.0306821,
            "remaining_time": 1158.487401,
            "test": [
             0.7335844113,
             1.623148097
            ]
           },
           {
            "iteration": 269,
            "learn": [
             0.7655707218,
             1.532041694
            ],
            "passed_time": 180.7515513,
            "remaining_time": 1158.148828,
            "test": [
             0.7339937776,
             1.620354332
            ]
           },
           {
            "iteration": 270,
            "learn": [
             0.7656058107,
             1.530958323
            ],
            "passed_time": 181.4083062,
            "remaining_time": 1157.398382,
            "test": [
             0.7344031439,
             1.619120317
            ]
           },
           {
            "iteration": 271,
            "learn": [
             0.7662725008,
             1.529796002
            ],
            "passed_time": 182.0610722,
            "remaining_time": 1156.623282,
            "test": [
             0.73505813,
             1.617881504
            ]
           },
           {
            "iteration": 272,
            "learn": [
             0.7686234605,
             1.523927786
            ],
            "passed_time": 182.8361259,
            "remaining_time": 1156.622672,
            "test": [
             0.7359587359,
             1.613402781
            ]
           },
           {
            "iteration": 273,
            "learn": [
             0.7678515036,
             1.518337814
            ],
            "passed_time": 183.5553745,
            "remaining_time": 1156.264877,
            "test": [
             0.7355493696,
             1.608852099
            ]
           },
           {
            "iteration": 274,
            "learn": [
             0.7717112881,
             1.508945352
            ],
            "passed_time": 184.3458484,
            "remaining_time": 1156.351231,
            "test": [
             0.736613722,
             1.601987218
            ]
           },
           {
            "iteration": 275,
            "learn": [
             0.7718516439,
             1.507895973
            ],
            "passed_time": 184.9913185,
            "remaining_time": 1155.525482,
            "test": [
             0.7365318487,
             1.60110676
            ]
           },
           {
            "iteration": 276,
            "learn": [
             0.7718867329,
             1.506949531
            ],
            "passed_time": 185.6440696,
            "remaining_time": 1154.746325,
            "test": [
             0.7364499754,
             1.600485995
            ]
           },
           {
            "iteration": 277,
            "learn": [
             0.773220113,
             1.503146081
            ],
            "passed_time": 186.3710769,
            "remaining_time": 1154.428038,
            "test": [
             0.7377599476,
             1.597353383
            ]
           },
           {
            "iteration": 278,
            "learn": [
             0.7737815362,
             1.502047632
            ],
            "passed_time": 187.0329611,
            "remaining_time": 1153.705111,
            "test": [
             0.7379236941,
             1.596239459
            ]
           },
           {
            "iteration": 279,
            "learn": [
             0.7744482263,
             1.501095433
            ],
            "passed_time": 187.6939851,
            "remaining_time": 1152.977337,
            "test": [
             0.7385786802,
             1.595382188
            ]
           },
           {
            "iteration": 280,
            "learn": [
             0.7750447384,
             1.497733199
            ],
            "passed_time": 188.4224093,
            "remaining_time": 1152.662355,
            "test": [
             0.7384149337,
             1.59308382
            ]
           },
           {
            "iteration": 281,
            "learn": [
             0.7761324959,
             1.494096421
            ],
            "passed_time": 189.1330071,
            "remaining_time": 1152.235838,
            "test": [
             0.7395611593,
             1.59028174
            ]
           },
           {
            "iteration": 282,
            "learn": [
             0.7764132075,
             1.491929678
            ],
            "passed_time": 189.7854032,
            "remaining_time": 1151.454195,
            "test": [
             0.7401342721,
             1.588492521
            ]
           },
           {
            "iteration": 283,
            "learn": [
             0.7766939191,
             1.490909632
            ],
            "passed_time": 190.4458775,
            "remaining_time": 1150.722274,
            "test": [
             0.7404617652,
             1.587659877
            ]
           },
           {
            "iteration": 284,
            "learn": [
             0.7770097196,
             1.489719897
            ],
            "passed_time": 191.1025111,
            "remaining_time": 1149.967742,
            "test": [
             0.740707385,
             1.586555867
            ]
           },
           {
            "iteration": 285,
            "learn": [
             0.7771851644,
             1.488627205
            ],
            "passed_time": 191.7601524,
            "remaining_time": 1149.219934,
            "test": [
             0.7405436384,
             1.585699236
            ]
           },
           {
            "iteration": 286,
            "learn": [
             0.7772202533,
             1.487603321
            ],
            "passed_time": 192.4265155,
            "remaining_time": 1148.524812,
            "test": [
             0.7404617652,
             1.584656951
            ]
           },
           {
            "iteration": 287,
            "learn": [
             0.7783080108,
             1.486469235
            ],
            "passed_time": 193.0810534,
            "remaining_time": 1147.759595,
            "test": [
             0.7416079908,
             1.583591639
            ]
           },
           {
            "iteration": 288,
            "learn": [
             0.7783781887,
             1.485499902
            ],
            "passed_time": 193.7438105,
            "remaining_time": 1147.043805,
            "test": [
             0.7416898641,
             1.582791936
            ]
           },
           {
            "iteration": 289,
            "learn": [
             0.7785887224,
             1.484453402
            ],
            "passed_time": 194.4068458,
            "remaining_time": 1146.330022,
            "test": [
             0.7416898641,
             1.581930348
            ]
           },
           {
            "iteration": 290,
            "learn": [
             0.7793255904,
             1.483276277
            ],
            "passed_time": 195.0770776,
            "remaining_time": 1145.658851,
            "test": [
             0.7421811037,
             1.58077053
            ]
           },
           {
            "iteration": 291,
            "learn": [
             0.7795361241,
             1.482140547
            ],
            "passed_time": 195.7368127,
            "remaining_time": 1144.926288,
            "test": [
             0.7426723432,
             1.579708736
            ]
           },
           {
            "iteration": 292,
            "learn": [
             0.7791852346,
             1.476970272
            ],
            "passed_time": 196.4837675,
            "remaining_time": 1144.702359,
            "test": [
             0.7429998363,
             1.575543594
            ]
           },
           {
            "iteration": 293,
            "learn": [
             0.7795361241,
             1.475006936
            ],
            "passed_time": 197.1652613,
            "remaining_time": 1144.09502,
            "test": [
             0.742917963,
             1.574214752
            ]
           },
           {
            "iteration": 294,
            "learn": [
             0.7804484368,
             1.472349359
            ],
            "passed_time": 197.8493114,
            "remaining_time": 1143.501952,
            "test": [
             0.7439823154,
             1.572027041
            ]
           },
           {
            "iteration": 295,
            "learn": [
             0.7803431699,
             1.470199475
            ],
            "passed_time": 198.5335308,
            "remaining_time": 1142.909245,
            "test": [
             0.7442279352,
             1.569915447
            ]
           },
           {
            "iteration": 296,
            "learn": [
             0.7801677252,
             1.46799079
            ],
            "passed_time": 199.2095369,
            "remaining_time": 1142.268826,
            "test": [
             0.7439004421,
             1.56812303
            ]
           },
           {
            "iteration": 297,
            "learn": [
             0.7806238815,
             1.464440364
            ],
            "passed_time": 199.9022005,
            "remaining_time": 1141.723306,
            "test": [
             0.744801048,
             1.565571367
            ]
           },
           {
            "iteration": 298,
            "learn": [
             0.7822379733,
             1.461816643
            ],
            "passed_time": 200.583785,
            "remaining_time": 1141.113774,
            "test": [
             0.7464385132,
             1.563420435
            ]
           },
           {
            "iteration": 299,
            "learn": [
             0.7827292186,
             1.459755578
            ],
            "passed_time": 201.2370809,
            "remaining_time": 1140.343458,
            "test": [
             0.7462747667,
             1.561790805
            ]
           },
           {
            "iteration": 300,
            "learn": [
             0.7829046633,
             1.458559264
            ],
            "passed_time": 201.9111201,
            "remaining_time": 1139.691007,
            "test": [
             0.7468478795,
             1.560443094
            ]
           },
           {
            "iteration": 301,
            "learn": [
             0.7830099302,
             1.457519754
            ],
            "passed_time": 202.5747658,
            "remaining_time": 1138.979974,
            "test": [
             0.7468478795,
             1.559368028
            ]
           },
           {
            "iteration": 302,
            "learn": [
             0.7831853749,
             1.456670355
            ],
            "passed_time": 203.2264806,
            "remaining_time": 1138.202434,
            "test": [
             0.7469297527,
             1.558676103
            ]
           },
           {
            "iteration": 303,
            "learn": [
             0.7840275097,
             1.452012434
            ],
            "passed_time": 203.9439952,
            "remaining_time": 1137.792815,
            "test": [
             0.7469297527,
             1.554832537
            ]
           },
           {
            "iteration": 304,
            "learn": [
             0.7847292887,
             1.451108071
            ],
            "passed_time": 204.6166216,
            "remaining_time": 1137.131717,
            "test": [
             0.7472572458,
             1.554289327
            ]
           },
           {
            "iteration": 305,
            "learn": [
             0.7853608899,
             1.449971518
            ],
            "passed_time": 205.2681766,
            "remaining_time": 1136.353892,
            "test": [
             0.7475028656,
             1.553476351
            ]
           },
           {
            "iteration": 306,
            "learn": [
             0.7865188252,
             1.446416294
            ],
            "passed_time": 205.9982102,
            "remaining_time": 1136.009674,
            "test": [
             0.7475028656,
             1.550566493
            ]
           },
           {
            "iteration": 307,
            "learn": [
             0.7882030948,
             1.440273398
            ],
            "passed_time": 206.6882913,
            "remaining_time": 1135.443471,
            "test": [
             0.7497134436,
             1.545475959
            ]
           },
           {
            "iteration": 308,
            "learn": [
             0.7888697849,
             1.439418516
            ],
            "passed_time": 207.3395365,
            "remaining_time": 1134.663936,
            "test": [
             0.7501228099,
             1.54463212
            ]
           },
           {
            "iteration": 309,
            "learn": [
             0.7886241623,
             1.43389324
            ],
            "passed_time": 208.1109687,
            "remaining_time": 1134.540443,
            "test": [
             0.7499590634,
             1.540185059
            ]
           },
           {
            "iteration": 310,
            "learn": [
             0.7886592512,
             1.432787938
            ],
            "passed_time": 208.7635697,
            "remaining_time": 1133.767425,
            "test": [
             0.7503684297,
             1.539123745
            ]
           },
           {
            "iteration": 311,
            "learn": [
             0.790203165,
             1.427407404
            ],
            "passed_time": 209.4813008,
            "remaining_time": 1133.34755,
            "test": [
             0.7511871623,
             1.535223891
            ]
           },
           {
            "iteration": 312,
            "learn": [
             0.7900628092,
             1.426339932
            ],
            "passed_time": 210.1625481,
            "remaining_time": 1132.729133,
            "test": [
             0.7512690355,
             1.534206872
            ]
           },
           {
            "iteration": 313,
            "learn": [
             0.7927997474,
             1.415385463
            ],
            "passed_time": 210.9964133,
            "remaining_time": 1132.929786,
            "test": [
             0.752988374,
             1.526903042
            ]
           },
           {
            "iteration": 314,
            "learn": [
             0.7943436612,
             1.409938315
            ],
            "passed_time": 211.7251285,
            "remaining_time": 1132.561402,
            "test": [
             0.7538071066,
             1.522833685
            ]
           },
           {
            "iteration": 315,
            "learn": [
             0.7943436612,
             1.40797443
            ],
            "passed_time": 212.4098649,
            "remaining_time": 1131.956368,
            "test": [
             0.7540527264,
             1.521063975
            ]
           },
           {
            "iteration": 316,
            "learn": [
             0.7945541949,
             1.406945885
            ],
            "passed_time": 213.0651254,
            "remaining_time": 1131.194341,
            "test": [
             0.7540527264,
             1.52028458
            ]
           },
           {
            "iteration": 317,
            "learn": [
             0.7952559739,
             1.406259732
            ],
            "passed_time": 213.7264257,
            "remaining_time": 1130.464931,
            "test": [
             0.754871459,
             1.519814448
            ]
           },
           {
            "iteration": 318,
            "learn": [
             0.7955366855,
             1.405300954
            ],
            "passed_time": 214.3842242,
            "remaining_time": 1129.717495,
            "test": [
             0.755198952,
             1.518878822
            ]
           },
           {
            "iteration": 319,
            "learn": [
             0.7957823082,
             1.404286938
            ],
            "passed_time": 215.0387003,
            "remaining_time": 1128.953177,
            "test": [
             0.7553626985,
             1.518256937
            ]
           },
           {
            "iteration": 320,
            "learn": [
             0.7967998877,
             1.402336074
            ],
            "passed_time": 215.7115288,
            "remaining_time": 1128.285535,
            "test": [
             0.7559358114,
             1.516915303
            ]
           },
           {
            "iteration": 321,
            "learn": [
             0.7967998877,
             1.401421843
            ],
            "passed_time": 216.3684798,
            "remaining_time": 1127.535121,
            "test": [
             0.7556901916,
             1.515985594
            ]
           },
           {
            "iteration": 322,
            "learn": [
             0.7967297098,
             1.399675208
            ],
            "passed_time": 217.0517118,
            "remaining_time": 1126.921736,
            "test": [
             0.7563451777,
             1.51429456
            ]
           },
           {
            "iteration": 323,
            "learn": [
             0.7974314888,
             1.398816762
            ],
            "passed_time": 217.7065256,
            "remaining_time": 1126.160916,
            "test": [
             0.7569182905,
             1.513306004
            ]
           },
           {
            "iteration": 324,
            "learn": [
             0.7978174673,
             1.397857573
            ],
            "passed_time": 218.3686032,
            "remaining_time": 1125.438186,
            "test": [
             0.7570001637,
             1.512295861
            ]
           },
           {
            "iteration": 325,
            "learn": [
             0.7980630899,
             1.395910136
            ],
            "passed_time": 219.0529321,
            "remaining_time": 1124.830087,
            "test": [
             0.7576551498,
             1.51072076
            ]
           },
           {
            "iteration": 326,
            "learn": [
             0.7985543352,
             1.392799555
            ],
            "passed_time": 219.7283971,
            "remaining_time": 1124.176172,
            "test": [
             0.7577370231,
             1.507785316
            ]
           },
           {
            "iteration": 327,
            "learn": [
             0.7985192463,
             1.391991687
            ],
            "passed_time": 220.3987938,
            "remaining_time": 1123.49629,
            "test": [
             0.7575732766,
             1.507070683
            ]
           },
           {
            "iteration": 328,
            "learn": [
             0.79872978,
             1.391133927
            ],
            "passed_time": 221.0603108,
            "remaining_time": 1122.771366,
            "test": [
             0.7580645161,
             1.50625387
            ]
           },
           {
            "iteration": 329,
            "learn": [
             0.8012210955,
             1.385598508
            ],
            "passed_time": 221.7858851,
            "remaining_time": 1122.370995,
            "test": [
             0.7601113476,
             1.502151092
            ]
           },
           {
            "iteration": 330,
            "learn": [
             0.8017123408,
             1.382919686
            ],
            "passed_time": 222.4902705,
            "remaining_time": 1121.861817,
            "test": [
             0.7604388407,
             1.500089229
            ]
           },
           {
            "iteration": 331,
            "learn": [
             0.8016772518,
             1.381861398
            ],
            "passed_time": 223.1480169,
            "remaining_time": 1121.117145,
            "test": [
             0.7602750942,
             1.499122581
            ]
           },
           {
            "iteration": 332,
            "learn": [
             0.8018877855,
             1.380913448
            ],
            "passed_time": 223.8061723,
            "remaining_time": 1120.375043,
            "test": [
             0.7605207139,
             1.498628943
            ]
           },
           {
            "iteration": 333,
            "learn": [
             0.8019930524,
             1.380195906
            ],
            "passed_time": 224.4895582,
            "remaining_time": 1119.759293,
            "test": [
             0.7605207139,
             1.498065584
            ]
           },
           {
            "iteration": 334,
            "learn": [
             0.8019579634,
             1.377389475
            ],
            "passed_time": 225.2043111,
            "remaining_time": 1119.299039,
            "test": [
             0.7606025872,
             1.495735714
            ]
           },
           {
            "iteration": 335,
            "learn": [
             0.802238675,
             1.376661654
            ],
            "passed_time": 225.860765,
            "remaining_time": 1118.54855,
            "test": [
             0.7606844605,
             1.495248473
            ]
           },
           {
            "iteration": 336,
            "learn": [
             0.8035720552,
             1.373152759
            ],
            "passed_time": 226.5967015,
            "remaining_time": 1118.190845,
            "test": [
             0.7612575733,
             1.492473577
            ]
           },
           {
            "iteration": 337,
            "learn": [
             0.8042387452,
             1.370237634
            ],
            "passed_time": 227.2696177,
            "remaining_time": 1117.521019,
            "test": [
             0.7609300802,
             1.490368059
            ]
           },
           {
            "iteration": 338,
            "learn": [
             0.80508088,
             1.368395327
            ],
            "passed_time": 227.9510405,
            "remaining_time": 1116.892856,
            "test": [
             0.7616669396,
             1.488813586
            ]
           },
           {
            "iteration": 339,
            "learn": [
             0.8053615916,
             1.36768505
            ],
            "passed_time": 228.6171259,
            "remaining_time": 1116.189497,
            "test": [
             0.7617488128,
             1.488366641
            ]
           },
           {
            "iteration": 340,
            "learn": [
             0.806519527,
             1.365974738
            ],
            "passed_time": 229.2787299,
            "remaining_time": 1115.464554,
            "test": [
             0.762731292,
             1.487099844
            ]
           },
           {
            "iteration": 341,
            "learn": [
             0.8064493491,
             1.365022402
            ],
            "passed_time": 229.9446899,
            "remaining_time": 1114.761099,
            "test": [
             0.7628950385,
             1.486265441
            ]
           },
           {
            "iteration": 342,
            "learn": [
             0.8067300607,
             1.363973846
            ],
            "passed_time": 230.6021348,
            "remaining_time": 1114.016727,
            "test": [
             0.762731292,
             1.485505714
            ]
           },
           {
            "iteration": 343,
            "learn": [
             0.8069055055,
             1.361143565
            ],
            "passed_time": 231.2833459,
            "remaining_time": 1113.38727,
            "test": [
             0.7633044048,
             1.482911515
            ]
           },
           {
            "iteration": 344,
            "learn": [
             0.807256395,
             1.359239167
            ],
            "passed_time": 231.9786424,
            "remaining_time": 1112.825082,
            "test": [
             0.7642050106,
             1.48120433
            ]
           },
           {
            "iteration": 345,
            "learn": [
             0.8082037966,
             1.357442366
            ],
            "passed_time": 232.6365544,
            "remaining_time": 1112.083413,
            "test": [
             0.76494187,
             1.479693353
            ]
           },
           {
            "iteration": 346,
            "learn": [
             0.8085897751,
             1.356618598
            ],
            "passed_time": 233.2948638,
            "remaining_time": 1111.344121,
            "test": [
             0.765269363,
             1.478959532
            ]
           },
           {
            "iteration": 347,
            "learn": [
             0.8090459314,
             1.355780439
            ],
            "passed_time": 233.9527295,
            "remaining_time": 1110.603187,
            "test": [
             0.7656787293,
             1.478186053
            ]
           },
           {
            "iteration": 348,
            "learn": [
             0.8093968209,
             1.354928161
            ],
            "passed_time": 234.6102568,
            "remaining_time": 1109.861129,
            "test": [
             0.7655968561,
             1.477283688
            ]
           },
           {
            "iteration": 349,
            "learn": [
             0.8097126215,
             1.353977881
            ],
            "passed_time": 235.2639985,
            "remaining_time": 1109.101707,
            "test": [
             0.766824955,
             1.476403231
            ]
           },
           {
            "iteration": 350,
            "learn": [
             0.8099582441,
             1.353225798
            ],
            "passed_time": 235.9208649,
            "remaining_time": 1108.357568,
            "test": [
             0.7669887015,
             1.475787422
            ]
           },
           {
            "iteration": 351,
            "learn": [
             0.8104494895,
             1.35031835
            ],
            "passed_time": 236.6012934,
            "remaining_time": 1107.724237,
            "test": [
             0.766824955,
             1.473488575
            ]
           },
           {
            "iteration": 352,
            "learn": [
             0.8113267132,
             1.347167472
            ],
            "passed_time": 237.3191108,
            "remaining_time": 1107.265086,
            "test": [
             0.7669887015,
             1.471251452
            ]
           },
           {
            "iteration": 353,
            "learn": [
             0.811467069,
             1.346300117
            ],
            "passed_time": 237.9883472,
            "remaining_time": 1106.578586,
            "test": [
             0.767152448,
             1.470251863
            ]
           },
           {
            "iteration": 354,
            "learn": [
             0.8117828696,
             1.344420665
            ],
            "passed_time": 238.644947,
            "remaining_time": 1105.833627,
            "test": [
             0.7681349271,
             1.46869707
            ]
           },
           {
            "iteration": 355,
            "learn": [
             0.8125899154,
             1.341386293
            ],
            "passed_time": 239.3196725,
            "remaining_time": 1105.17287,
            "test": [
             0.7682168004,
             1.466375036
            ]
           },
           {
            "iteration": 356,
            "learn": [
             0.8132215165,
             1.339601554
            ],
            "passed_time": 240.0328859,
            "remaining_time": 1104.689164,
            "test": [
             0.76870804,
             1.465038679
            ]
           },
           {
            "iteration": 357,
            "learn": [
             0.8145198077,
             1.33610664
            ],
            "passed_time": 240.745455,
            "remaining_time": 1104.201221,
            "test": [
             0.7691174063,
             1.462551938
            ]
           },
           {
            "iteration": 358,
            "learn": [
             0.8147303414,
             1.335318646
            ],
            "passed_time": 241.3981154,
            "remaining_time": 1103.438182,
            "test": [
             0.7696086458,
             1.461779419
            ]
           },
           {
            "iteration": 359,
            "learn": [
             0.8153970315,
             1.334599048
            ],
            "passed_time": 242.0867335,
            "remaining_time": 1102.839564,
            "test": [
             0.7702636319,
             1.461168568
            ]
           },
           {
            "iteration": 360,
            "learn": [
             0.815747921,
             1.333808176
            ],
            "passed_time": 242.7369307,
            "remaining_time": 1102.066009,
            "test": [
             0.7704273784,
             1.460452337
            ]
           },
           {
            "iteration": 361,
            "learn": [
             0.8154321204,
             1.3322644
            ],
            "passed_time": 243.4122845,
            "remaining_time": 1101.406967,
            "test": [
             0.7699361389,
             1.459164912
            ]
           },
           {
            "iteration": 362,
            "learn": [
             0.8156426541,
             1.331409106
            ],
            "passed_time": 244.0732478,
            "remaining_time": 1100.682938,
            "test": [
             0.7704273784,
             1.458277259
            ]
           },
           {
            "iteration": 363,
            "learn": [
             0.8168356784,
             1.329151763
            ],
            "passed_time": 244.756643,
            "remaining_time": 1100.060077,
            "test": [
             0.7715736041,
             1.456251215
            ]
           },
           {
            "iteration": 364,
            "learn": [
             0.8168356784,
             1.328398036
            ],
            "passed_time": 245.4187538,
            "remaining_time": 1099.341541,
            "test": [
             0.7713279843,
             1.455416492
            ]
           },
           {
            "iteration": 365,
            "learn": [
             0.8169409453,
             1.327616896
            ],
            "passed_time": 246.0688747,
            "remaining_time": 1098.569785,
            "test": [
             0.7713279843,
             1.454991454
            ]
           },
           {
            "iteration": 366,
            "learn": [
             0.817151479,
             1.32689812
            ],
            "passed_time": 246.7340192,
            "remaining_time": 1097.865541,
            "test": [
             0.7715736041,
             1.454382522
            ]
           },
           {
            "iteration": 367,
            "learn": [
             0.8175725464,
             1.325284577
            ],
            "passed_time": 247.4114094,
            "remaining_time": 1097.215816,
            "test": [
             0.7718192238,
             1.453254686
            ]
           },
           {
            "iteration": 368,
            "learn": [
             0.8177129022,
             1.324534139
            ],
            "passed_time": 248.0671551,
            "remaining_time": 1096.470271,
            "test": [
             0.7719829704,
             1.452674217
            ]
           },
           {
            "iteration": 369,
            "learn": [
             0.8177129022,
             1.323684466
            ],
            "passed_time": 248.7297489,
            "remaining_time": 1095.75538,
            "test": [
             0.7722285901,
             1.451848129
            ]
           },
           {
            "iteration": 370,
            "learn": [
             0.8180287028,
             1.321790759
            ],
            "passed_time": 249.4370419,
            "remaining_time": 1095.237039,
            "test": [
             0.7727198297,
             1.450223936
            ]
           },
           {
            "iteration": 371,
            "learn": [
             0.8183795923,
             1.321019625
            ],
            "passed_time": 250.0911727,
            "remaining_time": 1094.485024,
            "test": [
             0.773129196,
             1.449754764
            ]
           },
           {
            "iteration": 372,
            "learn": [
             0.818590126,
             1.320182561
            ],
            "passed_time": 250.7489789,
            "remaining_time": 1093.749567,
            "test": [
             0.7736204356,
             1.44879899
            ]
           },
           {
            "iteration": 373,
            "learn": [
             0.8186953928,
             1.319437469
            ],
            "passed_time": 251.4168546,
            "remaining_time": 1093.058304,
            "test": [
             0.7736204356,
             1.447875357
            ]
           },
           {
            "iteration": 374,
            "learn": [
             0.8189410155,
             1.318677437
            ],
            "passed_time": 252.0736862,
            "remaining_time": 1092.319307,
            "test": [
             0.7737841821,
             1.44702976
            ]
           },
           {
            "iteration": 375,
            "learn": [
             0.8192217271,
             1.31791343
            ],
            "passed_time": 252.7350249,
            "remaining_time": 1091.600214,
            "test": [
             0.7741116751,
             1.44625916
            ]
           },
           {
            "iteration": 376,
            "learn": [
             0.8191515492,
             1.317155317
            ],
            "passed_time": 253.4115158,
            "remaining_time": 1090.946658,
            "test": [
             0.7740298019,
             1.445526138
            ]
           },
           {
            "iteration": 377,
            "learn": [
             0.8198533282,
             1.315135646
            ],
            "passed_time": 254.0648382,
            "remaining_time": 1090.193565,
            "test": [
             0.7738660553,
             1.443721089
            ]
           },
           {
            "iteration": 378,
            "learn": [
             0.8201340398,
             1.314394529
            ],
            "passed_time": 254.7253584,
            "remaining_time": 1089.471783,
            "test": [
             0.7741935484,
             1.442874372
            ]
           },
           {
            "iteration": 379,
            "learn": [
             0.820660374,
             1.312910239
            ],
            "passed_time": 255.410463,
            "remaining_time": 1088.855132,
            "test": [
             0.7749304077,
             1.441846639
            ]
           },
           {
            "iteration": 380,
            "learn": [
             0.8203796624,
             1.311133998
            ],
            "passed_time": 256.0925473,
            "remaining_time": 1088.225286,
            "test": [
             0.7743572949,
             1.440338699
            ]
           },
           {
            "iteration": 381,
            "learn": [
             0.8211165304,
             1.309344736
            ],
            "passed_time": 256.7678305,
            "remaining_time": 1087.566361,
            "test": [
             0.7755853938,
             1.438772234
            ]
           },
           {
            "iteration": 382,
            "learn": [
             0.8211867083,
             1.308436672
            ],
            "passed_time": 257.4337874,
            "remaining_time": 1086.867975,
            "test": [
             0.7756672671,
             1.437809903
            ]
           },
           {
            "iteration": 383,
            "learn": [
             0.8214674199,
             1.307616331
            ],
            "passed_time": 258.0885755,
            "remaining_time": 1086.122755,
            "test": [
             0.7759947601,
             1.437028909
            ]
           },
           {
            "iteration": 384,
            "learn": [
             0.8218183094,
             1.306049664
            ],
            "passed_time": 258.7880967,
            "remaining_time": 1085.565652,
            "test": [
             0.7761585066,
             1.435593249
            ]
           },
           {
            "iteration": 385,
            "learn": [
             0.8224148216,
             1.305166546
            ],
            "passed_time": 259.4506302,
            "remaining_time": 1084.853153,
            "test": [
             0.7767316195,
             1.434722546
            ]
           },
           {
            "iteration": 386,
            "learn": [
             0.8230113337,
             1.303198413
            ],
            "passed_time": 260.1257762,
            "remaining_time": 1084.19348,
            "test": [
             0.7763222532,
             1.433413693
            ]
           },
           {
            "iteration": 387,
            "learn": [
             0.8228709779,
             1.30149838
            ],
            "passed_time": 260.8169199,
            "remaining_time": 1083.600193,
            "test": [
             0.7771409858,
             1.432131225
            ]
           },
           {
            "iteration": 388,
            "learn": [
             0.8230464227,
             1.300728205
            ],
            "passed_time": 261.47835,
            "remaining_time": 1082.883347,
            "test": [
             0.7769772392,
             1.431545159
            ]
           },
           {
            "iteration": 389,
            "learn": [
             0.8236780238,
             1.299078202
            ],
            "passed_time": 262.1554935,
            "remaining_time": 1082.231653,
            "test": [
             0.7777140986,
             1.430266849
            ]
           },
           {
            "iteration": 390,
            "learn": [
             0.8237832906,
             1.29726509
            ],
            "passed_time": 262.8619337,
            "remaining_time": 1081.700387,
            "test": [
             0.7769772392,
             1.428901229
            ]
           },
           {
            "iteration": 391,
            "learn": [
             0.8238885575,
             1.296507937
            ],
            "passed_time": 263.5233987,
            "remaining_time": 1080.983738,
            "test": [
             0.7769772392,
             1.428149978
            ]
           },
           {
            "iteration": 392,
            "learn": [
             0.8244499807,
             1.295060792
            ],
            "passed_time": 264.1988576,
            "remaining_time": 1080.324591,
            "test": [
             0.7778778451,
             1.426846242
            ]
           },
           {
            "iteration": 393,
            "learn": [
             0.8245552476,
             1.294404107
            ],
            "passed_time": 264.8704009,
            "remaining_time": 1079.649401,
            "test": [
             0.7781234649,
             1.426353883
            ]
           },
           {
            "iteration": 394,
            "learn": [
             0.8251166708,
             1.293313746
            ],
            "passed_time": 265.5529276,
            "remaining_time": 1079.018858,
            "test": [
             0.7782872114,
             1.425411861
            ]
           },
           {
            "iteration": 395,
            "learn": [
             0.8248710481,
             1.291820272
            ],
            "passed_time": 266.2449618,
            "remaining_time": 1078.426563,
            "test": [
             0.7783690847,
             1.424116121
            ]
           },
           {
            "iteration": 396,
            "learn": [
             0.8248710481,
             1.291123016
            ],
            "passed_time": 266.9086331,
            "remaining_time": 1077.719242,
            "test": [
             0.7786147044,
             1.423588102
            ]
           },
           {
            "iteration": 397,
            "learn": [
             0.824941226,
             1.289608572
            ],
            "passed_time": 267.6178189,
            "remaining_time": 1077.195342,
            "test": [
             0.7791878173,
             1.422402219
            ]
           },
           {
            "iteration": 398,
            "learn": [
             0.8261342503,
             1.286557752
            ],
            "passed_time": 268.4748338,
            "remaining_time": 1077.263681,
            "test": [
             0.7798428033,
             1.419842081
            ]
           },
           {
            "iteration": 399,
            "learn": [
             0.8259588056,
             1.285534964
            ],
            "passed_time": 269.2168521,
            "remaining_time": 1076.867408,
            "test": [
             0.7797609301,
             1.419087951
            ]
           },
           {
            "iteration": 400,
            "learn": [
             0.8262395172,
             1.284825235
            ],
            "passed_time": 269.8756606,
            "remaining_time": 1076.137609,
            "test": [
             0.7800884231,
             1.418496289
            ]
           },
           {
            "iteration": 401,
            "learn": [
             0.8270114741,
             1.283295302
            ],
            "passed_time": 270.5580096,
            "remaining_time": 1075.50174,
            "test": [
             0.7802521696,
             1.417281782
            ]
           },
           {
            "iteration": 402,
            "learn": [
             0.8272220078,
             1.282570359
            ],
            "passed_time": 271.2224899,
            "remaining_time": 1074.79483,
            "test": [
             0.7804977894,
             1.41646145
            ]
           },
           {
            "iteration": 403,
            "learn": [
             0.8273623636,
             1.281943418
            ],
            "passed_time": 271.8757958,
            "remaining_time": 1074.043986,
            "test": [
             0.7806615359,
             1.415987481
            ]
           },
           {
            "iteration": 404,
            "learn": [
             0.8276781641,
             1.281274672
            ],
            "passed_time": 272.5349853,
            "remaining_time": 1073.316794,
            "test": [
             0.7806615359,
             1.415377749
            ]
           },
           {
            "iteration": 405,
            "learn": [
             0.8278536089,
             1.280616206
            ],
            "passed_time": 273.2213616,
            "remaining_time": 1072.696676,
            "test": [
             0.7807434092,
             1.414630656
            ]
           },
           {
            "iteration": 406,
            "learn": [
             0.8280992316,
             1.279979944
            ],
            "passed_time": 273.8827242,
            "remaining_time": 1071.978328,
            "test": [
             0.7811527755,
             1.413944008
            ]
           },
           {
            "iteration": 407,
            "learn": [
             0.8292571669,
             1.276801242
            ],
            "passed_time": 274.5980938,
            "remaining_time": 1071.470993,
            "test": [
             0.7816440151,
             1.411218843
            ]
           },
           {
            "iteration": 408,
            "learn": [
             0.8297835012,
             1.271874123
            ],
            "passed_time": 275.3421582,
            "remaining_time": 1071.074263,
            "test": [
             0.7818896348,
             1.407488013
            ]
           },
           {
            "iteration": 409,
            "learn": [
             0.8296431454,
             1.268961329
            ],
            "passed_time": 276.057642,
            "remaining_time": 1070.565002,
            "test": [
             0.7822171279,
             1.405102815
            ]
           },
           {
            "iteration": 410,
            "learn": [
             0.829923857,
             1.268367284
            ],
            "passed_time": 276.7156137,
            "remaining_time": 1069.832385,
            "test": [
             0.7818077616,
             1.404631564
            ]
           },
           {
            "iteration": 411,
            "learn": [
             0.8296431454,
             1.267606018
            ],
            "passed_time": 277.3852844,
            "remaining_time": 1069.145222,
            "test": [
             0.7814802685,
             1.403994488
            ]
           },
           {
            "iteration": 412,
            "learn": [
             0.829888768,
             1.266752918
            ],
            "passed_time": 278.0567667,
            "remaining_time": 1068.465106,
            "test": [
             0.7818896348,
             1.403302563
            ]
           },
           {
            "iteration": 413,
            "learn": [
             0.8301343907,
             1.266011664
            ],
            "passed_time": 278.7274357,
            "remaining_time": 1067.781916,
            "test": [
             0.7818077616,
             1.402629987
            ]
           },
           {
            "iteration": 414,
            "learn": [
             0.8305554581,
             1.265405557
            ],
            "passed_time": 279.3812232,
            "remaining_time": 1067.03431,
            "test": [
             0.7822990011,
             1.402107885
            ]
           },
           {
            "iteration": 415,
            "learn": [
             0.8312572371,
             1.26463922
            ],
            "passed_time": 280.0376286,
            "remaining_time": 1066.297124,
            "test": [
             0.7836089733,
             1.401316017
            ]
           },
           {
            "iteration": 416,
            "learn": [
             0.8315379487,
             1.263954163
            ],
            "passed_time": 280.7028543,
            "remaining_time": 1065.593809,
            "test": [
             0.7836908466,
             1.400700208
            ]
           },
           {
            "iteration": 417,
            "learn": [
             0.8318186603,
             1.263299398
            ],
            "passed_time": 281.363652,
            "remaining_time": 1064.873917,
            "test": [
             0.7840183396,
             1.40020609
            ]
           },
           {
            "iteration": 418,
            "learn": [
             0.8323800835,
             1.258958511
            ],
            "passed_time": 282.0872449,
            "remaining_time": 1064.391251,
            "test": [
             0.7839364664,
             1.397241383
            ]
           },
           {
            "iteration": 419,
            "learn": [
             0.8330467736,
             1.255900975
            ],
            "passed_time": 282.80293,
            "remaining_time": 1063.877689,
            "test": [
             0.7843458327,
             1.395068064
            ]
           },
           {
            "iteration": 420,
            "learn": [
             0.8329765957,
             1.255213039
            ],
            "passed_time": 283.4648935,
            "remaining_time": 1063.161679,
            "test": [
             0.7845095792,
             1.39446185
            ]
           },
           {
            "iteration": 421,
            "learn": [
             0.8337485526,
             1.252144264
            ],
            "passed_time": 284.1822962,
            "remaining_time": 1062.653231,
            "test": [
             0.7846733257,
             1.392067217
            ]
           },
           {
            "iteration": 422,
            "learn": [
             0.8342397979,
             1.25059569
            ],
            "passed_time": 284.8496165,
            "remaining_time": 1061.957081,
            "test": [
             0.7842639594,
             1.390892367
            ]
           },
           {
            "iteration": 423,
            "learn": [
             0.8358889786,
             1.246011099
            ],
            "passed_time": 285.6045062,
            "remaining_time": 1061.586561,
            "test": [
             0.7853283118,
             1.387820841
            ]
           },
           {
            "iteration": 424,
            "learn": [
             0.8360293344,
             1.245257098
            ],
            "passed_time": 286.2658573,
            "remaining_time": 1060.867589,
            "test": [
             0.7854920583,
             1.387171771
            ]
           },
           {
            "iteration": 425,
            "learn": [
             0.8365205797,
             1.243933449
            ],
            "passed_time": 286.9341768,
            "remaining_time": 1060.174634,
            "test": [
             0.7858195513,
             1.386014832
            ]
           },
           {
            "iteration": 426,
            "learn": [
             0.8361696902,
             1.241575499
            ],
            "passed_time": 287.6218971,
            "remaining_time": 1059.553265,
            "test": [
             0.785410185,
             1.384414625
            ]
           },
           {
            "iteration": 427,
            "learn": [
             0.8363802239,
             1.240820265
            ],
            "passed_time": 288.2739846,
            "remaining_time": 1058.80071,
            "test": [
             0.7859014246,
             1.383596852
            ]
           },
           {
            "iteration": 428,
            "learn": [
             0.8362047791,
             1.239307328
            ],
            "passed_time": 288.9695035,
            "remaining_time": 1058.207669,
            "test": [
             0.7863107909,
             1.382459901
            ]
           },
           {
            "iteration": 429,
            "learn": [
             0.8373627145,
             1.234878033
            ],
            "passed_time": 289.7277129,
            "remaining_time": 1057.843045,
            "test": [
             0.78729327,
             1.379445462
            ]
           },
           {
            "iteration": 430,
            "learn": [
             0.8373627145,
             1.23424136
            ],
            "passed_time": 290.3826143,
            "remaining_time": 1057.100515,
            "test": [
             0.78729327,
             1.378903052
            ]
           },
           {
            "iteration": 431,
            "learn": [
             0.8375030703,
             1.233587143
            ],
            "passed_time": 291.0541087,
            "remaining_time": 1056.418617,
            "test": [
             0.7874570165,
             1.378393263
            ]
           },
           {
            "iteration": 432,
            "learn": [
             0.8389768062,
             1.228769951
            ],
            "passed_time": 291.7830357,
            "remaining_time": 1055.944612,
            "test": [
             0.7872113968,
             1.373930371
            ]
           },
           {
            "iteration": 433,
            "learn": [
             0.8401347416,
             1.223708233
            ],
            "passed_time": 292.5036894,
            "remaining_time": 1055.43958,
            "test": [
             0.7886851154,
             1.370196502
            ]
           },
           {
            "iteration": 434,
            "learn": [
             0.8406259869,
             1.222154176
            ],
            "passed_time": 293.1845939,
            "remaining_time": 1054.790551,
            "test": [
             0.7892582283,
             1.369035245
            ]
           },
           {
            "iteration": 435,
            "learn": [
             0.8410470543,
             1.221542861
            ],
            "passed_time": 293.8401041,
            "remaining_time": 1054.050282,
            "test": [
             0.789503848,
             1.368348917
            ]
           },
           {
            "iteration": 436,
            "learn": [
             0.8411874101,
             1.220801196
            ],
            "passed_time": 294.4962236,
            "remaining_time": 1053.31258,
            "test": [
             0.7896675946,
             1.367463183
            ]
           },
           {
            "iteration": 437,
            "learn": [
             0.8410821432,
             1.220254576
            ],
            "passed_time": 295.1654184,
            "remaining_time": 1052.62188,
            "test": [
             0.7896675946,
             1.366882874
            ]
           },
           {
            "iteration": 438,
            "learn": [
             0.8425207902,
             1.21596221
            ],
            "passed_time": 295.8789631,
            "remaining_time": 1052.088978,
            "test": [
             0.7907319469,
             1.363738589
            ]
           },
           {
            "iteration": 439,
            "learn": [
             0.8421699007,
             1.214720116
            ],
            "passed_time": 296.5585058,
            "remaining_time": 1051.434702,
            "test": [
             0.7900769609,
             1.362551746
            ]
           },
           {
            "iteration": 440,
            "learn": [
             0.8431523913,
             1.21169904
            ],
            "passed_time": 297.2792509,
            "remaining_time": 1050.925969,
            "test": [
             0.7907319469,
             1.360091231
            ]
           },
           {
            "iteration": 441,
            "learn": [
             0.8452577283,
             1.206341807
            ],
            "passed_time": 298.0267107,
            "remaining_time": 1050.510442,
            "test": [
             0.7919600458,
             1.356291001
            ]
           },
           {
            "iteration": 442,
            "learn": [
             0.8456437068,
             1.205103825
            ],
            "passed_time": 298.6890011,
            "remaining_time": 1049.794074,
            "test": [
             0.7920419191,
             1.355396631
            ]
           },
           {
            "iteration": 443,
            "learn": [
             0.8469770869,
             1.200335154
            ],
            "passed_time": 299.4293959,
            "remaining_time": 1049.351667,
            "test": [
             0.7923694121,
             1.351762226
            ]
           },
           {
            "iteration": 444,
            "learn": [
             0.8473630654,
             1.199695329
            ],
            "passed_time": 300.0886136,
            "remaining_time": 1048.624256,
            "test": [
             0.7924512854,
             1.35117776
            ]
           },
           {
            "iteration": 445,
            "learn": [
             0.8474332433,
             1.199107589
            ],
            "passed_time": 300.7479959,
            "remaining_time": 1047.897725,
            "test": [
             0.7927787785,
             1.350490312
            ]
           },
           {
            "iteration": 446,
            "learn": [
             0.8479244886,
             1.197898802
            ],
            "passed_time": 301.4106231,
            "remaining_time": 1047.182769,
            "test": [
             0.7933518913,
             1.349573715
            ]
           },
           {
            "iteration": 447,
            "learn": [
             0.8479244886,
             1.197315037
            ],
            "passed_time": 302.0827298,
            "remaining_time": 1046.500885,
            "test": [
             0.7935975111,
             1.348964463
            ]
           },
           {
            "iteration": 448,
            "learn": [
             0.8478893996,
             1.196666714
            ],
            "passed_time": 302.7889697,
            "remaining_time": 1045.936953,
            "test": [
             0.7936793843,
             1.348520077
            ]
           },
           {
            "iteration": 449,
            "learn": [
             0.8488368013,
             1.194122491
            ],
            "passed_time": 303.5484818,
            "remaining_time": 1045.555882,
            "test": [
             0.7941706239,
             1.346712149
            ]
           },
           {
            "iteration": 450,
            "learn": [
             0.8485210007,
             1.191697653
            ],
            "passed_time": 304.2296596,
            "remaining_time": 1044.904086,
            "test": [
             0.7931881448,
             1.344945797
            ]
           },
           {
            "iteration": 451,
            "learn": [
             0.8487666234,
             1.191165288
            ],
            "passed_time": 304.8856147,
            "remaining_time": 1044.165778,
            "test": [
             0.7935975111,
             1.344447682
            ]
           },
           {
            "iteration": 452,
            "learn": [
             0.8489420681,
             1.190615926
            ],
            "passed_time": 305.568392,
            "remaining_time": 1043.519431,
            "test": [
             0.7936793843,
             1.344158407
            ]
           },
           {
            "iteration": 453,
            "learn": [
             0.8491526018,
             1.190008586
            ],
            "passed_time": 306.2335824,
            "remaining_time": 1042.813036,
            "test": [
             0.7939250041,
             1.343476396
            ]
           },
           {
            "iteration": 454,
            "learn": [
             0.8491526018,
             1.189345459
            ],
            "passed_time": 306.8885132,
            "remaining_time": 1042.071984,
            "test": [
             0.7939250041,
             1.342713792
            ]
           },
           {
            "iteration": 455,
            "learn": [
             0.8492227797,
             1.188753745
            ],
            "passed_time": 307.5724149,
            "remaining_time": 1041.429405,
            "test": [
             0.7940068774,
             1.342102301
            ]
           },
           {
            "iteration": 456,
            "learn": [
             0.8500298256,
             1.18517193
            ],
            "passed_time": 308.3440839,
            "remaining_time": 1041.082979,
            "test": [
             0.79482561,
             1.339657296
            ]
           },
           {
            "iteration": 457,
            "learn": [
             0.8500298256,
             1.184663141
            ],
            "passed_time": 309.0005667,
            "remaining_time": 1040.346886,
            "test": [
             0.79482561,
             1.339208433
            ]
           },
           {
            "iteration": 458,
            "learn": [
             0.8504158041,
             1.183879396
            ],
            "passed_time": 309.6901569,
            "remaining_time": 1039.722292,
            "test": [
             0.795153103,
             1.338671779
            ]
           },
           {
            "iteration": 459,
            "learn": [
             0.8508719604,
             1.183278361
            ],
            "passed_time": 310.3450356,
            "remaining_time": 1038.981206,
            "test": [
             0.7955624693,
             1.338000642
            ]
           },
           {
            "iteration": 460,
            "learn": [
             0.8515737394,
             1.178909375
            ],
            "passed_time": 311.0634844,
            "remaining_time": 1038.452717,
            "test": [
             0.795153103,
             1.334774884
            ]
           },
           {
            "iteration": 461,
            "learn": [
             0.852591319,
             1.176376666
            ],
            "passed_time": 311.7935874,
            "remaining_time": 1037.962202,
            "test": [
             0.7971999345,
             1.332655614
            ]
           },
           {
            "iteration": 462,
            "learn": [
             0.8533632759,
             1.175027934
            ],
            "passed_time": 312.4619171,
            "remaining_time": 1037.265587,
            "test": [
             0.7976093008,
             1.331551684
            ]
           },
           {
            "iteration": 463,
            "learn": [
             0.8536088986,
             1.17435302
            ],
            "passed_time": 313.1273223,
            "remaining_time": 1036.559412,
            "test": [
             0.7977730473,
             1.330824339
            ]
           },
           {
            "iteration": 464,
            "learn": [
             0.8538194323,
             1.173755411
            ],
            "passed_time": 313.7769492,
            "remaining_time": 1035.801327,
            "test": [
             0.7977730473,
             1.330189102
            ]
           },
           {
            "iteration": 465,
            "learn": [
             0.8538896102,
             1.173218249
            ],
            "passed_time": 314.4449264,
            "remaining_time": 1035.104114,
            "test": [
             0.7978549206,
             1.329730004
            ]
           },
           {
            "iteration": 466,
            "learn": [
             0.8540650549,
             1.171853618
            ],
            "passed_time": 315.1190709,
            "remaining_time": 1034.427271,
            "test": [
             0.7981824136,
             1.328646222
            ]
           },
           {
            "iteration": 467,
            "learn": [
             0.8541352328,
             1.171296169
            ],
            "passed_time": 315.7749593,
            "remaining_time": 1033.690679,
            "test": [
             0.7985099067,
             1.328132995
            ]
           },
           {
            "iteration": 468,
            "learn": [
             0.854731745,
             1.168714253
            ],
            "passed_time": 316.4933139,
            "remaining_time": 1033.158344,
            "test": [
             0.7985917799,
             1.326032674
            ]
           },
           {
            "iteration": 469,
            "learn": [
             0.8545913892,
             1.16813556
            ],
            "passed_time": 317.1450343,
            "remaining_time": 1032.408303,
            "test": [
             0.7986736532,
             1.32553232
            ]
           },
           {
            "iteration": 470,
            "learn": [
             0.8548019229,
             1.16752726
            ],
            "passed_time": 317.7979816,
            "remaining_time": 1031.662662,
            "test": [
             0.7984280334,
             1.325092011
            ]
           },
           {
            "iteration": 471,
            "learn": [
             0.8562405698,
             1.162903742
            ],
            "passed_time": 318.5167762,
            "remaining_time": 1031.130581,
            "test": [
             0.8002292451,
             1.321442095
            ]
           },
           {
            "iteration": 472,
            "learn": [
             0.8563107477,
             1.162281462
            ],
            "passed_time": 319.1811282,
            "remaining_time": 1030.421951,
            "test": [
             0.8003111184,
             1.320929428
            ]
           },
           {
            "iteration": 473,
            "learn": [
             0.8563458367,
             1.161642185
            ],
            "passed_time": 319.8328999,
            "remaining_time": 1029.673007,
            "test": [
             0.8002292451,
             1.320156429
            ]
           },
           {
            "iteration": 474,
            "learn": [
             0.8563107477,
             1.161036763
            ],
            "passed_time": 320.4884484,
            "remaining_time": 1028.936598,
            "test": [
             0.8005567382,
             1.319500004
            ]
           },
           {
            "iteration": 475,
            "learn": [
             0.85757395,
             1.156943692
            ],
            "passed_time": 321.2372245,
            "remaining_time": 1028.499013,
            "test": [
             0.8015392173,
             1.316357078
            ]
           },
           {
            "iteration": 476,
            "learn": [
             0.8580651953,
             1.156355541
            ],
            "passed_time": 321.8906534,
            "remaining_time": 1027.755692,
            "test": [
             0.8021123301,
             1.315803394
            ]
           },
           {
            "iteration": 477,
            "learn": [
             0.8582055511,
             1.155742992
            ],
            "passed_time": 322.5447266,
            "remaining_time": 1027.014799,
            "test": [
             0.8027673162,
             1.315202537
            ]
           },
           {
            "iteration": 478,
            "learn": [
             0.8583108179,
             1.155201443
            ],
            "passed_time": 323.2319795,
            "remaining_time": 1026.379626,
            "test": [
             0.803012936,
             1.31474128
            ]
           },
           {
            "iteration": 479,
            "learn": [
             0.858977508,
             1.153826943
            ],
            "passed_time": 323.8934763,
            "remaining_time": 1025.662675,
            "test": [
             0.8034223023,
             1.313583941
            ]
           },
           {
            "iteration": 480,
            "learn": [
             0.8586617074,
             1.152569498
            ],
            "passed_time": 324.5955407,
            "remaining_time": 1025.074067,
            "test": [
             0.8034223023,
             1.312396059
            ]
           },
           {
            "iteration": 481,
            "learn": [
             0.8588722411,
             1.15189897
            ],
            "passed_time": 325.2555073,
            "remaining_time": 1024.352407,
            "test": [
             0.8036679221,
             1.311859646
            ]
           },
           {
            "iteration": 482,
            "learn": [
             0.8592933085,
             1.150442505
            ],
            "passed_time": 325.9400658,
            "remaining_time": 1023.70824,
            "test": [
             0.8039135418,
             1.310692552
            ]
           },
           {
            "iteration": 483,
            "learn": [
             0.8594687533,
             1.149905753
            ],
            "passed_time": 326.6140128,
            "remaining_time": 1023.030668,
            "test": [
             0.8042410349,
             1.310166372
            ]
           },
           {
            "iteration": 484,
            "learn": [
             0.8597494649,
             1.149143322
            ],
            "passed_time": 327.2691783,
            "remaining_time": 1022.294444,
            "test": [
             0.8043229081,
             1.309533134
            ]
           },
           {
            "iteration": 485,
            "learn": [
             0.8605565108,
             1.147880737
            ],
            "passed_time": 327.962296,
            "remaining_time": 1021.676782,
            "test": [
             0.8051416407,
             1.308571603
            ]
           },
           {
            "iteration": 486,
            "learn": [
             0.8605915997,
             1.146540915
            ],
            "passed_time": 328.6528522,
            "remaining_time": 1021.050853,
            "test": [
             0.8045685279,
             1.307605194
            ]
           },
           {
            "iteration": 487,
            "learn": [
             0.861117934,
             1.145209933
            ],
            "passed_time": 329.350892,
            "remaining_time": 1020.447846,
            "test": [
             0.8048141477,
             1.30626444
            ]
           },
           {
            "iteration": 488,
            "learn": [
             0.8612232008,
             1.144637956
            ],
            "passed_time": 330.0517636,
            "remaining_time": 1019.8532,
            "test": [
             0.8048141477,
             1.305694925
            ]
           },
           {
            "iteration": 489,
            "learn": [
             0.8615740903,
             1.143384897
            ],
            "passed_time": 330.7878508,
            "remaining_time": 1019.366642,
            "test": [
             0.8042410349,
             1.304613862
            ]
           },
           {
            "iteration": 490,
            "learn": [
             0.861117934,
             1.140674138
            ],
            "passed_time": 331.5021976,
            "remaining_time": 1018.812253,
            "test": [
             0.8048141477,
             1.302368904
            ]
           },
           {
            "iteration": 491,
            "learn": [
             0.861082845,
             1.140089688
            ],
            "passed_time": 332.1557728,
            "remaining_time": 1018.070946,
            "test": [
             0.804896021,
             1.301958818
            ]
           },
           {
            "iteration": 492,
            "learn": [
             0.8612232008,
             1.139489338
            ],
            "passed_time": 332.8316508,
            "remaining_time": 1017.39817,
            "test": [
             0.8053053873,
             1.301480291
            ]
           },
           {
            "iteration": 493,
            "learn": [
             0.8612232008,
             1.138933603
            ],
            "passed_time": 333.4871144,
            "remaining_time": 1016.663146,
            "test": [
             0.8053053873,
             1.301068766
            ]
           },
           {
            "iteration": 494,
            "learn": [
             0.8612933787,
             1.137693771
            ],
            "passed_time": 334.1648462,
            "remaining_time": 1015.996149,
            "test": [
             0.8053872605,
             1.299994019
            ]
           },
           {
            "iteration": 495,
            "learn": [
             0.861784624,
             1.134779537
            ],
            "passed_time": 334.8710542,
            "remaining_time": 1015.415455,
            "test": [
             0.805223514,
             1.297600186
            ]
           },
           {
            "iteration": 496,
            "learn": [
             0.8621706025,
             1.134223871
            ],
            "passed_time": 335.5275465,
            "remaining_time": 1014.683908,
            "test": [
             0.805551007,
             1.297071208
            ]
           },
           {
            "iteration": 497,
            "learn": [
             0.862486403,
             1.133244122
            ],
            "passed_time": 336.2027637,
            "remaining_time": 1014.009139,
            "test": [
             0.8062878664,
             1.2962791
            ]
           },
           {
            "iteration": 498,
            "learn": [
             0.863223271,
             1.131789986
            ],
            "passed_time": 336.8920542,
            "remaining_time": 1013.3767,
            "test": [
             0.8062878664,
             1.295271915
            ]
           },
           {
            "iteration": 499,
            "learn": [
             0.863223271,
             1.131287364
            ],
            "passed_time": 337.540966,
            "remaining_time": 1012.622898,
            "test": [
             0.8062878664,
             1.294908603
            ]
           },
           {
            "iteration": 500,
            "learn": [
             0.8635039826,
             1.12991869
            ],
            "passed_time": 338.220888,
            "remaining_time": 1011.962298,
            "test": [
             0.8066153594,
             1.293709527
            ]
           },
           {
            "iteration": 501,
            "learn": [
             0.8636443384,
             1.12824237
            ],
            "passed_time": 338.9192981,
            "remaining_time": 1011.35679,
            "test": [
             0.8067791059,
             1.292351103
            ]
           },
           {
            "iteration": 502,
            "learn": [
             0.8638899611,
             1.127701644
            ],
            "passed_time": 339.57112,
            "remaining_time": 1010.61226,
            "test": [
             0.8069428525,
             1.291758801
            ]
           },
           {
            "iteration": 503,
            "learn": [
             0.86392505,
             1.127172499
            ],
            "passed_time": 340.232581,
            "remaining_time": 1009.896709,
            "test": [
             0.807106599,
             1.291312096
            ]
           },
           {
            "iteration": 504,
            "learn": [
             0.8648373627,
             1.123160503
            ],
            "passed_time": 340.993008,
            "remaining_time": 1009.47435,
            "test": [
             0.807434092,
             1.288644419
            ]
           },
           {
            "iteration": 505,
            "learn": [
             0.8649426296,
             1.12262711
            ],
            "passed_time": 341.6457379,
            "remaining_time": 1008.732673,
            "test": [
             0.807434092,
             1.288259518
            ]
           },
           {
            "iteration": 506,
            "learn": [
             0.8648022738,
             1.122049239
            ],
            "passed_time": 342.3090661,
            "remaining_time": 1008.022556,
            "test": [
             0.8075159653,
             1.287644989
            ]
           },
           {
            "iteration": 507,
            "learn": [
             0.8649777185,
             1.121545589
            ],
            "passed_time": 342.9721748,
            "remaining_time": 1007.311978,
            "test": [
             0.8078434583,
             1.287085069
            ]
           },
           {
            "iteration": 508,
            "learn": [
             0.8650478964,
             1.12103721
            ],
            "passed_time": 343.624317,
            "remaining_time": 1006.569463,
            "test": [
             0.8079253316,
             1.286478935
            ]
           },
           {
            "iteration": 509,
            "learn": [
             0.8653987859,
             1.120542949
            ],
            "passed_time": 344.2818763,
            "remaining_time": 1005.843129,
            "test": [
             0.8078434583,
             1.285813875
            ]
           },
           {
            "iteration": 510,
            "learn": [
             0.8656444086,
             1.119946506
            ],
            "passed_time": 344.9402016,
            "remaining_time": 1005.119296,
            "test": [
             0.8084984444,
             1.285217735
            ]
           },
           {
            "iteration": 511,
            "learn": [
             0.8656093196,
             1.119425174
            ],
            "passed_time": 345.5910037,
            "remaining_time": 1004.373855,
            "test": [
             0.8080890781,
             1.28473569
            ]
           },
           {
            "iteration": 512,
            "learn": [
             0.8661707428,
             1.117875709
            ],
            "passed_time": 346.3317153,
            "remaining_time": 1003.889397,
            "test": [
             0.8084984444,
             1.283628242
            ]
           },
           {
            "iteration": 513,
            "learn": [
             0.8663110986,
             1.116514985
            ],
            "passed_time": 347.019022,
            "remaining_time": 1003.249546,
            "test": [
             0.8089078107,
             1.282526871
            ]
           },
           {
            "iteration": 514,
            "learn": [
             0.8665567213,
             1.116024973
            ],
            "passed_time": 347.6738854,
            "remaining_time": 1002.515961,
            "test": [
             0.8088259374,
             1.282154284
            ]
           },
           {
            "iteration": 515,
            "learn": [
             0.8665567213,
             1.11435722
            ],
            "passed_time": 348.3720698,
            "remaining_time": 1001.907271,
            "test": [
             0.8083346979,
             1.280573906
            ]
           },
           {
            "iteration": 516,
            "learn": [
             0.8666970771,
             1.113748851
            ],
            "passed_time": 349.044478,
            "remaining_time": 1001.224296,
            "test": [
             0.8084984444,
             1.280032295
            ]
           },
           {
            "iteration": 517,
            "learn": [
             0.8666268992,
             1.113272889
            ],
            "passed_time": 349.7042804,
            "remaining_time": 1000.505296,
            "test": [
             0.8084165711,
             1.279601021
            ]
           },
           {
            "iteration": 518,
            "learn": [
             0.8664163655,
             1.110697826
            ],
            "passed_time": 350.4373966,
            "remaining_time": 999.995731,
            "test": [
             0.8084165711,
             1.277591129
            ]
           },
           {
            "iteration": 519,
            "learn": [
             0.8663110986,
             1.11009261
            ],
            "passed_time": 351.097969,
            "remaining_time": 999.2788349,
            "test": [
             0.8086621909,
             1.276847633
            ]
           },
           {
            "iteration": 520,
            "learn": [
             0.8668725218,
             1.109047343
            ],
            "passed_time": 351.772552,
            "remaining_time": 998.6019278,
            "test": [
             0.8088259374,
             1.276010911
            ]
           },
           {
            "iteration": 521,
            "learn": [
             0.8666970771,
             1.108569805
            ],
            "passed_time": 352.4490483,
            "remaining_time": 997.9304471,
            "test": [
             0.808989684,
             1.275409174
            ]
           },
           {
            "iteration": 522,
            "learn": [
             0.8672585003,
             1.107922372
            ],
            "passed_time": 353.1155671,
            "remaining_time": 997.2307697,
            "test": [
             0.8093990503,
             1.274627621
            ]
           },
           {
            "iteration": 523,
            "learn": [
             0.8678901014,
             1.106308555
            ],
            "passed_time": 353.8008172,
            "remaining_time": 996.5839812,
            "test": [
             0.8098902898,
             1.273719259
            ]
           },
           {
            "iteration": 524,
            "learn": [
             0.8679953683,
             1.105728011
            ],
            "passed_time": 354.4620814,
            "remaining_time": 995.8696573,
            "test": [
             0.8098902898,
             1.273226101
            ]
           },
           {
            "iteration": 525,
            "learn": [
             0.8679251904,
             1.104562331
            ],
            "passed_time": 355.1372781,
            "remaining_time": 995.1945779,
            "test": [
             0.8098084166,
             1.272121851
            ]
           },
           {
            "iteration": 526,
            "learn": [
             0.8677497456,
             1.101814222
            ],
            "passed_time": 355.8417343,
            "remaining_time": 994.6012802,
            "test": [
             0.8097265433,
             1.269585859
            ]
           },
           {
            "iteration": 527,
            "learn": [
             0.8709779291,
             1.095332704
            ],
            "passed_time": 356.6793989,
            "remaining_time": 994.3789303,
            "test": [
             0.8122646144,
             1.264864874
            ]
           },
           {
            "iteration": 528,
            "learn": [
             0.871013018,
             1.094698498
            ],
            "passed_time": 357.3385191,
            "remaining_time": 993.6577723,
            "test": [
             0.8124283609,
             1.264190859
            ]
           },
           {
            "iteration": 529,
            "learn": [
             0.8713288186,
             1.093607451
            ],
            "passed_time": 358.0224862,
            "remaining_time": 993.0057636,
            "test": [
             0.8124283609,
             1.263269385
            ]
           },
           {
            "iteration": 530,
            "learn": [
             0.8712937296,
             1.093103459
            ],
            "passed_time": 358.6805518,
            "remaining_time": 992.2819785,
            "test": [
             0.8127558539,
             1.262749442
            ]
           },
           {
            "iteration": 531,
            "learn": [
             0.8713989965,
             1.092669507
            ],
            "passed_time": 359.3432138,
            "remaining_time": 991.5711238,
            "test": [
             0.8130014737,
             1.262212948
            ]
           },
           {
            "iteration": 532,
            "learn": [
             0.8714691744,
             1.092245082
            ],
            "passed_time": 360.0099634,
            "remaining_time": 990.8717004,
            "test": [
             0.8128377272,
             1.261833005
            ]
           },
           {
            "iteration": 533,
            "learn": [
             0.8718551528,
             1.091760621
            ],
            "passed_time": 360.6615548,
            "remaining_time": 990.1307853,
            "test": [
             0.8126739807,
             1.261425717
            ]
           },
           {
            "iteration": 534,
            "learn": [
             0.8712586407,
             1.089410415
            ],
            "passed_time": 361.3472302,
            "remaining_time": 989.4835369,
            "test": [
             0.8128377272,
             1.25926615
            ]
           },
           {
            "iteration": 535,
            "learn": [
             0.871714797,
             1.088212731
            ],
            "passed_time": 362.0210637,
            "remaining_time": 988.8038008,
            "test": [
             0.8125102342,
             1.258080027
            ]
           },
           {
            "iteration": 536,
            "learn": [
             0.872451665,
             1.086749069
            ],
            "passed_time": 362.6752937,
            "remaining_time": 988.0706791,
            "test": [
             0.8125102342,
             1.256771174
            ]
           },
           {
            "iteration": 537,
            "learn": [
             0.8723814871,
             1.085469008
            ],
            "passed_time": 363.371059,
            "remaining_time": 987.4507217,
            "test": [
             0.81341084,
             1.255479672
            ]
           },
           {
            "iteration": 538,
            "learn": [
             0.8719604197,
             1.08407429
            ],
            "passed_time": 364.0648851,
            "remaining_time": 986.8252266,
            "test": [
             0.8129196005,
             1.254261487
            ]
           },
           {
            "iteration": 539,
            "learn": [
             0.8720656865,
             1.083609362
            ],
            "passed_time": 364.7205619,
            "remaining_time": 986.096334,
            "test": [
             0.8129196005,
             1.25362561
            ]
           },
           {
            "iteration": 540,
            "learn": [
             0.8722762202,
             1.083161909
            ],
            "passed_time": 365.3817015,
            "remaining_time": 985.3824447,
            "test": [
             0.8129196005,
             1.253302595
            ]
           },
           {
            "iteration": 541,
            "learn": [
             0.8725920208,
             1.082729465
            ],
            "passed_time": 366.0669614,
            "remaining_time": 984.7336342,
            "test": [
             0.8131652202,
             1.252935604
            ]
           },
           {
            "iteration": 542,
            "learn": [
             0.8726972876,
             1.082158447
            ],
            "passed_time": 366.7218886,
            "remaining_time": 984.0032997,
            "test": [
             0.8131652202,
             1.252366889
            ]
           },
           {
            "iteration": 543,
            "learn": [
             0.8729779992,
             1.081718945
            ],
            "passed_time": 367.3950846,
            "remaining_time": 983.3221381,
            "test": [
             0.8134927133,
             1.252069219
            ]
           },
           {
            "iteration": 544,
            "learn": [
             0.8730832661,
             1.081235855
            ],
            "passed_time": 368.0533675,
            "remaining_time": 982.6011922,
            "test": [
             0.8134927133,
             1.251738687
            ]
           },
           {
            "iteration": 545,
            "learn": [
             0.873118355,
             1.080706437
            ],
            "passed_time": 368.7142919,
            "remaining_time": 981.88751,
            "test": [
             0.81341084,
             1.251284787
            ]
           },
           {
            "iteration": 546,
            "learn": [
             0.8734341556,
             1.080282833
            ],
            "passed_time": 369.3781356,
            "remaining_time": 981.1817752,
            "test": [
             0.8136564598,
             1.250760206
            ]
           },
           {
            "iteration": 547,
            "learn": [
             0.8741359346,
             1.079115166
            ],
            "passed_time": 370.0447273,
            "remaining_time": 980.4834745,
            "test": [
             0.8137383331,
             1.249882147
            ]
           },
           {
            "iteration": 548,
            "learn": [
             0.8737148672,
             1.077917002
            ],
            "passed_time": 370.7268569,
            "remaining_time": 979.8263559,
            "test": [
             0.8134927133,
             1.249032153
            ]
           },
           {
            "iteration": 549,
            "learn": [
             0.8746622689,
             1.077023536
            ],
            "passed_time": 371.4045407,
            "remaining_time": 979.1574254,
            "test": [
             0.8132470935,
             1.248355819
            ]
           },
           {
            "iteration": 550,
            "learn": [
             0.8748026247,
             1.076507002
            ],
            "passed_time": 372.0660343,
            "remaining_time": 978.445887,
            "test": [
             0.81341084,
             1.247943334
            ]
           },
           {
            "iteration": 551,
            "learn": [
             0.8753640479,
             1.0754115
            ],
            "passed_time": 372.7474951,
            "remaining_time": 977.7869073,
            "test": [
             0.8148026854,
             1.247105333
            ]
           },
           {
            "iteration": 552,
            "learn": [
             0.8751535142,
             1.074442511
            ],
            "passed_time": 373.4250623,
            "remaining_time": 977.1176586,
            "test": [
             0.8150483052,
             1.246279084
            ]
           },
           {
            "iteration": 553,
            "learn": [
             0.8749429805,
             1.073993619
            ],
            "passed_time": 374.0897047,
            "remaining_time": 976.4146445,
            "test": [
             0.8145570657,
             1.245941117
            ]
           },
           {
            "iteration": 554,
            "learn": [
             0.8751886031,
             1.073521426
            ],
            "passed_time": 374.7573823,
            "remaining_time": 975.7196709,
            "test": [
             0.8147208122,
             1.24546243
            ]
           },
           {
            "iteration": 555,
            "learn": [
             0.8755394926,
             1.073127086
            ],
            "passed_time": 375.4168235,
            "remaining_time": 975.003405,
            "test": [
             0.8148845587,
             1.245143253
            ]
           },
           {
            "iteration": 556,
            "learn": [
             0.8759254711,
             1.070730689
            ],
            "passed_time": 376.1323811,
            "remaining_time": 974.4327215,
            "test": [
             0.8154576715,
             1.243418877
            ]
           },
           {
            "iteration": 557,
            "learn": [
             0.875995649,
             1.070125816
            ],
            "passed_time": 376.8032779,
            "remaining_time": 973.7461052,
            "test": [
             0.8155395448,
             1.242899494
            ]
           },
           {
            "iteration": 558,
            "learn": [
             0.8763816274,
             1.069629705
            ],
            "passed_time": 377.4533546,
            "remaining_time": 973.0058749,
            "test": [
             0.815621418,
             1.242325101
            ]
           },
           {
            "iteration": 559,
            "learn": [
             0.8771184954,
             1.065215693
            ],
            "passed_time": 378.1808189,
            "remaining_time": 972.4649628,
            "test": [
             0.8168495169,
             1.238707007
            ]
           },
           {
            "iteration": 560,
            "learn": [
             0.8769430506,
             1.064037677
            ],
            "passed_time": 378.8700424,
            "remaining_time": 971.825296,
            "test": [
             0.8167676437,
             1.237695265
            ]
           },
           {
            "iteration": 561,
            "learn": [
             0.8779606302,
             1.060062894
            ],
            "passed_time": 379.5824489,
            "remaining_time": 971.2447714,
            "test": [
             0.8170951367,
             1.234415537
            ]
           },
           {
            "iteration": 562,
            "learn": [
             0.8783115197,
             1.05953937
            ],
            "passed_time": 380.2405517,
            "remaining_time": 970.5251738,
            "test": [
             0.8172588832,
             1.233653492
            ]
           },
           {
            "iteration": 563,
            "learn": [
             0.8786624092,
             1.059002139
            ],
            "passed_time": 380.8938881,
            "remaining_time": 969.7936585,
            "test": [
             0.8176682495,
             1.233129471
            ]
           },
           {
            "iteration": 564,
            "learn": [
             0.8786974982,
             1.058530837
            ],
            "passed_time": 381.5524464,
            "remaining_time": 969.0756824,
            "test": [
             0.8178319961,
             1.232611927
            ]
           },
           {
            "iteration": 565,
            "learn": [
             0.8786273203,
             1.057992372
            ],
            "passed_time": 382.2191492,
            "remaining_time": 968.3785512,
            "test": [
             0.8179957426,
             1.232258448
            ]
           },
           {
            "iteration": 566,
            "learn": [
             0.8789080319,
             1.057439036
            ],
            "passed_time": 382.896463,
            "remaining_time": 967.7083448,
            "test": [
             0.8185688554,
             1.231779042
            ]
           },
           {
            "iteration": 567,
            "learn": [
             0.8790483877,
             1.056919966
            ],
            "passed_time": 383.5642089,
            "remaining_time": 967.0139914,
            "test": [
             0.8187326019,
             1.231255341
            ]
           },
           {
            "iteration": 568,
            "learn": [
             0.8792589214,
             1.0563423
            ],
            "passed_time": 384.2259893,
            "remaining_time": 966.3047289,
            "test": [
             0.8189782217,
             1.230478025
            ]
           },
           {
            "iteration": 569,
            "learn": [
             0.8792238324,
             1.055826452
            ],
            "passed_time": 384.8891165,
            "remaining_time": 965.5990117,
            "test": [
             0.819060095,
             1.229875968
            ]
           },
           {
            "iteration": 570,
            "learn": [
             0.8796098109,
             1.05464076
            ],
            "passed_time": 385.5620743,
            "remaining_time": 964.9180458,
            "test": [
             0.8191419682,
             1.228929229
            ]
           },
           {
            "iteration": 571,
            "learn": [
             0.8806273904,
             1.047889838
            ],
            "passed_time": 386.3316336,
            "remaining_time": 964.4782742,
            "test": [
             0.8194694613,
             1.224223036
            ]
           },
           {
            "iteration": 572,
            "learn": [
             0.8808028352,
             1.047437383
            ],
            "passed_time": 386.9909701,
            "remaining_time": 963.7628523,
            "test": [
             0.8195513345,
             1.223862042
            ]
           },
           {
            "iteration": 573,
            "learn": [
             0.880943191,
             1.047084232
            ],
            "passed_time": 387.6570297,
            "remaining_time": 963.0643281,
            "test": [
             0.8197150811,
             1.22346147
            ]
           },
           {
            "iteration": 574,
            "learn": [
             0.8810484578,
             1.04592705
            ],
            "passed_time": 388.3258612,
            "remaining_time": 962.3727865,
            "test": [
             0.8199607008,
             1.222605319
            ]
           },
           {
            "iteration": 575,
            "learn": [
             0.8811186357,
             1.045506942
            ],
            "passed_time": 388.9822506,
            "remaining_time": 961.6505639,
            "test": [
             0.8200425741,
             1.222237529
            ]
           },
           {
            "iteration": 576,
            "learn": [
             0.8815397031,
             1.04498239
            ],
            "passed_time": 389.6381743,
            "remaining_time": 960.9274211,
            "test": [
             0.8205338137,
             1.221791784
            ]
           },
           {
            "iteration": 577,
            "learn": [
             0.8820309485,
             1.04458339
            ],
            "passed_time": 390.3185493,
            "remaining_time": 960.2646663,
            "test": [
             0.8206156869,
             1.221379939
            ]
           },
           {
            "iteration": 578,
            "learn": [
             0.8820309485,
             1.043478499
            ],
            "passed_time": 391.0034839,
            "remaining_time": 959.6130408,
            "test": [
             0.8208613067,
             1.220516032
            ]
           },
           {
            "iteration": 579,
            "learn": [
             0.8819958595,
             1.042393483
            ],
            "passed_time": 391.6840879,
            "remaining_time": 958.950698,
            "test": [
             0.82094318,
             1.219434889
            ]
           },
           {
            "iteration": 580,
            "learn": [
             0.8821362153,
             1.041391118
            ],
            "passed_time": 392.3888411,
            "remaining_time": 958.3472728,
            "test": [
             0.8206156869,
             1.218533803
            ]
           },
           {
            "iteration": 581,
            "learn": [
             0.8829783501,
             1.039103277
            ],
            "passed_time": 393.090195,
            "remaining_time": 957.7352173,
            "test": [
             0.821598166,
             1.216545339
            ]
           },
           {
            "iteration": 582,
            "learn": [
             0.883048528,
             1.038670216
            ],
            "passed_time": 393.7457597,
            "remaining_time": 957.0115635,
            "test": [
             0.8216800393,
             1.215990935
            ]
           },
           {
            "iteration": 583,
            "learn": [
             0.883048528,
             1.038242638
            ],
            "passed_time": 394.4020934,
            "remaining_time": 956.2900073,
            "test": [
             0.8214344195,
             1.215601717
            ]
           },
           {
            "iteration": 584,
            "learn": [
             0.8837152181,
             1.036986632
            ],
            "passed_time": 395.0747714,
            "remaining_time": 955.6082079,
            "test": [
             0.8225806452,
             1.214605966
            ]
           },
           {
            "iteration": 585,
            "learn": [
             0.883785396,
             1.036546581
            ],
            "passed_time": 395.7411335,
            "remaining_time": 954.9111993,
            "test": [
             0.8226625184,
             1.214132956
            ]
           },
           {
            "iteration": 586,
            "learn": [
             0.8835397733,
             1.036105571
            ],
            "passed_time": 396.3924474,
            "remaining_time": 954.1780719,
            "test": [
             0.8224987719,
             1.21368849
            ]
           },
           {
            "iteration": 587,
            "learn": [
             0.8841362855,
             1.034183971
            ],
            "passed_time": 397.1026521,
            "remaining_time": 953.5866407,
            "test": [
             0.8230718847,
             1.21200569
            ]
           },
           {
            "iteration": 588,
            "learn": [
             0.8843468192,
             1.03375139
            ],
            "passed_time": 397.7580338,
            "remaining_time": 952.8634732,
            "test": [
             0.8233175045,
             1.211544274
            ]
           },
           {
            "iteration": 589,
            "learn": [
             0.8846275308,
             1.033256444
            ],
            "passed_time": 398.4111099,
            "remaining_time": 952.1350254,
            "test": [
             0.8236449975,
             1.211099567
            ]
           },
           {
            "iteration": 590,
            "learn": [
             0.8848731534,
             1.032729493
            ],
            "passed_time": 399.0697467,
            "remaining_time": 951.4200899,
            "test": [
             0.8238087441,
             1.210595695
            ]
           },
           {
            "iteration": 591,
            "learn": [
             0.8856801993,
             1.030589204
            ],
            "passed_time": 399.7724246,
            "remaining_time": 950.810091,
            "test": [
             0.8241362371,
             1.208848133
            ]
           },
           {
            "iteration": 592,
            "learn": [
             0.8845924418,
             1.028206445
            ],
            "passed_time": 400.4853673,
            "remaining_time": 950.2241345,
            "test": [
             0.8239724906,
             1.206997349
            ]
           },
           {
            "iteration": 593,
            "learn": [
             0.8848029755,
             1.027101485
            ],
            "passed_time": 401.1735848,
            "remaining_time": 949.5792259,
            "test": [
             0.8242181104,
             1.206042454
            ]
           },
           {
            "iteration": 594,
            "learn": [
             0.8848029755,
             1.026697757
            ],
            "passed_time": 401.829879,
            "remaining_time": 948.8587899,
            "test": [
             0.8242181104,
             1.205526989
            ]
           },
           {
            "iteration": 595,
            "learn": [
             0.8849784203,
             1.026167037
            ],
            "passed_time": 402.483518,
            "remaining_time": 948.1323143,
            "test": [
             0.8247912232,
             1.204901106
            ]
           },
           {
            "iteration": 596,
            "learn": [
             0.8860661778,
             1.023914833
            ],
            "passed_time": 403.1813831,
            "remaining_time": 947.5100175,
            "test": [
             0.8252005895,
             1.20331801
            ]
           },
           {
            "iteration": 597,
            "learn": [
             0.8861714446,
             1.023513503
            ],
            "passed_time": 403.8396845,
            "remaining_time": 946.7947119,
            "test": [
             0.8254462093,
             1.202961813
            ]
           },
           {
            "iteration": 598,
            "learn": [
             0.8861012667,
             1.023108884
            ],
            "passed_time": 404.496349,
            "remaining_time": 946.0757679,
            "test": [
             0.825364336,
             1.202563241
            ]
           },
           {
            "iteration": 599,
            "learn": [
             0.8861363557,
             1.022698028
            ],
            "passed_time": 405.1514016,
            "remaining_time": 945.3532704,
            "test": [
             0.8255280825,
             1.202132287
            ]
           },
           {
            "iteration": 600,
            "learn": [
             0.8864872452,
             1.021594028
            ],
            "passed_time": 405.8314082,
            "remaining_time": 944.6890849,
            "test": [
             0.825691829,
             1.201149648
            ]
           },
           {
            "iteration": 601,
            "learn": [
             0.8864872452,
             1.020509354
            ],
            "passed_time": 406.5127,
            "remaining_time": 944.0278315,
            "test": [
             0.8254462093,
             1.20011152
            ]
           },
           {
            "iteration": 602,
            "learn": [
             0.8864170673,
             1.02009
            ],
            "passed_time": 407.1888421,
            "remaining_time": 943.3545812,
            "test": [
             0.8256099558,
             1.199648105
            ]
           },
           {
            "iteration": 603,
            "learn": [
             0.8868030457,
             1.01962658
            ],
            "passed_time": 407.854533,
            "remaining_time": 942.6571657,
            "test": [
             0.8261830686,
             1.19914831
            ]
           },
           {
            "iteration": 604,
            "learn": [
             0.8868381347,
             1.019230184
            ],
            "passed_time": 408.5083552,
            "remaining_time": 941.9324885,
            "test": [
             0.8263468151,
             1.198842085
            ]
           },
           {
            "iteration": 605,
            "learn": [
             0.8867679568,
             1.018865656
            ],
            "passed_time": 409.17588,
            "remaining_time": 941.2395657,
            "test": [
             0.8265105617,
             1.198501479
            ]
           },
           {
            "iteration": 606,
            "learn": [
             0.8868381347,
             1.018383046
            ],
            "passed_time": 409.836193,
            "remaining_time": 940.530176,
            "test": [
             0.8265924349,
             1.197943798
            ]
           },
           {
            "iteration": 607,
            "learn": [
             0.8868381347,
             1.017930659
            ],
            "passed_time": 410.5031471,
            "remaining_time": 939.8361525,
            "test": [
             0.8265924349,
             1.197506767
            ]
           },
           {
            "iteration": 608,
            "learn": [
             0.8870135794,
             1.017489854
            ],
            "passed_time": 411.1590437,
            "remaining_time": 939.1169618,
            "test": [
             0.826919928,
             1.197088286
            ]
           },
           {
            "iteration": 609,
            "learn": [
             0.8870135794,
             1.017027324
            ],
            "passed_time": 411.8223106,
            "remaining_time": 938.4147734,
            "test": [
             0.826919928,
             1.19652181
            ]
           },
           {
            "iteration": 610,
            "learn": [
             0.887294291,
             1.015927916
            ],
            "passed_time": 412.474167,
            "remaining_time": 937.6867725,
            "test": [
             0.827247421,
             1.195598897
            ]
           },
           {
            "iteration": 611,
            "learn": [
             0.8876100916,
             1.015565582
            ],
            "passed_time": 413.1437731,
            "remaining_time": 936.9992763,
            "test": [
             0.8277386606,
             1.195261809
            ]
           },
           {
            "iteration": 612,
            "learn": [
             0.8877153584,
             1.013868359
            ],
            "passed_time": 413.8228723,
            "remaining_time": 936.3333179,
            "test": [
             0.8274930408,
             1.193537993
            ]
           },
           {
            "iteration": 613,
            "learn": [
             0.8875048247,
             1.01279705
            ],
            "passed_time": 414.5049525,
            "remaining_time": 935.6740458,
            "test": [
             0.827247421,
             1.192741328
            ]
           },
           {
            "iteration": 614,
            "learn": [
             0.8878908032,
             1.011773508
            ],
            "passed_time": 415.1830583,
            "remaining_time": 935.0057492,
            "test": [
             0.8280661536,
             1.191750773
            ]
           },
           {
            "iteration": 615,
            "learn": [
             0.88799607,
             1.011349425
            ],
            "passed_time": 415.8484914,
            "remaining_time": 934.3089482,
            "test": [
             0.8283117734,
             1.19135444
            ]
           },
           {
            "iteration": 616,
            "learn": [
             0.8889083828,
             1.008886277
            ],
            "passed_time": 416.5634161,
            "remaining_time": 933.7231839,
            "test": [
             0.8288848862,
             1.18944385
            ]
           },
           {
            "iteration": 617,
            "learn": [
             0.8891890944,
             1.006749209
            ],
            "passed_time": 417.2689737,
            "remaining_time": 933.1160546,
            "test": [
             0.829457999,
             1.187676779
            ]
           },
           {
            "iteration": 618,
            "learn": [
             0.8896101618,
             1.005787347
            ],
            "passed_time": 417.9449679,
            "remaining_time": 932.4426506,
            "test": [
             0.8289667595,
             1.186798241
            ]
           },
           {
            "iteration": 619,
            "learn": [
             0.889469806,
             1.004737968
            ],
            "passed_time": 418.6324608,
            "remaining_time": 931.7948321,
            "test": [
             0.8292942525,
             1.185963597
            ]
           },
           {
            "iteration": 620,
            "learn": [
             0.8895399839,
             1.003775557
            ],
            "passed_time": 419.3233034,
            "remaining_time": 931.1543244,
            "test": [
             0.8286392664,
             1.185200033
            ]
           },
           {
            "iteration": 621,
            "learn": [
             0.889434717,
             1.003347774
            ],
            "passed_time": 419.993174,
            "remaining_time": 930.4671926,
            "test": [
             0.829130506,
             1.184676972
            ]
           },
           {
            "iteration": 622,
            "learn": [
             0.8897154286,
             1.002908614
            ],
            "passed_time": 420.6543883,
            "remaining_time": 929.7609835,
            "test": [
             0.829457999,
             1.18422379
            ]
           },
           {
            "iteration": 623,
            "learn": [
             0.8899259623,
             1.002589112
            ],
            "passed_time": 421.3079304,
            "remaining_time": 929.0380004,
            "test": [
             0.8297036188,
             1.183997679
            ]
           },
           {
            "iteration": 624,
            "learn": [
             0.8900663181,
             1.002077376
            ],
            "passed_time": 421.9731159,
            "remaining_time": 928.3408551,
            "test": [
             0.8298673653,
             1.183578799
            ]
           },
           {
            "iteration": 625,
            "learn": [
             0.8902066739,
             1.001641368
            ],
            "passed_time": 422.6314101,
            "remaining_time": 927.628686,
            "test": [
             0.8297854921,
             1.183063333
            ]
           },
           {
            "iteration": 626,
            "learn": [
             0.8902417629,
             1.00123668
            ],
            "passed_time": 423.293517,
            "remaining_time": 926.9250381,
            "test": [
             0.8299492386,
             1.182761665
            ]
           },
           {
            "iteration": 627,
            "learn": [
             0.8903470297,
             1.000781894
            ],
            "passed_time": 423.9757838,
            "remaining_time": 926.2655659,
            "test": [
             0.8299492386,
             1.182456319
            ]
           },
           {
            "iteration": 628,
            "learn": [
             0.8906628303,
             1.000336909
            ],
            "passed_time": 424.6311463,
            "remaining_time": 925.5473794,
            "test": [
             0.8301948584,
             1.182059666
            ]
           },
           {
            "iteration": 629,
            "learn": [
             0.8906277413,
             0.9998770516
            ],
            "passed_time": 425.2910579,
            "remaining_time": 924.8392846,
            "test": [
             0.8305223514,
             1.181495828
            ]
           },
           {
            "iteration": 630,
            "learn": [
             0.8905926524,
             0.999367508
            ],
            "passed_time": 425.9630917,
            "remaining_time": 924.1576426,
            "test": [
             0.8306042247,
             1.18121183
            ]
           },
           {
            "iteration": 631,
            "learn": [
             0.8905926524,
             0.9989302667
            ],
            "passed_time": 426.6160552,
            "remaining_time": 923.4347524,
            "test": [
             0.8306042247,
             1.180780956
            ]
           },
           {
            "iteration": 632,
            "learn": [
             0.8906979192,
             0.9984930941
            ],
            "passed_time": 427.2905946,
            "remaining_time": 922.7586775,
            "test": [
             0.8308498444,
             1.180312743
            ]
           },
           {
            "iteration": 633,
            "learn": [
             0.8909435419,
             0.9981453571
            ],
            "passed_time": 427.9485177,
            "remaining_time": 922.0468064,
            "test": [
             0.831013591,
             1.179991247
            ]
           },
           {
            "iteration": 634,
            "learn": [
             0.8909786308,
             0.9977803497
            ],
            "passed_time": 428.5959339,
            "remaining_time": 921.3125193,
            "test": [
             0.8309317177,
             1.179746986
            ]
           },
           {
            "iteration": 635,
            "learn": [
             0.8910137198,
             0.9973630517
            ],
            "passed_time": 429.2625408,
            "remaining_time": 920.619663,
            "test": [
             0.8310954642,
             1.179352171
            ]
           },
           {
            "iteration": 636,
            "learn": [
             0.8915049651,
             0.9952323574
            ],
            "passed_time": 429.9464001,
            "remaining_time": 919.9638042,
            "test": [
             0.8314229573,
             1.177794341
            ]
           },
           {
            "iteration": 637,
            "learn": [
             0.8917505877,
             0.9948713935
            ],
            "passed_time": 430.5998847,
            "remaining_time": 919.2430141,
            "test": [
             0.8318323236,
             1.17741056
            ]
           },
           {
            "iteration": 638,
            "learn": [
             0.8918207656,
             0.9945098814
            ],
            "passed_time": 431.2703471,
            "remaining_time": 918.5585954,
            "test": [
             0.8319141968,
             1.177126482
            ]
           },
           {
            "iteration": 639,
            "learn": [
             0.8919611214,
             0.9941356221
            ],
            "passed_time": 431.9221993,
            "remaining_time": 917.8346736,
            "test": [
             0.8320779433,
             1.176809303
            ]
           },
           {
            "iteration": 640,
            "learn": [
             0.8925225447,
             0.9929752881
            ],
            "passed_time": 432.6085717,
            "remaining_time": 917.1841638,
            "test": [
             0.8327329294,
             1.176010719
            ]
           },
           {
            "iteration": 641,
            "learn": [
             0.8925927226,
             0.9925302341
            ],
            "passed_time": 433.2639256,
            "remaining_time": 916.4679299,
            "test": [
             0.8328148027,
             1.175609508
            ]
           },
           {
            "iteration": 642,
            "learn": [
             0.8925225447,
             0.9889981748
            ],
            "passed_time": 434.0508768,
            "remaining_time": 916.0296109,
            "test": [
             0.8324873096,
             1.172918884
            ]
           },
           {
            "iteration": 643,
            "learn": [
             0.8928383452,
             0.9886817575
            ],
            "passed_time": 434.7060893,
            "remaining_time": 915.3128215,
            "test": [
             0.8329785492,
             1.172650078
            ]
           },
           {
            "iteration": 644,
            "learn": [
             0.892978701,
             0.9882310838
            ],
            "passed_time": 435.3672258,
            "remaining_time": 914.6086682,
            "test": [
             0.8331422957,
             1.17229516
            ]
           },
           {
            "iteration": 645,
            "learn": [
             0.8928383452,
             0.9873428947
            ],
            "passed_time": 436.0322717,
            "remaining_time": 913.9128418,
            "test": [
             0.8327329294,
             1.171638495
            ]
           },
           {
            "iteration": 646,
            "learn": [
             0.8927681673,
             0.9869092172
            ],
            "passed_time": 436.684812,
            "remaining_time": 913.1909594,
            "test": [
             0.8326510562,
             1.171221933
            ]
           },
           {
            "iteration": 647,
            "learn": [
             0.8929436121,
             0.9865408518
            ],
            "passed_time": 437.336344,
            "remaining_time": 912.4671868,
            "test": [
             0.8329785492,
             1.170953206
            ]
           },
           {
            "iteration": 648,
            "learn": [
             0.8949085933,
             0.9798816269
            ],
            "passed_time": 438.1311088,
            "remaining_time": 912.0417997,
            "test": [
             0.8345341411,
             1.166289469
            ]
           },
           {
            "iteration": 649,
            "learn": [
             0.8949436822,
             0.9778352969
            ],
            "passed_time": 438.8144627,
            "remaining_time": 911.3838841,
            "test": [
             0.8346978877,
             1.164725561
            ]
           },
           {
            "iteration": 650,
            "learn": [
             0.8950489491,
             0.9774687133
            ],
            "passed_time": 439.4787584,
            "remaining_time": 910.6863979,
            "test": [
             0.8349435075,
             1.164329468
            ]
           },
           {
            "iteration": 651,
            "learn": [
             0.8952594828,
             0.9770361323
            ],
            "passed_time": 440.1374296,
            "remaining_time": 909.9773851,
            "test": [
             0.8351891272,
             1.16378138
            ]
           },
           {
            "iteration": 652,
            "learn": [
             0.8953296607,
             0.9767399322
            ],
            "passed_time": 440.8191243,
            "remaining_time": 909.3160191,
            "test": [
             0.8350253807,
             1.163539599
            ]
           },
           {
            "iteration": 653,
            "learn": [
             0.8953296607,
             0.9763217432
            ],
            "passed_time": 441.4754754,
            "remaining_time": 908.602431,
            "test": [
             0.8350253807,
             1.163167571
            ]
           },
           {
            "iteration": 654,
            "learn": [
             0.8955401944,
             0.9759452223
            ],
            "passed_time": 442.1383707,
            "remaining_time": 907.9024558,
            "test": [
             0.8355166203,
             1.162721985
            ]
           },
           {
            "iteration": 655,
            "learn": [
             0.8955752833,
             0.9755700036
            ],
            "passed_time": 442.7962017,
            "remaining_time": 907.1922181,
            "test": [
             0.8356803668,
             1.162462373
            ]
           },
           {
            "iteration": 656,
            "learn": [
             0.8953647496,
             0.9751390674
            ],
            "passed_time": 443.4536171,
            "remaining_time": 906.4812903,
            "test": [
             0.835434747,
             1.162113693
            ]
           },
           {
            "iteration": 657,
            "learn": [
             0.8957507281,
             0.9739073219
            ],
            "passed_time": 444.142284,
            "remaining_time": 905.8342631,
            "test": [
             0.8360078598,
             1.161022316
            ]
           },
           {
            "iteration": 658,
            "learn": [
             0.8956805502,
             0.9735416292
            ],
            "passed_time": 444.794737,
            "remaining_time": 905.1134178,
            "test": [
             0.8359259866,
             1.160743994
            ]
           },
           {
            "iteration": 659,
            "learn": [
             0.8959261728,
             0.9730675172
            ],
            "passed_time": 445.4581024,
            "remaining_time": 904.4149351,
            "test": [
             0.8363353529,
             1.160247318
            ]
           },
           {
            "iteration": 660,
            "learn": [
             0.8961016176,
             0.9727182039
            ],
            "passed_time": 446.1356458,
            "remaining_time": 903.7452795,
            "test": [
             0.8369084657,
             1.159797975
            ]
           },
           {
            "iteration": 661,
            "learn": [
             0.8962419734,
             0.9716390816
            ],
            "passed_time": 446.8121415,
            "remaining_time": 903.0734823,
            "test": [
             0.8368265924,
             1.15870204
            ]
           },
           {
            "iteration": 662,
            "learn": [
             0.8969086635,
             0.9705782577
            ],
            "passed_time": 447.4843055,
            "remaining_time": 902.3929358,
            "test": [
             0.8367447192,
             1.157999961
            ]
           },
           {
            "iteration": 663,
            "learn": [
             0.8969086635,
             0.9701713081
            ],
            "passed_time": 448.135981,
            "remaining_time": 901.6711907,
            "test": [
             0.8367447192,
             1.157673747
            ]
           },
           {
            "iteration": 664,
            "learn": [
             0.8969086635,
             0.9697186469
            ],
            "passed_time": 448.7995842,
            "remaining_time": 900.9736014,
            "test": [
             0.8367447192,
             1.157185306
            ]
           },
           {
            "iteration": 665,
            "learn": [
             0.8969437524,
             0.9693705673
            ],
            "passed_time": 449.4637104,
            "remaining_time": 900.2771616,
            "test": [
             0.8369084657,
             1.156799766
            ]
           },
           {
            "iteration": 666,
            "learn": [
             0.8969086635,
             0.9689812992
            ],
            "passed_time": 450.1241165,
            "remaining_time": 899.5733843,
            "test": [
             0.8372359587,
             1.156421262
            ]
           },
           {
            "iteration": 667,
            "learn": [
             0.8973297309,
             0.9676355832
            ],
            "passed_time": 450.7907255,
            "remaining_time": 898.8821054,
            "test": [
             0.8377271983,
             1.15532093
            ]
           },
           {
            "iteration": 668,
            "learn": [
             0.897224464,
             0.9666944865
            ],
            "passed_time": 451.4974647,
            "remaining_time": 898.2707408,
            "test": [
             0.8374815785,
             1.154557206
            ]
           },
           {
            "iteration": 669,
            "learn": [
             0.897224464,
             0.9663584687
            ],
            "passed_time": 452.1507454,
            "remaining_time": 897.5529722,
            "test": [
             0.8374815785,
             1.154337892
            ]
           },
           {
            "iteration": 670,
            "learn": [
             0.8971893751,
             0.9654183316
            ],
            "passed_time": 452.8352028,
            "remaining_time": 896.8971454,
            "test": [
             0.8375634518,
             1.153564253
            ]
           },
           {
            "iteration": 671,
            "learn": [
             0.8977507983,
             0.9643053539
            ],
            "passed_time": 453.5061527,
            "remaining_time": 896.2145398,
            "test": [
             0.8374815785,
             1.152737365
            ]
           },
           {
            "iteration": 672,
            "learn": [
             0.8976104425,
             0.9633942748
            ],
            "passed_time": 454.1758343,
            "remaining_time": 895.5294682,
            "test": [
             0.8378090716,
             1.151877936
            ]
           },
           {
            "iteration": 673,
            "learn": [
             0.8977858872,
             0.9630427
            ],
            "passed_time": 454.8294842,
            "remaining_time": 894.8129022,
            "test": [
             0.8378909448,
             1.151583544
            ]
           },
           {
            "iteration": 674,
            "learn": [
             0.8975753535,
             0.9623154266
            ],
            "passed_time": 455.4967575,
            "remaining_time": 894.1232646,
            "test": [
             0.8381365646,
             1.15101251
            ]
           },
           {
            "iteration": 675,
            "learn": [
             0.8975753535,
             0.9619831096
            ],
            "passed_time": 456.1565231,
            "remaining_time": 893.4189891,
            "test": [
             0.8381365646,
             1.150751699
            ]
           },
           {
            "iteration": 676,
            "learn": [
             0.897926243,
             0.9609753988
            ],
            "passed_time": 456.8526939,
            "remaining_time": 892.7859883,
            "test": [
             0.8383003111,
             1.149905782
            ]
           },
           {
            "iteration": 677,
            "learn": [
             0.8976104425,
             0.9600485571
            ],
            "passed_time": 457.5252166,
            "remaining_time": 892.1066909,
            "test": [
             0.8380546913,
             1.149142458
            ]
           },
           {
            "iteration": 678,
            "learn": [
             0.8977507983,
             0.9597079475
            ],
            "passed_time": 458.1767975,
            "remaining_time": 891.3866709,
            "test": [
             0.8382184379,
             1.148960961
            ]
           },
           {
            "iteration": 679,
            "learn": [
             0.897961332,
             0.9594007136
            ],
            "passed_time": 458.8334526,
            "remaining_time": 890.676702,
            "test": [
             0.8382184379,
             1.148667049
            ]
           },
           {
            "iteration": 680,
            "learn": [
             0.8988034668,
             0.9582935613
            ],
            "passed_time": 459.5108508,
            "remaining_time": 890.0070664,
            "test": [
             0.839200917,
             1.147904764
            ]
           },
           {
            "iteration": 681,
            "learn": [
             0.8988034668,
             0.9579423291
            ],
            "passed_time": 460.1654926,
            "remaining_time": 889.2934299,
            "test": [
             0.8394465368,
             1.147457979
            ]
           },
           {
            "iteration": 682,
            "learn": [
             0.8988736447,
             0.9576363973
            ],
            "passed_time": 460.8240215,
            "remaining_time": 888.5874617,
            "test": [
             0.83952841,
             1.147110498
            ]
           },
           {
            "iteration": 683,
            "learn": [
             0.899329801,
             0.9567628744
            ],
            "passed_time": 461.4986375,
            "remaining_time": 887.9125832,
            "test": [
             0.8399377763,
             1.14612522
            ]
           },
           {
            "iteration": 684,
            "learn": [
             0.8996806906,
             0.956037657
            ],
            "passed_time": 462.1624294,
            "remaining_time": 887.2169266,
            "test": [
             0.8403471426,
             1.145453124
            ]
           },
           {
            "iteration": 685,
            "learn": [
             0.9022421839,
             0.9485680967
            ],
            "passed_time": 463.0108617,
            "remaining_time": 886.8750326,
            "test": [
             0.8427214672,
             1.140314137
            ]
           },
           {
            "iteration": 686,
            "learn": [
             0.9023123618,
             0.948265386
            ],
            "passed_time": 463.668966,
            "remaining_time": 886.1679074,
            "test": [
             0.8428033404,
             1.140018306
            ]
           },
           {
            "iteration": 687,
            "learn": [
             0.9023474508,
             0.9474333255
            ],
            "passed_time": 464.3513551,
            "remaining_time": 885.5072354,
            "test": [
             0.8429670869,
             1.139290482
            ]
           },
           {
            "iteration": 688,
            "learn": [
             0.9022772729,
             0.9470526926
            ],
            "passed_time": 465.012868,
            "remaining_time": 884.8067779,
            "test": [
             0.8428852137,
             1.139027912
            ]
           },
           {
            "iteration": 689,
            "learn": [
             0.9024176287,
             0.9467699936
            ],
            "passed_time": 465.6730351,
            "remaining_time": 884.1038782,
            "test": [
             0.8430489602,
             1.138771978
            ]
           },
           {
            "iteration": 690,
            "learn": [
             0.9025930734,
             0.9463629755
            ],
            "passed_time": 466.3544065,
            "remaining_time": 883.4412708,
            "test": [
             0.8431308335,
             1.138390915
            ]
           },
           {
            "iteration": 691,
            "learn": [
             0.9026632513,
             0.9460933662
            ],
            "passed_time": 467.0241486,
            "remaining_time": 882.7566277,
            "test": [
             0.8432127067,
             1.138173999
            ]
           },
           {
            "iteration": 692,
            "learn": [
             0.9030492298,
             0.9450410404
            ],
            "passed_time": 467.7151032,
            "remaining_time": 882.1120345,
            "test": [
             0.8437858196,
             1.137316729
            ]
           },
           {
            "iteration": 693,
            "learn": [
             0.9032597635,
             0.9446404644
            ],
            "passed_time": 468.3706203,
            "remaining_time": 881.4006197,
            "test": [
             0.8440314393,
             1.136977722
            ]
           },
           {
            "iteration": 694,
            "learn": [
             0.9034352083,
             0.9440163334
            ],
            "passed_time": 469.0482886,
            "remaining_time": 880.7309591,
            "test": [
             0.8438676928,
             1.136470732
            ]
           },
           {
            "iteration": 695,
            "learn": [
             0.9032246745,
             0.9430091708
            ],
            "passed_time": 469.7250115,
            "remaining_time": 880.0595043,
            "test": [
             0.8438676928,
             1.135762176
            ]
           },
           {
            "iteration": 696,
            "learn": [
             0.9035404751,
             0.9419946753
            ],
            "passed_time": 470.3906615,
            "remaining_time": 879.3673342,
            "test": [
             0.8441133126,
             1.134961753
            ]
           },
           {
            "iteration": 697,
            "learn": [
             0.9034702972,
             0.941670171
            ],
            "passed_time": 471.0515498,
            "remaining_time": 878.666358,
            "test": [
             0.8440314393,
             1.134701821
            ]
           },
           {
            "iteration": 698,
            "learn": [
             0.903610653,
             0.941302765
            ],
            "passed_time": 471.7382645,
            "remaining_time": 878.0135652,
            "test": [
             0.8439495661,
             1.134344346
            ]
           },
           {
            "iteration": 699,
            "learn": [
             0.903610653,
             0.9409701053
            ],
            "passed_time": 472.4000778,
            "remaining_time": 877.3144302,
            "test": [
             0.8437039463,
             1.134025088
            ]
           },
           {
            "iteration": 700,
            "learn": [
             0.9039966315,
             0.9399438906
            ],
            "passed_time": 473.0777318,
            "remaining_time": 876.6447555,
            "test": [
             0.8440314393,
             1.133170296
            ]
           },
           {
            "iteration": 701,
            "learn": [
             0.9049440331,
             0.9343149924
            ],
            "passed_time": 473.8583593,
            "remaining_time": 876.1654563,
            "test": [
             0.8450139185,
             1.128914325
            ]
           },
           {
            "iteration": 702,
            "learn": [
             0.9051194779,
             0.9339388142
            ],
            "passed_time": 474.521939,
            "remaining_time": 875.4693527,
            "test": [
             0.8450957917,
             1.128526067
            ]
           },
           {
            "iteration": 703,
            "learn": [
             0.9058212569,
             0.9320492194
            ],
            "passed_time": 475.2145381,
            "remaining_time": 874.8267632,
            "test": [
             0.8454232848,
             1.127179716
            ]
           },
           {
            "iteration": 704,
            "learn": [
             0.9058914348,
             0.9312533444
            ],
            "passed_time": 475.8949202,
            "remaining_time": 874.161591,
            "test": [
             0.8459963976,
             1.126513376
            ]
           },
           {
            "iteration": 705,
            "learn": [
             0.9059265237,
             0.9309853114
            ],
            "passed_time": 476.5522128,
            "remaining_time": 873.4540558,
            "test": [
             0.8461601441,
             1.126198596
            ]
           },
           {
            "iteration": 706,
            "learn": [
             0.9059967016,
             0.9307450344
            ],
            "passed_time": 477.2119233,
            "remaining_time": 872.7510846,
            "test": [
             0.8462420174,
             1.126070109
            ]
           },
           {
            "iteration": 707,
            "learn": [
             0.9063475911,
             0.9289835965
            ],
            "passed_time": 477.8832476,
            "remaining_time": 872.0694291,
            "test": [
             0.8461601441,
             1.124723438
            ]
           },
           {
            "iteration": 708,
            "learn": [
             0.9063475911,
             0.9281144596
            ],
            "passed_time": 478.5549661,
            "remaining_time": 871.3885209,
            "test": [
             0.8454232848,
             1.124183426
            ]
           },
           {
            "iteration": 709,
            "learn": [
             0.9066633917,
             0.9277886532
            ],
            "passed_time": 479.2370413,
            "remaining_time": 870.7264554,
            "test": [
             0.8456689045,
             1.123925893
            ]
           },
           {
            "iteration": 710,
            "learn": [
             0.9065932138,
             0.9270319107
            ],
            "passed_time": 479.904041,
            "remaining_time": 870.0370025,
            "test": [
             0.8455870313,
             1.12338884
            ]
           },
           {
            "iteration": 711,
            "learn": [
             0.9065230359,
             0.9266836939
            ],
            "passed_time": 480.5655742,
            "remaining_time": 869.3377242,
            "test": [
             0.845505158,
             1.123031284
            ]
           },
           {
            "iteration": 712,
            "learn": [
             0.906452858,
             0.9263117648
            ],
            "passed_time": 481.2184548,
            "remaining_time": 868.6229332,
            "test": [
             0.8454232848,
             1.122570107
            ]
           },
           {
            "iteration": 713,
            "learn": [
             0.9065230359,
             0.9243708387
            ],
            "passed_time": 481.9070843,
            "remaining_time": 867.9727037,
            "test": [
             0.845505158,
             1.120942157
            ]
           },
           {
            "iteration": 714,
            "learn": [
             0.9065581248,
             0.924061069
            ],
            "passed_time": 482.5630869,
            "remaining_time": 867.2637296,
            "test": [
             0.8456689045,
             1.120683984
            ]
           },
           {
            "iteration": 715,
            "learn": [
             0.906452858,
             0.9236526117
            ],
            "passed_time": 483.2209676,
            "remaining_time": 866.5582714,
            "test": [
             0.8456689045,
             1.120309318
            ]
           },
           {
            "iteration": 716,
            "learn": [
             0.9064879469,
             0.9233564802
            ],
            "passed_time": 483.8753496,
            "remaining_time": 865.8466856,
            "test": [
             0.8458326511,
             1.119911865
            ]
           },
           {
            "iteration": 717,
            "learn": [
             0.9075406155,
             0.9213766958
            ],
            "passed_time": 484.5959955,
            "remaining_time": 865.2535742,
            "test": [
             0.8460782708,
             1.118504668
            ]
           },
           {
            "iteration": 718,
            "learn": [
             0.9076107934,
             0.9209287634
            ],
            "passed_time": 485.2622448,
            "remaining_time": 864.5631927,
            "test": [
             0.8461601441,
             1.118120487
            ]
           },
           {
            "iteration": 719,
            "learn": [
             0.9077511492,
             0.9205651953
            ],
            "passed_time": 485.9232604,
            "remaining_time": 863.863574,
            "test": [
             0.8463238906,
             1.117681058
            ]
           },
           {
            "iteration": 720,
            "learn": [
             0.9076458823,
             0.9202330153
            ],
            "passed_time": 486.5952432,
            "remaining_time": 863.1835175,
            "test": [
             0.8463238906,
             1.117429522
            ]
           },
           {
            "iteration": 721,
            "learn": [
             0.9076458823,
             0.9199246163
            ],
            "passed_time": 487.2593903,
            "remaining_time": 862.4896133,
            "test": [
             0.8463238906,
             1.117240989
            ]
           },
           {
            "iteration": 722,
            "learn": [
             0.9076107934,
             0.9196127222
            ],
            "passed_time": 487.9239651,
            "remaining_time": 861.796547,
            "test": [
             0.8464057639,
             1.116945478
            ]
           },
           {
            "iteration": 723,
            "learn": [
             0.9077160602,
             0.9192555276
            ],
            "passed_time": 488.5881835,
            "remaining_time": 861.1029312,
            "test": [
             0.8466513837,
             1.116561937
            ]
           },
           {
            "iteration": 724,
            "learn": [
             0.9076458823,
             0.9189241015
            ],
            "passed_time": 489.2503673,
            "remaining_time": 860.4058184,
            "test": [
             0.8465695104,
             1.116201823
            ]
           },
           {
            "iteration": 725,
            "learn": [
             0.9077862381,
             0.9185664958
            ],
            "passed_time": 489.9463098,
            "remaining_time": 859.7680422,
            "test": [
             0.8467332569,
             1.115797813
            ]
           },
           {
            "iteration": 726,
            "learn": [
             0.9077862381,
             0.9182348641
            ],
            "passed_time": 490.6049332,
            "remaining_time": 859.0647593,
            "test": [
             0.8467332569,
             1.115491108
            ]
           },
           {
            "iteration": 727,
            "learn": [
             0.908558195,
             0.9160801147
            ],
            "passed_time": 491.3214908,
            "remaining_time": 858.4628246,
            "test": [
             0.8468970034,
             1.113715002
            ]
           },
           {
            "iteration": 728,
            "learn": [
             0.9084178392,
             0.9151943928
            ],
            "passed_time": 491.9875923,
            "remaining_time": 857.772606,
            "test": [
             0.8469788767,
             1.113006607
            ]
           },
           {
            "iteration": 729,
            "learn": [
             0.9083476613,
             0.9149387643
            ],
            "passed_time": 492.6451014,
            "remaining_time": 857.0675053,
            "test": [
             0.8468970034,
             1.112726207
            ]
           },
           {
            "iteration": 730,
            "learn": [
             0.9086634619,
             0.91407278
            ],
            "passed_time": 493.3206092,
            "remaining_time": 856.3937799,
            "test": [
             0.8468970034,
             1.11196688
            ]
           },
           {
            "iteration": 731,
            "learn": [
             0.9090845293,
             0.9131632086
            ],
            "passed_time": 493.9818933,
            "remaining_time": 855.6954107,
            "test": [
             0.8476338628,
             1.111065075
            ]
           },
           {
            "iteration": 732,
            "learn": [
             0.9090845293,
             0.9128615258
            ],
            "passed_time": 494.6293796,
            "remaining_time": 854.9732933,
            "test": [
             0.8476338628,
             1.110840723
            ]
           },
           {
            "iteration": 733,
            "learn": [
             0.9090494403,
             0.9125712881
            ],
            "passed_time": 495.3115729,
            "remaining_time": 854.3112415,
            "test": [
             0.847715736,
             1.110516908
            ]
           },
           {
            "iteration": 734,
            "learn": [
             0.9090845293,
             0.9122783776
            ],
            "passed_time": 495.9720473,
            "remaining_time": 853.6117548,
            "test": [
             0.8478794826,
             1.110193413
            ]
           },
           {
            "iteration": 735,
            "learn": [
             0.9090494403,
             0.9119399612
            ],
            "passed_time": 496.6314287,
            "remaining_time": 852.9104971,
            "test": [
             0.8479613558,
             1.109857045
            ]
           },
           {
            "iteration": 736,
            "learn": [
             0.909259974,
             0.9100422109
            ],
            "passed_time": 497.3861632,
            "remaining_time": 852.37276,
            "test": [
             0.847715736,
             1.108426022
            ]
           },
           {
            "iteration": 737,
            "learn": [
             0.9094705077,
             0.9079127502
            ],
            "passed_time": 498.0867727,
            "remaining_time": 851.7418796,
            "test": [
             0.8482069756,
             1.106679339
            ]
           },
           {
            "iteration": 738,
            "learn": [
             0.9096108635,
             0.9076545175
            ],
            "passed_time": 498.7502279,
            "remaining_time": 851.0474119,
            "test": [
             0.8481251023,
             1.106415649
            ]
           },
           {
            "iteration": 739,
            "learn": [
             0.9096108635,
             0.9072786134
            ],
            "passed_time": 499.4431486,
            "remaining_time": 850.4031989,
            "test": [
             0.8486163419,
             1.105987494
            ]
           },
           {
            "iteration": 740,
            "learn": [
             0.9098213972,
             0.9070116084
            ],
            "passed_time": 500.0977567,
            "remaining_time": 849.6937594,
            "test": [
             0.8488619617,
             1.105646888
            ]
           },
           {
            "iteration": 741,
            "learn": [
             0.909961753,
             0.9067282925
            ],
            "passed_time": 500.7739942,
            "remaining_time": 849.0211383,
            "test": [
             0.8490257082,
             1.105447802
            ]
           },
           {
            "iteration": 742,
            "learn": [
             0.909961753,
             0.9063512234
            ],
            "passed_time": 501.4261215,
            "remaining_time": 848.3077184,
            "test": [
             0.849271328,
             1.104993261
            ]
           },
           {
            "iteration": 743,
            "learn": [
             0.9104179094,
             0.9053921026
            ],
            "passed_time": 502.0959985,
            "remaining_time": 847.6244275,
            "test": [
             0.8486982152,
             1.104175648
            ]
           },
           {
            "iteration": 744,
            "learn": [
             0.9104179094,
             0.9050826756
            ],
            "passed_time": 502.7737672,
            "remaining_time": 846.9544669,
            "test": [
             0.8491894547,
             1.103893249
            ]
           },
           {
            "iteration": 745,
            "learn": [
             0.9105933542,
             0.9047928491
            ],
            "passed_time": 503.4201084,
            "remaining_time": 846.2316567,
            "test": [
             0.849271328,
             1.103633478
            ]
           },
           {
            "iteration": 746,
            "learn": [
             0.9107687989,
             0.90452043
            ],
            "passed_time": 504.0764634,
            "remaining_time": 845.5258482,
            "test": [
             0.8493532012,
             1.103377704
            ]
           },
           {
            "iteration": 747,
            "learn": [
             0.9108740658,
             0.903567203
            ],
            "passed_time": 504.7602153,
            "remaining_time": 844.8660289,
            "test": [
             0.849598821,
             1.102523232
            ]
           },
           {
            "iteration": 748,
            "learn": [
             0.9106635321,
             0.9027289061
            ],
            "passed_time": 505.4453427,
            "remaining_time": 844.2084429,
            "test": [
             0.8505813001,
             1.101817554
            ]
           },
           {
            "iteration": 749,
            "learn": [
             0.912137268,
             0.8988882422
            ],
            "passed_time": 506.1882534,
            "remaining_time": 843.6470889,
            "test": [
             0.8508269199,
             1.098571328
            ]
           },
           {
            "iteration": 750,
            "learn": [
             0.9124179796,
             0.8985523615
            ],
            "passed_time": 506.8555697,
            "remaining_time": 842.9595293,
            "test": [
             0.851154413,
             1.098278455
            ]
           },
           {
            "iteration": 751,
            "learn": [
             0.9124179796,
             0.8977231794
            ],
            "passed_time": 507.5470169,
            "remaining_time": 842.3120706,
            "test": [
             0.8509087932,
             1.097654011
            ]
           },
           {
            "iteration": 752,
            "learn": [
             0.9124530685,
             0.8965285789
            ],
            "passed_time": 508.2274987,
            "remaining_time": 841.6463358,
            "test": [
             0.8510725397,
             1.096460373
            ]
           },
           {
            "iteration": 753,
            "learn": [
             0.9125934243,
             0.8960888704
            ],
            "passed_time": 508.8851738,
            "remaining_time": 840.9428734,
            "test": [
             0.8509906664,
             1.096106015
            ]
           },
           {
            "iteration": 754,
            "learn": [
             0.9126986912,
             0.8943719105
            ],
            "passed_time": 509.6024792,
            "remaining_time": 840.3378631,
            "test": [
             0.851481906,
             1.094795643
            ]
           },
           {
            "iteration": 755,
            "learn": [
             0.9132601144,
             0.8934841327
            ],
            "passed_time": 510.2946997,
            "remaining_time": 839.6912784,
            "test": [
             0.8518912723,
             1.09413546
            ]
           },
           {
            "iteration": 756,
            "learn": [
             0.9134355591,
             0.8932498865
            ],
            "passed_time": 510.9521084,
            "remaining_time": 838.9874118,
            "test": [
             0.8519731456,
             1.093919423
            ]
           },
           {
            "iteration": 757,
            "learn": [
             0.913505737,
             0.8929216815
            ],
            "passed_time": 511.6226535,
            "remaining_time": 838.3051921,
            "test": [
             0.8520550188,
             1.09357522
            ]
           },
           {
            "iteration": 758,
            "learn": [
             0.9136110039,
             0.8926633117
            ],
            "passed_time": 512.3083084,
            "remaining_time": 837.6477085,
            "test": [
             0.8523006386,
             1.093250285
            ]
           },
           {
            "iteration": 759,
            "learn": [
             0.9136110039,
             0.8924329033
            ],
            "passed_time": 512.9621995,
            "remaining_time": 836.9383255,
            "test": [
             0.8523006386,
             1.093034968
            ]
           },
           {
            "iteration": 760,
            "learn": [
             0.9141022492,
             0.8909090697
            ],
            "passed_time": 513.6606264,
            "remaining_time": 836.301598,
            "test": [
             0.8523825119,
             1.09182254
            ]
           },
           {
            "iteration": 761,
            "learn": [
             0.9143478719,
             0.8900605613
            ],
            "passed_time": 514.3401818,
            "remaining_time": 835.6340487,
            "test": [
             0.8525462584,
             1.091053939
            ]
           },
           {
            "iteration": 762,
            "learn": [
             0.9139969824,
             0.8890923256
            ],
            "passed_time": 514.997322,
            "remaining_time": 834.9301276,
            "test": [
             0.8518912723,
             1.090201946
            ]
           },
           {
            "iteration": 763,
            "learn": [
             0.9142075161,
             0.8883932879
            ],
            "passed_time": 515.6786835,
            "remaining_time": 834.2655142,
            "test": [
             0.8521368921,
             1.089754281
            ]
           },
           {
            "iteration": 764,
            "learn": [
             0.9141022492,
             0.8881283389
            ],
            "passed_time": 516.3349834,
            "remaining_time": 833.5603981,
            "test": [
             0.8521368921,
             1.08951122
            ]
           },
           {
            "iteration": 765,
            "learn": [
             0.914277694,
             0.8874778227
            ],
            "passed_time": 517.0229007,
            "remaining_time": 832.9063439,
            "test": [
             0.8522187654,
             1.088920037
            ]
           },
           {
            "iteration": 766,
            "learn": [
             0.9144531387,
             0.8872443304
            ],
            "passed_time": 517.6920048,
            "remaining_time": 832.2219582,
            "test": [
             0.8523006386,
             1.088655948
            ]
           },
           {
            "iteration": 767,
            "learn": [
             0.9143478719,
             0.8869466911
            ],
            "passed_time": 518.3453066,
            "remaining_time": 831.5122626,
            "test": [
             0.8523006386,
             1.08835564
            ]
           },
           {
            "iteration": 768,
            "learn": [
             0.914242605,
             0.8861684292
            ],
            "passed_time": 519.0269541,
            "remaining_time": 830.8480891,
            "test": [
             0.8520550188,
             1.087721042
            ]
           },
           {
            "iteration": 769,
            "learn": [
             0.9141022492,
             0.8858337135
            ],
            "passed_time": 519.711332,
            "remaining_time": 830.1882316,
            "test": [
             0.8518912723,
             1.087427849
            ]
           },
           {
            "iteration": 770,
            "learn": [
             0.9142075161,
             0.8855455318
            ],
            "passed_time": 520.3667437,
            "remaining_time": 829.4821375,
            "test": [
             0.8521368921,
             1.087135216
            ]
           },
           {
            "iteration": 771,
            "learn": [
             0.9142075161,
             0.8851134305
            ],
            "passed_time": 521.0304333,
            "remaining_time": 828.7893421,
            "test": [
             0.8521368921,
             1.086593286
            ]
           },
           {
            "iteration": 772,
            "learn": [
             0.9145233166,
             0.8842641683
            ],
            "passed_time": 521.7111477,
            "remaining_time": 828.1236458,
            "test": [
             0.8518912723,
             1.08593798
            ]
           },
           {
            "iteration": 773,
            "learn": [
             0.9146636724,
             0.8833360929
            ],
            "passed_time": 522.3898097,
            "remaining_time": 827.4546599,
            "test": [
             0.8520550188,
             1.084988602
            ]
           },
           {
            "iteration": 774,
            "learn": [
             0.9148391172,
             0.8830000066
            ],
            "passed_time": 523.0552794,
            "remaining_time": 826.7647964,
            "test": [
             0.8526281317,
             1.084622571
            ]
           },
           {
            "iteration": 775,
            "learn": [
             0.9148040282,
             0.8820556889
            ],
            "passed_time": 523.7276952,
            "remaining_time": 826.0859523,
            "test": [
             0.8529556247,
             1.083707173
            ]
           },
           {
            "iteration": 776,
            "learn": [
             0.9148040282,
             0.8816919837
            ],
            "passed_time": 524.3922813,
            "remaining_time": 825.3948005,
            "test": [
             0.8529556247,
             1.083378401
            ]
           },
           {
            "iteration": 777,
            "learn": [
             0.9151198288,
             0.8808383353
            ],
            "passed_time": 525.1042115,
            "remaining_time": 824.7780803,
            "test": [
             0.8529556247,
             1.082476916
            ]
           },
           {
            "iteration": 778,
            "learn": [
             0.9151198288,
             0.8805526208
            ],
            "passed_time": 525.7647508,
            "remaining_time": 824.0805658,
            "test": [
             0.8529556247,
             1.082182604
            ]
           },
           {
            "iteration": 779,
            "learn": [
             0.9150847398,
             0.8803392087
            ],
            "passed_time": 526.4156314,
            "remaining_time": 823.3680389,
            "test": [
             0.853037498,
             1.081991593
            ]
           },
           {
            "iteration": 780,
            "learn": [
             0.915681252,
             0.8794626703
            ],
            "passed_time": 527.07859,
            "remaining_time": 822.6745214,
            "test": [
             0.8536106108,
             1.081336607
            ]
           },
           {
            "iteration": 781,
            "learn": [
             0.9157163409,
             0.8791776411
            ],
            "passed_time": 527.7388808,
            "remaining_time": 821.9769269,
            "test": [
             0.8537743573,
             1.08115471
            ]
           },
           {
            "iteration": 782,
            "learn": [
             0.9155408962,
             0.87823442
            ],
            "passed_time": 528.411495,
            "remaining_time": 821.2985816,
            "test": [
             0.8534468643,
             1.080243311
            ]
           },
           {
            "iteration": 783,
            "learn": [
             0.9157163409,
             0.8779616582
            ],
            "passed_time": 529.0601958,
            "remaining_time": 820.5831609,
            "test": [
             0.8535287375,
             1.07998258
            ]
           },
           {
            "iteration": 784,
            "learn": [
             0.9155759851,
             0.8776191983
            ],
            "passed_time": 529.714225,
            "remaining_time": 819.8761572,
            "test": [
             0.853364991,
             1.079585446
            ]
           },
           {
            "iteration": 785,
            "learn": [
             0.9157865188,
             0.8773135406
            ],
            "passed_time": 530.3654217,
            "remaining_time": 819.1649134,
            "test": [
             0.8536106108,
             1.07919367
            ]
           },
           {
            "iteration": 786,
            "learn": [
             0.9158917857,
             0.8770119949
            ],
            "passed_time": 531.0305947,
            "remaining_time": 818.4753639,
            "test": [
             0.8536106108,
             1.078859701
            ]
           },
           {
            "iteration": 787,
            "learn": [
             0.9159619636,
             0.876771992
            ],
            "passed_time": 531.6891604,
            "remaining_time": 817.7757137,
            "test": [
             0.853692484,
             1.078644144
            ]
           },
           {
            "iteration": 788,
            "learn": [
             0.9160321415,
             0.8764208969
            ],
            "passed_time": 532.355323,
            "remaining_time": 817.0878278,
            "test": [
             0.8537743573,
             1.078285628
            ]
           },
           {
            "iteration": 789,
            "learn": [
             0.9161374083,
             0.8761268213
            ],
            "passed_time": 533.0091573,
            "remaining_time": 816.3811144,
            "test": [
             0.8537743573,
             1.077977244
            ]
           },
           {
            "iteration": 790,
            "learn": [
             0.9166286536,
             0.87422585
            ],
            "passed_time": 533.6922879,
            "remaining_time": 815.7193123,
            "test": [
             0.8538562306,
             1.076644725
            ]
           },
           {
            "iteration": 791,
            "learn": [
             0.9168391873,
             0.8732732399
            ],
            "passed_time": 534.3457119,
            "remaining_time": 815.0121464,
            "test": [
             0.8538562306,
             1.075766426
            ]
           },
           {
            "iteration": 792,
            "learn": [
             0.9168391873,
             0.8730017117
            ],
            "passed_time": 535.0153415,
            "remaining_time": 814.329782,
            "test": [
             0.8538562306,
             1.075587249
            ]
           },
           {
            "iteration": 793,
            "learn": [
             0.9169795431,
             0.8727637647
            ],
            "passed_time": 535.700491,
            "remaining_time": 813.6710228,
            "test": [
             0.8540199771,
             1.075330995
            ]
           },
           {
            "iteration": 794,
            "learn": [
             0.9168742763,
             0.8725185533
            ],
            "passed_time": 536.3580733,
            "remaining_time": 812.970413,
            "test": [
             0.8542655969,
             1.075169567
            ]
           },
           {
            "iteration": 795,
            "learn": [
             0.917049721,
             0.8715670396
            ],
            "passed_time": 537.0405203,
            "remaining_time": 812.3075207,
            "test": [
             0.8545930899,
             1.074419036
            ]
           },
           {
            "iteration": 796,
            "learn": [
             0.91708481,
             0.870830857
            ],
            "passed_time": 537.7453792,
            "remaining_time": 811.678408,
            "test": [
             0.8545112166,
             1.073888139
            ]
           },
           {
            "iteration": 797,
            "learn": [
             0.9171900768,
             0.8705735837
            ],
            "passed_time": 538.4218342,
            "remaining_time": 811.0063216,
            "test": [
             0.8547568364,
             1.073624609
            ]
           },
           {
            "iteration": 798,
            "learn": [
             0.9173655216,
             0.8687314138
            ],
            "passed_time": 539.1540413,
            "remaining_time": 810.4180271,
            "test": [
             0.8548387097,
             1.072104837
            ]
           },
           {
            "iteration": 799,
            "learn": [
             0.9174356995,
             0.8684312388
            ],
            "passed_time": 539.8206751,
            "remaining_time": 809.7310126,
            "test": [
             0.8549205829,
             1.071721056
            ]
           },
           {
            "iteration": 800,
            "learn": [
             0.9174356995,
             0.8681513496
            ],
            "passed_time": 540.4829629,
            "remaining_time": 809.0375437,
            "test": [
             0.8549205829,
             1.071465682
            ]
           },
           {
            "iteration": 801,
            "learn": [
             0.9174356995,
             0.867904836
            ],
            "passed_time": 541.1738591,
            "remaining_time": 808.3868868,
            "test": [
             0.8549205829,
             1.071265556
            ]
           },
           {
            "iteration": 802,
            "learn": [
             0.9175760553,
             0.8676310463
            ],
            "passed_time": 541.8680464,
            "remaining_time": 807.7410356,
            "test": [
             0.8550843295,
             1.07099619
            ]
           },
           {
            "iteration": 803,
            "learn": [
             0.9174356995,
             0.8673334755
            ],
            "passed_time": 542.6052565,
            "remaining_time": 807.1590632,
            "test": [
             0.8549205829,
             1.070711232
            ]
           },
           {
            "iteration": 804,
            "learn": [
             0.9175760553,
             0.8670531751
            ],
            "passed_time": 543.3008853,
            "remaining_time": 806.5149788,
            "test": [
             0.8550843295,
             1.070424356
            ]
           },
           {
            "iteration": 805,
            "learn": [
             0.9176813222,
             0.8667140733
            ],
            "passed_time": 544.0232791,
            "remaining_time": 805.9104159,
            "test": [
             0.8553299492,
             1.069999799
            ]
           },
           {
            "iteration": 806,
            "learn": [
             0.9177164111,
             0.8664749613
            ],
            "passed_time": 544.6925982,
            "remaining_time": 805.2271,
            "test": [
             0.8554936958,
             1.069747862
            ]
           },
           {
            "iteration": 807,
            "learn": [
             0.917821678,
             0.8662067227
            ],
            "passed_time": 545.3730838,
            "remaining_time": 804.5602919,
            "test": [
             0.8557393155,
             1.069433962
            ]
           },
           {
            "iteration": 808,
            "learn": [
             0.9177164111,
             0.8658538457
            ],
            "passed_time": 546.030056,
            "remaining_time": 803.858834,
            "test": [
             0.8554936958,
             1.069168753
            ]
           },
           {
            "iteration": 809,
            "learn": [
             0.9177515001,
             0.8655609353
            ],
            "passed_time": 546.6954306,
            "remaining_time": 803.1698302,
            "test": [
             0.8559030621,
             1.068857171
            ]
           },
           {
            "iteration": 810,
            "learn": [
             0.9178567669,
             0.8653437538
            ],
            "passed_time": 547.3806918,
            "remaining_time": 802.5100401,
            "test": [
             0.8559030621,
             1.068549826
            ]
           },
           {
            "iteration": 811,
            "learn": [
             0.9178567669,
             0.8650324079
            ],
            "passed_time": 548.0324047,
            "remaining_time": 801.8011044,
            "test": [
             0.8559030621,
             1.068320917
            ]
           },
           {
            "iteration": 812,
            "learn": [
             0.917821678,
             0.8647534782
            ],
            "passed_time": 548.6991077,
            "remaining_time": 801.1141954,
            "test": [
             0.8559849353,
             1.068050991
            ]
           },
           {
            "iteration": 813,
            "learn": [
             0.9177515001,
             0.8644705735
            ],
            "passed_time": 549.3621923,
            "remaining_time": 800.422064,
            "test": [
             0.8559030621,
             1.067783944
            ]
           },
           {
            "iteration": 814,
            "learn": [
             0.9179971227,
             0.8642298167
            ],
            "passed_time": 550.0283504,
            "remaining_time": 799.7344726,
            "test": [
             0.8560668086,
             1.06754496
            ]
           },
           {
            "iteration": 815,
            "learn": [
             0.9184181901,
             0.8637171891
            ],
            "passed_time": 550.7164178,
            "remaining_time": 799.0787238,
            "test": [
             0.8568036679,
             1.067097935
            ]
           },
           {
            "iteration": 816,
            "learn": [
             0.9181725675,
             0.8627566291
            ],
            "passed_time": 551.4027242,
            "remaining_time": 798.420346,
            "test": [
             0.8561486818,
             1.066133206
            ]
           },
           {
            "iteration": 817,
            "learn": [
             0.9182427454,
             0.8619042143
            ],
            "passed_time": 552.0996375,
            "remaining_time": 797.7772269,
            "test": [
             0.8562305551,
             1.065412497
            ]
           },
           {
            "iteration": 818,
            "learn": [
             0.9182427454,
             0.8616399506
            ],
            "passed_time": 552.7562497,
            "remaining_time": 797.0758619,
            "test": [
             0.8562305551,
             1.065083085
            ]
           },
           {
            "iteration": 819,
            "learn": [
             0.9182427454,
             0.8614227007
            ],
            "passed_time": 553.4159863,
            "remaining_time": 796.3791022,
            "test": [
             0.8562305551,
             1.06491702
            ]
           },
           {
            "iteration": 820,
            "learn": [
             0.9187339907,
             0.8610855178
            ],
            "passed_time": 554.0773425,
            "remaining_time": 795.6847586,
            "test": [
             0.8568036679,
             1.064698585
            ]
           },
           {
            "iteration": 821,
            "learn": [
             0.9187339907,
             0.8608245437
            ],
            "passed_time": 554.7341408,
            "remaining_time": 794.9839634,
            "test": [
             0.8568036679,
             1.064436734
            ]
           },
           {
            "iteration": 822,
            "learn": [
             0.9188041686,
             0.8605393775
            ],
            "passed_time": 555.4016,
            "remaining_time": 794.2985215,
            "test": [
             0.8568855412,
             1.064196072
            ]
           },
           {
            "iteration": 823,
            "learn": [
             0.9183480122,
             0.8599530768
            ],
            "passed_time": 556.0735367,
            "remaining_time": 793.6195136,
            "test": [
             0.8567217947,
             1.063645666
            ]
           },
           {
            "iteration": 824,
            "learn": [
             0.9182778343,
             0.8596781905
            ],
            "passed_time": 556.7293628,
            "remaining_time": 792.9175773,
            "test": [
             0.8568855412,
             1.063454175
            ]
           },
           {
            "iteration": 825,
            "learn": [
             0.9183831012,
             0.859399809
            ],
            "passed_time": 557.3934475,
            "remaining_time": 792.2274907,
            "test": [
             0.857131161,
             1.06323502
            ]
           },
           {
            "iteration": 826,
            "learn": [
             0.918523457,
             0.8591060076
            ],
            "passed_time": 558.050009,
            "remaining_time": 791.5267963,
            "test": [
             0.8575405273,
             1.062860594
            ]
           },
           {
            "iteration": 827,
            "learn": [
             0.9187339907,
             0.8573090695
            ],
            "passed_time": 558.7593263,
            "remaining_time": 790.9008821,
            "test": [
             0.8580317668,
             1.061327469
            ]
           },
           {
            "iteration": 828,
            "learn": [
             0.9188041686,
             0.8564025821
            ],
            "passed_time": 559.4487518,
            "remaining_time": 790.2466687,
            "test": [
             0.8578680203,
             1.060722135
            ]
           },
           {
            "iteration": 829,
            "learn": [
             0.919225236,
             0.854432598
            ],
            "passed_time": 560.1345631,
            "remaining_time": 789.5872758,
            "test": [
             0.8581136401,
             1.059198525
            ]
           },
           {
            "iteration": 830,
            "learn": [
             0.9194708586,
             0.8532989919
            ],
            "passed_time": 560.8094616,
            "remaining_time": 788.9124676,
            "test": [
             0.8582773866,
             1.058247468
            ]
           },
           {
            "iteration": 831,
            "learn": [
             0.9194708586,
             0.8530178005
            ],
            "passed_time": 561.4943966,
            "remaining_time": 788.2517491,
            "test": [
             0.8582773866,
             1.058000968
            ]
           },
           {
            "iteration": 832,
            "learn": [
             0.9195059476,
             0.8527823208
            ],
            "passed_time": 562.1493566,
            "remaining_time": 787.5489786,
            "test": [
             0.8581955133,
             1.057597679
            ]
           },
           {
            "iteration": 833,
            "learn": [
             0.9194708586,
             0.8523960682
            ],
            "passed_time": 562.8283727,
            "remaining_time": 786.8799552,
            "test": [
             0.8582773866,
             1.057246439
            ]
           },
           {
            "iteration": 834,
            "learn": [
             0.9195059476,
             0.8521352997
            ],
            "passed_time": 563.4937001,
            "remaining_time": 786.1918091,
            "test": [
             0.8581955133,
             1.057015851
            ]
           },
           {
            "iteration": 835,
            "learn": [
             0.9195761255,
             0.8499215433
            ],
            "passed_time": 564.1701931,
            "remaining_time": 785.519264,
            "test": [
             0.8580317668,
             1.054952229
            ]
           },
           {
            "iteration": 836,
            "learn": [
             0.9194357697,
             0.8495978614
            ],
            "passed_time": 564.8381092,
            "remaining_time": 784.8347921,
            "test": [
             0.8576224005,
             1.054639048
            ]
           },
           {
            "iteration": 837,
            "learn": [
             0.9194357697,
             0.8493762939
            ],
            "passed_time": 565.4942942,
            "remaining_time": 784.1340929,
            "test": [
             0.8576224005,
             1.054393348
            ]
           },
           {
            "iteration": 838,
            "learn": [
             0.9194357697,
             0.8491075071
            ],
            "passed_time": 566.144068,
            "remaining_time": 783.4246281,
            "test": [
             0.8581136401,
             1.054062737
            ]
           },
           {
            "iteration": 839,
            "learn": [
             0.9201375487,
             0.8472387463
            ],
            "passed_time": 566.880485,
            "remaining_time": 782.8349555,
            "test": [
             0.8584411331,
             1.052764758
            ]
           },
           {
            "iteration": 840,
            "learn": [
             0.9204533492,
             0.8464958474
            ],
            "passed_time": 567.5631173,
            "remaining_time": 782.1708121,
            "test": [
             0.8589323727,
             1.05230574
            ]
           },
           {
            "iteration": 841,
            "learn": [
             0.9205586161,
             0.8455679777
            ],
            "passed_time": 568.2476676,
            "remaining_time": 781.5092626,
            "test": [
             0.8586867529,
             1.051398658
            ]
           },
           {
            "iteration": 842,
            "learn": [
             0.9210849503,
             0.8413571666
            ],
            "passed_time": 569.0411277,
            "remaining_time": 780.997135,
            "test": [
             0.8589323727,
             1.048103339
            ]
           },
           {
            "iteration": 843,
            "learn": [
             0.9210849503,
             0.8411380662
            ],
            "passed_time": 569.6952559,
            "remaining_time": 780.2935021,
            "test": [
             0.8589323727,
             1.047805029
            ]
           },
           {
            "iteration": 844,
            "learn": [
             0.9217165515,
             0.8403231391
            ],
            "passed_time": 570.3609922,
            "remaining_time": 779.6058532,
            "test": [
             0.859669232,
             1.047078404
            ]
           },
           {
            "iteration": 845,
            "learn": [
             0.9226639531,
             0.8371119518
            ],
            "passed_time": 571.1486539,
            "remaining_time": 779.0845704,
            "test": [
             0.8604060914,
             1.044406409
            ]
           },
           {
            "iteration": 846,
            "learn": [
             0.9225586863,
             0.8363428048
            ],
            "passed_time": 571.8320693,
            "remaining_time": 778.4207508,
            "test": [
             0.8604060914,
             1.043747505
            ]
           },
           {
            "iteration": 847,
            "learn": [
             0.9230850205,
             0.8354542045
            ],
            "passed_time": 572.5070453,
            "remaining_time": 777.7454201,
            "test": [
             0.8604060914,
             1.043032394
            ]
           },
           {
            "iteration": 848,
            "learn": [
             0.9230148426,
             0.8352332538
            ],
            "passed_time": 573.1859071,
            "remaining_time": 777.0753582,
            "test": [
             0.8605698379,
             1.042832028
            ]
           },
           {
            "iteration": 849,
            "learn": [
             0.9229446647,
             0.8346213902
            ],
            "passed_time": 573.8657443,
            "remaining_time": 776.4065953,
            "test": [
             0.8609792042,
             1.042140023
            ]
           },
           {
            "iteration": 850,
            "learn": [
             0.9229446647,
             0.834317583
            ],
            "passed_time": 574.5251574,
            "remaining_time": 775.7102302,
            "test": [
             0.8609792042,
             1.041820845
            ]
           },
           {
            "iteration": 851,
            "learn": [
             0.9229797537,
             0.8340715491
            ],
            "passed_time": 575.1889845,
            "remaining_time": 775.0198993,
            "test": [
             0.8608973309,
             1.041590577
            ]
           },
           {
            "iteration": 852,
            "learn": [
             0.9241026001,
             0.8325160532
            ],
            "passed_time": 575.8709874,
            "remaining_time": 774.354071,
            "test": [
             0.8617160635,
             1.040410371
            ]
           },
           {
            "iteration": 853,
            "learn": [
             0.9244885785,
             0.8307664715
            ],
            "passed_time": 576.609815,
            "remaining_time": 773.764459,
            "test": [
             0.8625347961,
             1.039035635
            ]
           },
           {
            "iteration": 854,
            "learn": [
             0.9246640233,
             0.8305579938
            ],
            "passed_time": 577.2704573,
            "remaining_time": 773.0697936,
            "test": [
             0.8626166694,
             1.038850141
            ]
           },
           {
            "iteration": 855,
            "learn": [
             0.9246991122,
             0.8303247071
            ],
            "passed_time": 577.9312613,
            "remaining_time": 772.375424,
            "test": [
             0.8625347961,
             1.038634744
            ]
           },
           {
            "iteration": 856,
            "learn": [
             0.9245236675,
             0.8295588497
            ],
            "passed_time": 578.6021823,
            "remaining_time": 771.6946258,
            "test": [
             0.8624529229,
             1.038078662
            ]
           },
           {
            "iteration": 857,
            "learn": [
             0.9246991122,
             0.8292649112
            ],
            "passed_time": 579.2644649,
            "remaining_time": 771.0023531,
            "test": [
             0.8627804159,
             1.037728542
            ]
           },
           {
            "iteration": 858,
            "learn": [
             0.9247692902,
             0.8290492375
            ],
            "passed_time": 579.9291838,
            "remaining_time": 770.3133862,
            "test": [
             0.863107909,
             1.037490358
            ]
           },
           {
            "iteration": 859,
            "learn": [
             0.9251201797,
             0.8283757626
            ],
            "passed_time": 580.6056412,
            "remaining_time": 769.640036,
            "test": [
             0.8632716555,
             1.03683809
            ]
           },
           {
            "iteration": 860,
            "learn": [
             0.9251903576,
             0.8280863473
            ],
            "passed_time": 581.2707425,
            "remaining_time": 768.9516559,
            "test": [
             0.863107909,
             1.036615657
            ]
           },
           {
            "iteration": 861,
            "learn": [
             0.9254008913,
             0.8278359274
            ],
            "passed_time": 581.9407673,
            "remaining_time": 768.2698296,
            "test": [
             0.8638447683,
             1.036273132
            ]
           },
           {
            "iteration": 862,
            "learn": [
             0.9253307134,
             0.8275809842
            ],
            "passed_time": 582.6008821,
            "remaining_time": 767.5749744,
            "test": [
             0.863762895,
             1.035928129
            ]
           },
           {
            "iteration": 863,
            "learn": [
             0.9253658023,
             0.8270291556
            ],
            "passed_time": 583.2775229,
            "remaining_time": 766.9019283,
            "test": [
             0.8639266416,
             1.035329751
            ]
           },
           {
            "iteration": 864,
            "learn": [
             0.9252956244,
             0.8267857946
            ],
            "passed_time": 583.9399179,
            "remaining_time": 766.2101813,
            "test": [
             0.8635991485,
             1.035066781
            ]
           },
           {
            "iteration": 865,
            "learn": [
             0.9252956244,
             0.8265695726
            ],
            "passed_time": 584.6011295,
            "remaining_time": 765.5169525,
            "test": [
             0.8635991485,
             1.034900796
            ]
           },
           {
            "iteration": 866,
            "learn": [
             0.9254359802,
             0.826347868
            ],
            "passed_time": 585.2679603,
            "remaining_time": 764.8311407,
            "test": [
             0.863762895,
             1.034704908
            ]
           },
           {
            "iteration": 867,
            "learn": [
             0.9255061581,
             0.8261051238
            ],
            "passed_time": 585.9263862,
            "remaining_time": 764.1344115,
            "test": [
             0.8638447683,
             1.034459608
            ]
           },
           {
            "iteration": 868,
            "learn": [
             0.9255412471,
             0.8258094719
            ],
            "passed_time": 586.5806659,
            "remaining_time": 763.4323742,
            "test": [
             0.863762895,
             1.034171212
            ]
           },
           {
            "iteration": 869,
            "learn": [
             0.925611425,
             0.8255855743
            ],
            "passed_time": 587.2743886,
            "remaining_time": 762.7816772,
            "test": [
             0.8638447683,
             1.034038968
            ]
           },
           {
            "iteration": 870,
            "learn": [
             0.9256465139,
             0.8253620193
            ],
            "passed_time": 587.9373367,
            "remaining_time": 762.090991,
            "test": [
             0.8640085148,
             1.033722988
            ]
           },
           {
            "iteration": 871,
            "learn": [
             0.9258570476,
             0.8251179044
            ],
            "passed_time": 588.583353,
            "remaining_time": 761.3784658,
            "test": [
             0.8640085148,
             1.03347385
            ]
           },
           {
            "iteration": 872,
            "learn": [
             0.9262079371,
             0.8243786377
            ],
            "passed_time": 589.2627608,
            "remaining_time": 760.7091998,
            "test": [
             0.8644178811,
             1.032864838
            ]
           },
           {
            "iteration": 873,
            "learn": [
             0.9264184708,
             0.8241294514
            ],
            "passed_time": 589.9258341,
            "remaining_time": 760.0188663,
            "test": [
             0.8644178811,
             1.032638967
            ]
           },
           {
            "iteration": 874,
            "learn": [
             0.9263482929,
             0.823877181
            ],
            "passed_time": 590.5882001,
            "remaining_time": 759.3276858,
            "test": [
             0.8643360079,
             1.032286288
            ]
           },
           {
            "iteration": 875,
            "learn": [
             0.926278115,
             0.8236397823
            ],
            "passed_time": 591.2468479,
            "remaining_time": 758.6318003,
            "test": [
             0.8644997544,
             1.032087442
            ]
           },
           {
            "iteration": 876,
            "learn": [
             0.9266991824,
             0.8229926242
            ],
            "passed_time": 591.9113814,
            "remaining_time": 757.9435362,
            "test": [
             0.8647453742,
             1.031558304
            ]
           },
           {
            "iteration": 877,
            "learn": [
             0.9265939156,
             0.8226951905
            ],
            "passed_time": 592.6112168,
            "remaining_time": 757.3004388,
            "test": [
             0.8647453742,
             1.031288618
            ]
           },
           {
            "iteration": 878,
            "learn": [
             0.9260675813,
             0.8214768775
            ],
            "passed_time": 593.2737086,
            "remaining_time": 756.6095874,
            "test": [
             0.8642541346,
             1.030010068
            ]
           },
           {
            "iteration": 879,
            "learn": [
             0.9262079371,
             0.8212797077
            ],
            "passed_time": 593.9451428,
            "remaining_time": 755.9301817,
            "test": [
             0.8644178811,
             1.029803866
            ]
           },
           {
            "iteration": 880,
            "learn": [
             0.926313204,
             0.8210055068
            ],
            "passed_time": 594.5980217,
            "remaining_time": 755.2272261,
            "test": [
             0.8644178811,
             1.029487326
            ]
           },
           {
            "iteration": 881,
            "learn": [
             0.9268044493,
             0.8203044816
            ],
            "passed_time": 595.2899873,
            "remaining_time": 754.5739294,
            "test": [
             0.8649909939,
             1.028928046
            ]
           },
           {
            "iteration": 882,
            "learn": [
             0.927014983,
             0.8200395326
            ],
            "passed_time": 595.9664544,
            "remaining_time": 753.9009395,
            "test": [
             0.8647453742,
             1.028609747
            ]
           },
           {
            "iteration": 883,
            "learn": [
             0.9269097161,
             0.8197683471
            ],
            "passed_time": 596.6188116,
            "remaining_time": 753.1975042,
            "test": [
             0.8647453742,
             1.028309359
            ]
           },
           {
            "iteration": 884,
            "learn": [
             0.9265939156,
             0.8181014164
            ],
            "passed_time": 597.3391962,
            "remaining_time": 752.5798913,
            "test": [
             0.8644997544,
             1.027189438
            ]
           },
           {
            "iteration": 885,
            "learn": [
             0.927014983,
             0.8172970433
            ],
            "passed_time": 598.0348235,
            "remaining_time": 751.9309181,
            "test": [
             0.8644997544,
             1.026419478
            ]
           },
           {
            "iteration": 886,
            "learn": [
             0.9268044493,
             0.8166952541
            ],
            "passed_time": 598.7192731,
            "remaining_time": 751.267814,
            "test": [
             0.8644997544,
             1.025817901
            ]
           },
           {
            "iteration": 887,
            "learn": [
             0.9268395382,
             0.8164666277
            ],
            "passed_time": 599.3838963,
            "remaining_time": 750.5798341,
            "test": [
             0.8646635009,
             1.025618975
            ]
           },
           {
            "iteration": 888,
            "learn": [
             0.926979894,
             0.8156694506
            ],
            "passed_time": 600.0724399,
            "remaining_time": 749.9218006,
            "test": [
             0.8648272474,
             1.024998209
            ]
           },
           {
            "iteration": 889,
            "learn": [
             0.926979894,
             0.8154044331
            ],
            "passed_time": 600.7365526,
            "remaining_time": 749.2332285,
            "test": [
             0.8648272474,
             1.024710613
            ]
           },
           {
            "iteration": 890,
            "learn": [
             0.9270500719,
             0.8151170052
            ],
            "passed_time": 601.4071963,
            "remaining_time": 748.5528402,
            "test": [
             0.8649091207,
             1.02434906
            ]
           },
           {
            "iteration": 891,
            "learn": [
             0.9271202498,
             0.814882622
            ],
            "passed_time": 602.0650488,
            "remaining_time": 747.8565853,
            "test": [
             0.8649909939,
             1.024214816
            ]
           },
           {
            "iteration": 892,
            "learn": [
             0.9274009614,
             0.8146389183
            ],
            "passed_time": 602.7245265,
            "remaining_time": 747.1624309,
            "test": [
             0.8650728672,
             1.024001018
            ]
           },
           {
            "iteration": 893,
            "learn": [
             0.9273658725,
             0.8141907117
            ],
            "passed_time": 603.4427409,
            "remaining_time": 746.5410195,
            "test": [
             0.8651547405,
             1.023500264
            ]
           },
           {
            "iteration": 894,
            "learn": [
             0.9272606056,
             0.813942759
            ],
            "passed_time": 604.1058418,
            "remaining_time": 745.8513466,
            "test": [
             0.8651547405,
             1.023164696
            ]
           },
           {
            "iteration": 895,
            "learn": [
             0.9275764062,
             0.8132951211
            ],
            "passed_time": 604.7725268,
            "remaining_time": 745.1661491,
            "test": [
             0.8651547405,
             1.022524501
            ]
           },
           {
            "iteration": 896,
            "learn": [
             0.9277869399,
             0.8116941192
            ],
            "passed_time": 605.4944002,
            "remaining_time": 744.5488556,
            "test": [
             0.8654003602,
             1.021330623
            ]
           },
           {
            "iteration": 897,
            "learn": [
             0.9279623846,
             0.8109377193
            ],
            "passed_time": 606.1716447,
            "remaining_time": 743.8765618,
            "test": [
             0.8659734731,
             1.020544751
            ]
           },
           {
            "iteration": 898,
            "learn": [
             0.9282080073,
             0.8106696178
            ],
            "passed_time": 606.8276153,
            "remaining_time": 743.178203,
            "test": [
             0.8663828394,
             1.020293695
            ]
           },
           {
            "iteration": 899,
            "learn": [
             0.9281729183,
             0.8103865075
            ],
            "passed_time": 607.4927062,
            "remaining_time": 742.4910854,
            "test": [
             0.8662190928,
             1.020023689
            ]
           },
           {
            "iteration": 900,
            "learn": [
             0.9281729183,
             0.8101127863
            ],
            "passed_time": 608.1523615,
            "remaining_time": 741.7973866,
            "test": [
             0.8664647126,
             1.019648463
            ]
           },
           {
            "iteration": 901,
            "learn": [
             0.9282080073,
             0.8097991103
            ],
            "passed_time": 608.8316532,
            "remaining_time": 741.1276665,
            "test": [
             0.8666284591,
             1.01925013
            ]
           },
           {
            "iteration": 902,
            "learn": [
             0.9286290747,
             0.8083925368
            ],
            "passed_time": 609.5115617,
            "remaining_time": 740.4586746,
            "test": [
             0.8666284591,
             1.018187777
            ]
           },
           {
            "iteration": 903,
            "learn": [
             0.9289448753,
             0.8076669768
            ],
            "passed_time": 610.1780026,
            "remaining_time": 739.7733306,
            "test": [
             0.8663828394,
             1.017522077
            ]
           },
           {
            "iteration": 904,
            "learn": [
             0.9287343416,
             0.8062713001
            ],
            "passed_time": 610.8818531,
            "remaining_time": 739.1332918,
            "test": [
             0.8661372196,
             1.016328998
            ]
           },
           {
            "iteration": 905,
            "learn": [
             0.9293308537,
             0.8045948432
            ],
            "passed_time": 611.5582585,
            "remaining_time": 738.4599722,
            "test": [
             0.8667103324,
             1.015085948
            ]
           },
           {
            "iteration": 906,
            "learn": [
             0.9297870101,
             0.8017010328
            ],
            "passed_time": 612.313847,
            "remaining_time": 737.882067,
            "test": [
             0.8685934174,
             1.012945889
            ]
           },
           {
            "iteration": 907,
            "learn": [
             0.9297870101,
             0.8014955706
            ],
            "passed_time": 612.9741762,
            "remaining_time": 737.1892075,
            "test": [
             0.8685934174,
             1.012711863
            ]
           },
           {
            "iteration": 908,
            "learn": [
             0.9297870101,
             0.8012369266
            ],
            "passed_time": 613.6400488,
            "remaining_time": 736.5030728,
            "test": [
             0.8685934174,
             1.012417071
            ]
           },
           {
            "iteration": 909,
            "learn": [
             0.9299273659,
             0.7997370796
            ],
            "passed_time": 614.3534489,
            "remaining_time": 735.8739113,
            "test": [
             0.8685115441,
             1.011230549
            ]
           },
           {
            "iteration": 910,
            "learn": [
             0.9297168322,
             0.7994922108
            ],
            "passed_time": 615.0020228,
            "remaining_time": 735.1670722,
            "test": [
             0.8682659243,
             1.010916008
            ]
           },
           {
            "iteration": 911,
            "learn": [
             0.9297870101,
             0.7989341457
            ],
            "passed_time": 615.6650247,
            "remaining_time": 734.4775733,
            "test": [
             0.8683477976,
             1.010484894
            ]
           },
           {
            "iteration": 912,
            "learn": [
             0.9297870101,
             0.7986916071
            ],
            "passed_time": 616.328176,
            "remaining_time": 733.7883103,
            "test": [
             0.8683477976,
             1.010218327
            ]
           },
           {
            "iteration": 913,
            "learn": [
             0.9297870101,
             0.7984839517
            ],
            "passed_time": 616.9861747,
            "remaining_time": 733.0929822,
            "test": [
             0.8683477976,
             1.009964152
            ]
           },
           {
            "iteration": 914,
            "learn": [
             0.929822099,
             0.7982222238
            ],
            "passed_time": 617.6422134,
            "remaining_time": 732.3954115,
            "test": [
             0.8685115441,
             1.009734843
            ]
           },
           {
            "iteration": 915,
            "learn": [
             0.929857188,
             0.7979690625
            ],
            "passed_time": 618.2984499,
            "remaining_time": 731.6981656,
            "test": [
             0.8684296709,
             1.009471553
            ]
           },
           {
            "iteration": 916,
            "learn": [
             0.9299273659,
             0.7977624352
            ],
            "passed_time": 618.9554487,
            "remaining_time": 731.0019094,
            "test": [
             0.8685115441,
             1.009293335
            ]
           },
           {
            "iteration": 917,
            "learn": [
             0.9301378996,
             0.7975098907
            ],
            "passed_time": 619.6364414,
            "remaining_time": 730.3340191,
            "test": [
             0.8687571639,
             1.008994545
            ]
           },
           {
            "iteration": 918,
            "learn": [
             0.9301028106,
             0.7972506985
            ],
            "passed_time": 620.3022773,
            "remaining_time": 729.6482718,
            "test": [
             0.8688390372,
             1.008712386
            ]
           },
           {
            "iteration": 919,
            "learn": [
             0.929857188,
             0.7966671391
            ],
            "passed_time": 620.9787765,
            "remaining_time": 728.9750854,
            "test": [
             0.8686752907,
             1.008211792
            ]
           },
           {
            "iteration": 920,
            "learn": [
             0.9301378996,
             0.7959149197
            ],
            "passed_time": 621.6506109,
            "remaining_time": 728.2964268,
            "test": [
             0.8690027837,
             1.007564162
            ]
           },
           {
            "iteration": 921,
            "learn": [
             0.9301378996,
             0.7956454475
            ],
            "passed_time": 622.3082195,
            "remaining_time": 727.6011504,
            "test": [
             0.8690027837,
             1.007334373
            ]
           },
           {
            "iteration": 922,
            "learn": [
             0.9303133443,
             0.795441493
            ],
            "passed_time": 622.9673711,
            "remaining_time": 726.9077558,
            "test": [
             0.869084657,
             1.00714672
            ]
           },
           {
            "iteration": 923,
            "learn": [
             0.9303133443,
             0.7952622789
            ],
            "passed_time": 623.6288781,
            "remaining_time": 726.2171784,
            "test": [
             0.869084657,
             1.007040621
            ]
           },
           {
            "iteration": 924,
            "learn": [
             0.9304186112,
             0.7949931494
            ],
            "passed_time": 624.2910794,
            "remaining_time": 725.5274707,
            "test": [
             0.8698215163,
             1.006768216
            ]
           },
           {
            "iteration": 925,
            "learn": [
             0.9304887891,
             0.7942973328
            ],
            "passed_time": 624.9837437,
            "remaining_time": 724.8731542,
            "test": [
             0.8699033896,
             1.006249073
            ]
           },
           {
            "iteration": 926,
            "learn": [
             0.9304537001,
             0.7940737093
            ],
            "passed_time": 625.6379803,
            "remaining_time": 724.174275,
            "test": [
             0.869739643,
             1.0060607
            ]
           },
           {
            "iteration": 927,
            "learn": [
             0.9306291449,
             0.7938587209
            ],
            "passed_time": 626.2897105,
            "remaining_time": 723.4725966,
            "test": [
             0.8698215163,
             1.005849541
            ]
           },
           {
            "iteration": 928,
            "learn": [
             0.9306291449,
             0.7936226244
            ],
            "passed_time": 626.9347039,
            "remaining_time": 722.7632593,
            "test": [
             0.8698215163,
             1.005646137
            ]
           },
           {
            "iteration": 929,
            "learn": [
             0.9306291449,
             0.7934072933
            ],
            "passed_time": 627.5901366,
            "remaining_time": 722.0660712,
            "test": [
             0.8698215163,
             1.005400997
            ]
           },
           {
            "iteration": 930,
            "learn": [
             0.9306291449,
             0.7931793522
            ],
            "passed_time": 628.2541328,
            "remaining_time": 721.3788056,
            "test": [
             0.8698215163,
             1.005195034
            ]
           },
           {
            "iteration": 931,
            "learn": [
             0.9308396786,
             0.792980058
            ],
            "passed_time": 628.913828,
            "remaining_time": 720.6866613,
            "test": [
             0.8700671361,
             1.004942938
            ]
           },
           {
            "iteration": 932,
            "learn": [
             0.9310502123,
             0.7923853277
            ],
            "passed_time": 629.6093145,
            "remaining_time": 720.0355183,
            "test": [
             0.8700671361,
             1.004507347
            ]
           },
           {
            "iteration": 933,
            "learn": [
             0.9311905681,
             0.7922200943
            ],
            "passed_time": 630.2711913,
            "remaining_time": 719.3459207,
            "test": [
             0.8702308826,
             1.004409403
            ]
           },
           {
            "iteration": 934,
            "learn": [
             0.9309449454,
             0.7914909021
            ],
            "passed_time": 630.9380592,
            "remaining_time": 718.6620674,
            "test": [
             0.8695758965,
             1.003760493
            ]
           },
           {
            "iteration": 935,
            "learn": [
             0.9310502123,
             0.7912569301
            ],
            "passed_time": 631.6046344,
            "remaining_time": 717.9779177,
            "test": [
             0.8695758965,
             1.003423406
            ]
           },
           {
            "iteration": 936,
            "learn": [
             0.931225657,
             0.7896580527
            ],
            "passed_time": 632.3040935,
            "remaining_time": 717.3311115,
            "test": [
             0.8699033896,
             1.00204875
            ]
           },
           {
            "iteration": 937,
            "learn": [
             0.9314712797,
             0.7894364166
            ],
            "passed_time": 632.9648308,
            "remaining_time": 716.6403522,
            "test": [
             0.8700671361,
             1.001779384
            ]
           },
           {
            "iteration": 938,
            "learn": [
             0.9312958349,
             0.7892404805
            ],
            "passed_time": 633.6633865,
            "remaining_time": 715.9923888,
            "test": [
             0.8699852628,
             1.001525129
            ]
           },
           {
            "iteration": 939,
            "learn": [
             0.9313660128,
             0.7889950634
            ],
            "passed_time": 634.3274509,
            "remaining_time": 715.3054233,
            "test": [
             0.8703127559,
             1.001283427
            ]
           },
           {
            "iteration": 940,
            "learn": [
             0.9314011018,
             0.7888027595
            ],
            "passed_time": 635.0008231,
            "remaining_time": 714.6289815,
            "test": [
             0.8707221222,
             1.001053798
            ]
           },
           {
            "iteration": 941,
            "learn": [
             0.9320327029,
             0.7873325188
            ],
            "passed_time": 635.7170419,
            "remaining_time": 714.0006692,
            "test": [
             0.8707221222,
             0.9998080296
            ]
           },
           {
            "iteration": 942,
            "learn": [
             0.9320327029,
             0.7870812764
            ],
            "passed_time": 636.3736437,
            "remaining_time": 713.3053461,
            "test": [
             0.8709677419,
             0.999530588
            ]
           },
           {
            "iteration": 943,
            "learn": [
             0.9322081477,
             0.78685779
            ],
            "passed_time": 637.0487093,
            "remaining_time": 712.6307595,
            "test": [
             0.8710496152,
             0.999348452
            ]
           },
           {
            "iteration": 944,
            "learn": [
             0.9323835924,
             0.7866656231
            ],
            "passed_time": 637.7109844,
            "remaining_time": 711.9418927,
            "test": [
             0.8711314885,
             0.99919414
            ]
           },
           {
            "iteration": 945,
            "learn": [
             0.9324537703,
             0.7858617298
            ],
            "passed_time": 638.3746047,
            "remaining_time": 711.2545807,
            "test": [
             0.8717046013,
             0.9984536828
            ]
           },
           {
            "iteration": 946,
            "learn": [
             0.9325239482,
             0.7856405735
            ],
            "passed_time": 639.065093,
            "remaining_time": 710.5971942,
            "test": [
             0.8717864745,
             0.9982170179
            ]
           },
           {
            "iteration": 947,
            "learn": [
             0.9324537703,
             0.7854756143
            ],
            "passed_time": 639.7252958,
            "remaining_time": 709.9061299,
            "test": [
             0.8717046013,
             0.9979939452
            ]
           },
           {
            "iteration": 948,
            "learn": [
             0.9342082178,
             0.779510013
            ],
            "passed_time": 640.5247833,
            "remaining_time": 709.3693859,
            "test": [
             0.8732601932,
             0.9932721608
            ]
           },
           {
            "iteration": 949,
            "learn": [
             0.9346643742,
             0.7793070179
            ],
            "passed_time": 641.2187646,
            "remaining_time": 708.7154766,
            "test": [
             0.8734239397,
             0.9930789911
            ]
           },
           {
            "iteration": 950,
            "learn": [
             0.9345240184,
             0.7786429321
            ],
            "passed_time": 641.8971738,
            "remaining_time": 708.0443063,
            "test": [
             0.8732601932,
             0.992430961
            ]
           },
           {
            "iteration": 951,
            "learn": [
             0.9344889294,
             0.7777807856
            ],
            "passed_time": 642.5847152,
            "remaining_time": 707.3831739,
            "test": [
             0.8728508269,
             0.9917213661
            ]
           },
           {
            "iteration": 952,
            "learn": [
             0.9346994631,
             0.7772092195
            ],
            "passed_time": 643.2766544,
            "remaining_time": 706.7268175,
            "test": [
             0.8733420665,
             0.9912686645
            ]
           },
           {
            "iteration": 953,
            "learn": [
             0.93480473,
             0.777020822
            ],
            "passed_time": 643.9356567,
            "remaining_time": 706.0342735,
            "test": [
             0.8733420665,
             0.9911061973
            ]
           },
           {
            "iteration": 954,
            "learn": [
             0.9348749079,
             0.7768159765
            ],
            "passed_time": 644.5912359,
            "remaining_time": 705.338054,
            "test": [
             0.8734239397,
             0.9909015941
            ]
           },
           {
            "iteration": 955,
            "learn": [
             0.9349099968,
             0.7766143521
            ],
            "passed_time": 645.2526476,
            "remaining_time": 704.6482887,
            "test": [
             0.8735876863,
             0.9906170365
            ]
           },
           {
            "iteration": 956,
            "learn": [
             0.9350152637,
             0.77637291
            ],
            "passed_time": 645.9126127,
            "remaining_time": 703.9570063,
            "test": [
             0.8735876863,
             0.9904196292
            ]
           },
           {
            "iteration": 957,
            "learn": [
             0.9351907084,
             0.7747315421
            ],
            "passed_time": 646.6307932,
            "remaining_time": 703.3291091,
            "test": [
             0.8734239397,
             0.9891783379
            ]
           },
           {
            "iteration": 958,
            "learn": [
             0.9351907084,
             0.7745432817
            ],
            "passed_time": 647.2843948,
            "remaining_time": 702.6309229,
            "test": [
             0.8734239397,
             0.9889514274
            ]
           },
           {
            "iteration": 959,
            "learn": [
             0.9350854416,
             0.7742893665
            ],
            "passed_time": 647.9475851,
            "remaining_time": 701.9432172,
            "test": [
             0.8734239397,
             0.9886749452
            ]
           },
           {
            "iteration": 960,
            "learn": [
             0.9348398189,
             0.7740571763
            ],
            "passed_time": 648.6024639,
            "remaining_time": 701.2465765,
            "test": [
             0.8730145734,
             0.9883777549
            ]
           },
           {
            "iteration": 961,
            "learn": [
             0.9349801747,
             0.7732069546
            ],
            "passed_time": 649.2723457,
            "remaining_time": 700.5662108,
            "test": [
             0.8734239397,
             0.9876169892
            ]
           },
           {
            "iteration": 962,
            "learn": [
             0.9352608863,
             0.7729660608
            ],
            "passed_time": 649.9585959,
            "remaining_time": 699.9034932,
            "test": [
             0.8737514328,
             0.9873794448
            ]
           },
           {
            "iteration": 963,
            "learn": [
             0.9350152637,
             0.7720447702
            ],
            "passed_time": 650.6231962,
            "remaining_time": 699.2174598,
            "test": [
             0.8735876863,
             0.9865546357
            ]
           },
           {
            "iteration": 964,
            "learn": [
             0.9351205305,
             0.7713341504
            ],
            "passed_time": 651.2897469,
            "remaining_time": 698.5335628,
            "test": [
             0.8735876863,
             0.9859380277
            ]
           },
           {
            "iteration": 965,
            "learn": [
             0.9351205305,
             0.771100384
            ],
            "passed_time": 651.9483125,
            "remaining_time": 697.8411544,
            "test": [
             0.8733420665,
             0.9856258859
            ]
           },
           {
            "iteration": 966,
            "learn": [
             0.9350854416,
             0.7708710722
            ],
            "passed_time": 652.6098295,
            "remaining_time": 697.1519688,
            "test": [
             0.8734239397,
             0.9853240582
            ]
           },
           {
            "iteration": 967,
            "learn": [
             0.9357521317,
             0.7702679124
            ],
            "passed_time": 653.2790801,
            "remaining_time": 696.4710854,
            "test": [
             0.8743245456,
             0.9847033725
            ]
           },
           {
            "iteration": 968,
            "learn": [
             0.9357170427,
             0.7684880391
            ],
            "passed_time": 653.9987432,
            "remaining_time": 695.843864,
            "test": [
             0.8744064189,
             0.9830835772
            ]
           },
           {
            "iteration": 969,
            "learn": [
             0.9358573985,
             0.7677801606
            ],
            "passed_time": 654.6682548,
            "remaining_time": 695.1631984,
            "test": [
             0.8740789258,
             0.9825586769
            ]
           },
           {
            "iteration": 970,
            "learn": [
             0.9359626654,
             0.767545983
            ],
            "passed_time": 655.3693276,
            "remaining_time": 694.5160021,
            "test": [
             0.8743245456,
             0.982295707
            ]
           },
           {
            "iteration": 971,
            "learn": [
             0.9360328433,
             0.7668376933
            ],
            "passed_time": 656.0316932,
            "remaining_time": 693.8277578,
            "test": [
             0.8748976584,
             0.9816846159
            ]
           },
           {
            "iteration": 972,
            "learn": [
             0.9360328433,
             0.7666449782
            ],
            "passed_time": 656.7009758,
            "remaining_time": 693.1468676,
            "test": [
             0.8748976584,
             0.9815131138
            ]
           },
           {
            "iteration": 973,
            "learn": [
             0.9360679322,
             0.7664098411
            ],
            "passed_time": 657.3648209,
            "remaining_time": 692.4602734,
            "test": [
             0.8750614049,
             0.9813138675
            ]
           },
           {
            "iteration": 974,
            "learn": [
             0.9361030212,
             0.7657321858
            ],
            "passed_time": 658.0374694,
            "remaining_time": 691.7829806,
            "test": [
             0.8752251515,
             0.9807179677
            ]
           },
           {
            "iteration": 975,
            "learn": [
             0.936208288,
             0.7654213881
            ],
            "passed_time": 658.7384288,
            "remaining_time": 691.1354007,
            "test": [
             0.8752251515,
             0.9804176592
            ]
           },
           {
            "iteration": 976,
            "learn": [
             0.9359626654,
             0.7652013283
            ],
            "passed_time": 659.3999787,
            "remaining_time": 690.4464465,
            "test": [
             0.8750614049,
             0.9801697207
            ]
           },
           {
            "iteration": 977,
            "learn": [
             0.9361381101,
             0.7650250612
            ],
            "passed_time": 660.0615283,
            "remaining_time": 689.757548,
            "test": [
             0.8751432782,
             0.9800148491
            ]
           },
           {
            "iteration": 978,
            "learn": [
             0.9356819538,
             0.763220516
            ],
            "passed_time": 660.8155708,
            "remaining_time": 689.1651663,
            "test": [
             0.8742426723,
             0.9785312161
            ]
           },
           {
            "iteration": 979,
            "learn": [
             0.9357872206,
             0.7630108732
            ],
            "passed_time": 661.4754421,
            "remaining_time": 688.4744397,
            "test": [
             0.8742426723,
             0.9783112617
            ]
           },
           {
            "iteration": 980,
            "learn": [
             0.9360679322,
             0.7627703905
            ],
            "passed_time": 662.1464687,
            "remaining_time": 687.7953636,
            "test": [
             0.8743245456,
             0.9781003421
            ]
           },
           {
            "iteration": 981,
            "learn": [
             0.9361381101,
             0.7620528489
            ],
            "passed_time": 662.8348592,
            "remaining_time": 687.1343041,
            "test": [
             0.8744064189,
             0.9775318666
            ]
           },
           {
            "iteration": 982,
            "learn": [
             0.9360679322,
             0.7618312814
            ],
            "passed_time": 663.505476,
            "remaining_time": 686.4548007,
            "test": [
             0.8748157852,
             0.977215887
            ]
           },
           {
            "iteration": 983,
            "learn": [
             0.936208288,
             0.7615990227
            ],
            "passed_time": 664.1713531,
            "remaining_time": 685.7704215,
            "test": [
             0.8749795317,
             0.9770263952
            ]
           },
           {
            "iteration": 984,
            "learn": [
             0.9366995333,
             0.7602529639
            ],
            "passed_time": 664.8774849,
            "remaining_time": 685.1275606,
            "test": [
             0.8755526445,
             0.9760868515
            ]
           },
           {
            "iteration": 985,
            "learn": [
             0.9367697112,
             0.760056411
            ],
            "passed_time": 665.53392,
            "remaining_time": 684.4334634,
            "test": [
             0.8756345178,
             0.9759111119
            ]
           },
           {
            "iteration": 986,
            "learn": [
             0.9368749781,
             0.7598380645
            ],
            "passed_time": 666.2463016,
            "remaining_time": 683.7968627,
            "test": [
             0.8756345178,
             0.9756887588
            ]
           },
           {
            "iteration": 987,
            "learn": [
             0.9370504228,
             0.7596576854
            ],
            "passed_time": 666.9055267,
            "remaining_time": 683.1056609,
            "test": [
             0.875716391,
             0.9755293298
            ]
           },
           {
            "iteration": 988,
            "learn": [
             0.9371556897,
             0.7591358058
            ],
            "passed_time": 667.5981834,
            "remaining_time": 682.4486992,
            "test": [
             0.8759620108,
             0.975122682
            ]
           },
           {
            "iteration": 989,
            "learn": [
             0.9371556897,
             0.7589614575
            ],
            "passed_time": 668.2557015,
            "remaining_time": 681.7558167,
            "test": [
             0.8759620108,
             0.9749654117
            ]
           },
           {
            "iteration": 990,
            "learn": [
             0.9372258676,
             0.7587529113
            ],
            "passed_time": 668.9210316,
            "remaining_time": 681.0709595,
            "test": [
             0.8760438841,
             0.9747959885
            ]
           },
           {
            "iteration": 991,
            "learn": [
             0.9373311344,
             0.7582093067
            ],
            "passed_time": 669.5968698,
            "remaining_time": 680.3968193,
            "test": [
             0.8762895038,
             0.9744191636
            ]
           },
           {
            "iteration": 992,
            "learn": [
             0.9374364013,
             0.7580057634
            ],
            "passed_time": 670.260361,
            "remaining_time": 679.7101546,
            "test": [
             0.8765351236,
             0.9741438807
            ]
           },
           {
            "iteration": 993,
            "learn": [
             0.9375416681,
             0.7575114341
            ],
            "passed_time": 670.9117366,
            "remaining_time": 679.0112747,
            "test": [
             0.8762895038,
             0.9736900598
            ]
           },
           {
            "iteration": 994,
            "learn": [
             0.9375416681,
             0.7572983646
            ],
            "passed_time": 671.5625391,
            "remaining_time": 678.3119114,
            "test": [
             0.8762895038,
             0.9735216759
            ]
           },
           {
            "iteration": 995,
            "learn": [
             0.9376820239,
             0.7565807545
            ],
            "passed_time": 672.2343432,
            "remaining_time": 677.6338158,
            "test": [
             0.8764532504,
             0.9729077864
            ]
           },
           {
            "iteration": 996,
            "learn": [
             0.9377171129,
             0.7564029111
            ],
            "passed_time": 672.9024631,
            "remaining_time": 676.9520266,
            "test": [
             0.8768626167,
             0.9726438571
            ]
           },
           {
            "iteration": 997,
            "learn": [
             0.9378223797,
             0.75623617
            ],
            "passed_time": 673.5571004,
            "remaining_time": 676.256728,
            "test": [
             0.8768626167,
             0.9725272836
            ]
           },
           {
            "iteration": 998,
            "learn": [
             0.9379276466,
             0.75604976
            ],
            "passed_time": 674.2230309,
            "remaining_time": 675.5728267,
            "test": [
             0.8768626167,
             0.9723032515
            ]
           },
           {
            "iteration": 999,
            "learn": [
             0.9379276466,
             0.7553505167
            ],
            "passed_time": 674.9163361,
            "remaining_time": 674.9163361,
            "test": [
             0.8771082364,
             0.9717244619
            ]
           },
           {
            "iteration": 1000,
            "learn": [
             0.9379276466,
             0.7551546491
            ],
            "passed_time": 675.5746164,
            "remaining_time": 674.224817,
            "test": [
             0.8771082364,
             0.9715493619
            ]
           },
           {
            "iteration": 1001,
            "learn": [
             0.9379627355,
             0.7550064805
            ],
            "passed_time": 676.2511259,
            "remaining_time": 673.5515206,
            "test": [
             0.8770263632,
             0.9714187165
            ]
           },
           {
            "iteration": 1002,
            "learn": [
             0.9381732692,
             0.7543582258
            ],
            "passed_time": 676.9142352,
            "remaining_time": 672.8648978,
            "test": [
             0.8770263632,
             0.9708585563
            ]
           },
           {
            "iteration": 1003,
            "learn": [
             0.9382434471,
             0.754198064
            ],
            "passed_time": 677.5728653,
            "remaining_time": 672.1738784,
            "test": [
             0.8771082364,
             0.9707303894
            ]
           },
           {
            "iteration": 1004,
            "learn": [
             0.9385943366,
             0.7535681077
            ],
            "passed_time": 678.260484,
            "remaining_time": 671.5116235,
            "test": [
             0.8780088423,
             0.9701404062
            ]
           },
           {
            "iteration": 1005,
            "learn": [
             0.9385592477,
             0.7534149362
            ],
            "passed_time": 678.913779,
            "remaining_time": 670.8154039,
            "test": [
             0.8778450958,
             0.9700026449
            ]
           },
           {
            "iteration": 1006,
            "learn": [
             0.9386645145,
             0.7532578583
            ],
            "passed_time": 679.5693393,
            "remaining_time": 670.1215034,
            "test": [
             0.8778450958,
             0.969900863
            ]
           },
           {
            "iteration": 1007,
            "learn": [
             0.9387346924,
             0.7530713112
            ],
            "passed_time": 680.2573225,
            "remaining_time": 669.4595872,
            "test": [
             0.8779269691,
             0.9697675791
            ]
           },
           {
            "iteration": 1008,
            "learn": [
             0.9387697814,
             0.7529596022
            ],
            "passed_time": 680.9107595,
            "remaining_time": 668.7636895,
            "test": [
             0.8778450958,
             0.9696729131
            ]
           },
           {
            "iteration": 1009,
            "learn": [
             0.9388750482,
             0.7515739999
            ],
            "passed_time": 681.6087237,
            "remaining_time": 668.1115212,
            "test": [
             0.8780907156,
             0.9685832152
            ]
           },
           {
            "iteration": 1010,
            "learn": [
             0.9396470052,
             0.7501072543
            ],
            "passed_time": 682.2915242,
            "remaining_time": 667.4444287,
            "test": [
             0.8797281808,
             0.9673057845
            ]
           },
           {
            "iteration": 1011,
            "learn": [
             0.9395768273,
             0.7499394167
            ],
            "passed_time": 682.9421632,
            "remaining_time": 666.7459064,
            "test": [
             0.8796463075,
             0.9670724777
            ]
           },
           {
            "iteration": 1012,
            "learn": [
             0.9395768273,
             0.7497477296
            ],
            "passed_time": 683.6391771,
            "remaining_time": 666.0926632,
            "test": [
             0.8796463075,
             0.9668062297
            ]
           },
           {
            "iteration": 1013,
            "learn": [
             0.9393662936,
             0.7488246572
            ],
            "passed_time": 684.3226444,
            "remaining_time": 665.4261611,
            "test": [
             0.879155068,
             0.9659710265
            ]
           },
           {
            "iteration": 1014,
            "learn": [
             0.9395417383,
             0.7482429482
            ],
            "passed_time": 684.9903023,
            "remaining_time": 664.7442835,
            "test": [
             0.879482561,
             0.9653869599
            ]
           },
           {
            "iteration": 1015,
            "learn": [
             0.9394364715,
             0.7480793597
            ],
            "passed_time": 685.6449217,
            "remaining_time": 664.0498061,
            "test": [
             0.879482561,
             0.9652213744
            ]
           },
           {
            "iteration": 1016,
            "learn": [
             0.9394013825,
             0.7473799793
            ],
            "passed_time": 686.3357909,
            "remaining_time": 663.3904449,
            "test": [
             0.8788275749,
             0.9645962113
            ]
           },
           {
            "iteration": 1017,
            "learn": [
             0.9392961157,
             0.7472483958
            ],
            "passed_time": 687.0022698,
            "remaining_time": 662.7074941,
            "test": [
             0.8788275749,
             0.9644837955
            ]
           },
           {
            "iteration": 1018,
            "learn": [
             0.9393312046,
             0.7470482791
            ],
            "passed_time": 687.6591565,
            "remaining_time": 662.0153411,
            "test": [
             0.8787457017,
             0.9643097349
            ]
           },
           {
            "iteration": 1019,
            "learn": [
             0.9394364715,
             0.7462001134
            ],
            "passed_time": 688.332678,
            "remaining_time": 661.3392397,
            "test": [
             0.8789913214,
             0.9635764735
            ]
           },
           {
            "iteration": 1020,
            "learn": [
             0.9395417383,
             0.7460393347
            ],
            "passed_time": 688.9987786,
            "remaining_time": 660.6560277,
            "test": [
             0.8789913214,
             0.9634101684
            ]
           },
           {
            "iteration": 1021,
            "learn": [
             0.9396820941,
             0.7458460028
            ],
            "passed_time": 689.6678397,
            "remaining_time": 659.9756822,
            "test": [
             0.879155068,
             0.9632572957
            ]
           },
           {
            "iteration": 1022,
            "learn": [
             0.9396820941,
             0.74567981
            ],
            "passed_time": 690.3315496,
            "remaining_time": 659.2902482,
            "test": [
             0.879155068,
             0.9631140974
            ]
           },
           {
            "iteration": 1023,
            "learn": [
             0.9396470052,
             0.745500596
            ],
            "passed_time": 691.0155502,
            "remaining_time": 658.6241963,
            "test": [
             0.8792369412,
             0.9629037375
            ]
           },
           {
            "iteration": 1024,
            "learn": [
             0.9396470052,
             0.7453234379
            ],
            "passed_time": 691.7784096,
            "remaining_time": 658.0331213,
            "test": [
             0.8792369412,
             0.962682104
            ]
           },
           {
            "iteration": 1025,
            "learn": [
             0.9396470052,
             0.7451761602
            ],
            "passed_time": 692.4533552,
            "remaining_time": 657.3582534,
            "test": [
             0.8792369412,
             0.9624773409
            ]
           },
           {
            "iteration": 1026,
            "learn": [
             0.9396470052,
             0.7449949587
            ],
            "passed_time": 693.1102588,
            "remaining_time": 656.666292,
            "test": [
             0.8792369412,
             0.9623005619
            ]
           },
           {
            "iteration": 1027,
            "learn": [
             0.9395768273,
             0.744827875
            ],
            "passed_time": 693.7613129,
            "remaining_time": 655.9688678,
            "test": [
             0.879155068,
             0.9621265812
            ]
           },
           {
            "iteration": 1028,
            "learn": [
             0.9397171831,
             0.7443293652
            ],
            "passed_time": 694.461469,
            "remaining_time": 655.3178682,
            "test": [
             0.8788275749,
             0.9618070036
            ]
           },
           {
            "iteration": 1029,
            "learn": [
             0.9399277168,
             0.7440706527
            ],
            "passed_time": 695.1130858,
            "remaining_time": 654.6210614,
            "test": [
             0.8793188145,
             0.9614922233
            ]
           },
           {
            "iteration": 1030,
            "learn": [
             0.9398575389,
             0.7435059399
            ],
            "passed_time": 695.7911087,
            "remaining_time": 653.9491604,
            "test": [
             0.879482561,
             0.9610116976
            ]
           },
           {
            "iteration": 1031,
            "learn": [
             0.9402084284,
             0.7428674855
            ],
            "passed_time": 696.4856796,
            "remaining_time": 653.2927693,
            "test": [
             0.8801375471,
             0.9603600696
            ]
           },
           {
            "iteration": 1032,
            "learn": [
             0.9402084284,
             0.7427041711
            ],
            "passed_time": 697.138982,
            "remaining_time": 652.5976724,
            "test": [
             0.8801375471,
             0.9602207092
            ]
           },
           {
            "iteration": 1033,
            "learn": [
             0.9400680726,
             0.7420890179
            ],
            "passed_time": 697.8127616,
            "remaining_time": 651.9217869,
            "test": [
             0.8799738006,
             0.9596232103
            ]
           },
           {
            "iteration": 1034,
            "learn": [
             0.9401382505,
             0.7419115172
            ],
            "passed_time": 698.4651343,
            "remaining_time": 651.2259465,
            "test": [
             0.8800556738,
             0.959410052
            ]
           },
           {
            "iteration": 1035,
            "learn": [
             0.9402084284,
             0.7417092075
            ],
            "passed_time": 699.1241254,
            "remaining_time": 650.5363483,
            "test": [
             0.8803831669,
             0.9592020907
            ]
           },
           {
            "iteration": 1036,
            "learn": [
             0.9402786063,
             0.7414814719
            ],
            "passed_time": 699.8158423,
            "remaining_time": 649.8771997,
            "test": [
             0.8804650401,
             0.958877556
            ]
           },
           {
            "iteration": 1037,
            "learn": [
             0.9404189621,
             0.7409069589
            ],
            "passed_time": 700.4889905,
            "remaining_time": 649.2007793,
            "test": [
             0.8803831669,
             0.9583936722
            ]
           },
           {
            "iteration": 1038,
            "learn": [
             0.9403487842,
             0.7402066191
            ],
            "passed_time": 701.1661186,
            "remaining_time": 648.5280462,
            "test": [
             0.8803012936,
             0.9578765274
            ]
           },
           {
            "iteration": 1039,
            "learn": [
             0.9404189621,
             0.7400148635
            ],
            "passed_time": 701.8274881,
            "remaining_time": 647.8407583,
            "test": [
             0.8803831669,
             0.957675842
            ]
           },
           {
            "iteration": 1040,
            "learn": [
             0.94048914,
             0.7398626514
            ],
            "passed_time": 702.48165,
            "remaining_time": 647.1468803,
            "test": [
             0.8804650401,
             0.9575123354
            ]
           },
           {
            "iteration": 1041,
            "learn": [
             0.9405242289,
             0.7397307252
            ],
            "passed_time": 703.1546642,
            "remaining_time": 646.4704111,
            "test": [
             0.8806287866,
             0.9573686574
            ]
           },
           {
            "iteration": 1042,
            "learn": [
             0.9406294958,
             0.7394966846
            ],
            "passed_time": 703.8044307,
            "remaining_time": 645.7726176,
            "test": [
             0.8808744064,
             0.9571078463
            ]
           },
           {
            "iteration": 1043,
            "learn": [
             0.9408400295,
             0.7389317662
            ],
            "passed_time": 704.4739387,
            "remaining_time": 645.0929936,
            "test": [
             0.8811200262,
             0.9567117524
            ]
           },
           {
            "iteration": 1044,
            "learn": [
             0.9410856521,
             0.7381957207
            ],
            "passed_time": 705.1563141,
            "remaining_time": 644.4251483,
            "test": [
             0.8815293925,
             0.9561758183
            ]
           },
           {
            "iteration": 1045,
            "learn": [
             0.9410856521,
             0.7380023203
            ],
            "passed_time": 705.8066645,
            "remaining_time": 643.7280668,
            "test": [
             0.8815293925,
             0.9559200444
            ]
           },
           {
            "iteration": 1046,
            "learn": [
             0.9413663637,
             0.7366792886
            ],
            "passed_time": 706.5061437,
            "remaining_time": 643.0757927,
            "test": [
             0.8821025053,
             0.9550170399
            ]
           },
           {
            "iteration": 1047,
            "learn": [
             0.9414716306,
             0.7364632038
            ],
            "passed_time": 707.155509,
            "remaining_time": 642.3779051,
            "test": [
             0.8821025053,
             0.9547391985
            ]
           },
           {
            "iteration": 1048,
            "learn": [
             0.9416470753,
             0.7362950235
            ],
            "passed_time": 707.823894,
            "remaining_time": 641.6973529,
            "test": [
             0.8821843786,
             0.9546199865
            ]
           },
           {
            "iteration": 1049,
            "learn": [
             0.9415768974,
             0.7356416289
            ],
            "passed_time": 708.5308345,
            "remaining_time": 641.0517074,
            "test": [
             0.8823481251,
             0.9541273078
            ]
           },
           {
            "iteration": 1050,
            "learn": [
             0.9415418085,
             0.7354363037
            ],
            "passed_time": 709.1806719,
            "remaining_time": 640.354384,
            "test": [
             0.8821843786,
             0.9539140695
            ]
           },
           {
            "iteration": 1051,
            "learn": [
             0.9418225201,
             0.7348739895
            ],
            "passed_time": 709.8657895,
            "remaining_time": 639.6889434,
            "test": [
             0.8822662518,
             0.9534440978
            ]
           },
           {
            "iteration": 1052,
            "learn": [
             0.9419979648,
             0.7346347405
            ],
            "passed_time": 710.5436266,
            "remaining_time": 639.0169178,
            "test": [
             0.8823481251,
             0.9531831268
            ]
           },
           {
            "iteration": 1053,
            "learn": [
             0.9419979648,
             0.7344411344
            ],
            "passed_time": 711.209904,
            "remaining_time": 638.3345058,
            "test": [
             0.8823481251,
             0.9530160222
            ]
           },
           {
            "iteration": 1054,
            "learn": [
             0.9422084985,
             0.7342516404
            ],
            "passed_time": 711.8539086,
            "remaining_time": 637.6321741,
            "test": [
             0.8825937449,
             0.9527943088
            ]
           },
           {
            "iteration": 1055,
            "learn": [
             0.9421383206,
             0.7340791426
            ],
            "passed_time": 712.5010305,
            "remaining_time": 636.9327393,
            "test": [
             0.8827574914,
             0.9525573241
            ]
           },
           {
            "iteration": 1056,
            "learn": [
             0.9421734096,
             0.7338505847
            ],
            "passed_time": 713.1610882,
            "remaining_time": 636.2449444,
            "test": [
             0.8826756181,
             0.9522475009
            ]
           },
           {
            "iteration": 1057,
            "learn": [
             0.9422435875,
             0.7336822674
            ],
            "passed_time": 713.8393954,
            "remaining_time": 635.5734503,
            "test": [
             0.8827574914,
             0.9521243712
            ]
           },
           {
            "iteration": 1058,
            "learn": [
             0.9421734096,
             0.7334574788
            ],
            "passed_time": 714.5010422,
            "remaining_time": 634.8871395,
            "test": [
             0.8826756181,
             0.9518285401
            ]
           },
           {
            "iteration": 1059,
            "learn": [
             0.9424541212,
             0.7328425312
            ],
            "passed_time": 715.1873187,
            "remaining_time": 634.2227166,
            "test": [
             0.8834943507,
             0.9511865066
            ]
           },
           {
            "iteration": 1060,
            "learn": [
             0.9424541212,
             0.7326313807
            ],
            "passed_time": 715.851176,
            "remaining_time": 633.5384112,
            "test": [
             0.8834943507,
             0.950949362
            ]
           },
           {
            "iteration": 1061,
            "learn": [
             0.942594477,
             0.7323765746
            ],
            "passed_time": 716.5160871,
            "remaining_time": 632.855075,
            "test": [
             0.8836580973,
             0.9506266662
            ]
           },
           {
            "iteration": 1062,
            "learn": [
             0.942594477,
             0.7321431509
            ],
            "passed_time": 717.1917509,
            "remaining_time": 632.1812517,
            "test": [
             0.8836580973,
             0.9503061292
            ]
           },
           {
            "iteration": 1063,
            "learn": [
             0.942594477,
             0.7319304241
            ],
            "passed_time": 717.8477766,
            "remaining_time": 631.4901494,
            "test": [
             0.8836580973,
             0.9500985677
            ]
           },
           {
            "iteration": 1064,
            "learn": [
             0.9429453665,
             0.7312796337
            ],
            "passed_time": 718.5127037,
            "remaining_time": 630.8069276,
            "test": [
             0.8840674636,
             0.9494407033
            ]
           },
           {
            "iteration": 1065,
            "learn": [
             0.9431208113,
             0.7311083009
            ],
            "passed_time": 719.1707333,
            "remaining_time": 630.1176969,
            "test": [
             0.8846405764,
             0.9492114742
            ]
           },
           {
            "iteration": 1066,
            "learn": [
             0.9431208113,
             0.7309414228
            ],
            "passed_time": 719.8302735,
            "remaining_time": 629.4298455,
            "test": [
             0.8846405764,
             0.9490761914
            ]
           },
           {
            "iteration": 1067,
            "learn": [
             0.9428050107,
             0.7304049457
            ],
            "passed_time": 720.531959,
            "remaining_time": 628.7788257,
            "test": [
             0.8843949566,
             0.9486365224
            ]
           },
           {
            "iteration": 1068,
            "learn": [
             0.9429804555,
             0.7298074055
            ],
            "passed_time": 721.1910043,
            "remaining_time": 628.0905753,
            "test": [
             0.8842312101,
             0.9481517591
            ]
           },
           {
            "iteration": 1069,
            "learn": [
             0.9430506334,
             0.7296259299
            ],
            "passed_time": 721.8444396,
            "remaining_time": 627.3975036,
            "test": [
             0.8843130833,
             0.94794004
            ]
           },
           {
            "iteration": 1070,
            "learn": [
             0.9431559002,
             0.7294167668
            ],
            "passed_time": 722.5006392,
            "remaining_time": 626.7069037,
            "test": [
             0.8843130833,
             0.9477068131
            ]
           },
           {
            "iteration": 1071,
            "learn": [
             0.9431559002,
             0.7292516706
            ],
            "passed_time": 723.1614601,
            "remaining_time": 626.0203685,
            "test": [
             0.8843130833,
             0.9475425869
            ]
           },
           {
            "iteration": 1072,
            "learn": [
             0.9431208113,
             0.7290224273
            ],
            "passed_time": 723.864045,
            "remaining_time": 625.3699625,
            "test": [
             0.8843949566,
             0.9471895884
            ]
           },
           {
            "iteration": 1073,
            "learn": [
             0.9429453665,
             0.7288297808
            ],
            "passed_time": 724.5244144,
            "remaining_time": 624.6830612,
            "test": [
             0.8843130833,
             0.946990662
            ]
           },
           {
            "iteration": 1074,
            "learn": [
             0.9429804555,
             0.7279132875
            ],
            "passed_time": 725.2062464,
            "remaining_time": 624.0146771,
            "test": [
             0.8839855903,
             0.9460731058
            ]
           },
           {
            "iteration": 1075,
            "learn": [
             0.9428050107,
             0.7273946975
            ],
            "passed_time": 725.8974755,
            "remaining_time": 623.3543377,
            "test": [
             0.8841493368,
             0.9456659782
            ]
           },
           {
            "iteration": 1076,
            "learn": [
             0.9430155444,
             0.726738356
            ],
            "passed_time": 726.585821,
            "remaining_time": 622.6914696,
            "test": [
             0.8841493368,
             0.9450708779
            ]
           },
           {
            "iteration": 1077,
            "learn": [
             0.9431208113,
             0.7266025919
            ],
            "passed_time": 727.2585625,
            "remaining_time": 622.0152084,
            "test": [
             0.8843949566,
             0.9449252811
            ]
           },
           {
            "iteration": 1078,
            "learn": [
             0.9430857223,
             0.7264340004
            ],
            "passed_time": 727.9138941,
            "remaining_time": 621.3240931,
            "test": [
             0.8842312101,
             0.9447682507
            ]
           },
           {
            "iteration": 1079,
            "learn": [
             0.9431909892,
             0.7262756889
            ],
            "passed_time": 728.5646434,
            "remaining_time": 620.6291407,
            "test": [
             0.8844768299,
             0.944638085
            ]
           },
           {
            "iteration": 1080,
            "learn": [
             0.9432611671,
             0.726140199
            ],
            "passed_time": 729.2553785,
            "remaining_time": 619.9682635,
            "test": [
             0.8845587031,
             0.9444992043
            ]
           },
           {
            "iteration": 1081,
            "learn": [
             0.9437875013,
             0.7232738018
            ],
            "passed_time": 729.963293,
            "remaining_time": 619.3219066,
            "test": [
             0.8848043229,
             0.9421379923
            ]
           },
           {
            "iteration": 1082,
            "learn": [
             0.9439629461,
             0.7231183002
            ],
            "passed_time": 730.6276666,
            "remaining_time": 618.638569,
            "test": [
             0.8851318159,
             0.9420094257
            ]
           },
           {
            "iteration": 1083,
            "learn": [
             0.9436822345,
             0.7224660021
            ],
            "passed_time": 731.3052381,
            "remaining_time": 617.9664189,
            "test": [
             0.8848043229,
             0.9415852678
            ]
           },
           {
            "iteration": 1084,
            "learn": [
             0.9437173234,
             0.7222094141
            ],
            "passed_time": 731.9653559,
            "remaining_time": 617.2795398,
            "test": [
             0.8849680694,
             0.9412532973
            ]
           },
           {
            "iteration": 1085,
            "learn": [
             0.9436471455,
             0.7220353401
            ],
            "passed_time": 732.6492906,
            "remaining_time": 616.6127547,
            "test": [
             0.8848861962,
             0.9410496536
            ]
           },
           {
            "iteration": 1086,
            "learn": [
             0.9437524124,
             0.7218844987
            ],
            "passed_time": 733.3128708,
            "remaining_time": 615.9288418,
            "test": [
             0.8848861962,
             0.9408799904
            ]
           },
           {
            "iteration": 1087,
            "learn": [
             0.9436471455,
             0.7217056273
            ],
            "passed_time": 733.9699735,
            "remaining_time": 615.2395366,
            "test": [
             0.8848861962,
             0.9406636339
            ]
           },
           {
            "iteration": 1088,
            "learn": [
             0.9437875013,
             0.7202835653
            ],
            "passed_time": 734.6758457,
            "remaining_time": 614.5910886,
            "test": [
             0.8850499427,
             0.9395134905
            ]
           },
           {
            "iteration": 1089,
            "learn": [
             0.9442085687,
             0.719670057
            ],
            "passed_time": 735.342308,
            "remaining_time": 613.9096333,
            "test": [
             0.8852955625,
             0.9389817141
            ]
           },
           {
            "iteration": 1090,
            "learn": [
             0.9441383908,
             0.7194640464
            ],
            "passed_time": 736.0032296,
            "remaining_time": 613.2235891,
            "test": [
             0.8852136892,
             0.9387684759
            ]
           },
           {
            "iteration": 1091,
            "learn": [
             0.9443138356,
             0.7192729076
            ],
            "passed_time": 736.6586129,
            "remaining_time": 612.5329858,
            "test": [
             0.8852955625,
             0.9385396465
            ]
           },
           {
            "iteration": 1092,
            "learn": [
             0.9447699919,
             0.7162413456
            ],
            "passed_time": 737.3973988,
            "remaining_time": 611.9116566,
            "test": [
             0.885459309,
             0.9359576005
            ]
           },
           {
            "iteration": 1093,
            "learn": [
             0.9450857925,
             0.7134013337
            ],
            "passed_time": 738.170269,
            "remaining_time": 611.3183398,
            "test": [
             0.8866874079,
             0.933742625
            ]
           },
           {
            "iteration": 1094,
            "learn": [
             0.9450857925,
             0.7132496014
            ],
            "passed_time": 738.820646,
            "remaining_time": 610.6234563,
            "test": [
             0.8866874079,
             0.9335703234
            ]
           },
           {
            "iteration": 1095,
            "learn": [
             0.9449805256,
             0.7130930718
            ],
            "passed_time": 739.4798512,
            "remaining_time": 609.9359357,
            "test": [
             0.8866874079,
             0.9333293409
            ]
           },
           {
            "iteration": 1096,
            "learn": [
             0.9450156146,
             0.7128848682
            ],
            "passed_time": 740.1402443,
            "remaining_time": 609.2494445,
            "test": [
             0.8868511544,
             0.9331584785
            ]
           },
           {
            "iteration": 1097,
            "learn": [
             0.9450156146,
             0.7127282701
            ],
            "passed_time": 740.7985845,
            "remaining_time": 608.5613144,
            "test": [
             0.8868511544,
             0.9329653887
            ]
           },
           {
            "iteration": 1098,
            "learn": [
             0.9449805256,
             0.712576949
            ],
            "passed_time": 741.4606816,
            "remaining_time": 607.8763186,
            "test": [
             0.8866874079,
             0.9328273075
            ]
           },
           {
            "iteration": 1099,
            "learn": [
             0.9452261483,
             0.7118874374
            ],
            "passed_time": 742.1508754,
            "remaining_time": 607.2143526,
            "test": [
             0.8870967742,
             0.9322070217
            ]
           },
           {
            "iteration": 1100,
            "learn": [
             0.9458577494,
             0.7104869634
            ],
            "passed_time": 742.8355974,
            "remaining_time": 606.5478674,
            "test": [
             0.8870967742,
             0.9310945368
            ]
           },
           {
            "iteration": 1101,
            "learn": [
             0.9457524825,
             0.7099879053
            ],
            "passed_time": 743.5193695,
            "remaining_time": 605.8805751,
            "test": [
             0.8870967742,
             0.9307670437
            ]
           },
           {
            "iteration": 1102,
            "learn": [
             0.9461735499,
             0.7093256699
            ],
            "passed_time": 744.1982575,
            "remaining_time": 605.209281,
            "test": [
             0.8878336335,
             0.9301194134
            ]
           },
           {
            "iteration": 1103,
            "learn": [
             0.9462788168,
             0.7092024473
            ],
            "passed_time": 744.8642133,
            "remaining_time": 604.5274775,
            "test": [
             0.8878336335,
             0.9299921261
            ]
           },
           {
            "iteration": 1104,
            "learn": [
             0.9463139058,
             0.7090612006
            ],
            "passed_time": 745.5276381,
            "remaining_time": 603.8436525,
            "test": [
             0.8879973801,
             0.929887226
            ]
           },
           {
            "iteration": 1105,
            "learn": [
             0.9462437279,
             0.7088536138
            ],
            "passed_time": 746.1860214,
            "remaining_time": 603.1557895,
            "test": [
             0.8879155068,
             0.9296493618
            ]
           },
           {
            "iteration": 1106,
            "learn": [
             0.9463840837,
             0.7086398591
            ],
            "passed_time": 746.8654716,
            "remaining_time": 602.4849739,
            "test": [
             0.8880792533,
             0.9294095787
            ]
           },
           {
            "iteration": 1107,
            "learn": [
             0.9465244395,
             0.7084723642
            ],
            "passed_time": 747.5315338,
            "remaining_time": 601.8033647,
            "test": [
             0.8882429998,
             0.9292664604
            ]
           },
           {
            "iteration": 1108,
            "learn": [
             0.9465595284,
             0.7083413974
            ],
            "passed_time": 748.1958381,
            "remaining_time": 601.1203713,
            "test": [
             0.8884067464,
             0.9291047127
            ]
           },
           {
            "iteration": 1109,
            "learn": [
             0.9465595284,
             0.7082083746
            ],
            "passed_time": 748.8513901,
            "remaining_time": 600.4303939,
            "test": [
             0.8884067464,
             0.928939447
            ]
           },
           {
            "iteration": 1110,
            "learn": [
             0.9464893505,
             0.7080085321
            ],
            "passed_time": 749.5160996,
            "remaining_time": 599.7478061,
            "test": [
             0.8883248731,
             0.9286604063
            ]
           },
           {
            "iteration": 1111,
            "learn": [
             0.9463840837,
             0.7078400092
            ],
            "passed_time": 750.1973023,
            "remaining_time": 599.0784212,
            "test": [
             0.8883248731,
             0.9284689157
            ]
           },
           {
            "iteration": 1112,
            "learn": [
             0.9465595284,
             0.7076842334
            ],
            "passed_time": 750.8541154,
            "remaining_time": 598.389578,
            "test": [
             0.8881611266,
             0.9283135644
            ]
           },
           {
            "iteration": 1113,
            "learn": [
             0.9464542616,
             0.7074811698
            ],
            "passed_time": 751.5314951,
            "remaining_time": 597.7171496,
            "test": [
             0.8881611266,
             0.9280719423
            ]
           },
           {
            "iteration": 1114,
            "learn": [
             0.9465244395,
             0.7073528073
            ],
            "passed_time": 752.184048,
            "remaining_time": 597.0250067,
            "test": [
             0.8882429998,
             0.9279275447
            ]
           },
           {
            "iteration": 1115,
            "learn": [
             0.9464893505,
             0.7071840788
            ],
            "passed_time": 752.8420455,
            "remaining_time": 596.3372475,
            "test": [
             0.8883248731,
             0.9277568422
            ]
           },
           {
            "iteration": 1116,
            "learn": [
             0.9466647953,
             0.7057379617
            ],
            "passed_time": 753.547874,
            "remaining_time": 595.6873525,
            "test": [
             0.8884067464,
             0.9266638661
            ]
           },
           {
            "iteration": 1117,
            "learn": [
             0.9467349732,
             0.7055931513
            ],
            "passed_time": 754.205825,
            "remaining_time": 594.9995864,
            "test": [
             0.8884886196,
             0.9264862076
            ]
           },
           {
            "iteration": 1118,
            "learn": [
             0.9467349732,
             0.7054366217
            ],
            "passed_time": 754.8851182,
            "remaining_time": 594.3286766,
            "test": [
             0.8884886196,
             0.9263444485
            ]
           },
           {
            "iteration": 1119,
            "learn": [
             0.9466647953,
             0.7046532197
            ],
            "passed_time": 755.558989,
            "remaining_time": 593.6534913,
            "test": [
             0.8881611266,
             0.925574488
            ]
           },
           {
            "iteration": 1120,
            "learn": [
             0.9465244395,
             0.7040384092
            ],
            "passed_time": 756.2914407,
            "remaining_time": 593.024243,
            "test": [
             0.8877517603,
             0.9250867665
            ]
           },
           {
            "iteration": 1121,
            "learn": [
             0.946875329,
             0.7033486235
            ],
            "passed_time": 757.0188714,
            "remaining_time": 592.3908815,
            "test": [
             0.8881611266,
             0.9244347387
            ]
           },
           {
            "iteration": 1122,
            "learn": [
             0.9469104179,
             0.7032020997
            ],
            "passed_time": 757.7171582,
            "remaining_time": 591.7345929,
            "test": [
             0.8883248731,
             0.9243056124
            ]
           },
           {
            "iteration": 1123,
            "learn": [
             0.94684024,
             0.7026937212
            ],
            "passed_time": 758.4289279,
            "remaining_time": 591.0887374,
            "test": [
             0.8882429998,
             0.9238314031
            ]
           },
           {
            "iteration": 1124,
            "learn": [
             0.9470156848,
             0.7022336584
            ],
            "passed_time": 759.0982383,
            "remaining_time": 590.4097409,
            "test": [
             0.8885704929,
             0.9234881591
            ]
           },
           {
            "iteration": 1125,
            "learn": [
             0.9471911295,
             0.7020752784
            ],
            "passed_time": 759.7636727,
            "remaining_time": 589.7277531,
            "test": [
             0.8884067464,
             0.9233728649
            ]
           },
           {
            "iteration": 1126,
            "learn": [
             0.9471560406,
             0.7018825633
            ],
            "passed_time": 760.4159682,
            "remaining_time": 589.0356169,
            "test": [
             0.8884886196,
             0.923108216
            ]
           },
           {
            "iteration": 1127,
            "learn": [
             0.9471560406,
             0.7017537896
            ],
            "passed_time": 761.0697116,
            "remaining_time": 588.3446707,
            "test": [
             0.8884886196,
             0.9230549664
            ]
           },
           {
            "iteration": 1128,
            "learn": [
             0.947542019,
             0.7003043829
            ],
            "passed_time": 761.7550721,
            "remaining_time": 587.6781823,
            "test": [
             0.8885704929,
             0.9220086037
            ]
           },
           {
            "iteration": 1129,
            "learn": [
             0.9476121969,
             0.7001499779
            ],
            "passed_time": 762.4265946,
            "remaining_time": 587.0010065,
            "test": [
             0.8886523661,
             0.9217651427
            ]
           },
           {
            "iteration": 1130,
            "learn": [
             0.9471209516,
             0.699760093
            ],
            "passed_time": 763.0748314,
            "remaining_time": 586.3059491,
            "test": [
             0.8885704929,
             0.9212958906
            ]
           },
           {
            "iteration": 1131,
            "learn": [
             0.9469805958,
             0.6991074522
            ],
            "passed_time": 763.7364989,
            "remaining_time": 585.621273,
            "test": [
             0.8881611266,
             0.9207689114
            ]
           },
           {
            "iteration": 1132,
            "learn": [
             0.9470507737,
             0.6989012361
            ],
            "passed_time": 764.3878331,
            "remaining_time": 584.9287302,
            "test": [
             0.8882429998,
             0.9204510929
            ]
           },
           {
            "iteration": 1133,
            "learn": [
             0.9470858627,
             0.6986992691
            ],
            "passed_time": 765.0452639,
            "remaining_time": 584.2409158,
            "test": [
             0.8884067464,
             0.9201686941
            ]
           },
           {
            "iteration": 1134,
            "learn": [
             0.9474718411,
             0.6981777321
            ],
            "passed_time": 765.741348,
            "remaining_time": 583.5826133,
            "test": [
             0.8889798592,
             0.9196950445
            ]
           },
           {
            "iteration": 1135,
            "learn": [
             0.947542019,
             0.6975404428
            ],
            "passed_time": 766.4255476,
            "remaining_time": 582.9152052,
            "test": [
             0.8888161127,
             0.9190878711
            ]
           },
           {
            "iteration": 1136,
            "learn": [
             0.9474718411,
             0.6973760318
            ],
            "passed_time": 767.0840191,
            "remaining_time": 582.2282396,
            "test": [
             0.8887342394,
             0.9188859864
            ]
           },
           {
            "iteration": 1137,
            "learn": [
             0.9476121969,
             0.6968417477
            ],
            "passed_time": 767.7443463,
            "remaining_time": 581.5427298,
            "test": [
             0.8888979859,
             0.9183851523
            ]
           },
           {
            "iteration": 1138,
            "learn": [
             0.9478929085,
             0.6962413977
            ],
            "passed_time": 768.422343,
            "remaining_time": 580.870621,
            "test": [
             0.889225479,
             0.9179956147
            ]
           },
           {
            "iteration": 1139,
            "learn": [
             0.9478929085,
             0.695794836
            ],
            "passed_time": 769.1010428,
            "remaining_time": 580.1990323,
            "test": [
             0.8894710987,
             0.9175656201
            ]
           },
           {
            "iteration": 1140,
            "learn": [
             0.9481385312,
             0.694614833
            ],
            "passed_time": 769.8072887,
            "remaining_time": 579.5481691,
            "test": [
             0.8896348453,
             0.9165282923
            ]
           },
           {
            "iteration": 1141,
            "learn": [
             0.9481736201,
             0.6944343853
            ],
            "passed_time": 770.4695432,
            "remaining_time": 578.8641577,
            "test": [
             0.8897985918,
             0.9163547114
            ]
           },
           {
            "iteration": 1142,
            "learn": [
             0.948243798,
             0.6942965652
            ],
            "passed_time": 771.1329844,
            "remaining_time": 578.1810741,
            "test": [
             0.8896348453,
             0.9162369387
            ]
           },
           {
            "iteration": 1143,
            "learn": [
             0.9482087091,
             0.6941673803
            ],
            "passed_time": 771.7905689,
            "remaining_time": 577.4936425,
            "test": [
             0.8897167185,
             0.916120685
            ]
           },
           {
            "iteration": 1144,
            "learn": [
             0.948980666,
             0.6921619646
            ],
            "passed_time": 772.4925327,
            "remaining_time": 576.8394022,
            "test": [
             0.8906173244,
             0.9145859612
            ]
           },
           {
            "iteration": 1145,
            "learn": [
             0.9488753991,
             0.6912488295
            ],
            "passed_time": 773.1814276,
            "remaining_time": 576.1753396,
            "test": [
             0.8906173244,
             0.9138273542
            ]
           },
           {
            "iteration": 1146,
            "learn": [
             0.9490157549,
             0.6906469717
            ],
            "passed_time": 773.8485732,
            "remaining_time": 575.4950593,
            "test": [
             0.8907810709,
             0.9133417914
            ]
           },
           {
            "iteration": 1147,
            "learn": [
             0.9490508439,
             0.6905299857
            ],
            "passed_time": 774.5351956,
            "remaining_time": 574.8292567,
            "test": [
             0.8906991976,
             0.9131889987
            ]
           },
           {
            "iteration": 1148,
            "learn": [
             0.9491210218,
             0.6903141749
            ],
            "passed_time": 775.1993526,
            "remaining_time": 574.146779,
            "test": [
             0.8907810709,
             0.9129149151
            ]
           },
           {
            "iteration": 1149,
            "learn": [
             0.9492613776,
             0.6901778626
            ],
            "passed_time": 775.8635909,
            "remaining_time": 573.4643932,
            "test": [
             0.8909448174,
             0.9128096152
            ]
           },
           {
            "iteration": 1150,
            "learn": [
             0.9492613776,
             0.6900106418
            ],
            "passed_time": 776.5205353,
            "remaining_time": 572.7766589,
            "test": [
             0.8909448174,
             0.9126023736
            ]
           },
           {
            "iteration": 1151,
            "learn": [
             0.9492964665,
             0.6898923537
            ],
            "passed_time": 777.1716688,
            "remaining_time": 572.0847006,
            "test": [
             0.8908629442,
             0.9124650919
            ]
           },
           {
            "iteration": 1152,
            "learn": [
             0.9496122671,
             0.6893092055
            ],
            "passed_time": 777.8657288,
            "remaining_time": 571.4243472,
            "test": [
             0.8908629442,
             0.9120303801
            ]
           },
           {
            "iteration": 1153,
            "learn": [
             0.9495420892,
             0.6888355732
            ],
            "passed_time": 778.551274,
            "remaining_time": 570.7576931,
            "test": [
             0.8902898313,
             0.911473578
            ]
           },
           {
            "iteration": 1154,
            "learn": [
             0.9493315555,
             0.6882998499
            ],
            "passed_time": 779.2345018,
            "remaining_time": 570.0893109,
            "test": [
             0.8902898313,
             0.911121379
            ]
           },
           {
            "iteration": 1155,
            "learn": [
             0.9494719113,
             0.6881329718
            ],
            "passed_time": 779.8885345,
            "remaining_time": 569.3995875,
            "test": [
             0.8904535779,
             0.9109369243
            ]
           },
           {
            "iteration": 1156,
            "learn": [
             0.9494719113,
             0.687928469
            ],
            "passed_time": 780.5443712,
            "remaining_time": 568.7112402,
            "test": [
             0.8904535779,
             0.9106681178
            ]
           },
           {
            "iteration": 1157,
            "learn": [
             0.9495070002,
             0.6877800263
            ],
            "passed_time": 781.2302758,
            "remaining_time": 568.0448119,
            "test": [
             0.8903717046,
             0.9105532234
            ]
           },
           {
            "iteration": 1158,
            "learn": [
             0.9496122671,
             0.687596289
            ],
            "passed_time": 781.8923968,
            "remaining_time": 567.361092,
            "test": [
             0.8906173244,
             0.9102880148
            ]
           },
           {
            "iteration": 1159,
            "learn": [
             0.9495420892,
             0.6874257101
            ],
            "passed_time": 782.5638528,
            "remaining_time": 566.6841693,
            "test": [
             0.8905354511,
             0.9101436972
            ]
           },
           {
            "iteration": 1160,
            "learn": [
             0.9499982456,
             0.6860535403
            ],
            "passed_time": 783.2403093,
            "remaining_time": 566.0108695,
            "test": [
             0.8909448174,
             0.9090075458
            ]
           },
           {
            "iteration": 1161,
            "learn": [
             0.9503491351,
             0.6848906705
            ],
            "passed_time": 783.9284596,
            "remaining_time": 565.3459976,
            "test": [
             0.8918454233,
             0.9081133363
            ]
           },
           {
            "iteration": 1162,
            "learn": [
             0.950384224,
             0.6847062479
            ],
            "passed_time": 784.6042896,
            "remaining_time": 564.6722188,
            "test": [
             0.89176355,
             0.908005238
            ]
           },
           {
            "iteration": 1163,
            "learn": [
             0.9504544019,
             0.6831816604
            ],
            "passed_time": 785.3184139,
            "remaining_time": 564.0259399,
            "test": [
             0.8915998035,
             0.9067186924
            ]
           },
           {
            "iteration": 1164,
            "learn": [
             0.9505245798,
             0.6825937834
            ],
            "passed_time": 785.982799,
            "remaining_time": 563.3438946,
            "test": [
             0.8921729163,
             0.9062151399
            ]
           },
           {
            "iteration": 1165,
            "learn": [
             0.9508052914,
             0.6820708073
            ],
            "passed_time": 786.6971655,
            "remaining_time": 562.6976296,
            "test": [
             0.8925004094,
             0.905778749
            ]
           },
           {
            "iteration": 1166,
            "learn": [
             0.9507000246,
             0.6813958933
            ],
            "passed_time": 787.3711024,
            "remaining_time": 562.0223893,
            "test": [
             0.8920091698,
             0.9051525465
            ]
           },
           {
            "iteration": 1167,
            "learn": [
             0.9507000246,
             0.681272191
            ],
            "passed_time": 788.0325598,
            "remaining_time": 561.3382618,
            "test": [
             0.8920091698,
             0.9050563614
            ]
           },
           {
            "iteration": 1168,
            "learn": [
             0.9507702025,
             0.6810924972
            ],
            "passed_time": 788.6827487,
            "remaining_time": 560.6461626,
            "test": [
             0.8920910431,
             0.9048971723
            ]
           },
           {
            "iteration": 1169,
            "learn": [
             0.9509807362,
             0.6805176415
            ],
            "passed_time": 789.3519625,
            "remaining_time": 559.9676315,
            "test": [
             0.8925822826,
             0.9044364753
            ]
           },
           {
            "iteration": 1170,
            "learn": [
             0.9510509141,
             0.6803752983
            ],
            "passed_time": 790.0276435,
            "remaining_time": 559.2936947,
            "test": [
             0.8924185361,
             0.9042816037
            ]
           },
           {
            "iteration": 1171,
            "learn": [
             0.9510509141,
             0.6802255534
            ],
            "passed_time": 790.6808289,
            "remaining_time": 558.6038621,
            "test": [
             0.8924185361,
             0.9040905928
            ]
           },
           {
            "iteration": 1172,
            "learn": [
             0.951121092,
             0.6800925992
            ],
            "passed_time": 791.3381036,
            "remaining_time": 557.916975,
            "test": [
             0.8925004094,
             0.9039380399
            ]
           },
           {
            "iteration": 1173,
            "learn": [
             0.9512614478,
             0.679455584
            ],
            "passed_time": 792.0007552,
            "remaining_time": 557.2339215,
            "test": [
             0.8924185361,
             0.9033391817
            ]
           },
           {
            "iteration": 1174,
            "learn": [
             0.9513316257,
             0.6793268788
            ],
            "passed_time": 792.6626882,
            "remaining_time": 556.5503981,
            "test": [
             0.8925004094,
             0.9032443559
            ]
           },
           {
            "iteration": 1175,
            "learn": [
             0.9513316257,
             0.6791941987
            ],
            "passed_time": 793.3599042,
            "remaining_time": 555.8916336,
            "test": [
             0.8925004094,
             0.9030881251
            ]
           },
           {
            "iteration": 1176,
            "learn": [
             0.9511912699,
             0.6789944932
            ],
            "passed_time": 794.0277931,
            "remaining_time": 555.2122971,
            "test": [
             0.8923366628,
             0.9027882962
            ]
           },
           {
            "iteration": 1177,
            "learn": [
             0.9512614478,
             0.6788827157
            ],
            "passed_time": 794.6890662,
            "remaining_time": 554.5283637,
            "test": [
             0.8924185361,
             0.9026785189
            ]
           },
           {
            "iteration": 1178,
            "learn": [
             0.9511912699,
             0.6787300925
            ],
            "passed_time": 795.353105,
            "remaining_time": 553.8463946,
            "test": [
             0.8923366628,
             0.9024568854
            ]
           },
           {
            "iteration": 1179,
            "learn": [
             0.9512614478,
             0.6786045399
            ],
            "passed_time": 796.0212732,
            "remaining_time": 553.1673255,
            "test": [
             0.8924185361,
             0.9023304776
            ]
           },
           {
            "iteration": 1180,
            "learn": [
             0.9511561809,
             0.6784543153
            ],
            "passed_time": 796.7111917,
            "remaining_time": 552.5033582,
            "test": [
             0.8924185361,
             0.9022214198
            ]
           },
           {
            "iteration": 1181,
            "learn": [
             0.9512614478,
             0.6783076544
            ],
            "passed_time": 797.3760176,
            "remaining_time": 551.8219817,
            "test": [
             0.8926641559,
             0.9021058058
            ]
           },
           {
            "iteration": 1182,
            "learn": [
             0.9512614478,
             0.6781709994
            ],
            "passed_time": 798.046417,
            "remaining_time": 551.1444824,
            "test": [
             0.8926641559,
             0.9019532529
            ]
           },
           {
            "iteration": 1183,
            "learn": [
             0.9511912699,
             0.6780109061
            ],
            "passed_time": 798.6986422,
            "remaining_time": 550.4544696,
            "test": [
             0.8925822826,
             0.9017874276
            ]
           },
           {
            "iteration": 1184,
            "learn": [
             0.951121092,
             0.677885559
            ],
            "passed_time": 799.3595842,
            "remaining_time": 549.7705157,
            "test": [
             0.8925004094,
             0.9016830072
            ]
           },
           {
            "iteration": 1185,
            "learn": [
             0.9513667146,
             0.6773078935
            ],
            "passed_time": 800.0789925,
            "remaining_time": 549.1267284,
            "test": [
             0.8931553954,
             0.9011413164
            ]
           },
           {
            "iteration": 1186,
            "learn": [
             0.9514368925,
             0.6771731574
            ],
            "passed_time": 800.7286062,
            "remaining_time": 548.43501,
            "test": [
             0.8932372687,
             0.9009890834
            ]
           },
           {
            "iteration": 1187,
            "learn": [
             0.9515070704,
             0.6765774676
            ],
            "passed_time": 801.4024732,
            "remaining_time": 547.7599396,
            "test": [
             0.893319142,
             0.9004678609
            ]
           },
           {
            "iteration": 1188,
            "learn": [
             0.9515772483,
             0.6764290935
            ],
            "passed_time": 802.0624162,
            "remaining_time": 547.0753739,
            "test": [
             0.8934010152,
             0.9003040344
            ]
           },
           {
            "iteration": 1189,
            "learn": [
             0.9523842942,
             0.6719281132
            ],
            "passed_time": 802.843852,
            "remaining_time": 546.4735463,
            "test": [
             0.893974128,
             0.8968134671
            ]
           },
           {
            "iteration": 1190,
            "learn": [
             0.9523842942,
             0.6717989283
            ],
            "passed_time": 803.5068111,
            "remaining_time": 545.7909406,
            "test": [
             0.893974128,
             0.8966917766
            ]
           },
           {
            "iteration": 1191,
            "learn": [
             0.9523141163,
             0.6716747463
            ],
            "passed_time": 804.172883,
            "remaining_time": 545.1104778,
            "test": [
             0.8938922548,
             0.8966027074
            ]
           },
           {
            "iteration": 1192,
            "learn": [
             0.9523842942,
             0.6715264406
            ],
            "passed_time": 804.8289135,
            "remaining_time": 544.4232466,
            "test": [
             0.893974128,
             0.8963622847
            ]
           },
           {
            "iteration": 1193,
            "learn": [
             0.9523842942,
             0.6713798483
            ],
            "passed_time": 805.5075478,
            "remaining_time": 543.7513263,
            "test": [
             0.893974128,
             0.8961824674
            ]
           },
           {
            "iteration": 1194,
            "learn": [
             0.95252465,
             0.6711864479
            ],
            "passed_time": 806.1674987,
            "remaining_time": 543.0668087,
            "test": [
             0.8941378746,
             0.8959866591
            ]
           },
           {
            "iteration": 1195,
            "learn": [
             0.95252465,
             0.6710250524
            ],
            "passed_time": 806.8320423,
            "remaining_time": 542.3854197,
            "test": [
             0.8941378746,
             0.8958314677
            ]
           },
           {
            "iteration": 1196,
            "learn": [
             0.95252465,
             0.6709223213
            ],
            "passed_time": 807.4891849,
            "remaining_time": 541.699094,
            "test": [
             0.8941378746,
             0.8957497544
            ]
           },
           {
            "iteration": 1197,
            "learn": [
             0.9527000947,
             0.6702817423
            ],
            "passed_time": 808.1728573,
            "remaining_time": 541.0305772,
            "test": [
             0.8944653676,
             0.8952069443
            ]
           },
           {
            "iteration": 1198,
            "learn": [
             0.9527000947,
             0.6701458412
            ],
            "passed_time": 808.8491595,
            "remaining_time": 540.3571116,
            "test": [
             0.8944653676,
             0.8950548711
            ]
           },
           {
            "iteration": 1199,
            "learn": [
             0.9527000947,
             0.6700167934
            ],
            "passed_time": 809.5119588,
            "remaining_time": 539.6746392,
            "test": [
             0.8944653676,
             0.8949160703
            ]
           },
           {
            "iteration": 1200,
            "learn": [
             0.9527702726,
             0.669911595
            ],
            "passed_time": 810.1819759,
            "remaining_time": 538.9970014,
            "test": [
             0.8945472409,
             0.8948320383
            ]
           },
           {
            "iteration": 1201,
            "learn": [
             0.9528053616,
             0.6697772016
            ],
            "passed_time": 810.8358565,
            "remaining_time": 538.3086635,
            "test": [
             0.8944653676,
             0.8946943569
            ]
           },
           {
            "iteration": 1202,
            "learn": [
             0.9527702726,
             0.6695840753
            ],
            "passed_time": 811.500174,
            "remaining_time": 537.6272973,
            "test": [
             0.8945472409,
             0.8945181375
            ]
           },
           {
            "iteration": 1203,
            "learn": [
             0.9526299168,
             0.669439539
            ],
            "passed_time": 812.1791748,
            "remaining_time": 536.955667,
            "test": [
             0.8943834944,
             0.89432105
            ]
           },
           {
            "iteration": 1204,
            "learn": [
             0.9526299168,
             0.6693281727
            ],
            "passed_time": 812.8408341,
            "remaining_time": 536.2725835,
            "test": [
             0.8943834944,
             0.8942049563
            ]
           },
           {
            "iteration": 1205,
            "learn": [
             0.9527000947,
             0.6691842532
            ],
            "passed_time": 813.4926693,
            "remaining_time": 535.5830675,
            "test": [
             0.8944653676,
             0.8939370292
            ]
           },
           {
            "iteration": 1206,
            "learn": [
             0.9538229412,
             0.6658233211
            ],
            "passed_time": 814.2250862,
            "remaining_time": 534.9465562,
            "test": [
             0.8950384804,
             0.891260877
            ]
           },
           {
            "iteration": 1207,
            "learn": [
             0.9541036528,
             0.6627348081
            ],
            "passed_time": 814.9830196,
            "remaining_time": 534.3266155,
            "test": [
             0.8953659735,
             0.8887398362
            ]
           },
           {
            "iteration": 1208,
            "learn": [
             0.9540334749,
             0.6625791009
            ],
            "passed_time": 815.6312844,
            "remaining_time": 533.6346948,
            "test": [
             0.8952841002,
             0.8885361925
            ]
           },
           {
            "iteration": 1209,
            "learn": [
             0.9544545423,
             0.6607734592
            ],
            "passed_time": 816.3407477,
            "remaining_time": 532.9828022,
            "test": [
             0.8957753398,
             0.886993793
            ]
           },
           {
            "iteration": 1210,
            "learn": [
             0.9544545423,
             0.6606218639
            ],
            "passed_time": 816.99961,
            "remaining_time": 532.2978467,
            "test": [
             0.8957753398,
             0.8868287672
            ]
           },
           {
            "iteration": 1211,
            "learn": [
             0.9544194533,
             0.6601253416
            ],
            "passed_time": 817.6899002,
            "remaining_time": 531.6333675,
            "test": [
             0.895857213,
             0.8863289725
            ]
           },
           {
            "iteration": 1212,
            "learn": [
             0.9547703428,
             0.6576811083
            ],
            "passed_time": 818.4156809,
            "remaining_time": 530.9918721,
            "test": [
             0.8960209596,
             0.8846548882
            ]
           },
           {
            "iteration": 1213,
            "learn": [
             0.9548756097,
             0.6574679704
            ],
            "passed_time": 819.0766846,
            "remaining_time": 530.3082983,
            "test": [
             0.8960209596,
             0.884506333
            ]
           },
           {
            "iteration": 1214,
            "learn": [
             0.9549457876,
             0.657270458
            ],
            "passed_time": 819.7280463,
            "remaining_time": 529.618532,
            "test": [
             0.8961028328,
             0.8843285945
            ]
           },
           {
            "iteration": 1215,
            "learn": [
             0.9547001649,
             0.6567472077
            ],
            "passed_time": 820.4075382,
            "remaining_time": 528.9469654,
            "test": [
             0.8959390863,
             0.8838427918
            ]
           },
           {
            "iteration": 1216,
            "learn": [
             0.9549808765,
             0.6563506066
            ],
            "passed_time": 821.0767307,
            "remaining_time": 528.2687594,
            "test": [
             0.8962665793,
             0.8834339852
            ]
           },
           {
            "iteration": 1217,
            "learn": [
             0.9549808765,
             0.6562087431
            ],
            "passed_time": 821.7368039,
            "remaining_time": 527.5847131,
            "test": [
             0.8962665793,
             0.8832727972
            ]
           },
           {
            "iteration": 1218,
            "learn": [
             0.9548756097,
             0.6556417001
            ],
            "passed_time": 822.4155543,
            "remaining_time": 526.9126726,
            "test": [
             0.8965121991,
             0.8827107981
            ]
           },
           {
            "iteration": 1219,
            "learn": [
             0.9549106986,
             0.6551785534
            ],
            "passed_time": 823.091156,
            "remaining_time": 526.2386079,
            "test": [
             0.8964303259,
             0.88239218
            ]
           },
           {
            "iteration": 1220,
            "learn": [
             0.955331766,
             0.6539301543
            ],
            "passed_time": 823.7906992,
            "remaining_time": 525.5798155,
            "test": [
             0.8969215654,
             0.8815253948
            ]
           },
           {
            "iteration": 1221,
            "learn": [
             0.9555072108,
             0.6534987384
            ],
            "passed_time": 824.4756286,
            "remaining_time": 524.9116522,
            "test": [
             0.8970034387,
             0.8810967595
            ]
           },
           {
            "iteration": 1222,
            "learn": [
             0.9554370329,
             0.6529854255
            ],
            "passed_time": 825.1597686,
            "remaining_time": 524.2429601,
            "test": [
             0.8966759456,
             0.8806971476
            ]
           },
           {
            "iteration": 1223,
            "learn": [
             0.9552966771,
             0.6524272919
            ],
            "passed_time": 825.8495356,
            "remaining_time": 523.5778102,
            "test": [
             0.8967578189,
             0.8802143033
            ]
           },
           {
            "iteration": 1224,
            "learn": [
             0.955366855,
             0.6522752854
            ],
            "passed_time": 826.5410463,
            "remaining_time": 522.9137231,
            "test": [
             0.8968396922,
             0.8800217732
            ]
           },
           {
            "iteration": 1225,
            "learn": [
             0.9554019439,
             0.6510033795
            ],
            "passed_time": 827.2485191,
            "remaining_time": 522.2596687,
            "test": [
             0.8967578189,
             0.8790059531
            ]
           },
           {
            "iteration": 1226,
            "learn": [
             0.9554721218,
             0.6504832818
            ],
            "passed_time": 827.9051495,
            "remaining_time": 521.5734968,
            "test": [
             0.8970853119,
             0.878470099
            ]
           },
           {
            "iteration": 1227,
            "learn": [
             0.9554721218,
             0.6503162666
            ],
            "passed_time": 828.5841629,
            "remaining_time": 520.9014444,
            "test": [
             0.8970853119,
             0.8782274375
            ]
           },
           {
            "iteration": 1228,
            "learn": [
             0.9555773887,
             0.6497424389
            ],
            "passed_time": 829.2611286,
            "remaining_time": 520.2280961,
            "test": [
             0.8970853119,
             0.8777565064
            ]
           },
           {
            "iteration": 1229,
            "learn": [
             0.9555773887,
             0.6496373776
            ],
            "passed_time": 829.9254788,
            "remaining_time": 519.5468445,
            "test": [
             0.8970853119,
             0.8776638393
            ]
           },
           {
            "iteration": 1230,
            "learn": [
             0.9557177445,
             0.6495028471
            ],
            "passed_time": 830.592097,
            "remaining_time": 518.867037,
            "test": [
             0.8972490585,
             0.8775238392
            ]
           },
           {
            "iteration": 1231,
            "learn": [
             0.9558581003,
             0.6493719489
            ],
            "passed_time": 831.2529912,
            "remaining_time": 518.1836828,
            "test": [
             0.897412805,
             0.8774046272
            ]
           },
           {
            "iteration": 1232,
            "learn": [
             0.9558581003,
             0.6488343752
            ],
            "passed_time": 831.9398406,
            "remaining_time": 517.5165107,
            "test": [
             0.8979040445,
             0.8768118457
            ]
           },
           {
            "iteration": 1233,
            "learn": [
             0.9558931892,
             0.6483705432
            ],
            "passed_time": 832.6065753,
            "remaining_time": 516.8368206,
            "test": [
             0.8978221713,
             0.8763699379
            ]
           },
           {
            "iteration": 1234,
            "learn": [
             0.956033545,
             0.6482112722
            ],
            "passed_time": 833.2786238,
            "remaining_time": 516.1604431,
            "test": [
             0.8979859178,
             0.8762029932
            ]
           },
           {
            "iteration": 1235,
            "learn": [
             0.9561037229,
             0.6480214355
            ],
            "passed_time": 833.9401845,
            "remaining_time": 515.4775898,
            "test": [
             0.8980677911,
             0.8759585728
            ]
           },
           {
            "iteration": 1236,
            "learn": [
             0.9561739008,
             0.6478639464
            ],
            "passed_time": 834.6101569,
            "remaining_time": 514.7999593,
            "test": [
             0.8981496643,
             0.8757764367
            ]
           },
           {
            "iteration": 1237,
            "learn": [
             0.9561739008,
             0.6474388356
            ],
            "passed_time": 835.3099914,
            "remaining_time": 514.1407217,
            "test": [
             0.8981496643,
             0.8753068648
            ]
           },
           {
            "iteration": 1238,
            "learn": [
             0.9561388119,
             0.6472666804
            ],
            "passed_time": 835.971318,
            "remaining_time": 513.4577667,
            "test": [
             0.8979859178,
             0.8751527928
            ]
           },
           {
            "iteration": 1239,
            "learn": [
             0.9561388119,
             0.6471074095
            ],
            "passed_time": 836.6371915,
            "remaining_time": 512.7776335,
            "test": [
             0.8979859178,
             0.8749694574
            ]
           },
           {
            "iteration": 1240,
            "learn": [
             0.9561388119,
             0.6469305941
            ],
            "passed_time": 837.3004224,
            "remaining_time": 512.095907,
            "test": [
             0.8979859178,
             0.8747585378
            ]
           },
           {
            "iteration": 1241,
            "learn": [
             0.9562089898,
             0.646815664
            ],
            "passed_time": 837.9620667,
            "remaining_time": 511.413242,
            "test": [
             0.8983134108,
             0.8745909535
            ]
           },
           {
            "iteration": 1242,
            "learn": [
             0.9570160357,
             0.6431847115
            ],
            "passed_time": 838.7347846,
            "remaining_time": 510.7982558,
            "test": [
             0.8991321434,
             0.8717595299
            ]
           },
           {
            "iteration": 1243,
            "learn": [
             0.956735324,
             0.6426095132
            ],
            "passed_time": 839.4142623,
            "remaining_time": 510.1263523,
            "test": [
             0.8985590306,
             0.8712874794
            ]
           },
           {
            "iteration": 1244,
            "learn": [
             0.9568055019,
             0.6424954741
            ],
            "passed_time": 840.0747447,
            "remaining_time": 509.4429175,
            "test": [
             0.8986409039,
             0.8711937729
            ]
           },
           {
            "iteration": 1245,
            "learn": [
             0.9569458577,
             0.6422997435
            ],
            "passed_time": 840.7377247,
            "remaining_time": 508.7610308,
            "test": [
             0.8988046504,
             0.8709847722
            ]
           },
           {
            "iteration": 1246,
            "learn": [
             0.9568756798,
             0.6421656928
            ],
            "passed_time": 841.3917356,
            "remaining_time": 508.0737586,
            "test": [
             0.8987227771,
             0.8708188669
            ]
           },
           {
            "iteration": 1247,
            "learn": [
             0.9568405909,
             0.6416131103
            ],
            "passed_time": 842.0807952,
            "remaining_time": 507.4076586,
            "test": [
             0.8983134108,
             0.8704612311
            ]
           },
           {
            "iteration": 1248,
            "learn": [
             0.9568405909,
             0.6414545933
            ],
            "passed_time": 842.7391706,
            "remaining_time": 506.7230721,
            "test": [
             0.8983134108,
             0.8703030814
            ]
           },
           {
            "iteration": 1249,
            "learn": [
             0.9568756798,
             0.6412923754
            ],
            "passed_time": 843.4076038,
            "remaining_time": 506.0445623,
            "test": [
             0.8984771574,
             0.8701352572
            ]
           },
           {
            "iteration": 1250,
            "learn": [
             0.9570862136,
             0.640753431
            ],
            "passed_time": 844.1002294,
            "remaining_time": 505.380553,
            "test": [
             0.8987227771,
             0.8696059593
            ]
           },
           {
            "iteration": 1251,
            "learn": [
             0.9569809467,
             0.6405983406
            ],
            "passed_time": 844.7586902,
            "remaining_time": 504.6960865,
            "test": [
             0.8984771574,
             0.8694961021
            ]
           },
           {
            "iteration": 1252,
            "learn": [
             0.9569809467,
             0.6404494182
            ],
            "passed_time": 845.4231468,
            "remaining_time": 504.0152359,
            "test": [
             0.8984771574,
             0.8693136462
            ]
           },
           {
            "iteration": 1253,
            "learn": [
             0.9569809467,
             0.6403322951
            ],
            "passed_time": 846.0735035,
            "remaining_time": 503.3260236,
            "test": [
             0.8984771574,
             0.8692154623
            ]
           },
           {
            "iteration": 1254,
            "learn": [
             0.9573318362,
             0.6397789588
            ],
            "passed_time": 846.7451897,
            "remaining_time": 502.6495349,
            "test": [
             0.8988865237,
             0.8687034346
            ]
           },
           {
            "iteration": 1255,
            "learn": [
             0.9572967473,
             0.63965416
            ],
            "passed_time": 847.4283458,
            "remaining_time": 501.9798481,
            "test": [
             0.8987227771,
             0.8685900593
            ]
           },
           {
            "iteration": 1256,
            "learn": [
             0.9572967473,
             0.6395051005
            ],
            "passed_time": 848.0850369,
            "remaining_time": 501.2944967,
            "test": [
             0.8987227771,
             0.8684023265
            ]
           },
           {
            "iteration": 1257,
            "learn": [
             0.9572265694,
             0.6393575487
            ],
            "passed_time": 848.7637553,
            "remaining_time": 500.6221832,
            "test": [
             0.8986409039,
             0.8682466553
            ]
           },
           {
            "iteration": 1258,
            "learn": [
             0.9570160357,
             0.6388626026
            ],
            "passed_time": 849.4259613,
            "remaining_time": 499.9401409,
            "test": [
             0.8981496643,
             0.8678173804
            ]
           },
           {
            "iteration": 1259,
            "learn": [
             0.9570862136,
             0.6386805102
            ],
            "passed_time": 850.0862054,
            "remaining_time": 499.2569778,
            "test": [
             0.8982315376,
             0.8676036624
            ]
           },
           {
            "iteration": 1260,
            "learn": [
             0.9568055019,
             0.6380855743
            ],
            "passed_time": 850.7845747,
            "remaining_time": 498.596194,
            "test": [
             0.8981496643,
             0.8671214577
            ]
           },
           {
            "iteration": 1261,
            "learn": [
             0.9568405909,
             0.6375203132
            ],
            "passed_time": 851.458128,
            "remaining_time": 497.9208387,
            "test": [
             0.8980677911,
             0.8665627367
            ]
           },
           {
            "iteration": 1262,
            "learn": [
             0.9568756798,
             0.6374114826
            ],
            "passed_time": 852.1323909,
            "remaining_time": 497.2459003,
            "test": [
             0.8982315376,
             0.8664336903
            ]
           },
           {
            "iteration": 1263,
            "learn": [
             0.9569809467,
             0.6369564913
            ],
            "passed_time": 852.8119787,
            "remaining_time": 496.5740635,
            "test": [
             0.8984771574,
             0.8660100122
            ]
           },
           {
            "iteration": 1264,
            "learn": [
             0.9569809467,
             0.6368364899
            ],
            "passed_time": 853.4796189,
            "remaining_time": 495.8952726,
            "test": [
             0.8984771574,
             0.8659063114
            ]
           },
           {
            "iteration": 1265,
            "learn": [
             0.9569809467,
             0.6366880472
            ],
            "passed_time": 854.1584835,
            "remaining_time": 495.223007,
            "test": [
             0.8984771574,
             0.8657496808
            ]
           },
           {
            "iteration": 1266,
            "learn": [
             0.9573318362,
             0.636153626
            ],
            "passed_time": 854.8389707,
            "remaining_time": 494.5516697,
            "test": [
             0.8986409039,
             0.8652841066
            ]
           },
           {
            "iteration": 1267,
            "learn": [
             0.9572616583,
             0.6360293069
            ],
            "passed_time": 855.505442,
            "remaining_time": 493.8722268,
            "test": [
             0.8985590306,
             0.8651086068
            ]
           },
           {
            "iteration": 1268,
            "learn": [
             0.9572616583,
             0.6358802474
            ],
            "passed_time": 856.1682846,
            "remaining_time": 493.190714,
            "test": [
             0.8985590306,
             0.8650090636
            ]
           },
           {
            "iteration": 1269,
            "learn": [
             0.9575774589,
             0.6346231447
            ],
            "passed_time": 856.8797156,
            "remaining_time": 492.5371594,
            "test": [
             0.8990502702,
             0.8638650767
            ]
           },
           {
            "iteration": 1270,
            "learn": [
             0.9579634373,
             0.6344712753
            ],
            "passed_time": 857.5737017,
            "remaining_time": 491.8735079,
            "test": [
             0.8991321434,
             0.8636535974
            ]
           },
           {
            "iteration": 1271,
            "learn": [
             0.9575774589,
             0.6340419154
            ],
            "passed_time": 858.23484,
            "remaining_time": 491.1910091,
            "test": [
             0.8988046504,
             0.8632192054
            ]
           },
           {
            "iteration": 1272,
            "learn": [
             0.9576827257,
             0.6338892922
            ],
            "passed_time": 858.9055807,
            "remaining_time": 490.5140276,
            "test": [
             0.8990502702,
             0.8630468238
            ]
           },
           {
            "iteration": 1273,
            "learn": [
             0.9581388821,
             0.6334545867
            ],
            "passed_time": 859.5561686,
            "remaining_time": 489.8255717,
            "test": [
             0.8992140167,
             0.862631461
            ]
           },
           {
            "iteration": 1274,
            "learn": [
             0.9581388821,
             0.6333031285
            ],
            "passed_time": 860.218613,
            "remaining_time": 489.1439172,
            "test": [
             0.8992140167,
             0.8624919406
            ]
           },
           {
            "iteration": 1275,
            "learn": [
             0.9581388821,
             0.6331654455
            ],
            "passed_time": 860.9093707,
            "remaining_time": 488.4783577,
            "test": [
             0.8992140167,
             0.8623714494
            ]
           },
           {
            "iteration": 1276,
            "learn": [
             0.95820906,
             0.6330261862
            ],
            "passed_time": 861.5645859,
            "remaining_time": 487.7926356,
            "test": [
             0.89929589,
             0.8622141792
            ]
           },
           {
            "iteration": 1277,
            "learn": [
             0.95820906,
             0.6325342556
            ],
            "passed_time": 862.2479083,
            "remaining_time": 487.1228402,
            "test": [
             0.89929589,
             0.8617727512
            ]
           },
           {
            "iteration": 1278,
            "learn": [
             0.95820906,
             0.6323600444
            ],
            "passed_time": 862.9104517,
            "remaining_time": 486.4413102,
            "test": [
             0.89929589,
             0.8616081252
            ]
           },
           {
            "iteration": 1279,
            "learn": [
             0.95820906,
             0.6322218132
            ],
            "passed_time": 863.5664533,
            "remaining_time": 485.75613,
            "test": [
             0.89929589,
             0.8614585306
            ]
           },
           {
            "iteration": 1280,
            "learn": [
             0.95820906,
             0.6320073731
            ],
            "passed_time": 864.2361413,
            "remaining_time": 485.0786773,
            "test": [
             0.89929589,
             0.8612085133
            ]
           },
           {
            "iteration": 1281,
            "learn": [
             0.9583143268,
             0.6319020377
            ],
            "passed_time": 864.897509,
            "remaining_time": 484.3965768,
            "test": [
             0.89929589,
             0.8611551038
            ]
           },
           {
            "iteration": 1282,
            "learn": [
             0.9582792379,
             0.6317344057
            ],
            "passed_time": 865.5585053,
            "remaining_time": 483.7143011,
            "test": [
             0.8993777632,
             0.8609450637
            ]
           },
           {
            "iteration": 1283,
            "learn": [
             0.9582792379,
             0.6316402412
            ],
            "passed_time": 866.2156919,
            "remaining_time": 483.0299341,
            "test": [
             0.8993777632,
             0.8608715057
            ]
           },
           {
            "iteration": 1284,
            "learn": [
             0.9584897716,
             0.630384235
            ],
            "passed_time": 866.9254924,
            "remaining_time": 482.3748849,
            "test": [
             0.899623383,
             0.8598518478
            ]
           },
           {
            "iteration": 1285,
            "learn": [
             0.9583494158,
             0.6293362952
            ],
            "passed_time": 867.6296438,
            "remaining_time": 481.716614,
            "test": [
             0.8994596365,
             0.8590646971
            ]
           },
           {
            "iteration": 1286,
            "learn": [
             0.9583494158,
             0.6291603708
            ],
            "passed_time": 868.2899907,
            "remaining_time": 481.0340042,
            "test": [
             0.8992140167,
             0.8588955137
            ]
           },
           {
            "iteration": 1287,
            "learn": [
             0.9583845047,
             0.6290122707
            ],
            "passed_time": 868.9443418,
            "remaining_time": 480.3481144,
            "test": [
             0.899623383,
             0.8586937089
            ]
           },
           {
            "iteration": 1288,
            "learn": [
             0.95820906,
             0.6285106084
            ],
            "passed_time": 869.6381899,
            "remaining_time": 479.6840598,
            "test": [
             0.8997871295,
             0.8581617726
            ]
           },
           {
            "iteration": 1289,
            "learn": [
             0.9582792379,
             0.6284017093
            ],
            "passed_time": 870.2984517,
            "remaining_time": 479.0014734,
            "test": [
             0.8998690028,
             0.8580344853
            ]
           },
           {
            "iteration": 1290,
            "learn": [
             0.9584897716,
             0.6278748953
            ],
            "passed_time": 870.9987738,
            "remaining_time": 478.3409222,
            "test": [
             0.9001146226,
             0.8575453245
            ]
           },
           {
            "iteration": 1291,
            "learn": [
             0.9585599495,
             0.6277703823
            ],
            "passed_time": 871.6547363,
            "remaining_time": 477.656001,
            "test": [
             0.9001964958,
             0.8574340281
            ]
           },
           {
            "iteration": 1292,
            "learn": [
             0.9587003053,
             0.6272355499
            ],
            "passed_time": 872.3301531,
            "remaining_time": 476.981762,
            "test": [
             0.9006058621,
             0.8569965978
            ]
           },
           {
            "iteration": 1293,
            "learn": [
             0.9588055721,
             0.6271147261
            ],
            "passed_time": 873.0087976,
            "remaining_time": 476.3092821,
            "test": [
             0.9006058621,
             0.8568833824
            ]
           },
           {
            "iteration": 1294,
            "learn": [
             0.958910839,
             0.6269753297
            ],
            "passed_time": 873.6710903,
            "remaining_time": 475.6278908,
            "test": [
             0.9006058621,
             0.8567974315
            ]
           },
           {
            "iteration": 1295,
            "learn": [
             0.958910839,
             0.6268349739
            ],
            "passed_time": 874.339247,
            "remaining_time": 474.9497144,
            "test": [
             0.9006058621,
             0.8566703041
            ]
           },
           {
            "iteration": 1296,
            "learn": [
             0.958910839,
             0.6267062002
            ],
            "passed_time": 874.9985783,
            "remaining_time": 474.2667699,
            "test": [
             0.9006058621,
             0.8565334222
            ]
           },
           {
            "iteration": 1297,
            "learn": [
             0.9589810169,
             0.6262035784
            ],
            "passed_time": 875.6664312,
            "remaining_time": 473.5884705,
            "test": [
             0.9006877354,
             0.8560425025
            ]
           },
           {
            "iteration": 1298,
            "learn": [
             0.9589810169,
             0.6260967353
            ],
            "passed_time": 876.3391188,
            "remaining_time": 472.9127962,
            "test": [
             0.9006877354,
             0.8559523939
            ]
           },
           {
            "iteration": 1299,
            "learn": [
             0.9590862837,
             0.6259768709
            ],
            "passed_time": 876.9953899,
            "remaining_time": 472.2282869,
            "test": [
             0.9006877354,
             0.855869961
            ]
           },
           {
            "iteration": 1300,
            "learn": [
             0.9590862837,
             0.625828017
            ],
            "passed_time": 877.660722,
            "remaining_time": 471.5486892,
            "test": [
             0.9006877354,
             0.8557575451
            ]
           },
           {
            "iteration": 1301,
            "learn": [
             0.9591564616,
             0.6256761476
            ],
            "passed_time": 878.317506,
            "remaining_time": 470.8645309,
            "test": [
             0.9007696086,
             0.8555442269
            ]
           },
           {
            "iteration": 1302,
            "learn": [
             0.9591564616,
             0.6255367513
            ],
            "passed_time": 878.9749975,
            "remaining_time": 470.180793,
            "test": [
             0.9007696086,
             0.8554034273
            ]
           },
           {
            "iteration": 1303,
            "learn": [
             0.9591564616,
             0.6254362132
            ],
            "passed_time": 879.6493598,
            "remaining_time": 469.5061,
            "test": [
             0.9007696086,
             0.8553102005
            ]
           },
           {
            "iteration": 1304,
            "learn": [
             0.9594371732,
             0.624932769
            ],
            "passed_time": 880.3256672,
            "remaining_time": 468.8324435,
            "test": [
             0.9006058621,
             0.8548582985
            ]
           },
           {
            "iteration": 1305,
            "learn": [
             0.959577529,
             0.6247986497
            ],
            "passed_time": 880.9914579,
            "remaining_time": 468.1531943,
            "test": [
             0.9007696086,
             0.8547442036
            ]
           },
           {
            "iteration": 1306,
            "learn": [
             0.9596477069,
             0.624697769
            ],
            "passed_time": 881.6439,
            "remaining_time": 467.4668881,
            "test": [
             0.9008514819,
             0.8546188352
            ]
           },
           {
            "iteration": 1307,
            "learn": [
             0.9596477069,
             0.6241963808
            ],
            "passed_time": 882.3280261,
            "remaining_time": 466.7973961,
            "test": [
             0.9008514819,
             0.8541738093
            ]
           },
           {
            "iteration": 1308,
            "learn": [
             0.9598582406,
             0.624099612
            ],
            "passed_time": 883.0151182,
            "remaining_time": 466.1294474,
            "test": [
             0.9010971017,
             0.8540285322
            ]
           },
           {
            "iteration": 1309,
            "learn": [
             0.9598582406,
             0.623970153
            ],
            "passed_time": 883.676455,
            "remaining_time": 465.4479038,
            "test": [
             0.9010971017,
             0.8538862934
            ]
           },
           {
            "iteration": 1310,
            "learn": [
             0.9598582406,
             0.6238671478
            ],
            "passed_time": 884.3527243,
            "remaining_time": 464.7742388,
            "test": [
             0.9010971017,
             0.85373454
            ]
           },
           {
            "iteration": 1311,
            "learn": [
             0.9599985964,
             0.622716751
            ],
            "passed_time": 885.0614157,
            "remaining_time": 464.1175716,
            "test": [
             0.9012608482,
             0.8527770866
            ]
           },
           {
            "iteration": 1312,
            "learn": [
             0.9601038633,
             0.6222115935
            ],
            "passed_time": 885.7320395,
            "remaining_time": 463.4409072,
            "test": [
             0.901506468,
             0.8522916038
            ]
           },
           {
            "iteration": 1313,
            "learn": [
             0.9601389522,
             0.6220938536
            ],
            "passed_time": 886.4057642,
            "remaining_time": 462.7658708,
            "test": [
             0.9014245947,
             0.8521784684
            ]
           },
           {
            "iteration": 1314,
            "learn": [
             0.9600687743,
             0.6218967524
            ],
            "passed_time": 887.0590365,
            "remaining_time": 462.0801825,
            "test": [
             0.9013427215,
             0.8519533968
            ]
           },
           {
            "iteration": 1315,
            "learn": [
             0.9601389522,
             0.6216940315
            ],
            "passed_time": 887.7227536,
            "remaining_time": 461.3999723,
            "test": [
             0.9014245947,
             0.8517296046
            ]
           },
           {
            "iteration": 1316,
            "learn": [
             0.9601038633,
             0.6215525791
            ],
            "passed_time": 888.3815731,
            "remaining_time": 460.7172471,
            "test": [
             0.9012608482,
             0.8516466919
            ]
           },
           {
            "iteration": 1317,
            "learn": [
             0.9599635075,
             0.6210526987
            ],
            "passed_time": 889.0441133,
            "remaining_time": 460.0364835,
            "test": [
             0.9008514819,
             0.8511174741
            ]
           },
           {
            "iteration": 1318,
            "learn": [
             0.9599635075,
             0.6209204983
            ],
            "passed_time": 889.737181,
            "remaining_time": 459.3715089,
            "test": [
             0.9008514819,
             0.8509743558
            ]
           },
           {
            "iteration": 1319,
            "learn": [
             0.9599635075,
             0.6207965219
            ],
            "passed_time": 890.3968193,
            "remaining_time": 458.6892705,
            "test": [
             0.9008514819,
             0.8508799297
            ]
           },
           {
            "iteration": 1320,
            "learn": [
             0.9601389522,
             0.6203897779
            ],
            "passed_time": 891.0826715,
            "remaining_time": 458.0205405,
            "test": [
             0.9011789749,
             0.8504313857
            ]
           },
           {
            "iteration": 1321,
            "learn": [
             0.9602091301,
             0.6202749164
            ],
            "passed_time": 891.7415835,
            "remaining_time": 457.3379679,
            "test": [
             0.9012608482,
             0.8502684388
            ]
           },
           {
            "iteration": 1322,
            "learn": [
             0.9599985964,
             0.6198585093
            ],
            "passed_time": 892.4029381,
            "remaining_time": 456.6566811,
            "test": [
             0.9012608482,
             0.8498921736
            ]
           },
           {
            "iteration": 1323,
            "learn": [
             0.9600336854,
             0.6197245271
            ],
            "passed_time": 893.068626,
            "remaining_time": 455.9776368,
            "test": [
             0.9011789749,
             0.8496993237
            ]
           },
           {
            "iteration": 1324,
            "learn": [
             0.9600336854,
             0.6191162272
            ],
            "passed_time": 893.7494443,
            "remaining_time": 455.3063207,
            "test": [
             0.9009333552,
             0.8491177357
            ]
           },
           {
            "iteration": 1325,
            "learn": [
             0.9600687743,
             0.6189901948
            ],
            "passed_time": 894.4168679,
            "remaining_time": 454.6281817,
            "test": [
             0.9010971017,
             0.849001482
            ]
           },
           {
            "iteration": 1326,
            "learn": [
             0.9601740412,
             0.6188699878
            ],
            "passed_time": 895.0694748,
            "remaining_time": 453.9425445,
            "test": [
             0.9013427215,
             0.8488322187
            ]
           },
           {
            "iteration": 1327,
            "learn": [
             0.9602091301,
             0.6187044803
            ],
            "passed_time": 895.7310197,
            "remaining_time": 453.2614798,
            "test": [
             0.9012608482,
             0.8486135435
            ]
           },
           {
            "iteration": 1328,
            "learn": [
             0.960314397,
             0.6186031198
            ],
            "passed_time": 896.4416084,
            "remaining_time": 452.6052063,
            "test": [
             0.901506468,
             0.8485084835
            ]
           },
           {
            "iteration": 1329,
            "learn": [
             0.960314397,
             0.6184675614
            ],
            "passed_time": 897.1035821,
            "remaining_time": 451.9243609,
            "test": [
             0.901506468,
             0.8483119557
            ]
           },
           {
            "iteration": 1330,
            "learn": [
             0.9604196638,
             0.6183323455
            ],
            "passed_time": 897.7792298,
            "remaining_time": 451.2504168,
            "test": [
             0.901506468,
             0.8481220641
            ]
           },
           {
            "iteration": 1331,
            "learn": [
             0.9604196638,
             0.6182177582
            ],
            "passed_time": 898.4661708,
            "remaining_time": 450.5821337,
            "test": [
             0.901506468,
             0.8480091685
            ]
           },
           {
            "iteration": 1332,
            "learn": [
             0.9604196638,
             0.6181342163
            ],
            "passed_time": 899.1259739,
            "remaining_time": 449.9002435,
            "test": [
             0.901506468,
             0.8479362502
            ]
           },
           {
            "iteration": 1333,
            "learn": [
             0.9604196638,
             0.6179768643
            ],
            "passed_time": 899.7909432,
            "remaining_time": 449.2209656,
            "test": [
             0.901506468,
             0.8477944911
            ]
           },
           {
            "iteration": 1334,
            "learn": [
             0.9603494859,
             0.6178611804
            ],
            "passed_time": 900.4663757,
            "remaining_time": 448.5469212,
            "test": [
             0.9014245947,
             0.8476501735
            ]
           },
           {
            "iteration": 1335,
            "learn": [
             0.9603494859,
             0.6172604192
            ],
            "passed_time": 901.1330633,
            "remaining_time": 447.8685285,
            "test": [
             0.9016702145,
             0.8471370264
            ]
           },
           {
            "iteration": 1336,
            "learn": [
             0.9604196638,
             0.6171849643
            ],
            "passed_time": 901.8314464,
            "remaining_time": 447.2058706,
            "test": [
             0.9017520878,
             0.8470876146
            ]
           },
           {
            "iteration": 1337,
            "learn": [
             0.9603845749,
             0.6167058493
            ],
            "passed_time": 902.5039839,
            "remaining_time": 446.5303717,
            "test": [
             0.901833961,
             0.8465493619
            ]
           },
           {
            "iteration": 1338,
            "learn": [
             0.9603494859,
             0.6165826268
            ],
            "passed_time": 903.1769752,
            "remaining_time": 445.8551013,
            "test": [
             0.9016702145,
             0.8464056839
            ]
           },
           {
            "iteration": 1339,
            "learn": [
             0.9604547528,
             0.6164769488
            ],
            "passed_time": 903.8384073,
            "remaining_time": 445.1741409,
            "test": [
             0.9019158343,
             0.8462874314
            ]
           },
           {
            "iteration": 1340,
            "learn": [
             0.9606301976,
             0.6163676384
            ],
            "passed_time": 904.507553,
            "remaining_time": 444.4970003,
            "test": [
             0.9019977075,
             0.8462136336
            ]
           },
           {
            "iteration": 1341,
            "learn": [
             0.9605600196,
             0.6162526399
            ],
            "passed_time": 905.1941704,
            "remaining_time": 443.8284382,
            "test": [
             0.9019158343,
             0.8461349585
            ]
           },
           {
            "iteration": 1342,
            "learn": [
             0.9605600196,
             0.6161205766
            ],
            "passed_time": 905.8574347,
            "remaining_time": 443.1484249,
            "test": [
             0.9019158343,
             0.84592204
            ]
           },
           {
            "iteration": 1343,
            "learn": [
             0.9604547528,
             0.6155393473
            ],
            "passed_time": 906.5499739,
            "remaining_time": 442.4827254,
            "test": [
             0.9014245947,
             0.8453908233
            ]
           },
           {
            "iteration": 1344,
            "learn": [
             0.9607003755,
             0.6153857646
            ],
            "passed_time": 907.2054914,
            "remaining_time": 441.7989568,
            "test": [
             0.901833961,
             0.8452454663
            ]
           },
           {
            "iteration": 1345,
            "learn": [
             0.9602091301,
             0.614832771
            ],
            "passed_time": 907.8773349,
            "remaining_time": 441.1231627,
            "test": [
             0.9017520878,
             0.8447403946
            ]
           },
           {
            "iteration": 1346,
            "learn": [
             0.9602091301,
             0.6146816555
            ],
            "passed_time": 908.5714312,
            "remaining_time": 440.4581623,
            "test": [
             0.9017520878,
             0.8445535413
            ]
           },
           {
            "iteration": 1347,
            "learn": [
             0.960279308,
             0.6145240979
            ],
            "passed_time": 909.2196048,
            "remaining_time": 439.7709068,
            "test": [
             0.901833961,
             0.8443722048
            ]
           },
           {
            "iteration": 1348,
            "learn": [
             0.9603845749,
             0.614352491
            ],
            "passed_time": 909.9108208,
            "remaining_time": 439.1044806,
            "test": [
             0.9015883412,
             0.8441189094
            ]
           },
           {
            "iteration": 1349,
            "learn": [
             0.9603845749,
             0.6142264586
            ],
            "passed_time": 910.5738659,
            "remaining_time": 438.4244539,
            "test": [
             0.9015883412,
             0.8439546832
            ]
           },
           {
            "iteration": 1350,
            "learn": [
             0.9603845749,
             0.6141221512
            ],
            "passed_time": 911.2282128,
            "remaining_time": 437.7402739,
            "test": [
             0.9015883412,
             0.8438231582
            ]
           },
           {
            "iteration": 1351,
            "learn": [
             0.9606652865,
             0.6135276951
            ],
            "passed_time": 911.9133288,
            "remaining_time": 437.0708854,
            "test": [
             0.9019158343,
             0.8431871213
            ]
           },
           {
            "iteration": 1352,
            "learn": [
             0.9606301976,
             0.6124246547
            ],
            "passed_time": 912.6194818,
            "remaining_time": 436.4115334,
            "test": [
             0.9024889471,
             0.8421609871
            ]
           },
           {
            "iteration": 1353,
            "learn": [
             0.9606301976,
             0.6123105471
            ],
            "passed_time": 913.2804602,
            "remaining_time": 435.7305593,
            "test": [
             0.9024889471,
             0.8420580859
            ]
           },
           {
            "iteration": 1354,
            "learn": [
             0.9606652865,
             0.6122010312
            ],
            "passed_time": 913.9593355,
            "remaining_time": 435.0581339,
            "test": [
             0.9026526936,
             0.8419844479
            ]
           },
           {
            "iteration": 1355,
            "learn": [
             0.9605951086,
             0.6120944622
            ],
            "passed_time": 914.6115926,
            "remaining_time": 434.3730573,
            "test": [
             0.9023252006,
             0.8418941795
            ]
           },
           {
            "iteration": 1356,
            "learn": [
             0.9606652865,
             0.6119587666
            ],
            "passed_time": 915.2875499,
            "remaining_time": 433.6992591,
            "test": [
             0.9026526936,
             0.8417656928
            ]
           },
           {
            "iteration": 1357,
            "learn": [
             0.9607705534,
             0.6114362702
            ],
            "passed_time": 915.9765197,
            "remaining_time": 433.0316094,
            "test": [
             0.9024070738,
             0.8412428713
            ]
           },
           {
            "iteration": 1358,
            "learn": [
             0.9609459981,
             0.6103622879
            ],
            "passed_time": 916.6654461,
            "remaining_time": 432.363908,
            "test": [
             0.9029801867,
             0.8402792614
            ]
           },
           {
            "iteration": 1359,
            "learn": [
             0.9609810871,
             0.6102433145
            ],
            "passed_time": 917.3482251,
            "remaining_time": 431.6932824,
            "test": [
             0.9028983134,
             0.8401640471
            ]
           },
           {
            "iteration": 1360,
            "learn": [
             0.9610863539,
             0.6101160485
            ],
            "passed_time": 918.0021428,
            "remaining_time": 431.0090883,
            "test": [
             0.9028983134,
             0.8399869483
            ]
           },
           {
            "iteration": 1361,
            "learn": [
             0.961016176,
             0.6100163328
            ],
            "passed_time": 918.6706677,
            "remaining_time": 430.3317812,
            "test": [
             0.9030620599,
             0.8399169082
            ]
           },
           {
            "iteration": 1362,
            "learn": [
             0.9609810871,
             0.6099453325
            ],
            "passed_time": 919.3331868,
            "remaining_time": 429.6516801,
            "test": [
             0.9028983134,
             0.839806891
            ]
           },
           {
            "iteration": 1363,
            "learn": [
             0.9609810871,
             0.6098269073
            ],
            "passed_time": 919.9960955,
            "remaining_time": 428.9717865,
            "test": [
             0.9028983134,
             0.83968616
            ]
           },
           {
            "iteration": 1364,
            "learn": [
             0.961051265,
             0.6096922397
            ],
            "passed_time": 920.6788562,
            "remaining_time": 428.3011529,
            "test": [
             0.9029801867,
             0.8395132187
            ]
           },
           {
            "iteration": 1365,
            "learn": [
             0.9614723324,
             0.6085700787
            ],
            "passed_time": 921.3887649,
            "remaining_time": 427.6431017,
            "test": [
             0.9039626658,
             0.8386790549
            ]
           },
           {
            "iteration": 1366,
            "learn": [
             0.9614723324,
             0.6084774904
            ],
            "passed_time": 922.0463253,
            "remaining_time": 426.9607344,
            "test": [
             0.9039626658,
             0.8385830297
            ]
           },
           {
            "iteration": 1367,
            "learn": [
             0.9614723324,
             0.6083754446
            ],
            "passed_time": 922.6954823,
            "remaining_time": 426.2745211,
            "test": [
             0.9039626658,
             0.8384431896
            ]
           },
           {
            "iteration": 1368,
            "learn": [
             0.9615425103,
             0.6082681218
            ],
            "passed_time": 923.3574837,
            "remaining_time": 425.5942821,
            "test": [
             0.9040445391,
             0.838309346
            ]
           },
           {
            "iteration": 1369,
            "learn": [
             0.9616828661,
             0.6070063588
            ],
            "passed_time": 924.0812278,
            "remaining_time": 424.9424624,
            "test": [
             0.9039626658,
             0.8370862842
            ]
           },
           {
            "iteration": 1370,
            "learn": [
             0.9615775992,
             0.6069141132
            ],
            "passed_time": 924.7484523,
            "remaining_time": 424.2646072,
            "test": [
             0.9039626658,
             0.8369811442
            ]
           },
           {
            "iteration": 1371,
            "learn": [
             0.9615775992,
             0.6067781435
            ],
            "passed_time": 925.4249786,
            "remaining_time": 423.5910252,
            "test": [
             0.9039626658,
             0.8368942338
            ]
           },
           {
            "iteration": 1372,
            "learn": [
             0.9616828661,
             0.6062798393
            ],
            "passed_time": 926.0789523,
            "remaining_time": 422.9071399,
            "test": [
             0.9044539054,
             0.8363890022
            ]
           },
           {
            "iteration": 1373,
            "learn": [
             0.9616126882,
             0.6061286553
            ],
            "passed_time": 926.743353,
            "remaining_time": 422.2280488,
            "test": [
             0.9043720321,
             0.8362091849
            ]
           },
           {
            "iteration": 1374,
            "learn": [
             0.9616828661,
             0.60603079
            ],
            "passed_time": 927.4160229,
            "remaining_time": 421.5527377,
            "test": [
             0.9044539054,
             0.8360660666
            ]
           },
           {
            "iteration": 1375,
            "learn": [
             0.9616477771,
             0.6059227133
            ],
            "passed_time": 928.0647782,
            "remaining_time": 420.8665855,
            "test": [
             0.9042901588,
             0.8359387793
            ]
           },
           {
            "iteration": 1376,
            "learn": [
             0.961753044,
             0.6057604954
            ],
            "passed_time": 928.7436826,
            "remaining_time": 420.194128,
            "test": [
             0.9045357786,
             0.8357476084
            ]
           },
           {
            "iteration": 1377,
            "learn": [
             0.961753044,
             0.6052139439
            ],
            "passed_time": 929.4138548,
            "remaining_time": 419.5177196,
            "test": [
             0.9042901588,
             0.8352022397
            ]
           },
           {
            "iteration": 1378,
            "learn": [
             0.961753044,
             0.6050662551
            ],
            "passed_time": 930.0740302,
            "remaining_time": 418.8368185,
            "test": [
             0.9042901588,
             0.8350328964
            ]
           },
           {
            "iteration": 1379,
            "learn": [
             0.9617881329,
             0.6049317931
            ],
            "passed_time": 930.7413813,
            "remaining_time": 418.1591713,
            "test": [
             0.9044539054,
             0.8348753863
            ]
           },
           {
            "iteration": 1380,
            "learn": [
             0.9618933998,
             0.6047680675
            ],
            "passed_time": 931.3994367,
            "remaining_time": 417.4773724,
            "test": [
             0.9044539054,
             0.8346644667
            ]
           },
           {
            "iteration": 1381,
            "learn": [
             0.9620337556,
             0.6041522976
            ],
            "passed_time": 932.0889836,
            "remaining_time": 416.8096902,
            "test": [
             0.9048632717,
             0.834040343
            ]
           },
           {
            "iteration": 1382,
            "learn": [
             0.9620337556,
             0.6040508686
            ],
            "passed_time": 932.7513957,
            "remaining_time": 416.1298707,
            "test": [
             0.9048632717,
             0.8339398404
            ]
           },
           {
            "iteration": 1383,
            "learn": [
             0.9619986666,
             0.603953346
            ],
            "passed_time": 933.4073152,
            "remaining_time": 415.4471865,
            "test": [
             0.9046995251,
             0.8338796348
            ]
           },
           {
            "iteration": 1384,
            "learn": [
             0.9620337556,
             0.603868639
            ],
            "passed_time": 934.091451,
            "remaining_time": 414.7770703,
            "test": [
             0.9046176519,
             0.8338263052
            ]
           },
           {
            "iteration": 1385,
            "learn": [
             0.9620688445,
             0.6037679639
            ],
            "passed_time": 934.7683222,
            "remaining_time": 414.1037156,
            "test": [
             0.9047813984,
             0.8337512281
            ]
           },
           {
            "iteration": 1386,
            "learn": [
             0.9620688445,
             0.6036721546
            ],
            "passed_time": 935.4381043,
            "remaining_time": 413.4272227,
            "test": [
             0.9047813984,
             0.8336613594
            ]
           },
           {
            "iteration": 1387,
            "learn": [
             0.9621039335,
             0.6035663395
            ],
            "passed_time": 936.093156,
            "remaining_time": 412.7442446,
            "test": [
             0.9049451449,
             0.8334827414
            ]
           },
           {
            "iteration": 1388,
            "learn": [
             0.9622092003,
             0.6029833284
            ],
            "passed_time": 936.7814128,
            "remaining_time": 412.0759131,
            "test": [
             0.9049451449,
             0.8330675384
            ]
           },
           {
            "iteration": 1389,
            "learn": [
             0.9625600898,
             0.6017282816
            ],
            "passed_time": 937.5197579,
            "remaining_time": 411.429534,
            "test": [
             0.9046176519,
             0.832001427
            ]
           },
           {
            "iteration": 1390,
            "learn": [
             0.9625600898,
             0.6015990967
            ],
            "passed_time": 938.1781868,
            "remaining_time": 410.7480343,
            "test": [
             0.9046176519,
             0.8318388798
            ]
           },
           {
            "iteration": 1391,
            "learn": [
             0.9625951788,
             0.6014520246
            ],
            "passed_time": 938.8529716,
            "remaining_time": 410.0737117,
            "test": [
             0.9050270182,
             0.8316796107
            ]
           },
           {
            "iteration": 1392,
            "learn": [
             0.9626653567,
             0.6013370261
            ],
            "passed_time": 939.5156758,
            "remaining_time": 409.3941243,
            "test": [
             0.9051088914,
             0.8315123462
            ]
           },
           {
            "iteration": 1393,
            "learn": [
             0.9627004456,
             0.6012016047
            ],
            "passed_time": 940.1750322,
            "remaining_time": 408.7131058,
            "test": [
             0.905272638,
             0.8312724032
            ]
           },
           {
            "iteration": 1394,
            "learn": [
             0.9627355346,
             0.6010669371
            ],
            "passed_time": 940.8570319,
            "remaining_time": 408.0419386,
            "test": [
             0.9054363845,
             0.8311200902
            ]
           },
           {
            "iteration": 1395,
            "learn": [
             0.9627355346,
             0.6005929621
            ],
            "passed_time": 941.5158754,
            "remaining_time": 407.3607369,
            "test": [
             0.9046995251,
             0.8306166176
            ]
           },
           {
            "iteration": 1396,
            "learn": [
             0.9629460683,
             0.5995036284
            ],
            "passed_time": 942.2079881,
            "remaining_time": 406.6939276,
            "test": [
             0.9056820043,
             0.829617348
            ]
           },
           {
            "iteration": 1397,
            "learn": [
             0.9629460683,
             0.5994007602
            ],
            "passed_time": 942.8687735,
            "remaining_time": 406.013592,
            "test": [
             0.9056820043,
             0.8294809459
            ]
           },
           {
            "iteration": 1398,
            "learn": [
             0.963156602,
             0.598238987
            ],
            "passed_time": 943.5819526,
            "remaining_time": 405.3557924,
            "test": [
             0.9061732438,
             0.8284160339
            ]
           },
           {
            "iteration": 1399,
            "learn": [
             0.9632618688,
             0.5981282375
            ],
            "passed_time": 944.259821,
            "remaining_time": 404.6827804,
            "test": [
             0.9064188636,
             0.8283109738
            ]
           },
           {
            "iteration": 1400,
            "learn": [
             0.9633320467,
             0.5980523714
            ],
            "passed_time": 944.9176099,
            "remaining_time": 404.0011765,
            "test": [
             0.9065007369,
             0.8282481297
            ]
           },
           {
            "iteration": 1401,
            "learn": [
             0.9632969578,
             0.5979680756
            ],
            "passed_time": 945.6067955,
            "remaining_time": 403.3329984,
            "test": [
             0.9063369903,
             0.828180968
            ]
           },
           {
            "iteration": 1402,
            "learn": [
             0.9632618688,
             0.5978293646
            ],
            "passed_time": 946.2746704,
            "remaining_time": 402.6557222,
            "test": [
             0.9064188636,
             0.8280780668
            ]
           },
           {
            "iteration": 1403,
            "learn": [
             0.9633320467,
             0.5977258111
            ],
            "passed_time": 946.942582,
            "remaining_time": 401.978475,
            "test": [
             0.9065007369,
             0.8279698886
            ]
           },
           {
            "iteration": 1404,
            "learn": [
             0.9635776694,
             0.5964461609
            ],
            "passed_time": 947.654424,
            "remaining_time": 401.319845,
            "test": [
             0.905927624,
             0.8268670781
            ]
           },
           {
            "iteration": 1405,
            "learn": [
             0.9636478473,
             0.5963415794
            ],
            "passed_time": 948.3113189,
            "remaining_time": 400.6379256,
            "test": [
             0.9060094973,
             0.8268055133
            ]
           },
           {
            "iteration": 1406,
            "learn": [
             0.9637180252,
             0.5962497451
            ],
            "passed_time": 948.9935683,
            "remaining_time": 399.9667278,
            "test": [
             0.9060913706,
             0.8266958159
            ]
           },
           {
            "iteration": 1407,
            "learn": [
             0.9637180252,
             0.5961577051
            ],
            "passed_time": 949.6411605,
            "remaining_time": 399.2809425,
            "test": [
             0.9060913706,
             0.8266084258
            ]
           },
           {
            "iteration": 1408,
            "learn": [
             0.963823292,
             0.5960767675
            ],
            "passed_time": 950.2963238,
            "remaining_time": 398.5983871,
            "test": [
             0.9060913706,
             0.8265086427
            ]
           },
           {
            "iteration": 1409,
            "learn": [
             0.963823292,
             0.5959878801
            ],
            "passed_time": 950.9502062,
            "remaining_time": 397.9153345,
            "test": [
             0.9060913706,
             0.8264050219
            ]
           },
           {
            "iteration": 1410,
            "learn": [
             0.9639987368,
             0.5948714072
            ],
            "passed_time": 951.648997,
            "remaining_time": 397.2510696,
            "test": [
             0.9066644834,
             0.8253912007
            ]
           },
           {
            "iteration": 1411,
            "learn": [
             0.9642092705,
             0.5943850278
            ],
            "passed_time": 952.3455662,
            "remaining_time": 396.5858307,
            "test": [
             0.9066644834,
             0.8249904694
            ]
           },
           {
            "iteration": 1412,
            "learn": [
             0.9642794484,
             0.5942685215
            ],
            "passed_time": 953.022417,
            "remaining_time": 395.9123558,
            "test": [
             0.9067463566,
             0.8248890873
            ]
           },
           {
            "iteration": 1413,
            "learn": [
             0.9642794484,
             0.5941954652
            ],
            "passed_time": 953.6985135,
            "remaining_time": 395.2385636,
            "test": [
             0.9067463566,
             0.82481433
            ]
           },
           {
            "iteration": 1414,
            "learn": [
             0.9641040036,
             0.5937347857
            ],
            "passed_time": 954.3868334,
            "remaining_time": 394.5698216,
            "test": [
             0.9064188636,
             0.82444654
            ]
           },
           {
            "iteration": 1415,
            "learn": [
             0.9639987368,
             0.5935800379
            ],
            "passed_time": 955.0395097,
            "remaining_time": 393.8863515,
            "test": [
             0.9064188636,
             0.8242927877
            ]
           },
           {
            "iteration": 1416,
            "learn": [
             0.9641390926,
             0.5931615062
            ],
            "passed_time": 955.711868,
            "remaining_time": 393.2110226,
            "test": [
             0.9063369903,
             0.8238436042
            ]
           },
           {
            "iteration": 1417,
            "learn": [
             0.9641741816,
             0.5926354461
            ],
            "passed_time": 956.3906959,
            "remaining_time": 392.5383533,
            "test": [
             0.9065007369,
             0.8233881042
            ]
           },
           {
            "iteration": 1418,
            "learn": [
             0.9641741816,
             0.5925376493
            ],
            "passed_time": 957.0679843,
            "remaining_time": 391.865045,
            "test": [
             0.9065007369,
             0.8232769676
            ]
           },
           {
            "iteration": 1419,
            "learn": [
             0.9641741816,
             0.5924150436
            ],
            "passed_time": 957.7451453,
            "remaining_time": 391.1916791,
            "test": [
             0.9065007369,
             0.8231175387
            ]
           },
           {
            "iteration": 1420,
            "learn": [
             0.9642794484,
             0.5923290346
            ],
            "passed_time": 958.4036954,
            "remaining_time": 390.5107246,
            "test": [
             0.9065007369,
             0.8230150372
            ]
           },
           {
            "iteration": 1421,
            "learn": [
             0.9641390926,
             0.5918959739
            ],
            "passed_time": 959.100111,
            "remaining_time": 389.8451928,
            "test": [
             0.9065826101,
             0.8226360535
            ]
           },
           {
            "iteration": 1422,
            "learn": [
             0.9641390926,
             0.5918059214
            ],
            "passed_time": 959.7574935,
            "remaining_time": 389.1637904,
            "test": [
             0.9065826101,
             0.8225273156
            ]
           },
           {
            "iteration": 1423,
            "learn": [
             0.9641390926,
             0.5917356749
            ],
            "passed_time": 960.4198206,
            "remaining_time": 388.4844218,
            "test": [
             0.9065826101,
             0.8224290517
            ]
           },
           {
            "iteration": 1424,
            "learn": [
             0.9641390926,
             0.5915996367
            ],
            "passed_time": 961.0955245,
            "remaining_time": 387.8104748,
            "test": [
             0.9065826101,
             0.822281376
            ]
           },
           {
            "iteration": 1425,
            "learn": [
             0.9643847153,
             0.5911216868
            ],
            "passed_time": 961.7463852,
            "remaining_time": 387.1265253,
            "test": [
             0.9067463566,
             0.8217998909
            ]
           },
           {
            "iteration": 1426,
            "learn": [
             0.9643145374,
             0.5907599691
            ],
            "passed_time": 962.4252925,
            "remaining_time": 386.4538841,
            "test": [
             0.9066644834,
             0.8214391368
            ]
           },
           {
            "iteration": 1427,
            "learn": [
             0.96456016,
             0.5896938681
            ],
            "passed_time": 963.1300443,
            "remaining_time": 385.7915864,
            "test": [
             0.9070738497,
             0.8205912209
            ]
           },
           {
            "iteration": 1428,
            "learn": [
             0.96456016,
             0.5895825703
            ],
            "passed_time": 963.7819791,
            "remaining_time": 385.1081246,
            "test": [
             0.9073194695,
             0.820431552
            ]
           },
           {
            "iteration": 1429,
            "learn": [
             0.9644899821,
             0.5891743871
            ],
            "passed_time": 964.4686135,
            "remaining_time": 384.4385382,
            "test": [
             0.9072375962,
             0.8200361777
            ]
           },
           {
            "iteration": 1430,
            "learn": [
             0.9644899821,
             0.5890971503
            ],
            "passed_time": 965.1312218,
            "remaining_time": 383.7593747,
            "test": [
             0.9072375962,
             0.8199704553
            ]
           },
           {
            "iteration": 1431,
            "learn": [
             0.9643847153,
             0.588368849
            ],
            "passed_time": 965.8145852,
            "remaining_time": 383.0884667,
            "test": [
             0.9072375962,
             0.8190891984
            ]
           },
           {
            "iteration": 1432,
            "learn": [
             0.9643847153,
             0.5882559065
            ],
            "passed_time": 966.4736557,
            "remaining_time": 382.4079294,
            "test": [
             0.9072375962,
             0.8188732416
            ]
           },
           {
            "iteration": 1433,
            "learn": [
             0.9643496263,
             0.5881378239
            ],
            "passed_time": 967.1318961,
            "remaining_time": 381.7270943,
            "test": [
             0.9070738497,
             0.8187875306
            ]
           },
           {
            "iteration": 1434,
            "learn": [
             0.9643496263,
             0.5880411237
            ],
            "passed_time": 967.8018408,
            "remaining_time": 381.050899,
            "test": [
             0.9070738497,
             0.8186334585
            ]
           },
           {
            "iteration": 1435,
            "learn": [
             0.9643847153,
             0.5879179012
            ],
            "passed_time": 968.4670745,
            "remaining_time": 380.3728621,
            "test": [
             0.9072375962,
             0.8185337554
            ]
           },
           {
            "iteration": 1436,
            "learn": [
             0.9643847153,
             0.5877817259
            ],
            "passed_time": 969.1377241,
            "remaining_time": 379.696965,
            "test": [
             0.9072375962,
             0.8183484213
            ]
           },
           {
            "iteration": 1437,
            "learn": [
             0.9643847153,
             0.5877024331
            ],
            "passed_time": 969.7930297,
            "remaining_time": 379.0150784,
            "test": [
             0.9072375962,
             0.8182603116
            ]
           },
           {
            "iteration": 1438,
            "learn": [
             0.9643847153,
             0.5875787308
            ],
            "passed_time": 970.492898,
            "remaining_time": 378.3506016,
            "test": [
             0.9072375962,
             0.818124629
            ]
           },
           {
            "iteration": 1439,
            "learn": [
             0.9645250711,
             0.5874870335
            ],
            "passed_time": 971.219388,
            "remaining_time": 377.6964287,
            "test": [
             0.9074013427,
             0.8180091749
            ]
           },
           {
            "iteration": 1440,
            "learn": [
             0.9645250711,
             0.5873716238
            ],
            "passed_time": 971.9225508,
            "remaining_time": 377.0331061,
            "test": [
             0.9074013427,
             0.8178557425
            ]
           },
           {
            "iteration": 1441,
            "learn": [
             0.9645250711,
             0.5872888358
            ],
            "passed_time": 972.6521146,
            "remaining_time": 376.3799445,
            "test": [
             0.9074013427,
             0.8177791462
            ]
           },
           {
            "iteration": 1442,
            "learn": [
             0.9644899821,
             0.5860204936
            ],
            "passed_time": 973.3831994,
            "remaining_time": 375.7272641,
            "test": [
             0.9072375962,
             0.8166492313
            ]
           },
           {
            "iteration": 1443,
            "learn": [
             0.9645250711,
             0.58590947
            ],
            "passed_time": 974.0469956,
            "remaining_time": 375.0485662,
            "test": [
             0.9071557229,
             0.8165581633
            ]
           },
           {
            "iteration": 1444,
            "learn": [
             0.9645250711,
             0.585823735
            ],
            "passed_time": 974.7230253,
            "remaining_time": 374.3745876,
            "test": [
             0.9071557229,
             0.8164159245
            ]
           },
           {
            "iteration": 1445,
            "learn": [
             0.9645250711,
             0.5857138079
            ],
            "passed_time": 975.3846114,
            "remaining_time": 373.6950724,
            "test": [
             0.9071557229,
             0.816281841
            ]
           },
           {
            "iteration": 1446,
            "learn": [
             0.964595249,
             0.5852527172
            ],
            "passed_time": 976.0627592,
            "remaining_time": 373.0219114,
            "test": [
             0.907483216,
             0.8158375347
            ]
           },
           {
            "iteration": 1447,
            "learn": [
             0.9648408716,
             0.5851312765
            ],
            "passed_time": 976.7118126,
            "remaining_time": 372.3376523,
            "test": [
             0.9076469625,
             0.8156941765
            ]
           },
           {
            "iteration": 1448,
            "learn": [
             0.9647356048,
             0.5841324065
            ],
            "passed_time": 977.4203028,
            "remaining_time": 371.6760434,
            "test": [
             0.9074013427,
             0.8149195787
            ]
           },
           {
            "iteration": 1449,
            "learn": [
             0.9648057827,
             0.5840125421
            ],
            "passed_time": 978.0833555,
            "remaining_time": 370.9971349,
            "test": [
             0.907483216,
             0.8147757408
            ]
           },
           {
            "iteration": 1450,
            "learn": [
             0.9648057827,
             0.583876641
            ],
            "passed_time": 978.741207,
            "remaining_time": 370.3162802,
            "test": [
             0.907483216,
             0.8146550097
            ]
           },
           {
            "iteration": 1451,
            "learn": [
             0.9648057827,
             0.5837717853
            ],
            "passed_time": 979.4142152,
            "remaining_time": 369.6411777,
            "test": [
             0.907483216,
             0.8144859063
            ]
           },
           {
            "iteration": 1452,
            "learn": [
             0.9646654269,
             0.5836547993
            ],
            "passed_time": 980.0783284,
            "remaining_time": 368.9627293,
            "test": [
             0.9073194695,
             0.8144125881
            ]
           },
           {
            "iteration": 1453,
            "learn": [
             0.9647356048,
             0.5835602921
            ],
            "passed_time": 980.731406,
            "remaining_time": 368.2801566,
            "test": [
             0.9074013427,
             0.8143034504
            ]
           },
           {
            "iteration": 1454,
            "learn": [
             0.9649812274,
             0.582697803
            ],
            "passed_time": 981.4260097,
            "remaining_time": 367.6131789,
            "test": [
             0.9073194695,
             0.8136156831
            ]
           },
           {
            "iteration": 1455,
            "learn": [
             0.9649812274,
             0.5825770477
            ],
            "passed_time": 982.0894989,
            "remaining_time": 366.9345381,
            "test": [
             0.9073194695,
             0.8134819994
            ]
           },
           {
            "iteration": 1456,
            "learn": [
             0.9649812274,
             0.5824862413
            ],
            "passed_time": 982.7411125,
            "remaining_time": 366.2514922,
            "test": [
             0.9073194695,
             0.8134117195
            ]
           },
           {
            "iteration": 1457,
            "learn": [
             0.9649812274,
             0.5823404028
            ],
            "passed_time": 983.431422,
            "remaining_time": 365.5828743,
            "test": [
             0.9073194695,
             0.8131772134
            ]
           },
           {
            "iteration": 1458,
            "learn": [
             0.9649812274,
             0.5822688543
            ],
            "passed_time": 984.0932299,
            "remaining_time": 364.9036582,
            "test": [
             0.9073194695,
             0.8131126902
            ]
           },
           {
            "iteration": 1459,
            "learn": [
             0.9650514053,
             0.5821136268
            ],
            "passed_time": 984.7707664,
            "remaining_time": 364.2302835,
            "test": [
             0.9074013427,
             0.8129814851
            ]
           },
           {
            "iteration": 1460,
            "learn": [
             0.9654022948,
             0.5816214906
            ],
            "passed_time": 985.4224061,
            "remaining_time": 363.547349,
            "test": [
             0.9083019486,
             0.8125220674
            ]
           },
           {
            "iteration": 1461,
            "learn": [
             0.9654022948,
             0.5782922208
            ],
            "passed_time": 986.1911892,
            "remaining_time": 362.9075648,
            "test": [
             0.907810709,
             0.809821609
            ]
           },
           {
            "iteration": 1462,
            "learn": [
             0.9655075617,
             0.5781972339
            ],
            "passed_time": 986.9005422,
            "remaining_time": 362.2457903,
            "test": [
             0.9080563288,
             0.8097362977
            ]
           },
           {
            "iteration": 1463,
            "learn": [
             0.9655075617,
             0.5781144459
            ],
            "passed_time": 987.5613769,
            "remaining_time": 361.5661872,
            "test": [
             0.9080563288,
             0.8096431509
            ]
           },
           {
            "iteration": 1464,
            "learn": [
             0.9654724727,
             0.5779434558
            ],
            "passed_time": 988.2439261,
            "remaining_time": 360.8945396,
            "test": [
             0.9078925823,
             0.8094665317
            ]
           },
           {
            "iteration": 1465,
            "learn": [
             0.9654724727,
             0.5774694123
            ],
            "passed_time": 988.9057659,
            "remaining_time": 360.2153336,
            "test": [
             0.9074013427,
             0.8089666571
            ]
           },
           {
            "iteration": 1466,
            "learn": [
             0.9655075617,
             0.5773993029
            ],
            "passed_time": 989.568327,
            "remaining_time": 359.5364133,
            "test": [
             0.9075650892,
             0.8089056519
            ]
           },
           {
            "iteration": 1467,
            "learn": [
             0.9655075617,
             0.5773195989
            ],
            "passed_time": 990.2288731,
            "remaining_time": 358.8567851,
            "test": [
             0.9075650892,
             0.8088141042
            ]
           },
           {
            "iteration": 1468,
            "learn": [
             0.9656479175,
             0.5772271478
            ],
            "passed_time": 990.8866676,
            "remaining_time": 358.1761882,
            "test": [
             0.9077288358,
             0.8087247952
            ]
           },
           {
            "iteration": 1469,
            "learn": [
             0.9656128285,
             0.5770913152
            ],
            "passed_time": 991.5481773,
            "remaining_time": 357.4969619,
            "test": [
             0.907810709,
             0.808586714
            ]
           },
           {
            "iteration": 1470,
            "learn": [
             0.9656128285,
             0.5770049634
            ],
            "passed_time": 992.2096018,
            "remaining_time": 356.817729,
            "test": [
             0.907810709,
             0.8085133959
            ]
           },
           {
            "iteration": 1471,
            "learn": [
             0.965998807,
             0.5759633973
            ],
            "passed_time": 992.8962536,
            "remaining_time": 356.1475692,
            "test": [
             0.9081382021,
             0.8076777129
            ]
           },
           {
            "iteration": 1472,
            "learn": [
             0.9660338959,
             0.5758497009
            ],
            "passed_time": 993.5747555,
            "remaining_time": 355.4744712,
            "test": [
             0.9083019486,
             0.8075202029
            ]
           },
           {
            "iteration": 1473,
            "learn": [
             0.965963718,
             0.575383196
            ],
            "passed_time": 994.223528,
            "remaining_time": 354.7907569,
            "test": [
             0.9084656951,
             0.8070706995
            ]
           },
           {
            "iteration": 1474,
            "learn": [
             0.9660338959,
             0.5752741598
            ],
            "passed_time": 994.8834632,
            "remaining_time": 354.1110632,
            "test": [
             0.9085475684,
             0.8069271814
            ]
           },
           {
            "iteration": 1475,
            "learn": [
             0.9660338959,
             0.5752302987
            ],
            "passed_time": 995.5379834,
            "remaining_time": 353.4294738,
            "test": [
             0.9085475684,
             0.8068729724
            ]
           },
           {
            "iteration": 1476,
            "learn": [
             0.9657882733,
             0.5747813725
            ],
            "passed_time": 996.2233958,
            "remaining_time": 352.7588598,
            "test": [
             0.9081382021,
             0.8064484147
            ]
           },
           {
            "iteration": 1477,
            "learn": [
             0.9657882733,
             0.5743476608
            ],
            "passed_time": 996.9292959,
            "remaining_time": 352.0954618,
            "test": [
             0.9086294416,
             0.8060821438
            ]
           },
           {
            "iteration": 1478,
            "learn": [
             0.9657882733,
             0.5742637077
            ],
            "passed_time": 997.5809092,
            "remaining_time": 351.4128828,
            "test": [
             0.9086294416,
             0.8060200193
            ]
           },
           {
            "iteration": 1479,
            "learn": [
             0.9658233622,
             0.5741438776
            ],
            "passed_time": 998.2383617,
            "remaining_time": 350.7323973,
            "test": [
             0.9087931881,
             0.8058848165
            ]
           },
           {
            "iteration": 1480,
            "learn": [
             0.9665251412,
             0.5718777276
            ],
            "passed_time": 998.9513607,
            "remaining_time": 350.0714086,
            "test": [
             0.9101031603,
             0.8038182362
            ]
           },
           {
            "iteration": 1481,
            "learn": [
             0.9667356749,
             0.5686838793
            ],
            "passed_time": 999.7147599,
            "remaining_time": 349.427966,
            "test": [
             0.9098575405,
             0.801159594
            ]
           },
           {
            "iteration": 1482,
            "learn": [
             0.9667356749,
             0.5685839923
            ],
            "passed_time": 1000.37405,
            "remaining_time": 348.7480673,
            "test": [
             0.9098575405,
             0.8010420611
            ]
           },
           {
            "iteration": 1483,
            "learn": [
             0.966665497,
             0.5681144719
            ],
            "passed_time": 1001.04774,
            "remaining_time": 348.0732035,
            "test": [
             0.9097756673,
             0.800555219
            ]
           },
           {
            "iteration": 1484,
            "learn": [
             0.966665497,
             0.56798772
            ],
            "passed_time": 1001.711143,
            "remaining_time": 347.3947735,
            "test": [
             0.9097756673,
             0.8004016267
            ]
           },
           {
            "iteration": 1485,
            "learn": [
             0.9665953191,
             0.5678886896
            ],
            "passed_time": 1002.376507,
            "remaining_time": 346.7170423,
            "test": [
             0.909693794,
             0.8003175147
            ]
           },
           {
            "iteration": 1486,
            "learn": [
             0.9664900523,
             0.5677805444
            ],
            "passed_time": 1003.036296,
            "remaining_time": 346.037404,
            "test": [
             0.9094481742,
             0.8001755158
            ]
           },
           {
            "iteration": 1487,
            "learn": [
             0.9665602302,
             0.5673419325
            ],
            "passed_time": 1003.76455,
            "remaining_time": 345.3813505,
            "test": [
             0.9095300475,
             0.7997374459
            ]
           },
           {
            "iteration": 1488,
            "learn": [
             0.9666304081,
             0.5672382762
            ],
            "passed_time": 1004.414681,
            "remaining_time": 344.6983895,
            "test": [
             0.9096119207,
             0.7996448587
            ]
           },
           {
            "iteration": 1489,
            "learn": [
             0.9667707639,
             0.5671288631
            ],
            "passed_time": 1005.067439,
            "remaining_time": 344.0163716,
            "test": [
             0.9097756673,
             0.7995052584
            ]
           },
           {
            "iteration": 1490,
            "learn": [
             0.9668058528,
             0.5670429226
            ],
            "passed_time": 1005.730069,
            "remaining_time": 343.3377634,
            "test": [
             0.9099394138,
             0.7994037164
            ]
           },
           {
            "iteration": 1491,
            "learn": [
             0.9668409418,
             0.5669210707
            ],
            "passed_time": 1006.383346,
            "remaining_time": 342.655992,
            "test": [
             0.9101031603,
             0.7992466061
            ]
           },
           {
            "iteration": 1492,
            "learn": [
             0.9669111197,
             0.5668415723
            ],
            "passed_time": 1007.054793,
            "remaining_time": 341.9804288,
            "test": [
             0.9101850336,
             0.7991876797
            ]
           },
           {
            "iteration": 1493,
            "learn": [
             0.9669462086,
             0.5667331872
            ],
            "passed_time": 1007.706028,
            "remaining_time": 341.2980255,
            "test": [
             0.9103487801,
             0.7989900326
            ]
           },
           {
            "iteration": 1494,
            "learn": [
             0.9669462086,
             0.5666502964
            ],
            "passed_time": 1008.367293,
            "remaining_time": 340.619052,
            "test": [
             0.9103487801,
             0.798921032
            ]
           },
           {
            "iteration": 1495,
            "learn": [
             0.9668058528,
             0.5662934102
            ],
            "passed_time": 1009.02158,
            "remaining_time": 339.9377517,
            "test": [
             0.9104306533,
             0.7985875423
            ]
           },
           {
            "iteration": 1496,
            "learn": [
             0.9668058528,
             0.5662141517
            ],
            "passed_time": 1009.687589,
            "remaining_time": 339.2604258,
            "test": [
             0.9104306533,
             0.7984536988
            ]
           },
           {
            "iteration": 1497,
            "learn": [
             0.9673321871,
             0.5650538862
            ],
            "passed_time": 1010.431679,
            "remaining_time": 338.6092809,
            "test": [
             0.9106762731,
             0.7974500317
            ]
           },
           {
            "iteration": 1498,
            "learn": [
             0.9672970981,
             0.5649656156
            ],
            "passed_time": 1011.101278,
            "remaining_time": 337.9331156,
            "test": [
             0.9105125266,
             0.7973699974
            ]
           },
           {
            "iteration": 1499,
            "learn": [
             0.9676830766,
             0.563854454
            ],
            "passed_time": 1011.821848,
            "remaining_time": 337.2739494,
            "test": [
             0.9110856394,
             0.7963667302
            ]
           },
           {
            "iteration": 1500,
            "learn": [
             0.9676830766,
             0.5637804383
            ],
            "passed_time": 1012.48119,
            "remaining_time": 336.5943464,
            "test": [
             0.9110856394,
             0.7963126011
            ]
           },
           {
            "iteration": 1501,
            "learn": [
             0.9676479876,
             0.5636928187
            ],
            "passed_time": 1013.141108,
            "remaining_time": 335.9149613,
            "test": [
             0.9109218929,
             0.796212818
            ]
           },
           {
            "iteration": 1502,
            "learn": [
             0.9676830766,
             0.5636070838
            ],
            "passed_time": 1013.835227,
            "remaining_time": 335.2469114,
            "test": [
             0.9110856394,
             0.7961026409
            ]
           },
           {
            "iteration": 1503,
            "learn": [
             0.9676830766,
             0.5634970882
            ],
            "passed_time": 1014.491984,
            "remaining_time": 334.5665053,
            "test": [
             0.9110856394,
             0.7959884661
            ]
           },
           {
            "iteration": 1504,
            "learn": [
             0.9676128987,
             0.5634183436
            ],
            "passed_time": 1015.158743,
            "remaining_time": 333.8894205,
            "test": [
             0.911249386,
             0.7958986774
            ]
           },
           {
            "iteration": 1505,
            "learn": [
             0.9677532545,
             0.5633669095
            ],
            "passed_time": 1015.816733,
            "remaining_time": 333.2094727,
            "test": [
             0.9114131325,
             0.7958521439
            ]
           },
           {
            "iteration": 1506,
            "learn": [
             0.9677532545,
             0.5632653435
            ],
            "passed_time": 1016.47312,
            "remaining_time": 332.5290298,
            "test": [
             0.9114131325,
             0.7957535602
            ]
           },
           {
            "iteration": 1507,
            "learn": [
             0.968104144,
             0.5621769007
            ],
            "passed_time": 1017.155667,
            "remaining_time": 331.857154,
            "test": [
             0.9118224988,
             0.7948002644
            ]
           },
           {
            "iteration": 1508,
            "learn": [
             0.9679637882,
             0.5616680766
            ],
            "passed_time": 1017.830639,
            "remaining_time": 331.182799,
            "test": [
             0.9116587523,
             0.7943079055
            ]
           },
           {
            "iteration": 1509,
            "learn": [
             0.9679988772,
             0.5615218612
            ],
            "passed_time": 1018.49,
            "remaining_time": 330.5033774,
            "test": [
             0.9118224988,
             0.7941311264
            ]
           },
           {
            "iteration": 1510,
            "learn": [
             0.9679637882,
             0.5610884921
            ],
            "passed_time": 1019.170491,
            "remaining_time": 329.8308207,
            "test": [
             0.9116587523,
             0.793685221
            ]
           },
           {
            "iteration": 1511,
            "learn": [
             0.9679637882,
             0.5610053957
            ],
            "passed_time": 1019.827587,
            "remaining_time": 329.1507026,
            "test": [
             0.9116587523,
             0.7936274939
            ]
           },
           {
            "iteration": 1512,
            "learn": [
             0.9679637882,
             0.5609365885
            ],
            "passed_time": 1020.514868,
            "remaining_time": 328.480331,
            "test": [
             0.9116587523,
             0.7935484191
            ]
           },
           {
            "iteration": 1513,
            "learn": [
             0.9678936103,
             0.5604252287
            ],
            "passed_time": 1021.18622,
            "remaining_time": 327.8048236,
            "test": [
             0.9118224988,
             0.7930287957
            ]
           },
           {
            "iteration": 1514,
            "learn": [
             0.968139233,
             0.5599440235
            ],
            "passed_time": 1021.854514,
            "remaining_time": 327.1283427,
            "test": [
             0.9119862453,
             0.7924951004
            ]
           },
           {
            "iteration": 1515,
            "learn": [
             0.9684199446,
             0.5594392087
            ],
            "passed_time": 1022.521806,
            "remaining_time": 326.4515529,
            "test": [
             0.9123137383,
             0.7919083154
            ]
           },
           {
            "iteration": 1516,
            "learn": [
             0.9682795888,
             0.559359162
            ],
            "passed_time": 1023.175404,
            "remaining_time": 325.7704154,
            "test": [
             0.9121499918,
             0.7918429127
            ]
           },
           {
            "iteration": 1517,
            "learn": [
             0.9682094109,
             0.5592260707
            ],
            "passed_time": 1023.834307,
            "remaining_time": 325.0909986,
            "test": [
             0.9120681186,
             0.7917066705
            ]
           },
           {
            "iteration": 1518,
            "learn": [
             0.968139233,
             0.5587474355
            ],
            "passed_time": 1024.511373,
            "remaining_time": 324.4173604,
            "test": [
             0.9119862453,
             0.7911864075
            ]
           },
           {
            "iteration": 1519,
            "learn": [
             0.9682444998,
             0.5586749617
            ],
            "passed_time": 1025.162024,
            "remaining_time": 323.7353758,
            "test": [
             0.9119862453,
             0.7911333978
            ]
           },
           {
            "iteration": 1520,
            "learn": [
             0.9682795888,
             0.55859118
            ],
            "passed_time": 1025.841801,
            "remaining_time": 323.0626052,
            "test": [
             0.9121499918,
             0.7910387318
            ]
           },
           {
            "iteration": 1521,
            "learn": [
             0.9683497667,
             0.5575193908
            ],
            "passed_time": 1026.553441,
            "remaining_time": 322.3998323,
            "test": [
             0.9124774849,
             0.7900202732
            ]
           },
           {
            "iteration": 1522,
            "learn": [
             0.9684199446,
             0.5571039088
            ],
            "passed_time": 1027.247162,
            "remaining_time": 321.7313829,
            "test": [
             0.9123137383,
             0.7896644763
            ]
           },
           {
            "iteration": 1523,
            "learn": [
             0.9684199446,
             0.5569766428
            ],
            "passed_time": 1027.891439,
            "remaining_time": 321.0474572,
            "test": [
             0.9123137383,
             0.7895416665
            ]
           },
           {
            "iteration": 1524,
            "learn": [
             0.9682795888,
             0.5564712797
            ],
            "passed_time": 1028.567801,
            "remaining_time": 320.3735772,
            "test": [
             0.911904372,
             0.7890435508
            ]
           },
           {
            "iteration": 1525,
            "learn": [
             0.9682094109,
             0.5564084348
            ],
            "passed_time": 1029.232114,
            "remaining_time": 319.6959516,
            "test": [
             0.9118224988,
             0.7889558409
            ]
           },
           {
            "iteration": 1526,
            "learn": [
             0.9682795888,
             0.5563503873
            ],
            "passed_time": 1029.889564,
            "remaining_time": 319.0162173,
            "test": [
             0.911904372,
             0.7888990733
            ]
           },
           {
            "iteration": 1527,
            "learn": [
             0.9682094109,
             0.5562609173
            ],
            "passed_time": 1030.554816,
            "remaining_time": 318.3389222,
            "test": [
             0.9118224988,
             0.7888241561
            ]
           },
           {
            "iteration": 1528,
            "learn": [
             0.9681743219,
             0.5557784785
            ],
            "passed_time": 1031.235196,
            "remaining_time": 317.6663029,
            "test": [
             0.911904372,
             0.7884538075
            ]
           },
           {
            "iteration": 1529,
            "learn": [
             0.9681743219,
             0.5556870211
            ],
            "passed_time": 1031.892859,
            "remaining_time": 316.9866951,
            "test": [
             0.911904372,
             0.7883154865
            ]
           },
           {
            "iteration": 1530,
            "learn": [
             0.968104144,
             0.5555889159
            ],
            "passed_time": 1032.582581,
            "remaining_time": 316.3169371,
            "test": [
             0.9118224988,
             0.788172608
            ]
           },
           {
            "iteration": 1531,
            "learn": [
             0.9680690551,
             0.5554583604
            ],
            "passed_time": 1033.237143,
            "remaining_time": 315.636412,
            "test": [
             0.911904372,
             0.788032448
            ]
           },
           {
            "iteration": 1532,
            "learn": [
             0.968104144,
             0.5553816718
            ],
            "passed_time": 1033.922058,
            "remaining_time": 314.965167,
            "test": [
             0.9120681186,
             0.7879114771
            ]
           },
           {
            "iteration": 1533,
            "learn": [
             0.968139233,
             0.5550270815
            ],
            "passed_time": 1034.587645,
            "remaining_time": 314.288033,
            "test": [
             0.9117406255,
             0.7876169252
            ]
           },
           {
            "iteration": 1534,
            "learn": [
             0.968139233,
             0.5549436768
            ],
            "passed_time": 1035.247203,
            "remaining_time": 313.6090876,
            "test": [
             0.9117406255,
             0.7874554175
            ]
           },
           {
            "iteration": 1535,
            "learn": [
             0.968139233,
             0.554865549
            ],
            "passed_time": 1035.920759,
            "remaining_time": 312.9343958,
            "test": [
             0.9117406255,
             0.7874119223
            ]
           },
           {
            "iteration": 1536,
            "learn": [
             0.968139233,
             0.5547701852
            ],
            "passed_time": 1036.598328,
            "remaining_time": 312.2609146,
            "test": [
             0.9117406255,
             0.7873001461
            ]
           },
           {
            "iteration": 1537,
            "learn": [
             0.9682094109,
             0.5543364049
            ],
            "passed_time": 1037.271797,
            "remaining_time": 311.5861966,
            "test": [
             0.9120681186,
             0.7869091693
            ]
           },
           {
            "iteration": 1538,
            "learn": [
             0.9684199446,
             0.552905605
            ],
            "passed_time": 1037.955396,
            "remaining_time": 310.9145142,
            "test": [
             0.9123137383,
             0.7853838001
            ]
           },
           {
            "iteration": 1539,
            "learn": [
             0.9684901225,
             0.5528106866
            ],
            "passed_time": 1038.624347,
            "remaining_time": 310.2384413,
            "test": [
             0.9121499918,
             0.7853319897
            ]
           },
           {
            "iteration": 1540,
            "learn": [
             0.9685953893,
             0.5523382194
            ],
            "passed_time": 1039.334552,
            "remaining_time": 309.5746655,
            "test": [
             0.9123956116,
             0.7849306188
            ]
           },
           {
            "iteration": 1541,
            "learn": [
             0.9685953893,
             0.5522496403
            ],
            "passed_time": 1039.99529,
            "remaining_time": 308.8961368,
            "test": [
             0.9123956116,
             0.7848686542
            ]
           },
           {
            "iteration": 1542,
            "learn": [
             0.9687708341,
             0.5518601324
            ],
            "passed_time": 1040.677469,
            "remaining_time": 308.2239813,
            "test": [
             0.9124774849,
             0.7845037425
            ]
           },
           {
            "iteration": 1543,
            "learn": [
             0.9687357451,
             0.5517823816
            ],
            "passed_time": 1041.331385,
            "remaining_time": 307.543466,
            "test": [
             0.9123137383,
             0.7844587282
            ]
           },
           {
            "iteration": 1544,
            "learn": [
             0.9687708341,
             0.5513727592
            ],
            "passed_time": 1041.984888,
            "remaining_time": 306.8628634,
            "test": [
             0.9127231046,
             0.7839992305
            ]
           },
           {
            "iteration": 1545,
            "learn": [
             0.968805923,
             0.5512680064
            ],
            "passed_time": 1042.690218,
            "remaining_time": 306.1975155,
            "test": [
             0.9126412314,
             0.7838870546
            ]
           },
           {
            "iteration": 1546,
            "learn": [
             0.9687357451,
             0.5507745338
            ],
            "passed_time": 1043.360397,
            "remaining_time": 305.5218227,
            "test": [
             0.9128049779,
             0.7834875226
            ]
           },
           {
            "iteration": 1547,
            "learn": [
             0.968805923,
             0.5506851666
            ],
            "passed_time": 1044.04206,
            "remaining_time": 304.8494903,
            "test": [
             0.9128868512,
             0.7833794244
            ]
           },
           {
            "iteration": 1548,
            "learn": [
             0.968841012,
             0.5506347948
            ],
            "passed_time": 1044.700884,
            "remaining_time": 304.1704962,
            "test": [
             0.9130505977,
             0.783306426
            ]
           },
           {
            "iteration": 1549,
            "learn": [
             0.968805923,
             0.5502632082
            ],
            "passed_time": 1045.386736,
            "remaining_time": 303.499375,
            "test": [
             0.9131324709,
             0.7829960432
            ]
           },
           {
            "iteration": 1550,
            "learn": [
             0.968805923,
             0.5501840525
            ],
            "passed_time": 1046.04204,
            "remaining_time": 302.8193913,
            "test": [
             0.9131324709,
             0.782936957
            ]
           },
           {
            "iteration": 1551,
            "learn": [
             0.968841012,
             0.5500562725
            ],
            "passed_time": 1046.704769,
            "remaining_time": 302.1415829,
            "test": [
             0.9132962175,
             0.7828012744
            ]
           },
           {
            "iteration": 1552,
            "learn": [
             0.9687708341,
             0.5499780763
            ],
            "passed_time": 1047.360224,
            "remaining_time": 301.4617001,
            "test": [
             0.9132143442,
             0.7827440271
            ]
           },
           {
            "iteration": 1553,
            "learn": [
             0.9687708341,
             0.5498698625
            ],
            "passed_time": 1048.017354,
            "remaining_time": 300.7823295,
            "test": [
             0.9132143442,
             0.7825897152
            ]
           },
           {
            "iteration": 1554,
            "learn": [
             0.968841012,
             0.5497745329
            ],
            "passed_time": 1048.661462,
            "remaining_time": 300.0992607,
            "test": [
             0.9132962175,
             0.7824785786
            ]
           },
           {
            "iteration": 1555,
            "learn": [
             0.968841012,
             0.5496992836
            ],
            "passed_time": 1049.325992,
            "remaining_time": 299.4220696,
            "test": [
             0.9132962175,
             0.7824242097
            ]
           },
           {
            "iteration": 1556,
            "learn": [
             0.9689111899,
             0.549623486
            ],
            "passed_time": 1049.997669,
            "remaining_time": 298.7469284,
            "test": [
             0.9133780907,
             0.7823199492
            ]
           },
           {
            "iteration": 1557,
            "learn": [
             0.9690515457,
             0.5495160603
            ],
            "passed_time": 1050.66894,
            "remaining_time": 298.0716763,
            "test": [
             0.9135418372,
             0.7821887441
            ]
           },
           {
            "iteration": 1558,
            "learn": [
             0.9690515457,
             0.5493967785
            ],
            "passed_time": 1051.33193,
            "remaining_time": 297.3940868,
            "test": [
             0.9135418372,
             0.7820652946
            ]
           },
           {
            "iteration": 1559,
            "learn": [
             0.9690515457,
             0.5493134079
            ],
            "passed_time": 1051.994039,
            "remaining_time": 296.7162674,
            "test": [
             0.9135418372,
             0.7819605544
            ]
           },
           {
            "iteration": 1560,
            "learn": [
             0.9691217236,
             0.5492388096
            ],
            "passed_time": 1052.652445,
            "remaining_time": 296.0374268,
            "test": [
             0.9136237105,
             0.7818586925
            ]
           },
           {
            "iteration": 1561,
            "learn": [
             0.9691217236,
             0.5491672611
            ],
            "passed_time": 1053.3143,
            "remaining_time": 295.3595796,
            "test": [
             0.9136237105,
             0.7817304457
            ]
           },
           {
            "iteration": 1562,
            "learn": [
             0.9692620794,
             0.5490670999
            ],
            "passed_time": 1054.006871,
            "remaining_time": 294.6903408,
            "test": [
             0.913787457,
             0.7815980413
            ]
           },
           {
            "iteration": 1563,
            "learn": [
             0.9692620794,
             0.5489840721
            ],
            "passed_time": 1054.657314,
            "remaining_time": 294.0093279,
            "test": [
             0.913787457,
             0.7815132097
            ]
           },
           {
            "iteration": 1564,
            "learn": [
             0.9692620794,
             0.5488788052
            ],
            "passed_time": 1055.325391,
            "remaining_time": 293.3332557,
            "test": [
             0.913787457,
             0.7814213422
            ]
           },
           {
            "iteration": 1565,
            "learn": [
             0.9692620794,
             0.5487732642
            ],
            "passed_time": 1055.976416,
            "remaining_time": 292.6524678,
            "test": [
             0.913787457,
             0.7813238778
            ]
           },
           {
            "iteration": 1566,
            "learn": [
             0.9691919015,
             0.5486669351
            ],
            "passed_time": 1056.632946,
            "remaining_time": 291.9732391,
            "test": [
             0.9137055838,
             0.7812515991
            ]
           },
           {
            "iteration": 1567,
            "learn": [
             0.9692620794,
             0.5485713315
            ],
            "passed_time": 1057.337169,
            "remaining_time": 291.3071792,
            "test": [
             0.913787457,
             0.7811127184
            ]
           },
           {
            "iteration": 1568,
            "learn": [
             0.9692620794,
             0.5484817587
            ],
            "passed_time": 1057.990752,
            "remaining_time": 290.6271601,
            "test": [
             0.913787457,
             0.781032844
            ]
           },
           {
            "iteration": 1569,
            "learn": [
             0.9692269904,
             0.5483714889
            ],
            "passed_time": 1058.654466,
            "remaining_time": 289.9499494,
            "test": [
             0.9136237105,
             0.7809185092
            ]
           },
           {
            "iteration": 1570,
            "learn": [
             0.9692620794,
             0.5482878785
            ],
            "passed_time": 1059.312809,
            "remaining_time": 289.2712889,
            "test": [
             0.913787457,
             0.7808333579
            ]
           },
           {
            "iteration": 1571,
            "learn": [
             0.9692269904,
             0.5481984771
            ],
            "passed_time": 1059.975905,
            "remaining_time": 288.5939486,
            "test": [
             0.9136237105,
             0.7807264589
            ]
           },
           {
            "iteration": 1572,
            "learn": [
             0.9693322573,
             0.5477720641
            ],
            "passed_time": 1060.688769,
            "remaining_time": 287.9301362,
            "test": [
             0.9138693303,
             0.7803114958
            ]
           },
           {
            "iteration": 1573,
            "learn": [
             0.9693322573,
             0.5477004813
            ],
            "passed_time": 1061.34589,
            "remaining_time": 287.2511749,
            "test": [
             0.9138693303,
             0.7802466528
            ]
           },
           {
            "iteration": 1574,
            "learn": [
             0.9694726131,
             0.5474622259
            ],
            "passed_time": 1062.027129,
            "remaining_time": 286.578749,
            "test": [
             0.9140330768,
             0.7800380519
            ]
           },
           {
            "iteration": 1575,
            "learn": [
             0.969542791,
             0.5472399731
            ],
            "passed_time": 1062.685047,
            "remaining_time": 285.900038,
            "test": [
             0.9141149501,
             0.7797957902
            ]
           },
           {
            "iteration": 1576,
            "learn": [
             0.9696129689,
             0.5471459799
            ],
            "passed_time": 1063.354326,
            "remaining_time": 285.2244007,
            "test": [
             0.9141968233,
             0.7796529117
            ]
           },
           {
            "iteration": 1577,
            "learn": [
             0.9696129689,
             0.5470472922
            ],
            "passed_time": 1064.040668,
            "remaining_time": 284.5533345,
            "test": [
             0.9141968233,
             0.7795519294
            ]
           },
           {
            "iteration": 1578,
            "learn": [
             0.969507702,
             0.5466046369
            ],
            "passed_time": 1064.722711,
            "remaining_time": 283.8811027,
            "test": [
             0.9139512035,
             0.7790750816
            ]
           },
           {
            "iteration": 1579,
            "learn": [
             0.969507702,
             0.546538708
            ],
            "passed_time": 1065.388968,
            "remaining_time": 283.2046623,
            "test": [
             0.9139512035,
             0.7790064008
            ]
           },
           {
            "iteration": 1580,
            "learn": [
             0.969507702,
             0.5464356
            ],
            "passed_time": 1066.039748,
            "remaining_time": 282.524133,
            "test": [
             0.9139512035,
             0.7789111752
            ]
           },
           {
            "iteration": 1581,
            "learn": [
             0.969507702,
             0.5463707677
            ],
            "passed_time": 1066.702,
            "remaining_time": 281.8466726,
            "test": [
             0.9139512035,
             0.7788470518
            ]
           },
           {
            "iteration": 1582,
            "learn": [
             0.969507702,
             0.546290207
            ],
            "passed_time": 1067.37851,
            "remaining_time": 281.1729871,
            "test": [
             0.9139512035,
             0.7787386337
            ]
           },
           {
            "iteration": 1583,
            "learn": [
             0.969507702,
             0.5462082757
            ],
            "passed_time": 1068.023,
            "remaining_time": 280.4908889,
            "test": [
             0.9139512035,
             0.7787033738
            ]
           },
           {
            "iteration": 1584,
            "learn": [
             0.9697533247,
             0.5453016512
            ],
            "passed_time": 1068.692402,
            "remaining_time": 279.8153607,
            "test": [
             0.9141149501,
             0.7778632134
            ]
           },
           {
            "iteration": 1585,
            "learn": [
             0.9697533247,
             0.545230788
            ],
            "passed_time": 1069.33901,
            "remaining_time": 279.1338903,
            "test": [
             0.9141149501,
             0.7777898154
            ]
           },
           {
            "iteration": 1586,
            "learn": [
             0.9697182357,
             0.5451616038
            ],
            "passed_time": 1069.988496,
            "remaining_time": 278.4532128,
            "test": [
             0.9139512035,
             0.7776968284
            ]
           },
           {
            "iteration": 1587,
            "learn": [
             0.9697182357,
             0.5450599349
            ],
            "passed_time": 1070.69351,
            "remaining_time": 277.7869811,
            "test": [
             0.9139512035,
             0.7775883304
            ]
           },
           {
            "iteration": 1588,
            "learn": [
             0.9697182357,
             0.5449663187
            ],
            "passed_time": 1071.350007,
            "remaining_time": 277.1081517,
            "test": [
             0.9139512035,
             0.7774846296
            ]
           },
           {
            "iteration": 1589,
            "learn": [
             0.9697884136,
             0.5449079628
            ],
            "passed_time": 1072.020692,
            "remaining_time": 276.4330087,
            "test": [
             0.9140330768,
             0.7774289014
            ]
           },
           {
            "iteration": 1590,
            "learn": [
             0.9697884136,
             0.5447990979
            ],
            "passed_time": 1072.686516,
            "remaining_time": 275.7566217,
            "test": [
             0.9140330768,
             0.7772944981
            ]
           },
           {
            "iteration": 1591,
            "learn": [
             0.9697182357,
             0.5444581457
            ],
            "passed_time": 1073.345179,
            "remaining_time": 275.0784127,
            "test": [
             0.9141968233,
             0.7770472792
            ]
           },
           {
            "iteration": 1592,
            "learn": [
             0.9698585915,
             0.5440636349
            ],
            "passed_time": 1074.015261,
            "remaining_time": 274.4031459,
            "test": [
             0.9138693303,
             0.7765845034
            ]
           },
           {
            "iteration": 1593,
            "learn": [
             0.9699287694,
             0.5439784483
            ],
            "passed_time": 1074.673847,
            "remaining_time": 273.7249574,
            "test": [
             0.9139512035,
             0.7764726473
            ]
           },
           {
            "iteration": 1594,
            "learn": [
             0.9699287694,
             0.5438963456
            ],
            "passed_time": 1075.377833,
            "remaining_time": 273.0583212,
            "test": [
             0.9139512035,
             0.7764122818
            ]
           },
           {
            "iteration": 1595,
            "learn": [
             0.9699638584,
             0.5438257565
            ],
            "passed_time": 1076.043641,
            "remaining_time": 272.3819742,
            "test": [
             0.9141149501,
             0.7763439208
            ]
           },
           {
            "iteration": 1596,
            "learn": [
             0.9700340363,
             0.5433321811
            ],
            "passed_time": 1076.735502,
            "remaining_time": 271.712215,
            "test": [
             0.9141968233,
             0.7757989519
            ]
           },
           {
            "iteration": 1597,
            "learn": [
             0.9700340363,
             0.5432366116
            ],
            "passed_time": 1077.426211,
            "remaining_time": 271.0421383,
            "test": [
             0.9141968233,
             0.7756735035
            ]
           },
           {
            "iteration": 1598,
            "learn": [
             0.9700340363,
             0.5431722248
            ],
            "passed_time": 1078.086317,
            "remaining_time": 270.364361,
            "test": [
             0.9141968233,
             0.7756386434
            ]
           },
           {
            "iteration": 1599,
            "learn": [
             0.9701042142,
             0.5426481864
            ],
            "passed_time": 1078.773103,
            "remaining_time": 269.6932758,
            "test": [
             0.9145243164,
             0.7750829606
            ]
           },
           {
            "iteration": 1600,
            "learn": [
             0.9701042142,
             0.542221465
            ],
            "passed_time": 1079.445203,
            "remaining_time": 269.018511,
            "test": [
             0.9145243164,
             0.7745939598
            ]
           },
           {
            "iteration": 1601,
            "learn": [
             0.9701042142,
             0.54215115
            ],
            "passed_time": 1080.252941,
            "remaining_time": 268.3774472,
            "test": [
             0.9145243164,
             0.7745163241
            ]
           },
           {
            "iteration": 1602,
            "learn": [
             0.9701042142,
             0.5420447181
            ],
            "passed_time": 1080.965624,
            "remaining_time": 267.7126343,
            "test": [
             0.9145243164,
             0.7743981516
            ]
           },
           {
            "iteration": 1603,
            "learn": [
             0.9701042142,
             0.5419698114
            ],
            "passed_time": 1081.731133,
            "remaining_time": 267.0608034,
            "test": [
             0.9145243164,
             0.7743142795
            ]
           },
           {
            "iteration": 1604,
            "learn": [
             0.9701042142,
             0.5418776001
            ],
            "passed_time": 1082.449565,
            "remaining_time": 266.397245,
            "test": [
             0.9145243164,
             0.7742143365
            ]
           },
           {
            "iteration": 1605,
            "learn": [
             0.9700340363,
             0.5418011172
            ],
            "passed_time": 1083.116121,
            "remaining_time": 265.7208915,
            "test": [
             0.9144424431,
             0.7741210298
            ]
           },
           {
            "iteration": 1606,
            "learn": [
             0.9701042142,
             0.5416899908
            ],
            "passed_time": 1083.781692,
            "remaining_time": 265.0443093,
            "test": [
             0.9145243164,
             0.7739675974
            ]
           },
           {
            "iteration": 1607,
            "learn": [
             0.9701042142,
             0.541613782
            ],
            "passed_time": 1084.523964,
            "remaining_time": 264.386439,
            "test": [
             0.9145243164,
             0.7739187453
            ]
           },
           {
            "iteration": 1608,
            "learn": [
             0.9701042142,
             0.5415110508
            ],
            "passed_time": 1085.225023,
            "remaining_time": 263.7184486,
            "test": [
             0.9145243164,
             0.7738072089
            ]
           },
           {
            "iteration": 1609,
            "learn": [
             0.9701042142,
             0.5414179829
            ],
            "passed_time": 1085.896249,
            "remaining_time": 263.0431907,
            "test": [
             0.9145243164,
             0.7736923145
            ]
           },
           {
            "iteration": 1610,
            "learn": [
             0.970209481,
             0.5409565837
            ],
            "passed_time": 1086.576921,
            "remaining_time": 262.3702188,
            "test": [
             0.9145243164,
             0.7732385736
            ]
           },
           {
            "iteration": 1611,
            "learn": [
             0.9702796589,
             0.5408792099
            ],
            "passed_time": 1087.224832,
            "remaining_time": 261.6893517,
            "test": [
             0.9146061896,
             0.7731045701
            ]
           },
           {
            "iteration": 1612,
            "learn": [
             0.9702796589,
             0.540760065
            ],
            "passed_time": 1087.910475,
            "remaining_time": 261.0175783,
            "test": [
             0.9146061896,
             0.7729833593
            ]
           },
           {
            "iteration": 1613,
            "learn": [
             0.9702796589,
             0.540680224
            ],
            "passed_time": 1088.567824,
            "remaining_time": 260.3390212,
            "test": [
             0.9146061896,
             0.7729141188
            ]
           },
           {
            "iteration": 1614,
            "learn": [
             0.9702796589,
             0.5389160448
            ],
            "passed_time": 1089.316097,
            "remaining_time": 259.6821656,
            "test": [
             0.9148518094,
             0.7715109198
            ]
           },
           {
            "iteration": 1615,
            "learn": [
             0.9705252816,
             0.5385422652
            ],
            "passed_time": 1089.99794,
            "remaining_time": 259.0094115,
            "test": [
             0.9150155559,
             0.7710399087
            ]
           },
           {
            "iteration": 1616,
            "learn": [
             0.9704901926,
             0.5381796565
            ],
            "passed_time": 1090.67969,
            "remaining_time": 258.3366243,
            "test": [
             0.9148518094,
             0.7707010622
            ]
           },
           {
            "iteration": 1617,
            "learn": [
             0.9704901926,
             0.5380504374
            ],
            "passed_time": 1091.365638,
            "remaining_time": 257.664817,
            "test": [
             0.9148518094,
             0.7706040775
            ]
           },
           {
            "iteration": 1618,
            "learn": [
             0.9704901926,
             0.5379781349
            ],
            "passed_time": 1092.023565,
            "remaining_time": 256.986398,
            "test": [
             0.9148518094,
             0.7705164476
            ]
           },
           {
            "iteration": 1619,
            "learn": [
             0.9704901926,
             0.5378859922
            ],
            "passed_time": 1092.686557,
            "remaining_time": 256.3091925,
            "test": [
             0.9148518094,
             0.7703524612
            ]
           },
           {
            "iteration": 1620,
            "learn": [
             0.9705603705,
             0.5369723773
            ],
            "passed_time": 1093.348618,
            "remaining_time": 255.6317866,
            "test": [
             0.9151793024,
             0.7694988685
            ]
           },
           {
            "iteration": 1621,
            "learn": [
             0.9706656374,
             0.5365948284
            ],
            "passed_time": 1094.000397,
            "remaining_time": 254.9520037,
            "test": [
             0.9154249222,
             0.7692324606
            ]
           },
           {
            "iteration": 1622,
            "learn": [
             0.9706656374,
             0.5365251645
            ],
            "passed_time": 1094.65957,
            "remaining_time": 254.2739728,
            "test": [
             0.9154249222,
             0.7691621007
            ]
           },
           {
            "iteration": 1623,
            "learn": [
             0.9706656374,
             0.5364579336
            ],
            "passed_time": 1095.319345,
            "remaining_time": 253.5961046,
            "test": [
             0.9154249222,
             0.7690707929
            ]
           },
           {
            "iteration": 1624,
            "learn": [
             0.9706656374,
             0.5363721301
            ],
            "passed_time": 1096.007461,
            "remaining_time": 252.9247986,
            "test": [
             0.9154249222,
             0.7689767665
            ]
           },
           {
            "iteration": 1625,
            "learn": [
             0.9707007263,
             0.5362215629
            ],
            "passed_time": 1096.670805,
            "remaining_time": 252.2477742,
            "test": [
             0.9155886687,
             0.7687853558
            ]
           },
           {
            "iteration": 1626,
            "learn": [
             0.9708410821,
             0.5358027913
            ],
            "passed_time": 1097.356479,
            "remaining_time": 251.575886,
            "test": [
             0.9157524153,
             0.7683244989
            ]
           },
           {
            "iteration": 1627,
            "learn": [
             0.9707709042,
             0.5357350806
            ],
            "passed_time": 1098.008872,
            "remaining_time": 250.8963762,
            "test": [
             0.915670542,
             0.7682589363
            ]
           },
           {
            "iteration": 1628,
            "learn": [
             0.9708410821,
             0.5356617159
            ],
            "passed_time": 1098.668292,
            "remaining_time": 250.2184999,
            "test": [
             0.9157524153,
             0.7681843389
            ]
           },
           {
            "iteration": 1629,
            "learn": [
             0.970946349,
             0.5355980487
            ],
            "passed_time": 1099.359564,
            "remaining_time": 249.5478766,
            "test": [
             0.915998035,
             0.7680786393
            ]
           },
           {
            "iteration": 1630,
            "learn": [
             0.9709814379,
             0.5350511887
            ],
            "passed_time": 1100.037767,
            "remaining_time": 248.8742711,
            "test": [
             0.9159161618,
             0.7675319913
            ]
           },
           {
            "iteration": 1631,
            "learn": [
             0.9708059932,
             0.5346792253
            ],
            "passed_time": 1100.711951,
            "remaining_time": 248.1997537,
            "test": [
             0.9155886687,
             0.7671853093
            ]
           },
           {
            "iteration": 1632,
            "learn": [
             0.9708059932,
             0.5345734102
            ],
            "passed_time": 1101.382498,
            "remaining_time": 247.5244194,
            "test": [
             0.9155886687,
             0.7670738529
            ]
           },
           {
            "iteration": 1633,
            "learn": [
             0.9708059932,
             0.534492781
            ],
            "passed_time": 1102.026375,
            "remaining_time": 246.843117,
            "test": [
             0.9155886687,
             0.7669584787
            ]
           },
           {
            "iteration": 1634,
            "learn": [
             0.9708059932,
             0.5343924143
            ],
            "passed_time": 1102.696478,
            "remaining_time": 246.1677153,
            "test": [
             0.9155886687,
             0.766817839
            ]
           },
           {
            "iteration": 1635,
            "learn": [
             0.9708059932,
             0.5342966392
            ],
            "passed_time": 1103.352495,
            "remaining_time": 245.4891859,
            "test": [
             0.9155886687,
             0.7666889526
            ]
           },
           {
            "iteration": 1636,
            "learn": [
             0.9708059932,
             0.5342166954
            ],
            "passed_time": 1104.033078,
            "remaining_time": 244.8161315,
            "test": [
             0.9155886687,
             0.7665892495
            ]
           },
           {
            "iteration": 1637,
            "learn": [
             0.9708059932,
             0.5341040612
            ],
            "passed_time": 1104.691977,
            "remaining_time": 244.1382756,
            "test": [
             0.9155886687,
             0.7664445321
            ]
           },
           {
            "iteration": 1638,
            "learn": [
             0.9708761711,
             0.5340372072
            ],
            "passed_time": 1105.348858,
            "remaining_time": 243.4599986,
            "test": [
             0.915670542,
             0.7663648976
            ]
           },
           {
            "iteration": 1639,
            "learn": [
             0.9708761711,
             0.5339554472
            ],
            "passed_time": 1105.999182,
            "remaining_time": 242.7803082,
            "test": [
             0.915670542,
             0.7663078902
            ]
           },
           {
            "iteration": 1640,
            "learn": [
             0.9708761711,
             0.5338841385
            ],
            "passed_time": 1106.655827,
            "remaining_time": 242.1020366,
            "test": [
             0.915670542,
             0.766234652
            ]
           },
           {
            "iteration": 1641,
            "learn": [
             0.970946349,
             0.533809129
            ],
            "passed_time": 1107.318987,
            "remaining_time": 241.4252115,
            "test": [
             0.9157524153,
             0.7661559769
            ]
           },
           {
            "iteration": 1642,
            "learn": [
             0.9711217937,
             0.5337072545
            ],
            "passed_time": 1107.969843,
            "remaining_time": 240.7457298,
            "test": [
             0.9160799083,
             0.7660700259
            ]
           },
           {
            "iteration": 1643,
            "learn": [
             0.97091126,
             0.5332520576
            ],
            "passed_time": 1108.639664,
            "remaining_time": 240.0703895,
            "test": [
             0.9155886687,
             0.765609249
            ]
           },
           {
            "iteration": 1644,
            "learn": [
             0.9712972385,
             0.5328430863
            ],
            "passed_time": 1109.328943,
            "remaining_time": 239.3992551,
            "test": [
             0.9159161618,
             0.7653846572
            ]
           },
           {
            "iteration": 1645,
            "learn": [
             0.9712972385,
             0.5327554325
            ],
            "passed_time": 1109.981296,
            "remaining_time": 238.7201572,
            "test": [
             0.9159161618,
             0.7652689633
            ]
           },
           {
            "iteration": 1646,
            "learn": [
             0.9712972385,
             0.5326751802
            ],
            "passed_time": 1110.647138,
            "remaining_time": 238.0439827,
            "test": [
             0.9159161618,
             0.7651456736
            ]
           },
           {
            "iteration": 1647,
            "learn": [
             0.9712972385,
             0.5323311783
            ],
            "passed_time": 1111.315325,
            "remaining_time": 237.3683219,
            "test": [
             0.9159161618,
             0.7648621555
            ]
           },
           {
            "iteration": 1648,
            "learn": [
             0.9712270606,
             0.5321741689
            ],
            "passed_time": 1111.985329,
            "remaining_time": 236.6930567,
            "test": [
             0.9158342885,
             0.7646803393
            ]
           },
           {
            "iteration": 1649,
            "learn": [
             0.9712270606,
             0.5320914152
            ],
            "passed_time": 1112.64418,
            "remaining_time": 236.0154322,
            "test": [
             0.9158342885,
             0.7645876722
            ]
           },
           {
            "iteration": 1650,
            "learn": [
             0.9712270606,
             0.5319814538
            ],
            "passed_time": 1113.302495,
            "remaining_time": 235.337717,
            "test": [
             0.9158342885,
             0.7644603849
            ]
           },
           {
            "iteration": 1651,
            "learn": [
             0.9715077722,
             0.530893902
            ],
            "passed_time": 1114.013525,
            "remaining_time": 234.67113,
            "test": [
             0.9161617816,
             0.7634309725
            ]
           },
           {
            "iteration": 1652,
            "learn": [
             0.9714726833,
             0.5304598133
            ],
            "passed_time": 1114.683848,
            "remaining_time": 233.995944,
            "test": [
             0.9162436548,
             0.7630785337
            ]
           },
           {
            "iteration": 1653,
            "learn": [
             0.9716130391,
             0.5296868284
            ],
            "passed_time": 1115.361582,
            "remaining_time": 233.3223141,
            "test": [
             0.9164074013,
             0.7623602238
            ]
           },
           {
            "iteration": 1654,
            "learn": [
             0.971683217,
             0.5296053082
            ],
            "passed_time": 1116.046199,
            "remaining_time": 232.6501139,
            "test": [
             0.9164892746,
             0.7622923425
            ]
           },
           {
            "iteration": 1655,
            "learn": [
             0.971683217,
             0.5295366381
            ],
            "passed_time": 1116.714136,
            "remaining_time": 231.974434,
            "test": [
             0.9164892746,
             0.762216306
            ]
           },
           {
            "iteration": 1656,
            "learn": [
             0.9717884838,
             0.5290092416
            ],
            "passed_time": 1117.384455,
            "remaining_time": 231.2992565,
            "test": [
             0.9164892746,
             0.7615570023
            ]
           },
           {
            "iteration": 1657,
            "learn": [
             0.9718586617,
             0.5289214164
            ],
            "passed_time": 1118.053304,
            "remaining_time": 230.6237816,
            "test": [
             0.9165711479,
             0.7614421879
            ]
           },
           {
            "iteration": 1658,
            "learn": [
             0.9714726833,
             0.5280464199
            ],
            "passed_time": 1118.763018,
            "remaining_time": 229.9567145,
            "test": [
             0.9162436548,
             0.7606636723
            ]
           },
           {
            "iteration": 1659,
            "learn": [
             0.9715428612,
             0.5279501652
            ],
            "passed_time": 1119.447584,
            "remaining_time": 229.2844448,
            "test": [
             0.9163255281,
             0.760553895
            ]
           },
           {
            "iteration": 1660,
            "learn": [
             0.9715779501,
             0.527649065
            ],
            "passed_time": 1120.124492,
            "remaining_time": 228.6105977,
            "test": [
             0.9162436548,
             0.7602923643
            ]
           },
           {
            "iteration": 1661,
            "learn": [
             0.9715779501,
             0.527556888
            ],
            "passed_time": 1120.802733,
            "remaining_time": 227.937018,
            "test": [
             0.9162436548,
             0.760203615
            ]
           },
           {
            "iteration": 1662,
            "learn": [
             0.9717183059,
             0.5271515832
            ],
            "passed_time": 1121.475263,
            "remaining_time": 227.2622752,
            "test": [
             0.9164074013,
             0.7597892115
            ]
           },
           {
            "iteration": 1663,
            "learn": [
             0.9717183059,
             0.5270597145
            ],
            "passed_time": 1122.136804,
            "remaining_time": 226.5853162,
            "test": [
             0.9166530211,
             0.7597035804
            ]
           },
           {
            "iteration": 1664,
            "learn": [
             0.9717183059,
             0.5269384452
            ],
            "passed_time": 1122.837945,
            "remaining_time": 225.9163432,
            "test": [
             0.9164074013,
             0.7595918042
            ]
           },
           {
            "iteration": 1665,
            "learn": [
             0.9715779501,
             0.5265535975
            ],
            "passed_time": 1123.507729,
            "remaining_time": 225.2410453,
            "test": [
             0.9164892746,
             0.7592010673
            ]
           },
           {
            "iteration": 1666,
            "learn": [
             0.9715779501,
             0.5264795133
            ],
            "passed_time": 1124.166984,
            "remaining_time": 224.5636506,
            "test": [
             0.9164892746,
             0.7591362243
            ]
           },
           {
            "iteration": 1667,
            "learn": [
             0.971648128,
             0.5263916196
            ],
            "passed_time": 1124.830576,
            "remaining_time": 223.887141,
            "test": [
             0.9165711479,
             0.7590272465
            ]
           },
           {
            "iteration": 1668,
            "learn": [
             0.9717884838,
             0.5262756273
            ],
            "passed_time": 1125.494754,
            "remaining_time": 223.2107631,
            "test": [
             0.9167348944,
             0.7588768524
            ]
           },
           {
            "iteration": 1669,
            "learn": [
             0.9718235728,
             0.5258092937
            ],
            "passed_time": 1126.168359,
            "remaining_time": 222.5362626,
            "test": [
             0.9166530211,
             0.7585137797
            ]
           },
           {
            "iteration": 1670,
            "learn": [
             0.9718937507,
             0.5257250666
            ],
            "passed_time": 1126.820244,
            "remaining_time": 221.8574866,
            "test": [
             0.9167348944,
             0.7584401417
            ]
           },
           {
            "iteration": 1671,
            "learn": [
             0.9718937507,
             0.5256533124
            ],
            "passed_time": 1127.481836,
            "remaining_time": 221.1806473,
            "test": [
             0.9167348944,
             0.7583552302
            ]
           },
           {
            "iteration": 1672,
            "learn": [
             0.9719639286,
             0.5255926949
            ],
            "passed_time": 1128.143253,
            "remaining_time": 220.5037919,
            "test": [
             0.9168167676,
             0.7582943849
            ]
           },
           {
            "iteration": 1673,
            "learn": [
             0.9719639286,
             0.5251144023
            ],
            "passed_time": 1128.825855,
            "remaining_time": 219.8310804,
            "test": [
             0.9165711479,
             0.7578609523
            ]
           },
           {
            "iteration": 1674,
            "learn": [
             0.9719639286,
             0.5250454237
            ],
            "passed_time": 1129.509661,
            "remaining_time": 219.1585909,
            "test": [
             0.9165711479,
             0.7578011465
            ]
           },
           {
            "iteration": 1675,
            "learn": [
             0.9720341065,
             0.5249586266
            ],
            "passed_time": 1130.165629,
            "remaining_time": 218.4807063,
            "test": [
             0.9168986409,
             0.7577254297
            ]
           },
           {
            "iteration": 1676,
            "learn": [
             0.9720341065,
             0.5246153442
            ],
            "passed_time": 1130.901664,
            "remaining_time": 217.8182692,
            "test": [
             0.9166530211,
             0.7573471657
            ]
           },
           {
            "iteration": 1677,
            "learn": [
             0.9720341065,
             0.5245509574
            ],
            "passed_time": 1131.565662,
            "remaining_time": 217.1419208,
            "test": [
             0.9166530211,
             0.7572477824
            ]
           },
           {
            "iteration": 1678,
            "learn": [
             0.9720341065,
             0.5244636119
            ],
            "passed_time": 1132.229324,
            "remaining_time": 216.4655228,
            "test": [
             0.9168986409,
             0.757097788
            ]
           },
           {
            "iteration": 1679,
            "learn": [
             0.9720341065,
             0.5243972376
            ],
            "passed_time": 1132.876569,
            "remaining_time": 215.7860131,
            "test": [
             0.9168986409,
             0.7569731392
            ]
           },
           {
            "iteration": 1680,
            "learn": [
             0.9720341065,
             0.5243162315
            ],
            "passed_time": 1133.546014,
            "remaining_time": 215.1107545,
            "test": [
             0.9168986409,
             0.7569080563
            ]
           },
           {
            "iteration": 1681,
            "learn": [
             0.9720341065,
             0.5242385835
            ],
            "passed_time": 1134.235458,
            "remaining_time": 214.4392839,
            "test": [
             0.9168986409,
             0.7568393755
            ]
           },
           {
            "iteration": 1682,
            "learn": [
             0.9720341065,
             0.5241524716
            ],
            "passed_time": 1134.912921,
            "remaining_time": 213.7655354,
            "test": [
             0.9168986409,
             0.7567133675
            ]
           },
           {
            "iteration": 1683,
            "learn": [
             0.9721042844,
             0.5240336695
            ],
            "passed_time": 1135.581361,
            "remaining_time": 213.0900891,
            "test": [
             0.9169805142,
             0.7565385073
            ]
           },
           {
            "iteration": 1684,
            "learn": [
             0.9720691954,
             0.5236791477
            ],
            "passed_time": 1136.284143,
            "remaining_time": 212.4210713,
            "test": [
             0.9168167676,
             0.7562506716
            ]
           },
           {
            "iteration": 1685,
            "learn": [
             0.9720691954,
             0.5236218541
            ],
            "passed_time": 1136.946723,
            "remaining_time": 211.7445262,
            "test": [
             0.9168167676,
             0.7561741553
            ]
           },
           {
            "iteration": 1686,
            "learn": [
             0.9720691954,
             0.5226482385
            ],
            "passed_time": 1137.658115,
            "remaining_time": 211.0770539,
            "test": [
             0.9168167676,
             0.7551457824
            ]
           },
           {
            "iteration": 1687,
            "learn": [
             0.9720691954,
             0.5225771011
            ],
            "passed_time": 1138.313326,
            "remaining_time": 210.3991456,
            "test": [
             0.9168167676,
             0.7550596715
            ]
           },
           {
            "iteration": 1688,
            "learn": [
             0.9722446402,
             0.5208578453
            ],
            "passed_time": 1139.06308,
            "remaining_time": 209.7386725,
            "test": [
             0.9168986409,
             0.7535094365
            ]
           },
           {
            "iteration": 1689,
            "learn": [
             0.9722446402,
             0.5207799232
            ],
            "passed_time": 1139.747881,
            "remaining_time": 209.0661793,
            "test": [
             0.9168986409,
             0.7534010184
            ]
           },
           {
            "iteration": 1690,
            "learn": [
             0.9723148181,
             0.5207137202
            ],
            "passed_time": 1140.409197,
            "remaining_time": 208.3893802,
            "test": [
             0.9169805142,
             0.75327557
            ]
           },
           {
            "iteration": 1691,
            "learn": [
             0.972384996,
             0.520288815
            ],
            "passed_time": 1141.1134,
            "remaining_time": 207.7204061,
            "test": [
             0.917553627,
             0.7527452328
            ]
           },
           {
            "iteration": 1692,
            "learn": [
             0.972384996,
             0.5201954043
            ],
            "passed_time": 1141.773349,
            "remaining_time": 207.0433657,
            "test": [
             0.917553627,
             0.7526510466
            ]
           },
           {
            "iteration": 1693,
            "learn": [
             0.972384996,
             0.5201324224
            ],
            "passed_time": 1142.430519,
            "remaining_time": 206.3658435,
            "test": [
             0.917553627,
             0.7525966776
            ]
           },
           {
            "iteration": 1694,
            "learn": [
             0.9723148181,
             0.5200601885
            ],
            "passed_time": 1143.082595,
            "remaining_time": 205.6874287,
            "test": [
             0.9174717537,
             0.7524916975
            ]
           },
           {
            "iteration": 1695,
            "learn": [
             0.9724200849,
             0.5196721198
            ],
            "passed_time": 1143.762424,
            "remaining_time": 205.0140193,
            "test": [
             0.9177173735,
             0.7520649811
            ]
           },
           {
            "iteration": 1696,
            "learn": [
             0.972384996,
             0.5195634948
            ],
            "passed_time": 1144.452859,
            "remaining_time": 204.3424964,
            "test": [
             0.917553627,
             0.7519433706
            ]
           },
           {
            "iteration": 1697,
            "learn": [
             0.9724551739,
             0.5191883789
            ],
            "passed_time": 1145.11088,
            "remaining_time": 203.665186,
            "test": [
             0.9173898805,
             0.7515497553
            ]
           },
           {
            "iteration": 1698,
            "learn": [
             0.9725253518,
             0.5188061697
            ],
            "passed_time": 1145.799848,
            "remaining_time": 202.993381,
            "test": [
             0.9174717537,
             0.7511834844
            ]
           },
           {
            "iteration": 1699,
            "learn": [
             0.9724551739,
             0.5178444104
            ],
            "passed_time": 1146.483631,
            "remaining_time": 202.3206409,
            "test": [
             0.9171442607,
             0.7503417249
            ]
           },
           {
            "iteration": 1700,
            "learn": [
             0.9724551739,
             0.5177777962
            ],
            "passed_time": 1147.143019,
            "remaining_time": 201.6435995,
            "test": [
             0.9171442607,
             0.7502684068
            ]
           },
           {
            "iteration": 1701,
            "learn": [
             0.9729464192,
             0.5169171232
            ],
            "passed_time": 1147.836263,
            "remaining_time": 200.9725067,
            "test": [
             0.9179629933,
             0.7494907707
            ]
           },
           {
            "iteration": 1702,
            "learn": [
             0.9728411523,
             0.5168570882
            ],
            "passed_time": 1148.493217,
            "remaining_time": 200.295059,
            "test": [
             0.9179629933,
             0.7494459163
            ]
           },
           {
            "iteration": 1703,
            "learn": [
             0.9728411523,
             0.516793558
            ],
            "passed_time": 1149.149942,
            "remaining_time": 199.6175956,
            "test": [
             0.9179629933,
             0.7493856307
            ]
           },
           {
            "iteration": 1704,
            "learn": [
             0.9729464192,
             0.5159725314
            ],
            "passed_time": 1149.89951,
            "remaining_time": 198.9562202,
            "test": [
             0.9179629933,
             0.7486342197
            ]
           },
           {
            "iteration": 1705,
            "learn": [
             0.9729113302,
             0.5155734288
            ],
            "passed_time": 1150.552565,
            "remaining_time": 198.278109,
            "test": [
             0.9180448665,
             0.7482228545
            ]
           },
           {
            "iteration": 1706,
            "learn": [
             0.9727709744,
             0.5151915281
            ],
            "passed_time": 1151.260046,
            "remaining_time": 197.6093693,
            "test": [
             0.91788112,
             0.747847229
            ]
           },
           {
            "iteration": 1707,
            "learn": [
             0.9728411523,
             0.5150762554
            ],
            "passed_time": 1151.910762,
            "remaining_time": 196.9308797,
            "test": [
             0.9179629933,
             0.7476519005
            ]
           },
           {
            "iteration": 1708,
            "learn": [
             0.9728411523,
             0.5150184477
            ],
            "passed_time": 1152.559675,
            "remaining_time": 196.2521156,
            "test": [
             0.9179629933,
             0.7475623516
            ]
           },
           {
            "iteration": 1709,
            "learn": [
             0.9728411523,
             0.5149266819
            ],
            "passed_time": 1153.219553,
            "remaining_time": 195.5752458,
            "test": [
             0.9179629933,
             0.7474527342
            ]
           },
           {
            "iteration": 1710,
            "learn": [
             0.9729113302,
             0.5148620895
            ],
            "passed_time": 1153.878172,
            "remaining_time": 194.8981833,
            "test": [
             0.9180448665,
             0.7473873315
            ]
           },
           {
            "iteration": 1711,
            "learn": [
             0.9729113302,
             0.5147815973
            ],
            "passed_time": 1154.56796,
            "remaining_time": 194.2263858,
            "test": [
             0.9180448665,
             0.7472902669
            ]
           },
           {
            "iteration": 1712,
            "learn": [
             0.9729113302,
             0.5147299234
            ],
            "passed_time": 1155.225579,
            "remaining_time": 193.5491776,
            "test": [
             0.9180448665,
             0.7472240647
            ]
           },
           {
            "iteration": 1713,
            "learn": [
             0.9728411523,
             0.5146738633
            ],
            "passed_time": 1155.895812,
            "remaining_time": 192.8740969,
            "test": [
             0.9179629933,
             0.747149947
            ]
           },
           {
            "iteration": 1714,
            "learn": [
             0.9728411523,
             0.514583194
            ],
            "passed_time": 1156.557668,
            "remaining_time": 192.19763,
            "test": [
             0.9179629933,
             0.7470625569
            ]
           },
           {
            "iteration": 1715,
            "learn": [
             0.9731569529,
             0.5142019443
            ],
            "passed_time": 1157.216542,
            "remaining_time": 191.5206864,
            "test": [
             0.9182086131,
             0.7466563088
            ]
           },
           {
            "iteration": 1716,
            "learn": [
             0.973051686,
             0.5138606837
            ],
            "passed_time": 1157.91357,
            "remaining_time": 190.8500525,
            "test": [
             0.9182086131,
             0.7463373709
            ]
           },
           {
            "iteration": 1717,
            "learn": [
             0.9731218639,
             0.5137795405
            ],
            "passed_time": 1158.571649,
            "remaining_time": 190.1729949,
            "test": [
             0.9182904863,
             0.7462333503
            ]
           },
           {
            "iteration": 1718,
            "learn": [
             0.9731218639,
             0.5136804416
            ],
            "passed_time": 1159.262331,
            "remaining_time": 189.5012885,
            "test": [
             0.9182904863,
             0.7461103805
            ]
           },
           {
            "iteration": 1719,
            "learn": [
             0.9734727534,
             0.5127112807
            ],
            "passed_time": 1159.944595,
            "remaining_time": 188.8281899,
            "test": [
             0.9182086131,
             0.7451785125
            ]
           },
           {
            "iteration": 1720,
            "learn": [
             0.9735078424,
             0.5123563135
            ],
            "passed_time": 1160.615489,
            "remaining_time": 188.1532374,
            "test": [
             0.9181267398,
             0.7448254341
            ]
           },
           {
            "iteration": 1721,
            "learn": [
             0.9734727534,
             0.5106326716
            ],
            "passed_time": 1161.324864,
            "remaining_time": 187.4845019,
            "test": [
             0.9184542328,
             0.7433285286
            ]
           },
           {
            "iteration": 1722,
            "learn": [
             0.9734727534,
             0.5105508773
            ],
            "passed_time": 1161.983965,
            "remaining_time": 186.8076369,
            "test": [
             0.9184542328,
             0.7432654446
            ]
           },
           {
            "iteration": 1723,
            "learn": [
             0.9734727534,
             0.5104801169
            ],
            "passed_time": 1162.707047,
            "remaining_time": 186.1410353,
            "test": [
             0.9184542328,
             0.743177175
            ]
           },
           {
            "iteration": 1724,
            "learn": [
             0.9734727534,
             0.5104124747
            ],
            "passed_time": 1163.36761,
            "remaining_time": 185.4644015,
            "test": [
             0.9184542328,
             0.743068597
            ]
           },
           {
            "iteration": 1725,
            "learn": [
             0.9734727534,
             0.5103005944
            ],
            "passed_time": 1164.025572,
            "remaining_time": 184.7873735,
            "test": [
             0.9184542328,
             0.7429305158
            ]
           },
           {
            "iteration": 1726,
            "learn": [
             0.9734727534,
             0.5101959786
            ],
            "passed_time": 1164.68589,
            "remaining_time": 184.11074,
            "test": [
             0.9184542328,
             0.7427450217
            ]
           },
           {
            "iteration": 1727,
            "learn": [
             0.9734376645,
             0.5098276817
            ],
            "passed_time": 1165.344789,
            "remaining_time": 183.4339019,
            "test": [
             0.9185361061,
             0.7423870661
            ]
           },
           {
            "iteration": 1728,
            "learn": [
             0.9735078424,
             0.509733483
            ],
            "passed_time": 1166.012639,
            "remaining_time": 182.7584877,
            "test": [
             0.9186179794,
             0.7423063122
            ]
           },
           {
            "iteration": 1729,
            "learn": [
             0.9736131092,
             0.5093525417
            ],
            "passed_time": 1166.692304,
            "remaining_time": 182.084926,
            "test": [
             0.9186179794,
             0.7419445187
            ]
           },
           {
            "iteration": 1730,
            "learn": [
             0.9736832871,
             0.5092734202
            ],
            "passed_time": 1167.353215,
            "remaining_time": 181.408443,
            "test": [
             0.9186998526,
             0.7418855924
            ]
           },
           {
            "iteration": 1731,
            "learn": [
             0.9736481982,
             0.5089252035
            ],
            "passed_time": 1168.016695,
            "remaining_time": 180.7323755,
            "test": [
             0.9187817259,
             0.7415630565
            ]
           },
           {
            "iteration": 1732,
            "learn": [
             0.9736481982,
             0.5088286061
            ],
            "passed_time": 1168.675395,
            "remaining_time": 180.055586,
            "test": [
             0.9187817259,
             0.7414357691
            ]
           },
           {
            "iteration": 1733,
            "learn": [
             0.9736832871,
             0.5079889385
            ],
            "passed_time": 1169.404246,
            "remaining_time": 179.3895787,
            "test": [
             0.9189454724,
             0.7405495551
            ]
           },
           {
            "iteration": 1734,
            "learn": [
             0.9737183761,
             0.5076570669
            ],
            "passed_time": 1170.087368,
            "remaining_time": 178.7165145,
            "test": [
             0.9191092189,
             0.7402368536
            ]
           },
           {
            "iteration": 1735,
            "learn": [
             0.9737183761,
             0.5072063589
            ],
            "passed_time": 1170.77244,
            "remaining_time": 178.0437351,
            "test": [
             0.9191092189,
             0.7398845747
            ]
           },
           {
            "iteration": 1736,
            "learn": [
             0.973753465,
             0.5063590156
            ],
            "passed_time": 1171.460399,
            "remaining_time": 177.3713788,
            "test": [
             0.9192729654,
             0.7389698969
            ]
           },
           {
            "iteration": 1737,
            "learn": [
             0.973788554,
             0.5062767759
            ],
            "passed_time": 1172.112927,
            "remaining_time": 176.6936633,
            "test": [
             0.9191910922,
             0.7388445284
            ]
           },
           {
            "iteration": 1738,
            "learn": [
             0.9738587319,
             0.5062142737
            ],
            "passed_time": 1172.809225,
            "remaining_time": 176.0225461,
            "test": [
             0.9192729654,
             0.7387551395
            ]
           },
           {
            "iteration": 1739,
            "learn": [
             0.9738587319,
             0.5057939944
            ],
            "passed_time": 1173.486422,
            "remaining_time": 175.3485458,
            "test": [
             0.9192729654,
             0.7383209873
            ]
           },
           {
            "iteration": 1740,
            "learn": [
             0.9738587319,
             0.5057277914
            ],
            "passed_time": 1174.169262,
            "remaining_time": 174.6753813,
            "test": [
             0.9192729654,
             0.738242792
            ]
           },
           {
            "iteration": 1741,
            "learn": [
             0.9738236429,
             0.5056758433
            ],
            "passed_time": 1174.83269,
            "remaining_time": 173.9993306,
            "test": [
             0.9193548387,
             0.7381870638
            ]
           },
           {
            "iteration": 1742,
            "learn": [
             0.9739639987,
             0.5056200231
            ],
            "passed_time": 1175.498227,
            "remaining_time": 173.3236055,
            "test": [
             0.9195185852,
             0.738102552
            ]
           },
           {
            "iteration": 1743,
            "learn": [
             0.9739639987,
             0.5055388799
            ],
            "passed_time": 1176.180756,
            "remaining_time": 172.6503862,
            "test": [
             0.9195185852,
             0.7379314497
            ]
           },
           {
            "iteration": 1744,
            "learn": [
             0.9739639987,
             0.5054494785
            ],
            "passed_time": 1176.837975,
            "remaining_time": 171.9734576,
            "test": [
             0.9195185852,
             0.7378315867
            ]
           },
           {
            "iteration": 1745,
            "learn": [
             0.9738938208,
             0.5053874218
            ],
            "passed_time": 1177.537062,
            "remaining_time": 171.3026424,
            "test": [
             0.919436712,
             0.7377511526
            ]
           },
           {
            "iteration": 1746,
            "learn": [
             0.9739289098,
             0.5050312552
            ],
            "passed_time": 1178.195919,
            "remaining_time": 170.6259688,
            "test": [
             0.9196004585,
             0.7373907184
            ]
           },
           {
            "iteration": 1747,
            "learn": [
             0.9739289098,
             0.50496656
            ],
            "passed_time": 1178.862219,
            "remaining_time": 169.9503886,
            "test": [
             0.9196004585,
             0.7372955727
            ]
           },
           {
            "iteration": 1748,
            "learn": [
             0.9739289098,
             0.5048904197
            ],
            "passed_time": 1179.520116,
            "remaining_time": 169.2736129,
            "test": [
             0.9196004585,
             0.7371954699
            ]
           },
           {
            "iteration": 1749,
            "learn": [
             0.9739289098,
             0.5048267867
            ],
            "passed_time": 1180.177149,
            "remaining_time": 168.5967356,
            "test": [
             0.9196004585,
             0.73712511
            ]
           },
           {
            "iteration": 1750,
            "learn": [
             0.9739289098,
             0.504764216
            ],
            "passed_time": 1180.861409,
            "remaining_time": 167.9237526,
            "test": [
             0.9196004585,
             0.7370845732
            ]
           },
           {
            "iteration": 1751,
            "learn": [
             0.9739289098,
             0.5046734096
            ],
            "passed_time": 1181.519726,
            "remaining_time": 167.2470844,
            "test": [
             0.9196004585,
             0.7369080339
            ]
           },
           {
            "iteration": 1752,
            "learn": [
             0.9739289098,
             0.5046196454
            ],
            "passed_time": 1182.191827,
            "remaining_time": 166.5723796,
            "test": [
             0.9196004585,
             0.7368307181
            ]
           },
           {
            "iteration": 1753,
            "learn": [
             0.9741043545,
             0.5036679604
            ],
            "passed_time": 1182.862631,
            "remaining_time": 165.8974956,
            "test": [
             0.9199279515,
             0.7359282733
            ]
           },
           {
            "iteration": 1754,
            "learn": [
             0.9742447103,
             0.5035933278
            ],
            "passed_time": 1183.52813,
            "remaining_time": 165.2218757,
            "test": [
             0.9200916981,
             0.7358195353
            ]
           },
           {
            "iteration": 1755,
            "learn": [
             0.9742447103,
             0.5035057425
            ],
            "passed_time": 1184.261726,
            "remaining_time": 164.5557295,
            "test": [
             0.9200916981,
             0.735694087
            ]
           },
           {
            "iteration": 1756,
            "learn": [
             0.9740692656,
             0.5029584029
            ],
            "passed_time": 1184.966771,
            "remaining_time": 163.8855579,
            "test": [
             0.9195185852,
             0.7350974676
            ]
           },
           {
            "iteration": 1757,
            "learn": [
             0.9741745324,
             0.5028620111
            ],
            "passed_time": 1185.699598,
            "remaining_time": 163.2191711,
            "test": [
             0.919764205,
             0.7349649832
            ]
           },
           {
            "iteration": 1758,
            "learn": [
             0.9741745324,
             0.5027849113
            ],
            "passed_time": 1186.394591,
            "remaining_time": 162.547525,
            "test": [
             0.919764205,
             0.7348705571
            ]
           },
           {
            "iteration": 1759,
            "learn": [
             0.9740692656,
             0.5023500688
            ],
            "passed_time": 1187.065849,
            "remaining_time": 161.8726157,
            "test": [
             0.919764205,
             0.7344428013
            ]
           },
           {
            "iteration": 1760,
            "learn": [
             0.9740341766,
             0.5022808846
            ],
            "passed_time": 1187.754425,
            "remaining_time": 161.200061,
            "test": [
             0.9196004585,
             0.7343801171
            ]
           },
           {
            "iteration": 1761,
            "learn": [
             0.9741745324,
             0.5022151956
            ],
            "passed_time": 1188.418103,
            "remaining_time": 160.5241252,
            "test": [
             0.919764205,
             0.7343078383
            ]
           },
           {
            "iteration": 1762,
            "learn": [
             0.9741745324,
             0.5021516654
            ],
            "passed_time": 1189.07972,
            "remaining_time": 159.8479261,
            "test": [
             0.919764205,
             0.7342251655
            ]
           },
           {
            "iteration": 1763,
            "learn": [
             0.9744201551,
             0.5001796938
            ],
            "passed_time": 1189.855657,
            "remaining_time": 159.1870381,
            "test": [
             0.9204191911,
             0.7326428688
            ]
           },
           {
            "iteration": 1764,
            "learn": [
             0.9744201551,
             0.5000997499
            ],
            "passed_time": 1190.5092,
            "remaining_time": 158.5097235,
            "test": [
             0.9204191911,
             0.7325717095
            ]
           },
           {
            "iteration": 1765,
            "learn": [
             0.9744201551,
             0.4999011753
            ],
            "passed_time": 1191.211413,
            "remaining_time": 157.8388848,
            "test": [
             0.9204191911,
             0.7323408013
            ]
           },
           {
            "iteration": 1766,
            "learn": [
             0.9744201551,
             0.4998325051
            ],
            "passed_time": 1191.866123,
            "remaining_time": 157.1617468,
            "test": [
             0.9204191911,
             0.7322798761
            ]
           },
           {
            "iteration": 1767,
            "learn": [
             0.9743850661,
             0.4994122943
            ],
            "passed_time": 1192.55126,
            "remaining_time": 156.4886269,
            "test": [
             0.9200098248,
             0.7318907382
            ]
           },
           {
            "iteration": 1768,
            "learn": [
             0.9743850661,
             0.4993548293
            ],
            "passed_time": 1193.222491,
            "remaining_time": 155.8136775,
            "test": [
             0.9200098248,
             0.7318234966
            ]
           },
           {
            "iteration": 1769,
            "learn": [
             0.9744201551,
             0.4992824584
            ],
            "passed_time": 1193.897467,
            "remaining_time": 155.1392188,
            "test": [
             0.9201735713,
             0.7317571345
            ]
           },
           {
            "iteration": 1770,
            "learn": [
             0.9744201551,
             0.4991759922
            ],
            "passed_time": 1194.594165,
            "remaining_time": 154.4675685,
            "test": [
             0.9201735713,
             0.7315978654
            ]
           },
           {
            "iteration": 1771,
            "learn": [
             0.974490333,
             0.499089709
            ],
            "passed_time": 1195.253032,
            "remaining_time": 153.7910222,
            "test": [
             0.9202554446,
             0.7315352612
            ]
           },
           {
            "iteration": 1772,
            "learn": [
             0.974490333,
             0.4989966411
            ],
            "passed_time": 1195.917564,
            "remaining_time": 153.1152211,
            "test": [
             0.9202554446,
             0.7314627425
            ]
           },
           {
            "iteration": 1773,
            "learn": [
             0.974490333,
             0.4988976792
            ],
            "passed_time": 1196.576766,
            "remaining_time": 152.4387537,
            "test": [
             0.9202554446,
             0.7313181851
            ]
           },
           {
            "iteration": 1774,
            "learn": [
             0.9746657777,
             0.4985934265
            ],
            "passed_time": 1197.239237,
            "remaining_time": 151.7627201,
            "test": [
             0.9205829376,
             0.7310179565
            ]
           },
           {
            "iteration": 1775,
            "learn": [
             0.9748412225,
             0.4981759571
            ],
            "passed_time": 1197.954604,
            "remaining_time": 151.0933734,
            "test": [
             0.9206648109,
             0.7305881219
            ]
           },
           {
            "iteration": 1776,
            "learn": [
             0.9748061335,
             0.4977877171
            ],
            "passed_time": 1198.613547,
            "remaining_time": 150.4168943,
            "test": [
             0.9205010644,
             0.7301391781
            ]
           },
           {
            "iteration": 1777,
            "learn": [
             0.9748061335,
             0.4977271681
            ],
            "passed_time": 1199.283162,
            "remaining_time": 149.7417672,
            "test": [
             0.9205010644,
             0.7300609028
            ]
           },
           {
            "iteration": 1778,
            "learn": [
             0.9748412225,
             0.4976292
            ],
            "passed_time": 1199.9377,
            "remaining_time": 149.0647733,
            "test": [
             0.9206648109,
             0.729948487
            ]
           },
           {
            "iteration": 1779,
            "learn": [
             0.9748763114,
             0.4975560066
            ],
            "passed_time": 1200.587256,
            "remaining_time": 148.3871889,
            "test": [
             0.9205829376,
             0.7299021934
            ]
           },
           {
            "iteration": 1780,
            "learn": [
             0.9749464894,
             0.4974874735
            ],
            "passed_time": 1201.268676,
            "remaining_time": 147.7135541,
            "test": [
             0.9206648109,
             0.7298089667
            ]
           },
           {
            "iteration": 1781,
            "learn": [
             0.9748412225,
             0.4970596213
            ],
            "passed_time": 1201.937981,
            "remaining_time": 147.0384287,
            "test": [
             0.9206648109,
             0.7293712166
            ]
           },
           {
            "iteration": 1782,
            "learn": [
             0.9748412225,
             0.4969952002
            ],
            "passed_time": 1202.61392,
            "remaining_time": 146.364117,
            "test": [
             0.9206648109,
             0.7292859852
            ]
           },
           {
            "iteration": 1783,
            "learn": [
             0.9748412225,
             0.4969134745
            ],
            "passed_time": 1203.270127,
            "remaining_time": 145.6874145,
            "test": [
             0.9206648109,
             0.7291683724
            ]
           },
           {
            "iteration": 1784,
            "learn": [
             0.9749815783,
             0.496529038
            ],
            "passed_time": 1203.974062,
            "remaining_time": 145.0164837,
            "test": [
             0.9208285574,
             0.7288091374
            ]
           },
           {
            "iteration": 1785,
            "learn": [
             0.9749815783,
             0.4964634176
            ],
            "passed_time": 1204.659468,
            "remaining_time": 144.3432957,
            "test": [
             0.9208285574,
             0.7287288633
            ]
           },
           {
            "iteration": 1786,
            "learn": [
             0.9749815783,
             0.4963947131
            ],
            "passed_time": 1205.317229,
            "remaining_time": 143.666799,
            "test": [
             0.9208285574,
             0.7286157279
            ]
           },
           {
            "iteration": 1787,
            "learn": [
             0.9750868452,
             0.4959883118
            ],
            "passed_time": 1206.025418,
            "remaining_time": 142.9963023,
            "test": [
             0.9210741772,
             0.7281356819
            ]
           },
           {
            "iteration": 1788,
            "learn": [
             0.9751570231,
             0.4955766677
            ],
            "passed_time": 1206.704785,
            "remaining_time": 142.3223642,
            "test": [
             0.9206648109,
             0.7277566183
            ]
           },
           {
            "iteration": 1789,
            "learn": [
             0.9753675568,
             0.4940886426
            ],
            "passed_time": 1207.416691,
            "remaining_time": 141.6522375,
            "test": [
             0.9218929098,
             0.7265493875
            ]
           },
           {
            "iteration": 1790,
            "learn": [
             0.9753675568,
             0.4940066428
            ],
            "passed_time": 1208.080104,
            "remaining_time": 140.9764052,
            "test": [
             0.9218929098,
             0.7264368917
            ]
           },
           {
            "iteration": 1791,
            "learn": [
             0.9754026457,
             0.49366408
            ],
            "passed_time": 1208.735281,
            "remaining_time": 140.2996309,
            "test": [
             0.9218110365,
             0.7261540132
            ]
           },
           {
            "iteration": 1792,
            "learn": [
             0.9754026457,
             0.4935918119
            ],
            "passed_time": 1209.4267,
            "remaining_time": 139.6270646,
            "test": [
             0.9218110365,
             0.7261149955
            ]
           },
           {
            "iteration": 1793,
            "learn": [
             0.9753324678,
             0.4935294125
            ],
            "passed_time": 1210.090266,
            "remaining_time": 138.9512791,
            "test": [
             0.9217291633,
             0.7260514318
            ]
           },
           {
            "iteration": 1794,
            "learn": [
             0.9753324678,
             0.4934744147
            ],
            "passed_time": 1210.744697,
            "remaining_time": 138.274464,
            "test": [
             0.9217291633,
             0.7259311804
            ]
           },
           {
            "iteration": 1795,
            "learn": [
             0.9753324678,
             0.4934052648
            ],
            "passed_time": 1211.401125,
            "remaining_time": 137.5979006,
            "test": [
             0.9217291633,
             0.7258440302
            ]
           },
           {
            "iteration": 1796,
            "learn": [
             0.9753324678,
             0.4933185019
            ],
            "passed_time": 1212.057347,
            "remaining_time": 136.9213364,
            "test": [
             0.9217291633,
             0.7256925966
            ]
           },
           {
            "iteration": 1797,
            "learn": [
             0.9753324678,
             0.4932396202
            ],
            "passed_time": 1212.71927,
            "remaining_time": 136.2454352,
            "test": [
             0.9217291633,
             0.7255916143
            ]
           },
           {
            "iteration": 1798,
            "learn": [
             0.9754026457,
             0.4931927436
            ],
            "passed_time": 1213.375109,
            "remaining_time": 135.5688699,
            "test": [
             0.9218110365,
             0.7255381248
            ]
           },
           {
            "iteration": 1799,
            "learn": [
             0.9758588021,
             0.491646671
            ],
            "passed_time": 1214.140676,
            "remaining_time": 134.9045195,
            "test": [
             0.9222204028,
             0.724129489
            ]
           },
           {
            "iteration": 1800,
            "learn": [
             0.9758588021,
             0.4915590514
            ],
            "passed_time": 1214.801488,
            "remaining_time": 134.2284821,
            "test": [
             0.9222204028,
             0.7240463364
            ]
           },
           {
            "iteration": 1801,
            "learn": [
             0.9758588021,
             0.4914963436
            ],
            "passed_time": 1215.488347,
            "remaining_time": 133.5553233,
            "test": [
             0.9224660226,
             0.7239632639
            ]
           },
           {
            "iteration": 1802,
            "learn": [
             0.97592898,
             0.4914222936
            ],
            "passed_time": 1216.145948,
            "remaining_time": 132.8789527,
            "test": [
             0.9225478959,
             0.7239060165
            ]
           },
           {
            "iteration": 1803,
            "learn": [
             0.97592898,
             0.4913622929
            ],
            "passed_time": 1216.797061,
            "remaining_time": 132.201898,
            "test": [
             0.9223022761,
             0.7238174271
            ]
           },
           {
            "iteration": 1804,
            "learn": [
             0.975893891,
             0.4913063699
            ],
            "passed_time": 1217.461569,
            "remaining_time": 131.5263191,
            "test": [
             0.9221385296,
             0.7237327554
            ]
           },
           {
            "iteration": 1805,
            "learn": [
             0.9759640689,
             0.4912268372
            ],
            "passed_time": 1218.130388,
            "remaining_time": 130.8512155,
            "test": [
             0.9224660226,
             0.7236097856
            ]
           },
           {
            "iteration": 1806,
            "learn": [
             0.9759640689,
             0.4911349686
            ],
            "passed_time": 1218.800172,
            "remaining_time": 130.1762221,
            "test": [
             0.9227116424,
             0.7235333493
            ]
           },
           {
            "iteration": 1807,
            "learn": [
             0.97592898,
             0.4907815091
            ],
            "passed_time": 1219.461205,
            "remaining_time": 129.500305,
            "test": [
             0.9225478959,
             0.7232135319
            ]
           },
           {
            "iteration": 1808,
            "learn": [
             0.97592898,
             0.4907186642
            ],
            "passed_time": 1220.117111,
            "remaining_time": 128.823863,
            "test": [
             0.9225478959,
             0.7231661189
            ]
           },
           {
            "iteration": 1809,
            "learn": [
             0.9760342468,
             0.490338374
            ],
            "passed_time": 1220.784533,
            "remaining_time": 128.1486527,
            "test": [
             0.9223022761,
             0.7227920925
            ]
           },
           {
            "iteration": 1810,
            "learn": [
             0.9760342468,
             0.4902215593
            ],
            "passed_time": 1221.446999,
            "remaining_time": 127.4729337,
            "test": [
             0.9223022761,
             0.7226289056
            ]
           },
           {
            "iteration": 1811,
            "learn": [
             0.9760693358,
             0.4901090965
            ],
            "passed_time": 1222.135691,
            "remaining_time": 126.7999503,
            "test": [
             0.9224660226,
             0.7224853076
            ]
           },
           {
            "iteration": 1812,
            "learn": [
             0.9760342468,
             0.4900510489
            ],
            "passed_time": 1222.794036,
            "remaining_time": 126.1238195,
            "test": [
             0.9223022761,
             0.7224451705
            ]
           },
           {
            "iteration": 1813,
            "learn": [
             0.9759991579,
             0.4899866964
            ],
            "passed_time": 1223.454886,
            "remaining_time": 125.4479651,
            "test": [
             0.9221385296,
             0.7223474663
            ]
           },
           {
            "iteration": 1814,
            "learn": [
             0.9760342468,
             0.4890576273
            ],
            "passed_time": 1224.130548,
            "remaining_time": 124.7736371,
            "test": [
             0.9225478959,
             0.7214840392
            ]
           },
           {
            "iteration": 1815,
            "learn": [
             0.9760342468,
             0.4886524596
            ],
            "passed_time": 1224.81308,
            "remaining_time": 124.1000038,
            "test": [
             0.9225478959,
             0.7210304581
            ]
           },
           {
            "iteration": 1816,
            "learn": [
             0.97592898,
             0.4885605567
            ],
            "passed_time": 1225.529269,
            "remaining_time": 123.4297503,
            "test": [
             0.9223022761,
             0.7209411491
            ]
           },
           {
            "iteration": 1817,
            "learn": [
             0.9759640689,
             0.4885209445
            ],
            "passed_time": 1226.195861,
            "remaining_time": 122.7544811,
            "test": [
             0.9224660226,
             0.7208788647
            ]
           },
           {
            "iteration": 1818,
            "learn": [
             0.9760693358,
             0.4884699216
            ],
            "passed_time": 1226.856734,
            "remaining_time": 122.0786525,
            "test": [
             0.9227116424,
             0.7208163404
            ]
           },
           {
            "iteration": 1819,
            "learn": [
             0.9764553142,
             0.4876286092
            ],
            "passed_time": 1227.554365,
            "remaining_time": 121.4064757,
            "test": [
             0.9227935156,
             0.7201057061
            ]
           },
           {
            "iteration": 1820,
            "learn": [
             0.9763149584,
             0.4873110611
            ],
            "passed_time": 1228.238359,
            "remaining_time": 120.7329304,
            "test": [
             0.9223841493,
             0.7196700348
            ]
           },
           {
            "iteration": 1821,
            "learn": [
             0.9762447805,
             0.4868896167
            ],
            "passed_time": 1228.949138,
            "remaining_time": 120.0619905,
            "test": [
             0.9223022761,
             0.7192568307
            ]
           },
           {
            "iteration": 1822,
            "learn": [
             0.9762447805,
             0.4867967886
            ],
            "passed_time": 1229.597076,
            "remaining_time": 119.3849053,
            "test": [
             0.9223022761,
             0.7191456941
            ]
           },
           {
            "iteration": 1823,
            "learn": [
             0.9762447805,
             0.4867413111
            ],
            "passed_time": 1230.260411,
            "remaining_time": 118.7093379,
            "test": [
             0.9223022761,
             0.7190779728
            ]
           },
           {
            "iteration": 1824,
            "learn": [
             0.9762447805,
             0.4866767186
            ],
            "passed_time": 1230.924413,
            "remaining_time": 118.0338478,
            "test": [
             0.9223022761,
             0.7190068933
            ]
           },
           {
            "iteration": 1825,
            "learn": [
             0.9764904032,
             0.4862422873
            ],
            "passed_time": 1231.590016,
            "remaining_time": 117.3585229,
            "test": [
             0.9227116424,
             0.7186469388
            ]
           },
           {
            "iteration": 1826,
            "learn": [
             0.9765254921,
             0.4861792368
            ],
            "passed_time": 1232.304575,
            "remaining_time": 116.6878443,
            "test": [
             0.9228753889,
             0.7185601084
            ]
           },
           {
            "iteration": 1827,
            "learn": [
             0.9764202253,
             0.4858807409
            ],
            "passed_time": 1232.970421,
            "remaining_time": 116.0125341,
            "test": [
             0.9226297691,
             0.7182673955
            ]
           },
           {
            "iteration": 1828,
            "learn": [
             0.9764202253,
             0.485818787
            ],
            "passed_time": 1233.63426,
            "remaining_time": 115.3370467,
            "test": [
             0.9226297691,
             0.7182225411
            ]
           },
           {
            "iteration": 1829,
            "learn": [
             0.9764904032,
             0.4857498769
            ],
            "passed_time": 1234.293965,
            "remaining_time": 114.661188,
            "test": [
             0.9227116424,
             0.718145705
            ]
           },
           {
            "iteration": 1830,
            "learn": [
             0.9764904032,
             0.4849047952
            ],
            "passed_time": 1235.000259,
            "remaining_time": 113.989647,
            "test": [
             0.9227116424,
             0.7172376634
            ]
           },
           {
            "iteration": 1831,
            "learn": [
             0.9765605811,
             0.4846299432
            ],
            "passed_time": 1235.709238,
            "remaining_time": 113.3183144,
            "test": [
             0.9227935156,
             0.7170008386
            ]
           },
           {
            "iteration": 1832,
            "learn": [
             0.9767009369,
             0.4836224037
            ],
            "passed_time": 1236.409331,
            "remaining_time": 112.6461311,
            "test": [
             0.9229572622,
             0.7161222201
            ]
           },
           {
            "iteration": 1833,
            "learn": [
             0.9767009369,
             0.4835312547
            ],
            "passed_time": 1237.072873,
            "remaining_time": 111.970609,
            "test": [
             0.9229572622,
             0.7159999699
            ]
           },
           {
            "iteration": 1834,
            "learn": [
             0.9766658479,
             0.4834417504
            ],
            "passed_time": 1237.723967,
            "remaining_time": 111.2939807,
            "test": [
             0.9227935156,
             0.7158849156
            ]
           },
           {
            "iteration": 1835,
            "learn": [
             0.9766658479,
             0.4833783573
            ],
            "passed_time": 1238.382808,
            "remaining_time": 110.6180721,
            "test": [
             0.9227935156,
             0.7157838533
            ]
           },
           {
            "iteration": 1836,
            "learn": [
             0.9766658479,
             0.4833278484
            ],
            "passed_time": 1239.064103,
            "remaining_time": 109.9441746,
            "test": [
             0.9227935156,
             0.7157177311
            ]
           },
           {
            "iteration": 1837,
            "learn": [
             0.9768062037,
             0.4832581845
            ],
            "passed_time": 1239.718907,
            "remaining_time": 109.2679341,
            "test": [
             0.9229572622,
             0.7156241045
            ]
           },
           {
            "iteration": 1838,
            "learn": [
             0.9768062037,
             0.4831708391
            ],
            "passed_time": 1240.402804,
            "remaining_time": 108.594264,
            "test": [
             0.9229572622,
             0.7155458292
            ]
           },
           {
            "iteration": 1839,
            "learn": [
             0.9768062037,
             0.4822868305
            ],
            "passed_time": 1241.07902,
            "remaining_time": 107.9199148,
            "test": [
             0.9232028819,
             0.7148401521
            ]
           },
           {
            "iteration": 1840,
            "learn": [
             0.9768062037,
             0.4821920835
            ],
            "passed_time": 1241.749428,
            "remaining_time": 107.245062,
            "test": [
             0.9232028819,
             0.7147396494
            ]
           },
           {
            "iteration": 1841,
            "learn": [
             0.9768062037,
             0.4821399983
            ],
            "passed_time": 1242.434439,
            "remaining_time": 106.5714666,
            "test": [
             0.9232028819,
             0.7146472222
            ]
           },
           {
            "iteration": 1842,
            "learn": [
             0.9768412927,
             0.4818218334
            ],
            "passed_time": 1243.103756,
            "remaining_time": 105.8965218,
            "test": [
             0.9233666285,
             0.7143092551
            ]
           },
           {
            "iteration": 1843,
            "learn": [
             0.9768412927,
             0.4816920659
            ],
            "passed_time": 1243.797492,
            "remaining_time": 105.223649,
            "test": [
             0.9233666285,
             0.714129118
            ]
           },
           {
            "iteration": 1844,
            "learn": [
             0.9768412927,
             0.4816001973
            ],
            "passed_time": 1244.449765,
            "remaining_time": 104.5472703,
            "test": [
             0.9231210087,
             0.7140104657
            ]
           },
           {
            "iteration": 1845,
            "learn": [
             0.9768763816,
             0.4815058272
            ],
            "passed_time": 1245.123081,
            "remaining_time": 103.872673,
            "test": [
             0.9232847552,
             0.713892613
            ]
           },
           {
            "iteration": 1846,
            "learn": [
             0.9768412927,
             0.4814305436
            ],
            "passed_time": 1245.789887,
            "remaining_time": 103.197538,
            "test": [
             0.9231210087,
             0.7138128185
            ]
           },
           {
            "iteration": 1847,
            "learn": [
             0.9768412927,
             0.4813694121
            ],
            "passed_time": 1246.440504,
            "remaining_time": 102.5210804,
            "test": [
             0.9231210087,
             0.7137469361
            ]
           },
           {
            "iteration": 1848,
            "learn": [
             0.9768412927,
             0.4813233236
            ],
            "passed_time": 1247.114466,
            "remaining_time": 101.8465572,
            "test": [
             0.9231210087,
             0.7136884895
            ]
           },
           {
            "iteration": 1849,
            "learn": [
             0.9768412927,
             0.481264248
            ],
            "passed_time": 1247.756669,
            "remaining_time": 101.1694597,
            "test": [
             0.9231210087,
             0.7136030983
            ]
           },
           {
            "iteration": 1850,
            "learn": [
             0.9768412927,
             0.4812064061
            ],
            "passed_time": 1248.425936,
            "remaining_time": 100.4945783,
            "test": [
             0.9231210087,
             0.7135151485
            ]
           },
           {
            "iteration": 1851,
            "learn": [
             0.9768412927,
             0.4811388667
            ],
            "passed_time": 1249.075379,
            "remaining_time": 99.81811882,
            "test": [
             0.9231210087,
             0.713437113
            ]
           },
           {
            "iteration": 1852,
            "learn": [
             0.9768412927,
             0.4810942174
            ],
            "passed_time": 1249.73246,
            "remaining_time": 99.14229444,
            "test": [
             0.9231210087,
             0.7134083295
            ]
           },
           {
            "iteration": 1853,
            "learn": [
             0.9768412927,
             0.4808201878
            ],
            "passed_time": 1250.403325,
            "remaining_time": 98.46757575,
            "test": [
             0.9233666285,
             0.7131422414
            ]
           },
           {
            "iteration": 1854,
            "learn": [
             0.9768412927,
             0.4807043326
            ],
            "passed_time": 1251.05582,
            "remaining_time": 97.79142529,
            "test": [
             0.9233666285,
             0.7130053595
            ]
           },
           {
            "iteration": 1855,
            "learn": [
             0.9768412927,
             0.4806349428
            ],
            "passed_time": 1251.750236,
            "remaining_time": 97.11855281,
            "test": [
             0.9233666285,
             0.7129030979
            ]
           },
           {
            "iteration": 1856,
            "learn": [
             0.9769816485,
             0.4805863871
            ],
            "passed_time": 1252.407029,
            "remaining_time": 96.44275991,
            "test": [
             0.923530375,
             0.7128291401
            ]
           },
           {
            "iteration": 1857,
            "learn": [
             0.9769816485,
             0.4805267633
            ],
            "passed_time": 1253.065047,
            "remaining_time": 95.76708106,
            "test": [
             0.923530375,
             0.712766296
            ]
           },
           {
            "iteration": 1858,
            "learn": [
             0.9770518264,
             0.4798677832
            ],
            "passed_time": 1253.765435,
            "remaining_time": 95.09463489,
            "test": [
             0.9236122482,
             0.7122788942
            ]
           },
           {
            "iteration": 1859,
            "learn": [
             0.9772272711,
             0.4795282359
            ],
            "passed_time": 1254.436309,
            "remaining_time": 94.41993722,
            "test": [
             0.9236941215,
             0.7118513783
            ]
           },
           {
            "iteration": 1860,
            "learn": [
             0.9772272711,
             0.4794737178
            ],
            "passed_time": 1255.121491,
            "remaining_time": 93.74631232,
            "test": [
             0.9236941215,
             0.71177838
            ]
           },
           {
            "iteration": 1861,
            "learn": [
             0.977297449,
             0.4791012061
            ],
            "passed_time": 1255.805518,
            "remaining_time": 93.07258941,
            "test": [
             0.9240216145,
             0.7114217036
            ]
           },
           {
            "iteration": 1862,
            "learn": [
             0.977297449,
             0.4790331528
            ],
            "passed_time": 1256.456757,
            "remaining_time": 92.39644429,
            "test": [
             0.9240216145,
             0.7113251987
            ]
           },
           {
            "iteration": 1863,
            "learn": [
             0.977297449,
             0.4789760304
            ],
            "passed_time": 1257.122998,
            "remaining_time": 91.72142049,
            "test": [
             0.9240216145,
             0.7111907954
            ]
           },
           {
            "iteration": 1864,
            "learn": [
             0.977297449,
             0.4788929683
            ],
            "passed_time": 1257.782188,
            "remaining_time": 91.04589568,
            "test": [
             0.9240216145,
             0.7110737422
            ]
           },
           {
            "iteration": 1865,
            "learn": [
             0.977332538,
             0.4788005857
            ],
            "passed_time": 1258.483359,
            "remaining_time": 90.37340309,
            "test": [
             0.9241853611,
             0.7109901899
            ]
           },
           {
            "iteration": 1866,
            "learn": [
             0.9774378048,
             0.4783939787
            ],
            "passed_time": 1259.148449,
            "remaining_time": 89.6983094,
            "test": [
             0.9246766006,
             0.7106462263
            ]
           },
           {
            "iteration": 1867,
            "learn": [
             0.9774378048,
             0.4782860734
            ],
            "passed_time": 1259.814006,
            "remaining_time": 89.02325952,
            "test": [
             0.9246766006,
             0.7104983107
            ]
           },
           {
            "iteration": 1868,
            "learn": [
             0.9774378048,
             0.4781935879
            ],
            "passed_time": 1260.460548,
            "remaining_time": 88.34688699,
            "test": [
             0.9246766006,
             0.71041204
            ]
           },
           {
            "iteration": 1869,
            "learn": [
             0.9775430717,
             0.4778829274
            ],
            "passed_time": 1261.109038,
            "remaining_time": 87.67068178,
            "test": [
             0.9246766006,
             0.7100625595
            ]
           },
           {
            "iteration": 1870,
            "learn": [
             0.9775781606,
             0.4778200482
            ],
            "passed_time": 1261.771198,
            "remaining_time": 86.99544871,
            "test": [
             0.9248403471,
             0.7099782076
            ]
           },
           {
            "iteration": 1871,
            "learn": [
             0.9775781606,
             0.4777554558
            ],
            "passed_time": 1262.426373,
            "remaining_time": 86.319752,
            "test": [
             0.9248403471,
             0.7099088872
            ]
           },
           {
            "iteration": 1872,
            "learn": [
             0.9775781606,
             0.4776467965
            ],
            "passed_time": 1263.127847,
            "remaining_time": 85.6472165,
            "test": [
             0.9248403471,
             0.7097675279
            ]
           },
           {
            "iteration": 1873,
            "learn": [
             0.9775430717,
             0.4773057415
            ],
            "passed_time": 1263.795001,
            "remaining_time": 84.97234265,
            "test": [
             0.9244309808,
             0.7094621822
            ]
           },
           {
            "iteration": 1874,
            "learn": [
             0.9776834275,
             0.4772230221
            ],
            "passed_time": 1264.458087,
            "remaining_time": 84.2972058,
            "test": [
             0.9245947274,
             0.7093607202
            ]
           },
           {
            "iteration": 1875,
            "learn": [
             0.9776834275,
             0.4771458538
            ],
            "passed_time": 1265.109094,
            "remaining_time": 83.62128341,
            "test": [
             0.9245947274,
             0.7092934785
            ]
           },
           {
            "iteration": 1876,
            "learn": [
             0.9776132496,
             0.4763106408
            ],
            "passed_time": 1265.799295,
            "remaining_time": 82.9479559,
            "test": [
             0.9245128541,
             0.7084544375
            ]
           },
           {
            "iteration": 1877,
            "learn": [
             0.9776834275,
             0.4762476589
            ],
            "passed_time": 1266.476006,
            "remaining_time": 82.27373417,
            "test": [
             0.9248403471,
             0.7083726442
            ]
           },
           {
            "iteration": 1878,
            "learn": [
             0.9775430717,
             0.4756040645
            ],
            "passed_time": 1267.137924,
            "remaining_time": 81.59855708,
            "test": [
             0.9249222204,
             0.7076703252
            ]
           },
           {
            "iteration": 1879,
            "learn": [
             0.9775781606,
             0.4752882982
            ],
            "passed_time": 1267.830549,
            "remaining_time": 80.9253542,
            "test": [
             0.9250859669,
             0.7072897424
            ]
           },
           {
            "iteration": 1880,
            "learn": [
             0.9777886943,
             0.4743937698
            ],
            "passed_time": 1268.515375,
            "remaining_time": 80.25163725,
            "test": [
             0.9250859669,
             0.7063992108
            ]
           },
           {
            "iteration": 1881,
            "learn": [
             0.9778588722,
             0.4743432952
            ],
            "passed_time": 1269.1713,
            "remaining_time": 79.57609641,
            "test": [
             0.9251678402,
             0.7063405243
            ]
           },
           {
            "iteration": 1882,
            "learn": [
             0.9778237833,
             0.4734944784
            ],
            "passed_time": 1269.919753,
            "remaining_time": 78.90632559,
            "test": [
             0.9259865728,
             0.7054999642
            ]
           },
           {
            "iteration": 1883,
            "learn": [
             0.9778237833,
             0.4734368421
            ],
            "passed_time": 1270.577685,
            "remaining_time": 78.23089778,
            "test": [
             0.9259865728,
             0.7054081766
            ]
           },
           {
            "iteration": 1884,
            "learn": [
             0.9777886943,
             0.4730644332
            ],
            "passed_time": 1271.269678,
            "remaining_time": 77.55756659,
            "test": [
             0.9253315867,
             0.7049872969
            ]
           },
           {
            "iteration": 1885,
            "learn": [
             0.9777886943,
             0.4729916853
            ],
            "passed_time": 1271.924008,
            "remaining_time": 76.88193896,
            "test": [
             0.9253315867,
             0.7048967885
            ]
           },
           {
            "iteration": 1886,
            "learn": [
             0.9777886943,
             0.4729162646
            ],
            "passed_time": 1272.586242,
            "remaining_time": 76.20680729,
            "test": [
             0.9253315867,
             0.7047975652
            ]
           },
           {
            "iteration": 1887,
            "learn": [
             0.9777886943,
             0.4728587653
            ],
            "passed_time": 1273.24962,
            "remaining_time": 75.5317571,
            "test": [
             0.9253315867,
             0.7047305634
            ]
           },
           {
            "iteration": 1888,
            "learn": [
             0.9778237833,
             0.4727765941
            ],
            "passed_time": 1273.901926,
            "remaining_time": 74.85606872,
            "test": [
             0.9254953332,
             0.7046148695
            ]
           },
           {
            "iteration": 1889,
            "learn": [
             0.9778237833,
             0.4727120359
            ],
            "passed_time": 1274.593896,
            "remaining_time": 74.1827135,
            "test": [
             0.9254953332,
             0.7045485073
            ]
           },
           {
            "iteration": 1890,
            "learn": [
             0.9777536054,
             0.4726498079
            ],
            "passed_time": 1275.250282,
            "remaining_time": 73.50728752,
            "test": [
             0.92541346,
             0.7044959773
            ]
           },
           {
            "iteration": 1891,
            "learn": [
             0.9777536054,
             0.4723313003
            ],
            "passed_time": 1275.93534,
            "remaining_time": 72.83351837,
            "test": [
             0.9256590797,
             0.7041520937
            ]
           },
           {
            "iteration": 1892,
            "learn": [
             0.9777886943,
             0.4722690722
            ],
            "passed_time": 1276.598807,
            "remaining_time": 72.15851684,
            "test": [
             0.9258228263,
             0.7040567881
            ]
           },
           {
            "iteration": 1893,
            "learn": [
             0.9777536054,
             0.4722170213
            ],
            "passed_time": 1277.263666,
            "remaining_time": 71.48360539,
            "test": [
             0.9256590797,
             0.7040010599
            ]
           },
           {
            "iteration": 1894,
            "learn": [
             0.9778588722,
             0.4721496875
            ],
            "passed_time": 1277.947672,
            "remaining_time": 70.80976549,
            "test": [
             0.9259046995,
             0.7039479702
            ]
           },
           {
            "iteration": 1895,
            "learn": [
             0.977999228,
             0.4718402263
            ],
            "passed_time": 1278.603063,
            "remaining_time": 70.13434523,
            "test": [
             0.9258228263,
             0.7036642921
            ]
           },
           {
            "iteration": 1896,
            "learn": [
             0.9779290501,
             0.4717941721
            ],
            "passed_time": 1279.262156,
            "remaining_time": 69.4591471,
            "test": [
             0.925740953,
             0.7036002487
            ]
           },
           {
            "iteration": 1897,
            "learn": [
             0.9779290501,
             0.4717350965
            ],
            "passed_time": 1279.908689,
            "remaining_time": 68.78329097,
            "test": [
             0.925740953,
             0.70354548
            ]
           },
           {
            "iteration": 1898,
            "learn": [
             0.9779290501,
             0.4716886996
            ],
            "passed_time": 1280.573575,
            "remaining_time": 68.10844182,
            "test": [
             0.925740953,
             0.7034775188
            ]
           },
           {
            "iteration": 1899,
            "learn": [
             0.9779290501,
             0.4716311661
            ],
            "passed_time": 1281.234923,
            "remaining_time": 67.43341702,
            "test": [
             0.925740953,
             0.7033916478
            ]
           },
           {
            "iteration": 1900,
            "learn": [
             0.9782448507,
             0.4706413081
            ],
            "passed_time": 1281.918081,
            "remaining_time": 66.75954236,
            "test": [
             0.925740953,
             0.7025111904
            ]
           },
           {
            "iteration": 1901,
            "learn": [
             0.9782448507,
             0.4705899083
            ],
            "passed_time": 1282.579847,
            "remaining_time": 66.08455572,
            "test": [
             0.925740953,
             0.7024503451
            ]
           },
           {
            "iteration": 1902,
            "learn": [
             0.9782448507,
             0.4705398449
            ],
            "passed_time": 1283.23555,
            "remaining_time": 65.40927398,
            "test": [
             0.925740953,
             0.7024059705
            ]
           },
           {
            "iteration": 1903,
            "learn": [
             0.9782799396,
             0.4704898157
            ],
            "passed_time": 1283.908135,
            "remaining_time": 64.73486396,
            "test": [
             0.9259046995,
             0.7023295341
            ]
           },
           {
            "iteration": 1904,
            "learn": [
             0.9781746728,
             0.470425189
            ],
            "passed_time": 1284.569341,
            "remaining_time": 64.05988839,
            "test": [
             0.9259046995,
             0.7022468613
            ]
           },
           {
            "iteration": 1905,
            "learn": [
             0.9781746728,
             0.470361556
            ],
            "passed_time": 1285.225346,
            "remaining_time": 63.3846708,
            "test": [
             0.9259046995,
             0.7021535546
            ]
           },
           {
            "iteration": 1906,
            "learn": [
             0.9782799396,
             0.4702946334
            ],
            "passed_time": 1285.914353,
            "remaining_time": 62.71108277,
            "test": [
             0.9259046995,
             0.7020524123
            ]
           },
           {
            "iteration": 1907,
            "learn": [
             0.9783150286,
             0.4701896407
            ],
            "passed_time": 1286.564239,
            "remaining_time": 62.03559223,
            "test": [
             0.926068446,
             0.701954948
            ]
           },
           {
            "iteration": 1908,
            "learn": [
             0.9783501175,
             0.4701248769
            ],
            "passed_time": 1287.21736,
            "remaining_time": 61.36028276,
            "test": [
             0.9262321926,
             0.7018781918
            ]
           },
           {
            "iteration": 1909,
            "learn": [
             0.9784904733,
             0.4700723806
            ],
            "passed_time": 1287.875029,
            "remaining_time": 60.68521081,
            "test": [
             0.9261503193,
             0.701821664
            ]
           },
           {
            "iteration": 1910,
            "learn": [
             0.9784553844,
             0.4700311922
            ],
            "passed_time": 1288.527653,
            "remaining_time": 60.00992208,
            "test": [
             0.9259865728,
             0.7017809673
            ]
           },
           {
            "iteration": 1911,
            "learn": [
             0.9784553844,
             0.4699595751
            ],
            "passed_time": 1289.203508,
            "remaining_time": 59.33572631,
            "test": [
             0.9259865728,
             0.7016880603
            ]
           },
           {
            "iteration": 1912,
            "learn": [
             0.9784553844,
             0.4698652392
            ],
            "passed_time": 1289.871166,
            "remaining_time": 58.66115602,
            "test": [
             0.9259865728,
             0.7015879575
            ]
           },
           {
            "iteration": 1913,
            "learn": [
             0.9784553844,
             0.4689405906
            ],
            "passed_time": 1290.572553,
            "remaining_time": 57.98810846,
            "test": [
             0.9264778123,
             0.7008035253
            ]
           },
           {
            "iteration": 1914,
            "learn": [
             0.9785255623,
             0.4688974147
            ],
            "passed_time": 1291.216887,
            "remaining_time": 57.31249888,
            "test": [
             0.9265596856,
             0.700730367
            ]
           },
           {
            "iteration": 1915,
            "learn": [
             0.9785255623,
             0.4688125707
            ],
            "passed_time": 1291.887756,
            "remaining_time": 56.63808532,
            "test": [
             0.9265596856,
             0.7006100357
            ]
           },
           {
            "iteration": 1916,
            "learn": [
             0.9785255623,
             0.4687452027
            ],
            "passed_time": 1292.547872,
            "remaining_time": 55.96320988,
            "test": [
             0.9265596856,
             0.7005388764
            ]
           },
           {
            "iteration": 1917,
            "learn": [
             0.9785255623,
             0.4686979491
            ],
            "passed_time": 1293.198143,
            "remaining_time": 55.28792893,
            "test": [
             0.9265596856,
             0.7005040962
            ]
           },
           {
            "iteration": 1918,
            "learn": [
             0.9789466297,
             0.4669980197
            ],
            "passed_time": 1293.957728,
            "remaining_time": 54.61728817,
            "test": [
             0.9275421647,
             0.6990567625
            ]
           },
           {
            "iteration": 1919,
            "learn": [
             0.9791220745,
             0.466662927
            ],
            "passed_time": 1294.617417,
            "remaining_time": 53.94239238,
            "test": [
             0.927624038,
             0.6987626104
            ]
           },
           {
            "iteration": 1920,
            "learn": [
             0.9789817187,
             0.4663286568
            ],
            "passed_time": 1295.278354,
            "remaining_time": 53.26756376,
            "test": [
             0.927951531,
             0.6983938609
            ]
           },
           {
            "iteration": 1921,
            "learn": [
             0.9789817187,
             0.4662502892
            ],
            "passed_time": 1295.936989,
            "remaining_time": 52.59265615,
            "test": [
             0.927951531,
             0.6983055113
            ]
           },
           {
            "iteration": 1922,
            "learn": [
             0.9791922524,
             0.4659306165
            ],
            "passed_time": 1296.608304,
            "remaining_time": 51.91827324,
            "test": [
             0.9281971508,
             0.6979842547
            ]
           },
           {
            "iteration": 1923,
            "learn": [
             0.9790869855,
             0.4657316992
            ],
            "passed_time": 1297.303584,
            "remaining_time": 51.2448401,
            "test": [
             0.9277059112,
             0.6978155511
            ]
           },
           {
            "iteration": 1924,
            "learn": [
             0.9790869855,
             0.4654567101
            ],
            "passed_time": 1297.970669,
            "remaining_time": 50.57028581,
            "test": [
             0.9274602915,
             0.697495014
            ]
           },
           {
            "iteration": 1925,
            "learn": [
             0.9789817187,
             0.4649880122
            ],
            "passed_time": 1298.689649,
            "remaining_time": 49.89773314,
            "test": [
             0.9272146717,
             0.6971137117
            ]
           },
           {
            "iteration": 1926,
            "learn": [
             0.9789466297,
             0.4649035794
            ],
            "passed_time": 1299.344427,
            "remaining_time": 49.22270014,
            "test": [
             0.9270509252,
             0.6970120098
            ]
           },
           {
            "iteration": 1927,
            "learn": [
             0.9789466297,
             0.4648525908
            ],
            "passed_time": 1300.016234,
            "remaining_time": 48.5483241,
            "test": [
             0.9270509252,
             0.6969592399
            ]
           },
           {
            "iteration": 1928,
            "learn": [
             0.9789817187,
             0.4647832695
            ],
            "passed_time": 1300.686972,
            "remaining_time": 47.87391135,
            "test": [
             0.9272146717,
             0.6968704106
            ]
           },
           {
            "iteration": 1929,
            "learn": [
             0.9791922524,
             0.464032181
            ],
            "passed_time": 1301.390727,
            "remaining_time": 47.20069996,
            "test": [
             0.927951531,
             0.6963268809
            ]
           },
           {
            "iteration": 1930,
            "learn": [
             0.9791922524,
             0.4639936996
            ],
            "passed_time": 1302.081464,
            "remaining_time": 46.52699173,
            "test": [
             0.927951531,
             0.6962737912
            ]
           },
           {
            "iteration": 1931,
            "learn": [
             0.9792273413,
             0.4639076563
            ],
            "passed_time": 1302.750307,
            "remaining_time": 45.85249526,
            "test": [
             0.9281152776,
             0.6961652132
            ]
           },
           {
            "iteration": 1932,
            "learn": [
             0.9792273413,
             0.4638502598
            ],
            "passed_time": 1303.415816,
            "remaining_time": 45.17788911,
            "test": [
             0.9281152776,
             0.6960949333
            ]
           },
           {
            "iteration": 1933,
            "learn": [
             0.9793326082,
             0.4635420664
            ],
            "passed_time": 1304.121801,
            "remaining_time": 44.50467367,
            "test": [
             0.9281152776,
             0.6958132541
            ]
           },
           {
            "iteration": 1934,
            "learn": [
             0.9793676971,
             0.4632006345
            ],
            "passed_time": 1304.795066,
            "remaining_time": 43.8303252,
            "test": [
             0.9282790241,
             0.6955216606
            ]
           },
           {
            "iteration": 1935,
            "learn": [
             0.9793676971,
             0.4631522844
            ],
            "passed_time": 1305.465479,
            "remaining_time": 43.15588359,
            "test": [
             0.9282790241,
             0.6954760067
            ]
           },
           {
            "iteration": 1936,
            "learn": [
             0.9793326082,
             0.4630880689
            ],
            "passed_time": 1306.120699,
            "remaining_time": 42.48095199,
            "test": [
             0.9281152776,
             0.695340564
            ]
           },
           {
            "iteration": 1937,
            "learn": [
             0.9793326082,
             0.4628454617
            ],
            "passed_time": 1306.78707,
            "remaining_time": 41.80639748,
            "test": [
             0.9281152776,
             0.6951003011
            ]
           },
           {
            "iteration": 1938,
            "learn": [
             0.9794027861,
             0.4625011856
            ],
            "passed_time": 1307.447223,
            "remaining_time": 41.13165579,
            "test": [
             0.9281971508,
             0.6946602324
            ]
           },
           {
            "iteration": 1939,
            "learn": [
             0.979437875,
             0.4624509851
            ],
            "passed_time": 1308.112524,
            "remaining_time": 40.45708838,
            "test": [
             0.9283608973,
             0.6946017058
            ]
           },
           {
            "iteration": 1940,
            "learn": [
             0.9795080529,
             0.4623779974
            ],
            "passed_time": 1308.779267,
            "remaining_time": 39.78257432,
            "test": [
             0.9284427706,
             0.6944614658
            ]
           },
           {
            "iteration": 1941,
            "learn": [
             0.9795431419,
             0.4623279339
            ],
            "passed_time": 1309.441205,
            "remaining_time": 39.10792475,
            "test": [
             0.9283608973,
             0.6944102951
            ]
           },
           {
            "iteration": 1942,
            "learn": [
             0.9795431419,
             0.4622677961
            ],
            "passed_time": 1310.151625,
            "remaining_time": 38.43471057,
            "test": [
             0.9283608973,
             0.6943294612
            ]
           },
           {
            "iteration": 1943,
            "learn": [
             0.9795431419,
             0.4622100913
            ],
            "passed_time": 1310.803784,
            "remaining_time": 37.75977979,
            "test": [
             0.9283608973,
             0.6942430305
            ]
           },
           {
            "iteration": 1944,
            "learn": [
             0.9795431419,
             0.4621533458
            ],
            "passed_time": 1311.471656,
            "remaining_time": 37.08531675,
            "test": [
             0.9283608973,
             0.6941648352
            ]
           },
           {
            "iteration": 1945,
            "learn": [
             0.9796133198,
             0.4617761054
            ],
            "passed_time": 1312.137835,
            "remaining_time": 36.4108135,
            "test": [
             0.9284427706,
             0.6937894495
            ]
           },
           {
            "iteration": 1946,
            "learn": [
             0.9796133198,
             0.4617176809
            ],
            "passed_time": 1312.795913,
            "remaining_time": 35.7360983,
            "test": [
             0.9284427706,
             0.6937090954
            ]
           },
           {
            "iteration": 1947,
            "learn": [
             0.9796133198,
             0.4616686454
            ],
            "passed_time": 1313.476386,
            "remaining_time": 35.06199797,
            "test": [
             0.9284427706,
             0.6936224248
            ]
           },
           {
            "iteration": 1948,
            "learn": [
             0.9796484087,
             0.4614046902
            ],
            "passed_time": 1314.156929,
            "remaining_time": 34.38789296,
            "test": [
             0.9286065171,
             0.6933342693
            ]
           },
           {
            "iteration": 1949,
            "learn": [
             0.9797185866,
             0.4606106656
            ],
            "passed_time": 1314.867343,
            "remaining_time": 33.71454725,
            "test": [
             0.9284427706,
             0.6927486836
            ]
           },
           {
            "iteration": 1950,
            "learn": [
             0.9797887645,
             0.4605669072
            ],
            "passed_time": 1315.55314,
            "remaining_time": 33.04054528,
            "test": [
             0.9285246439,
             0.6926607338
            ]
           },
           {
            "iteration": 1951,
            "learn": [
             0.9797887645,
             0.4605020406
            ],
            "passed_time": 1316.22017,
            "remaining_time": 32.36606976,
            "test": [
             0.9285246439,
             0.6926015676
            ]
           },
           {
            "iteration": 1952,
            "learn": [
             0.9797887645,
             0.4604567403
            ],
            "passed_time": 1316.907938,
            "remaining_time": 31.69210091,
            "test": [
             0.9285246439,
             0.6925440804
            ]
           },
           {
            "iteration": 1953,
            "learn": [
             0.9797887645,
             0.4603990011
            ],
            "passed_time": 1317.57019,
            "remaining_time": 31.01751726,
            "test": [
             0.9285246439,
             0.6924562906
            ]
           },
           {
            "iteration": 1954,
            "learn": [
             0.9797185866,
             0.4603153907
            ],
            "passed_time": 1318.240176,
            "remaining_time": 30.34312425,
            "test": [
             0.9284427706,
             0.6922746343
            ]
           },
           {
            "iteration": 1955,
            "learn": [
             0.9797185866,
             0.4595848621
            ],
            "passed_time": 1318.907937,
            "remaining_time": 29.6686857,
            "test": [
             0.9286883904,
             0.6916349994
            ]
           },
           {
            "iteration": 1956,
            "learn": [
             0.9797536756,
             0.459528802
            ],
            "passed_time": 1319.579752,
            "remaining_time": 28.99434304,
            "test": [
             0.9288521369,
             0.6915600822
            ]
           },
           {
            "iteration": 1957,
            "learn": [
             0.9797185866,
             0.4592070733
            ],
            "passed_time": 1320.289399,
            "remaining_time": 28.32081448,
            "test": [
             0.9286883904,
             0.6912648907
            ]
           },
           {
            "iteration": 1958,
            "learn": [
             0.9797185866,
             0.4591612247
            ],
            "passed_time": 1320.943038,
            "remaining_time": 27.64607685,
            "test": [
             0.9286883904,
             0.691211881
            ]
           },
           {
            "iteration": 1959,
            "learn": [
             0.9798940314,
             0.4564952868
            ],
            "passed_time": 1321.716386,
            "remaining_time": 26.9738038,
            "test": [
             0.9287702636,
             0.6888368368
            ]
           },
           {
            "iteration": 1960,
            "learn": [
             0.9799642093,
             0.4562176592
            ],
            "passed_time": 1322.395881,
            "remaining_time": 26.29956112,
            "test": [
             0.9290977567,
             0.6885280531
            ]
           },
           {
            "iteration": 1961,
            "learn": [
             0.9799992982,
             0.4559690211
            ],
            "passed_time": 1323.072163,
            "remaining_time": 25.62525087,
            "test": [
             0.9292615032,
             0.6882175903
            ]
           },
           {
            "iteration": 1962,
            "learn": [
             0.9799992982,
             0.4555694731
            ],
            "passed_time": 1323.771391,
            "remaining_time": 24.9513711,
            "test": [
             0.9292615032,
             0.6878568363
            ]
           },
           {
            "iteration": 1963,
            "learn": [
             0.9799992982,
             0.4555033044
            ],
            "passed_time": 1324.423702,
            "remaining_time": 24.27660553,
            "test": [
             0.9292615032,
             0.6877903942
            ]
           },
           {
            "iteration": 1964,
            "learn": [
             0.9799992982,
             0.4554536522
            ],
            "passed_time": 1325.083461,
            "remaining_time": 23.60199549,
            "test": [
             0.9292615032,
             0.687734666
            ]
           },
           {
            "iteration": 1965,
            "learn": [
             0.9800343872,
             0.4546333794
            ],
            "passed_time": 1325.791762,
            "remaining_time": 22.92824003,
            "test": [
             0.9289340102,
             0.6870245914
            ]
           },
           {
            "iteration": 1966,
            "learn": [
             0.980174743,
             0.4543661003
            ],
            "passed_time": 1326.468569,
            "remaining_time": 22.25392109,
            "test": [
             0.9293433765,
             0.6867525067
            ]
           },
           {
            "iteration": 1967,
            "learn": [
             0.9802449209,
             0.4540556453
            ],
            "passed_time": 1327.167939,
            "remaining_time": 21.57996649,
            "test": [
             0.9294252497,
             0.6864748253
            ]
           },
           {
            "iteration": 1968,
            "learn": [
             0.9802449209,
             0.4539916011
            ],
            "passed_time": 1327.829109,
            "remaining_time": 20.90538466,
            "test": [
             0.9294252497,
             0.6863791199
            ]
           },
           {
            "iteration": 1969,
            "learn": [
             0.9803150988,
             0.4539244044
            ],
            "passed_time": 1328.50618,
            "remaining_time": 20.23105858,
            "test": [
             0.929507123,
             0.6862910901
            ]
           },
           {
            "iteration": 1970,
            "learn": [
             0.9803150988,
             0.4538723193
            ],
            "passed_time": 1329.176937,
            "remaining_time": 19.55663682,
            "test": [
             0.929507123,
             0.686226567
            ]
           },
           {
            "iteration": 1971,
            "learn": [
             0.9803150988,
             0.4538182124
            ],
            "passed_time": 1329.839343,
            "remaining_time": 18.8821002,
            "test": [
             0.929507123,
             0.6861323008
            ]
           },
           {
            "iteration": 1972,
            "learn": [
             0.9803150988,
             0.4537345677
            ],
            "passed_time": 1330.518812,
            "remaining_time": 18.20780939,
            "test": [
             0.929507123,
             0.6860212442
            ]
           },
           {
            "iteration": 1973,
            "learn": [
             0.9803150988,
             0.4536652807
            ],
            "passed_time": 1331.177407,
            "remaining_time": 17.53323839,
            "test": [
             0.929507123,
             0.6859580003
            ]
           },
           {
            "iteration": 1974,
            "learn": [
             0.9803852767,
             0.453239416
            ],
            "passed_time": 1331.858858,
            "remaining_time": 16.85897288,
            "test": [
             0.9293433765,
             0.6855399989
            ]
           },
           {
            "iteration": 1975,
            "learn": [
             0.9805607214,
             0.4525608012
            ],
            "passed_time": 1332.579114,
            "remaining_time": 16.18517142,
            "test": [
             0.9294252497,
             0.6848186507
            ]
           },
           {
            "iteration": 1976,
            "learn": [
             0.9805607214,
             0.4524967913
            ],
            "passed_time": 1333.234448,
            "remaining_time": 15.51056768,
            "test": [
             0.9296708695,
             0.6846613805
            ]
           },
           {
            "iteration": 1977,
            "learn": [
             0.9805607214,
             0.4524249001
            ],
            "passed_time": 1333.919173,
            "remaining_time": 14.83631031,
            "test": [
             0.9296708695,
             0.6845844644
            ]
           },
           {
            "iteration": 1978,
            "learn": [
             0.9804905435,
             0.4521513502
            ],
            "passed_time": 1334.571687,
            "remaining_time": 14.16170057,
            "test": [
             0.9295889962,
             0.6843027852
            ]
           },
           {
            "iteration": 1979,
            "learn": [
             0.9805607214,
             0.4520880256
            ],
            "passed_time": 1335.245246,
            "remaining_time": 13.48732572,
            "test": [
             0.9296708695,
             0.6842491359
            ]
           },
           {
            "iteration": 1980,
            "learn": [
             0.9805607214,
             0.451821466
            ],
            "passed_time": 1335.917903,
            "remaining_time": 12.81294304,
            "test": [
             0.9296708695,
             0.6839764915
            ]
           },
           {
            "iteration": 1981,
            "learn": [
             0.9805607214,
             0.4517662969
            ],
            "passed_time": 1336.567721,
            "remaining_time": 12.13835468,
            "test": [
             0.9296708695,
             0.6838947781
            ]
           },
           {
            "iteration": 1982,
            "learn": [
             0.9803501877,
             0.4515352718
            ],
            "passed_time": 1337.267763,
            "remaining_time": 11.46422187,
            "test": [
             0.9294252497,
             0.6836557146
            ]
           },
           {
            "iteration": 1983,
            "learn": [
             0.9803150988,
             0.4514655051
            ],
            "passed_time": 1337.929769,
            "remaining_time": 10.7897562,
            "test": [
             0.9292615032,
             0.6835965484
            ]
           },
           {
            "iteration": 1984,
            "learn": [
             0.9803150988,
             0.4514009126
            ],
            "passed_time": 1338.59921,
            "remaining_time": 10.11535927,
            "test": [
             0.9292615032,
             0.6835197123
            ]
           },
           {
            "iteration": 1985,
            "learn": [
             0.9804905435,
             0.4510300457
            ],
            "passed_time": 1339.254917,
            "remaining_time": 9.440870514,
            "test": [
             0.929834616,
             0.6832000548
            ]
           },
           {
            "iteration": 1986,
            "learn": [
             0.9804905435,
             0.4509407128
            ],
            "passed_time": 1339.906583,
            "remaining_time": 8.766374221,
            "test": [
             0.929834616,
             0.6830698891
            ]
           },
           {
            "iteration": 1987,
            "learn": [
             0.9804554546,
             0.4508792386
            ],
            "passed_time": 1340.567975,
            "remaining_time": 8.091959608,
            "test": [
             0.9296708695,
             0.6829790609
            ]
           },
           {
            "iteration": 1988,
            "learn": [
             0.9804554546,
             0.4508206086
            ],
            "passed_time": 1341.223869,
            "remaining_time": 7.417527683,
            "test": [
             0.9296708695,
             0.6828998261
            ]
           },
           {
            "iteration": 1989,
            "learn": [
             0.9805958104,
             0.4507759935
            ],
            "passed_time": 1341.902052,
            "remaining_time": 6.74322639,
            "test": [
             0.9300802358,
             0.6828193121
            ]
           },
           {
            "iteration": 1990,
            "learn": [
             0.9806659883,
             0.4503923109
            ],
            "passed_time": 1342.572711,
            "remaining_time": 6.068887192,
            "test": [
             0.9304077288,
             0.6823700486
            ]
           },
           {
            "iteration": 1991,
            "learn": [
             0.9807712551,
             0.4503346746
            ],
            "passed_time": 1343.238478,
            "remaining_time": 5.39453204,
            "test": [
             0.9306533486,
             0.6822681867
            ]
           },
           {
            "iteration": 1992,
            "learn": [
             0.9807712551,
             0.450270322
            ],
            "passed_time": 1343.890692,
            "remaining_time": 4.720137905,
            "test": [
             0.9306533486,
             0.682190711
            ]
           },
           {
            "iteration": 1993,
            "learn": [
             0.9808063441,
             0.4499991707
            ],
            "passed_time": 1344.569798,
            "remaining_time": 4.045846936,
            "test": [
             0.9308170951,
             0.6819063133
            ]
           },
           {
            "iteration": 1994,
            "learn": [
             0.9809817888,
             0.4491631354
            ],
            "passed_time": 1345.310058,
            "remaining_time": 3.371704405,
            "test": [
             0.9308989684,
             0.6810862215
            ]
           },
           {
            "iteration": 1995,
            "learn": [
             0.9809817888,
             0.449104848
            ],
            "passed_time": 1345.96053,
            "remaining_time": 2.697315691,
            "test": [
             0.9308989684,
             0.6809772437
            ]
           },
           {
            "iteration": 1996,
            "learn": [
             0.9809466999,
             0.4487091036
            ],
            "passed_time": 1346.649674,
            "remaining_time": 2.023009024,
            "test": [
             0.9309808417,
             0.6805976204
            ]
           },
           {
            "iteration": 1997,
            "learn": [
             0.9809466999,
             0.4486615758
            ],
            "passed_time": 1347.308177,
            "remaining_time": 1.348656834,
            "test": [
             0.9309808417,
             0.6805137483
            ]
           },
           {
            "iteration": 1998,
            "learn": [
             0.9809116109,
             0.4485819404
            ],
            "passed_time": 1347.968234,
            "remaining_time": 0.6743212776,
            "test": [
             0.9308170951,
             0.6803979744
            ]
           },
           {
            "iteration": 1999,
            "learn": [
             0.9809116109,
             0.4485221452
            ],
            "passed_time": 1348.624799,
            "remaining_time": 0,
            "test": [
             0.9308170951,
             0.68030051
            ]
           }
          ],
          "meta": {
           "iteration_count": 2000,
           "launch_mode": "Train",
           "learn_metrics": [
            {
             "best_value": "Max",
             "name": "Accuracy"
            },
            {
             "best_value": "Min",
             "name": "MultiClass"
            }
           ],
           "learn_sets": [
            "learn"
           ],
           "name": "experiment",
           "parameters": "",
           "test_metrics": [
            {
             "best_value": "Max",
             "name": "Accuracy"
            },
            {
             "best_value": "Min",
             "name": "MultiClass"
            }
           ],
           "test_sets": [
            "test"
           ]
          }
         },
         "passed_iterations": 1999,
         "total_iterations": 2000
        },
        "name": "catboost_info",
        "path": "catboost_info"
       }
      },
      "layout": "IPY_MODEL_3b2b36921b3746bb8c7a82f78b2579e6"
     }
    }
   }
  }
 },
 "nbformat": 4,
 "nbformat_minor": 1
}
