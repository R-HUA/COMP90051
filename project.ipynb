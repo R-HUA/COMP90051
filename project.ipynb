{
 "nbformat": 4,
 "nbformat_minor": 0,
 "metadata": {
  "colab": {
   "provenance": [],
   "collapsed_sections": [],
   "machine_shape": "hm"
  },
  "kernelspec": {
   "name": "python3",
   "display_name": "Python 3"
  },
  "accelerator": "GPU",
  "gpuClass": "standard"
 },
 "cells": [
  {
   "cell_type": "markdown",
   "source": [
    "### COMP90051\n",
    "\n",
    "## Project2"
   ],
   "metadata": {
    "collapsed": false
   }
  },
  {
   "cell_type": "markdown",
   "source": [
    "# Process the data"
   ],
   "metadata": {
    "id": "kwS8FBAs-gw5"
   }
  },
  {
   "cell_type": "code",
   "source": [
    "import copy\n",
    "from sklearn.decomposition import PCA\n",
    "import numpy as np\n",
    "from tensorflow import keras\n",
    "import json\n",
    "\n",
    "\n",
    "\n",
    "data_file = open('train.json', 'r')\n",
    "train_data = json.load(data_file)"
   ],
   "metadata": {
    "id": "NA6RveC0-giu"
   },
   "execution_count": 15,
   "outputs": []
  },
  {
   "cell_type": "code",
   "source": [
    "prolific = []\n",
    "titles = []\n",
    "abstracts = []\n",
    "titles_and_abstracts = []\n",
    "title_words_by_author= np.zeros((100,5000))\n",
    "\n",
    "for i in range(len(train_data)):\n",
    "  auts = np.array(train_data[i]['authors'])\n",
    "  auts = auts[auts < 100]\n",
    "  cau = auts[auts >= 100]\n",
    "  authors = np.zeros(100)\n",
    "  if len(auts) > 0:\n",
    "    authors[auts] = 1\n",
    "  prolific.append(authors)\n",
    "\n",
    "  title = train_data[i][\"title\"]\n",
    "  titles.append(title)           # there are 3444 words appear in the title\n",
    "  abstracts.append(train_data[i][\"abstract\"])\n",
    "  titles_and_abstracts.append(title + train_data[i][\"abstract\"])\n",
    "  for j in title:\n",
    "    for m in auts:\n",
    "      title_words_by_author[m,j] = title_words_by_author[m,j] + 1\n",
    "prolific = np.array(prolific)\n",
    "\n",
    "\n",
    "venues = []\n",
    "for i in train_data :\n",
    "  venue = np.zeros(466)\n",
    "  vn = i[\"venue\"]\n",
    "  if vn == \"\":\n",
    "    venue[-1] = 1\n",
    "  else:\n",
    "    venue[vn] = 1\n",
    "  venues.append(venue)\n",
    "venues = np.array(venues)"
   ],
   "metadata": {
    "id": "qrVJ0UmV-gc7"
   },
   "execution_count": 2,
   "outputs": []
  },
  {
   "cell_type": "code",
   "source": [
    "from sklearn.decomposition import TruncatedSVD\n",
    "\n",
    "svd = TruncatedSVD(n_components=8)\n",
    "svd.fit(venues)\n",
    "venues = svd.transform(venues)\n"
   ],
   "metadata": {
    "id": "QLoAtUnK-gZJ"
   },
   "execution_count": 3,
   "outputs": []
  },
  {
   "cell_type": "markdown",
   "source": [
    "Get the 25 most frequently used words in the title by each author"
   ],
   "metadata": {
    "id": "we2gFnoISs_p"
   }
  },
  {
   "cell_type": "code",
   "source": [
    "top25words = []\n",
    "for i in range(title_words_by_author.shape[0]):\n",
    "  words = title_words_by_author[i,:].tolist()\n",
    "  max_times = []\n",
    "  for _ in range(25):\n",
    "    idx = words.index(max(words))\n",
    "    words[idx] = 0\n",
    "    max_times.append(idx)\n",
    "  top25words.append(max_times)\n",
    "top25words = np.array(top25words)"
   ],
   "metadata": {
    "id": "AmolddU_-gQx"
   },
   "execution_count": 4,
   "outputs": []
  },
  {
   "cell_type": "markdown",
   "source": [
    "Assign different weight groups based on how words are used by each author\n"
   ],
   "metadata": {
    "id": "YXdXJmYYS-DG"
   }
  },
  {
   "cell_type": "code",
   "source": [
    "unique, counts = np.unique(top25words, return_counts=True)\n",
    "common_words = unique[np.where( counts > 50)]\n",
    "field_words = unique[np.where( (counts <= 50) & (counts >= 10))]\n",
    "personal_word = unique[np.where( counts < 10)]"
   ],
   "metadata": {
    "id": "6CVOB0uYS-n9"
   },
   "execution_count": 5,
   "outputs": []
  },
  {
   "cell_type": "code",
   "source": [
    "import gensim\n",
    "\n",
    "vsize = 64\n",
    "title_word2vec = gensim.models.Word2Vec(sentences = titles, vector_size = vsize)  # min_count = 5,\n",
    "\n",
    "\n",
    "# Weighted average for title vectors\n",
    "titlevec = []\n",
    "com_we = -0.8\n",
    "fie_we = 0.2\n",
    "per_we = 1"
   ],
   "metadata": {
    "id": "DAvcSQ1r-f9S"
   },
   "execution_count": 6,
   "outputs": []
  },
  {
   "cell_type": "code",
   "source": [
    "# Weighted average\n",
    "for tit in titles:\n",
    "  vec = np.zeros(vsize)\n",
    "  l = len(tit)\n",
    "  for j in tit:\n",
    "    if j in title_word2vec.wv.key_to_index:\n",
    "      if j in common_words:\n",
    "        vec += title_word2vec.wv[j] * (1 + com_we)\n",
    "        l += com_we\n",
    "      elif j in field_words:\n",
    "        vec += title_word2vec.wv[j] * (1 + fie_we)\n",
    "        l += fie_we\n",
    "      else:\n",
    "        vec += title_word2vec.wv[j] * (1 + per_we)\n",
    "        l += per_we\n",
    "  vec = vec/l\n",
    "  titlevec.append(vec)\n",
    "titlevec = np.array(titlevec)"
   ],
   "metadata": {
    "id": "WJEE0iESTlDO"
   },
   "execution_count": 7,
   "outputs": []
  },
  {
   "cell_type": "code",
   "source": [
    "# Doc2Vec \n",
    "for i in range(len(abstracts)):\n",
    "  ab = []\n",
    "  for w in abstracts[i]:\n",
    "    ab.append(str(w))\n",
    "  abstracts[i] = ab\n",
    "\n",
    "documents = [gensim.models.doc2vec.TaggedDocument(abstracts[i], str([i])) for i in range(len(abstracts))]\n",
    "model = gensim.models.doc2vec.Doc2Vec(documents, vector_size=64 , min_count = 1)\n",
    "\n",
    "abst_vec = []\n",
    "for abst in abstracts:\n",
    "  vect = model.infer_vector(abst)\n",
    "  abst_vec.append(vect)\n",
    "\n",
    "abst_vec = np.array(abst_vec)"
   ],
   "metadata": {
    "id": "6_-pSbc8Tqz_"
   },
   "execution_count": 8,
   "outputs": []
  },
  {
   "cell_type": "code",
   "source": [
    "train_feature = np.concatenate((titlevec,abst_vec),axis= 1)\n",
    "print(train_feature.shape)\n",
    "train_feature= np.concatenate((train_feature,venues),axis= 1)\n",
    "print(train_feature.shape)"
   ],
   "metadata": {
    "id": "ca88Zio2TzD_"
   },
   "execution_count": 9,
   "outputs": [
    {
     "name": "stdout",
     "output_type": "stream",
     "text": [
      "(25793, 128)\n",
      "(25793, 136)\n"
     ]
    }
   ]
  },
  {
   "cell_type": "code",
   "source": [
    "np.save(\"feature_train.npy\",train_feature)\n",
    "np.save(\"labels.npy\",prolific)"
   ],
   "metadata": {
    "id": "fwe2MjhiT0n4"
   },
   "execution_count": 10,
   "outputs": []
  },
  {
   "cell_type": "code",
   "source": [
    "data_file = open('test.json', 'r')\n",
    "test_data = json.load(data_file)\n",
    "\n",
    "abst_vec = []\n",
    "titlevec = []\n",
    "for i in range(len(test_data)):\n",
    "  abst = test_data[i][\"abstract\"]\n",
    "  ab = []\n",
    "  for w in abst:\n",
    "    ab.append(str(w))\n",
    "  vect = model.infer_vector(ab)\n",
    "  abst_vec.append(vect)\n",
    "\n",
    "  tit = test_data[i][\"title\"]\n",
    "  vec = np.zeros(vsize)\n",
    "  l = len(tit)\n",
    "  for j in tit:\n",
    "    if j in title_word2vec.wv.key_to_index:\n",
    "      if j in common_words:\n",
    "        vec += title_word2vec.wv[j] * (1 + com_we)\n",
    "        l += com_we\n",
    "      elif j in field_words:\n",
    "        vec += title_word2vec.wv[j] * (1 + fie_we)\n",
    "        l += fie_we\n",
    "      else:\n",
    "        vec += title_word2vec.wv[j] * (1 + per_we)\n",
    "        l += per_we\n",
    "  vec = vec/l\n",
    "  titlevec.append(vec)\n",
    "titlevec = np.array(titlevec)\n",
    "abst_vec = np.array(abst_vec)"
   ],
   "metadata": {
    "id": "KWrJITZFT5HH"
   },
   "execution_count": 11,
   "outputs": []
  },
  {
   "cell_type": "code",
   "source": [
    "venues = []\n",
    "for i in test_data :\n",
    "  venue = np.zeros(466)\n",
    "  vn = i[\"venue\"]\n",
    "  if vn == \"\":\n",
    "    venue[-1] = 1\n",
    "  else:\n",
    "    venue[vn] = 1\n",
    "  venues.append(venue)\n",
    "venues = np.array(venues)\n",
    "venues = svd.transform(venues)"
   ],
   "metadata": {
    "id": "x8z8kfkrT7hY"
   },
   "execution_count": 12,
   "outputs": []
  },
  {
   "cell_type": "code",
   "source": [
    "test_feature = np.concatenate((titlevec,abst_vec),axis= 1)\n",
    "test_feature= np.concatenate((test_feature,venues),axis= 1)\n",
    "print(test_feature.shape)"
   ],
   "metadata": {
    "id": "FBcUe4JcUBlX"
   },
   "execution_count": 14,
   "outputs": [
    {
     "name": "stdout",
     "output_type": "stream",
     "text": [
      "(800, 136)\n"
     ]
    }
   ]
  },
  {
   "cell_type": "code",
   "source": [
    "np.save(\"test_feature.npy\",test_feature)"
   ],
   "metadata": {
    "id": "f0-IeEtUUCng"
   },
   "execution_count": null,
   "outputs": []
  },
  {
   "cell_type": "markdown",
   "metadata": {
    "id": "4cbgwZWWfWpp"
   },
   "source": [
    "# "
   ]
  },
  {
   "cell_type": "code",
   "metadata": {
    "id": "pafL7Li0jyXW"
   },
   "source": [
    "import numpy as np\n",
    "import pandas as pd\n",
    "import tensorflow as tf\n",
    "from tensorflow import keras\n",
    "from keras import layers\n",
    "from keras.layers import Dense,Dropout\n",
    "from keras.models import Sequential\n",
    "from keras.optimizers import Adam\n",
    "from sklearn.metrics import f1_score\n",
    "from sklearn.model_selection import train_test_split\n",
    "from sklearn.preprocessing import MinMaxScaler, StandardScaler"
   ],
   "execution_count": 1,
   "outputs": []
  },
  {
   "cell_type": "code",
   "source": [
    "from google.colab import drive\n",
    "drive.mount('/content/drive')"
   ],
   "metadata": {
    "id": "o-l8sPawOl4r",
    "outputId": "a7b7cb38-db4a-4fe4-858c-a99a096b0339",
    "colab": {
     "base_uri": "https://localhost:8080/"
    },
    "pycharm": {
     "is_executing": true
    }
   },
   "execution_count": null,
   "outputs": []
  },
  {
   "cell_type": "code",
   "source": [
    "# the path of the data\n",
    "path = \"/content/drive/MyDrive/COMP90051/data/\""
   ],
   "metadata": {
    "id": "ZEMoHMkLgt-V"
   },
   "execution_count": 3,
   "outputs": []
  },
  {
   "cell_type": "code",
   "source": [
    "%cd {path}\n",
    "!ls"
   ],
   "metadata": {
    "id": "KMP52qLtOpWb",
    "outputId": "dd6008e1-79c1-4617-ee1f-bb3e038f4b71",
    "colab": {
     "base_uri": "https://localhost:8080/"
    },
    "pycharm": {
     "is_executing": true
    }
   },
   "execution_count": null,
   "outputs": []
  },
  {
   "cell_type": "code",
   "source": [
    "x= np.load('feature_train.npy')\n",
    "y= np.load('labels.npy')\n",
    "\n",
    "print(x.shape,y.shape)"
   ],
   "metadata": {
    "id": "EA9AenEDOrIs",
    "colab": {
     "base_uri": "https://localhost:8080/"
    },
    "outputId": "f211e29d-ff04-415e-bf36-b80e87e70e3e",
    "pycharm": {
     "is_executing": true
    }
   },
   "execution_count": null,
   "outputs": []
  },
  {
   "cell_type": "markdown",
   "source": [
    "# co author"
   ],
   "metadata": {
    "id": "HkmD9M_XerDx"
   }
  },
  {
   "cell_type": "code",
   "source": [
    "%cd /content/drive/MyDrive/COMP90051/\n",
    "!ls"
   ],
   "metadata": {
    "id": "oobz88kFOsa0"
   },
   "execution_count": null,
   "outputs": []
  },
  {
   "cell_type": "code",
   "source": [
    "import json\n",
    "from sklearn.decomposition import PCA\n",
    "\n",
    "data_file = open('train.json', 'r')\n",
    "train_data = json.load(data_file)\n"
   ],
   "metadata": {
    "id": "4GNkbnaoOwPE"
   },
   "execution_count": null,
   "outputs": []
  },
  {
   "cell_type": "code",
   "source": [
    "#\n",
    "coauthor = []\n",
    "for d in train_data:\n",
    "  au = np.array(d['authors'])\n",
    "  \n",
    "  coa = au[au >= 100]\n",
    "  co = np.zeros(21146)\n",
    "  for c in coa:\n",
    "    co[c-100] = 1\n",
    "  coauthor.append(co)\n",
    "coauthor = np.array(coauthor)\n",
    "\n"
   ],
   "metadata": {
    "id": "RvyODgE6nKB1"
   },
   "execution_count": null,
   "outputs": []
  },
  {
   "cell_type": "code",
   "source": [
    "coauthor.shape"
   ],
   "metadata": {
    "colab": {
     "base_uri": "https://localhost:8080/"
    },
    "id": "1aqW-LKt9Do0",
    "outputId": "bea68dcf-06f9-41ec-b813-8f803d2a2b68"
   },
   "execution_count": null,
   "outputs": [
    {
     "output_type": "execute_result",
     "data": {
      "text/plain": [
       "(25793, 21146)"
      ]
     },
     "metadata": {},
     "execution_count": 10
    }
   ]
  },
  {
   "cell_type": "code",
   "source": [
    "# from sklearn.decomposition import TruncatedSVD\n",
    "# \n",
    "# svd_c = TruncatedSVD(n_components=2048)\n",
    "# svd_c.fit(coauthor)\n",
    "# coauthor = svd_c.transform(coauthor)"
   ],
   "metadata": {
    "id": "3gYpfmGvpJ8G"
   },
   "execution_count": null,
   "outputs": []
  },
  {
   "cell_type": "code",
   "source": [
    "x = np.concatenate((x,coauthor),axis= 1)\n",
    "print(x.shape)"
   ],
   "metadata": {
    "id": "BpySIkZMPC5s",
    "outputId": "d883c39f-ee24-4e64-cb5b-662aacaa0ba6",
    "colab": {
     "base_uri": "https://localhost:8080/"
    }
   },
   "execution_count": null,
   "outputs": [
    {
     "output_type": "stream",
     "name": "stdout",
     "text": [
      "(25793, 21282)\n"
     ]
    }
   ]
  },
  {
   "cell_type": "code",
   "source": [
    "data_file = open('test.json', 'r')\n",
    "test_data = json.load(data_file)"
   ],
   "metadata": {
    "id": "FIt8LQMHPYng"
   },
   "execution_count": null,
   "outputs": []
  },
  {
   "cell_type": "code",
   "source": [
    "\n",
    "coauthor = []\n",
    "for d in test_data:\n",
    "  coa = np.array(d['coauthors'])\n",
    "  co = np.zeros(21146)\n",
    "  for c in coa:\n",
    "    co[c-100] = 1\n",
    "  coauthor.append(co)\n",
    "coauthor = np.array(coauthor)\n",
    "coauthor.shape"
   ],
   "metadata": {
    "id": "Fokp-sqsoUgi",
    "colab": {
     "base_uri": "https://localhost:8080/"
    },
    "outputId": "825b0163-ff41-41aa-fab3-d05746282d07"
   },
   "execution_count": null,
   "outputs": [
    {
     "output_type": "execute_result",
     "data": {
      "text/plain": [
       "(800, 21146)"
      ]
     },
     "metadata": {},
     "execution_count": 14
    }
   ]
  },
  {
   "cell_type": "code",
   "source": [
    "#coauthor = svd_c.transform(coauthor)\n",
    "coauthor.shape"
   ],
   "metadata": {
    "colab": {
     "base_uri": "https://localhost:8080/"
    },
    "id": "H53zAV1sAiR1",
    "outputId": "7c8f07c0-96ed-416a-cfac-220de4ea9db8"
   },
   "execution_count": null,
   "outputs": [
    {
     "output_type": "execute_result",
     "data": {
      "text/plain": [
       "(800, 1024)"
      ]
     },
     "metadata": {},
     "execution_count": 54
    }
   ]
  },
  {
   "cell_type": "code",
   "source": [
    "%cd {path}\n",
    "np.save(\"feature_train.npy\",x)\n",
    "\n",
    "test_feature = np.load('test_feature.npy')\n",
    "\n",
    "test_feature= np.concatenate((test_feature,coauthor),axis= 1)\n",
    "print(test_feature.shape)\n",
    "np.save(\"test_feature.npy\",test_feature)"
   ],
   "metadata": {
    "id": "tiivYnyPPWxG",
    "outputId": "c47efe10-880b-48b3-8090-ba35aa062f67",
    "colab": {
     "base_uri": "https://localhost:8080/"
    }
   },
   "execution_count": null,
   "outputs": [
    {
     "output_type": "stream",
     "name": "stdout",
     "text": [
      "/content/drive/.shortcut-targets-by-id/1zMevzR3uxycPOSTvIoERp_FudjvEl5t5/COMP90051/data/coauthor_21146\n",
      "(800, 21282)\n"
     ]
    }
   ]
  },
  {
   "cell_type": "markdown",
   "source": [
    "# predict"
   ],
   "metadata": {
    "id": "xRAn5Wmie2Eq"
   }
  },
  {
   "cell_type": "code",
   "source": [
    "test_feature = np.load(\"test_feature.npy\")"
   ],
   "metadata": {
    "id": "HUyDbqwbysqQ"
   },
   "execution_count": 6,
   "outputs": []
  },
  {
   "cell_type": "code",
   "source": [
    "print(x.shape,test_feature.shape,y.shape)"
   ],
   "metadata": {
    "colab": {
     "base_uri": "https://localhost:8080/"
    },
    "id": "JZOeJ9wudSWW",
    "outputId": "f0046bf6-0ffb-4aa5-9933-91cf22e4c8ec"
   },
   "execution_count": 7,
   "outputs": [
    {
     "output_type": "stream",
     "name": "stdout",
     "text": [
      "(25793, 21282) (800, 21282) (25793, 101)\n"
     ]
    }
   ]
  },
  {
   "cell_type": "code",
   "source": [
    "scaler = StandardScaler()\n",
    "x =scaler.fit_transform(x)"
   ],
   "metadata": {
    "id": "S3_0KOxRQmxo"
   },
   "execution_count": 8,
   "outputs": []
  },
  {
   "cell_type": "code",
   "source": [
    "class_weight = {}\n",
    "for i in range(100):\n",
    "    class_weight[i] = 1\n",
    "class_weight[100] = 0.25"
   ],
   "metadata": {
    "id": "RQ91A-aKQvrA"
   },
   "execution_count": 9,
   "outputs": []
  },
  {
   "cell_type": "code",
   "source": [
    "x_train,x_test, y_train,y_test =train_test_split(x,y,test_size=0.2, random_state=1)"
   ],
   "metadata": {
    "id": "FHO1yAPXXJ-e"
   },
   "execution_count": null,
   "outputs": []
  },
  {
   "cell_type": "code",
   "source": [
    "x_train = x\n",
    "y_train = y"
   ],
   "metadata": {
    "id": "Pw271zI3We2-"
   },
   "execution_count": 10,
   "outputs": []
  },
  {
   "cell_type": "code",
   "source": [
    "model = keras.Sequential(\n",
    "    [\n",
    "        layers.Input((x_train.shape[1],)),\n",
    "        layers.Dense(1048, activation='relu'),\n",
    "        layers.Dropout(0.3),\n",
    "        layers.Dense(512, activation='relu'),\n",
    "        layers.Dropout(0.3),\n",
    "        layers.Dense(256, activation='relu'),\n",
    "        layers.Dropout(0.3),\n",
    "        layers.Dense(y_train.shape[1],activation='sigmoid'),\n",
    "    ],\n",
    ")"
   ],
   "metadata": {
    "id": "jZZaMc9vUnk_"
   },
   "execution_count": 11,
   "outputs": []
  },
  {
   "cell_type": "code",
   "source": [
    "#model.compile(loss= tf.keras.losses.CategoricalCrossentropy() )\n",
    "model.compile(loss='binary_crossentropy')\n",
    "model.fit(x_train,y_train,epochs=100,batch_size=512,class_weight = class_weight)"
   ],
   "metadata": {
    "id": "2rB-dCt2Wr0v",
    "outputId": "6c0bd20e-17d8-4033-c5ac-295c925b072c",
    "colab": {
     "base_uri": "https://localhost:8080/"
    }
   },
   "execution_count": 12,
   "outputs": [
    {
     "output_type": "stream",
     "name": "stdout",
     "text": [
      "Epoch 1/100\n",
      "51/51 [==============================] - 5s 42ms/step - loss: 0.0388\n",
      "Epoch 2/100\n",
      "51/51 [==============================] - 2s 39ms/step - loss: 0.0178\n",
      "Epoch 3/100\n",
      "51/51 [==============================] - 2s 39ms/step - loss: 0.0107\n",
      "Epoch 4/100\n",
      "51/51 [==============================] - 2s 43ms/step - loss: 0.0071\n",
      "Epoch 5/100\n",
      "51/51 [==============================] - 3s 58ms/step - loss: 0.0054\n",
      "Epoch 6/100\n",
      "51/51 [==============================] - 3s 54ms/step - loss: 0.0045\n",
      "Epoch 7/100\n",
      "51/51 [==============================] - 3s 62ms/step - loss: 0.0038\n",
      "Epoch 8/100\n",
      "51/51 [==============================] - 2s 41ms/step - loss: 0.0034\n",
      "Epoch 9/100\n",
      "51/51 [==============================] - 2s 39ms/step - loss: 0.0030\n",
      "Epoch 10/100\n",
      "51/51 [==============================] - 2s 39ms/step - loss: 0.0029\n",
      "Epoch 11/100\n",
      "51/51 [==============================] - 2s 39ms/step - loss: 0.0025\n",
      "Epoch 12/100\n",
      "51/51 [==============================] - 2s 39ms/step - loss: 0.0025\n",
      "Epoch 13/100\n",
      "51/51 [==============================] - 2s 39ms/step - loss: 0.0023\n",
      "Epoch 14/100\n",
      "51/51 [==============================] - 2s 39ms/step - loss: 0.0020\n",
      "Epoch 15/100\n",
      "51/51 [==============================] - 2s 39ms/step - loss: 0.0020\n",
      "Epoch 16/100\n",
      "51/51 [==============================] - 2s 39ms/step - loss: 0.0021\n",
      "Epoch 17/100\n",
      "51/51 [==============================] - 2s 38ms/step - loss: 0.0015\n",
      "Epoch 18/100\n",
      "51/51 [==============================] - 2s 39ms/step - loss: 0.0015\n",
      "Epoch 19/100\n",
      "51/51 [==============================] - 2s 42ms/step - loss: 0.0016\n",
      "Epoch 20/100\n",
      "51/51 [==============================] - 3s 50ms/step - loss: 0.0014\n",
      "Epoch 21/100\n",
      "51/51 [==============================] - 2s 44ms/step - loss: 0.0015\n",
      "Epoch 22/100\n",
      "51/51 [==============================] - 2s 48ms/step - loss: 0.0014\n",
      "Epoch 23/100\n",
      "51/51 [==============================] - 2s 46ms/step - loss: 0.0013\n",
      "Epoch 24/100\n",
      "51/51 [==============================] - 2s 39ms/step - loss: 0.0012\n",
      "Epoch 25/100\n",
      "51/51 [==============================] - 2s 39ms/step - loss: 0.0013\n",
      "Epoch 26/100\n",
      "51/51 [==============================] - 2s 39ms/step - loss: 0.0012\n",
      "Epoch 27/100\n",
      "51/51 [==============================] - 2s 39ms/step - loss: 0.0011\n",
      "Epoch 28/100\n",
      "51/51 [==============================] - 2s 39ms/step - loss: 0.0014\n",
      "Epoch 29/100\n",
      "51/51 [==============================] - 2s 39ms/step - loss: 0.0011\n",
      "Epoch 30/100\n",
      "51/51 [==============================] - 2s 39ms/step - loss: 0.0013\n",
      "Epoch 31/100\n",
      "51/51 [==============================] - 2s 39ms/step - loss: 0.0012\n",
      "Epoch 32/100\n",
      "51/51 [==============================] - 2s 39ms/step - loss: 9.9505e-04\n",
      "Epoch 33/100\n",
      "51/51 [==============================] - 2s 39ms/step - loss: 0.0010\n",
      "Epoch 34/100\n",
      "51/51 [==============================] - 2s 39ms/step - loss: 0.0014\n",
      "Epoch 35/100\n",
      "51/51 [==============================] - 2s 39ms/step - loss: 0.0012\n",
      "Epoch 36/100\n",
      "51/51 [==============================] - 2s 39ms/step - loss: 0.0015\n",
      "Epoch 37/100\n",
      "51/51 [==============================] - 2s 39ms/step - loss: 0.0010\n",
      "Epoch 38/100\n",
      "51/51 [==============================] - 2s 39ms/step - loss: 0.0012\n",
      "Epoch 39/100\n",
      "51/51 [==============================] - 2s 39ms/step - loss: 0.0013\n",
      "Epoch 40/100\n",
      "51/51 [==============================] - 2s 39ms/step - loss: 0.0014\n",
      "Epoch 41/100\n",
      "51/51 [==============================] - 2s 39ms/step - loss: 0.0013\n",
      "Epoch 42/100\n",
      "51/51 [==============================] - 2s 39ms/step - loss: 0.0011\n",
      "Epoch 43/100\n",
      "51/51 [==============================] - 2s 39ms/step - loss: 0.0014\n",
      "Epoch 44/100\n",
      "51/51 [==============================] - 2s 41ms/step - loss: 0.0017\n",
      "Epoch 45/100\n",
      "51/51 [==============================] - 2s 40ms/step - loss: 0.0015\n",
      "Epoch 46/100\n",
      "51/51 [==============================] - 2s 38ms/step - loss: 0.0012\n",
      "Epoch 47/100\n",
      "51/51 [==============================] - 2s 38ms/step - loss: 0.0014\n",
      "Epoch 48/100\n",
      "51/51 [==============================] - 2s 38ms/step - loss: 0.0014\n",
      "Epoch 49/100\n",
      "51/51 [==============================] - 2s 38ms/step - loss: 0.0013\n",
      "Epoch 50/100\n",
      "51/51 [==============================] - 2s 38ms/step - loss: 0.0017\n",
      "Epoch 51/100\n",
      "51/51 [==============================] - 2s 39ms/step - loss: 0.0015\n",
      "Epoch 52/100\n",
      "51/51 [==============================] - 2s 39ms/step - loss: 0.0018\n",
      "Epoch 53/100\n",
      "51/51 [==============================] - 2s 38ms/step - loss: 0.0015\n",
      "Epoch 54/100\n",
      "51/51 [==============================] - 2s 38ms/step - loss: 0.0014\n",
      "Epoch 55/100\n",
      "51/51 [==============================] - 2s 41ms/step - loss: 0.0026\n",
      "Epoch 56/100\n",
      "51/51 [==============================] - 2s 45ms/step - loss: 0.0015\n",
      "Epoch 57/100\n",
      "51/51 [==============================] - 2s 45ms/step - loss: 0.0015\n",
      "Epoch 58/100\n",
      "51/51 [==============================] - 2s 39ms/step - loss: 0.0014\n",
      "Epoch 59/100\n",
      "51/51 [==============================] - 2s 39ms/step - loss: 0.0015\n",
      "Epoch 60/100\n",
      "51/51 [==============================] - 2s 39ms/step - loss: 0.0021\n",
      "Epoch 61/100\n",
      "51/51 [==============================] - 2s 38ms/step - loss: 0.0018\n",
      "Epoch 62/100\n",
      "51/51 [==============================] - 2s 38ms/step - loss: 0.0020\n",
      "Epoch 63/100\n",
      "51/51 [==============================] - 2s 39ms/step - loss: 0.0019\n",
      "Epoch 64/100\n",
      "51/51 [==============================] - 2s 39ms/step - loss: 0.0027\n",
      "Epoch 65/100\n",
      "51/51 [==============================] - 2s 38ms/step - loss: 0.0019\n",
      "Epoch 66/100\n",
      "51/51 [==============================] - 2s 38ms/step - loss: 0.0023\n",
      "Epoch 67/100\n",
      "51/51 [==============================] - 2s 38ms/step - loss: 0.0017\n",
      "Epoch 68/100\n",
      "51/51 [==============================] - 2s 39ms/step - loss: 0.0023\n",
      "Epoch 69/100\n",
      "51/51 [==============================] - 2s 38ms/step - loss: 0.0019\n",
      "Epoch 70/100\n",
      "51/51 [==============================] - 2s 39ms/step - loss: 0.0018\n",
      "Epoch 71/100\n",
      "51/51 [==============================] - 2s 39ms/step - loss: 0.0028\n",
      "Epoch 72/100\n",
      "51/51 [==============================] - 2s 38ms/step - loss: 0.0024\n",
      "Epoch 73/100\n",
      "51/51 [==============================] - 2s 39ms/step - loss: 0.0033\n",
      "Epoch 74/100\n",
      "51/51 [==============================] - 2s 39ms/step - loss: 0.0027\n",
      "Epoch 75/100\n",
      "51/51 [==============================] - 2s 39ms/step - loss: 0.0023\n",
      "Epoch 76/100\n",
      "51/51 [==============================] - 2s 39ms/step - loss: 0.0029\n",
      "Epoch 77/100\n",
      "51/51 [==============================] - 2s 39ms/step - loss: 0.0022\n",
      "Epoch 78/100\n",
      "51/51 [==============================] - 2s 38ms/step - loss: 0.0032\n",
      "Epoch 79/100\n",
      "51/51 [==============================] - 2s 39ms/step - loss: 0.0026\n",
      "Epoch 80/100\n",
      "51/51 [==============================] - 2s 38ms/step - loss: 0.0025\n",
      "Epoch 81/100\n",
      "51/51 [==============================] - 2s 39ms/step - loss: 0.0038\n",
      "Epoch 82/100\n",
      "51/51 [==============================] - 2s 38ms/step - loss: 0.0037\n",
      "Epoch 83/100\n",
      "51/51 [==============================] - 2s 39ms/step - loss: 0.0043\n",
      "Epoch 84/100\n",
      "51/51 [==============================] - 2s 39ms/step - loss: 0.0037\n",
      "Epoch 85/100\n",
      "51/51 [==============================] - 2s 39ms/step - loss: 0.0039\n",
      "Epoch 86/100\n",
      "51/51 [==============================] - 2s 39ms/step - loss: 0.0035\n",
      "Epoch 87/100\n",
      "51/51 [==============================] - 2s 39ms/step - loss: 0.0065\n",
      "Epoch 88/100\n",
      "51/51 [==============================] - 2s 39ms/step - loss: 0.0033\n",
      "Epoch 89/100\n",
      "51/51 [==============================] - 2s 39ms/step - loss: 0.0034\n",
      "Epoch 90/100\n",
      "51/51 [==============================] - 2s 39ms/step - loss: 0.0053\n",
      "Epoch 91/100\n",
      "51/51 [==============================] - 2s 39ms/step - loss: 0.0044\n",
      "Epoch 92/100\n",
      "51/51 [==============================] - 2s 39ms/step - loss: 0.0054\n",
      "Epoch 93/100\n",
      "51/51 [==============================] - 2s 39ms/step - loss: 0.0041\n",
      "Epoch 94/100\n",
      "51/51 [==============================] - 2s 38ms/step - loss: 0.0059\n",
      "Epoch 95/100\n",
      "51/51 [==============================] - 2s 39ms/step - loss: 0.0053\n",
      "Epoch 96/100\n",
      "51/51 [==============================] - 2s 39ms/step - loss: 0.0053\n",
      "Epoch 97/100\n",
      "51/51 [==============================] - 2s 38ms/step - loss: 0.0046\n",
      "Epoch 98/100\n",
      "51/51 [==============================] - 2s 39ms/step - loss: 0.0041\n",
      "Epoch 99/100\n",
      "51/51 [==============================] - 2s 38ms/step - loss: 0.0042\n",
      "Epoch 100/100\n",
      "51/51 [==============================] - 2s 39ms/step - loss: 0.0042\n"
     ]
    },
    {
     "output_type": "execute_result",
     "data": {
      "text/plain": [
       "<keras.callbacks.History at 0x7f8ab254b990>"
      ]
     },
     "metadata": {},
     "execution_count": 12
    }
   ]
  },
  {
   "cell_type": "code",
   "source": [
    "pred =model.predict(x)\n",
    "pred=np.where(pred>=0.3,1,0)\n",
    "f1_score(y_true=y,y_pred=pred,average='samples')"
   ],
   "metadata": {
    "id": "XRO0K1A7Q_Q4",
    "outputId": "56325333-7970-425b-ed38-8ac3ec69570a",
    "colab": {
     "base_uri": "https://localhost:8080/"
    }
   },
   "execution_count": null,
   "outputs": [
    {
     "output_type": "stream",
     "name": "stdout",
     "text": [
      "807/807 [==============================] - 2s 2ms/step\n"
     ]
    },
    {
     "output_type": "execute_result",
     "data": {
      "text/plain": [
       "0.9122533033933532"
      ]
     },
     "metadata": {},
     "execution_count": 12
    }
   ]
  },
  {
   "cell_type": "code",
   "source": [
    "test_pred=model.predict(x_test)\n",
    "test_pred= np.where(test_pred>=0.3,1,0)\n",
    "f1_score(y_true=y_test,y_pred=test_pred,average='samples')"
   ],
   "metadata": {
    "id": "aqXuIFXdRBsj",
    "outputId": "1be3320b-6405-41d8-cda9-346ceda023a9",
    "colab": {
     "base_uri": "https://localhost:8080/"
    }
   },
   "execution_count": null,
   "outputs": [
    {
     "output_type": "stream",
     "name": "stdout",
     "text": [
      "162/162 [==============================] - 0s 2ms/step\n"
     ]
    },
    {
     "output_type": "execute_result",
     "data": {
      "text/plain": [
       "0.5626022684849906"
      ]
     },
     "metadata": {},
     "execution_count": 21
    }
   ]
  },
  {
   "cell_type": "code",
   "source": [
    "test_data = scaler.transform(test_feature)\n",
    "predd =model.predict(test_data)\n",
    "idxx = [np.where(p>=0.3) for p in predd]"
   ],
   "metadata": {
    "id": "qtX2uCkBRFc_",
    "outputId": "7314ad86-b897-4afb-83d6-b92cdc7adffd",
    "colab": {
     "base_uri": "https://localhost:8080/"
    }
   },
   "execution_count": 14,
   "outputs": [
    {
     "output_type": "stream",
     "name": "stdout",
     "text": [
      "25/25 [==============================] - 0s 3ms/step\n"
     ]
    }
   ]
  },
  {
   "cell_type": "code",
   "source": [
    "df= pd.DataFrame(idxx,columns=['predict'])\n",
    "df.to_csv('predict.csv')"
   ],
   "metadata": {
    "id": "ywdqiPylReNn"
   },
   "execution_count": 15,
   "outputs": []
  },
  {
   "cell_type": "code",
   "source": [
    "test_feature = np.load(\"/content/drive/MyDrive/COMP90051/data/test_feature.npy\")\n",
    "scaler = StandardScaler()\n",
    "x = scaler.fit_transform(x)\n",
    "test_feature = scaler.transform(test_feature)"
   ],
   "metadata": {
    "id": "875KTCACzSPZ"
   },
   "execution_count": null,
   "outputs": []
  },
  {
   "cell_type": "code",
   "source": [
    "import xgboost as xgb\n",
    "clf = xgb.XGBClassifier(max_depth=3)\n",
    "clf.fit(x, authors[0])\n",
    "predictions = clf.predict(x)"
   ],
   "metadata": {
    "id": "Td0wGP7o2GeL"
   },
   "execution_count": null,
   "outputs": []
  },
  {
   "cell_type": "code",
   "source": [
    "# random data to test the xgboost\n",
    "\n",
    "\n",
    "import xgboost as xgb\n",
    "from sklearn.datasets import make_multilabel_classification\n",
    "from sklearn.model_selection import train_test_split\n",
    "from sklearn.multioutput import MultiOutputClassifier\n",
    "from sklearn.metrics import accuracy_score\n",
    "\n",
    "\n",
    "X, y = make_multilabel_classification(n_samples=3000, n_features=45, n_classes=20, n_labels=1,\n",
    "                                      allow_unlabeled=False, random_state=42)\n",
    "\n"
   ],
   "metadata": {
    "id": "C6gYEYhW-oHx"
   },
   "execution_count": null,
   "outputs": []
  }
 ]
}
