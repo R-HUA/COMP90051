{
 "cells": [
  {
   "cell_type": "markdown",
   "id": "cee10155",
   "metadata": {},
   "source": [
    "# COMP90051 Project 2 Authorship Identification #"
   ]
  },
  {
   "cell_type": "markdown",
   "id": "4aeeb0e4",
   "metadata": {},
   "source": [
    "# Import library"
   ]
  },
  {
   "cell_type": "code",
   "execution_count": 1,
   "id": "f6e9988f",
   "metadata": {
    "ExecuteTime": {
     "end_time": "2022-10-18T12:56:10.336820Z",
     "start_time": "2022-10-18T12:56:04.649839Z"
    }
   },
   "outputs": [],
   "source": [
    "# import json\n",
    "import math\n",
    "import pandas as pd\n",
    "import numpy as np\n",
    "from itertools import chain\n",
    "#plot\n",
    "import matplotlib\n",
    "import matplotlib.pyplot as plt\n",
    "#feature engineering\n",
    "import random\n",
    "from collections import Counter\n",
    "from sklearn.preprocessing import MultiLabelBinarizer\n",
    "from sklearn.preprocessing import OneHotEncoder\n",
    "from sklearn.feature_extraction.text import TfidfVectorizer\n",
    "from gensim.models.doc2vec import Doc2Vec, TaggedDocument\n",
    "from sklearn.preprocessing import StandardScaler\n",
    "from sklearn.decomposition import TruncatedSVD\n",
    "from sklearn.decomposition import PCA\n",
    "from sklearn.model_selection import train_test_split\n",
    "#modelling \n",
    "from sklearn.svm import LinearSVC\n",
    "from sklearn.calibration import CalibratedClassifierCV\n",
    "from sklearn.model_selection import GridSearchCV\n",
    "from sklearn.svm import SVC\n",
    "from sklearn.neural_network import MLPClassifier\n",
    "import tensorflow as tf\n",
    "from keras.models import Sequential\n",
    "from keras.layers import LSTM, Conv1D, Dense, Dropout, LayerNormalization\n",
    "from sklearn.metrics import f1_score"
   ]
  },
  {
   "cell_type": "markdown",
   "id": "a1e6b9f7",
   "metadata": {},
   "source": [
    "# Load data"
   ]
  },
  {
   "cell_type": "code",
   "execution_count": 2,
   "id": "5040a222",
   "metadata": {
    "ExecuteTime": {
     "end_time": "2022-10-18T12:56:11.123537Z",
     "start_time": "2022-10-18T12:56:10.339582Z"
    }
   },
   "outputs": [
    {
     "data": {
      "text/html": [
       "<div>\n",
       "<style scoped>\n",
       "    .dataframe tbody tr th:only-of-type {\n",
       "        vertical-align: middle;\n",
       "    }\n",
       "\n",
       "    .dataframe tbody tr th {\n",
       "        vertical-align: top;\n",
       "    }\n",
       "\n",
       "    .dataframe thead th {\n",
       "        text-align: right;\n",
       "    }\n",
       "</style>\n",
       "<table border=\"1\" class=\"dataframe\">\n",
       "  <thead>\n",
       "    <tr style=\"text-align: right;\">\n",
       "      <th></th>\n",
       "      <th>authors</th>\n",
       "      <th>year</th>\n",
       "      <th>abstract</th>\n",
       "      <th>venue</th>\n",
       "      <th>title</th>\n",
       "    </tr>\n",
       "  </thead>\n",
       "  <tbody>\n",
       "    <tr>\n",
       "      <th>0</th>\n",
       "      <td>[19554, 5040, 12642, 2345, 55]</td>\n",
       "      <td>11</td>\n",
       "      <td>[37, 1917, 33, 2448, 11, 1650, 1692, 1543, 293...</td>\n",
       "      <td>42</td>\n",
       "      <td>[1746, 1541, 2245, 44, 47, 1730, 1710, 1708, 4...</td>\n",
       "    </tr>\n",
       "    <tr>\n",
       "      <th>1</th>\n",
       "      <td>[5095, 15585]</td>\n",
       "      <td>7</td>\n",
       "      <td>[40, 1542, 1691, 2380, 1529, 3353, 2072, 1650,...</td>\n",
       "      <td>10</td>\n",
       "      <td>[2123, 1548, 4094, 53, 34, 11, 1539, 4372, 153...</td>\n",
       "    </tr>\n",
       "    <tr>\n",
       "      <th>2</th>\n",
       "      <td>[2471, 1444, 18558]</td>\n",
       "      <td>6</td>\n",
       "      <td>[1731, 1669, 2410, 3148, 1542, 3797, 33, 4943,...</td>\n",
       "      <td>9</td>\n",
       "      <td>[1594, 1659, 3084, 1553, 1837, 11, 2086, 1669,...</td>\n",
       "    </tr>\n",
       "    <tr>\n",
       "      <th>3</th>\n",
       "      <td>[15117, 9385, 12354, 14377]</td>\n",
       "      <td>10</td>\n",
       "      <td>[1716, 1528, 51, 1892, 2229, 3002, 1547, 1542,...</td>\n",
       "      <td>68</td>\n",
       "      <td>[2174, 1584, 1854, 1875, 47, 1603, 51, 1525, 1...</td>\n",
       "    </tr>\n",
       "    <tr>\n",
       "      <th>4</th>\n",
       "      <td>[12591, 19998, 2353, 18117, 13073]</td>\n",
       "      <td>15</td>\n",
       "      <td>[1999, 46, 1661, 1839, 1635, 1751, 1565, 1655,...</td>\n",
       "      <td>68</td>\n",
       "      <td>[1731, 46, 1617, 3076, 1543, 1875, 11, 1551, 4...</td>\n",
       "    </tr>\n",
       "  </tbody>\n",
       "</table>\n",
       "</div>"
      ],
      "text/plain": [
       "                              authors  year  \\\n",
       "0      [19554, 5040, 12642, 2345, 55]    11   \n",
       "1                       [5095, 15585]     7   \n",
       "2                 [2471, 1444, 18558]     6   \n",
       "3         [15117, 9385, 12354, 14377]    10   \n",
       "4  [12591, 19998, 2353, 18117, 13073]    15   \n",
       "\n",
       "                                            abstract venue  \\\n",
       "0  [37, 1917, 33, 2448, 11, 1650, 1692, 1543, 293...    42   \n",
       "1  [40, 1542, 1691, 2380, 1529, 3353, 2072, 1650,...    10   \n",
       "2  [1731, 1669, 2410, 3148, 1542, 3797, 33, 4943,...     9   \n",
       "3  [1716, 1528, 51, 1892, 2229, 3002, 1547, 1542,...    68   \n",
       "4  [1999, 46, 1661, 1839, 1635, 1751, 1565, 1655,...    68   \n",
       "\n",
       "                                               title  \n",
       "0  [1746, 1541, 2245, 44, 47, 1730, 1710, 1708, 4...  \n",
       "1  [2123, 1548, 4094, 53, 34, 11, 1539, 4372, 153...  \n",
       "2  [1594, 1659, 3084, 1553, 1837, 11, 2086, 1669,...  \n",
       "3  [2174, 1584, 1854, 1875, 47, 1603, 51, 1525, 1...  \n",
       "4  [1731, 46, 1617, 3076, 1543, 1875, 11, 1551, 4...  "
      ]
     },
     "execution_count": 2,
     "metadata": {},
     "output_type": "execute_result"
    }
   ],
   "source": [
    "with open('./data/train.json', 'r') as f:\n",
    "    train_df = pd.read_json(f)\n",
    "train_df = train_df.sample(frac=1).reset_index(drop=True)\n",
    "train_df.head(5)"
   ]
  },
  {
   "cell_type": "code",
   "execution_count": 3,
   "id": "12fd9f0b-6e9d-4d05-9652-e6b8578f5416",
   "metadata": {
    "ExecuteTime": {
     "end_time": "2022-10-18T12:56:11.172897Z",
     "start_time": "2022-10-18T12:56:11.126082Z"
    }
   },
   "outputs": [
    {
     "data": {
      "text/html": [
       "<div>\n",
       "<style scoped>\n",
       "    .dataframe tbody tr th:only-of-type {\n",
       "        vertical-align: middle;\n",
       "    }\n",
       "\n",
       "    .dataframe tbody tr th {\n",
       "        vertical-align: top;\n",
       "    }\n",
       "\n",
       "    .dataframe thead th {\n",
       "        text-align: right;\n",
       "    }\n",
       "</style>\n",
       "<table border=\"1\" class=\"dataframe\">\n",
       "  <thead>\n",
       "    <tr style=\"text-align: right;\">\n",
       "      <th></th>\n",
       "      <th>identifier</th>\n",
       "      <th>coauthors</th>\n",
       "      <th>year</th>\n",
       "      <th>abstract</th>\n",
       "      <th>venue</th>\n",
       "      <th>title</th>\n",
       "    </tr>\n",
       "  </thead>\n",
       "  <tbody>\n",
       "    <tr>\n",
       "      <th>0</th>\n",
       "      <td>0</td>\n",
       "      <td>[16336, 1762, 4357, 12564]</td>\n",
       "      <td>19</td>\n",
       "      <td>[37, 1662, 3207, 10, 33, 2037, 1738, 1642, 155...</td>\n",
       "      <td>223</td>\n",
       "      <td>[3207, 24, 1798, 1738, 37, 2375, 1568, 11, 53,...</td>\n",
       "    </tr>\n",
       "    <tr>\n",
       "      <th>1</th>\n",
       "      <td>1</td>\n",
       "      <td>[21189, 14088]</td>\n",
       "      <td>19</td>\n",
       "      <td>[1731, 2130, 3674, 1705, 1656, 3077, 1546, 367...</td>\n",
       "      <td>223</td>\n",
       "      <td>[40, 1560, 1536, 1544, 1609, 1705, 1658, 1543,...</td>\n",
       "    </tr>\n",
       "    <tr>\n",
       "      <th>2</th>\n",
       "      <td>2</td>\n",
       "      <td>[3625, 1198, 19889, 794, 2749, 7801]</td>\n",
       "      <td>19</td>\n",
       "      <td>[1551, 1728, 3920, 1542, 1535, 1656, 1543, 153...</td>\n",
       "      <td>7</td>\n",
       "      <td>[47, 1574, 1729, 1641, 11, 37, 2533, 2015, 47,...</td>\n",
       "    </tr>\n",
       "    <tr>\n",
       "      <th>3</th>\n",
       "      <td>3</td>\n",
       "      <td>[19810, 15173, 5876, 111]</td>\n",
       "      <td>19</td>\n",
       "      <td>[51, 1535, 2115, 1543, 1811, 1700, 1657, 1684,...</td>\n",
       "      <td>21</td>\n",
       "      <td>[1770, 53, 2054, 1549, 1529, 1723, 2796, 1547,...</td>\n",
       "    </tr>\n",
       "    <tr>\n",
       "      <th>4</th>\n",
       "      <td>4</td>\n",
       "      <td>[10932, 7668, 11907, 19601, 15307, 10492, 1049...</td>\n",
       "      <td>19</td>\n",
       "      <td>[1775, 1746, 1842, 1525, 33, 2551, 1882, 1542,...</td>\n",
       "      <td></td>\n",
       "      <td>[18, 1924, 23, 1544, 3927, 2686, 1543, 1535, 1...</td>\n",
       "    </tr>\n",
       "  </tbody>\n",
       "</table>\n",
       "</div>"
      ],
      "text/plain": [
       "   identifier                                          coauthors  year  \\\n",
       "0           0                         [16336, 1762, 4357, 12564]    19   \n",
       "1           1                                     [21189, 14088]    19   \n",
       "2           2               [3625, 1198, 19889, 794, 2749, 7801]    19   \n",
       "3           3                          [19810, 15173, 5876, 111]    19   \n",
       "4           4  [10932, 7668, 11907, 19601, 15307, 10492, 1049...    19   \n",
       "\n",
       "                                            abstract venue  \\\n",
       "0  [37, 1662, 3207, 10, 33, 2037, 1738, 1642, 155...   223   \n",
       "1  [1731, 2130, 3674, 1705, 1656, 3077, 1546, 367...   223   \n",
       "2  [1551, 1728, 3920, 1542, 1535, 1656, 1543, 153...     7   \n",
       "3  [51, 1535, 2115, 1543, 1811, 1700, 1657, 1684,...    21   \n",
       "4  [1775, 1746, 1842, 1525, 33, 2551, 1882, 1542,...         \n",
       "\n",
       "                                               title  \n",
       "0  [3207, 24, 1798, 1738, 37, 2375, 1568, 11, 53,...  \n",
       "1  [40, 1560, 1536, 1544, 1609, 1705, 1658, 1543,...  \n",
       "2  [47, 1574, 1729, 1641, 11, 37, 2533, 2015, 47,...  \n",
       "3  [1770, 53, 2054, 1549, 1529, 1723, 2796, 1547,...  \n",
       "4  [18, 1924, 23, 1544, 3927, 2686, 1543, 1535, 1...  "
      ]
     },
     "execution_count": 3,
     "metadata": {},
     "output_type": "execute_result"
    }
   ],
   "source": [
    "with open('./data/test.json', 'r') as f:\n",
    "    test_df = pd.read_json(f)\n",
    "test_df.head(5)"
   ]
  },
  {
   "cell_type": "markdown",
   "id": "e285d1de",
   "metadata": {},
   "source": [
    "# Preprocessing data"
   ]
  },
  {
   "cell_type": "markdown",
   "id": "e91b783d",
   "metadata": {},
   "source": [
    "To catch actual meaning of texts and writing style of every author\n",
    "1. Term frequency — Inverse document frequency (TFIDF) \n",
    "2. extracts the relationship between words (by Part of speech tagging)\n",
    "\n",
    "Since title and abstract was presented as a set of integer, it cannot reveal enough information. For example, it does not help remove useless words and tokenize, and even find word relationship using 'part of speech' tagging comparative with literate wording."
   ]
  },
  {
   "cell_type": "code",
   "execution_count": 4,
   "id": "5480aabe-c550-4ac7-8bdb-0ad1a6ffcacc",
   "metadata": {
    "ExecuteTime": {
     "end_time": "2022-10-18T12:56:14.030591Z",
     "start_time": "2022-10-18T12:56:14.027161Z"
    }
   },
   "outputs": [],
   "source": [
    "X_train_features = dict()\n",
    "X_test_features = dict()"
   ]
  },
  {
   "cell_type": "markdown",
   "id": "86ccb157-0833-4fca-b7c6-8bced8da13ec",
   "metadata": {},
   "source": [
    "## Label - one hot encoding"
   ]
  },
  {
   "cell_type": "code",
   "execution_count": 5,
   "id": "6a9df8c0",
   "metadata": {
    "ExecuteTime": {
     "end_time": "2022-10-18T12:56:14.908093Z",
     "start_time": "2022-10-18T12:56:14.765286Z"
    }
   },
   "outputs": [],
   "source": [
    "def labelProlificAuthor(author): # hand-code\n",
    "    profilic_ids = np.zeros(101)\n",
    "    ids = [idx for idx in author if idx < 100]\n",
    "    if ids == [] :\n",
    "        profilic_ids[-1]=1\n",
    "    else:\n",
    "        profilic_ids[ids]=1\n",
    "    return profilic_ids\n",
    "y_train_label_hh = np.vstack(train_df['authors'].apply(labelProlificAuthor).tolist()) # high-hierarchical: (n_samples,n_feartues)"
   ]
  },
  {
   "cell_type": "code",
   "execution_count": 6,
   "id": "561d91fa-fdf8-4389-8779-ef11062a1b50",
   "metadata": {
    "ExecuteTime": {
     "end_time": "2022-10-18T12:56:15.256555Z",
     "start_time": "2022-10-18T12:56:15.228909Z"
    }
   },
   "outputs": [],
   "source": [
    "split_mutli_label_idx = []\n",
    "y_train_label = []\n",
    "for i, authors in enumerate(train_df['authors']):\n",
    "    for a in authors:\n",
    "        if a < 100:\n",
    "            split_mutli_label_idx.append(i) \n",
    "            y_train_label.append(a) #labels :(n_samples,)"
   ]
  },
  {
   "cell_type": "markdown",
   "id": "4d1aaf20-b454-4550-ae92-866b4abd837f",
   "metadata": {},
   "source": [
    "## Feature Engineering"
   ]
  },
  {
   "cell_type": "markdown",
   "id": "a1ddad9c-5c31-4d15-81c4-dfa91a6b5c29",
   "metadata": {},
   "source": [
    "### Co_author Vectorization"
   ]
  },
  {
   "cell_type": "code",
   "execution_count": 7,
   "id": "ac6992b0-292c-4e0f-92d5-5cd5af77c2cd",
   "metadata": {
    "ExecuteTime": {
     "end_time": "2022-10-18T12:56:25.984066Z",
     "start_time": "2022-10-18T12:56:25.959375Z"
    }
   },
   "outputs": [
    {
     "data": {
      "text/plain": [
       "count    25793.000000\n",
       "mean         3.231109\n",
       "std          2.481487\n",
       "min          1.000000\n",
       "25%          2.000000\n",
       "50%          3.000000\n",
       "75%          4.000000\n",
       "max        114.000000\n",
       "Name: authors, dtype: float64"
      ]
     },
     "execution_count": 7,
     "metadata": {},
     "output_type": "execute_result"
    }
   ],
   "source": [
    "train_df['authors'].apply(lambda x:len(x)).describe()"
   ]
  },
  {
   "cell_type": "code",
   "execution_count": 8,
   "id": "9986bd07",
   "metadata": {
    "ExecuteTime": {
     "end_time": "2022-10-18T12:56:28.208311Z",
     "start_time": "2022-10-18T12:56:26.777359Z"
    }
   },
   "outputs": [
    {
     "name": "stdout",
     "output_type": "stream",
     "text": [
      "The number of instances with Labeled prolific authors is 7460, otherwise, the num of non-prolific info is 18333.\n"
     ]
    }
   ],
   "source": [
    "# in-balanced dataset\n",
    "labeled_idx = [i for i,e in enumerate(y_train_label_hh) if e[-1]!=1]\n",
    "unlabeled_idx = [i for i in range(y_train_label_hh.shape[0]) if i not in labeled_idx]\n",
    "print(\"The number of instances with Labeled prolific authors is {}, otherwise, the num of non-prolific info is {}.\".format(len(labeled_idx), len(unlabeled_idx)))"
   ]
  },
  {
   "cell_type": "code",
   "execution_count": 9,
   "id": "7f976848",
   "metadata": {
    "ExecuteTime": {
     "end_time": "2022-10-18T12:56:28.235897Z",
     "start_time": "2022-10-18T12:56:28.210929Z"
    }
   },
   "outputs": [
    {
     "name": "stdout",
     "output_type": "stream",
     "text": [
      "6575 authors having collaboration relationship before with prolific authors, have been recorded among train dataset.\n"
     ]
    }
   ],
   "source": [
    "ex_co_authors = list(set(chain(*train_df['authors'].loc[labeled_idx].apply(lambda x:[i for i in x if i>=100]).values.tolist())))\n",
    "print(\"{} authors having collaboration relationship before with prolific authors, have been recorded among train dataset.\".format(len(ex_co_authors)))"
   ]
  },
  {
   "cell_type": "code",
   "execution_count": 10,
   "id": "532c3e06-c46e-4ca3-b167-b8cdc92716e6",
   "metadata": {
    "ExecuteTime": {
     "end_time": "2022-10-18T12:56:30.537867Z",
     "start_time": "2022-10-18T12:56:30.376435Z"
    }
   },
   "outputs": [],
   "source": [
    "author_network = dict()\n",
    "for instance in train_df['authors'].loc[labeled_idx]:\n",
    "    for a in instance:\n",
    "        if a < 100:\n",
    "            if a in author_network.keys():\n",
    "                author_network[a] += [i for i in instance if i >= 100]\n",
    "            else:\n",
    "                author_network[a] = [i for i in instance if i >= 100]\n",
    "                \n",
    "            author_network[a] = list(set(author_network[a]))\n",
    "#len(set(chain(*list(author_network.values()))))# : 6575\n",
    "#train_df['authors'].loc[labeled_idx].apply(lambda x:[i for i in x if i>=100])"
   ]
  },
  {
   "cell_type": "code",
   "execution_count": 11,
   "id": "bc609a6e-ce05-4852-8cdf-cc36e1d14d12",
   "metadata": {
    "ExecuteTime": {
     "end_time": "2022-10-18T13:00:21.816253Z",
     "start_time": "2022-10-18T12:56:30.802341Z"
    }
   },
   "outputs": [],
   "source": [
    "# if we conclude all co_author[100,21246] by simply using one-hot encoding, the dimension of features would too vast \n",
    "\n",
    "def coAuthor(author,author_network):\n",
    "    \"\"\"\n",
    "    We might assume that it will be more likely to see people co-work again if they collaborated before, \n",
    "    compatative with those who has no relationship with each other.\n",
    "    While the instances which are not labeled by prolific authors will be filtered since it won't give useful info.\n",
    "    :param authors - author column\n",
    "    :param author_network - a set of co-author that worked together before\n",
    "    \"\"\"   \n",
    "    co_authors_reindexed = list(set(chain(*list(author_network.values()))))\n",
    "    max_len = len(co_authors_reindexed)\n",
    "    co_author_vec = np.zeros(max_len+1)\n",
    "\n",
    "    for i in author:\n",
    "        if i >= 100:\n",
    "            if i in co_authors_reindexed:\n",
    "                co_author_vec[co_authors_reindexed.index(i)] = 1\n",
    "            else:\n",
    "                co_author_vec[-1] = 1\n",
    "#             co_author_vec[i] = 1\n",
    "        else:\n",
    "            for j in author_network[i]:\n",
    "                if co_author_vec[co_authors_reindexed.index(j)] == 0 :\n",
    "                    # try to add information about network with all collaborated authors\n",
    "                    co_author_vec[co_authors_reindexed.index(j)] = 0.2\n",
    "    if 1 not in Counter(co_author_vec):\n",
    "        co_author_vec[-1] = 1\n",
    "    return co_author_vec\n",
    "\n",
    "def coAuthorVec(co_author,author_network):\n",
    "    \n",
    "    co_authors_reindexed = list(set(chain(*list(author_network.values()))))\n",
    "    max_len = len(co_authors_reindexed)\n",
    "    co_author_vec = np.zeros(max_len+1)\n",
    "    for i in co_author:\n",
    "        if i in co_authors_reindexed:\n",
    "            co_author_vec[co_authors_reindexed.index(i)] = 1\n",
    "        else:\n",
    "            co_author_vec[-1] = 1\n",
    "#         co_author_vec[i] = 1\n",
    "    return co_author_vec\n",
    "X_train_features['co_author'] = np.vstack(train_df['authors'].apply(lambda x: coAuthor(x,author_network)).tolist())\n",
    "X_test_features['co_author'] = np.vstack(test_df['coauthors'].apply(lambda x: coAuthorVec(x,author_network)).tolist())"
   ]
  },
  {
   "cell_type": "markdown",
   "id": "4c8c8438-0a22-440c-bbd3-b316cb24b6b9",
   "metadata": {},
   "source": [
    "## Text Vectorization -- TFIDF vectorizer with PCA"
   ]
  },
  {
   "cell_type": "code",
   "execution_count": 12,
   "id": "dbb93899",
   "metadata": {
    "ExecuteTime": {
     "end_time": "2022-10-18T13:00:21.888810Z",
     "start_time": "2022-10-18T13:00:21.832744Z"
    }
   },
   "outputs": [
    {
     "data": {
      "text/plain": [
       "count    25793.000000\n",
       "mean       161.643934\n",
       "std         95.190936\n",
       "min         12.000000\n",
       "25%        114.000000\n",
       "50%        148.000000\n",
       "75%        188.000000\n",
       "max       2804.000000\n",
       "Name: abstract, dtype: float64"
      ]
     },
     "execution_count": 12,
     "metadata": {},
     "output_type": "execute_result"
    }
   ],
   "source": [
    "train_df['abstract'].apply(lambda x:len(x)).describe()"
   ]
  },
  {
   "cell_type": "code",
   "execution_count": 13,
   "id": "d176d072-694d-47e6-bc3f-1a9085e185c5",
   "metadata": {
    "ExecuteTime": {
     "end_time": "2022-10-18T13:00:21.917212Z",
     "start_time": "2022-10-18T13:00:21.891674Z"
    }
   },
   "outputs": [
    {
     "data": {
      "text/plain": [
       "count    25793.000000\n",
       "mean        20.226418\n",
       "std          8.079090\n",
       "min          1.000000\n",
       "25%         15.000000\n",
       "50%         19.000000\n",
       "75%         24.000000\n",
       "max        127.000000\n",
       "Name: title, dtype: float64"
      ]
     },
     "execution_count": 13,
     "metadata": {},
     "output_type": "execute_result"
    }
   ],
   "source": [
    "train_df['title'].apply(lambda x:len(x)).describe()"
   ]
  },
  {
   "cell_type": "code",
   "execution_count": 14,
   "id": "d6042598",
   "metadata": {
    "ExecuteTime": {
     "end_time": "2022-10-18T13:00:21.921823Z",
     "start_time": "2022-10-18T13:00:21.919545Z"
    }
   },
   "outputs": [],
   "source": [
    "#padding will not affect the similarity between two points\n",
    "# def padding(df,column):\n",
    "#     max_len = df[column].apply(lambda x:len(x)).max() + 1\n",
    "#     train_df[column+'_pad'] = [np.append(np.array(i),np.zeros(max_len-len(i),dtype=int)) for i in df[column]]\n",
    "# padding(train_df,'title')"
   ]
  },
  {
   "cell_type": "code",
   "execution_count": 15,
   "id": "c48b35d8-daac-472a-aa43-2b22f23df159",
   "metadata": {
    "ExecuteTime": {
     "end_time": "2022-10-18T13:00:22.267712Z",
     "start_time": "2022-10-18T13:00:21.923556Z"
    }
   },
   "outputs": [],
   "source": [
    "train_df['text'] = train_df['title']+train_df['abstract']\n",
    "test_df['text'] = test_df['title']+test_df['abstract']"
   ]
  },
  {
   "cell_type": "code",
   "execution_count": 16,
   "id": "c8a86874-7e4c-484d-8509-e4e76e3f0a33",
   "metadata": {
    "ExecuteTime": {
     "end_time": "2022-10-18T13:00:22.282000Z",
     "start_time": "2022-10-18T13:00:22.270233Z"
    }
   },
   "outputs": [],
   "source": [
    "def tfidf(df, column):\n",
    "    \n",
    "    documents = df[column]\n",
    "    N = df.shape[0]\n",
    "    tfidf_array = np.zeros((N,4999))\n",
    "\n",
    "    for i,doc in enumerate(documents):\n",
    "        for idx,freq in Counter(df[column][i]).most_common():\n",
    "            tfidf_array[i][idx-1] = freq\n",
    "    tfidf_df = pd.DataFrame(tfidf_array,columns=[i for i in range(1,5000)])\n",
    "    \n",
    "    df_sum_by_row = tfidf_df.sum(axis=1)\n",
    "    tfidf_df= tfidf_df.div(df_sum_by_row, axis = 'rows')\n",
    "    \n",
    "    idf = np.ones(4999)\n",
    "    for doc in documents:\n",
    "        for i in np.unique(doc):\n",
    "            idf[i-1] += 1\n",
    "    tfidf_df.loc[len(tfidf_df.index)] = np.log((N+1)/idf)\n",
    "\n",
    "    for i, row in tfidf_df.iterrows():\n",
    "        tfidf_df.loc[i] = tfidf_df.iloc[-1] * row\n",
    "    tfidf_df.fillna(0.0, inplace= True)\n",
    "    return tfidf_df.drop(N)"
   ]
  },
  {
   "cell_type": "code",
   "execution_count": 17,
   "id": "ef8890d2",
   "metadata": {
    "ExecuteTime": {
     "end_time": "2022-10-18T13:00:25.314367Z",
     "start_time": "2022-10-18T13:00:22.283616Z"
    }
   },
   "outputs": [
    {
     "data": {
      "text/plain": [
       "(25793, 4913)"
      ]
     },
     "execution_count": 17,
     "metadata": {},
     "output_type": "execute_result"
    }
   ],
   "source": [
    "#train_text_tfidf = tfidf(train_df, 'text')\n",
    "#test_text_tfidf = tfidf(test_df, 'text')\n",
    "vectorizer = TfidfVectorizer() #sparse=False\n",
    "train_text_tfidf = vectorizer.fit_transform(train_df['text'].apply(lambda x: str(x)))\n",
    "train_text_tfidf.shape"
   ]
  },
  {
   "cell_type": "code",
   "execution_count": 18,
   "id": "057099d3",
   "metadata": {
    "ExecuteTime": {
     "end_time": "2022-10-18T13:00:25.450428Z",
     "start_time": "2022-10-18T13:00:25.325665Z"
    }
   },
   "outputs": [
    {
     "data": {
      "text/plain": [
       "(800, 4913)"
      ]
     },
     "execution_count": 18,
     "metadata": {},
     "output_type": "execute_result"
    }
   ],
   "source": [
    "test_text_tfidf = vectorizer.transform(test_df['text'].apply(lambda x: str(x)))\n",
    "test_text_tfidf.shape"
   ]
  },
  {
   "cell_type": "code",
   "execution_count": 19,
   "id": "62a4a336-ca16-4311-bd58-30e080d6a8d2",
   "metadata": {
    "ExecuteTime": {
     "end_time": "2022-10-18T13:00:25.456230Z",
     "start_time": "2022-10-18T13:00:25.453484Z"
    }
   },
   "outputs": [],
   "source": [
    "X_train_features['text_vec_tfidf'] = train_text_tfidf\n",
    "X_test_features['text_vec_tfidf'] = test_text_tfidf"
   ]
  },
  {
   "cell_type": "code",
   "execution_count": null,
   "id": "f4913344",
   "metadata": {
    "ExecuteTime": {
     "end_time": "2022-10-17T13:05:18.688876Z",
     "start_time": "2022-10-17T13:05:18.686706Z"
    }
   },
   "outputs": [],
   "source": [
    "# text_tfidf_pca = PCA(n_components= 256)\n",
    "# text_tfidf_pca.fit(train_text_tfidf)"
   ]
  },
  {
   "cell_type": "code",
   "execution_count": null,
   "id": "81c9164e",
   "metadata": {
    "ExecuteTime": {
     "end_time": "2022-10-17T13:05:18.679341Z",
     "start_time": "2022-10-17T13:05:12.057960Z"
    }
   },
   "outputs": [],
   "source": [
    "svd = TruncatedSVD(n_components=256)\n",
    "svd.fit(train_text_tfidf)\n",
    "train_text_vec = svd.transform(train_text_tfidf)\n",
    "test_text_vec = svd.transform(test_text_tfidf)"
   ]
  },
  {
   "cell_type": "markdown",
   "id": "b9ee2bde",
   "metadata": {},
   "source": [
    "#### Doc2Vec Vectorizer"
   ]
  },
  {
   "cell_type": "code",
   "execution_count": 20,
   "id": "fabae0e0",
   "metadata": {
    "ExecuteTime": {
     "end_time": "2022-10-18T13:01:15.569531Z",
     "start_time": "2022-10-18T13:00:25.458001Z"
    }
   },
   "outputs": [],
   "source": [
    "documents = [TaggedDocument(doc, [i]) for i, doc in enumerate(train_df['text'].apply(lambda x: str(x)))]\n",
    "d2v_model = Doc2Vec(documents, vector_size=256, window=2, min_count=1, workers=4)"
   ]
  },
  {
   "cell_type": "code",
   "execution_count": 21,
   "id": "4b420f00",
   "metadata": {
    "ExecuteTime": {
     "end_time": "2022-10-18T13:01:30.118550Z",
     "start_time": "2022-10-18T13:01:15.571988Z"
    }
   },
   "outputs": [],
   "source": [
    "def conv2strVec(text):\n",
    "    return d2v_model.infer_vector([str(int) for int in text]).T\n",
    "train_text_d2v = train_df['text'].apply(conv2strVec)\n",
    "test_text_d2v = test_df['text'].apply(conv2strVec)"
   ]
  },
  {
   "cell_type": "code",
   "execution_count": 22,
   "id": "50985ae6",
   "metadata": {
    "ExecuteTime": {
     "end_time": "2022-10-18T13:01:30.178133Z",
     "start_time": "2022-10-18T13:01:30.120691Z"
    }
   },
   "outputs": [
    {
     "data": {
      "text/plain": [
       "(25793, 256)"
      ]
     },
     "execution_count": 22,
     "metadata": {},
     "output_type": "execute_result"
    }
   ],
   "source": [
    "np.vstack(train_text_d2v.values.tolist()).shape"
   ]
  },
  {
   "cell_type": "code",
   "execution_count": 23,
   "id": "03d88b6b",
   "metadata": {
    "ExecuteTime": {
     "end_time": "2022-10-18T13:01:30.225863Z",
     "start_time": "2022-10-18T13:01:30.180685Z"
    }
   },
   "outputs": [],
   "source": [
    "X_train_features['text_vec_d2v'] = np.vstack(train_text_d2v.values.tolist())\n",
    "X_test_features['text_vec_d2v'] = np.vstack(test_text_d2v.values.tolist())"
   ]
  },
  {
   "cell_type": "markdown",
   "id": "3022f1a3-b812-475f-bbe6-57fae272a549",
   "metadata": {},
   "source": [
    "## Venue Vectorization"
   ]
  },
  {
   "cell_type": "code",
   "execution_count": 24,
   "id": "36c24e23",
   "metadata": {
    "ExecuteTime": {
     "end_time": "2022-10-18T13:01:30.235430Z",
     "start_time": "2022-10-18T13:01:30.229184Z"
    }
   },
   "outputs": [],
   "source": [
    "# discrete data representation\n",
    "def onehotVenue(venue): # hand-code\n",
    "    venue_vec = np.zeros(466)\n",
    "    if venue == '':\n",
    "        venue_vec[-1] = 1\n",
    "    else:\n",
    "        venue_vec[venue] = 1\n",
    "    return venue_vec"
   ]
  },
  {
   "cell_type": "code",
   "execution_count": 25,
   "id": "7e90fde3-f459-41e7-acfc-c1045699b64a",
   "metadata": {
    "ExecuteTime": {
     "end_time": "2022-10-18T13:01:30.489387Z",
     "start_time": "2022-10-18T13:01:30.238727Z"
    }
   },
   "outputs": [],
   "source": [
    "X_train_features['venue_vec'] = np.vstack(train_df['venue'].apply(onehotVenue).tolist())\n",
    "X_test_features['venue_vec'] = np.vstack(test_df['venue'].apply(onehotVenue).tolist())"
   ]
  },
  {
   "cell_type": "markdown",
   "id": "00ed8a6f",
   "metadata": {},
   "source": [
    "## Concatenate All features"
   ]
  },
  {
   "cell_type": "code",
   "execution_count": 26,
   "id": "d9c0d17b",
   "metadata": {
    "ExecuteTime": {
     "end_time": "2022-10-18T13:01:32.929678Z",
     "start_time": "2022-10-18T13:01:30.491554Z"
    }
   },
   "outputs": [],
   "source": [
    "#if d2v:\n",
    "X_train_features = np.hstack([X_train_features[key] for key in ['co_author','text_vec_d2v','venue_vec']])\n",
    "X_test_features = np.hstack([X_test_features[key] for key in ['co_author','text_vec_d2v','venue_vec']])\n",
    "#else:\n",
    "# X_train_features = np.hstack([X_train_features[key] for key in ['co_author','text_vec_tfidf','venue_vec']])\n",
    "# X_test_features = np.hstack([X_test_features[key] for key in ['co_author','text_vec_tfidf','venue_vec']])"
   ]
  },
  {
   "cell_type": "code",
   "execution_count": 27,
   "id": "7183326d-78c6-4206-8d28-3f0ab92521f3",
   "metadata": {
    "ExecuteTime": {
     "end_time": "2022-10-18T13:01:32.936037Z",
     "start_time": "2022-10-18T13:01:32.931741Z"
    }
   },
   "outputs": [
    {
     "data": {
      "text/plain": [
       "(25793, 7298)"
      ]
     },
     "execution_count": 27,
     "metadata": {},
     "output_type": "execute_result"
    }
   ],
   "source": [
    "X_train_features.shape"
   ]
  },
  {
   "cell_type": "code",
   "execution_count": 28,
   "id": "5c3d12e1-86b2-4896-ad83-a2d53777d76b",
   "metadata": {
    "ExecuteTime": {
     "end_time": "2022-10-18T13:01:32.952873Z",
     "start_time": "2022-10-18T13:01:32.939986Z"
    }
   },
   "outputs": [
    {
     "data": {
      "text/plain": [
       "(800, 7298)"
      ]
     },
     "execution_count": 28,
     "metadata": {},
     "output_type": "execute_result"
    }
   ],
   "source": [
    "X_test_features.shape"
   ]
  },
  {
   "cell_type": "code",
   "execution_count": 29,
   "id": "6662dc09",
   "metadata": {
    "ExecuteTime": {
     "end_time": "2022-10-18T13:01:39.621968Z",
     "start_time": "2022-10-18T13:01:32.956189Z"
    }
   },
   "outputs": [],
   "source": [
    "scaler = StandardScaler()\n",
    "scaler.fit(X_train_features)\n",
    "X_train_scaled = scaler.transform(X_train_features)\n",
    "X_test_scaled = scaler.transform(X_test_features)"
   ]
  },
  {
   "cell_type": "code",
   "execution_count": 30,
   "id": "2dd651a3",
   "metadata": {
    "ExecuteTime": {
     "end_time": "2022-10-18T13:02:32.561991Z",
     "start_time": "2022-10-18T13:01:39.624922Z"
    }
   },
   "outputs": [],
   "source": [
    "X_train_scaled_pca = PCA(n_components= 1000)\n",
    "X_train_dim_re = X_train_scaled_pca.fit_transform(X_train_scaled)\n",
    "X_test_dim_re = X_train_scaled_pca.transform(X_test_scaled)"
   ]
  },
  {
   "cell_type": "markdown",
   "id": "07f9762a",
   "metadata": {},
   "source": [
    "# Classification Methods"
   ]
  },
  {
   "cell_type": "markdown",
   "id": "55566922",
   "metadata": {},
   "source": [
    "## Build model"
   ]
  },
  {
   "cell_type": "markdown",
   "id": "a583b6e9-5040-4692-97e7-905cff700955",
   "metadata": {},
   "source": [
    "### MLPClassifier -- Multi-label"
   ]
  },
  {
   "cell_type": "markdown",
   "id": "189c3a44",
   "metadata": {},
   "source": [
    "##### Semi-supervised machine learning to predict unlabeled datapoints with high confidence\n",
    "Since many of papers don't include any prolific authors, \n",
    "1. FIRST train model using labeled instances\n",
    "2. predict authorship based on prolific authors muted instances\n",
    "3. Then re-train model using combined dataset \n",
    "4. predict test dataset\n",
    "5. evaluate"
   ]
  },
  {
   "cell_type": "code",
   "execution_count": 31,
   "id": "9ec067f2",
   "metadata": {
    "ExecuteTime": {
     "end_time": "2022-10-18T13:02:32.713923Z",
     "start_time": "2022-10-18T13:02:32.578556Z"
    }
   },
   "outputs": [],
   "source": [
    "# split dataset\n",
    "X_train_sub, X_test_sub, y_train_sub, y_test_sub = train_test_split(X_train_dim_re[labeled_idx],y_train_label_hh[labeled_idx], test_size= .3, random_state = 54)"
   ]
  },
  {
   "cell_type": "code",
   "execution_count": 32,
   "id": "486bf3df-470e-48eb-b2fa-9d49288e6045",
   "metadata": {
    "ExecuteTime": {
     "end_time": "2022-10-18T13:03:19.390102Z",
     "start_time": "2022-10-18T13:02:32.717424Z"
    }
   },
   "outputs": [
    {
     "data": {
      "text/plain": [
       "MLPClassifier(batch_size=32, early_stopping=True, hidden_layer_sizes=(1001,),\n",
       "              learning_rate='invscaling', max_iter=300, random_state=54)"
      ]
     },
     "execution_count": 32,
     "metadata": {},
     "output_type": "execute_result"
    }
   ],
   "source": [
    "ssm_mlp_clf = MLPClassifier(hidden_layer_sizes=(1001,),\n",
    "                    activation='relu',\n",
    "                    solver='adam',\n",
    "                    learning_rate='invscaling',\n",
    "                    learning_rate_init=.001, \n",
    "                    batch_size=32,\n",
    "                    shuffle=True,\n",
    "                    random_state=54, \n",
    "                    max_iter=300,\n",
    "                    early_stopping=True)\n",
    "ssm_mlp_clf.fit(X_train_sub, y_train_sub)"
   ]
  },
  {
   "cell_type": "code",
   "execution_count": 33,
   "id": "b0ed15e3-7640-471c-8841-e63b635362cb",
   "metadata": {
    "ExecuteTime": {
     "end_time": "2022-10-18T13:03:19.656410Z",
     "start_time": "2022-10-18T13:03:19.405076Z"
    }
   },
   "outputs": [
    {
     "data": {
      "text/plain": [
       "0.9996808374824462"
      ]
     },
     "execution_count": 33,
     "metadata": {},
     "output_type": "execute_result"
    }
   ],
   "source": [
    "f1_score(y_true= y_train_sub, y_pred=ssm_mlp_clf.predict(X_train_sub), average='samples')"
   ]
  },
  {
   "cell_type": "code",
   "execution_count": 34,
   "id": "ca6724e3-1ba1-4f51-a89f-c6f92865bfd8",
   "metadata": {
    "ExecuteTime": {
     "end_time": "2022-10-18T13:03:19.784984Z",
     "start_time": "2022-10-18T13:03:19.659312Z"
    }
   },
   "outputs": [
    {
     "data": {
      "text/plain": [
       "0.9952005049860277"
      ]
     },
     "execution_count": 34,
     "metadata": {},
     "output_type": "execute_result"
    }
   ],
   "source": [
    "f1_score(y_true= y_test_sub, y_pred=ssm_mlp_clf.predict(X_test_sub), average='samples')"
   ]
  },
  {
   "cell_type": "code",
   "execution_count": 35,
   "id": "389dda84-a9eb-4df0-8d82-7f9045f92776",
   "metadata": {
    "ExecuteTime": {
     "end_time": "2022-10-18T13:03:20.438365Z",
     "start_time": "2022-10-18T13:03:19.791539Z"
    }
   },
   "outputs": [],
   "source": [
    "sample_unlabeled = random.sample(unlabeled_idx,math.ceil(X_train_scaled.shape[0]*.75-len(labeled_idx)))\n",
    "mlp_pred = ssm_mlp_clf.predict(X_train_dim_re[sample_unlabeled])"
   ]
  },
  {
   "cell_type": "code",
   "execution_count": 36,
   "id": "740adfcb",
   "metadata": {
    "ExecuteTime": {
     "end_time": "2022-10-18T13:03:20.448679Z",
     "start_time": "2022-10-18T13:03:20.440416Z"
    }
   },
   "outputs": [],
   "source": [
    "rest_unlabeled = list(set(unlabeled_idx).difference(set(sample_unlabeled)))"
   ]
  },
  {
   "cell_type": "code",
   "execution_count": 37,
   "id": "7cab9082-2b28-4cad-8739-3bc2a3683e78",
   "metadata": {
    "ExecuteTime": {
     "end_time": "2022-10-18T13:03:35.230427Z",
     "start_time": "2022-10-18T13:03:34.878425Z"
    }
   },
   "outputs": [],
   "source": [
    "X_train_mlp_aug = np.vstack([X_train_dim_re[labeled_idx],X_train_dim_re[sample_unlabeled],X_train_dim_re[rest_unlabeled ]])\n",
    "y_train_mlp_aug = np.vstack([y_train_label_hh[labeled_idx],mlp_pred,y_train_label_hh[rest_unlabeled ]])"
   ]
  },
  {
   "cell_type": "code",
   "execution_count": 38,
   "id": "8dc0a1db",
   "metadata": {
    "ExecuteTime": {
     "end_time": "2022-10-18T13:03:41.062628Z",
     "start_time": "2022-10-18T13:03:41.026957Z"
    }
   },
   "outputs": [],
   "source": [
    "shuffle_idx = random.shuffle([i for i in range(X_train_mlp_aug.shape[0])])\n",
    "shuffle_idx"
   ]
  },
  {
   "cell_type": "code",
   "execution_count": 39,
   "id": "133a7849",
   "metadata": {
    "ExecuteTime": {
     "end_time": "2022-10-18T13:03:44.303516Z",
     "start_time": "2022-10-18T13:03:44.292554Z"
    }
   },
   "outputs": [
    {
     "data": {
      "text/plain": [
       "(25793, 1000)"
      ]
     },
     "execution_count": 39,
     "metadata": {},
     "output_type": "execute_result"
    }
   ],
   "source": [
    "X_train_mlp_aug[shuffle_idx][0].shape"
   ]
  },
  {
   "cell_type": "code",
   "execution_count": 40,
   "id": "6791b104",
   "metadata": {
    "ExecuteTime": {
     "end_time": "2022-10-18T13:04:22.625112Z",
     "start_time": "2022-10-18T13:04:22.495550Z"
    }
   },
   "outputs": [],
   "source": [
    "X_train_ssm_aug, X_test_ssm_aug, y_train_ssm_aug, y_test_ssm_aug = train_test_split(X_train_mlp_aug[shuffle_idx][0],y_train_mlp_aug[shuffle_idx][0],train_size=.7, test_size= .3, random_state = 54)"
   ]
  },
  {
   "cell_type": "code",
   "execution_count": 41,
   "id": "e46c6a4f-83d4-4fb6-b460-99f9ecb3a4de",
   "metadata": {
    "ExecuteTime": {
     "end_time": "2022-10-18T13:08:17.656723Z",
     "start_time": "2022-10-18T13:05:45.474249Z"
    }
   },
   "outputs": [
    {
     "data": {
      "text/plain": [
       "MLPClassifier(batch_size=32, early_stopping=True, hidden_layer_sizes=(1001,),\n",
       "              learning_rate='invscaling', max_iter=300, random_state=54)"
      ]
     },
     "execution_count": 41,
     "metadata": {},
     "output_type": "execute_result"
    }
   ],
   "source": [
    "ssm_mlp_clf.fit(X_train_ssm_aug, y_train_ssm_aug)"
   ]
  },
  {
   "cell_type": "code",
   "execution_count": 42,
   "id": "9a6046f0",
   "metadata": {
    "ExecuteTime": {
     "end_time": "2022-10-18T13:08:18.423408Z",
     "start_time": "2022-10-18T13:08:17.660102Z"
    }
   },
   "outputs": [
    {
     "name": "stderr",
     "output_type": "stream",
     "text": [
      "/Users/qiuziyi/opt/anaconda3/envs/stats/lib/python3.6/site-packages/sklearn/metrics/_classification.py:1496: UndefinedMetricWarning: F-score is ill-defined and being set to 0.0 in samples with no true nor predicted labels. Use `zero_division` parameter to control this behavior.\n",
      "  average, \"true nor predicted\", 'F-score is', len(true_sum)\n"
     ]
    },
    {
     "data": {
      "text/plain": [
       "0.32660570113907134"
      ]
     },
     "execution_count": 42,
     "metadata": {},
     "output_type": "execute_result"
    }
   ],
   "source": [
    "f1_score(y_true= y_train_ssm_aug, y_pred=ssm_mlp_clf.predict(X_train_ssm_aug), average='samples')"
   ]
  },
  {
   "cell_type": "code",
   "execution_count": 43,
   "id": "3a688974-dee4-4c69-a95d-35a53cff1558",
   "metadata": {
    "ExecuteTime": {
     "end_time": "2022-10-18T13:08:18.736691Z",
     "start_time": "2022-10-18T13:08:18.428165Z"
    }
   },
   "outputs": [
    {
     "name": "stderr",
     "output_type": "stream",
     "text": [
      "/Users/qiuziyi/opt/anaconda3/envs/stats/lib/python3.6/site-packages/sklearn/metrics/_classification.py:1496: UndefinedMetricWarning: F-score is ill-defined and being set to 0.0 in samples with no true nor predicted labels. Use `zero_division` parameter to control this behavior.\n",
      "  average, \"true nor predicted\", 'F-score is', len(true_sum)\n"
     ]
    },
    {
     "data": {
      "text/plain": [
       "0.3039715045013572"
      ]
     },
     "execution_count": 43,
     "metadata": {},
     "output_type": "execute_result"
    }
   ],
   "source": [
    "f1_score(y_true= y_test_ssm_aug, y_pred=ssm_mlp_clf.predict(X_test_ssm_aug), average='samples')"
   ]
  },
  {
   "cell_type": "markdown",
   "id": "2b2fffd1",
   "metadata": {},
   "source": [
    "##### Data augmentation by dupilate same points to balance training dataset"
   ]
  },
  {
   "cell_type": "code",
   "execution_count": 44,
   "id": "eaedf88d",
   "metadata": {
    "ExecuteTime": {
     "end_time": "2022-10-18T13:09:03.151339Z",
     "start_time": "2022-10-18T13:09:03.145422Z"
    }
   },
   "outputs": [],
   "source": [
    "duplicate_rate = math.ceil((len(unlabeled_idx) /.25 - len(labeled_idx + unlabeled_idx) )/len(labeled_idx))"
   ]
  },
  {
   "cell_type": "code",
   "execution_count": 45,
   "id": "0a975d23",
   "metadata": {
    "ExecuteTime": {
     "end_time": "2022-10-18T13:09:03.710644Z",
     "start_time": "2022-10-18T13:09:03.650418Z"
    }
   },
   "outputs": [],
   "source": [
    "dup_idx = labeled_idx *7+unlabeled_idx\n",
    "random.shuffle(dup_idx)"
   ]
  },
  {
   "cell_type": "code",
   "execution_count": 46,
   "id": "ffb4c876",
   "metadata": {
    "ExecuteTime": {
     "end_time": "2022-10-18T13:09:05.328247Z",
     "start_time": "2022-10-18T13:09:05.289400Z"
    }
   },
   "outputs": [
    {
     "data": {
      "text/plain": [
       "(70553, 101)"
      ]
     },
     "execution_count": 46,
     "metadata": {},
     "output_type": "execute_result"
    }
   ],
   "source": [
    "y_train_label_hh[dup_idx].shape"
   ]
  },
  {
   "cell_type": "code",
   "execution_count": 47,
   "id": "994babf2",
   "metadata": {
    "ExecuteTime": {
     "end_time": "2022-10-18T13:09:07.687002Z",
     "start_time": "2022-10-18T13:09:06.994203Z"
    }
   },
   "outputs": [],
   "source": [
    "X_train_dup, X_test_dup, y_train_dup, y_test_dup = train_test_split(X_train_dim_re[dup_idx],y_train_label_hh[dup_idx], test_size= .3, random_state = 54)"
   ]
  },
  {
   "cell_type": "code",
   "execution_count": 48,
   "id": "cca1f360",
   "metadata": {
    "ExecuteTime": {
     "end_time": "2022-10-18T13:19:24.224532Z",
     "start_time": "2022-10-18T13:09:15.170463Z"
    }
   },
   "outputs": [
    {
     "data": {
      "text/plain": [
       "MLPClassifier(batch_size=32, early_stopping=True, hidden_layer_sizes=(1001,),\n",
       "              learning_rate='invscaling', max_iter=300, random_state=54)"
      ]
     },
     "execution_count": 48,
     "metadata": {},
     "output_type": "execute_result"
    }
   ],
   "source": [
    "mlp_clf = MLPClassifier(hidden_layer_sizes=(1001,),\n",
    "                    activation='relu',\n",
    "                    solver='adam',\n",
    "                    learning_rate='invscaling',\n",
    "                    learning_rate_init=.001, \n",
    "                    batch_size=32,\n",
    "                    shuffle=True,\n",
    "                    random_state=54, \n",
    "                    max_iter=300,\n",
    "                    early_stopping=True)\n",
    "mlp_clf.fit(X_train_dup, y_train_dup)"
   ]
  },
  {
   "cell_type": "code",
   "execution_count": 49,
   "id": "ce2f5749",
   "metadata": {
    "ExecuteTime": {
     "end_time": "2022-10-18T13:19:26.791903Z",
     "start_time": "2022-10-18T13:19:24.233375Z"
    }
   },
   "outputs": [
    {
     "data": {
      "text/plain": [
       "0.9996827775190501"
      ]
     },
     "execution_count": 49,
     "metadata": {},
     "output_type": "execute_result"
    }
   ],
   "source": [
    "f1_score(y_true= y_train_dup, y_pred=mlp_clf.predict(X_train_dup), average='samples')"
   ]
  },
  {
   "cell_type": "code",
   "execution_count": 50,
   "id": "e2ed3593",
   "metadata": {
    "ExecuteTime": {
     "end_time": "2022-10-18T13:19:28.064088Z",
     "start_time": "2022-10-18T13:19:26.795347Z"
    }
   },
   "outputs": [
    {
     "data": {
      "text/plain": [
       "0.9992440706793915"
      ]
     },
     "execution_count": 50,
     "metadata": {},
     "output_type": "execute_result"
    }
   ],
   "source": [
    "f1_score(y_true= y_test_dup, y_pred=mlp_clf.predict(X_test_dup), average='samples')"
   ]
  },
  {
   "cell_type": "code",
   "execution_count": 51,
   "id": "ea4674ae-6852-4004-8c7d-968df86873ac",
   "metadata": {
    "ExecuteTime": {
     "end_time": "2022-10-18T13:19:28.126626Z",
     "start_time": "2022-10-18T13:19:28.066293Z"
    }
   },
   "outputs": [],
   "source": [
    "pred_final = mlp_clf.predict(X_test_dim_re)"
   ]
  },
  {
   "cell_type": "markdown",
   "id": "8918a9f7-5cd7-45a7-bcb2-314bd719a759",
   "metadata": {},
   "source": [
    "### SVMClassifier ( 'one-vs-one' ) -- Multi-class "
   ]
  },
  {
   "cell_type": "markdown",
   "id": "60d53925",
   "metadata": {},
   "source": [
    "### SVD"
   ]
  },
  {
   "cell_type": "code",
   "execution_count": null,
   "id": "041a9e17",
   "metadata": {
    "ExecuteTime": {
     "end_time": "2022-10-15T15:21:24.946333Z",
     "start_time": "2022-10-15T15:20:46.981398Z"
    }
   },
   "outputs": [],
   "source": [
    "final_svd = TruncatedSVD(n_components=500)\n",
    "final_svd.fit(X_train_scaled)\n",
    "X_train_reduced = final_svd.transform(X_train_scaled)\n",
    "X_test_reduced  = final_svd.transform(X_test_scaled)"
   ]
  },
  {
   "cell_type": "code",
   "execution_count": null,
   "id": "1916c882",
   "metadata": {
    "ExecuteTime": {
     "end_time": "2022-10-15T15:21:24.993421Z",
     "start_time": "2022-10-15T15:21:24.951705Z"
    }
   },
   "outputs": [],
   "source": [
    "svm_dup_rate = math.ceil((len(unlabeled_idx) /.25 - len(split_mutli_label_idx + unlabeled_idx) )/len(split_mutli_label_idx))"
   ]
  },
  {
   "cell_type": "code",
   "execution_count": null,
   "id": "e25fb77f",
   "metadata": {
    "ExecuteTime": {
     "end_time": "2022-10-15T15:21:25.167115Z",
     "start_time": "2022-10-15T15:21:24.997290Z"
    }
   },
   "outputs": [],
   "source": [
    "X_train_reduced[split_mutli_label_idx+unlabeled_idx].shape"
   ]
  },
  {
   "cell_type": "code",
   "execution_count": null,
   "id": "7b405d93",
   "metadata": {
    "ExecuteTime": {
     "end_time": "2022-10-15T15:21:25.332744Z",
     "start_time": "2022-10-15T15:21:25.177835Z"
    }
   },
   "outputs": [],
   "source": [
    "svm_dup_idx = [i for i in range(len(y_train_label))]*svm_dup_rate + unlabeled_idx\n",
    "random.shuffle(svm_dup_idx)"
   ]
  },
  {
   "cell_type": "code",
   "execution_count": null,
   "id": "afd0aa57",
   "metadata": {
    "ExecuteTime": {
     "end_time": "2022-10-15T15:21:25.590031Z",
     "start_time": "2022-10-15T15:21:25.334749Z"
    }
   },
   "outputs": [],
   "source": [
    "X_train_svm_dup = X_train_reduced[split_mutli_label_idx+unlabeled_idx][svm_dup_idx]\n",
    "y_train_svm_dup = np.ravel((np.array(y_train_label+[-1]*len(unlabeled_idx))[svm_dup_idx]).reshape(-1,1).T)"
   ]
  },
  {
   "cell_type": "code",
   "execution_count": null,
   "id": "9a657bb5",
   "metadata": {
    "ExecuteTime": {
     "end_time": "2022-10-15T15:21:25.840280Z",
     "start_time": "2022-10-15T15:21:25.611407Z"
    }
   },
   "outputs": [],
   "source": [
    "X_train_svm, X_test_svm, y_train_svm, y_test_svm = train_test_split(X_train_svm_dup,y_train_svm_dup, test_size= .3, random_state = 54)"
   ]
  },
  {
   "cell_type": "code",
   "execution_count": null,
   "id": "ec3470a6",
   "metadata": {
    "ExecuteTime": {
     "start_time": "2022-10-15T15:21:49.040Z"
    }
   },
   "outputs": [],
   "source": [
    "svm_param_grid = {'C': [.001, .1, 1, 10], #0.1, 1, 10, 100\n",
    "              'kernel': ['rbf']} \n",
    "svm_model = GridSearchCV(SVC(probability=True,\n",
    "                             decision_function_shape='ovr',\n",
    "                             class_weight = 'balanced',\n",
    "                             degree=3, \n",
    "                             random_state= 54),\n",
    "                         svm_param_grid, cv=5)\n",
    "  \n",
    "svm_model.fit(X_train_svm, y_train_svm)"
   ]
  },
  {
   "cell_type": "code",
   "execution_count": null,
   "id": "ad33a639-c645-4582-b94b-3d08cd9d1d5b",
   "metadata": {
    "ExecuteTime": {
     "start_time": "2022-10-15T15:21:51.110Z"
    }
   },
   "outputs": [],
   "source": [
    "# View the accuracy score\n",
    "print('Best score for training data:', svm_model.best_score_,\"\\n\") \n",
    "\n",
    "# View the best parameters for the model found using grid search\n",
    "print('Best C:',svm_model.best_estimator_.C,\"\\n\") \n",
    "print('Best Kernel:',svm_model.best_estimator_.kernel,\"\\n\")\n",
    "print('Best Gamma:',svm_model.best_estimator_.gamma,\"\\n\")\n",
    "\n",
    "final_svm_model = svm_model.best_estimator_"
   ]
  },
  {
   "cell_type": "code",
   "execution_count": null,
   "id": "63d8ce25",
   "metadata": {
    "ExecuteTime": {
     "start_time": "2022-10-15T15:21:59.170Z"
    }
   },
   "outputs": [],
   "source": [
    "train_svm_pred = final_svm_model.predict_proba(X_train_svm)"
   ]
  },
  {
   "cell_type": "code",
   "execution_count": null,
   "id": "3d7d4ebc",
   "metadata": {
    "ExecuteTime": {
     "start_time": "2022-10-15T15:22:00.269Z"
    }
   },
   "outputs": [],
   "source": [
    "train_svm_pred_m = final_svm_model.predict(X_train_svm)"
   ]
  },
  {
   "cell_type": "code",
   "execution_count": null,
   "id": "8dcf5153",
   "metadata": {
    "ExecuteTime": {
     "start_time": "2022-10-15T15:22:00.736Z"
    }
   },
   "outputs": [],
   "source": [
    "f1_score(y_train_svm,train_svm_pred_m,average=\"micro\")"
   ]
  },
  {
   "cell_type": "code",
   "execution_count": null,
   "id": "1f06c0c5",
   "metadata": {
    "ExecuteTime": {
     "start_time": "2022-10-15T15:22:01.136Z"
    }
   },
   "outputs": [],
   "source": [
    "f1_score(y_test_svm,final_svm_model.predict(X_test_svm),average=\"micro\")"
   ]
  },
  {
   "cell_type": "code",
   "execution_count": null,
   "id": "91982851",
   "metadata": {
    "ExecuteTime": {
     "start_time": "2022-10-15T15:22:03.172Z"
    }
   },
   "outputs": [],
   "source": [
    "svm_pred = final_svm_model.predict(final_svd.transform(X_test_scaled))"
   ]
  },
  {
   "cell_type": "markdown",
   "id": "f367b8c6",
   "metadata": {},
   "source": [
    "## Save prediction"
   ]
  },
  {
   "cell_type": "code",
   "execution_count": 52,
   "id": "0716bfe7-70a5-45d3-9ae4-f696a4f10747",
   "metadata": {
    "ExecuteTime": {
     "end_time": "2022-10-18T13:21:20.842591Z",
     "start_time": "2022-10-18T13:21:20.804302Z"
    },
    "scrolled": true,
    "tags": []
   },
   "outputs": [],
   "source": [
    "def scal(p):\n",
    "    if list(np.unique(p)) == [0]:\n",
    "        return -1\n",
    "    elif p[-1]==1:\n",
    "        return -1\n",
    "    else:\n",
    "        return list(np.where(p[:-1]==1)[0]) \n",
    "pred = [scal(i) for i in pred_final]"
   ]
  },
  {
   "cell_type": "code",
   "execution_count": 53,
   "id": "dec2008b-565d-4f0c-afad-e494f4bfbbe5",
   "metadata": {
    "ExecuteTime": {
     "end_time": "2022-10-18T13:21:21.331574Z",
     "start_time": "2022-10-18T13:21:21.320069Z"
    }
   },
   "outputs": [],
   "source": [
    "output = {'Id': [i for i in range(X_test_features.shape[0])],'Predict':pred}"
   ]
  },
  {
   "cell_type": "code",
   "execution_count": 54,
   "id": "39c186e4",
   "metadata": {
    "ExecuteTime": {
     "end_time": "2022-10-18T13:21:21.544579Z",
     "start_time": "2022-10-18T13:21:21.479303Z"
    }
   },
   "outputs": [],
   "source": [
    "pred_df = pd.DataFrame(output,index= None)"
   ]
  },
  {
   "cell_type": "code",
   "execution_count": 56,
   "id": "667545c2-843c-4e54-ab65-3eee2617ea37",
   "metadata": {
    "ExecuteTime": {
     "end_time": "2022-10-18T13:21:22.780066Z",
     "start_time": "2022-10-18T13:21:22.577050Z"
    }
   },
   "outputs": [],
   "source": [
    "pred_df.to_csv('predictions.csv')"
   ]
  }
 ],
 "metadata": {
  "kernelspec": {
   "display_name": "Python 3",
   "language": "python",
   "name": "python3"
  },
  "language_info": {
   "codemirror_mode": {
    "name": "ipython",
    "version": 3
   },
   "file_extension": ".py",
   "mimetype": "text/x-python",
   "name": "python",
   "nbconvert_exporter": "python",
   "pygments_lexer": "ipython3",
   "version": "3.6.13"
  },
  "latex_envs": {
   "LaTeX_envs_menu_present": true,
   "autoclose": false,
   "autocomplete": true,
   "bibliofile": "biblio.bib",
   "cite_by": "apalike",
   "current_citInitial": 1,
   "eqLabelWithNumbers": true,
   "eqNumInitial": 1,
   "hotkeys": {
    "equation": "Ctrl-E",
    "itemize": "Ctrl-I"
   },
   "labels_anchors": false,
   "latex_user_defs": false,
   "report_style_numbering": false,
   "user_envs_cfg": false
  },
  "toc": {
   "base_numbering": 1,
   "nav_menu": {},
   "number_sections": true,
   "sideBar": true,
   "skip_h1_title": false,
   "title_cell": "Table of Contents",
   "title_sidebar": "Contents",
   "toc_cell": false,
   "toc_position": {},
   "toc_section_display": true,
   "toc_window_display": false
  }
 },
 "nbformat": 4,
 "nbformat_minor": 5
}
